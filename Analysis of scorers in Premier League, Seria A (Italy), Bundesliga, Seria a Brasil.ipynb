{
 "cells": [
  {
   "cell_type": "markdown",
   "id": "b290d6b5",
   "metadata": {},
   "source": [
    "# Анализ игры футбольных нападающих современной эпохи в лучших европейских топ-лигах . Их кластеризация с аспекта их \"опастности\" для вражеских ворот"
   ]
  },
  {
   "cell_type": "markdown",
   "id": "19b369e2",
   "metadata": {},
   "source": [
    "## Описание проблемы"
   ]
  },
  {
   "cell_type": "markdown",
   "id": "1a4248ed",
   "metadata": {},
   "source": [
    "###### Аналитические и статистические методы становтся все более популярными в современном футболе. Их активно используют для выбора оптимальной тактики для команды, состава для определенной игры , пищевого рациона футболистов, их эффективности и т.д. . К примеру, лучшие футбольные клубы мира, как \"Ливерпуль\", \"Милан\", \"Бавария\" являются активными пользователями всех этих методов. Также важна не только аналитка признаков, свойственных игрокам и клубам в ныненшний момент, но и аналитика тех признаков, которые были свойственны им в прошлом. Это характерна и для нашей проблемы. Целью этого исследования является разделения нападающих лучших футбольных лиг на классы, которые будут характеризировать их эффективность с точки зрения опастности для чужих ворот. Это исследование будет полезно в сравнительной ипостаси для руководителей клубов, тренеров, спортивных аналитиков и просто любителей спорта. Оно сможет ответить на следующие вопросы. Какие характеристики имеют лучшие нападающие в наше время? Какой характеристики свойственны среднему уровню нападающих? Как изменился уровень нападающих в ходе истории? Насколько сильно лучшие нападающие прошлого отличаются от лучших нападающих современного периода? Какая была статистика у игрока, играющего в будущем, в этом периоде? Прогрессирует ли он или же, наоборот, регрессирует? Стоит ли покупать этого игрока или не стоит? Стоит ли продать этого игрока или нет? На самом деле, вопрос можно задать довольно много и это исследование, как раз и создано для того, чтобы ответить на них"
   ]
  },
  {
   "cell_type": "markdown",
   "id": "a948ddce",
   "metadata": {},
   "source": [
    "## Источник данных"
   ]
  },
  {
   "cell_type": "markdown",
   "id": "20faea6d",
   "metadata": {},
   "source": [
    "###### Данные взяты с сайте Kaggle. Ссылка на датасет: https://www.kaggle.com/datasets/mohamedhanyyy/top-football-leagues-scorers. Собственно, в датасете предствленны данные по нападающим за 2016-2020 год из 4 лиг: Seria A (Италия), Bundesliga (Германия), Premier League (Англия), Seria A Brasil (Бразилия). "
   ]
  },
  {
   "cell_type": "markdown",
   "id": "3964ae67",
   "metadata": {},
   "source": [
    "## Перейдем к анализу"
   ]
  },
  {
   "cell_type": "code",
   "execution_count": 77,
   "id": "69260653",
   "metadata": {},
   "outputs": [],
   "source": [
    "import pandas as pd\n",
    "\n",
    "import numpy as np\n",
    "\n",
    "import plotly.express as pl\n",
    "\n",
    "import seaborn as sea\n",
    "\n",
    "import sklearn\n",
    "\n",
    "import matplotlib.pyplot as plt"
   ]
  },
  {
   "cell_type": "code",
   "execution_count": 78,
   "id": "d9de5441",
   "metadata": {},
   "outputs": [],
   "source": [
    "rora = pd.read_csv(r\"D:\\Data.csv\", encoding = 'utf-8-sig', delimiter = ',')\n",
    "\n",
    "df = pd.DataFrame(rora)"
   ]
  },
  {
   "cell_type": "markdown",
   "id": "f8719353",
   "metadata": {},
   "source": [
    "# Описательная данных"
   ]
  },
  {
   "cell_type": "code",
   "execution_count": 79,
   "id": "3c7ec37c",
   "metadata": {},
   "outputs": [
    {
     "data": {
      "text/html": [
       "<div>\n",
       "<style scoped>\n",
       "    .dataframe tbody tr th:only-of-type {\n",
       "        vertical-align: middle;\n",
       "    }\n",
       "\n",
       "    .dataframe tbody tr th {\n",
       "        vertical-align: top;\n",
       "    }\n",
       "\n",
       "    .dataframe thead th {\n",
       "        text-align: right;\n",
       "    }\n",
       "</style>\n",
       "<table border=\"1\" class=\"dataframe\">\n",
       "  <thead>\n",
       "    <tr style=\"text-align: right;\">\n",
       "      <th></th>\n",
       "      <th>Country</th>\n",
       "      <th>League</th>\n",
       "      <th>Club</th>\n",
       "      <th>Player Names</th>\n",
       "      <th>Matches_Played</th>\n",
       "      <th>Substitution</th>\n",
       "      <th>Mins</th>\n",
       "      <th>Goals</th>\n",
       "      <th>xG</th>\n",
       "      <th>xG Per Avg Match</th>\n",
       "      <th>Shots</th>\n",
       "      <th>OnTarget</th>\n",
       "      <th>Shots Per Avg Match</th>\n",
       "      <th>On Target Per Avg Match</th>\n",
       "      <th>Year</th>\n",
       "    </tr>\n",
       "  </thead>\n",
       "  <tbody>\n",
       "    <tr>\n",
       "      <th>0</th>\n",
       "      <td>Spain</td>\n",
       "      <td>La Liga</td>\n",
       "      <td>(BET)</td>\n",
       "      <td>Juanmi Callejon</td>\n",
       "      <td>19</td>\n",
       "      <td>16</td>\n",
       "      <td>1849</td>\n",
       "      <td>11</td>\n",
       "      <td>6.62</td>\n",
       "      <td>0.34</td>\n",
       "      <td>48</td>\n",
       "      <td>20</td>\n",
       "      <td>2.47</td>\n",
       "      <td>1.03</td>\n",
       "      <td>2016</td>\n",
       "    </tr>\n",
       "    <tr>\n",
       "      <th>1</th>\n",
       "      <td>Spain</td>\n",
       "      <td>La Liga</td>\n",
       "      <td>(BAR)</td>\n",
       "      <td>Antoine Griezmann</td>\n",
       "      <td>36</td>\n",
       "      <td>0</td>\n",
       "      <td>3129</td>\n",
       "      <td>16</td>\n",
       "      <td>11.86</td>\n",
       "      <td>0.36</td>\n",
       "      <td>88</td>\n",
       "      <td>41</td>\n",
       "      <td>2.67</td>\n",
       "      <td>1.24</td>\n",
       "      <td>2016</td>\n",
       "    </tr>\n",
       "    <tr>\n",
       "      <th>2</th>\n",
       "      <td>Spain</td>\n",
       "      <td>La Liga</td>\n",
       "      <td>(ATL)</td>\n",
       "      <td>Luis Suarez</td>\n",
       "      <td>34</td>\n",
       "      <td>1</td>\n",
       "      <td>2940</td>\n",
       "      <td>28</td>\n",
       "      <td>23.21</td>\n",
       "      <td>0.75</td>\n",
       "      <td>120</td>\n",
       "      <td>57</td>\n",
       "      <td>3.88</td>\n",
       "      <td>1.84</td>\n",
       "      <td>2016</td>\n",
       "    </tr>\n",
       "    <tr>\n",
       "      <th>3</th>\n",
       "      <td>Spain</td>\n",
       "      <td>La Liga</td>\n",
       "      <td>(CAR)</td>\n",
       "      <td>Ruben Castro</td>\n",
       "      <td>32</td>\n",
       "      <td>3</td>\n",
       "      <td>2842</td>\n",
       "      <td>13</td>\n",
       "      <td>14.06</td>\n",
       "      <td>0.47</td>\n",
       "      <td>117</td>\n",
       "      <td>42</td>\n",
       "      <td>3.91</td>\n",
       "      <td>1.40</td>\n",
       "      <td>2016</td>\n",
       "    </tr>\n",
       "    <tr>\n",
       "      <th>4</th>\n",
       "      <td>Spain</td>\n",
       "      <td>La Liga</td>\n",
       "      <td>(VAL)</td>\n",
       "      <td>Kevin Gameiro</td>\n",
       "      <td>21</td>\n",
       "      <td>10</td>\n",
       "      <td>1745</td>\n",
       "      <td>13</td>\n",
       "      <td>10.65</td>\n",
       "      <td>0.58</td>\n",
       "      <td>50</td>\n",
       "      <td>23</td>\n",
       "      <td>2.72</td>\n",
       "      <td>1.25</td>\n",
       "      <td>2016</td>\n",
       "    </tr>\n",
       "  </tbody>\n",
       "</table>\n",
       "</div>"
      ],
      "text/plain": [
       "  Country   League   Club       Player Names  Matches_Played  Substitution   \\\n",
       "0   Spain  La Liga  (BET)    Juanmi Callejon              19             16   \n",
       "1   Spain  La Liga  (BAR)  Antoine Griezmann              36              0   \n",
       "2   Spain  La Liga  (ATL)        Luis Suarez              34              1   \n",
       "3   Spain  La Liga  (CAR)       Ruben Castro              32              3   \n",
       "4   Spain  La Liga  (VAL)      Kevin Gameiro              21             10   \n",
       "\n",
       "   Mins  Goals     xG  xG Per Avg Match  Shots  OnTarget  Shots Per Avg Match  \\\n",
       "0  1849     11   6.62              0.34     48        20                 2.47   \n",
       "1  3129     16  11.86              0.36     88        41                 2.67   \n",
       "2  2940     28  23.21              0.75    120        57                 3.88   \n",
       "3  2842     13  14.06              0.47    117        42                 3.91   \n",
       "4  1745     13  10.65              0.58     50        23                 2.72   \n",
       "\n",
       "   On Target Per Avg Match  Year  \n",
       "0                     1.03  2016  \n",
       "1                     1.24  2016  \n",
       "2                     1.84  2016  \n",
       "3                     1.40  2016  \n",
       "4                     1.25  2016  "
      ]
     },
     "execution_count": 79,
     "metadata": {},
     "output_type": "execute_result"
    }
   ],
   "source": [
    "df.head()"
   ]
  },
  {
   "cell_type": "markdown",
   "id": "303bc8fa",
   "metadata": {},
   "source": [
    "###### Сосбтвенны, первые четыре столбца относятся к номинальной шкале, так как это просто имена, чтобы отличить один объект от другого.  Country  говорит о том, в какой стране играет футболист, Leaugue  - о лиге, в которой он играет, Club - аббревиатура футбольного клуба, а Player Names его имя и фамилия. Year говорит о том, какая статистика была у футболиста за сезон года, представленно в столбце Year. Этот признак будет относится к интеравальной шкале,  так как время как такое это довольно абстрактная характерстика, которой может не быть. Mathches_Played показывает, сколько матчей игрок сыграл за сезон. Substitution же показывает, сколько раз игрока заменили за сезон. Mins - сколько минут он сыграл за сезон. Goals - сколько голов забил за сезон. xG  - математическая величина, которая говорит о том, сколько голевых шансов была создано игроком за сезон.  xG Per Avg Match, в свою очередь, показывает сколько голевых моментов в среднем создает за матч игрок. Shots - количество ударов. On Target - количество ударов в створ. Shots Per Avg Match - среднее количество ударов за матч. On Target Per Avg Match - среднее количество ударов вствор. Все перечисленные после Year признаки относятся к относительной шкале, так как у них всех есть абсолютный ноль (0 сыгранных матчей, 0 ударов, 0 xG и т.д.) . Сомнения может вызвать столбец Mins, но и он является относительным, так как, фактически, игрок мог бы сыграть 0 минут за сезон. Но не все данные нам нужны для анализа. От каких-то мы избавимся, а какие-то добавим."
   ]
  },
  {
   "cell_type": "code",
   "execution_count": 80,
   "id": "e0a924af",
   "metadata": {},
   "outputs": [],
   "source": [
    "df = df.drop(columns = ['Country', 'League', 'Club', 'Year'])"
   ]
  },
  {
   "cell_type": "code",
   "execution_count": 81,
   "id": "1ed908e0",
   "metadata": {},
   "outputs": [],
   "source": [
    "df.head()\n",
    "\n",
    "df['Experience'] = 1"
   ]
  },
  {
   "cell_type": "markdown",
   "id": "0c366a3c",
   "metadata": {},
   "source": [
    "##### Добавили еще один столбец, где единица будет обозначать один сезон, в котором играл игрок. После группировки получим суммароное количество лет, которые играл игрок"
   ]
  },
  {
   "cell_type": "code",
   "execution_count": 82,
   "id": "a37da73f",
   "metadata": {},
   "outputs": [],
   "source": [
    "lola = df.groupby('Player Names').sum()"
   ]
  },
  {
   "cell_type": "code",
   "execution_count": 83,
   "id": "e78de692",
   "metadata": {},
   "outputs": [],
   "source": [
    "haha = pd.DataFrame(lola)"
   ]
  },
  {
   "cell_type": "code",
   "execution_count": 84,
   "id": "81379452",
   "metadata": {},
   "outputs": [],
   "source": [
    "haha = lola.reset_index()"
   ]
  },
  {
   "cell_type": "code",
   "execution_count": 85,
   "id": "1bf1f7e6",
   "metadata": {},
   "outputs": [
    {
     "data": {
      "text/html": [
       "<div>\n",
       "<style scoped>\n",
       "    .dataframe tbody tr th:only-of-type {\n",
       "        vertical-align: middle;\n",
       "    }\n",
       "\n",
       "    .dataframe tbody tr th {\n",
       "        vertical-align: top;\n",
       "    }\n",
       "\n",
       "    .dataframe thead th {\n",
       "        text-align: right;\n",
       "    }\n",
       "</style>\n",
       "<table border=\"1\" class=\"dataframe\">\n",
       "  <thead>\n",
       "    <tr style=\"text-align: right;\">\n",
       "      <th></th>\n",
       "      <th>Player Names</th>\n",
       "      <th>Matches_Played</th>\n",
       "      <th>Substitution</th>\n",
       "      <th>Mins</th>\n",
       "      <th>Goals</th>\n",
       "      <th>xG</th>\n",
       "      <th>xG Per Avg Match</th>\n",
       "      <th>Shots</th>\n",
       "      <th>OnTarget</th>\n",
       "      <th>Shots Per Avg Match</th>\n",
       "      <th>On Target Per Avg Match</th>\n",
       "      <th>Experience</th>\n",
       "    </tr>\n",
       "  </thead>\n",
       "  <tbody>\n",
       "    <tr>\n",
       "      <th>0</th>\n",
       "      <td>Abdou Harroui</td>\n",
       "      <td>10</td>\n",
       "      <td>0</td>\n",
       "      <td>834</td>\n",
       "      <td>4</td>\n",
       "      <td>1.93</td>\n",
       "      <td>0.22</td>\n",
       "      <td>24</td>\n",
       "      <td>13</td>\n",
       "      <td>2.73</td>\n",
       "      <td>1.48</td>\n",
       "      <td>1</td>\n",
       "    </tr>\n",
       "    <tr>\n",
       "      <th>1</th>\n",
       "      <td>Adrien Hunou</td>\n",
       "      <td>13</td>\n",
       "      <td>10</td>\n",
       "      <td>1325</td>\n",
       "      <td>8</td>\n",
       "      <td>7.25</td>\n",
       "      <td>0.52</td>\n",
       "      <td>28</td>\n",
       "      <td>15</td>\n",
       "      <td>2.01</td>\n",
       "      <td>1.08</td>\n",
       "      <td>1</td>\n",
       "    </tr>\n",
       "    <tr>\n",
       "      <th>2</th>\n",
       "      <td>Adrien Thomasson</td>\n",
       "      <td>24</td>\n",
       "      <td>1</td>\n",
       "      <td>2168</td>\n",
       "      <td>7</td>\n",
       "      <td>5.25</td>\n",
       "      <td>0.23</td>\n",
       "      <td>50</td>\n",
       "      <td>18</td>\n",
       "      <td>2.19</td>\n",
       "      <td>0.79</td>\n",
       "      <td>1</td>\n",
       "    </tr>\n",
       "    <tr>\n",
       "      <th>3</th>\n",
       "      <td>Aduriz</td>\n",
       "      <td>27</td>\n",
       "      <td>5</td>\n",
       "      <td>2480</td>\n",
       "      <td>16</td>\n",
       "      <td>15.92</td>\n",
       "      <td>0.61</td>\n",
       "      <td>85</td>\n",
       "      <td>45</td>\n",
       "      <td>3.26</td>\n",
       "      <td>1.72</td>\n",
       "      <td>1</td>\n",
       "    </tr>\n",
       "    <tr>\n",
       "      <th>4</th>\n",
       "      <td>Alassane Plea</td>\n",
       "      <td>53</td>\n",
       "      <td>8</td>\n",
       "      <td>4865</td>\n",
       "      <td>22</td>\n",
       "      <td>22.90</td>\n",
       "      <td>0.90</td>\n",
       "      <td>160</td>\n",
       "      <td>76</td>\n",
       "      <td>6.27</td>\n",
       "      <td>2.97</td>\n",
       "      <td>2</td>\n",
       "    </tr>\n",
       "  </tbody>\n",
       "</table>\n",
       "</div>"
      ],
      "text/plain": [
       "       Player Names  Matches_Played  Substitution   Mins  Goals     xG  \\\n",
       "0     Abdou Harroui              10              0   834      4   1.93   \n",
       "1      Adrien Hunou              13             10  1325      8   7.25   \n",
       "2  Adrien Thomasson              24              1  2168      7   5.25   \n",
       "3           Aduriz               27              5  2480     16  15.92   \n",
       "4     Alassane Plea              53              8  4865     22  22.90   \n",
       "\n",
       "   xG Per Avg Match  Shots  OnTarget  Shots Per Avg Match  \\\n",
       "0              0.22     24        13                 2.73   \n",
       "1              0.52     28        15                 2.01   \n",
       "2              0.23     50        18                 2.19   \n",
       "3              0.61     85        45                 3.26   \n",
       "4              0.90    160        76                 6.27   \n",
       "\n",
       "   On Target Per Avg Match  Experience  \n",
       "0                     1.48           1  \n",
       "1                     1.08           1  \n",
       "2                     0.79           1  \n",
       "3                     1.72           1  \n",
       "4                     2.97           2  "
      ]
     },
     "execution_count": 85,
     "metadata": {},
     "output_type": "execute_result"
    }
   ],
   "source": [
    "haha.head()"
   ]
  },
  {
   "cell_type": "markdown",
   "id": "a4dd3c49",
   "metadata": {},
   "source": [
    "##### Собственно, получили новый датасет, где в каждом ряду имеем суммарную статистику за все четыре года. Теперь посчитаем средние значения по годам по нужным показателям"
   ]
  },
  {
   "cell_type": "code",
   "execution_count": 86,
   "id": "e5ff8c6f",
   "metadata": {},
   "outputs": [],
   "source": [
    "for i in list(haha)[1:11]:\n",
    "    haha[i] = round(haha[i]/haha['Experience'],2) ### Делим каждый показатель на Experience (количество сезонов, в которых играл игрок), чтобы получить данные о том, какую статистику в среднем имел игрок за сезон"
   ]
  },
  {
   "cell_type": "code",
   "execution_count": 87,
   "id": "550ee928",
   "metadata": {},
   "outputs": [
    {
     "data": {
      "text/html": [
       "<div>\n",
       "<style scoped>\n",
       "    .dataframe tbody tr th:only-of-type {\n",
       "        vertical-align: middle;\n",
       "    }\n",
       "\n",
       "    .dataframe tbody tr th {\n",
       "        vertical-align: top;\n",
       "    }\n",
       "\n",
       "    .dataframe thead th {\n",
       "        text-align: right;\n",
       "    }\n",
       "</style>\n",
       "<table border=\"1\" class=\"dataframe\">\n",
       "  <thead>\n",
       "    <tr style=\"text-align: right;\">\n",
       "      <th></th>\n",
       "      <th>Player Names</th>\n",
       "      <th>Matches_Played</th>\n",
       "      <th>Substitution</th>\n",
       "      <th>Mins</th>\n",
       "      <th>Goals</th>\n",
       "      <th>xG</th>\n",
       "      <th>xG Per Avg Match</th>\n",
       "      <th>Shots</th>\n",
       "      <th>OnTarget</th>\n",
       "      <th>Shots Per Avg Match</th>\n",
       "      <th>On Target Per Avg Match</th>\n",
       "      <th>Experience</th>\n",
       "    </tr>\n",
       "  </thead>\n",
       "  <tbody>\n",
       "    <tr>\n",
       "      <th>0</th>\n",
       "      <td>Abdou Harroui</td>\n",
       "      <td>10.0</td>\n",
       "      <td>0.0</td>\n",
       "      <td>834.0</td>\n",
       "      <td>4.0</td>\n",
       "      <td>1.93</td>\n",
       "      <td>0.22</td>\n",
       "      <td>24.0</td>\n",
       "      <td>13.0</td>\n",
       "      <td>2.73</td>\n",
       "      <td>1.48</td>\n",
       "      <td>1</td>\n",
       "    </tr>\n",
       "    <tr>\n",
       "      <th>1</th>\n",
       "      <td>Adrien Hunou</td>\n",
       "      <td>13.0</td>\n",
       "      <td>10.0</td>\n",
       "      <td>1325.0</td>\n",
       "      <td>8.0</td>\n",
       "      <td>7.25</td>\n",
       "      <td>0.52</td>\n",
       "      <td>28.0</td>\n",
       "      <td>15.0</td>\n",
       "      <td>2.01</td>\n",
       "      <td>1.08</td>\n",
       "      <td>1</td>\n",
       "    </tr>\n",
       "    <tr>\n",
       "      <th>2</th>\n",
       "      <td>Adrien Thomasson</td>\n",
       "      <td>24.0</td>\n",
       "      <td>1.0</td>\n",
       "      <td>2168.0</td>\n",
       "      <td>7.0</td>\n",
       "      <td>5.25</td>\n",
       "      <td>0.23</td>\n",
       "      <td>50.0</td>\n",
       "      <td>18.0</td>\n",
       "      <td>2.19</td>\n",
       "      <td>0.79</td>\n",
       "      <td>1</td>\n",
       "    </tr>\n",
       "    <tr>\n",
       "      <th>3</th>\n",
       "      <td>Aduriz</td>\n",
       "      <td>27.0</td>\n",
       "      <td>5.0</td>\n",
       "      <td>2480.0</td>\n",
       "      <td>16.0</td>\n",
       "      <td>15.92</td>\n",
       "      <td>0.61</td>\n",
       "      <td>85.0</td>\n",
       "      <td>45.0</td>\n",
       "      <td>3.26</td>\n",
       "      <td>1.72</td>\n",
       "      <td>1</td>\n",
       "    </tr>\n",
       "    <tr>\n",
       "      <th>4</th>\n",
       "      <td>Alassane Plea</td>\n",
       "      <td>26.5</td>\n",
       "      <td>4.0</td>\n",
       "      <td>2432.5</td>\n",
       "      <td>11.0</td>\n",
       "      <td>11.45</td>\n",
       "      <td>0.45</td>\n",
       "      <td>80.0</td>\n",
       "      <td>38.0</td>\n",
       "      <td>3.14</td>\n",
       "      <td>1.48</td>\n",
       "      <td>2</td>\n",
       "    </tr>\n",
       "  </tbody>\n",
       "</table>\n",
       "</div>"
      ],
      "text/plain": [
       "       Player Names  Matches_Played  Substitution     Mins  Goals     xG  \\\n",
       "0     Abdou Harroui            10.0            0.0   834.0    4.0   1.93   \n",
       "1      Adrien Hunou            13.0           10.0  1325.0    8.0   7.25   \n",
       "2  Adrien Thomasson            24.0            1.0  2168.0    7.0   5.25   \n",
       "3           Aduriz             27.0            5.0  2480.0   16.0  15.92   \n",
       "4     Alassane Plea            26.5            4.0  2432.5   11.0  11.45   \n",
       "\n",
       "   xG Per Avg Match  Shots  OnTarget  Shots Per Avg Match  \\\n",
       "0              0.22   24.0      13.0                 2.73   \n",
       "1              0.52   28.0      15.0                 2.01   \n",
       "2              0.23   50.0      18.0                 2.19   \n",
       "3              0.61   85.0      45.0                 3.26   \n",
       "4              0.45   80.0      38.0                 3.14   \n",
       "\n",
       "   On Target Per Avg Match  Experience  \n",
       "0                     1.48           1  \n",
       "1                     1.08           1  \n",
       "2                     0.79           1  \n",
       "3                     1.72           1  \n",
       "4                     1.48           2  "
      ]
     },
     "execution_count": 87,
     "metadata": {},
     "output_type": "execute_result"
    }
   ],
   "source": [
    "haha.head()"
   ]
  },
  {
   "cell_type": "markdown",
   "id": "8549e724",
   "metadata": {},
   "source": [
    "#### Получили нужный нам датасет и теперь может переходить к описательной статистики, визуализации, а затем к кластеризации. Но перед этим уберем столбец 'Goals', так как он может вести в небольшую дезинформацию. К примеру, игрок играл два года,в первом году он забил 30 голов, а во втором году лежал травмированный. Тогда он забил только 15 голов за сезон, что не совсем объективно. В этом отношение коэффицикент xG информативнее.  Также уберем Shots и On Target"
   ]
  },
  {
   "cell_type": "code",
   "execution_count": 88,
   "id": "ef3a2bad",
   "metadata": {},
   "outputs": [],
   "source": [
    "finale = haha.drop(columns = ['Player Names', 'Goals', 'Shots', 'OnTarget'])"
   ]
  },
  {
   "cell_type": "code",
   "execution_count": 89,
   "id": "c379d7b7",
   "metadata": {},
   "outputs": [],
   "source": [
    "finale['Matches_Played'] = np.floor(finale['Matches_Played'])\n",
    "finale[list(finale)[1]] = np.floor(finale[list(finale)[1]]) ### тут мы работаем со столбцом Substitution."
   ]
  },
  {
   "cell_type": "code",
   "execution_count": 90,
   "id": "18ce2e95",
   "metadata": {},
   "outputs": [
    {
     "data": {
      "text/html": [
       "<div>\n",
       "<style scoped>\n",
       "    .dataframe tbody tr th:only-of-type {\n",
       "        vertical-align: middle;\n",
       "    }\n",
       "\n",
       "    .dataframe tbody tr th {\n",
       "        vertical-align: top;\n",
       "    }\n",
       "\n",
       "    .dataframe thead th {\n",
       "        text-align: right;\n",
       "    }\n",
       "</style>\n",
       "<table border=\"1\" class=\"dataframe\">\n",
       "  <thead>\n",
       "    <tr style=\"text-align: right;\">\n",
       "      <th></th>\n",
       "      <th>Matches_Played_per season</th>\n",
       "      <th>Substitution _per season</th>\n",
       "      <th>Mins_per season</th>\n",
       "      <th>xG_per season</th>\n",
       "      <th>xG Per Avg Match_per season</th>\n",
       "      <th>Shots Per Avg Match_per season</th>\n",
       "      <th>On Target Per Avg Match_per season</th>\n",
       "      <th>Experience</th>\n",
       "    </tr>\n",
       "  </thead>\n",
       "  <tbody>\n",
       "    <tr>\n",
       "      <th>0</th>\n",
       "      <td>10.0</td>\n",
       "      <td>0.0</td>\n",
       "      <td>834.0</td>\n",
       "      <td>1.93</td>\n",
       "      <td>0.22</td>\n",
       "      <td>2.73</td>\n",
       "      <td>1.48</td>\n",
       "      <td>1</td>\n",
       "    </tr>\n",
       "    <tr>\n",
       "      <th>1</th>\n",
       "      <td>13.0</td>\n",
       "      <td>10.0</td>\n",
       "      <td>1325.0</td>\n",
       "      <td>7.25</td>\n",
       "      <td>0.52</td>\n",
       "      <td>2.01</td>\n",
       "      <td>1.08</td>\n",
       "      <td>1</td>\n",
       "    </tr>\n",
       "    <tr>\n",
       "      <th>2</th>\n",
       "      <td>24.0</td>\n",
       "      <td>1.0</td>\n",
       "      <td>2168.0</td>\n",
       "      <td>5.25</td>\n",
       "      <td>0.23</td>\n",
       "      <td>2.19</td>\n",
       "      <td>0.79</td>\n",
       "      <td>1</td>\n",
       "    </tr>\n",
       "    <tr>\n",
       "      <th>3</th>\n",
       "      <td>27.0</td>\n",
       "      <td>5.0</td>\n",
       "      <td>2480.0</td>\n",
       "      <td>15.92</td>\n",
       "      <td>0.61</td>\n",
       "      <td>3.26</td>\n",
       "      <td>1.72</td>\n",
       "      <td>1</td>\n",
       "    </tr>\n",
       "    <tr>\n",
       "      <th>4</th>\n",
       "      <td>26.0</td>\n",
       "      <td>4.0</td>\n",
       "      <td>2432.5</td>\n",
       "      <td>11.45</td>\n",
       "      <td>0.45</td>\n",
       "      <td>3.14</td>\n",
       "      <td>1.48</td>\n",
       "      <td>2</td>\n",
       "    </tr>\n",
       "  </tbody>\n",
       "</table>\n",
       "</div>"
      ],
      "text/plain": [
       "   Matches_Played_per season  Substitution _per season  Mins_per season  \\\n",
       "0                       10.0                       0.0            834.0   \n",
       "1                       13.0                      10.0           1325.0   \n",
       "2                       24.0                       1.0           2168.0   \n",
       "3                       27.0                       5.0           2480.0   \n",
       "4                       26.0                       4.0           2432.5   \n",
       "\n",
       "   xG_per season  xG Per Avg Match_per season  Shots Per Avg Match_per season  \\\n",
       "0           1.93                         0.22                            2.73   \n",
       "1           7.25                         0.52                            2.01   \n",
       "2           5.25                         0.23                            2.19   \n",
       "3          15.92                         0.61                            3.26   \n",
       "4          11.45                         0.45                            3.14   \n",
       "\n",
       "   On Target Per Avg Match_per season  Experience  \n",
       "0                                1.48           1  \n",
       "1                                1.08           1  \n",
       "2                                0.79           1  \n",
       "3                                1.72           1  \n",
       "4                                1.48           2  "
      ]
     },
     "execution_count": 90,
     "metadata": {},
     "output_type": "execute_result"
    }
   ],
   "source": [
    "\n",
    "\n",
    "finale = finale.add_suffix('_per season')\n",
    "\n",
    "finale = finale.rename(columns = {'Experience_per season': 'Experience'})\n",
    "\n",
    "finale.head()"
   ]
  },
  {
   "cell_type": "markdown",
   "id": "a8fe3a79",
   "metadata": {},
   "source": [
    "## Описательная статистика"
   ]
  },
  {
   "cell_type": "code",
   "execution_count": 121,
   "id": "eff832a0",
   "metadata": {},
   "outputs": [
    {
     "data": {
      "text/html": [
       "<div>\n",
       "<style scoped>\n",
       "    .dataframe tbody tr th:only-of-type {\n",
       "        vertical-align: middle;\n",
       "    }\n",
       "\n",
       "    .dataframe tbody tr th {\n",
       "        vertical-align: top;\n",
       "    }\n",
       "\n",
       "    .dataframe thead th {\n",
       "        text-align: right;\n",
       "    }\n",
       "</style>\n",
       "<table border=\"1\" class=\"dataframe\">\n",
       "  <thead>\n",
       "    <tr style=\"text-align: right;\">\n",
       "      <th></th>\n",
       "      <th>count</th>\n",
       "      <th>mean</th>\n",
       "      <th>std</th>\n",
       "      <th>min</th>\n",
       "      <th>25%</th>\n",
       "      <th>50%</th>\n",
       "      <th>75%</th>\n",
       "      <th>max</th>\n",
       "    </tr>\n",
       "  </thead>\n",
       "  <tbody>\n",
       "    <tr>\n",
       "      <th>Mins_per season</th>\n",
       "      <td>444.0</td>\n",
       "      <td>2015.321914</td>\n",
       "      <td>807.158734</td>\n",
       "      <td>280.00</td>\n",
       "      <td>1496.0025</td>\n",
       "      <td>2150.000</td>\n",
       "      <td>2616.0500</td>\n",
       "      <td>3931.00</td>\n",
       "    </tr>\n",
       "    <tr>\n",
       "      <th>xG Per Avg Match_per season</th>\n",
       "      <td>444.0</td>\n",
       "      <td>0.445788</td>\n",
       "      <td>0.162332</td>\n",
       "      <td>0.07</td>\n",
       "      <td>0.3300</td>\n",
       "      <td>0.420</td>\n",
       "      <td>0.5325</td>\n",
       "      <td>1.10</td>\n",
       "    </tr>\n",
       "    <tr>\n",
       "      <th>Shots Per Avg Match_per season</th>\n",
       "      <td>444.0</td>\n",
       "      <td>2.810946</td>\n",
       "      <td>0.789752</td>\n",
       "      <td>0.80</td>\n",
       "      <td>2.2875</td>\n",
       "      <td>2.775</td>\n",
       "      <td>3.2325</td>\n",
       "      <td>6.28</td>\n",
       "    </tr>\n",
       "    <tr>\n",
       "      <th>On Target Per Avg Match_per season</th>\n",
       "      <td>444.0</td>\n",
       "      <td>1.239437</td>\n",
       "      <td>0.393487</td>\n",
       "      <td>0.24</td>\n",
       "      <td>0.9600</td>\n",
       "      <td>1.205</td>\n",
       "      <td>1.4700</td>\n",
       "      <td>2.89</td>\n",
       "    </tr>\n",
       "    <tr>\n",
       "      <th>Experience</th>\n",
       "      <td>444.0</td>\n",
       "      <td>1.486486</td>\n",
       "      <td>0.932143</td>\n",
       "      <td>1.00</td>\n",
       "      <td>1.0000</td>\n",
       "      <td>1.000</td>\n",
       "      <td>2.0000</td>\n",
       "      <td>5.00</td>\n",
       "    </tr>\n",
       "    <tr>\n",
       "      <th>On Target Shots/ Shots</th>\n",
       "      <td>444.0</td>\n",
       "      <td>0.444752</td>\n",
       "      <td>0.086568</td>\n",
       "      <td>0.23</td>\n",
       "      <td>0.3900</td>\n",
       "      <td>0.440</td>\n",
       "      <td>0.4900</td>\n",
       "      <td>0.83</td>\n",
       "    </tr>\n",
       "  </tbody>\n",
       "</table>\n",
       "</div>"
      ],
      "text/plain": [
       "                                    count         mean         std     min  \\\n",
       "Mins_per season                     444.0  2015.321914  807.158734  280.00   \n",
       "xG Per Avg Match_per season         444.0     0.445788    0.162332    0.07   \n",
       "Shots Per Avg Match_per season      444.0     2.810946    0.789752    0.80   \n",
       "On Target Per Avg Match_per season  444.0     1.239437    0.393487    0.24   \n",
       "Experience                          444.0     1.486486    0.932143    1.00   \n",
       "On Target Shots/ Shots              444.0     0.444752    0.086568    0.23   \n",
       "\n",
       "                                          25%       50%        75%      max  \n",
       "Mins_per season                     1496.0025  2150.000  2616.0500  3931.00  \n",
       "xG Per Avg Match_per season            0.3300     0.420     0.5325     1.10  \n",
       "Shots Per Avg Match_per season         2.2875     2.775     3.2325     6.28  \n",
       "On Target Per Avg Match_per season     0.9600     1.205     1.4700     2.89  \n",
       "Experience                             1.0000     1.000     2.0000     5.00  \n",
       "On Target Shots/ Shots                 0.3900     0.440     0.4900     0.83  "
      ]
     },
     "execution_count": 121,
     "metadata": {},
     "output_type": "execute_result"
    }
   ],
   "source": [
    "finale.describe().T"
   ]
  },
  {
   "cell_type": "markdown",
   "id": "25c12f27",
   "metadata": {},
   "source": []
  },
  {
   "cell_type": "markdown",
   "id": "26102eee",
   "metadata": {},
   "source": [
    "### Переходим к визуализации"
   ]
  },
  {
   "cell_type": "code",
   "execution_count": 91,
   "id": "a2eb7e29",
   "metadata": {},
   "outputs": [
    {
     "data": {
      "text/plain": [
       "<AxesSubplot:xlabel='Substitution _per season', ylabel='Count'>"
      ]
     },
     "execution_count": 91,
     "metadata": {},
     "output_type": "execute_result"
    },
    {
     "data": {
      "image/png": "[encoded data removed]",
      "text/plain": [
       "<Figure size 720x720 with 6 Axes>"
      ]
     },
     "metadata": {
      "needs_background": "light"
     },
     "output_type": "display_data"
    }
   ],
   "source": [
    "fig, axes = plt.subplots(3,2, figsize = (10,10))\n",
    "sea.histplot(finale, x = 'xG Per Avg Match_per season', ax = axes[0][0])\n",
    "sea.histplot(finale, x = 'On Target Per Avg Match_per season', ax = axes[1][0])\n",
    "sea.histplot(finale, x = 'Shots Per Avg Match_per season', ax = axes[2][0])\n",
    "sea.histplot(finale, x = 'Experience', ax = axes[0][1]) ### здесь скорее по смыслу большое barplot заложен\n",
    "sea.histplot(finale, x = 'Mins_per season', ax = axes[1][1])\n",
    "sea.histplot(finale, x = list(finale)[1], ax = axes[2][1])\n"
   ]
  },
  {
   "cell_type": "markdown",
   "id": "32c9a991",
   "metadata": {},
   "source": [
    "###### Уже из имеющихся графиков можно сделать достаточно много интересных выводов о наших данных. Во-первых, заметим, что средний xG за матч, среднее количество ударов за матч, среднее количество ударов в створ за матч имеет распределение, довольно близкое к норамльному. То есть, к примеру, для большинства нападающих ( которых, кстати, можно рассматривать как средний уровень) xG должен находится на уровни от 0.3 до 0.5 . Выше будут находится нападаюищие более высокого класса, а ниже будут находится нападающие низкого класса. Для среднего количества ударов в створ за матч средний уровень где-то в районе от 0.7 до 1.5, а для ударов за матч где-то от 2 до 3. Предлагаю посчитать еще один показатель, который будет считать долю ударов в створ от всех ударов. Может быть довольно информативным. А назовем его 'On Target Shots/Shots'\n",
    "###### Также давайте посмотрим на барплот касающийся количества лет, которые играют нападающие. Видим, что большинство играет от 1 года до 2, в то время как больше 3 лет играет довольно малое количество игроков. Можно составить несколько гипотез. Первая: на уровне лучших футбольныз лиг средним нападающим продержатся более двух лет довольно сложно. По итогу остаются только самые лучшие. Вторая: возможно, какая-то часть игроков, активно отыгравших до 2016 года, решила именно в период с 2016 по 2017 завершить свою карьеру.  Более вероятным кажется первый вариант, так как в топ-клубах позиции нападающих часто являются несменяемыми несколько лет к ряду, в то время как для середняков и индердогов характерна частая ротация футблистов.\n",
    "###### Также заметим, что среднее количество сыгранных минут за матч также имеет распределение, похожее на нормальное. Большинсво игроков играет примерно от 2000 до 2500 минут за сезон. По заменам все в целом понятно. Чаще всего меняеют игроков полузащиты, фланогов, так как у них более энергозатратная роль, а нападающих меняют редко, ведь физическая нагрузка в плане бега, контроля мяча у них будет однозначно поменьше"
   ]
  },
  {
   "cell_type": "code",
   "execution_count": 92,
   "id": "a129fe15",
   "metadata": {},
   "outputs": [],
   "source": [
    "finale['On Target Shots/ Shots'] = finale['On Target Per Avg Match_per season']/finale['Shots Per Avg Match_per season']\n",
    "finale['Minutes per Match'] = finale['Mins_per season']/finale['Matches_Played_per season']"
   ]
  },
  {
   "cell_type": "code",
   "execution_count": 93,
   "id": "a13be223",
   "metadata": {},
   "outputs": [
    {
     "data": {
      "text/plain": [
       "<AxesSubplot:xlabel='Minutes per Match', ylabel='Count'>"
      ]
     },
     "execution_count": 93,
     "metadata": {},
     "output_type": "execute_result"
    },
    {
     "data": {
      "image/png": "[encoded data removed]",
      "text/plain": [
       "<Figure size 720x720 with 3 Axes>"
      ]
     },
     "metadata": {
      "needs_background": "light"
     },
     "output_type": "display_data"
    }
   ],
   "source": [
    "foga, axes1 = plt.subplots(3,1, figsize = (10,10))\n",
    "sea.histplot(finale, x = 'Matches_Played_per season', ax = axes1[0])\n",
    "sea.histplot(finale, x = 'On Target Shots/ Shots', ax = axes1[1])\n",
    "sea.histplot(finale, x = 'Minutes per Match', ax = axes1[2])"
   ]
  },
  {
   "cell_type": "markdown",
   "id": "cc12e349",
   "metadata": {},
   "source": [
    "###### Как видно из первого графика сверху, большинство  играет от 24 до 30 матчей за сезон. Но тут интересено второй график. Как видно, у нас получилось бимодальное распределение. У большинства игроков доля точноности составляет от 0.4 до 0.5. То есть, примерно каждый второй удар - в створ. Интересен и выброс. У некоторых игроков доля точности составляет 0.8, что разительно выделяет их от всех остальной массы. Кстати, придумал еще один показатель: а сколько минут в среденм каждый игрок проводит за матч. Есть довольно странные значения вроде 120, 140, что может говорить о неточности в данных, но можно однозначно выявить большинство, а оно, свою очередь, чаще всего играет от 80 до 90 минут. То есть, нападающих чаще всего меняют именно в этот временной промежуток."
   ]
  },
  {
   "cell_type": "markdown",
   "id": "4750a651",
   "metadata": {},
   "source": [
    "##### Собственно, теперь перейдем к дальнейшему, только заранее уберем некоторые столбцы, которые в кластеризации не очень сильно понадобятся"
   ]
  },
  {
   "cell_type": "markdown",
   "id": "e5421fb5",
   "metadata": {},
   "source": [
    "## Датасет до удаления нескольких столбцов"
   ]
  },
  {
   "cell_type": "code",
   "execution_count": 95,
   "id": "8db53162",
   "metadata": {},
   "outputs": [
    {
     "data": {
      "text/html": [
       "<div>\n",
       "<style scoped>\n",
       "    .dataframe tbody tr th:only-of-type {\n",
       "        vertical-align: middle;\n",
       "    }\n",
       "\n",
       "    .dataframe tbody tr th {\n",
       "        vertical-align: top;\n",
       "    }\n",
       "\n",
       "    .dataframe thead th {\n",
       "        text-align: right;\n",
       "    }\n",
       "</style>\n",
       "<table border=\"1\" class=\"dataframe\">\n",
       "  <thead>\n",
       "    <tr style=\"text-align: right;\">\n",
       "      <th></th>\n",
       "      <th>Matches_Played_per season</th>\n",
       "      <th>Substitution _per season</th>\n",
       "      <th>Mins_per season</th>\n",
       "      <th>xG_per season</th>\n",
       "      <th>xG Per Avg Match_per season</th>\n",
       "      <th>Shots Per Avg Match_per season</th>\n",
       "      <th>On Target Per Avg Match_per season</th>\n",
       "      <th>Experience</th>\n",
       "      <th>On Target Shots/ Shots</th>\n",
       "      <th>Minutes per Match</th>\n",
       "    </tr>\n",
       "  </thead>\n",
       "  <tbody>\n",
       "    <tr>\n",
       "      <th>0</th>\n",
       "      <td>10.0</td>\n",
       "      <td>0.0</td>\n",
       "      <td>834.0</td>\n",
       "      <td>1.93</td>\n",
       "      <td>0.22</td>\n",
       "      <td>2.73</td>\n",
       "      <td>1.48</td>\n",
       "      <td>1</td>\n",
       "      <td>0.542125</td>\n",
       "      <td>83.400000</td>\n",
       "    </tr>\n",
       "    <tr>\n",
       "      <th>1</th>\n",
       "      <td>13.0</td>\n",
       "      <td>10.0</td>\n",
       "      <td>1325.0</td>\n",
       "      <td>7.25</td>\n",
       "      <td>0.52</td>\n",
       "      <td>2.01</td>\n",
       "      <td>1.08</td>\n",
       "      <td>1</td>\n",
       "      <td>0.537313</td>\n",
       "      <td>101.923077</td>\n",
       "    </tr>\n",
       "    <tr>\n",
       "      <th>2</th>\n",
       "      <td>24.0</td>\n",
       "      <td>1.0</td>\n",
       "      <td>2168.0</td>\n",
       "      <td>5.25</td>\n",
       "      <td>0.23</td>\n",
       "      <td>2.19</td>\n",
       "      <td>0.79</td>\n",
       "      <td>1</td>\n",
       "      <td>0.360731</td>\n",
       "      <td>90.333333</td>\n",
       "    </tr>\n",
       "    <tr>\n",
       "      <th>3</th>\n",
       "      <td>27.0</td>\n",
       "      <td>5.0</td>\n",
       "      <td>2480.0</td>\n",
       "      <td>15.92</td>\n",
       "      <td>0.61</td>\n",
       "      <td>3.26</td>\n",
       "      <td>1.72</td>\n",
       "      <td>1</td>\n",
       "      <td>0.527607</td>\n",
       "      <td>91.851852</td>\n",
       "    </tr>\n",
       "    <tr>\n",
       "      <th>4</th>\n",
       "      <td>26.0</td>\n",
       "      <td>4.0</td>\n",
       "      <td>2432.5</td>\n",
       "      <td>11.45</td>\n",
       "      <td>0.45</td>\n",
       "      <td>3.14</td>\n",
       "      <td>1.48</td>\n",
       "      <td>2</td>\n",
       "      <td>0.471338</td>\n",
       "      <td>93.557692</td>\n",
       "    </tr>\n",
       "  </tbody>\n",
       "</table>\n",
       "</div>"
      ],
      "text/plain": [
       "   Matches_Played_per season  Substitution _per season  Mins_per season  \\\n",
       "0                       10.0                       0.0            834.0   \n",
       "1                       13.0                      10.0           1325.0   \n",
       "2                       24.0                       1.0           2168.0   \n",
       "3                       27.0                       5.0           2480.0   \n",
       "4                       26.0                       4.0           2432.5   \n",
       "\n",
       "   xG_per season  xG Per Avg Match_per season  Shots Per Avg Match_per season  \\\n",
       "0           1.93                         0.22                            2.73   \n",
       "1           7.25                         0.52                            2.01   \n",
       "2           5.25                         0.23                            2.19   \n",
       "3          15.92                         0.61                            3.26   \n",
       "4          11.45                         0.45                            3.14   \n",
       "\n",
       "   On Target Per Avg Match_per season  Experience  On Target Shots/ Shots  \\\n",
       "0                                1.48           1                0.542125   \n",
       "1                                1.08           1                0.537313   \n",
       "2                                0.79           1                0.360731   \n",
       "3                                1.72           1                0.527607   \n",
       "4                                1.48           2                0.471338   \n",
       "\n",
       "   Minutes per Match  \n",
       "0          83.400000  \n",
       "1         101.923077  \n",
       "2          90.333333  \n",
       "3          91.851852  \n",
       "4          93.557692  "
      ]
     },
     "execution_count": 95,
     "metadata": {},
     "output_type": "execute_result"
    }
   ],
   "source": [
    "finale.head()"
   ]
  },
  {
   "cell_type": "code",
   "execution_count": 96,
   "id": "907baab7",
   "metadata": {},
   "outputs": [],
   "source": [
    "finale = finale.drop(columns = ['Matches_Played_per season', list(finale)[1], 'Minutes per Match', 'xG_per season'])"
   ]
  },
  {
   "cell_type": "markdown",
   "id": "d3956caf",
   "metadata": {},
   "source": [
    "## Датасет после удаления некоторых столбцов"
   ]
  },
  {
   "cell_type": "code",
   "execution_count": 98,
   "id": "03cf5ea6",
   "metadata": {},
   "outputs": [
    {
     "data": {
      "text/html": [
       "<div>\n",
       "<style scoped>\n",
       "    .dataframe tbody tr th:only-of-type {\n",
       "        vertical-align: middle;\n",
       "    }\n",
       "\n",
       "    .dataframe tbody tr th {\n",
       "        vertical-align: top;\n",
       "    }\n",
       "\n",
       "    .dataframe thead th {\n",
       "        text-align: right;\n",
       "    }\n",
       "</style>\n",
       "<table border=\"1\" class=\"dataframe\">\n",
       "  <thead>\n",
       "    <tr style=\"text-align: right;\">\n",
       "      <th></th>\n",
       "      <th>Mins_per season</th>\n",
       "      <th>xG Per Avg Match_per season</th>\n",
       "      <th>Shots Per Avg Match_per season</th>\n",
       "      <th>On Target Per Avg Match_per season</th>\n",
       "      <th>Experience</th>\n",
       "      <th>On Target Shots/ Shots</th>\n",
       "    </tr>\n",
       "  </thead>\n",
       "  <tbody>\n",
       "    <tr>\n",
       "      <th>0</th>\n",
       "      <td>834.0</td>\n",
       "      <td>0.22</td>\n",
       "      <td>2.73</td>\n",
       "      <td>1.48</td>\n",
       "      <td>1</td>\n",
       "      <td>0.54</td>\n",
       "    </tr>\n",
       "    <tr>\n",
       "      <th>1</th>\n",
       "      <td>1325.0</td>\n",
       "      <td>0.52</td>\n",
       "      <td>2.01</td>\n",
       "      <td>1.08</td>\n",
       "      <td>1</td>\n",
       "      <td>0.54</td>\n",
       "    </tr>\n",
       "    <tr>\n",
       "      <th>2</th>\n",
       "      <td>2168.0</td>\n",
       "      <td>0.23</td>\n",
       "      <td>2.19</td>\n",
       "      <td>0.79</td>\n",
       "      <td>1</td>\n",
       "      <td>0.36</td>\n",
       "    </tr>\n",
       "    <tr>\n",
       "      <th>3</th>\n",
       "      <td>2480.0</td>\n",
       "      <td>0.61</td>\n",
       "      <td>3.26</td>\n",
       "      <td>1.72</td>\n",
       "      <td>1</td>\n",
       "      <td>0.53</td>\n",
       "    </tr>\n",
       "    <tr>\n",
       "      <th>4</th>\n",
       "      <td>2432.5</td>\n",
       "      <td>0.45</td>\n",
       "      <td>3.14</td>\n",
       "      <td>1.48</td>\n",
       "      <td>2</td>\n",
       "      <td>0.47</td>\n",
       "    </tr>\n",
       "  </tbody>\n",
       "</table>\n",
       "</div>"
      ],
      "text/plain": [
       "   Mins_per season  xG Per Avg Match_per season  \\\n",
       "0            834.0                         0.22   \n",
       "1           1325.0                         0.52   \n",
       "2           2168.0                         0.23   \n",
       "3           2480.0                         0.61   \n",
       "4           2432.5                         0.45   \n",
       "\n",
       "   Shots Per Avg Match_per season  On Target Per Avg Match_per season  \\\n",
       "0                            2.73                                1.48   \n",
       "1                            2.01                                1.08   \n",
       "2                            2.19                                0.79   \n",
       "3                            3.26                                1.72   \n",
       "4                            3.14                                1.48   \n",
       "\n",
       "   Experience  On Target Shots/ Shots  \n",
       "0           1                    0.54  \n",
       "1           1                    0.54  \n",
       "2           1                    0.36  \n",
       "3           1                    0.53  \n",
       "4           2                    0.47  "
      ]
     },
     "execution_count": 98,
     "metadata": {},
     "output_type": "execute_result"
    }
   ],
   "source": [
    "finale['On Target Shots/ Shots'] = round(finale['On Target Shots/ Shots'],2)\n",
    "\n",
    "finale.head()"
   ]
  },
  {
   "cell_type": "markdown",
   "id": "79168284",
   "metadata": {},
   "source": [
    "###### Сосбтвенно, перчислю столбцы, которые убрал и поясню причины. Убрал Matches_Played и Minutes per Match, так как они так или иначе будут анологичны столбцу Mins, убрал Substitution, так как мы выяснили, что большинство нападающих вообще не заменяют (значение равно нулю). Убрал xG, так как xG Per Avg Match является более информативным. После удаления столбцов остались 6 признаков. Все признаки были расписаны выше, но повторю, что здесь все являются относительными, в том числе новый показатель on Target Shots/Shots, так как он получен из отношения двух других признаков."
   ]
  },
  {
   "cell_type": "code",
   "execution_count": 122,
   "id": "df815bb3",
   "metadata": {},
   "outputs": [
    {
     "data": {
      "text/html": [
       "<div>\n",
       "<style scoped>\n",
       "    .dataframe tbody tr th:only-of-type {\n",
       "        vertical-align: middle;\n",
       "    }\n",
       "\n",
       "    .dataframe tbody tr th {\n",
       "        vertical-align: top;\n",
       "    }\n",
       "\n",
       "    .dataframe thead th {\n",
       "        text-align: right;\n",
       "    }\n",
       "</style>\n",
       "<table border=\"1\" class=\"dataframe\">\n",
       "  <thead>\n",
       "    <tr style=\"text-align: right;\">\n",
       "      <th></th>\n",
       "      <th>count</th>\n",
       "      <th>mean</th>\n",
       "      <th>std</th>\n",
       "      <th>min</th>\n",
       "      <th>25%</th>\n",
       "      <th>50%</th>\n",
       "      <th>75%</th>\n",
       "      <th>max</th>\n",
       "    </tr>\n",
       "  </thead>\n",
       "  <tbody>\n",
       "    <tr>\n",
       "      <th>Mins_per season</th>\n",
       "      <td>444.0</td>\n",
       "      <td>2015.321914</td>\n",
       "      <td>807.158734</td>\n",
       "      <td>280.00</td>\n",
       "      <td>1496.0025</td>\n",
       "      <td>2150.000</td>\n",
       "      <td>2616.0500</td>\n",
       "      <td>3931.00</td>\n",
       "    </tr>\n",
       "    <tr>\n",
       "      <th>xG Per Avg Match_per season</th>\n",
       "      <td>444.0</td>\n",
       "      <td>0.445788</td>\n",
       "      <td>0.162332</td>\n",
       "      <td>0.07</td>\n",
       "      <td>0.3300</td>\n",
       "      <td>0.420</td>\n",
       "      <td>0.5325</td>\n",
       "      <td>1.10</td>\n",
       "    </tr>\n",
       "    <tr>\n",
       "      <th>Shots Per Avg Match_per season</th>\n",
       "      <td>444.0</td>\n",
       "      <td>2.810946</td>\n",
       "      <td>0.789752</td>\n",
       "      <td>0.80</td>\n",
       "      <td>2.2875</td>\n",
       "      <td>2.775</td>\n",
       "      <td>3.2325</td>\n",
       "      <td>6.28</td>\n",
       "    </tr>\n",
       "    <tr>\n",
       "      <th>On Target Per Avg Match_per season</th>\n",
       "      <td>444.0</td>\n",
       "      <td>1.239437</td>\n",
       "      <td>0.393487</td>\n",
       "      <td>0.24</td>\n",
       "      <td>0.9600</td>\n",
       "      <td>1.205</td>\n",
       "      <td>1.4700</td>\n",
       "      <td>2.89</td>\n",
       "    </tr>\n",
       "    <tr>\n",
       "      <th>Experience</th>\n",
       "      <td>444.0</td>\n",
       "      <td>1.486486</td>\n",
       "      <td>0.932143</td>\n",
       "      <td>1.00</td>\n",
       "      <td>1.0000</td>\n",
       "      <td>1.000</td>\n",
       "      <td>2.0000</td>\n",
       "      <td>5.00</td>\n",
       "    </tr>\n",
       "    <tr>\n",
       "      <th>On Target Shots/ Shots</th>\n",
       "      <td>444.0</td>\n",
       "      <td>0.444752</td>\n",
       "      <td>0.086568</td>\n",
       "      <td>0.23</td>\n",
       "      <td>0.3900</td>\n",
       "      <td>0.440</td>\n",
       "      <td>0.4900</td>\n",
       "      <td>0.83</td>\n",
       "    </tr>\n",
       "  </tbody>\n",
       "</table>\n",
       "</div>"
      ],
      "text/plain": [
       "                                    count         mean         std     min  \\\n",
       "Mins_per season                     444.0  2015.321914  807.158734  280.00   \n",
       "xG Per Avg Match_per season         444.0     0.445788    0.162332    0.07   \n",
       "Shots Per Avg Match_per season      444.0     2.810946    0.789752    0.80   \n",
       "On Target Per Avg Match_per season  444.0     1.239437    0.393487    0.24   \n",
       "Experience                          444.0     1.486486    0.932143    1.00   \n",
       "On Target Shots/ Shots              444.0     0.444752    0.086568    0.23   \n",
       "\n",
       "                                          25%       50%        75%      max  \n",
       "Mins_per season                     1496.0025  2150.000  2616.0500  3931.00  \n",
       "xG Per Avg Match_per season            0.3300     0.420     0.5325     1.10  \n",
       "Shots Per Avg Match_per season         2.2875     2.775     3.2325     6.28  \n",
       "On Target Per Avg Match_per season     0.9600     1.205     1.4700     2.89  \n",
       "Experience                             1.0000     1.000     2.0000     5.00  \n",
       "On Target Shots/ Shots                 0.3900     0.440     0.4900     0.83  "
      ]
     },
     "execution_count": 122,
     "metadata": {},
     "output_type": "execute_result"
    }
   ],
   "source": [
    "finale.describe().T"
   ]
  },
  {
   "cell_type": "markdown",
   "id": "37db5ab2",
   "metadata": {},
   "source": [
    "# Изучение зависимостей"
   ]
  },
  {
   "cell_type": "markdown",
   "id": "aedf56f9",
   "metadata": {},
   "source": [
    "###### Для изучения зависимостей будем использовать скаттерплоты. Зависимости будет искать только по интересующим для нас данных."
   ]
  },
  {
   "cell_type": "code",
   "execution_count": 102,
   "id": "bc4ceb28",
   "metadata": {},
   "outputs": [
    {
     "data": {
      "application/vnd.plotly.v1+json": {
       "config": {
        "plotlyServerURL": "https://plot.ly"
       },
       "data": [
        {
         "hovertemplate": "Experience=%{x}<br>xG Per Avg Match_per season=%{y}<extra></extra>",
         "legendgroup": "",
         "marker": {
          "color": "#636efa",
          "symbol": "circle"
         },
         "mode": "markers",
         "name": "",
         "orientation": "v",
         "showlegend": false,
         "type": "scatter",
         "x": [
          1,
          1,
          1,
          1,
          2,
          2,
          1,
          1,
          1,
          1,
          1,
          1,
          1,
          1,
          2,
          1,
          1,
          1,
          1,
          1,
          1,
          2,
          5,
          2,
          1,
          5,
          1,
          1,
          3,
          1,
          1,
          3,
          1,
          1,
          2,
          1,
          1,
          4,
          1,
          1,
          2,
          1,
          1,
          1,
          1,
          1,
          1,
          1,
          1,
          1,
          1,
          1,
          1,
          1,
          1,
          1,
          1,
          1,
          2,
          2,
          3,
          1,
          1,
          1,
          1,
          1,
          2,
          1,
          2,
          1,
          1,
          1,
          1,
          1,
          1,
          1,
          1,
          1,
          1,
          1,
          1,
          1,
          2,
          1,
          1,
          1,
          5,
          1,
          1,
          1,
          2,
          1,
          1,
          5,
          1,
          1,
          1,
          1,
          1,
          1,
          1,
          1,
          1,
          1,
          1,
          1,
          1,
          1,
          1,
          1,
          1,
          1,
          1,
          1,
          2,
          3,
          1,
          1,
          1,
          2,
          2,
          1,
          2,
          2,
          4,
          2,
          2,
          3,
          2,
          1,
          4,
          1,
          1,
          1,
          1,
          1,
          1,
          2,
          1,
          1,
          4,
          1,
          1,
          5,
          1,
          1,
          1,
          1,
          1,
          2,
          2,
          3,
          1,
          2,
          2,
          2,
          1,
          1,
          1,
          1,
          1,
          4,
          1,
          2,
          1,
          1,
          2,
          2,
          4,
          1,
          2,
          1,
          2,
          2,
          1,
          2,
          1,
          1,
          1,
          1,
          1,
          4,
          1,
          1,
          1,
          2,
          1,
          1,
          1,
          5,
          2,
          1,
          1,
          1,
          1,
          1,
          1,
          1,
          1,
          1,
          2,
          2,
          1,
          4,
          1,
          1,
          2,
          1,
          1,
          2,
          1,
          1,
          2,
          1,
          2,
          1,
          2,
          1,
          1,
          1,
          1,
          1,
          1,
          2,
          3,
          1,
          1,
          1,
          1,
          1,
          2,
          2,
          4,
          1,
          1,
          1,
          1,
          1,
          2,
          1,
          1,
          1,
          1,
          4,
          1,
          1,
          1,
          1,
          3,
          3,
          1,
          1,
          1,
          1,
          1,
          1,
          1,
          1,
          2,
          5,
          1,
          1,
          2,
          1,
          1,
          1,
          2,
          1,
          1,
          2,
          1,
          1,
          2,
          5,
          1,
          2,
          1,
          1,
          2,
          1,
          1,
          1,
          1,
          2,
          1,
          1,
          3,
          1,
          1,
          1,
          1,
          1,
          4,
          1,
          1,
          3,
          2,
          1,
          1,
          1,
          3,
          1,
          1,
          2,
          1,
          4,
          1,
          4,
          1,
          3,
          1,
          1,
          2,
          1,
          1,
          1,
          1,
          1,
          1,
          2,
          3,
          2,
          1,
          1,
          1,
          1,
          4,
          1,
          1,
          1,
          1,
          1,
          1,
          1,
          2,
          1,
          2,
          1,
          1,
          1,
          1,
          1,
          2,
          1,
          2,
          1,
          4,
          1,
          2,
          1,
          1,
          2,
          1,
          2,
          1,
          1,
          1,
          3,
          2,
          1,
          1,
          1,
          1,
          2,
          1,
          1,
          2,
          1,
          5,
          1,
          2,
          1,
          1,
          1,
          1,
          1,
          2,
          1,
          3,
          1,
          1,
          1,
          3,
          1,
          1,
          1,
          4,
          1,
          1,
          1,
          1,
          1,
          1,
          1,
          1,
          1,
          1,
          1,
          4,
          1,
          1,
          3,
          1,
          1,
          1,
          1,
          4,
          1,
          2,
          2,
          1,
          1,
          1,
          2,
          1,
          1,
          1,
          1,
          5,
          1,
          1,
          1,
          1,
          2,
          1,
          1,
          1,
          1,
          1,
          1,
          3,
          1,
          1,
          1,
          3,
          1,
          3,
          3,
          1,
          1,
          1,
          1,
          3,
          1
         ],
         "xaxis": "x",
         "y": [
          0.22,
          0.52,
          0.23,
          0.61,
          0.45,
          0.34,
          0.3,
          0.67,
          0.35,
          0.28,
          0.8,
          0.41,
          0.28,
          0.54,
          0.63,
          0.35,
          0.37,
          0.91,
          0.48,
          0.25,
          0.25,
          0.74,
          0.46,
          0.39,
          0.37,
          0.63,
          0.56,
          0.32,
          0.42,
          0.41,
          0.2,
          0.45,
          0.38,
          0.4,
          0.42,
          0.4,
          0.61,
          0.47,
          0.27,
          0.25,
          0.47,
          0.42,
          0.26,
          0.18,
          0.49,
          0.58,
          0.24,
          0.45,
          0.42,
          0.33,
          0.48,
          0.27,
          0.65,
          0.18,
          0.47,
          0.28,
          0.67,
          0.5,
          0.32,
          0.48,
          0.59,
          0.42,
          0.16,
          0.35,
          0.48,
          0.39,
          0.62,
          0.45,
          0.56,
          0.41,
          0.43,
          0.53,
          0.17,
          0.77,
          0.61,
          0.33,
          0.47,
          0.71,
          0.58,
          0.29,
          0.34,
          0.33,
          0.55,
          0.62,
          0.53,
          0.28,
          0.62,
          0.24,
          0.48,
          0.27,
          0.62,
          0.27,
          0.29,
          0.97,
          0.56,
          0.34,
          0.31,
          0.26,
          0.09,
          0.16,
          0.81,
          0.53,
          0.37,
          0.38,
          0.24,
          0.39,
          0.78,
          0.45,
          0.41,
          0.23,
          0.53,
          0.36,
          0.49,
          0.33,
          0.48,
          0.39,
          0.27,
          0.27,
          0.45,
          0.32,
          0.63,
          0.23,
          0.74,
          0.36,
          0.51,
          0.32,
          0.52,
          0.55,
          0.34,
          0.7,
          0.62,
          0.91,
          0.23,
          0.42,
          0.25,
          0.23,
          0.41,
          0.8,
          0.46,
          0.39,
          0.45,
          0.41,
          0.33,
          0.57,
          0.5,
          0.19,
          0.31,
          0.31,
          0.26,
          0.42,
          0.36,
          0.48,
          0.32,
          0.55,
          0.72,
          0.66,
          0.5,
          0.26,
          0.18,
          0.65,
          0.75,
          0.5,
          0.55,
          0.28,
          0.56,
          0.47,
          0.5,
          0.38,
          0.41,
          0.41,
          0.46,
          0.53,
          0.35,
          0.42,
          0.38,
          0.55,
          0.32,
          0.33,
          0.37,
          0.94,
          0.26,
          0.59,
          0.62,
          0.46,
          0.67,
          0.16,
          0.57,
          0.41,
          0.49,
          0.51,
          0.29,
          0.68,
          0.7,
          0.41,
          0.41,
          0.22,
          0.49,
          0.6,
          0.25,
          0.31,
          0.32,
          0.43,
          0.07,
          0.62,
          0.33,
          0.44,
          0.61,
          0.29,
          0.42,
          0.42,
          0.56,
          0.57,
          0.39,
          0.24,
          0.18,
          0.36,
          0.38,
          0.43,
          0.38,
          0.33,
          0.29,
          0.78,
          0.42,
          0.38,
          0.43,
          0.45,
          0.22,
          0.34,
          0.25,
          0.49,
          0.42,
          0.35,
          0.61,
          0.68,
          0.37,
          0.61,
          0.36,
          0.33,
          0.39,
          0.23,
          0.58,
          0.48,
          0.42,
          0.42,
          0.34,
          0.7,
          0.37,
          0.52,
          1.1,
          0.45,
          0.79,
          0.34,
          0.53,
          0.39,
          0.37,
          0.31,
          0.54,
          0.31,
          0.36,
          0.8,
          0.36,
          0.39,
          0.4,
          0.52,
          0.43,
          0.29,
          0.52,
          0.36,
          0.36,
          0.32,
          0.18,
          0.23,
          0.93,
          0.76,
          0.48,
          0.32,
          0.57,
          0.29,
          0.36,
          0.57,
          0.29,
          0.43,
          0.55,
          0.52,
          0.67,
          0.42,
          0.35,
          0.59,
          0.41,
          0.4,
          0.33,
          0.38,
          0.68,
          0.49,
          0.4,
          0.44,
          0.46,
          0.29,
          0.63,
          0.28,
          0.45,
          0.28,
          0.39,
          0.36,
          0.37,
          0.44,
          0.28,
          0.58,
          0.67,
          0.35,
          0.66,
          0.73,
          0.56,
          0.28,
          0.4,
          0.6,
          0.34,
          0.79,
          0.63,
          0.28,
          0.78,
          0.72,
          0.21,
          0.3,
          0.54,
          0.54,
          0.44,
          0.52,
          0.26,
          0.5,
          0.7,
          0.21,
          0.33,
          0.37,
          0.32,
          0.39,
          0.69,
          0.47,
          0.77,
          0.47,
          0.58,
          0.45,
          0.66,
          0.24,
          0.41,
          0.38,
          0.79,
          0.5,
          0.27,
          0.45,
          0.41,
          0.53,
          0.47,
          0.57,
          0.5,
          0.35,
          0.4,
          0.44,
          0.56,
          0.52,
          0.27,
          0.44,
          0.31,
          0.46,
          0.4,
          0.31,
          0.32,
          0.46,
          1.04,
          0.32,
          0.34,
          0.27,
          0.42,
          0.34,
          0.42,
          0.53,
          0.4,
          0.27,
          0.56,
          0.54,
          0.31,
          0.33,
          0.75,
          0.4,
          0.47,
          0.52,
          0.47,
          0.39,
          0.35,
          0.35,
          0.29,
          0.57,
          0.55,
          0.43,
          0.75,
          0.46,
          0.5,
          0.4,
          0.36,
          0.21,
          0.27,
          0.84,
          0.51,
          0.31,
          0.34,
          0.53,
          0.35,
          0.31,
          0.42,
          0.75,
          0.77,
          0.35,
          0.38,
          0.6,
          0.42,
          0.44,
          0.37,
          0.4,
          0.53,
          0.48,
          0.43,
          0.25,
          0.16,
          0.41,
          0.44,
          0.58,
          0.37,
          0.33,
          0.43,
          0.34,
          0.43,
          0.53,
          0.45,
          0.46,
          0.47,
          0.62,
          0.5,
          0.59,
          0.33,
          0.29,
          0.68,
          0.4,
          0.88,
          0.45
         ],
         "yaxis": "y"
        }
       ],
       "layout": {
        "legend": {
         "tracegroupgap": 0
        },
        "template": {
         "data": {
          "bar": [
           {
            "error_x": {
             "color": "#2a3f5f"
            },
            "error_y": {
             "color": "#2a3f5f"
            },
            "marker": {
             "line": {
              "color": "#E5ECF6",
              "width": 0.5
             },
             "pattern": {
              "fillmode": "overlay",
              "size": 10,
              "solidity": 0.2
             }
            },
            "type": "bar"
           }
          ],
          "barpolar": [
           {
            "marker": {
             "line": {
              "color": "#E5ECF6",
              "width": 0.5
             },
             "pattern": {
              "fillmode": "overlay",
              "size": 10,
              "solidity": 0.2
             }
            },
            "type": "barpolar"
           }
          ],
          "carpet": [
           {
            "aaxis": {
             "endlinecolor": "#2a3f5f",
             "gridcolor": "white",
             "linecolor": "white",
             "minorgridcolor": "white",
             "startlinecolor": "#2a3f5f"
            },
            "baxis": {
             "endlinecolor": "#2a3f5f",
             "gridcolor": "white",
             "linecolor": "white",
             "minorgridcolor": "white",
             "startlinecolor": "#2a3f5f"
            },
            "type": "carpet"
           }
          ],
          "choropleth": [
           {
            "colorbar": {
             "outlinewidth": 0,
             "ticks": ""
            },
            "type": "choropleth"
           }
          ],
          "contour": [
           {
            "colorbar": {
             "outlinewidth": 0,
             "ticks": ""
            },
            "colorscale": [
             [
              0,
              "#0d0887"
             ],
             [
              0.1111111111111111,
              "#46039f"
             ],
             [
              0.2222222222222222,
              "#7201a8"
             ],
             [
              0.3333333333333333,
              "#9c179e"
             ],
             [
              0.4444444444444444,
              "#bd3786"
             ],
             [
              0.5555555555555556,
              "#d8576b"
             ],
             [
              0.6666666666666666,
              "#ed7953"
             ],
             [
              0.7777777777777778,
              "#fb9f3a"
             ],
             [
              0.8888888888888888,
              "#fdca26"
             ],
             [
              1,
              "#f0f921"
             ]
            ],
            "type": "contour"
           }
          ],
          "contourcarpet": [
           {
            "colorbar": {
             "outlinewidth": 0,
             "ticks": ""
            },
            "type": "contourcarpet"
           }
          ],
          "heatmap": [
           {
            "colorbar": {
             "outlinewidth": 0,
             "ticks": ""
            },
            "colorscale": [
             [
              0,
              "#0d0887"
             ],
             [
              0.1111111111111111,
              "#46039f"
             ],
             [
              0.2222222222222222,
              "#7201a8"
             ],
             [
              0.3333333333333333,
              "#9c179e"
             ],
             [
              0.4444444444444444,
              "#bd3786"
             ],
             [
              0.5555555555555556,
              "#d8576b"
             ],
             [
              0.6666666666666666,
              "#ed7953"
             ],
             [
              0.7777777777777778,
              "#fb9f3a"
             ],
             [
              0.8888888888888888,
              "#fdca26"
             ],
             [
              1,
              "#f0f921"
             ]
            ],
            "type": "heatmap"
           }
          ],
          "heatmapgl": [
           {
            "colorbar": {
             "outlinewidth": 0,
             "ticks": ""
            },
            "colorscale": [
             [
              0,
              "#0d0887"
             ],
             [
              0.1111111111111111,
              "#46039f"
             ],
             [
              0.2222222222222222,
              "#7201a8"
             ],
             [
              0.3333333333333333,
              "#9c179e"
             ],
             [
              0.4444444444444444,
              "#bd3786"
             ],
             [
              0.5555555555555556,
              "#d8576b"
             ],
             [
              0.6666666666666666,
              "#ed7953"
             ],
             [
              0.7777777777777778,
              "#fb9f3a"
             ],
             [
              0.8888888888888888,
              "#fdca26"
             ],
             [
              1,
              "#f0f921"
             ]
            ],
            "type": "heatmapgl"
           }
          ],
          "histogram": [
           {
            "marker": {
             "pattern": {
              "fillmode": "overlay",
              "size": 10,
              "solidity": 0.2
             }
            },
            "type": "histogram"
           }
          ],
          "histogram2d": [
           {
            "colorbar": {
             "outlinewidth": 0,
             "ticks": ""
            },
            "colorscale": [
             [
              0,
              "#0d0887"
             ],
             [
              0.1111111111111111,
              "#46039f"
             ],
             [
              0.2222222222222222,
              "#7201a8"
             ],
             [
              0.3333333333333333,
              "#9c179e"
             ],
             [
              0.4444444444444444,
              "#bd3786"
             ],
             [
              0.5555555555555556,
              "#d8576b"
             ],
             [
              0.6666666666666666,
              "#ed7953"
             ],
             [
              0.7777777777777778,
              "#fb9f3a"
             ],
             [
              0.8888888888888888,
              "#fdca26"
             ],
             [
              1,
              "#f0f921"
             ]
            ],
            "type": "histogram2d"
           }
          ],
          "histogram2dcontour": [
           {
            "colorbar": {
             "outlinewidth": 0,
             "ticks": ""
            },
            "colorscale": [
             [
              0,
              "#0d0887"
             ],
             [
              0.1111111111111111,
              "#46039f"
             ],
             [
              0.2222222222222222,
              "#7201a8"
             ],
             [
              0.3333333333333333,
              "#9c179e"
             ],
             [
              0.4444444444444444,
              "#bd3786"
             ],
             [
              0.5555555555555556,
              "#d8576b"
             ],
             [
              0.6666666666666666,
              "#ed7953"
             ],
             [
              0.7777777777777778,
              "#fb9f3a"
             ],
             [
              0.8888888888888888,
              "#fdca26"
             ],
             [
              1,
              "#f0f921"
             ]
            ],
            "type": "histogram2dcontour"
           }
          ],
          "mesh3d": [
           {
            "colorbar": {
             "outlinewidth": 0,
             "ticks": ""
            },
            "type": "mesh3d"
           }
          ],
          "parcoords": [
           {
            "line": {
             "colorbar": {
              "outlinewidth": 0,
              "ticks": ""
             }
            },
            "type": "parcoords"
           }
          ],
          "pie": [
           {
            "automargin": true,
            "type": "pie"
           }
          ],
          "scatter": [
           {
            "marker": {
             "colorbar": {
              "outlinewidth": 0,
              "ticks": ""
             }
            },
            "type": "scatter"
           }
          ],
          "scatter3d": [
           {
            "line": {
             "colorbar": {
              "outlinewidth": 0,
              "ticks": ""
             }
            },
            "marker": {
             "colorbar": {
              "outlinewidth": 0,
              "ticks": ""
             }
            },
            "type": "scatter3d"
           }
          ],
          "scattercarpet": [
           {
            "marker": {
             "colorbar": {
              "outlinewidth": 0,
              "ticks": ""
             }
            },
            "type": "scattercarpet"
           }
          ],
          "scattergeo": [
           {
            "marker": {
             "colorbar": {
              "outlinewidth": 0,
              "ticks": ""
             }
            },
            "type": "scattergeo"
           }
          ],
          "scattergl": [
           {
            "marker": {
             "colorbar": {
              "outlinewidth": 0,
              "ticks": ""
             }
            },
            "type": "scattergl"
           }
          ],
          "scattermapbox": [
           {
            "marker": {
             "colorbar": {
              "outlinewidth": 0,
              "ticks": ""
             }
            },
            "type": "scattermapbox"
           }
          ],
          "scatterpolar": [
           {
            "marker": {
             "colorbar": {
              "outlinewidth": 0,
              "ticks": ""
             }
            },
            "type": "scatterpolar"
           }
          ],
          "scatterpolargl": [
           {
            "marker": {
             "colorbar": {
              "outlinewidth": 0,
              "ticks": ""
             }
            },
            "type": "scatterpolargl"
           }
          ],
          "scatterternary": [
           {
            "marker": {
             "colorbar": {
              "outlinewidth": 0,
              "ticks": ""
             }
            },
            "type": "scatterternary"
           }
          ],
          "surface": [
           {
            "colorbar": {
             "outlinewidth": 0,
             "ticks": ""
            },
            "colorscale": [
             [
              0,
              "#0d0887"
             ],
             [
              0.1111111111111111,
              "#46039f"
             ],
             [
              0.2222222222222222,
              "#7201a8"
             ],
             [
              0.3333333333333333,
              "#9c179e"
             ],
             [
              0.4444444444444444,
              "#bd3786"
             ],
             [
              0.5555555555555556,
              "#d8576b"
             ],
             [
              0.6666666666666666,
              "#ed7953"
             ],
             [
              0.7777777777777778,
              "#fb9f3a"
             ],
             [
              0.8888888888888888,
              "#fdca26"
             ],
             [
              1,
              "#f0f921"
             ]
            ],
            "type": "surface"
           }
          ],
          "table": [
           {
            "cells": {
             "fill": {
              "color": "#EBF0F8"
             },
             "line": {
              "color": "white"
             }
            },
            "header": {
             "fill": {
              "color": "#C8D4E3"
             },
             "line": {
              "color": "white"
             }
            },
            "type": "table"
           }
          ]
         },
         "layout": {
          "annotationdefaults": {
           "arrowcolor": "#2a3f5f",
           "arrowhead": 0,
           "arrowwidth": 1
          },
          "autotypenumbers": "strict",
          "coloraxis": {
           "colorbar": {
            "outlinewidth": 0,
            "ticks": ""
           }
          },
          "colorscale": {
           "diverging": [
            [
             0,
             "#8e0152"
            ],
            [
             0.1,
             "#c51b7d"
            ],
            [
             0.2,
             "#de77ae"
            ],
            [
             0.3,
             "#f1b6da"
            ],
            [
             0.4,
             "#fde0ef"
            ],
            [
             0.5,
             "#f7f7f7"
            ],
            [
             0.6,
             "#e6f5d0"
            ],
            [
             0.7,
             "#b8e186"
            ],
            [
             0.8,
             "#7fbc41"
            ],
            [
             0.9,
             "#4d9221"
            ],
            [
             1,
             "#276419"
            ]
           ],
           "sequential": [
            [
             0,
             "#0d0887"
            ],
            [
             0.1111111111111111,
             "#46039f"
            ],
            [
             0.2222222222222222,
             "#7201a8"
            ],
            [
             0.3333333333333333,
             "#9c179e"
            ],
            [
             0.4444444444444444,
             "#bd3786"
            ],
            [
             0.5555555555555556,
             "#d8576b"
            ],
            [
             0.6666666666666666,
             "#ed7953"
            ],
            [
             0.7777777777777778,
             "#fb9f3a"
            ],
            [
             0.8888888888888888,
             "#fdca26"
            ],
            [
             1,
             "#f0f921"
            ]
           ],
           "sequentialminus": [
            [
             0,
             "#0d0887"
            ],
            [
             0.1111111111111111,
             "#46039f"
            ],
            [
             0.2222222222222222,
             "#7201a8"
            ],
            [
             0.3333333333333333,
             "#9c179e"
            ],
            [
             0.4444444444444444,
             "#bd3786"
            ],
            [
             0.5555555555555556,
             "#d8576b"
            ],
            [
             0.6666666666666666,
             "#ed7953"
            ],
            [
             0.7777777777777778,
             "#fb9f3a"
            ],
            [
             0.8888888888888888,
             "#fdca26"
            ],
            [
             1,
             "#f0f921"
            ]
           ]
          },
          "colorway": [
           "#636efa",
           "#EF553B",
           "#00cc96",
           "#ab63fa",
           "#FFA15A",
           "#19d3f3",
           "#FF6692",
           "#B6E880",
           "#FF97FF",
           "#FECB52"
          ],
          "font": {
           "color": "#2a3f5f"
          },
          "geo": {
           "bgcolor": "white",
           "lakecolor": "white",
           "landcolor": "#E5ECF6",
           "showlakes": true,
           "showland": true,
           "subunitcolor": "white"
          },
          "hoverlabel": {
           "align": "left"
          },
          "hovermode": "closest",
          "mapbox": {
           "style": "light"
          },
          "paper_bgcolor": "white",
          "plot_bgcolor": "#E5ECF6",
          "polar": {
           "angularaxis": {
            "gridcolor": "white",
            "linecolor": "white",
            "ticks": ""
           },
           "bgcolor": "#E5ECF6",
           "radialaxis": {
            "gridcolor": "white",
            "linecolor": "white",
            "ticks": ""
           }
          },
          "scene": {
           "xaxis": {
            "backgroundcolor": "#E5ECF6",
            "gridcolor": "white",
            "gridwidth": 2,
            "linecolor": "white",
            "showbackground": true,
            "ticks": "",
            "zerolinecolor": "white"
           },
           "yaxis": {
            "backgroundcolor": "#E5ECF6",
            "gridcolor": "white",
            "gridwidth": 2,
            "linecolor": "white",
            "showbackground": true,
            "ticks": "",
            "zerolinecolor": "white"
           },
           "zaxis": {
            "backgroundcolor": "#E5ECF6",
            "gridcolor": "white",
            "gridwidth": 2,
            "linecolor": "white",
            "showbackground": true,
            "ticks": "",
            "zerolinecolor": "white"
           }
          },
          "shapedefaults": {
           "line": {
            "color": "#2a3f5f"
           }
          },
          "ternary": {
           "aaxis": {
            "gridcolor": "white",
            "linecolor": "white",
            "ticks": ""
           },
           "baxis": {
            "gridcolor": "white",
            "linecolor": "white",
            "ticks": ""
           },
           "bgcolor": "#E5ECF6",
           "caxis": {
            "gridcolor": "white",
            "linecolor": "white",
            "ticks": ""
           }
          },
          "title": {
           "x": 0.05
          },
          "xaxis": {
           "automargin": true,
           "gridcolor": "white",
           "linecolor": "white",
           "ticks": "",
           "title": {
            "standoff": 15
           },
           "zerolinecolor": "white",
           "zerolinewidth": 2
          },
          "yaxis": {
           "automargin": true,
           "gridcolor": "white",
           "linecolor": "white",
           "ticks": "",
           "title": {
            "standoff": 15
           },
           "zerolinecolor": "white",
           "zerolinewidth": 2
          }
         }
        },
        "title": {
         "text": "Relations between Experience and xG per Year"
        },
        "xaxis": {
         "anchor": "y",
         "domain": [
          0,
          1
         ],
         "title": {
          "text": "Experience"
         }
        },
        "yaxis": {
         "anchor": "x",
         "domain": [
          0,
          1
         ],
         "title": {
          "text": "xG Per Avg Match_per season"
         }
        }
       }
      },
      "text/html": [
       "<div>                            <div id=\"bddc6d0a-e299-4c80-be62-adc805e6bf24\" class=\"plotly-graph-div\" style=\"height:525px; width:100%;\"></div>            <script type=\"text/javascript\">                require([\"plotly\"], function(Plotly) {                    window.PLOTLYENV=window.PLOTLYENV || {};                                    if (document.getElementById(\"bddc6d0a-e299-4c80-be62-adc805e6bf24\")) {                    Plotly.newPlot(                        \"bddc6d0a-e299-4c80-be62-adc805e6bf24\",                        [{\"hovertemplate\":\"Experience=%{x}<br>xG Per Avg Match_per season=%{y}<extra></extra>\",\"legendgroup\":\"\",\"marker\":{\"color\":\"#636efa\",\"symbol\":\"circle\"},\"mode\":\"markers\",\"name\":\"\",\"orientation\":\"v\",\"showlegend\":false,\"x\":[1,1,1,1,2,2,1,1,1,1,1,1,1,1,2,1,1,1,1,1,1,2,5,2,1,5,1,1,3,1,1,3,1,1,2,1,1,4,1,1,2,1,1,1,1,1,1,1,1,1,1,1,1,1,1,1,1,1,2,2,3,1,1,1,1,1,2,1,2,1,1,1,1,1,1,1,1,1,1,1,1,1,2,1,1,1,5,1,1,1,2,1,1,5,1,1,1,1,1,1,1,1,1,1,1,1,1,1,1,1,1,1,1,1,2,3,1,1,1,2,2,1,2,2,4,2,2,3,2,1,4,1,1,1,1,1,1,2,1,1,4,1,1,5,1,1,1,1,1,2,2,3,1,2,2,2,1,1,1,1,1,4,1,2,1,1,2,2,4,1,2,1,2,2,1,2,1,1,1,1,1,4,1,1,1,2,1,1,1,5,2,1,1,1,1,1,1,1,1,1,2,2,1,4,1,1,2,1,1,2,1,1,2,1,2,1,2,1,1,1,1,1,1,2,3,1,1,1,1,1,2,2,4,1,1,1,1,1,2,1,1,1,1,4,1,1,1,1,3,3,1,1,1,1,1,1,1,1,2,5,1,1,2,1,1,1,2,1,1,2,1,1,2,5,1,2,1,1,2,1,1,1,1,2,1,1,3,1,1,1,1,1,4,1,1,3,2,1,1,1,3,1,1,2,1,4,1,4,1,3,1,1,2,1,1,1,1,1,1,2,3,2,1,1,1,1,4,1,1,1,1,1,1,1,2,1,2,1,1,1,1,1,2,1,2,1,4,1,2,1,1,2,1,2,1,1,1,3,2,1,1,1,1,2,1,1,2,1,5,1,2,1,1,1,1,1,2,1,3,1,1,1,3,1,1,1,4,1,1,1,1,1,1,1,1,1,1,1,4,1,1,3,1,1,1,1,4,1,2,2,1,1,1,2,1,1,1,1,5,1,1,1,1,2,1,1,1,1,1,1,3,1,1,1,3,1,3,3,1,1,1,1,3,1],\"xaxis\":\"x\",\"y\":[0.22,0.52,0.23,0.61,0.45,0.34,0.3,0.67,0.35,0.28,0.8,0.41,0.28,0.54,0.63,0.35,0.37,0.91,0.48,0.25,0.25,0.74,0.46,0.39,0.37,0.63,0.56,0.32,0.42,0.41,0.2,0.45,0.38,0.4,0.42,0.4,0.61,0.47,0.27,0.25,0.47,0.42,0.26,0.18,0.49,0.58,0.24,0.45,0.42,0.33,0.48,0.27,0.65,0.18,0.47,0.28,0.67,0.5,0.32,0.48,0.59,0.42,0.16,0.35,0.48,0.39,0.62,0.45,0.56,0.41,0.43,0.53,0.17,0.77,0.61,0.33,0.47,0.71,0.58,0.29,0.34,0.33,0.55,0.62,0.53,0.28,0.62,0.24,0.48,0.27,0.62,0.27,0.29,0.97,0.56,0.34,0.31,0.26,0.09,0.16,0.81,0.53,0.37,0.38,0.24,0.39,0.78,0.45,0.41,0.23,0.53,0.36,0.49,0.33,0.48,0.39,0.27,0.27,0.45,0.32,0.63,0.23,0.74,0.36,0.51,0.32,0.52,0.55,0.34,0.7,0.62,0.91,0.23,0.42,0.25,0.23,0.41,0.8,0.46,0.39,0.45,0.41,0.33,0.57,0.5,0.19,0.31,0.31,0.26,0.42,0.36,0.48,0.32,0.55,0.72,0.66,0.5,0.26,0.18,0.65,0.75,0.5,0.55,0.28,0.56,0.47,0.5,0.38,0.41,0.41,0.46,0.53,0.35,0.42,0.38,0.55,0.32,0.33,0.37,0.94,0.26,0.59,0.62,0.46,0.67,0.16,0.57,0.41,0.49,0.51,0.29,0.68,0.7,0.41,0.41,0.22,0.49,0.6,0.25,0.31,0.32,0.43,0.07,0.62,0.33,0.44,0.61,0.29,0.42,0.42,0.56,0.57,0.39,0.24,0.18,0.36,0.38,0.43,0.38,0.33,0.29,0.78,0.42,0.38,0.43,0.45,0.22,0.34,0.25,0.49,0.42,0.35,0.61,0.68,0.37,0.61,0.36,0.33,0.39,0.23,0.58,0.48,0.42,0.42,0.34,0.7,0.37,0.52,1.1,0.45,0.79,0.34,0.53,0.39,0.37,0.31,0.54,0.31,0.36,0.8,0.36,0.39,0.4,0.52,0.43,0.29,0.52,0.36,0.36,0.32,0.18,0.23,0.93,0.76,0.48,0.32,0.57,0.29,0.36,0.57,0.29,0.43,0.55,0.52,0.67,0.42,0.35,0.59,0.41,0.4,0.33,0.38,0.68,0.49,0.4,0.44,0.46,0.29,0.63,0.28,0.45,0.28,0.39,0.36,0.37,0.44,0.28,0.58,0.67,0.35,0.66,0.73,0.56,0.28,0.4,0.6,0.34,0.79,0.63,0.28,0.78,0.72,0.21,0.3,0.54,0.54,0.44,0.52,0.26,0.5,0.7,0.21,0.33,0.37,0.32,0.39,0.69,0.47,0.77,0.47,0.58,0.45,0.66,0.24,0.41,0.38,0.79,0.5,0.27,0.45,0.41,0.53,0.47,0.57,0.5,0.35,0.4,0.44,0.56,0.52,0.27,0.44,0.31,0.46,0.4,0.31,0.32,0.46,1.04,0.32,0.34,0.27,0.42,0.34,0.42,0.53,0.4,0.27,0.56,0.54,0.31,0.33,0.75,0.4,0.47,0.52,0.47,0.39,0.35,0.35,0.29,0.57,0.55,0.43,0.75,0.46,0.5,0.4,0.36,0.21,0.27,0.84,0.51,0.31,0.34,0.53,0.35,0.31,0.42,0.75,0.77,0.35,0.38,0.6,0.42,0.44,0.37,0.4,0.53,0.48,0.43,0.25,0.16,0.41,0.44,0.58,0.37,0.33,0.43,0.34,0.43,0.53,0.45,0.46,0.47,0.62,0.5,0.59,0.33,0.29,0.68,0.4,0.88,0.45],\"yaxis\":\"y\",\"type\":\"scatter\"}],                        {\"template\":{\"data\":{\"bar\":[{\"error_x\":{\"color\":\"#2a3f5f\"},\"error_y\":{\"color\":\"#2a3f5f\"},\"marker\":{\"line\":{\"color\":\"#E5ECF6\",\"width\":0.5},\"pattern\":{\"fillmode\":\"overlay\",\"size\":10,\"solidity\":0.2}},\"type\":\"bar\"}],\"barpolar\":[{\"marker\":{\"line\":{\"color\":\"#E5ECF6\",\"width\":0.5},\"pattern\":{\"fillmode\":\"overlay\",\"size\":10,\"solidity\":0.2}},\"type\":\"barpolar\"}],\"carpet\":[{\"aaxis\":{\"endlinecolor\":\"#2a3f5f\",\"gridcolor\":\"white\",\"linecolor\":\"white\",\"minorgridcolor\":\"white\",\"startlinecolor\":\"#2a3f5f\"},\"baxis\":{\"endlinecolor\":\"#2a3f5f\",\"gridcolor\":\"white\",\"linecolor\":\"white\",\"minorgridcolor\":\"white\",\"startlinecolor\":\"#2a3f5f\"},\"type\":\"carpet\"}],\"choropleth\":[{\"colorbar\":{\"outlinewidth\":0,\"ticks\":\"\"},\"type\":\"choropleth\"}],\"contour\":[{\"colorbar\":{\"outlinewidth\":0,\"ticks\":\"\"},\"colorscale\":[[0.0,\"#0d0887\"],[0.1111111111111111,\"#46039f\"],[0.2222222222222222,\"#7201a8\"],[0.3333333333333333,\"#9c179e\"],[0.4444444444444444,\"#bd3786\"],[0.5555555555555556,\"#d8576b\"],[0.6666666666666666,\"#ed7953\"],[0.7777777777777778,\"#fb9f3a\"],[0.8888888888888888,\"#fdca26\"],[1.0,\"#f0f921\"]],\"type\":\"contour\"}],\"contourcarpet\":[{\"colorbar\":{\"outlinewidth\":0,\"ticks\":\"\"},\"type\":\"contourcarpet\"}],\"heatmap\":[{\"colorbar\":{\"outlinewidth\":0,\"ticks\":\"\"},\"colorscale\":[[0.0,\"#0d0887\"],[0.1111111111111111,\"#46039f\"],[0.2222222222222222,\"#7201a8\"],[0.3333333333333333,\"#9c179e\"],[0.4444444444444444,\"#bd3786\"],[0.5555555555555556,\"#d8576b\"],[0.6666666666666666,\"#ed7953\"],[0.7777777777777778,\"#fb9f3a\"],[0.8888888888888888,\"#fdca26\"],[1.0,\"#f0f921\"]],\"type\":\"heatmap\"}],\"heatmapgl\":[{\"colorbar\":{\"outlinewidth\":0,\"ticks\":\"\"},\"colorscale\":[[0.0,\"#0d0887\"],[0.1111111111111111,\"#46039f\"],[0.2222222222222222,\"#7201a8\"],[0.3333333333333333,\"#9c179e\"],[0.4444444444444444,\"#bd3786\"],[0.5555555555555556,\"#d8576b\"],[0.6666666666666666,\"#ed7953\"],[0.7777777777777778,\"#fb9f3a\"],[0.8888888888888888,\"#fdca26\"],[1.0,\"#f0f921\"]],\"type\":\"heatmapgl\"}],\"histogram\":[{\"marker\":{\"pattern\":{\"fillmode\":\"overlay\",\"size\":10,\"solidity\":0.2}},\"type\":\"histogram\"}],\"histogram2d\":[{\"colorbar\":{\"outlinewidth\":0,\"ticks\":\"\"},\"colorscale\":[[0.0,\"#0d0887\"],[0.1111111111111111,\"#46039f\"],[0.2222222222222222,\"#7201a8\"],[0.3333333333333333,\"#9c179e\"],[0.4444444444444444,\"#bd3786\"],[0.5555555555555556,\"#d8576b\"],[0.6666666666666666,\"#ed7953\"],[0.7777777777777778,\"#fb9f3a\"],[0.8888888888888888,\"#fdca26\"],[1.0,\"#f0f921\"]],\"type\":\"histogram2d\"}],\"histogram2dcontour\":[{\"colorbar\":{\"outlinewidth\":0,\"ticks\":\"\"},\"colorscale\":[[0.0,\"#0d0887\"],[0.1111111111111111,\"#46039f\"],[0.2222222222222222,\"#7201a8\"],[0.3333333333333333,\"#9c179e\"],[0.4444444444444444,\"#bd3786\"],[0.5555555555555556,\"#d8576b\"],[0.6666666666666666,\"#ed7953\"],[0.7777777777777778,\"#fb9f3a\"],[0.8888888888888888,\"#fdca26\"],[1.0,\"#f0f921\"]],\"type\":\"histogram2dcontour\"}],\"mesh3d\":[{\"colorbar\":{\"outlinewidth\":0,\"ticks\":\"\"},\"type\":\"mesh3d\"}],\"parcoords\":[{\"line\":{\"colorbar\":{\"outlinewidth\":0,\"ticks\":\"\"}},\"type\":\"parcoords\"}],\"pie\":[{\"automargin\":true,\"type\":\"pie\"}],\"scatter\":[{\"marker\":{\"colorbar\":{\"outlinewidth\":0,\"ticks\":\"\"}},\"type\":\"scatter\"}],\"scatter3d\":[{\"line\":{\"colorbar\":{\"outlinewidth\":0,\"ticks\":\"\"}},\"marker\":{\"colorbar\":{\"outlinewidth\":0,\"ticks\":\"\"}},\"type\":\"scatter3d\"}],\"scattercarpet\":[{\"marker\":{\"colorbar\":{\"outlinewidth\":0,\"ticks\":\"\"}},\"type\":\"scattercarpet\"}],\"scattergeo\":[{\"marker\":{\"colorbar\":{\"outlinewidth\":0,\"ticks\":\"\"}},\"type\":\"scattergeo\"}],\"scattergl\":[{\"marker\":{\"colorbar\":{\"outlinewidth\":0,\"ticks\":\"\"}},\"type\":\"scattergl\"}],\"scattermapbox\":[{\"marker\":{\"colorbar\":{\"outlinewidth\":0,\"ticks\":\"\"}},\"type\":\"scattermapbox\"}],\"scatterpolar\":[{\"marker\":{\"colorbar\":{\"outlinewidth\":0,\"ticks\":\"\"}},\"type\":\"scatterpolar\"}],\"scatterpolargl\":[{\"marker\":{\"colorbar\":{\"outlinewidth\":0,\"ticks\":\"\"}},\"type\":\"scatterpolargl\"}],\"scatterternary\":[{\"marker\":{\"colorbar\":{\"outlinewidth\":0,\"ticks\":\"\"}},\"type\":\"scatterternary\"}],\"surface\":[{\"colorbar\":{\"outlinewidth\":0,\"ticks\":\"\"},\"colorscale\":[[0.0,\"#0d0887\"],[0.1111111111111111,\"#46039f\"],[0.2222222222222222,\"#7201a8\"],[0.3333333333333333,\"#9c179e\"],[0.4444444444444444,\"#bd3786\"],[0.5555555555555556,\"#d8576b\"],[0.6666666666666666,\"#ed7953\"],[0.7777777777777778,\"#fb9f3a\"],[0.8888888888888888,\"#fdca26\"],[1.0,\"#f0f921\"]],\"type\":\"surface\"}],\"table\":[{\"cells\":{\"fill\":{\"color\":\"#EBF0F8\"},\"line\":{\"color\":\"white\"}},\"header\":{\"fill\":{\"color\":\"#C8D4E3\"},\"line\":{\"color\":\"white\"}},\"type\":\"table\"}]},\"layout\":{\"annotationdefaults\":{\"arrowcolor\":\"#2a3f5f\",\"arrowhead\":0,\"arrowwidth\":1},\"autotypenumbers\":\"strict\",\"coloraxis\":{\"colorbar\":{\"outlinewidth\":0,\"ticks\":\"\"}},\"colorscale\":{\"diverging\":[[0,\"#8e0152\"],[0.1,\"#c51b7d\"],[0.2,\"#de77ae\"],[0.3,\"#f1b6da\"],[0.4,\"#fde0ef\"],[0.5,\"#f7f7f7\"],[0.6,\"#e6f5d0\"],[0.7,\"#b8e186\"],[0.8,\"#7fbc41\"],[0.9,\"#4d9221\"],[1,\"#276419\"]],\"sequential\":[[0.0,\"#0d0887\"],[0.1111111111111111,\"#46039f\"],[0.2222222222222222,\"#7201a8\"],[0.3333333333333333,\"#9c179e\"],[0.4444444444444444,\"#bd3786\"],[0.5555555555555556,\"#d8576b\"],[0.6666666666666666,\"#ed7953\"],[0.7777777777777778,\"#fb9f3a\"],[0.8888888888888888,\"#fdca26\"],[1.0,\"#f0f921\"]],\"sequentialminus\":[[0.0,\"#0d0887\"],[0.1111111111111111,\"#46039f\"],[0.2222222222222222,\"#7201a8\"],[0.3333333333333333,\"#9c179e\"],[0.4444444444444444,\"#bd3786\"],[0.5555555555555556,\"#d8576b\"],[0.6666666666666666,\"#ed7953\"],[0.7777777777777778,\"#fb9f3a\"],[0.8888888888888888,\"#fdca26\"],[1.0,\"#f0f921\"]]},\"colorway\":[\"#636efa\",\"#EF553B\",\"#00cc96\",\"#ab63fa\",\"#FFA15A\",\"#19d3f3\",\"#FF6692\",\"#B6E880\",\"#FF97FF\",\"#FECB52\"],\"font\":{\"color\":\"#2a3f5f\"},\"geo\":{\"bgcolor\":\"white\",\"lakecolor\":\"white\",\"landcolor\":\"#E5ECF6\",\"showlakes\":true,\"showland\":true,\"subunitcolor\":\"white\"},\"hoverlabel\":{\"align\":\"left\"},\"hovermode\":\"closest\",\"mapbox\":{\"style\":\"light\"},\"paper_bgcolor\":\"white\",\"plot_bgcolor\":\"#E5ECF6\",\"polar\":{\"angularaxis\":{\"gridcolor\":\"white\",\"linecolor\":\"white\",\"ticks\":\"\"},\"bgcolor\":\"#E5ECF6\",\"radialaxis\":{\"gridcolor\":\"white\",\"linecolor\":\"white\",\"ticks\":\"\"}},\"scene\":{\"xaxis\":{\"backgroundcolor\":\"#E5ECF6\",\"gridcolor\":\"white\",\"gridwidth\":2,\"linecolor\":\"white\",\"showbackground\":true,\"ticks\":\"\",\"zerolinecolor\":\"white\"},\"yaxis\":{\"backgroundcolor\":\"#E5ECF6\",\"gridcolor\":\"white\",\"gridwidth\":2,\"linecolor\":\"white\",\"showbackground\":true,\"ticks\":\"\",\"zerolinecolor\":\"white\"},\"zaxis\":{\"backgroundcolor\":\"#E5ECF6\",\"gridcolor\":\"white\",\"gridwidth\":2,\"linecolor\":\"white\",\"showbackground\":true,\"ticks\":\"\",\"zerolinecolor\":\"white\"}},\"shapedefaults\":{\"line\":{\"color\":\"#2a3f5f\"}},\"ternary\":{\"aaxis\":{\"gridcolor\":\"white\",\"linecolor\":\"white\",\"ticks\":\"\"},\"baxis\":{\"gridcolor\":\"white\",\"linecolor\":\"white\",\"ticks\":\"\"},\"bgcolor\":\"#E5ECF6\",\"caxis\":{\"gridcolor\":\"white\",\"linecolor\":\"white\",\"ticks\":\"\"}},\"title\":{\"x\":0.05},\"xaxis\":{\"automargin\":true,\"gridcolor\":\"white\",\"linecolor\":\"white\",\"ticks\":\"\",\"title\":{\"standoff\":15},\"zerolinecolor\":\"white\",\"zerolinewidth\":2},\"yaxis\":{\"automargin\":true,\"gridcolor\":\"white\",\"linecolor\":\"white\",\"ticks\":\"\",\"title\":{\"standoff\":15},\"zerolinecolor\":\"white\",\"zerolinewidth\":2}}},\"xaxis\":{\"anchor\":\"y\",\"domain\":[0.0,1.0],\"title\":{\"text\":\"Experience\"}},\"yaxis\":{\"anchor\":\"x\",\"domain\":[0.0,1.0],\"title\":{\"text\":\"xG Per Avg Match_per season\"}},\"legend\":{\"tracegroupgap\":0},\"title\":{\"text\":\"Relations between Experience and xG per Year\"}},                        {\"responsive\": true}                    ).then(function(){\n",
       "                            \n",
       "var gd = document.getElementById('bddc6d0a-e299-4c80-be62-adc805e6bf24');\n",
       "var x = new MutationObserver(function (mutations, observer) {{\n",
       "        var display = window.getComputedStyle(gd).display;\n",
       "        if (!display || display === 'none') {{\n",
       "            console.log([gd, 'removed!']);\n",
       "            Plotly.purge(gd);\n",
       "            observer.disconnect();\n",
       "        }}\n",
       "}});\n",
       "\n",
       "// Listen for the removal of the full notebook cells\n",
       "var notebookContainer = gd.closest('#notebook-container');\n",
       "if (notebookContainer) {{\n",
       "    x.observe(notebookContainer, {childList: true});\n",
       "}}\n",
       "\n",
       "// Listen for the clearing of the current output cell\n",
       "var outputEl = gd.closest('.output');\n",
       "if (outputEl) {{\n",
       "    x.observe(outputEl, {childList: true});\n",
       "}}\n",
       "\n",
       "                        })                };                });            </script>        </div>"
      ]
     },
     "metadata": {},
     "output_type": "display_data"
    },
    {
     "data": {
      "application/vnd.plotly.v1+json": {
       "config": {
        "plotlyServerURL": "https://plot.ly"
       },
       "data": [
        {
         "alignmentgroup": "True",
         "hovertemplate": "Experience=%{x}<br>xG Per Avg Match_per season=%{y}<extra></extra>",
         "legendgroup": "",
         "marker": {
          "color": "#636efa"
         },
         "name": "",
         "notched": false,
         "offsetgroup": "",
         "orientation": "v",
         "showlegend": false,
         "type": "box",
         "x": [
          1,
          1,
          1,
          1,
          2,
          2,
          1,
          1,
          1,
          1,
          1,
          1,
          1,
          1,
          2,
          1,
          1,
          1,
          1,
          1,
          1,
          2,
          5,
          2,
          1,
          5,
          1,
          1,
          3,
          1,
          1,
          3,
          1,
          1,
          2,
          1,
          1,
          4,
          1,
          1,
          2,
          1,
          1,
          1,
          1,
          1,
          1,
          1,
          1,
          1,
          1,
          1,
          1,
          1,
          1,
          1,
          1,
          1,
          2,
          2,
          3,
          1,
          1,
          1,
          1,
          1,
          2,
          1,
          2,
          1,
          1,
          1,
          1,
          1,
          1,
          1,
          1,
          1,
          1,
          1,
          1,
          1,
          2,
          1,
          1,
          1,
          5,
          1,
          1,
          1,
          2,
          1,
          1,
          5,
          1,
          1,
          1,
          1,
          1,
          1,
          1,
          1,
          1,
          1,
          1,
          1,
          1,
          1,
          1,
          1,
          1,
          1,
          1,
          1,
          2,
          3,
          1,
          1,
          1,
          2,
          2,
          1,
          2,
          2,
          4,
          2,
          2,
          3,
          2,
          1,
          4,
          1,
          1,
          1,
          1,
          1,
          1,
          2,
          1,
          1,
          4,
          1,
          1,
          5,
          1,
          1,
          1,
          1,
          1,
          2,
          2,
          3,
          1,
          2,
          2,
          2,
          1,
          1,
          1,
          1,
          1,
          4,
          1,
          2,
          1,
          1,
          2,
          2,
          4,
          1,
          2,
          1,
          2,
          2,
          1,
          2,
          1,
          1,
          1,
          1,
          1,
          4,
          1,
          1,
          1,
          2,
          1,
          1,
          1,
          5,
          2,
          1,
          1,
          1,
          1,
          1,
          1,
          1,
          1,
          1,
          2,
          2,
          1,
          4,
          1,
          1,
          2,
          1,
          1,
          2,
          1,
          1,
          2,
          1,
          2,
          1,
          2,
          1,
          1,
          1,
          1,
          1,
          1,
          2,
          3,
          1,
          1,
          1,
          1,
          1,
          2,
          2,
          4,
          1,
          1,
          1,
          1,
          1,
          2,
          1,
          1,
          1,
          1,
          4,
          1,
          1,
          1,
          1,
          3,
          3,
          1,
          1,
          1,
          1,
          1,
          1,
          1,
          1,
          2,
          5,
          1,
          1,
          2,
          1,
          1,
          1,
          2,
          1,
          1,
          2,
          1,
          1,
          2,
          5,
          1,
          2,
          1,
          1,
          2,
          1,
          1,
          1,
          1,
          2,
          1,
          1,
          3,
          1,
          1,
          1,
          1,
          1,
          4,
          1,
          1,
          3,
          2,
          1,
          1,
          1,
          3,
          1,
          1,
          2,
          1,
          4,
          1,
          4,
          1,
          3,
          1,
          1,
          2,
          1,
          1,
          1,
          1,
          1,
          1,
          2,
          3,
          2,
          1,
          1,
          1,
          1,
          4,
          1,
          1,
          1,
          1,
          1,
          1,
          1,
          2,
          1,
          2,
          1,
          1,
          1,
          1,
          1,
          2,
          1,
          2,
          1,
          4,
          1,
          2,
          1,
          1,
          2,
          1,
          2,
          1,
          1,
          1,
          3,
          2,
          1,
          1,
          1,
          1,
          2,
          1,
          1,
          2,
          1,
          5,
          1,
          2,
          1,
          1,
          1,
          1,
          1,
          2,
          1,
          3,
          1,
          1,
          1,
          3,
          1,
          1,
          1,
          4,
          1,
          1,
          1,
          1,
          1,
          1,
          1,
          1,
          1,
          1,
          1,
          4,
          1,
          1,
          3,
          1,
          1,
          1,
          1,
          4,
          1,
          2,
          2,
          1,
          1,
          1,
          2,
          1,
          1,
          1,
          1,
          5,
          1,
          1,
          1,
          1,
          2,
          1,
          1,
          1,
          1,
          1,
          1,
          3,
          1,
          1,
          1,
          3,
          1,
          3,
          3,
          1,
          1,
          1,
          1,
          3,
          1
         ],
         "x0": " ",
         "xaxis": "x",
         "y": [
          0.22,
          0.52,
          0.23,
          0.61,
          0.45,
          0.34,
          0.3,
          0.67,
          0.35,
          0.28,
          0.8,
          0.41,
          0.28,
          0.54,
          0.63,
          0.35,
          0.37,
          0.91,
          0.48,
          0.25,
          0.25,
          0.74,
          0.46,
          0.39,
          0.37,
          0.63,
          0.56,
          0.32,
          0.42,
          0.41,
          0.2,
          0.45,
          0.38,
          0.4,
          0.42,
          0.4,
          0.61,
          0.47,
          0.27,
          0.25,
          0.47,
          0.42,
          0.26,
          0.18,
          0.49,
          0.58,
          0.24,
          0.45,
          0.42,
          0.33,
          0.48,
          0.27,
          0.65,
          0.18,
          0.47,
          0.28,
          0.67,
          0.5,
          0.32,
          0.48,
          0.59,
          0.42,
          0.16,
          0.35,
          0.48,
          0.39,
          0.62,
          0.45,
          0.56,
          0.41,
          0.43,
          0.53,
          0.17,
          0.77,
          0.61,
          0.33,
          0.47,
          0.71,
          0.58,
          0.29,
          0.34,
          0.33,
          0.55,
          0.62,
          0.53,
          0.28,
          0.62,
          0.24,
          0.48,
          0.27,
          0.62,
          0.27,
          0.29,
          0.97,
          0.56,
          0.34,
          0.31,
          0.26,
          0.09,
          0.16,
          0.81,
          0.53,
          0.37,
          0.38,
          0.24,
          0.39,
          0.78,
          0.45,
          0.41,
          0.23,
          0.53,
          0.36,
          0.49,
          0.33,
          0.48,
          0.39,
          0.27,
          0.27,
          0.45,
          0.32,
          0.63,
          0.23,
          0.74,
          0.36,
          0.51,
          0.32,
          0.52,
          0.55,
          0.34,
          0.7,
          0.62,
          0.91,
          0.23,
          0.42,
          0.25,
          0.23,
          0.41,
          0.8,
          0.46,
          0.39,
          0.45,
          0.41,
          0.33,
          0.57,
          0.5,
          0.19,
          0.31,
          0.31,
          0.26,
          0.42,
          0.36,
          0.48,
          0.32,
          0.55,
          0.72,
          0.66,
          0.5,
          0.26,
          0.18,
          0.65,
          0.75,
          0.5,
          0.55,
          0.28,
          0.56,
          0.47,
          0.5,
          0.38,
          0.41,
          0.41,
          0.46,
          0.53,
          0.35,
          0.42,
          0.38,
          0.55,
          0.32,
          0.33,
          0.37,
          0.94,
          0.26,
          0.59,
          0.62,
          0.46,
          0.67,
          0.16,
          0.57,
          0.41,
          0.49,
          0.51,
          0.29,
          0.68,
          0.7,
          0.41,
          0.41,
          0.22,
          0.49,
          0.6,
          0.25,
          0.31,
          0.32,
          0.43,
          0.07,
          0.62,
          0.33,
          0.44,
          0.61,
          0.29,
          0.42,
          0.42,
          0.56,
          0.57,
          0.39,
          0.24,
          0.18,
          0.36,
          0.38,
          0.43,
          0.38,
          0.33,
          0.29,
          0.78,
          0.42,
          0.38,
          0.43,
          0.45,
          0.22,
          0.34,
          0.25,
          0.49,
          0.42,
          0.35,
          0.61,
          0.68,
          0.37,
          0.61,
          0.36,
          0.33,
          0.39,
          0.23,
          0.58,
          0.48,
          0.42,
          0.42,
          0.34,
          0.7,
          0.37,
          0.52,
          1.1,
          0.45,
          0.79,
          0.34,
          0.53,
          0.39,
          0.37,
          0.31,
          0.54,
          0.31,
          0.36,
          0.8,
          0.36,
          0.39,
          0.4,
          0.52,
          0.43,
          0.29,
          0.52,
          0.36,
          0.36,
          0.32,
          0.18,
          0.23,
          0.93,
          0.76,
          0.48,
          0.32,
          0.57,
          0.29,
          0.36,
          0.57,
          0.29,
          0.43,
          0.55,
          0.52,
          0.67,
          0.42,
          0.35,
          0.59,
          0.41,
          0.4,
          0.33,
          0.38,
          0.68,
          0.49,
          0.4,
          0.44,
          0.46,
          0.29,
          0.63,
          0.28,
          0.45,
          0.28,
          0.39,
          0.36,
          0.37,
          0.44,
          0.28,
          0.58,
          0.67,
          0.35,
          0.66,
          0.73,
          0.56,
          0.28,
          0.4,
          0.6,
          0.34,
          0.79,
          0.63,
          0.28,
          0.78,
          0.72,
          0.21,
          0.3,
          0.54,
          0.54,
          0.44,
          0.52,
          0.26,
          0.5,
          0.7,
          0.21,
          0.33,
          0.37,
          0.32,
          0.39,
          0.69,
          0.47,
          0.77,
          0.47,
          0.58,
          0.45,
          0.66,
          0.24,
          0.41,
          0.38,
          0.79,
          0.5,
          0.27,
          0.45,
          0.41,
          0.53,
          0.47,
          0.57,
          0.5,
          0.35,
          0.4,
          0.44,
          0.56,
          0.52,
          0.27,
          0.44,
          0.31,
          0.46,
          0.4,
          0.31,
          0.32,
          0.46,
          1.04,
          0.32,
          0.34,
          0.27,
          0.42,
          0.34,
          0.42,
          0.53,
          0.4,
          0.27,
          0.56,
          0.54,
          0.31,
          0.33,
          0.75,
          0.4,
          0.47,
          0.52,
          0.47,
          0.39,
          0.35,
          0.35,
          0.29,
          0.57,
          0.55,
          0.43,
          0.75,
          0.46,
          0.5,
          0.4,
          0.36,
          0.21,
          0.27,
          0.84,
          0.51,
          0.31,
          0.34,
          0.53,
          0.35,
          0.31,
          0.42,
          0.75,
          0.77,
          0.35,
          0.38,
          0.6,
          0.42,
          0.44,
          0.37,
          0.4,
          0.53,
          0.48,
          0.43,
          0.25,
          0.16,
          0.41,
          0.44,
          0.58,
          0.37,
          0.33,
          0.43,
          0.34,
          0.43,
          0.53,
          0.45,
          0.46,
          0.47,
          0.62,
          0.5,
          0.59,
          0.33,
          0.29,
          0.68,
          0.4,
          0.88,
          0.45
         ],
         "y0": " ",
         "yaxis": "y"
        }
       ],
       "layout": {
        "boxmode": "group",
        "legend": {
         "tracegroupgap": 0
        },
        "margin": {
         "t": 60
        },
        "template": {
         "data": {
          "bar": [
           {
            "error_x": {
             "color": "#2a3f5f"
            },
            "error_y": {
             "color": "#2a3f5f"
            },
            "marker": {
             "line": {
              "color": "#E5ECF6",
              "width": 0.5
             },
             "pattern": {
              "fillmode": "overlay",
              "size": 10,
              "solidity": 0.2
             }
            },
            "type": "bar"
           }
          ],
          "barpolar": [
           {
            "marker": {
             "line": {
              "color": "#E5ECF6",
              "width": 0.5
             },
             "pattern": {
              "fillmode": "overlay",
              "size": 10,
              "solidity": 0.2
             }
            },
            "type": "barpolar"
           }
          ],
          "carpet": [
           {
            "aaxis": {
             "endlinecolor": "#2a3f5f",
             "gridcolor": "white",
             "linecolor": "white",
             "minorgridcolor": "white",
             "startlinecolor": "#2a3f5f"
            },
            "baxis": {
             "endlinecolor": "#2a3f5f",
             "gridcolor": "white",
             "linecolor": "white",
             "minorgridcolor": "white",
             "startlinecolor": "#2a3f5f"
            },
            "type": "carpet"
           }
          ],
          "choropleth": [
           {
            "colorbar": {
             "outlinewidth": 0,
             "ticks": ""
            },
            "type": "choropleth"
           }
          ],
          "contour": [
           {
            "colorbar": {
             "outlinewidth": 0,
             "ticks": ""
            },
            "colorscale": [
             [
              0,
              "#0d0887"
             ],
             [
              0.1111111111111111,
              "#46039f"
             ],
             [
              0.2222222222222222,
              "#7201a8"
             ],
             [
              0.3333333333333333,
              "#9c179e"
             ],
             [
              0.4444444444444444,
              "#bd3786"
             ],
             [
              0.5555555555555556,
              "#d8576b"
             ],
             [
              0.6666666666666666,
              "#ed7953"
             ],
             [
              0.7777777777777778,
              "#fb9f3a"
             ],
             [
              0.8888888888888888,
              "#fdca26"
             ],
             [
              1,
              "#f0f921"
             ]
            ],
            "type": "contour"
           }
          ],
          "contourcarpet": [
           {
            "colorbar": {
             "outlinewidth": 0,
             "ticks": ""
            },
            "type": "contourcarpet"
           }
          ],
          "heatmap": [
           {
            "colorbar": {
             "outlinewidth": 0,
             "ticks": ""
            },
            "colorscale": [
             [
              0,
              "#0d0887"
             ],
             [
              0.1111111111111111,
              "#46039f"
             ],
             [
              0.2222222222222222,
              "#7201a8"
             ],
             [
              0.3333333333333333,
              "#9c179e"
             ],
             [
              0.4444444444444444,
              "#bd3786"
             ],
             [
              0.5555555555555556,
              "#d8576b"
             ],
             [
              0.6666666666666666,
              "#ed7953"
             ],
             [
              0.7777777777777778,
              "#fb9f3a"
             ],
             [
              0.8888888888888888,
              "#fdca26"
             ],
             [
              1,
              "#f0f921"
             ]
            ],
            "type": "heatmap"
           }
          ],
          "heatmapgl": [
           {
            "colorbar": {
             "outlinewidth": 0,
             "ticks": ""
            },
            "colorscale": [
             [
              0,
              "#0d0887"
             ],
             [
              0.1111111111111111,
              "#46039f"
             ],
             [
              0.2222222222222222,
              "#7201a8"
             ],
             [
              0.3333333333333333,
              "#9c179e"
             ],
             [
              0.4444444444444444,
              "#bd3786"
             ],
             [
              0.5555555555555556,
              "#d8576b"
             ],
             [
              0.6666666666666666,
              "#ed7953"
             ],
             [
              0.7777777777777778,
              "#fb9f3a"
             ],
             [
              0.8888888888888888,
              "#fdca26"
             ],
             [
              1,
              "#f0f921"
             ]
            ],
            "type": "heatmapgl"
           }
          ],
          "histogram": [
           {
            "marker": {
             "pattern": {
              "fillmode": "overlay",
              "size": 10,
              "solidity": 0.2
             }
            },
            "type": "histogram"
           }
          ],
          "histogram2d": [
           {
            "colorbar": {
             "outlinewidth": 0,
             "ticks": ""
            },
            "colorscale": [
             [
              0,
              "#0d0887"
             ],
             [
              0.1111111111111111,
              "#46039f"
             ],
             [
              0.2222222222222222,
              "#7201a8"
             ],
             [
              0.3333333333333333,
              "#9c179e"
             ],
             [
              0.4444444444444444,
              "#bd3786"
             ],
             [
              0.5555555555555556,
              "#d8576b"
             ],
             [
              0.6666666666666666,
              "#ed7953"
             ],
             [
              0.7777777777777778,
              "#fb9f3a"
             ],
             [
              0.8888888888888888,
              "#fdca26"
             ],
             [
              1,
              "#f0f921"
             ]
            ],
            "type": "histogram2d"
           }
          ],
          "histogram2dcontour": [
           {
            "colorbar": {
             "outlinewidth": 0,
             "ticks": ""
            },
            "colorscale": [
             [
              0,
              "#0d0887"
             ],
             [
              0.1111111111111111,
              "#46039f"
             ],
             [
              0.2222222222222222,
              "#7201a8"
             ],
             [
              0.3333333333333333,
              "#9c179e"
             ],
             [
              0.4444444444444444,
              "#bd3786"
             ],
             [
              0.5555555555555556,
              "#d8576b"
             ],
             [
              0.6666666666666666,
              "#ed7953"
             ],
             [
              0.7777777777777778,
              "#fb9f3a"
             ],
             [
              0.8888888888888888,
              "#fdca26"
             ],
             [
              1,
              "#f0f921"
             ]
            ],
            "type": "histogram2dcontour"
           }
          ],
          "mesh3d": [
           {
            "colorbar": {
             "outlinewidth": 0,
             "ticks": ""
            },
            "type": "mesh3d"
           }
          ],
          "parcoords": [
           {
            "line": {
             "colorbar": {
              "outlinewidth": 0,
              "ticks": ""
             }
            },
            "type": "parcoords"
           }
          ],
          "pie": [
           {
            "automargin": true,
            "type": "pie"
           }
          ],
          "scatter": [
           {
            "marker": {
             "colorbar": {
              "outlinewidth": 0,
              "ticks": ""
             }
            },
            "type": "scatter"
           }
          ],
          "scatter3d": [
           {
            "line": {
             "colorbar": {
              "outlinewidth": 0,
              "ticks": ""
             }
            },
            "marker": {
             "colorbar": {
              "outlinewidth": 0,
              "ticks": ""
             }
            },
            "type": "scatter3d"
           }
          ],
          "scattercarpet": [
           {
            "marker": {
             "colorbar": {
              "outlinewidth": 0,
              "ticks": ""
             }
            },
            "type": "scattercarpet"
           }
          ],
          "scattergeo": [
           {
            "marker": {
             "colorbar": {
              "outlinewidth": 0,
              "ticks": ""
             }
            },
            "type": "scattergeo"
           }
          ],
          "scattergl": [
           {
            "marker": {
             "colorbar": {
              "outlinewidth": 0,
              "ticks": ""
             }
            },
            "type": "scattergl"
           }
          ],
          "scattermapbox": [
           {
            "marker": {
             "colorbar": {
              "outlinewidth": 0,
              "ticks": ""
             }
            },
            "type": "scattermapbox"
           }
          ],
          "scatterpolar": [
           {
            "marker": {
             "colorbar": {
              "outlinewidth": 0,
              "ticks": ""
             }
            },
            "type": "scatterpolar"
           }
          ],
          "scatterpolargl": [
           {
            "marker": {
             "colorbar": {
              "outlinewidth": 0,
              "ticks": ""
             }
            },
            "type": "scatterpolargl"
           }
          ],
          "scatterternary": [
           {
            "marker": {
             "colorbar": {
              "outlinewidth": 0,
              "ticks": ""
             }
            },
            "type": "scatterternary"
           }
          ],
          "surface": [
           {
            "colorbar": {
             "outlinewidth": 0,
             "ticks": ""
            },
            "colorscale": [
             [
              0,
              "#0d0887"
             ],
             [
              0.1111111111111111,
              "#46039f"
             ],
             [
              0.2222222222222222,
              "#7201a8"
             ],
             [
              0.3333333333333333,
              "#9c179e"
             ],
             [
              0.4444444444444444,
              "#bd3786"
             ],
             [
              0.5555555555555556,
              "#d8576b"
             ],
             [
              0.6666666666666666,
              "#ed7953"
             ],
             [
              0.7777777777777778,
              "#fb9f3a"
             ],
             [
              0.8888888888888888,
              "#fdca26"
             ],
             [
              1,
              "#f0f921"
             ]
            ],
            "type": "surface"
           }
          ],
          "table": [
           {
            "cells": {
             "fill": {
              "color": "#EBF0F8"
             },
             "line": {
              "color": "white"
             }
            },
            "header": {
             "fill": {
              "color": "#C8D4E3"
             },
             "line": {
              "color": "white"
             }
            },
            "type": "table"
           }
          ]
         },
         "layout": {
          "annotationdefaults": {
           "arrowcolor": "#2a3f5f",
           "arrowhead": 0,
           "arrowwidth": 1
          },
          "autotypenumbers": "strict",
          "coloraxis": {
           "colorbar": {
            "outlinewidth": 0,
            "ticks": ""
           }
          },
          "colorscale": {
           "diverging": [
            [
             0,
             "#8e0152"
            ],
            [
             0.1,
             "#c51b7d"
            ],
            [
             0.2,
             "#de77ae"
            ],
            [
             0.3,
             "#f1b6da"
            ],
            [
             0.4,
             "#fde0ef"
            ],
            [
             0.5,
             "#f7f7f7"
            ],
            [
             0.6,
             "#e6f5d0"
            ],
            [
             0.7,
             "#b8e186"
            ],
            [
             0.8,
             "#7fbc41"
            ],
            [
             0.9,
             "#4d9221"
            ],
            [
             1,
             "#276419"
            ]
           ],
           "sequential": [
            [
             0,
             "#0d0887"
            ],
            [
             0.1111111111111111,
             "#46039f"
            ],
            [
             0.2222222222222222,
             "#7201a8"
            ],
            [
             0.3333333333333333,
             "#9c179e"
            ],
            [
             0.4444444444444444,
             "#bd3786"
            ],
            [
             0.5555555555555556,
             "#d8576b"
            ],
            [
             0.6666666666666666,
             "#ed7953"
            ],
            [
             0.7777777777777778,
             "#fb9f3a"
            ],
            [
             0.8888888888888888,
             "#fdca26"
            ],
            [
             1,
             "#f0f921"
            ]
           ],
           "sequentialminus": [
            [
             0,
             "#0d0887"
            ],
            [
             0.1111111111111111,
             "#46039f"
            ],
            [
             0.2222222222222222,
             "#7201a8"
            ],
            [
             0.3333333333333333,
             "#9c179e"
            ],
            [
             0.4444444444444444,
             "#bd3786"
            ],
            [
             0.5555555555555556,
             "#d8576b"
            ],
            [
             0.6666666666666666,
             "#ed7953"
            ],
            [
             0.7777777777777778,
             "#fb9f3a"
            ],
            [
             0.8888888888888888,
             "#fdca26"
            ],
            [
             1,
             "#f0f921"
            ]
           ]
          },
          "colorway": [
           "#636efa",
           "#EF553B",
           "#00cc96",
           "#ab63fa",
           "#FFA15A",
           "#19d3f3",
           "#FF6692",
           "#B6E880",
           "#FF97FF",
           "#FECB52"
          ],
          "font": {
           "color": "#2a3f5f"
          },
          "geo": {
           "bgcolor": "white",
           "lakecolor": "white",
           "landcolor": "#E5ECF6",
           "showlakes": true,
           "showland": true,
           "subunitcolor": "white"
          },
          "hoverlabel": {
           "align": "left"
          },
          "hovermode": "closest",
          "mapbox": {
           "style": "light"
          },
          "paper_bgcolor": "white",
          "plot_bgcolor": "#E5ECF6",
          "polar": {
           "angularaxis": {
            "gridcolor": "white",
            "linecolor": "white",
            "ticks": ""
           },
           "bgcolor": "#E5ECF6",
           "radialaxis": {
            "gridcolor": "white",
            "linecolor": "white",
            "ticks": ""
           }
          },
          "scene": {
           "xaxis": {
            "backgroundcolor": "#E5ECF6",
            "gridcolor": "white",
            "gridwidth": 2,
            "linecolor": "white",
            "showbackground": true,
            "ticks": "",
            "zerolinecolor": "white"
           },
           "yaxis": {
            "backgroundcolor": "#E5ECF6",
            "gridcolor": "white",
            "gridwidth": 2,
            "linecolor": "white",
            "showbackground": true,
            "ticks": "",
            "zerolinecolor": "white"
           },
           "zaxis": {
            "backgroundcolor": "#E5ECF6",
            "gridcolor": "white",
            "gridwidth": 2,
            "linecolor": "white",
            "showbackground": true,
            "ticks": "",
            "zerolinecolor": "white"
           }
          },
          "shapedefaults": {
           "line": {
            "color": "#2a3f5f"
           }
          },
          "ternary": {
           "aaxis": {
            "gridcolor": "white",
            "linecolor": "white",
            "ticks": ""
           },
           "baxis": {
            "gridcolor": "white",
            "linecolor": "white",
            "ticks": ""
           },
           "bgcolor": "#E5ECF6",
           "caxis": {
            "gridcolor": "white",
            "linecolor": "white",
            "ticks": ""
           }
          },
          "title": {
           "x": 0.05
          },
          "xaxis": {
           "automargin": true,
           "gridcolor": "white",
           "linecolor": "white",
           "ticks": "",
           "title": {
            "standoff": 15
           },
           "zerolinecolor": "white",
           "zerolinewidth": 2
          },
          "yaxis": {
           "automargin": true,
           "gridcolor": "white",
           "linecolor": "white",
           "ticks": "",
           "title": {
            "standoff": 15
           },
           "zerolinecolor": "white",
           "zerolinewidth": 2
          }
         }
        },
        "xaxis": {
         "anchor": "y",
         "domain": [
          0,
          1
         ],
         "title": {
          "text": "Experience"
         }
        },
        "yaxis": {
         "anchor": "x",
         "domain": [
          0,
          1
         ],
         "title": {
          "text": "xG Per Avg Match_per season"
         }
        }
       }
      },
      "text/html": [
       "<div>                            <div id=\"f4db3bf8-589d-447c-ae2d-1dfc11a31929\" class=\"plotly-graph-div\" style=\"height:525px; width:100%;\"></div>            <script type=\"text/javascript\">                require([\"plotly\"], function(Plotly) {                    window.PLOTLYENV=window.PLOTLYENV || {};                                    if (document.getElementById(\"f4db3bf8-589d-447c-ae2d-1dfc11a31929\")) {                    Plotly.newPlot(                        \"f4db3bf8-589d-447c-ae2d-1dfc11a31929\",                        [{\"alignmentgroup\":\"True\",\"hovertemplate\":\"Experience=%{x}<br>xG Per Avg Match_per season=%{y}<extra></extra>\",\"legendgroup\":\"\",\"marker\":{\"color\":\"#636efa\"},\"name\":\"\",\"notched\":false,\"offsetgroup\":\"\",\"orientation\":\"v\",\"showlegend\":false,\"x\":[1,1,1,1,2,2,1,1,1,1,1,1,1,1,2,1,1,1,1,1,1,2,5,2,1,5,1,1,3,1,1,3,1,1,2,1,1,4,1,1,2,1,1,1,1,1,1,1,1,1,1,1,1,1,1,1,1,1,2,2,3,1,1,1,1,1,2,1,2,1,1,1,1,1,1,1,1,1,1,1,1,1,2,1,1,1,5,1,1,1,2,1,1,5,1,1,1,1,1,1,1,1,1,1,1,1,1,1,1,1,1,1,1,1,2,3,1,1,1,2,2,1,2,2,4,2,2,3,2,1,4,1,1,1,1,1,1,2,1,1,4,1,1,5,1,1,1,1,1,2,2,3,1,2,2,2,1,1,1,1,1,4,1,2,1,1,2,2,4,1,2,1,2,2,1,2,1,1,1,1,1,4,1,1,1,2,1,1,1,5,2,1,1,1,1,1,1,1,1,1,2,2,1,4,1,1,2,1,1,2,1,1,2,1,2,1,2,1,1,1,1,1,1,2,3,1,1,1,1,1,2,2,4,1,1,1,1,1,2,1,1,1,1,4,1,1,1,1,3,3,1,1,1,1,1,1,1,1,2,5,1,1,2,1,1,1,2,1,1,2,1,1,2,5,1,2,1,1,2,1,1,1,1,2,1,1,3,1,1,1,1,1,4,1,1,3,2,1,1,1,3,1,1,2,1,4,1,4,1,3,1,1,2,1,1,1,1,1,1,2,3,2,1,1,1,1,4,1,1,1,1,1,1,1,2,1,2,1,1,1,1,1,2,1,2,1,4,1,2,1,1,2,1,2,1,1,1,3,2,1,1,1,1,2,1,1,2,1,5,1,2,1,1,1,1,1,2,1,3,1,1,1,3,1,1,1,4,1,1,1,1,1,1,1,1,1,1,1,4,1,1,3,1,1,1,1,4,1,2,2,1,1,1,2,1,1,1,1,5,1,1,1,1,2,1,1,1,1,1,1,3,1,1,1,3,1,3,3,1,1,1,1,3,1],\"x0\":\" \",\"xaxis\":\"x\",\"y\":[0.22,0.52,0.23,0.61,0.45,0.34,0.3,0.67,0.35,0.28,0.8,0.41,0.28,0.54,0.63,0.35,0.37,0.91,0.48,0.25,0.25,0.74,0.46,0.39,0.37,0.63,0.56,0.32,0.42,0.41,0.2,0.45,0.38,0.4,0.42,0.4,0.61,0.47,0.27,0.25,0.47,0.42,0.26,0.18,0.49,0.58,0.24,0.45,0.42,0.33,0.48,0.27,0.65,0.18,0.47,0.28,0.67,0.5,0.32,0.48,0.59,0.42,0.16,0.35,0.48,0.39,0.62,0.45,0.56,0.41,0.43,0.53,0.17,0.77,0.61,0.33,0.47,0.71,0.58,0.29,0.34,0.33,0.55,0.62,0.53,0.28,0.62,0.24,0.48,0.27,0.62,0.27,0.29,0.97,0.56,0.34,0.31,0.26,0.09,0.16,0.81,0.53,0.37,0.38,0.24,0.39,0.78,0.45,0.41,0.23,0.53,0.36,0.49,0.33,0.48,0.39,0.27,0.27,0.45,0.32,0.63,0.23,0.74,0.36,0.51,0.32,0.52,0.55,0.34,0.7,0.62,0.91,0.23,0.42,0.25,0.23,0.41,0.8,0.46,0.39,0.45,0.41,0.33,0.57,0.5,0.19,0.31,0.31,0.26,0.42,0.36,0.48,0.32,0.55,0.72,0.66,0.5,0.26,0.18,0.65,0.75,0.5,0.55,0.28,0.56,0.47,0.5,0.38,0.41,0.41,0.46,0.53,0.35,0.42,0.38,0.55,0.32,0.33,0.37,0.94,0.26,0.59,0.62,0.46,0.67,0.16,0.57,0.41,0.49,0.51,0.29,0.68,0.7,0.41,0.41,0.22,0.49,0.6,0.25,0.31,0.32,0.43,0.07,0.62,0.33,0.44,0.61,0.29,0.42,0.42,0.56,0.57,0.39,0.24,0.18,0.36,0.38,0.43,0.38,0.33,0.29,0.78,0.42,0.38,0.43,0.45,0.22,0.34,0.25,0.49,0.42,0.35,0.61,0.68,0.37,0.61,0.36,0.33,0.39,0.23,0.58,0.48,0.42,0.42,0.34,0.7,0.37,0.52,1.1,0.45,0.79,0.34,0.53,0.39,0.37,0.31,0.54,0.31,0.36,0.8,0.36,0.39,0.4,0.52,0.43,0.29,0.52,0.36,0.36,0.32,0.18,0.23,0.93,0.76,0.48,0.32,0.57,0.29,0.36,0.57,0.29,0.43,0.55,0.52,0.67,0.42,0.35,0.59,0.41,0.4,0.33,0.38,0.68,0.49,0.4,0.44,0.46,0.29,0.63,0.28,0.45,0.28,0.39,0.36,0.37,0.44,0.28,0.58,0.67,0.35,0.66,0.73,0.56,0.28,0.4,0.6,0.34,0.79,0.63,0.28,0.78,0.72,0.21,0.3,0.54,0.54,0.44,0.52,0.26,0.5,0.7,0.21,0.33,0.37,0.32,0.39,0.69,0.47,0.77,0.47,0.58,0.45,0.66,0.24,0.41,0.38,0.79,0.5,0.27,0.45,0.41,0.53,0.47,0.57,0.5,0.35,0.4,0.44,0.56,0.52,0.27,0.44,0.31,0.46,0.4,0.31,0.32,0.46,1.04,0.32,0.34,0.27,0.42,0.34,0.42,0.53,0.4,0.27,0.56,0.54,0.31,0.33,0.75,0.4,0.47,0.52,0.47,0.39,0.35,0.35,0.29,0.57,0.55,0.43,0.75,0.46,0.5,0.4,0.36,0.21,0.27,0.84,0.51,0.31,0.34,0.53,0.35,0.31,0.42,0.75,0.77,0.35,0.38,0.6,0.42,0.44,0.37,0.4,0.53,0.48,0.43,0.25,0.16,0.41,0.44,0.58,0.37,0.33,0.43,0.34,0.43,0.53,0.45,0.46,0.47,0.62,0.5,0.59,0.33,0.29,0.68,0.4,0.88,0.45],\"y0\":\" \",\"yaxis\":\"y\",\"type\":\"box\"}],                        {\"template\":{\"data\":{\"bar\":[{\"error_x\":{\"color\":\"#2a3f5f\"},\"error_y\":{\"color\":\"#2a3f5f\"},\"marker\":{\"line\":{\"color\":\"#E5ECF6\",\"width\":0.5},\"pattern\":{\"fillmode\":\"overlay\",\"size\":10,\"solidity\":0.2}},\"type\":\"bar\"}],\"barpolar\":[{\"marker\":{\"line\":{\"color\":\"#E5ECF6\",\"width\":0.5},\"pattern\":{\"fillmode\":\"overlay\",\"size\":10,\"solidity\":0.2}},\"type\":\"barpolar\"}],\"carpet\":[{\"aaxis\":{\"endlinecolor\":\"#2a3f5f\",\"gridcolor\":\"white\",\"linecolor\":\"white\",\"minorgridcolor\":\"white\",\"startlinecolor\":\"#2a3f5f\"},\"baxis\":{\"endlinecolor\":\"#2a3f5f\",\"gridcolor\":\"white\",\"linecolor\":\"white\",\"minorgridcolor\":\"white\",\"startlinecolor\":\"#2a3f5f\"},\"type\":\"carpet\"}],\"choropleth\":[{\"colorbar\":{\"outlinewidth\":0,\"ticks\":\"\"},\"type\":\"choropleth\"}],\"contour\":[{\"colorbar\":{\"outlinewidth\":0,\"ticks\":\"\"},\"colorscale\":[[0.0,\"#0d0887\"],[0.1111111111111111,\"#46039f\"],[0.2222222222222222,\"#7201a8\"],[0.3333333333333333,\"#9c179e\"],[0.4444444444444444,\"#bd3786\"],[0.5555555555555556,\"#d8576b\"],[0.6666666666666666,\"#ed7953\"],[0.7777777777777778,\"#fb9f3a\"],[0.8888888888888888,\"#fdca26\"],[1.0,\"#f0f921\"]],\"type\":\"contour\"}],\"contourcarpet\":[{\"colorbar\":{\"outlinewidth\":0,\"ticks\":\"\"},\"type\":\"contourcarpet\"}],\"heatmap\":[{\"colorbar\":{\"outlinewidth\":0,\"ticks\":\"\"},\"colorscale\":[[0.0,\"#0d0887\"],[0.1111111111111111,\"#46039f\"],[0.2222222222222222,\"#7201a8\"],[0.3333333333333333,\"#9c179e\"],[0.4444444444444444,\"#bd3786\"],[0.5555555555555556,\"#d8576b\"],[0.6666666666666666,\"#ed7953\"],[0.7777777777777778,\"#fb9f3a\"],[0.8888888888888888,\"#fdca26\"],[1.0,\"#f0f921\"]],\"type\":\"heatmap\"}],\"heatmapgl\":[{\"colorbar\":{\"outlinewidth\":0,\"ticks\":\"\"},\"colorscale\":[[0.0,\"#0d0887\"],[0.1111111111111111,\"#46039f\"],[0.2222222222222222,\"#7201a8\"],[0.3333333333333333,\"#9c179e\"],[0.4444444444444444,\"#bd3786\"],[0.5555555555555556,\"#d8576b\"],[0.6666666666666666,\"#ed7953\"],[0.7777777777777778,\"#fb9f3a\"],[0.8888888888888888,\"#fdca26\"],[1.0,\"#f0f921\"]],\"type\":\"heatmapgl\"}],\"histogram\":[{\"marker\":{\"pattern\":{\"fillmode\":\"overlay\",\"size\":10,\"solidity\":0.2}},\"type\":\"histogram\"}],\"histogram2d\":[{\"colorbar\":{\"outlinewidth\":0,\"ticks\":\"\"},\"colorscale\":[[0.0,\"#0d0887\"],[0.1111111111111111,\"#46039f\"],[0.2222222222222222,\"#7201a8\"],[0.3333333333333333,\"#9c179e\"],[0.4444444444444444,\"#bd3786\"],[0.5555555555555556,\"#d8576b\"],[0.6666666666666666,\"#ed7953\"],[0.7777777777777778,\"#fb9f3a\"],[0.8888888888888888,\"#fdca26\"],[1.0,\"#f0f921\"]],\"type\":\"histogram2d\"}],\"histogram2dcontour\":[{\"colorbar\":{\"outlinewidth\":0,\"ticks\":\"\"},\"colorscale\":[[0.0,\"#0d0887\"],[0.1111111111111111,\"#46039f\"],[0.2222222222222222,\"#7201a8\"],[0.3333333333333333,\"#9c179e\"],[0.4444444444444444,\"#bd3786\"],[0.5555555555555556,\"#d8576b\"],[0.6666666666666666,\"#ed7953\"],[0.7777777777777778,\"#fb9f3a\"],[0.8888888888888888,\"#fdca26\"],[1.0,\"#f0f921\"]],\"type\":\"histogram2dcontour\"}],\"mesh3d\":[{\"colorbar\":{\"outlinewidth\":0,\"ticks\":\"\"},\"type\":\"mesh3d\"}],\"parcoords\":[{\"line\":{\"colorbar\":{\"outlinewidth\":0,\"ticks\":\"\"}},\"type\":\"parcoords\"}],\"pie\":[{\"automargin\":true,\"type\":\"pie\"}],\"scatter\":[{\"marker\":{\"colorbar\":{\"outlinewidth\":0,\"ticks\":\"\"}},\"type\":\"scatter\"}],\"scatter3d\":[{\"line\":{\"colorbar\":{\"outlinewidth\":0,\"ticks\":\"\"}},\"marker\":{\"colorbar\":{\"outlinewidth\":0,\"ticks\":\"\"}},\"type\":\"scatter3d\"}],\"scattercarpet\":[{\"marker\":{\"colorbar\":{\"outlinewidth\":0,\"ticks\":\"\"}},\"type\":\"scattercarpet\"}],\"scattergeo\":[{\"marker\":{\"colorbar\":{\"outlinewidth\":0,\"ticks\":\"\"}},\"type\":\"scattergeo\"}],\"scattergl\":[{\"marker\":{\"colorbar\":{\"outlinewidth\":0,\"ticks\":\"\"}},\"type\":\"scattergl\"}],\"scattermapbox\":[{\"marker\":{\"colorbar\":{\"outlinewidth\":0,\"ticks\":\"\"}},\"type\":\"scattermapbox\"}],\"scatterpolar\":[{\"marker\":{\"colorbar\":{\"outlinewidth\":0,\"ticks\":\"\"}},\"type\":\"scatterpolar\"}],\"scatterpolargl\":[{\"marker\":{\"colorbar\":{\"outlinewidth\":0,\"ticks\":\"\"}},\"type\":\"scatterpolargl\"}],\"scatterternary\":[{\"marker\":{\"colorbar\":{\"outlinewidth\":0,\"ticks\":\"\"}},\"type\":\"scatterternary\"}],\"surface\":[{\"colorbar\":{\"outlinewidth\":0,\"ticks\":\"\"},\"colorscale\":[[0.0,\"#0d0887\"],[0.1111111111111111,\"#46039f\"],[0.2222222222222222,\"#7201a8\"],[0.3333333333333333,\"#9c179e\"],[0.4444444444444444,\"#bd3786\"],[0.5555555555555556,\"#d8576b\"],[0.6666666666666666,\"#ed7953\"],[0.7777777777777778,\"#fb9f3a\"],[0.8888888888888888,\"#fdca26\"],[1.0,\"#f0f921\"]],\"type\":\"surface\"}],\"table\":[{\"cells\":{\"fill\":{\"color\":\"#EBF0F8\"},\"line\":{\"color\":\"white\"}},\"header\":{\"fill\":{\"color\":\"#C8D4E3\"},\"line\":{\"color\":\"white\"}},\"type\":\"table\"}]},\"layout\":{\"annotationdefaults\":{\"arrowcolor\":\"#2a3f5f\",\"arrowhead\":0,\"arrowwidth\":1},\"autotypenumbers\":\"strict\",\"coloraxis\":{\"colorbar\":{\"outlinewidth\":0,\"ticks\":\"\"}},\"colorscale\":{\"diverging\":[[0,\"#8e0152\"],[0.1,\"#c51b7d\"],[0.2,\"#de77ae\"],[0.3,\"#f1b6da\"],[0.4,\"#fde0ef\"],[0.5,\"#f7f7f7\"],[0.6,\"#e6f5d0\"],[0.7,\"#b8e186\"],[0.8,\"#7fbc41\"],[0.9,\"#4d9221\"],[1,\"#276419\"]],\"sequential\":[[0.0,\"#0d0887\"],[0.1111111111111111,\"#46039f\"],[0.2222222222222222,\"#7201a8\"],[0.3333333333333333,\"#9c179e\"],[0.4444444444444444,\"#bd3786\"],[0.5555555555555556,\"#d8576b\"],[0.6666666666666666,\"#ed7953\"],[0.7777777777777778,\"#fb9f3a\"],[0.8888888888888888,\"#fdca26\"],[1.0,\"#f0f921\"]],\"sequentialminus\":[[0.0,\"#0d0887\"],[0.1111111111111111,\"#46039f\"],[0.2222222222222222,\"#7201a8\"],[0.3333333333333333,\"#9c179e\"],[0.4444444444444444,\"#bd3786\"],[0.5555555555555556,\"#d8576b\"],[0.6666666666666666,\"#ed7953\"],[0.7777777777777778,\"#fb9f3a\"],[0.8888888888888888,\"#fdca26\"],[1.0,\"#f0f921\"]]},\"colorway\":[\"#636efa\",\"#EF553B\",\"#00cc96\",\"#ab63fa\",\"#FFA15A\",\"#19d3f3\",\"#FF6692\",\"#B6E880\",\"#FF97FF\",\"#FECB52\"],\"font\":{\"color\":\"#2a3f5f\"},\"geo\":{\"bgcolor\":\"white\",\"lakecolor\":\"white\",\"landcolor\":\"#E5ECF6\",\"showlakes\":true,\"showland\":true,\"subunitcolor\":\"white\"},\"hoverlabel\":{\"align\":\"left\"},\"hovermode\":\"closest\",\"mapbox\":{\"style\":\"light\"},\"paper_bgcolor\":\"white\",\"plot_bgcolor\":\"#E5ECF6\",\"polar\":{\"angularaxis\":{\"gridcolor\":\"white\",\"linecolor\":\"white\",\"ticks\":\"\"},\"bgcolor\":\"#E5ECF6\",\"radialaxis\":{\"gridcolor\":\"white\",\"linecolor\":\"white\",\"ticks\":\"\"}},\"scene\":{\"xaxis\":{\"backgroundcolor\":\"#E5ECF6\",\"gridcolor\":\"white\",\"gridwidth\":2,\"linecolor\":\"white\",\"showbackground\":true,\"ticks\":\"\",\"zerolinecolor\":\"white\"},\"yaxis\":{\"backgroundcolor\":\"#E5ECF6\",\"gridcolor\":\"white\",\"gridwidth\":2,\"linecolor\":\"white\",\"showbackground\":true,\"ticks\":\"\",\"zerolinecolor\":\"white\"},\"zaxis\":{\"backgroundcolor\":\"#E5ECF6\",\"gridcolor\":\"white\",\"gridwidth\":2,\"linecolor\":\"white\",\"showbackground\":true,\"ticks\":\"\",\"zerolinecolor\":\"white\"}},\"shapedefaults\":{\"line\":{\"color\":\"#2a3f5f\"}},\"ternary\":{\"aaxis\":{\"gridcolor\":\"white\",\"linecolor\":\"white\",\"ticks\":\"\"},\"baxis\":{\"gridcolor\":\"white\",\"linecolor\":\"white\",\"ticks\":\"\"},\"bgcolor\":\"#E5ECF6\",\"caxis\":{\"gridcolor\":\"white\",\"linecolor\":\"white\",\"ticks\":\"\"}},\"title\":{\"x\":0.05},\"xaxis\":{\"automargin\":true,\"gridcolor\":\"white\",\"linecolor\":\"white\",\"ticks\":\"\",\"title\":{\"standoff\":15},\"zerolinecolor\":\"white\",\"zerolinewidth\":2},\"yaxis\":{\"automargin\":true,\"gridcolor\":\"white\",\"linecolor\":\"white\",\"ticks\":\"\",\"title\":{\"standoff\":15},\"zerolinecolor\":\"white\",\"zerolinewidth\":2}}},\"xaxis\":{\"anchor\":\"y\",\"domain\":[0.0,1.0],\"title\":{\"text\":\"Experience\"}},\"yaxis\":{\"anchor\":\"x\",\"domain\":[0.0,1.0],\"title\":{\"text\":\"xG Per Avg Match_per season\"}},\"legend\":{\"tracegroupgap\":0},\"margin\":{\"t\":60},\"boxmode\":\"group\"},                        {\"responsive\": true}                    ).then(function(){\n",
       "                            \n",
       "var gd = document.getElementById('f4db3bf8-589d-447c-ae2d-1dfc11a31929');\n",
       "var x = new MutationObserver(function (mutations, observer) {{\n",
       "        var display = window.getComputedStyle(gd).display;\n",
       "        if (!display || display === 'none') {{\n",
       "            console.log([gd, 'removed!']);\n",
       "            Plotly.purge(gd);\n",
       "            observer.disconnect();\n",
       "        }}\n",
       "}});\n",
       "\n",
       "// Listen for the removal of the full notebook cells\n",
       "var notebookContainer = gd.closest('#notebook-container');\n",
       "if (notebookContainer) {{\n",
       "    x.observe(notebookContainer, {childList: true});\n",
       "}}\n",
       "\n",
       "// Listen for the clearing of the current output cell\n",
       "var outputEl = gd.closest('.output');\n",
       "if (outputEl) {{\n",
       "    x.observe(outputEl, {childList: true});\n",
       "}}\n",
       "\n",
       "                        })                };                });            </script>        </div>"
      ]
     },
     "metadata": {},
     "output_type": "display_data"
    }
   ],
   "source": [
    "fig = pl.scatter(finale, x = 'Experience', y = 'xG Per Avg Match_per season', title = 'Relations between Experience and xG per Year')\n",
    "\n",
    "fig1 = pl.box(finale, x = 'Experience', y = 'xG Per Avg Match_per season')\n",
    "\n",
    "fig.show()\n",
    "\n",
    "fig1.show()"
   ]
  },
  {
   "cell_type": "markdown",
   "id": "a33661ba",
   "metadata": {},
   "source": [
    "###### Первые два графика построены, чтобы выяснит зависит ли количество созданных моментов от опыта. Скаттерплот помог выстроить предположения, что возможно чем больше опыта, то тем больше будет нападающий создавать голевых моментов. Боксплот же это подтвердил. Как видно на втором график, средняя у боксполта будет повышать по мере увеличения опыта. Вывод: чем опытнее игрок, те он опаснее."
   ]
  },
  {
   "cell_type": "code",
   "execution_count": 114,
   "id": "eed4681b",
   "metadata": {},
   "outputs": [
    {
     "data": {
      "application/vnd.plotly.v1+json": {
       "config": {
        "plotlyServerURL": "https://plot.ly"
       },
       "data": [
        {
         "hovertemplate": "Mins_per season=%{x}<br>xG Per Avg Match_per season=%{y}<extra></extra>",
         "legendgroup": "",
         "marker": {
          "color": "#636efa",
          "symbol": "circle"
         },
         "mode": "markers",
         "name": "",
         "orientation": "v",
         "showlegend": false,
         "type": "scatter",
         "x": [
          834,
          1325,
          2168,
          2480,
          2432.5,
          1945,
          3104,
          861,
          2247,
          2732,
          280,
          2670,
          2398,
          3385,
          1632,
          903,
          2984,
          356,
          2931,
          645,
          547,
          1248,
          2719.2,
          3229.5,
          1637,
          1862.4,
          1786,
          2188,
          2191.33,
          2418,
          530,
          1500.67,
          451,
          2923,
          1794.5,
          2788,
          3075,
          2427,
          575,
          1882,
          2215,
          569,
          2824,
          3049,
          2569,
          1195,
          3099,
          833,
          732,
          1781,
          3246,
          2737,
          772,
          2399,
          1190,
          736,
          1063,
          1555,
          1096.5,
          1232.5,
          2123.33,
          2016,
          780,
          2256,
          903,
          2734,
          1774.5,
          1933,
          2400,
          2428,
          2648,
          599,
          575,
          3128,
          1928,
          2513,
          1633,
          1861,
          1895,
          2147,
          2131,
          1726,
          1839,
          2616,
          3299,
          3322,
          2616.2,
          1657,
          1336,
          1557,
          2841,
          2106,
          629,
          2278,
          2461,
          2585,
          1872,
          834,
          841,
          2312,
          827,
          3009,
          662,
          2214,
          1482,
          1974,
          490,
          3182,
          2173,
          2363,
          1367,
          2089,
          3232,
          3308,
          2546.5,
          3037,
          1864,
          2057,
          530,
          1710,
          1894.5,
          2023,
          985,
          1349,
          2209,
          2532,
          1503,
          2478.67,
          3108,
          1547,
          3046.75,
          1747,
          396,
          3181,
          709,
          2420,
          1434,
          899.5,
          589,
          3233,
          1629.75,
          2570,
          2633,
          2454,
          2699,
          566,
          2905,
          2562,
          2315,
          2661.5,
          1788,
          2444.33,
          2698,
          2343,
          2928,
          2328.5,
          786,
          3115,
          755,
          1872,
          911,
          2642.25,
          1733,
          1549.5,
          605,
          1906,
          2073.5,
          2176,
          2425,
          2684,
          3036.5,
          2511,
          2221,
          1970.5,
          1701,
          2345.5,
          3302,
          2155,
          2344,
          337,
          2194,
          2243.25,
          1742,
          916,
          825,
          2872,
          2472,
          1222,
          568,
          2461.2,
          2791.5,
          482,
          452,
          3148,
          627,
          1690,
          1965,
          1378,
          3491,
          872,
          2494.5,
          2746,
          960,
          2468.75,
          845,
          1330,
          1655,
          1189,
          3511,
          1300.5,
          2847,
          641,
          2112.5,
          1416,
          2125.5,
          2147,
          2224,
          769,
          2819,
          3276,
          3359,
          3050,
          2990,
          2999.5,
          2054.33,
          1834,
          2487,
          1849,
          2419,
          2022,
          2318,
          2809.5,
          2246.75,
          822,
          1994,
          2740,
          2033,
          1684,
          2461,
          2984,
          1745,
          2244,
          1430,
          2126.5,
          790,
          938,
          2143,
          3147,
          1569.67,
          1586,
          506,
          656,
          2581,
          3236,
          2575,
          2154,
          768,
          2317,
          2900,
          2554.6,
          775,
          2222,
          2611,
          561,
          2929,
          2962,
          1655,
          2933,
          1588,
          1585.5,
          990,
          2797,
          817,
          2283,
          1235,
          1780.5,
          2353,
          3651,
          2093.5,
          669,
          2125,
          2062,
          2627,
          1996.5,
          2826,
          2296,
          1979.67,
          2950,
          2279,
          2157,
          1709,
          857,
          2487.75,
          2717,
          3446,
          1921.67,
          3158,
          2000,
          2537,
          2495,
          1626.67,
          3180,
          2626,
          1553,
          2493,
          2536.75,
          2735,
          2465,
          454,
          2439.67,
          1392,
          2248,
          2256,
          2471,
          2517,
          2099,
          2464,
          786,
          2118,
          2035,
          1869,
          1400,
          3931,
          2014,
          3533,
          2648,
          1729,
          524,
          567,
          1311,
          872,
          2661,
          2047,
          680,
          2782.5,
          2877,
          1002.5,
          2193,
          898,
          3233,
          2451,
          2407,
          1448,
          2250,
          1616.5,
          2327,
          2667.75,
          2981,
          1886,
          631,
          2007,
          1073.5,
          1661,
          2883,
          853,
          914,
          3034,
          2534,
          1986,
          2964,
          2719,
          1639,
          2750,
          2532.5,
          2822,
          3289,
          1371,
          2063,
          2332.6,
          3228,
          2494.5,
          849,
          2718,
          2234,
          1937,
          2770,
          1189,
          2850,
          1966.67,
          1081,
          2051,
          1676,
          2394.67,
          2592,
          2842,
          624,
          2325.25,
          2272,
          591,
          2747,
          2340,
          1666,
          1630,
          1694,
          1412,
          2813,
          2312,
          2030,
          1606.25,
          3014,
          2904,
          2192,
          2071,
          642,
          3100,
          2163,
          1962.5,
          2213,
          1592.5,
          1561,
          2380,
          3087,
          2336,
          2253,
          2383,
          714,
          822,
          3062,
          2258.8,
          1867,
          2312,
          1749,
          824,
          1596,
          2772,
          2434,
          1348,
          2670,
          2695,
          3000,
          2045.33,
          779,
          2153,
          2869,
          2248,
          879,
          2343.67,
          2244,
          3192,
          2883,
          465,
          2556,
          2044.33,
          2106
         ],
         "xaxis": "x",
         "y": [
          0.22,
          0.52,
          0.23,
          0.61,
          0.45,
          0.34,
          0.3,
          0.67,
          0.35,
          0.28,
          0.8,
          0.41,
          0.28,
          0.54,
          0.63,
          0.35,
          0.37,
          0.91,
          0.48,
          0.25,
          0.25,
          0.74,
          0.46,
          0.39,
          0.37,
          0.63,
          0.56,
          0.32,
          0.42,
          0.41,
          0.2,
          0.45,
          0.38,
          0.4,
          0.42,
          0.4,
          0.61,
          0.47,
          0.27,
          0.25,
          0.47,
          0.42,
          0.26,
          0.18,
          0.49,
          0.58,
          0.24,
          0.45,
          0.42,
          0.33,
          0.48,
          0.27,
          0.65,
          0.18,
          0.47,
          0.28,
          0.67,
          0.5,
          0.32,
          0.48,
          0.59,
          0.42,
          0.16,
          0.35,
          0.48,
          0.39,
          0.62,
          0.45,
          0.56,
          0.41,
          0.43,
          0.53,
          0.17,
          0.77,
          0.61,
          0.33,
          0.47,
          0.71,
          0.58,
          0.29,
          0.34,
          0.33,
          0.55,
          0.62,
          0.53,
          0.28,
          0.62,
          0.24,
          0.48,
          0.27,
          0.62,
          0.27,
          0.29,
          0.97,
          0.56,
          0.34,
          0.31,
          0.26,
          0.09,
          0.16,
          0.81,
          0.53,
          0.37,
          0.38,
          0.24,
          0.39,
          0.78,
          0.45,
          0.41,
          0.23,
          0.53,
          0.36,
          0.49,
          0.33,
          0.48,
          0.39,
          0.27,
          0.27,
          0.45,
          0.32,
          0.63,
          0.23,
          0.74,
          0.36,
          0.51,
          0.32,
          0.52,
          0.55,
          0.34,
          0.7,
          0.62,
          0.91,
          0.23,
          0.42,
          0.25,
          0.23,
          0.41,
          0.8,
          0.46,
          0.39,
          0.45,
          0.41,
          0.33,
          0.57,
          0.5,
          0.19,
          0.31,
          0.31,
          0.26,
          0.42,
          0.36,
          0.48,
          0.32,
          0.55,
          0.72,
          0.66,
          0.5,
          0.26,
          0.18,
          0.65,
          0.75,
          0.5,
          0.55,
          0.28,
          0.56,
          0.47,
          0.5,
          0.38,
          0.41,
          0.41,
          0.46,
          0.53,
          0.35,
          0.42,
          0.38,
          0.55,
          0.32,
          0.33,
          0.37,
          0.94,
          0.26,
          0.59,
          0.62,
          0.46,
          0.67,
          0.16,
          0.57,
          0.41,
          0.49,
          0.51,
          0.29,
          0.68,
          0.7,
          0.41,
          0.41,
          0.22,
          0.49,
          0.6,
          0.25,
          0.31,
          0.32,
          0.43,
          0.07,
          0.62,
          0.33,
          0.44,
          0.61,
          0.29,
          0.42,
          0.42,
          0.56,
          0.57,
          0.39,
          0.24,
          0.18,
          0.36,
          0.38,
          0.43,
          0.38,
          0.33,
          0.29,
          0.78,
          0.42,
          0.38,
          0.43,
          0.45,
          0.22,
          0.34,
          0.25,
          0.49,
          0.42,
          0.35,
          0.61,
          0.68,
          0.37,
          0.61,
          0.36,
          0.33,
          0.39,
          0.23,
          0.58,
          0.48,
          0.42,
          0.42,
          0.34,
          0.7,
          0.37,
          0.52,
          1.1,
          0.45,
          0.79,
          0.34,
          0.53,
          0.39,
          0.37,
          0.31,
          0.54,
          0.31,
          0.36,
          0.8,
          0.36,
          0.39,
          0.4,
          0.52,
          0.43,
          0.29,
          0.52,
          0.36,
          0.36,
          0.32,
          0.18,
          0.23,
          0.93,
          0.76,
          0.48,
          0.32,
          0.57,
          0.29,
          0.36,
          0.57,
          0.29,
          0.43,
          0.55,
          0.52,
          0.67,
          0.42,
          0.35,
          0.59,
          0.41,
          0.4,
          0.33,
          0.38,
          0.68,
          0.49,
          0.4,
          0.44,
          0.46,
          0.29,
          0.63,
          0.28,
          0.45,
          0.28,
          0.39,
          0.36,
          0.37,
          0.44,
          0.28,
          0.58,
          0.67,
          0.35,
          0.66,
          0.73,
          0.56,
          0.28,
          0.4,
          0.6,
          0.34,
          0.79,
          0.63,
          0.28,
          0.78,
          0.72,
          0.21,
          0.3,
          0.54,
          0.54,
          0.44,
          0.52,
          0.26,
          0.5,
          0.7,
          0.21,
          0.33,
          0.37,
          0.32,
          0.39,
          0.69,
          0.47,
          0.77,
          0.47,
          0.58,
          0.45,
          0.66,
          0.24,
          0.41,
          0.38,
          0.79,
          0.5,
          0.27,
          0.45,
          0.41,
          0.53,
          0.47,
          0.57,
          0.5,
          0.35,
          0.4,
          0.44,
          0.56,
          0.52,
          0.27,
          0.44,
          0.31,
          0.46,
          0.4,
          0.31,
          0.32,
          0.46,
          1.04,
          0.32,
          0.34,
          0.27,
          0.42,
          0.34,
          0.42,
          0.53,
          0.4,
          0.27,
          0.56,
          0.54,
          0.31,
          0.33,
          0.75,
          0.4,
          0.47,
          0.52,
          0.47,
          0.39,
          0.35,
          0.35,
          0.29,
          0.57,
          0.55,
          0.43,
          0.75,
          0.46,
          0.5,
          0.4,
          0.36,
          0.21,
          0.27,
          0.84,
          0.51,
          0.31,
          0.34,
          0.53,
          0.35,
          0.31,
          0.42,
          0.75,
          0.77,
          0.35,
          0.38,
          0.6,
          0.42,
          0.44,
          0.37,
          0.4,
          0.53,
          0.48,
          0.43,
          0.25,
          0.16,
          0.41,
          0.44,
          0.58,
          0.37,
          0.33,
          0.43,
          0.34,
          0.43,
          0.53,
          0.45,
          0.46,
          0.47,
          0.62,
          0.5,
          0.59,
          0.33,
          0.29,
          0.68,
          0.4,
          0.88,
          0.45
         ],
         "yaxis": "y"
        },
        {
         "hovertemplate": "<b>OLS trendline</b><br>xG Per Avg Match_per season = -2.99947e-05 * Mins_per season + 0.506237<br>R<sup>2</sup>=0.022243<br><br>Mins_per season=%{x}<br>xG Per Avg Match_per season=%{y} <b>(trend)</b><extra></extra>",
         "legendgroup": "",
         "marker": {
          "color": "#636efa",
          "symbol": "circle"
         },
         "mode": "lines",
         "name": "",
         "showlegend": false,
         "type": "scatter",
         "x": [
          280,
          337,
          356,
          396,
          451,
          452,
          454,
          465,
          482,
          490,
          506,
          524,
          530,
          530,
          547,
          561,
          566,
          567,
          568,
          569,
          575,
          575,
          589,
          591,
          599,
          605,
          624,
          627,
          629,
          631,
          641,
          642,
          645,
          656,
          662,
          669,
          680,
          709,
          714,
          732,
          736,
          755,
          768,
          769,
          772,
          775,
          779,
          780,
          786,
          786,
          790,
          817,
          822,
          822,
          824,
          825,
          827,
          833,
          834,
          834,
          841,
          845,
          849,
          853,
          857,
          861,
          872,
          872,
          879,
          898,
          899.5,
          903,
          903,
          911,
          914,
          916,
          938,
          960,
          985,
          990,
          1002.5,
          1063,
          1073.5,
          1081,
          1096.5,
          1189,
          1189,
          1190,
          1195,
          1222,
          1232.5,
          1235,
          1248,
          1300.5,
          1311,
          1325,
          1330,
          1336,
          1348,
          1349,
          1367,
          1371,
          1378,
          1392,
          1400,
          1412,
          1416,
          1430,
          1434,
          1448,
          1482,
          1500.67,
          1503,
          1547,
          1549.5,
          1553,
          1555,
          1557,
          1561,
          1569.67,
          1585.5,
          1586,
          1588,
          1592.5,
          1596,
          1606.25,
          1616.5,
          1626.67,
          1629.75,
          1630,
          1632,
          1633,
          1637,
          1639,
          1655,
          1655,
          1657,
          1661,
          1666,
          1676,
          1684,
          1690,
          1694,
          1701,
          1709,
          1710,
          1726,
          1729,
          1733,
          1742,
          1745,
          1747,
          1749,
          1774.5,
          1780.5,
          1781,
          1786,
          1788,
          1794.5,
          1834,
          1839,
          1849,
          1861,
          1862.4,
          1864,
          1867,
          1869,
          1872,
          1872,
          1882,
          1886,
          1894.5,
          1895,
          1906,
          1921.67,
          1928,
          1933,
          1937,
          1945,
          1962.5,
          1965,
          1966.67,
          1970.5,
          1974,
          1979.67,
          1986,
          1994,
          1996.5,
          2000,
          2007,
          2014,
          2016,
          2022,
          2023,
          2030,
          2033,
          2035,
          2044.33,
          2045.33,
          2047,
          2051,
          2054.33,
          2057,
          2062,
          2063,
          2071,
          2073.5,
          2089,
          2093.5,
          2099,
          2106,
          2106,
          2112.5,
          2118,
          2123.33,
          2125,
          2125.5,
          2126.5,
          2131,
          2143,
          2147,
          2147,
          2153,
          2154,
          2155,
          2157,
          2163,
          2168,
          2173,
          2176,
          2188,
          2191.33,
          2192,
          2193,
          2194,
          2209,
          2213,
          2214,
          2215,
          2221,
          2222,
          2224,
          2234,
          2243.25,
          2244,
          2244,
          2246.75,
          2247,
          2248,
          2248,
          2250,
          2253,
          2256,
          2256,
          2258.8,
          2272,
          2278,
          2279,
          2283,
          2296,
          2312,
          2312,
          2312,
          2315,
          2317,
          2318,
          2325.25,
          2327,
          2328.5,
          2332.6,
          2336,
          2340,
          2343,
          2343.67,
          2344,
          2345.5,
          2353,
          2363,
          2380,
          2383,
          2394.67,
          2398,
          2399,
          2400,
          2407,
          2418,
          2419,
          2420,
          2425,
          2427,
          2428,
          2432.5,
          2434,
          2439.67,
          2444.33,
          2451,
          2454,
          2461,
          2461,
          2461.2,
          2464,
          2465,
          2468.75,
          2471,
          2472,
          2478.67,
          2480,
          2487,
          2487.75,
          2493,
          2494.5,
          2494.5,
          2495,
          2511,
          2513,
          2517,
          2532,
          2532.5,
          2534,
          2536.75,
          2537,
          2546.5,
          2554.6,
          2556,
          2562,
          2569,
          2570,
          2575,
          2581,
          2585,
          2592,
          2611,
          2616,
          2616.2,
          2626,
          2627,
          2633,
          2642.25,
          2648,
          2648,
          2661,
          2661.5,
          2667.75,
          2670,
          2670,
          2684,
          2695,
          2698,
          2699,
          2717,
          2718,
          2719,
          2719.2,
          2732,
          2734,
          2735,
          2737,
          2740,
          2746,
          2747,
          2750,
          2770,
          2772,
          2782.5,
          2788,
          2791.5,
          2797,
          2809.5,
          2813,
          2819,
          2822,
          2824,
          2826,
          2841,
          2842,
          2847,
          2850,
          2869,
          2872,
          2877,
          2883,
          2883,
          2900,
          2904,
          2905,
          2923,
          2928,
          2929,
          2931,
          2933,
          2950,
          2962,
          2964,
          2981,
          2984,
          2984,
          2990,
          2999.5,
          3000,
          3009,
          3014,
          3034,
          3036.5,
          3037,
          3046.75,
          3049,
          3050,
          3062,
          3075,
          3087,
          3099,
          3100,
          3104,
          3108,
          3115,
          3128,
          3147,
          3148,
          3158,
          3180,
          3181,
          3182,
          3192,
          3228,
          3229.5,
          3232,
          3233,
          3233,
          3236,
          3246,
          3276,
          3289,
          3299,
          3302,
          3308,
          3322,
          3359,
          3385,
          3446,
          3491,
          3511,
          3533,
          3651,
          3931
         ],
         "xaxis": "x",
         "y": [
          0.4978386907315733,
          0.4961289947295675,
          0.4955590960622323,
          0.49435930939415806,
          0.4927096027255561,
          0.49267960805885425,
          0.4926196187254505,
          0.49228967739173013,
          0.4917797680577986,
          0.49153981072418373,
          0.49105989605695405,
          0.4905199920563207,
          0.49034002405610955,
          0.49034002405610955,
          0.489830114722178,
          0.48941018938835207,
          0.48926021605484277,
          0.48923022138814093,
          0.4892002267214391,
          0.4891702320547372,
          0.48899026405452606,
          0.48899026405452606,
          0.4885703387207001,
          0.4885103493872964,
          0.48827039205368156,
          0.4880904240534704,
          0.4875205253861352,
          0.48743054138602965,
          0.4873705520526259,
          0.48731056271922224,
          0.4870106160522037,
          0.4869806213855018,
          0.48689063738539623,
          0.48656069605167585,
          0.4863807280514647,
          0.48617076538455173,
          0.48584082405083134,
          0.48497097871647754,
          0.4848210053829683,
          0.4842811013823349,
          0.48416112271552747,
          0.4835912240481922,
          0.4832012933810681,
          0.48317129871436626,
          0.4830813147142607,
          0.4829913307141551,
          0.4828713520473477,
          0.4828413573806459,
          0.48266138938043474,
          0.48266138938043474,
          0.48254141071362733,
          0.4817315547126772,
          0.48158158137916796,
          0.48158158137916796,
          0.4815215920457642,
          0.4814915973790624,
          0.48143160804565865,
          0.48125164004544757,
          0.4812216453787457,
          0.4812216453787457,
          0.4810116827118327,
          0.4808917040450253,
          0.4807717253782179,
          0.4806517467114105,
          0.480531768044603,
          0.4804117893777956,
          0.4800818480440752,
          0.4800818480440752,
          0.47987188537716224,
          0.479301986709827,
          0.47925699470977423,
          0.47915201337631774,
          0.47915201337631774,
          0.47891205604270287,
          0.4788220720425973,
          0.4787620827091936,
          0.4781022000417528,
          0.477442317374312,
          0.47669245070676564,
          0.47654247737325633,
          0.47616754403948314,
          0.47435286670402094,
          0.47403792270365147,
          0.4738129627033876,
          0.4733480453695088,
          0.47057353869958723,
          0.47057353869958723,
          0.4705435440328854,
          0.4703935706993761,
          0.469583714698426,
          0.46926877069805656,
          0.4691937840313019,
          0.4688038533641778,
          0.46722913336233046,
          0.46691418936196094,
          0.466494264028135,
          0.46634429069462574,
          0.4661643226944146,
          0.4658043866939923,
          0.4657743920272905,
          0.4652344880266571,
          0.46511450935984966,
          0.4649045466929367,
          0.4644846213591107,
          0.4642446640254959,
          0.46388472802507363,
          0.4637647493582662,
          0.4633448240244402,
          0.4632248453576328,
          0.46280492002380685,
          0.4617851013559438,
          0.4612251009286202,
          0.4611552133552048,
          0.4598354480203232,
          0.4597604613535686,
          0.4596554800201121,
          0.4595954906867084,
          0.4595355013533047,
          0.45941552268649727,
          0.4591554689261922,
          0.45868065335230185,
          0.4586656560189509,
          0.4586056666855472,
          0.4584706906853888,
          0.4583657093519323,
          0.45805826401823835,
          0.4577508186845443,
          0.4574457729241865,
          0.45735338935074477,
          0.4573458906840693,
          0.4572859013506656,
          0.4572559066839637,
          0.4571359280171563,
          0.45707593868375257,
          0.45659602401652294,
          0.45659602401652294,
          0.4565360346831192,
          0.4564160560163118,
          0.4562660826828025,
          0.45596613601578395,
          0.45572617868216914,
          0.455546210681958,
          0.4554262320151506,
          0.4552162693482376,
          0.45497631201462274,
          0.4549463173479209,
          0.4544664026806912,
          0.45437641868058565,
          0.45425644001377824,
          0.45398648801346153,
          0.45389650401335596,
          0.4538365146799523,
          0.45377652534654855,
          0.4530116613456513,
          0.45283169334544016,
          0.45281669601208924,
          0.45266672267857994,
          0.4526067333451762,
          0.4524117680116142,
          0.45122697867689093,
          0.45107700534338163,
          0.4507770586763631,
          0.4504171226759408,
          0.45037513014255826,
          0.4503271386758353,
          0.4502371546757297,
          0.450177165342326,
          0.4500871813422204,
          0.4500871813422204,
          0.4497872346752019,
          0.44966725600839447,
          0.4494123013414287,
          0.44939730400807776,
          0.4490673626743574,
          0.4485973462471393,
          0.44840748000691655,
          0.4482575066734073,
          0.4481375280065999,
          0.447897570672985,
          0.4473726640057026,
          0.44729767733894793,
          0.44724758624555583,
          0.4471327066720877,
          0.4470277253386312,
          0.4468576555784317,
          0.446667789338209,
          0.4464278320045941,
          0.4463528453378395,
          0.446247864004383,
          0.44603790133747,
          0.44582793867055703,
          0.44576794933715336,
          0.4455879813369422,
          0.4455579866702404,
          0.44534802400332735,
          0.4452580400032218,
          0.4451980506698181,
          0.4449182004294898,
          0.4448882057627879,
          0.4448381146693958,
          0.4447181360025884,
          0.4446182537624712,
          0.4445381680023773,
          0.44438819466886803,
          0.4443582000021662,
          0.4441182426685513,
          0.44404325600179667,
          0.44357833866791796,
          0.4434433626677596,
          0.44327839200089936,
          0.4430684293339864,
          0.4430684293339864,
          0.4428734640004244,
          0.44270849333356416,
          0.4425486217600433,
          0.4424985306666512,
          0.44248353333330026,
          0.44245353866659837,
          0.44231856266644004,
          0.44195862666601776,
          0.44183864799921035,
          0.44183864799921035,
          0.4416586799989992,
          0.4416286853322974,
          0.44159869066559554,
          0.4415387013321918,
          0.44135873333198067,
          0.4412087599984714,
          0.4410587866649621,
          0.4409688026648566,
          0.44060886666443433,
          0.44050898442431713,
          0.44048888799762687,
          0.440458893330925,
          0.4404288986642232,
          0.4399789786636954,
          0.43985899999688793,
          0.4398290053301861,
          0.43979901066348426,
          0.4396190426632731,
          0.4395890479965713,
          0.43952905866316755,
          0.439229111996149,
          0.43895166132915686,
          0.43892916532913046,
          0.43892916532913046,
          0.4388466799957004,
          0.4388391813290249,
          0.43880918666232305,
          0.43880918666232305,
          0.4387491973289193,
          0.43865921332881375,
          0.4385692293287082,
          0.4385692293287082,
          0.438485244261943,
          0.4380893146614785,
          0.43790934666126735,
          0.4378793519945655,
          0.4377593733277581,
          0.437369442660634,
          0.4368895279934043,
          0.4368895279934043,
          0.4368895279934043,
          0.4367995439932988,
          0.43673955465989506,
          0.43670955999319316,
          0.43649209865960475,
          0.4364396079928765,
          0.4363946159928237,
          0.4362716378593461,
          0.4361696559925598,
          0.4360496773257524,
          0.4359596933256468,
          0.43593959689895656,
          0.435929698658945,
          0.4358847066588922,
          0.4356597466586283,
          0.43535979999160973,
          0.4348498906576782,
          0.43475990665757264,
          0.434409868897162,
          0.4343099866570448,
          0.43427999199034295,
          0.4342499973236411,
          0.43404003465672814,
          0.4337100933230077,
          0.43368009865630586,
          0.433650103989604,
          0.4335001306560947,
          0.43344014132269104,
          0.43341014665598915,
          0.4332751706558308,
          0.43323017865577806,
          0.4330601088955785,
          0.4329203337487479,
          0.4327202693218465,
          0.43263028532174097,
          0.43242032265482794,
          0.43242032265482794,
          0.4324143237214876,
          0.43233033865472237,
          0.43230034398802053,
          0.43218786398788855,
          0.4321203759878094,
          0.43209038132110755,
          0.4318903168942062,
          0.43185042398749274,
          0.43164046132057976,
          0.43161796532055335,
          0.4314604933203686,
          0.4314155013203158,
          0.4314155013203158,
          0.4314005039869649,
          0.4309205893197352,
          0.4308605999863315,
          0.43074062131952406,
          0.43029070131899627,
          0.43027570398564535,
          0.43023071198559254,
          0.43014822665216246,
          0.43014072798548697,
          0.42985577865181934,
          0.4296128218515344,
          0.42957082931815177,
          0.42939086131794063,
          0.42918089865102765,
          0.42915090398432576,
          0.4290009306508165,
          0.4288209626506054,
          0.42870098398379797,
          0.428491021316885,
          0.42792112264954973,
          0.42777114931604043,
          0.42776515038270013,
          0.42747120264902194,
          0.42744120798232005,
          0.42726123998210896,
          0.42698378931511677,
          0.4268113199815811,
          0.4268113199815811,
          0.426421389314457,
          0.4264063919811061,
          0.42621892531421945,
          0.4261514373141403,
          0.4261514373141403,
          0.42573151198031434,
          0.42540157064659395,
          0.4253115866464884,
          0.42528159197978654,
          0.4247416879791531,
          0.4247116933124513,
          0.42468169864574945,
          0.42467569971240904,
          0.42429176797862533,
          0.4242317786452216,
          0.42420178397851976,
          0.42414179464511603,
          0.42405181064501046,
          0.4238718426447993,
          0.4238418479780975,
          0.4237518639779919,
          0.4231519706439548,
          0.42309198131055115,
          0.4227770373101816,
          0.42261206664332146,
          0.42250708530986497,
          0.42234211464300475,
          0.42196718130923155,
          0.42186219997577507,
          0.4216822319755639,
          0.42159224797545836,
          0.4215322586420547,
          0.42147226930865095,
          0.42102234930812316,
          0.42099235464142126,
          0.420842381307912,
          0.42075239730780645,
          0.4201824986404712,
          0.4200925146403656,
          0.4199425413068564,
          0.41976257330664524,
          0.41976257330664524,
          0.4192526639727137,
          0.4191326853059063,
          0.41910269063920447,
          0.41856278663857105,
          0.41841281330506175,
          0.4183828186383599,
          0.41832282930495623,
          0.4182628399715525,
          0.417752930637621,
          0.4173929946371987,
          0.417333005303795,
          0.41682309596986344,
          0.41673311196975793,
          0.41673311196975793,
          0.4165531439695468,
          0.41626819463587916,
          0.41625319730252824,
          0.41598324530221154,
          0.41583327196870223,
          0.41523337863466514,
          0.41515839196791054,
          0.4151433946345596,
          0.4148509466342165,
          0.41478345863413735,
          0.4147534639674355,
          0.41439352796701323,
          0.4140035972998891,
          0.41364366129946684,
          0.4132837252990446,
          0.4132537306323427,
          0.4131337519655353,
          0.4130137732987279,
          0.4128038106318149,
          0.4124138799646908,
          0.41184398129735555,
          0.4118139866306537,
          0.41151403996363517,
          0.41085415729619434,
          0.4108241626294925,
          0.41079416796279067,
          0.4104942212957721,
          0.40941441329450534,
          0.40936942129445253,
          0.40929443462769793,
          0.40926443996099604,
          0.40926443996099604,
          0.4091744559608905,
          0.4088745092938719,
          0.40797466929281634,
          0.4075847386256922,
          0.4072847919586736,
          0.4071948079585681,
          0.40701483995835697,
          0.406594914624531,
          0.40548511195656234,
          0.4047052506223141,
          0.402875575953501,
          0.4015258159519175,
          0.4009259226178804,
          0.40026603995043963,
          0.39672666927962075,
          0.38832816260310143
         ],
         "yaxis": "y"
        }
       ],
       "layout": {
        "legend": {
         "tracegroupgap": 0
        },
        "template": {
         "data": {
          "bar": [
           {
            "error_x": {
             "color": "#2a3f5f"
            },
            "error_y": {
             "color": "#2a3f5f"
            },
            "marker": {
             "line": {
              "color": "#E5ECF6",
              "width": 0.5
             },
             "pattern": {
              "fillmode": "overlay",
              "size": 10,
              "solidity": 0.2
             }
            },
            "type": "bar"
           }
          ],
          "barpolar": [
           {
            "marker": {
             "line": {
              "color": "#E5ECF6",
              "width": 0.5
             },
             "pattern": {
              "fillmode": "overlay",
              "size": 10,
              "solidity": 0.2
             }
            },
            "type": "barpolar"
           }
          ],
          "carpet": [
           {
            "aaxis": {
             "endlinecolor": "#2a3f5f",
             "gridcolor": "white",
             "linecolor": "white",
             "minorgridcolor": "white",
             "startlinecolor": "#2a3f5f"
            },
            "baxis": {
             "endlinecolor": "#2a3f5f",
             "gridcolor": "white",
             "linecolor": "white",
             "minorgridcolor": "white",
             "startlinecolor": "#2a3f5f"
            },
            "type": "carpet"
           }
          ],
          "choropleth": [
           {
            "colorbar": {
             "outlinewidth": 0,
             "ticks": ""
            },
            "type": "choropleth"
           }
          ],
          "contour": [
           {
            "colorbar": {
             "outlinewidth": 0,
             "ticks": ""
            },
            "colorscale": [
             [
              0,
              "#0d0887"
             ],
             [
              0.1111111111111111,
              "#46039f"
             ],
             [
              0.2222222222222222,
              "#7201a8"
             ],
             [
              0.3333333333333333,
              "#9c179e"
             ],
             [
              0.4444444444444444,
              "#bd3786"
             ],
             [
              0.5555555555555556,
              "#d8576b"
             ],
             [
              0.6666666666666666,
              "#ed7953"
             ],
             [
              0.7777777777777778,
              "#fb9f3a"
             ],
             [
              0.8888888888888888,
              "#fdca26"
             ],
             [
              1,
              "#f0f921"
             ]
            ],
            "type": "contour"
           }
          ],
          "contourcarpet": [
           {
            "colorbar": {
             "outlinewidth": 0,
             "ticks": ""
            },
            "type": "contourcarpet"
           }
          ],
          "heatmap": [
           {
            "colorbar": {
             "outlinewidth": 0,
             "ticks": ""
            },
            "colorscale": [
             [
              0,
              "#0d0887"
             ],
             [
              0.1111111111111111,
              "#46039f"
             ],
             [
              0.2222222222222222,
              "#7201a8"
             ],
             [
              0.3333333333333333,
              "#9c179e"
             ],
             [
              0.4444444444444444,
              "#bd3786"
             ],
             [
              0.5555555555555556,
              "#d8576b"
             ],
             [
              0.6666666666666666,
              "#ed7953"
             ],
             [
              0.7777777777777778,
              "#fb9f3a"
             ],
             [
              0.8888888888888888,
              "#fdca26"
             ],
             [
              1,
              "#f0f921"
             ]
            ],
            "type": "heatmap"
           }
          ],
          "heatmapgl": [
           {
            "colorbar": {
             "outlinewidth": 0,
             "ticks": ""
            },
            "colorscale": [
             [
              0,
              "#0d0887"
             ],
             [
              0.1111111111111111,
              "#46039f"
             ],
             [
              0.2222222222222222,
              "#7201a8"
             ],
             [
              0.3333333333333333,
              "#9c179e"
             ],
             [
              0.4444444444444444,
              "#bd3786"
             ],
             [
              0.5555555555555556,
              "#d8576b"
             ],
             [
              0.6666666666666666,
              "#ed7953"
             ],
             [
              0.7777777777777778,
              "#fb9f3a"
             ],
             [
              0.8888888888888888,
              "#fdca26"
             ],
             [
              1,
              "#f0f921"
             ]
            ],
            "type": "heatmapgl"
           }
          ],
          "histogram": [
           {
            "marker": {
             "pattern": {
              "fillmode": "overlay",
              "size": 10,
              "solidity": 0.2
             }
            },
            "type": "histogram"
           }
          ],
          "histogram2d": [
           {
            "colorbar": {
             "outlinewidth": 0,
             "ticks": ""
            },
            "colorscale": [
             [
              0,
              "#0d0887"
             ],
             [
              0.1111111111111111,
              "#46039f"
             ],
             [
              0.2222222222222222,
              "#7201a8"
             ],
             [
              0.3333333333333333,
              "#9c179e"
             ],
             [
              0.4444444444444444,
              "#bd3786"
             ],
             [
              0.5555555555555556,
              "#d8576b"
             ],
             [
              0.6666666666666666,
              "#ed7953"
             ],
             [
              0.7777777777777778,
              "#fb9f3a"
             ],
             [
              0.8888888888888888,
              "#fdca26"
             ],
             [
              1,
              "#f0f921"
             ]
            ],
            "type": "histogram2d"
           }
          ],
          "histogram2dcontour": [
           {
            "colorbar": {
             "outlinewidth": 0,
             "ticks": ""
            },
            "colorscale": [
             [
              0,
              "#0d0887"
             ],
             [
              0.1111111111111111,
              "#46039f"
             ],
             [
              0.2222222222222222,
              "#7201a8"
             ],
             [
              0.3333333333333333,
              "#9c179e"
             ],
             [
              0.4444444444444444,
              "#bd3786"
             ],
             [
              0.5555555555555556,
              "#d8576b"
             ],
             [
              0.6666666666666666,
              "#ed7953"
             ],
             [
              0.7777777777777778,
              "#fb9f3a"
             ],
             [
              0.8888888888888888,
              "#fdca26"
             ],
             [
              1,
              "#f0f921"
             ]
            ],
            "type": "histogram2dcontour"
           }
          ],
          "mesh3d": [
           {
            "colorbar": {
             "outlinewidth": 0,
             "ticks": ""
            },
            "type": "mesh3d"
           }
          ],
          "parcoords": [
           {
            "line": {
             "colorbar": {
              "outlinewidth": 0,
              "ticks": ""
             }
            },
            "type": "parcoords"
           }
          ],
          "pie": [
           {
            "automargin": true,
            "type": "pie"
           }
          ],
          "scatter": [
           {
            "marker": {
             "colorbar": {
              "outlinewidth": 0,
              "ticks": ""
             }
            },
            "type": "scatter"
           }
          ],
          "scatter3d": [
           {
            "line": {
             "colorbar": {
              "outlinewidth": 0,
              "ticks": ""
             }
            },
            "marker": {
             "colorbar": {
              "outlinewidth": 0,
              "ticks": ""
             }
            },
            "type": "scatter3d"
           }
          ],
          "scattercarpet": [
           {
            "marker": {
             "colorbar": {
              "outlinewidth": 0,
              "ticks": ""
             }
            },
            "type": "scattercarpet"
           }
          ],
          "scattergeo": [
           {
            "marker": {
             "colorbar": {
              "outlinewidth": 0,
              "ticks": ""
             }
            },
            "type": "scattergeo"
           }
          ],
          "scattergl": [
           {
            "marker": {
             "colorbar": {
              "outlinewidth": 0,
              "ticks": ""
             }
            },
            "type": "scattergl"
           }
          ],
          "scattermapbox": [
           {
            "marker": {
             "colorbar": {
              "outlinewidth": 0,
              "ticks": ""
             }
            },
            "type": "scattermapbox"
           }
          ],
          "scatterpolar": [
           {
            "marker": {
             "colorbar": {
              "outlinewidth": 0,
              "ticks": ""
             }
            },
            "type": "scatterpolar"
           }
          ],
          "scatterpolargl": [
           {
            "marker": {
             "colorbar": {
              "outlinewidth": 0,
              "ticks": ""
             }
            },
            "type": "scatterpolargl"
           }
          ],
          "scatterternary": [
           {
            "marker": {
             "colorbar": {
              "outlinewidth": 0,
              "ticks": ""
             }
            },
            "type": "scatterternary"
           }
          ],
          "surface": [
           {
            "colorbar": {
             "outlinewidth": 0,
             "ticks": ""
            },
            "colorscale": [
             [
              0,
              "#0d0887"
             ],
             [
              0.1111111111111111,
              "#46039f"
             ],
             [
              0.2222222222222222,
              "#7201a8"
             ],
             [
              0.3333333333333333,
              "#9c179e"
             ],
             [
              0.4444444444444444,
              "#bd3786"
             ],
             [
              0.5555555555555556,
              "#d8576b"
             ],
             [
              0.6666666666666666,
              "#ed7953"
             ],
             [
              0.7777777777777778,
              "#fb9f3a"
             ],
             [
              0.8888888888888888,
              "#fdca26"
             ],
             [
              1,
              "#f0f921"
             ]
            ],
            "type": "surface"
           }
          ],
          "table": [
           {
            "cells": {
             "fill": {
              "color": "#EBF0F8"
             },
             "line": {
              "color": "white"
             }
            },
            "header": {
             "fill": {
              "color": "#C8D4E3"
             },
             "line": {
              "color": "white"
             }
            },
            "type": "table"
           }
          ]
         },
         "layout": {
          "annotationdefaults": {
           "arrowcolor": "#2a3f5f",
           "arrowhead": 0,
           "arrowwidth": 1
          },
          "autotypenumbers": "strict",
          "coloraxis": {
           "colorbar": {
            "outlinewidth": 0,
            "ticks": ""
           }
          },
          "colorscale": {
           "diverging": [
            [
             0,
             "#8e0152"
            ],
            [
             0.1,
             "#c51b7d"
            ],
            [
             0.2,
             "#de77ae"
            ],
            [
             0.3,
             "#f1b6da"
            ],
            [
             0.4,
             "#fde0ef"
            ],
            [
             0.5,
             "#f7f7f7"
            ],
            [
             0.6,
             "#e6f5d0"
            ],
            [
             0.7,
             "#b8e186"
            ],
            [
             0.8,
             "#7fbc41"
            ],
            [
             0.9,
             "#4d9221"
            ],
            [
             1,
             "#276419"
            ]
           ],
           "sequential": [
            [
             0,
             "#0d0887"
            ],
            [
             0.1111111111111111,
             "#46039f"
            ],
            [
             0.2222222222222222,
             "#7201a8"
            ],
            [
             0.3333333333333333,
             "#9c179e"
            ],
            [
             0.4444444444444444,
             "#bd3786"
            ],
            [
             0.5555555555555556,
             "#d8576b"
            ],
            [
             0.6666666666666666,
             "#ed7953"
            ],
            [
             0.7777777777777778,
             "#fb9f3a"
            ],
            [
             0.8888888888888888,
             "#fdca26"
            ],
            [
             1,
             "#f0f921"
            ]
           ],
           "sequentialminus": [
            [
             0,
             "#0d0887"
            ],
            [
             0.1111111111111111,
             "#46039f"
            ],
            [
             0.2222222222222222,
             "#7201a8"
            ],
            [
             0.3333333333333333,
             "#9c179e"
            ],
            [
             0.4444444444444444,
             "#bd3786"
            ],
            [
             0.5555555555555556,
             "#d8576b"
            ],
            [
             0.6666666666666666,
             "#ed7953"
            ],
            [
             0.7777777777777778,
             "#fb9f3a"
            ],
            [
             0.8888888888888888,
             "#fdca26"
            ],
            [
             1,
             "#f0f921"
            ]
           ]
          },
          "colorway": [
           "#636efa",
           "#EF553B",
           "#00cc96",
           "#ab63fa",
           "#FFA15A",
           "#19d3f3",
           "#FF6692",
           "#B6E880",
           "#FF97FF",
           "#FECB52"
          ],
          "font": {
           "color": "#2a3f5f"
          },
          "geo": {
           "bgcolor": "white",
           "lakecolor": "white",
           "landcolor": "#E5ECF6",
           "showlakes": true,
           "showland": true,
           "subunitcolor": "white"
          },
          "hoverlabel": {
           "align": "left"
          },
          "hovermode": "closest",
          "mapbox": {
           "style": "light"
          },
          "paper_bgcolor": "white",
          "plot_bgcolor": "#E5ECF6",
          "polar": {
           "angularaxis": {
            "gridcolor": "white",
            "linecolor": "white",
            "ticks": ""
           },
           "bgcolor": "#E5ECF6",
           "radialaxis": {
            "gridcolor": "white",
            "linecolor": "white",
            "ticks": ""
           }
          },
          "scene": {
           "xaxis": {
            "backgroundcolor": "#E5ECF6",
            "gridcolor": "white",
            "gridwidth": 2,
            "linecolor": "white",
            "showbackground": true,
            "ticks": "",
            "zerolinecolor": "white"
           },
           "yaxis": {
            "backgroundcolor": "#E5ECF6",
            "gridcolor": "white",
            "gridwidth": 2,
            "linecolor": "white",
            "showbackground": true,
            "ticks": "",
            "zerolinecolor": "white"
           },
           "zaxis": {
            "backgroundcolor": "#E5ECF6",
            "gridcolor": "white",
            "gridwidth": 2,
            "linecolor": "white",
            "showbackground": true,
            "ticks": "",
            "zerolinecolor": "white"
           }
          },
          "shapedefaults": {
           "line": {
            "color": "#2a3f5f"
           }
          },
          "ternary": {
           "aaxis": {
            "gridcolor": "white",
            "linecolor": "white",
            "ticks": ""
           },
           "baxis": {
            "gridcolor": "white",
            "linecolor": "white",
            "ticks": ""
           },
           "bgcolor": "#E5ECF6",
           "caxis": {
            "gridcolor": "white",
            "linecolor": "white",
            "ticks": ""
           }
          },
          "title": {
           "x": 0.05
          },
          "xaxis": {
           "automargin": true,
           "gridcolor": "white",
           "linecolor": "white",
           "ticks": "",
           "title": {
            "standoff": 15
           },
           "zerolinecolor": "white",
           "zerolinewidth": 2
          },
          "yaxis": {
           "automargin": true,
           "gridcolor": "white",
           "linecolor": "white",
           "ticks": "",
           "title": {
            "standoff": 15
           },
           "zerolinecolor": "white",
           "zerolinewidth": 2
          }
         }
        },
        "title": {
         "text": "Relations between xG per Match and minutes played"
        },
        "xaxis": {
         "anchor": "y",
         "domain": [
          0,
          1
         ],
         "title": {
          "text": "Mins_per season"
         }
        },
        "yaxis": {
         "anchor": "x",
         "domain": [
          0,
          1
         ],
         "title": {
          "text": "xG Per Avg Match_per season"
         }
        }
       }
      },
      "text/html": [
       "<div>                            <div id=\"5d766722-67e2-48c7-82cb-0bd7e15f8b6d\" class=\"plotly-graph-div\" style=\"height:525px; width:100%;\"></div>            <script type=\"text/javascript\">                require([\"plotly\"], function(Plotly) {                    window.PLOTLYENV=window.PLOTLYENV || {};                                    if (document.getElementById(\"5d766722-67e2-48c7-82cb-0bd7e15f8b6d\")) {                    Plotly.newPlot(                        \"5d766722-67e2-48c7-82cb-0bd7e15f8b6d\",                        [{\"hovertemplate\":\"Mins_per season=%{x}<br>xG Per Avg Match_per season=%{y}<extra></extra>\",\"legendgroup\":\"\",\"marker\":{\"color\":\"#636efa\",\"symbol\":\"circle\"},\"mode\":\"markers\",\"name\":\"\",\"orientation\":\"v\",\"showlegend\":false,\"x\":[834.0,1325.0,2168.0,2480.0,2432.5,1945.0,3104.0,861.0,2247.0,2732.0,280.0,2670.0,2398.0,3385.0,1632.0,903.0,2984.0,356.0,2931.0,645.0,547.0,1248.0,2719.2,3229.5,1637.0,1862.4,1786.0,2188.0,2191.33,2418.0,530.0,1500.67,451.0,2923.0,1794.5,2788.0,3075.0,2427.0,575.0,1882.0,2215.0,569.0,2824.0,3049.0,2569.0,1195.0,3099.0,833.0,732.0,1781.0,3246.0,2737.0,772.0,2399.0,1190.0,736.0,1063.0,1555.0,1096.5,1232.5,2123.33,2016.0,780.0,2256.0,903.0,2734.0,1774.5,1933.0,2400.0,2428.0,2648.0,599.0,575.0,3128.0,1928.0,2513.0,1633.0,1861.0,1895.0,2147.0,2131.0,1726.0,1839.0,2616.0,3299.0,3322.0,2616.2,1657.0,1336.0,1557.0,2841.0,2106.0,629.0,2278.0,2461.0,2585.0,1872.0,834.0,841.0,2312.0,827.0,3009.0,662.0,2214.0,1482.0,1974.0,490.0,3182.0,2173.0,2363.0,1367.0,2089.0,3232.0,3308.0,2546.5,3037.0,1864.0,2057.0,530.0,1710.0,1894.5,2023.0,985.0,1349.0,2209.0,2532.0,1503.0,2478.67,3108.0,1547.0,3046.75,1747.0,396.0,3181.0,709.0,2420.0,1434.0,899.5,589.0,3233.0,1629.75,2570.0,2633.0,2454.0,2699.0,566.0,2905.0,2562.0,2315.0,2661.5,1788.0,2444.33,2698.0,2343.0,2928.0,2328.5,786.0,3115.0,755.0,1872.0,911.0,2642.25,1733.0,1549.5,605.0,1906.0,2073.5,2176.0,2425.0,2684.0,3036.5,2511.0,2221.0,1970.5,1701.0,2345.5,3302.0,2155.0,2344.0,337.0,2194.0,2243.25,1742.0,916.0,825.0,2872.0,2472.0,1222.0,568.0,2461.2,2791.5,482.0,452.0,3148.0,627.0,1690.0,1965.0,1378.0,3491.0,872.0,2494.5,2746.0,960.0,2468.75,845.0,1330.0,1655.0,1189.0,3511.0,1300.5,2847.0,641.0,2112.5,1416.0,2125.5,2147.0,2224.0,769.0,2819.0,3276.0,3359.0,3050.0,2990.0,2999.5,2054.33,1834.0,2487.0,1849.0,2419.0,2022.0,2318.0,2809.5,2246.75,822.0,1994.0,2740.0,2033.0,1684.0,2461.0,2984.0,1745.0,2244.0,1430.0,2126.5,790.0,938.0,2143.0,3147.0,1569.67,1586.0,506.0,656.0,2581.0,3236.0,2575.0,2154.0,768.0,2317.0,2900.0,2554.6,775.0,2222.0,2611.0,561.0,2929.0,2962.0,1655.0,2933.0,1588.0,1585.5,990.0,2797.0,817.0,2283.0,1235.0,1780.5,2353.0,3651.0,2093.5,669.0,2125.0,2062.0,2627.0,1996.5,2826.0,2296.0,1979.67,2950.0,2279.0,2157.0,1709.0,857.0,2487.75,2717.0,3446.0,1921.67,3158.0,2000.0,2537.0,2495.0,1626.67,3180.0,2626.0,1553.0,2493.0,2536.75,2735.0,2465.0,454.0,2439.67,1392.0,2248.0,2256.0,2471.0,2517.0,2099.0,2464.0,786.0,2118.0,2035.0,1869.0,1400.0,3931.0,2014.0,3533.0,2648.0,1729.0,524.0,567.0,1311.0,872.0,2661.0,2047.0,680.0,2782.5,2877.0,1002.5,2193.0,898.0,3233.0,2451.0,2407.0,1448.0,2250.0,1616.5,2327.0,2667.75,2981.0,1886.0,631.0,2007.0,1073.5,1661.0,2883.0,853.0,914.0,3034.0,2534.0,1986.0,2964.0,2719.0,1639.0,2750.0,2532.5,2822.0,3289.0,1371.0,2063.0,2332.6,3228.0,2494.5,849.0,2718.0,2234.0,1937.0,2770.0,1189.0,2850.0,1966.67,1081.0,2051.0,1676.0,2394.67,2592.0,2842.0,624.0,2325.25,2272.0,591.0,2747.0,2340.0,1666.0,1630.0,1694.0,1412.0,2813.0,2312.0,2030.0,1606.25,3014.0,2904.0,2192.0,2071.0,642.0,3100.0,2163.0,1962.5,2213.0,1592.5,1561.0,2380.0,3087.0,2336.0,2253.0,2383.0,714.0,822.0,3062.0,2258.8,1867.0,2312.0,1749.0,824.0,1596.0,2772.0,2434.0,1348.0,2670.0,2695.0,3000.0,2045.33,779.0,2153.0,2869.0,2248.0,879.0,2343.67,2244.0,3192.0,2883.0,465.0,2556.0,2044.33,2106.0],\"xaxis\":\"x\",\"y\":[0.22,0.52,0.23,0.61,0.45,0.34,0.3,0.67,0.35,0.28,0.8,0.41,0.28,0.54,0.63,0.35,0.37,0.91,0.48,0.25,0.25,0.74,0.46,0.39,0.37,0.63,0.56,0.32,0.42,0.41,0.2,0.45,0.38,0.4,0.42,0.4,0.61,0.47,0.27,0.25,0.47,0.42,0.26,0.18,0.49,0.58,0.24,0.45,0.42,0.33,0.48,0.27,0.65,0.18,0.47,0.28,0.67,0.5,0.32,0.48,0.59,0.42,0.16,0.35,0.48,0.39,0.62,0.45,0.56,0.41,0.43,0.53,0.17,0.77,0.61,0.33,0.47,0.71,0.58,0.29,0.34,0.33,0.55,0.62,0.53,0.28,0.62,0.24,0.48,0.27,0.62,0.27,0.29,0.97,0.56,0.34,0.31,0.26,0.09,0.16,0.81,0.53,0.37,0.38,0.24,0.39,0.78,0.45,0.41,0.23,0.53,0.36,0.49,0.33,0.48,0.39,0.27,0.27,0.45,0.32,0.63,0.23,0.74,0.36,0.51,0.32,0.52,0.55,0.34,0.7,0.62,0.91,0.23,0.42,0.25,0.23,0.41,0.8,0.46,0.39,0.45,0.41,0.33,0.57,0.5,0.19,0.31,0.31,0.26,0.42,0.36,0.48,0.32,0.55,0.72,0.66,0.5,0.26,0.18,0.65,0.75,0.5,0.55,0.28,0.56,0.47,0.5,0.38,0.41,0.41,0.46,0.53,0.35,0.42,0.38,0.55,0.32,0.33,0.37,0.94,0.26,0.59,0.62,0.46,0.67,0.16,0.57,0.41,0.49,0.51,0.29,0.68,0.7,0.41,0.41,0.22,0.49,0.6,0.25,0.31,0.32,0.43,0.07,0.62,0.33,0.44,0.61,0.29,0.42,0.42,0.56,0.57,0.39,0.24,0.18,0.36,0.38,0.43,0.38,0.33,0.29,0.78,0.42,0.38,0.43,0.45,0.22,0.34,0.25,0.49,0.42,0.35,0.61,0.68,0.37,0.61,0.36,0.33,0.39,0.23,0.58,0.48,0.42,0.42,0.34,0.7,0.37,0.52,1.1,0.45,0.79,0.34,0.53,0.39,0.37,0.31,0.54,0.31,0.36,0.8,0.36,0.39,0.4,0.52,0.43,0.29,0.52,0.36,0.36,0.32,0.18,0.23,0.93,0.76,0.48,0.32,0.57,0.29,0.36,0.57,0.29,0.43,0.55,0.52,0.67,0.42,0.35,0.59,0.41,0.4,0.33,0.38,0.68,0.49,0.4,0.44,0.46,0.29,0.63,0.28,0.45,0.28,0.39,0.36,0.37,0.44,0.28,0.58,0.67,0.35,0.66,0.73,0.56,0.28,0.4,0.6,0.34,0.79,0.63,0.28,0.78,0.72,0.21,0.3,0.54,0.54,0.44,0.52,0.26,0.5,0.7,0.21,0.33,0.37,0.32,0.39,0.69,0.47,0.77,0.47,0.58,0.45,0.66,0.24,0.41,0.38,0.79,0.5,0.27,0.45,0.41,0.53,0.47,0.57,0.5,0.35,0.4,0.44,0.56,0.52,0.27,0.44,0.31,0.46,0.4,0.31,0.32,0.46,1.04,0.32,0.34,0.27,0.42,0.34,0.42,0.53,0.4,0.27,0.56,0.54,0.31,0.33,0.75,0.4,0.47,0.52,0.47,0.39,0.35,0.35,0.29,0.57,0.55,0.43,0.75,0.46,0.5,0.4,0.36,0.21,0.27,0.84,0.51,0.31,0.34,0.53,0.35,0.31,0.42,0.75,0.77,0.35,0.38,0.6,0.42,0.44,0.37,0.4,0.53,0.48,0.43,0.25,0.16,0.41,0.44,0.58,0.37,0.33,0.43,0.34,0.43,0.53,0.45,0.46,0.47,0.62,0.5,0.59,0.33,0.29,0.68,0.4,0.88,0.45],\"yaxis\":\"y\",\"type\":\"scatter\"},{\"hovertemplate\":\"<b>OLS trendline</b><br>xG Per Avg Match_per season = -2.99947e-05 * Mins_per season + 0.506237<br>R<sup>2</sup>=0.022243<br><br>Mins_per season=%{x}<br>xG Per Avg Match_per season=%{y} <b>(trend)</b><extra></extra>\",\"legendgroup\":\"\",\"marker\":{\"color\":\"#636efa\",\"symbol\":\"circle\"},\"mode\":\"lines\",\"name\":\"\",\"showlegend\":false,\"x\":[280.0,337.0,356.0,396.0,451.0,452.0,454.0,465.0,482.0,490.0,506.0,524.0,530.0,530.0,547.0,561.0,566.0,567.0,568.0,569.0,575.0,575.0,589.0,591.0,599.0,605.0,624.0,627.0,629.0,631.0,641.0,642.0,645.0,656.0,662.0,669.0,680.0,709.0,714.0,732.0,736.0,755.0,768.0,769.0,772.0,775.0,779.0,780.0,786.0,786.0,790.0,817.0,822.0,822.0,824.0,825.0,827.0,833.0,834.0,834.0,841.0,845.0,849.0,853.0,857.0,861.0,872.0,872.0,879.0,898.0,899.5,903.0,903.0,911.0,914.0,916.0,938.0,960.0,985.0,990.0,1002.5,1063.0,1073.5,1081.0,1096.5,1189.0,1189.0,1190.0,1195.0,1222.0,1232.5,1235.0,1248.0,1300.5,1311.0,1325.0,1330.0,1336.0,1348.0,1349.0,1367.0,1371.0,1378.0,1392.0,1400.0,1412.0,1416.0,1430.0,1434.0,1448.0,1482.0,1500.67,1503.0,1547.0,1549.5,1553.0,1555.0,1557.0,1561.0,1569.67,1585.5,1586.0,1588.0,1592.5,1596.0,1606.25,1616.5,1626.67,1629.75,1630.0,1632.0,1633.0,1637.0,1639.0,1655.0,1655.0,1657.0,1661.0,1666.0,1676.0,1684.0,1690.0,1694.0,1701.0,1709.0,1710.0,1726.0,1729.0,1733.0,1742.0,1745.0,1747.0,1749.0,1774.5,1780.5,1781.0,1786.0,1788.0,1794.5,1834.0,1839.0,1849.0,1861.0,1862.4,1864.0,1867.0,1869.0,1872.0,1872.0,1882.0,1886.0,1894.5,1895.0,1906.0,1921.67,1928.0,1933.0,1937.0,1945.0,1962.5,1965.0,1966.67,1970.5,1974.0,1979.67,1986.0,1994.0,1996.5,2000.0,2007.0,2014.0,2016.0,2022.0,2023.0,2030.0,2033.0,2035.0,2044.33,2045.33,2047.0,2051.0,2054.33,2057.0,2062.0,2063.0,2071.0,2073.5,2089.0,2093.5,2099.0,2106.0,2106.0,2112.5,2118.0,2123.33,2125.0,2125.5,2126.5,2131.0,2143.0,2147.0,2147.0,2153.0,2154.0,2155.0,2157.0,2163.0,2168.0,2173.0,2176.0,2188.0,2191.33,2192.0,2193.0,2194.0,2209.0,2213.0,2214.0,2215.0,2221.0,2222.0,2224.0,2234.0,2243.25,2244.0,2244.0,2246.75,2247.0,2248.0,2248.0,2250.0,2253.0,2256.0,2256.0,2258.8,2272.0,2278.0,2279.0,2283.0,2296.0,2312.0,2312.0,2312.0,2315.0,2317.0,2318.0,2325.25,2327.0,2328.5,2332.6,2336.0,2340.0,2343.0,2343.67,2344.0,2345.5,2353.0,2363.0,2380.0,2383.0,2394.67,2398.0,2399.0,2400.0,2407.0,2418.0,2419.0,2420.0,2425.0,2427.0,2428.0,2432.5,2434.0,2439.67,2444.33,2451.0,2454.0,2461.0,2461.0,2461.2,2464.0,2465.0,2468.75,2471.0,2472.0,2478.67,2480.0,2487.0,2487.75,2493.0,2494.5,2494.5,2495.0,2511.0,2513.0,2517.0,2532.0,2532.5,2534.0,2536.75,2537.0,2546.5,2554.6,2556.0,2562.0,2569.0,2570.0,2575.0,2581.0,2585.0,2592.0,2611.0,2616.0,2616.2,2626.0,2627.0,2633.0,2642.25,2648.0,2648.0,2661.0,2661.5,2667.75,2670.0,2670.0,2684.0,2695.0,2698.0,2699.0,2717.0,2718.0,2719.0,2719.2,2732.0,2734.0,2735.0,2737.0,2740.0,2746.0,2747.0,2750.0,2770.0,2772.0,2782.5,2788.0,2791.5,2797.0,2809.5,2813.0,2819.0,2822.0,2824.0,2826.0,2841.0,2842.0,2847.0,2850.0,2869.0,2872.0,2877.0,2883.0,2883.0,2900.0,2904.0,2905.0,2923.0,2928.0,2929.0,2931.0,2933.0,2950.0,2962.0,2964.0,2981.0,2984.0,2984.0,2990.0,2999.5,3000.0,3009.0,3014.0,3034.0,3036.5,3037.0,3046.75,3049.0,3050.0,3062.0,3075.0,3087.0,3099.0,3100.0,3104.0,3108.0,3115.0,3128.0,3147.0,3148.0,3158.0,3180.0,3181.0,3182.0,3192.0,3228.0,3229.5,3232.0,3233.0,3233.0,3236.0,3246.0,3276.0,3289.0,3299.0,3302.0,3308.0,3322.0,3359.0,3385.0,3446.0,3491.0,3511.0,3533.0,3651.0,3931.0],\"xaxis\":\"x\",\"y\":[0.4978386907315733,0.4961289947295675,0.4955590960622323,0.49435930939415806,0.4927096027255561,0.49267960805885425,0.4926196187254505,0.49228967739173013,0.4917797680577986,0.49153981072418373,0.49105989605695405,0.4905199920563207,0.49034002405610955,0.49034002405610955,0.489830114722178,0.48941018938835207,0.48926021605484277,0.48923022138814093,0.4892002267214391,0.4891702320547372,0.48899026405452606,0.48899026405452606,0.4885703387207001,0.4885103493872964,0.48827039205368156,0.4880904240534704,0.4875205253861352,0.48743054138602965,0.4873705520526259,0.48731056271922224,0.4870106160522037,0.4869806213855018,0.48689063738539623,0.48656069605167585,0.4863807280514647,0.48617076538455173,0.48584082405083134,0.48497097871647754,0.4848210053829683,0.4842811013823349,0.48416112271552747,0.4835912240481922,0.4832012933810681,0.48317129871436626,0.4830813147142607,0.4829913307141551,0.4828713520473477,0.4828413573806459,0.48266138938043474,0.48266138938043474,0.48254141071362733,0.4817315547126772,0.48158158137916796,0.48158158137916796,0.4815215920457642,0.4814915973790624,0.48143160804565865,0.48125164004544757,0.4812216453787457,0.4812216453787457,0.4810116827118327,0.4808917040450253,0.4807717253782179,0.4806517467114105,0.480531768044603,0.4804117893777956,0.4800818480440752,0.4800818480440752,0.47987188537716224,0.479301986709827,0.47925699470977423,0.47915201337631774,0.47915201337631774,0.47891205604270287,0.4788220720425973,0.4787620827091936,0.4781022000417528,0.477442317374312,0.47669245070676564,0.47654247737325633,0.47616754403948314,0.47435286670402094,0.47403792270365147,0.4738129627033876,0.4733480453695088,0.47057353869958723,0.47057353869958723,0.4705435440328854,0.4703935706993761,0.469583714698426,0.46926877069805656,0.4691937840313019,0.4688038533641778,0.46722913336233046,0.46691418936196094,0.466494264028135,0.46634429069462574,0.4661643226944146,0.4658043866939923,0.4657743920272905,0.4652344880266571,0.46511450935984966,0.4649045466929367,0.4644846213591107,0.4642446640254959,0.46388472802507363,0.4637647493582662,0.4633448240244402,0.4632248453576328,0.46280492002380685,0.4617851013559438,0.4612251009286202,0.4611552133552048,0.4598354480203232,0.4597604613535686,0.4596554800201121,0.4595954906867084,0.4595355013533047,0.45941552268649727,0.4591554689261922,0.45868065335230185,0.4586656560189509,0.4586056666855472,0.4584706906853888,0.4583657093519323,0.45805826401823835,0.4577508186845443,0.4574457729241865,0.45735338935074477,0.4573458906840693,0.4572859013506656,0.4572559066839637,0.4571359280171563,0.45707593868375257,0.45659602401652294,0.45659602401652294,0.4565360346831192,0.4564160560163118,0.4562660826828025,0.45596613601578395,0.45572617868216914,0.455546210681958,0.4554262320151506,0.4552162693482376,0.45497631201462274,0.4549463173479209,0.4544664026806912,0.45437641868058565,0.45425644001377824,0.45398648801346153,0.45389650401335596,0.4538365146799523,0.45377652534654855,0.4530116613456513,0.45283169334544016,0.45281669601208924,0.45266672267857994,0.4526067333451762,0.4524117680116142,0.45122697867689093,0.45107700534338163,0.4507770586763631,0.4504171226759408,0.45037513014255826,0.4503271386758353,0.4502371546757297,0.450177165342326,0.4500871813422204,0.4500871813422204,0.4497872346752019,0.44966725600839447,0.4494123013414287,0.44939730400807776,0.4490673626743574,0.4485973462471393,0.44840748000691655,0.4482575066734073,0.4481375280065999,0.447897570672985,0.4473726640057026,0.44729767733894793,0.44724758624555583,0.4471327066720877,0.4470277253386312,0.4468576555784317,0.446667789338209,0.4464278320045941,0.4463528453378395,0.446247864004383,0.44603790133747,0.44582793867055703,0.44576794933715336,0.4455879813369422,0.4455579866702404,0.44534802400332735,0.4452580400032218,0.4451980506698181,0.4449182004294898,0.4448882057627879,0.4448381146693958,0.4447181360025884,0.4446182537624712,0.4445381680023773,0.44438819466886803,0.4443582000021662,0.4441182426685513,0.44404325600179667,0.44357833866791796,0.4434433626677596,0.44327839200089936,0.4430684293339864,0.4430684293339864,0.4428734640004244,0.44270849333356416,0.4425486217600433,0.4424985306666512,0.44248353333330026,0.44245353866659837,0.44231856266644004,0.44195862666601776,0.44183864799921035,0.44183864799921035,0.4416586799989992,0.4416286853322974,0.44159869066559554,0.4415387013321918,0.44135873333198067,0.4412087599984714,0.4410587866649621,0.4409688026648566,0.44060886666443433,0.44050898442431713,0.44048888799762687,0.440458893330925,0.4404288986642232,0.4399789786636954,0.43985899999688793,0.4398290053301861,0.43979901066348426,0.4396190426632731,0.4395890479965713,0.43952905866316755,0.439229111996149,0.43895166132915686,0.43892916532913046,0.43892916532913046,0.4388466799957004,0.4388391813290249,0.43880918666232305,0.43880918666232305,0.4387491973289193,0.43865921332881375,0.4385692293287082,0.4385692293287082,0.438485244261943,0.4380893146614785,0.43790934666126735,0.4378793519945655,0.4377593733277581,0.437369442660634,0.4368895279934043,0.4368895279934043,0.4368895279934043,0.4367995439932988,0.43673955465989506,0.43670955999319316,0.43649209865960475,0.4364396079928765,0.4363946159928237,0.4362716378593461,0.4361696559925598,0.4360496773257524,0.4359596933256468,0.43593959689895656,0.435929698658945,0.4358847066588922,0.4356597466586283,0.43535979999160973,0.4348498906576782,0.43475990665757264,0.434409868897162,0.4343099866570448,0.43427999199034295,0.4342499973236411,0.43404003465672814,0.4337100933230077,0.43368009865630586,0.433650103989604,0.4335001306560947,0.43344014132269104,0.43341014665598915,0.4332751706558308,0.43323017865577806,0.4330601088955785,0.4329203337487479,0.4327202693218465,0.43263028532174097,0.43242032265482794,0.43242032265482794,0.4324143237214876,0.43233033865472237,0.43230034398802053,0.43218786398788855,0.4321203759878094,0.43209038132110755,0.4318903168942062,0.43185042398749274,0.43164046132057976,0.43161796532055335,0.4314604933203686,0.4314155013203158,0.4314155013203158,0.4314005039869649,0.4309205893197352,0.4308605999863315,0.43074062131952406,0.43029070131899627,0.43027570398564535,0.43023071198559254,0.43014822665216246,0.43014072798548697,0.42985577865181934,0.4296128218515344,0.42957082931815177,0.42939086131794063,0.42918089865102765,0.42915090398432576,0.4290009306508165,0.4288209626506054,0.42870098398379797,0.428491021316885,0.42792112264954973,0.42777114931604043,0.42776515038270013,0.42747120264902194,0.42744120798232005,0.42726123998210896,0.42698378931511677,0.4268113199815811,0.4268113199815811,0.426421389314457,0.4264063919811061,0.42621892531421945,0.4261514373141403,0.4261514373141403,0.42573151198031434,0.42540157064659395,0.4253115866464884,0.42528159197978654,0.4247416879791531,0.4247116933124513,0.42468169864574945,0.42467569971240904,0.42429176797862533,0.4242317786452216,0.42420178397851976,0.42414179464511603,0.42405181064501046,0.4238718426447993,0.4238418479780975,0.4237518639779919,0.4231519706439548,0.42309198131055115,0.4227770373101816,0.42261206664332146,0.42250708530986497,0.42234211464300475,0.42196718130923155,0.42186219997577507,0.4216822319755639,0.42159224797545836,0.4215322586420547,0.42147226930865095,0.42102234930812316,0.42099235464142126,0.420842381307912,0.42075239730780645,0.4201824986404712,0.4200925146403656,0.4199425413068564,0.41976257330664524,0.41976257330664524,0.4192526639727137,0.4191326853059063,0.41910269063920447,0.41856278663857105,0.41841281330506175,0.4183828186383599,0.41832282930495623,0.4182628399715525,0.417752930637621,0.4173929946371987,0.417333005303795,0.41682309596986344,0.41673311196975793,0.41673311196975793,0.4165531439695468,0.41626819463587916,0.41625319730252824,0.41598324530221154,0.41583327196870223,0.41523337863466514,0.41515839196791054,0.4151433946345596,0.4148509466342165,0.41478345863413735,0.4147534639674355,0.41439352796701323,0.4140035972998891,0.41364366129946684,0.4132837252990446,0.4132537306323427,0.4131337519655353,0.4130137732987279,0.4128038106318149,0.4124138799646908,0.41184398129735555,0.4118139866306537,0.41151403996363517,0.41085415729619434,0.4108241626294925,0.41079416796279067,0.4104942212957721,0.40941441329450534,0.40936942129445253,0.40929443462769793,0.40926443996099604,0.40926443996099604,0.4091744559608905,0.4088745092938719,0.40797466929281634,0.4075847386256922,0.4072847919586736,0.4071948079585681,0.40701483995835697,0.406594914624531,0.40548511195656234,0.4047052506223141,0.402875575953501,0.4015258159519175,0.4009259226178804,0.40026603995043963,0.39672666927962075,0.38832816260310143],\"yaxis\":\"y\",\"type\":\"scatter\"}],                        {\"template\":{\"data\":{\"bar\":[{\"error_x\":{\"color\":\"#2a3f5f\"},\"error_y\":{\"color\":\"#2a3f5f\"},\"marker\":{\"line\":{\"color\":\"#E5ECF6\",\"width\":0.5},\"pattern\":{\"fillmode\":\"overlay\",\"size\":10,\"solidity\":0.2}},\"type\":\"bar\"}],\"barpolar\":[{\"marker\":{\"line\":{\"color\":\"#E5ECF6\",\"width\":0.5},\"pattern\":{\"fillmode\":\"overlay\",\"size\":10,\"solidity\":0.2}},\"type\":\"barpolar\"}],\"carpet\":[{\"aaxis\":{\"endlinecolor\":\"#2a3f5f\",\"gridcolor\":\"white\",\"linecolor\":\"white\",\"minorgridcolor\":\"white\",\"startlinecolor\":\"#2a3f5f\"},\"baxis\":{\"endlinecolor\":\"#2a3f5f\",\"gridcolor\":\"white\",\"linecolor\":\"white\",\"minorgridcolor\":\"white\",\"startlinecolor\":\"#2a3f5f\"},\"type\":\"carpet\"}],\"choropleth\":[{\"colorbar\":{\"outlinewidth\":0,\"ticks\":\"\"},\"type\":\"choropleth\"}],\"contour\":[{\"colorbar\":{\"outlinewidth\":0,\"ticks\":\"\"},\"colorscale\":[[0.0,\"#0d0887\"],[0.1111111111111111,\"#46039f\"],[0.2222222222222222,\"#7201a8\"],[0.3333333333333333,\"#9c179e\"],[0.4444444444444444,\"#bd3786\"],[0.5555555555555556,\"#d8576b\"],[0.6666666666666666,\"#ed7953\"],[0.7777777777777778,\"#fb9f3a\"],[0.8888888888888888,\"#fdca26\"],[1.0,\"#f0f921\"]],\"type\":\"contour\"}],\"contourcarpet\":[{\"colorbar\":{\"outlinewidth\":0,\"ticks\":\"\"},\"type\":\"contourcarpet\"}],\"heatmap\":[{\"colorbar\":{\"outlinewidth\":0,\"ticks\":\"\"},\"colorscale\":[[0.0,\"#0d0887\"],[0.1111111111111111,\"#46039f\"],[0.2222222222222222,\"#7201a8\"],[0.3333333333333333,\"#9c179e\"],[0.4444444444444444,\"#bd3786\"],[0.5555555555555556,\"#d8576b\"],[0.6666666666666666,\"#ed7953\"],[0.7777777777777778,\"#fb9f3a\"],[0.8888888888888888,\"#fdca26\"],[1.0,\"#f0f921\"]],\"type\":\"heatmap\"}],\"heatmapgl\":[{\"colorbar\":{\"outlinewidth\":0,\"ticks\":\"\"},\"colorscale\":[[0.0,\"#0d0887\"],[0.1111111111111111,\"#46039f\"],[0.2222222222222222,\"#7201a8\"],[0.3333333333333333,\"#9c179e\"],[0.4444444444444444,\"#bd3786\"],[0.5555555555555556,\"#d8576b\"],[0.6666666666666666,\"#ed7953\"],[0.7777777777777778,\"#fb9f3a\"],[0.8888888888888888,\"#fdca26\"],[1.0,\"#f0f921\"]],\"type\":\"heatmapgl\"}],\"histogram\":[{\"marker\":{\"pattern\":{\"fillmode\":\"overlay\",\"size\":10,\"solidity\":0.2}},\"type\":\"histogram\"}],\"histogram2d\":[{\"colorbar\":{\"outlinewidth\":0,\"ticks\":\"\"},\"colorscale\":[[0.0,\"#0d0887\"],[0.1111111111111111,\"#46039f\"],[0.2222222222222222,\"#7201a8\"],[0.3333333333333333,\"#9c179e\"],[0.4444444444444444,\"#bd3786\"],[0.5555555555555556,\"#d8576b\"],[0.6666666666666666,\"#ed7953\"],[0.7777777777777778,\"#fb9f3a\"],[0.8888888888888888,\"#fdca26\"],[1.0,\"#f0f921\"]],\"type\":\"histogram2d\"}],\"histogram2dcontour\":[{\"colorbar\":{\"outlinewidth\":0,\"ticks\":\"\"},\"colorscale\":[[0.0,\"#0d0887\"],[0.1111111111111111,\"#46039f\"],[0.2222222222222222,\"#7201a8\"],[0.3333333333333333,\"#9c179e\"],[0.4444444444444444,\"#bd3786\"],[0.5555555555555556,\"#d8576b\"],[0.6666666666666666,\"#ed7953\"],[0.7777777777777778,\"#fb9f3a\"],[0.8888888888888888,\"#fdca26\"],[1.0,\"#f0f921\"]],\"type\":\"histogram2dcontour\"}],\"mesh3d\":[{\"colorbar\":{\"outlinewidth\":0,\"ticks\":\"\"},\"type\":\"mesh3d\"}],\"parcoords\":[{\"line\":{\"colorbar\":{\"outlinewidth\":0,\"ticks\":\"\"}},\"type\":\"parcoords\"}],\"pie\":[{\"automargin\":true,\"type\":\"pie\"}],\"scatter\":[{\"marker\":{\"colorbar\":{\"outlinewidth\":0,\"ticks\":\"\"}},\"type\":\"scatter\"}],\"scatter3d\":[{\"line\":{\"colorbar\":{\"outlinewidth\":0,\"ticks\":\"\"}},\"marker\":{\"colorbar\":{\"outlinewidth\":0,\"ticks\":\"\"}},\"type\":\"scatter3d\"}],\"scattercarpet\":[{\"marker\":{\"colorbar\":{\"outlinewidth\":0,\"ticks\":\"\"}},\"type\":\"scattercarpet\"}],\"scattergeo\":[{\"marker\":{\"colorbar\":{\"outlinewidth\":0,\"ticks\":\"\"}},\"type\":\"scattergeo\"}],\"scattergl\":[{\"marker\":{\"colorbar\":{\"outlinewidth\":0,\"ticks\":\"\"}},\"type\":\"scattergl\"}],\"scattermapbox\":[{\"marker\":{\"colorbar\":{\"outlinewidth\":0,\"ticks\":\"\"}},\"type\":\"scattermapbox\"}],\"scatterpolar\":[{\"marker\":{\"colorbar\":{\"outlinewidth\":0,\"ticks\":\"\"}},\"type\":\"scatterpolar\"}],\"scatterpolargl\":[{\"marker\":{\"colorbar\":{\"outlinewidth\":0,\"ticks\":\"\"}},\"type\":\"scatterpolargl\"}],\"scatterternary\":[{\"marker\":{\"colorbar\":{\"outlinewidth\":0,\"ticks\":\"\"}},\"type\":\"scatterternary\"}],\"surface\":[{\"colorbar\":{\"outlinewidth\":0,\"ticks\":\"\"},\"colorscale\":[[0.0,\"#0d0887\"],[0.1111111111111111,\"#46039f\"],[0.2222222222222222,\"#7201a8\"],[0.3333333333333333,\"#9c179e\"],[0.4444444444444444,\"#bd3786\"],[0.5555555555555556,\"#d8576b\"],[0.6666666666666666,\"#ed7953\"],[0.7777777777777778,\"#fb9f3a\"],[0.8888888888888888,\"#fdca26\"],[1.0,\"#f0f921\"]],\"type\":\"surface\"}],\"table\":[{\"cells\":{\"fill\":{\"color\":\"#EBF0F8\"},\"line\":{\"color\":\"white\"}},\"header\":{\"fill\":{\"color\":\"#C8D4E3\"},\"line\":{\"color\":\"white\"}},\"type\":\"table\"}]},\"layout\":{\"annotationdefaults\":{\"arrowcolor\":\"#2a3f5f\",\"arrowhead\":0,\"arrowwidth\":1},\"autotypenumbers\":\"strict\",\"coloraxis\":{\"colorbar\":{\"outlinewidth\":0,\"ticks\":\"\"}},\"colorscale\":{\"diverging\":[[0,\"#8e0152\"],[0.1,\"#c51b7d\"],[0.2,\"#de77ae\"],[0.3,\"#f1b6da\"],[0.4,\"#fde0ef\"],[0.5,\"#f7f7f7\"],[0.6,\"#e6f5d0\"],[0.7,\"#b8e186\"],[0.8,\"#7fbc41\"],[0.9,\"#4d9221\"],[1,\"#276419\"]],\"sequential\":[[0.0,\"#0d0887\"],[0.1111111111111111,\"#46039f\"],[0.2222222222222222,\"#7201a8\"],[0.3333333333333333,\"#9c179e\"],[0.4444444444444444,\"#bd3786\"],[0.5555555555555556,\"#d8576b\"],[0.6666666666666666,\"#ed7953\"],[0.7777777777777778,\"#fb9f3a\"],[0.8888888888888888,\"#fdca26\"],[1.0,\"#f0f921\"]],\"sequentialminus\":[[0.0,\"#0d0887\"],[0.1111111111111111,\"#46039f\"],[0.2222222222222222,\"#7201a8\"],[0.3333333333333333,\"#9c179e\"],[0.4444444444444444,\"#bd3786\"],[0.5555555555555556,\"#d8576b\"],[0.6666666666666666,\"#ed7953\"],[0.7777777777777778,\"#fb9f3a\"],[0.8888888888888888,\"#fdca26\"],[1.0,\"#f0f921\"]]},\"colorway\":[\"#636efa\",\"#EF553B\",\"#00cc96\",\"#ab63fa\",\"#FFA15A\",\"#19d3f3\",\"#FF6692\",\"#B6E880\",\"#FF97FF\",\"#FECB52\"],\"font\":{\"color\":\"#2a3f5f\"},\"geo\":{\"bgcolor\":\"white\",\"lakecolor\":\"white\",\"landcolor\":\"#E5ECF6\",\"showlakes\":true,\"showland\":true,\"subunitcolor\":\"white\"},\"hoverlabel\":{\"align\":\"left\"},\"hovermode\":\"closest\",\"mapbox\":{\"style\":\"light\"},\"paper_bgcolor\":\"white\",\"plot_bgcolor\":\"#E5ECF6\",\"polar\":{\"angularaxis\":{\"gridcolor\":\"white\",\"linecolor\":\"white\",\"ticks\":\"\"},\"bgcolor\":\"#E5ECF6\",\"radialaxis\":{\"gridcolor\":\"white\",\"linecolor\":\"white\",\"ticks\":\"\"}},\"scene\":{\"xaxis\":{\"backgroundcolor\":\"#E5ECF6\",\"gridcolor\":\"white\",\"gridwidth\":2,\"linecolor\":\"white\",\"showbackground\":true,\"ticks\":\"\",\"zerolinecolor\":\"white\"},\"yaxis\":{\"backgroundcolor\":\"#E5ECF6\",\"gridcolor\":\"white\",\"gridwidth\":2,\"linecolor\":\"white\",\"showbackground\":true,\"ticks\":\"\",\"zerolinecolor\":\"white\"},\"zaxis\":{\"backgroundcolor\":\"#E5ECF6\",\"gridcolor\":\"white\",\"gridwidth\":2,\"linecolor\":\"white\",\"showbackground\":true,\"ticks\":\"\",\"zerolinecolor\":\"white\"}},\"shapedefaults\":{\"line\":{\"color\":\"#2a3f5f\"}},\"ternary\":{\"aaxis\":{\"gridcolor\":\"white\",\"linecolor\":\"white\",\"ticks\":\"\"},\"baxis\":{\"gridcolor\":\"white\",\"linecolor\":\"white\",\"ticks\":\"\"},\"bgcolor\":\"#E5ECF6\",\"caxis\":{\"gridcolor\":\"white\",\"linecolor\":\"white\",\"ticks\":\"\"}},\"title\":{\"x\":0.05},\"xaxis\":{\"automargin\":true,\"gridcolor\":\"white\",\"linecolor\":\"white\",\"ticks\":\"\",\"title\":{\"standoff\":15},\"zerolinecolor\":\"white\",\"zerolinewidth\":2},\"yaxis\":{\"automargin\":true,\"gridcolor\":\"white\",\"linecolor\":\"white\",\"ticks\":\"\",\"title\":{\"standoff\":15},\"zerolinecolor\":\"white\",\"zerolinewidth\":2}}},\"xaxis\":{\"anchor\":\"y\",\"domain\":[0.0,1.0],\"title\":{\"text\":\"Mins_per season\"}},\"yaxis\":{\"anchor\":\"x\",\"domain\":[0.0,1.0],\"title\":{\"text\":\"xG Per Avg Match_per season\"}},\"legend\":{\"tracegroupgap\":0},\"title\":{\"text\":\"Relations between xG per Match and minutes played\"}},                        {\"responsive\": true}                    ).then(function(){\n",
       "                            \n",
       "var gd = document.getElementById('5d766722-67e2-48c7-82cb-0bd7e15f8b6d');\n",
       "var x = new MutationObserver(function (mutations, observer) {{\n",
       "        var display = window.getComputedStyle(gd).display;\n",
       "        if (!display || display === 'none') {{\n",
       "            console.log([gd, 'removed!']);\n",
       "            Plotly.purge(gd);\n",
       "            observer.disconnect();\n",
       "        }}\n",
       "}});\n",
       "\n",
       "// Listen for the removal of the full notebook cells\n",
       "var notebookContainer = gd.closest('#notebook-container');\n",
       "if (notebookContainer) {{\n",
       "    x.observe(notebookContainer, {childList: true});\n",
       "}}\n",
       "\n",
       "// Listen for the clearing of the current output cell\n",
       "var outputEl = gd.closest('.output');\n",
       "if (outputEl) {{\n",
       "    x.observe(outputEl, {childList: true});\n",
       "}}\n",
       "\n",
       "                        })                };                });            </script>        </div>"
      ]
     },
     "metadata": {},
     "output_type": "display_data"
    }
   ],
   "source": [
    "fog = pl.scatter(finale, x = 'Mins_per season', y = 'xG Per Avg Match_per season', trendline = 'ols', title = 'Relations between xG per Match and minutes played')\n",
    "\n",
    "fog.show()"
   ]
  },
  {
   "cell_type": "markdown",
   "id": "06deaca8",
   "metadata": {},
   "source": [
    "###### Как видно из этого скаттера, строгой зависимости между количеством минут, которые игрок проводит на поле за сезон в среденем, и xG нет. Он может как мало проводить, но иметь большой xG, так и наоборот. Но тренд показывает, что по мере увеличения игрового времени эффективность все-таки склонна к понижению. Этому есть несколько причин. Во-первых, накопленная усталость. Во-вторых, планку на длинной дистанции поддерживать тяжелее, чем на короткой."
   ]
  },
  {
   "cell_type": "code",
   "execution_count": 112,
   "id": "90c0c143",
   "metadata": {},
   "outputs": [
    {
     "data": {
      "application/vnd.plotly.v1+json": {
       "config": {
        "plotlyServerURL": "https://plot.ly"
       },
       "data": [
        {
         "hovertemplate": "Shots Per Avg Match_per season=%{x}<br>On Target Shots/ Shots=%{y}<extra></extra>",
         "legendgroup": "",
         "marker": {
          "color": "#636efa",
          "symbol": "circle"
         },
         "mode": "markers",
         "name": "",
         "orientation": "v",
         "showlegend": false,
         "type": "scatter",
         "x": [
          2.73,
          2.01,
          2.19,
          3.26,
          3.14,
          3.78,
          2.57,
          2.65,
          2.41,
          1.36,
          3.05,
          2.88,
          3.8,
          3.62,
          2.66,
          2.74,
          3.15,
          3.74,
          2.85,
          1.03,
          2.08,
          3.73,
          3.22,
          2.92,
          2.67,
          3.72,
          3.56,
          1.87,
          3.34,
          3.81,
          2.15,
          2.83,
          2.95,
          1.82,
          2.72,
          2.73,
          3.12,
          2.8,
          3.3,
          4.19,
          3.78,
          2,
          2.86,
          1.99,
          2.4,
          2.94,
          1.69,
          2.05,
          1.82,
          2.93,
          2.63,
          2.81,
          3.08,
          1.82,
          2.63,
          3.36,
          3.22,
          4.22,
          2.4,
          3.48,
          2.88,
          1.65,
          0.85,
          3.87,
          2.95,
          2.19,
          2.16,
          2.85,
          2.54,
          1.84,
          3.05,
          1.27,
          1.65,
          5.07,
          3.25,
          1.85,
          2.91,
          3.22,
          2.61,
          2.65,
          3.92,
          2.09,
          2.83,
          2.36,
          3.02,
          1.77,
          3.84,
          3.04,
          2.92,
          2.32,
          2.52,
          2.84,
          3.32,
          6.28,
          3.24,
          2.57,
          2.44,
          2.16,
          1.24,
          2.26,
          3.56,
          2.94,
          2.15,
          2.62,
          2.12,
          2.26,
          2.52,
          2.84,
          3.41,
          1.81,
          2.85,
          2.55,
          3.26,
          2.84,
          3.5,
          2.5,
          2.24,
          2.91,
          3.58,
          3.45,
          3.03,
          2.07,
          4.35,
          3.51,
          4.08,
          2.58,
          2.63,
          3.35,
          2.6,
          3.01,
          4.54,
          2.83,
          1.2,
          2.3,
          0.8,
          1.92,
          2.38,
          3.53,
          0.81,
          3.41,
          3.22,
          1.96,
          2.49,
          3.71,
          3.31,
          1.51,
          2.13,
          1.93,
          1.72,
          2.82,
          2.94,
          2.58,
          2.89,
          2.51,
          3.46,
          3.62,
          2.18,
          2.62,
          1.38,
          3.91,
          3.65,
          2.87,
          2.03,
          1.78,
          2.36,
          3.04,
          3.02,
          2.62,
          2.66,
          1.91,
          3.68,
          2.42,
          1.93,
          2.5,
          4.52,
          2.28,
          2.47,
          2.2,
          3.36,
          3.38,
          1.65,
          3.59,
          3.05,
          3.32,
          3.45,
          1.72,
          2.5,
          4.04,
          3.01,
          2.61,
          2.4,
          4.14,
          2.94,
          2.26,
          3.18,
          1.8,
          4.25,
          3.65,
          3.16,
          2.83,
          1.76,
          2.04,
          0.99,
          2.37,
          2.47,
          2.64,
          3.29,
          2.64,
          2.68,
          3.11,
          2.67,
          3.11,
          2.42,
          2.28,
          2.12,
          1.64,
          1.96,
          2.22,
          1.92,
          2.49,
          1.81,
          3.99,
          2.76,
          2.2,
          4.18,
          2.64,
          2.52,
          2.47,
          1.69,
          3.52,
          2.79,
          2.45,
          3.42,
          3.12,
          2,
          3.26,
          3.27,
          2.48,
          2.99,
          3.15,
          2.72,
          3.05,
          2.86,
          2.45,
          2.28,
          3.24,
          2.22,
          3.56,
          5.01,
          2.56,
          3.38,
          4.2,
          4.6,
          1.97,
          2.95,
          1.59,
          2.47,
          3.12,
          2.8,
          5.39,
          3.43,
          2.22,
          4.9,
          3.39,
          2.72,
          3.05,
          1.82,
          3.11,
          2.21,
          1.9,
          1.82,
          2.75,
          6.27,
          4.05,
          1.62,
          2.56,
          3.92,
          1.48,
          2.96,
          4.26,
          1.39,
          2.35,
          3.04,
          2.78,
          3.19,
          2.32,
          3.8,
          2.71,
          2.25,
          2.42,
          1.78,
          2.88,
          2.97,
          3.22,
          3.31,
          2.2,
          2.48,
          2.52,
          2.77,
          2.13,
          3.66,
          2.39,
          3.33,
          2,
          3.01,
          2.47,
          2.26,
          3.72,
          2.93,
          1.93,
          3.75,
          2.92,
          3.12,
          2.23,
          2.34,
          2.72,
          2.47,
          3.02,
          2.15,
          2.2,
          3.97,
          3.76,
          1.91,
          2.03,
          3.17,
          3.23,
          2.64,
          3.08,
          1.68,
          2.83,
          2.4,
          1.93,
          3.11,
          5.59,
          2.17,
          2.48,
          2.98,
          3.51,
          4.23,
          3.09,
          3.45,
          4.5,
          3.38,
          2.49,
          2.28,
          4.37,
          3.3,
          2.65,
          1.16,
          3.16,
          2.89,
          3.51,
          2.75,
          2.91,
          2.34,
          2.81,
          2.54,
          3.1,
          3.64,
          3.69,
          2.73,
          2.67,
          3.21,
          2.73,
          2.79,
          2.6,
          3.28,
          2.86,
          4.84,
          3.06,
          2.32,
          2.01,
          2.48,
          2.08,
          2.6,
          3.16,
          2.56,
          1.73,
          2.88,
          3.69,
          3.75,
          3.06,
          3.2,
          2.68,
          3.91,
          2.28,
          2.66,
          2.09,
          2.57,
          2.28,
          3.78,
          3.14,
          2.51,
          2.97,
          2.76,
          2.2,
          2.22,
          2.11,
          3.17,
          2.87,
          2.09,
          4.79,
          2.98,
          2.52,
          1.2,
          3.21,
          2.97,
          3,
          3.45,
          3.97,
          3.51,
          2.46,
          1.42,
          2.88,
          4.07,
          3.19,
          1.5,
          2.7,
          3.4,
          2.8,
          3.04,
          2.55,
          2.42,
          2.8,
          2.47,
          3.36,
          3.59,
          2.6,
          2.29,
          2.98,
          2.3,
          2.2,
          2.91,
          2.95,
          2.6,
          3.24,
          2.49,
          2.7,
          2.29,
          2.24,
          2.86,
          2.42,
          5.08,
          3.34
         ],
         "xaxis": "x",
         "y": [
          0.54,
          0.54,
          0.36,
          0.53,
          0.47,
          0.51,
          0.45,
          0.46,
          0.44,
          0.43,
          0.56,
          0.35,
          0.36,
          0.38,
          0.47,
          0.38,
          0.43,
          0.5,
          0.39,
          0.28,
          0.5,
          0.41,
          0.44,
          0.37,
          0.43,
          0.52,
          0.48,
          0.42,
          0.37,
          0.31,
          0.25,
          0.46,
          0.5,
          0.4,
          0.47,
          0.49,
          0.53,
          0.46,
          0.4,
          0.63,
          0.44,
          0.5,
          0.29,
          0.3,
          0.46,
          0.51,
          0.49,
          0.83,
          0.57,
          0.47,
          0.42,
          0.63,
          0.48,
          0.41,
          0.46,
          0.42,
          0.39,
          0.43,
          0.3,
          0.43,
          0.44,
          0.48,
          0.28,
          0.42,
          0.61,
          0.4,
          0.45,
          0.4,
          0.57,
          0.4,
          0.34,
          0.62,
          0.3,
          0.45,
          0.41,
          0.49,
          0.52,
          0.48,
          0.57,
          0.42,
          0.27,
          0.53,
          0.48,
          0.44,
          0.36,
          0.44,
          0.49,
          0.36,
          0.32,
          0.4,
          0.5,
          0.4,
          0.36,
          0.41,
          0.51,
          0.68,
          0.39,
          0.42,
          0.45,
          0.35,
          0.52,
          0.4,
          0.6,
          0.44,
          0.39,
          0.47,
          0.62,
          0.45,
          0.48,
          0.31,
          0.46,
          0.39,
          0.37,
          0.66,
          0.46,
          0.41,
          0.39,
          0.41,
          0.55,
          0.43,
          0.51,
          0.36,
          0.54,
          0.35,
          0.51,
          0.45,
          0.53,
          0.41,
          0.44,
          0.59,
          0.43,
          0.42,
          0.4,
          0.47,
          0.5,
          0.66,
          0.5,
          0.5,
          0.8,
          0.34,
          0.49,
          0.43,
          0.52,
          0.43,
          0.44,
          0.56,
          0.43,
          0.48,
          0.69,
          0.62,
          0.36,
          0.48,
          0.4,
          0.43,
          0.49,
          0.46,
          0.33,
          0.31,
          0.64,
          0.41,
          0.4,
          0.4,
          0.6,
          0.4,
          0.4,
          0.39,
          0.36,
          0.36,
          0.37,
          0.39,
          0.55,
          0.53,
          0.57,
          0.5,
          0.35,
          0.46,
          0.38,
          0.36,
          0.41,
          0.58,
          0.45,
          0.45,
          0.47,
          0.44,
          0.47,
          0.35,
          0.57,
          0.44,
          0.61,
          0.48,
          0.47,
          0.43,
          0.5,
          0.44,
          0.38,
          0.47,
          0.41,
          0.38,
          0.33,
          0.35,
          0.53,
          0.41,
          0.7,
          0.54,
          0.23,
          0.49,
          0.43,
          0.45,
          0.31,
          0.33,
          0.49,
          0.29,
          0.45,
          0.41,
          0.39,
          0.46,
          0.47,
          0.39,
          0.41,
          0.66,
          0.5,
          0.41,
          0.34,
          0.38,
          0.41,
          0.49,
          0.27,
          0.42,
          0.51,
          0.33,
          0.47,
          0.47,
          0.46,
          0.45,
          0.6,
          0.47,
          0.69,
          0.48,
          0.4,
          0.31,
          0.46,
          0.43,
          0.47,
          0.54,
          0.42,
          0.53,
          0.46,
          0.44,
          0.58,
          0.55,
          0.44,
          0.38,
          0.35,
          0.4,
          0.41,
          0.53,
          0.55,
          0.36,
          0.39,
          0.47,
          0.32,
          0.35,
          0.42,
          0.55,
          0.43,
          0.42,
          0.42,
          0.42,
          0.46,
          0.45,
          0.37,
          0.31,
          0.43,
          0.46,
          0.62,
          0.39,
          0.43,
          0.42,
          0.42,
          0.33,
          0.55,
          0.33,
          0.37,
          0.5,
          0.46,
          0.64,
          0.36,
          0.54,
          0.39,
          0.51,
          0.44,
          0.58,
          0.48,
          0.31,
          0.35,
          0.6,
          0.4,
          0.64,
          0.4,
          0.34,
          0.38,
          0.4,
          0.39,
          0.46,
          0.32,
          0.46,
          0.4,
          0.48,
          0.36,
          0.46,
          0.55,
          0.43,
          0.44,
          0.57,
          0.37,
          0.5,
          0.39,
          0.44,
          0.46,
          0.36,
          0.46,
          0.47,
          0.42,
          0.44,
          0.51,
          0.68,
          0.48,
          0.41,
          0.5,
          0.51,
          0.41,
          0.37,
          0.51,
          0.23,
          0.41,
          0.41,
          0.51,
          0.41,
          0.43,
          0.47,
          0.43,
          0.4,
          0.44,
          0.29,
          0.38,
          0.34,
          0.51,
          0.47,
          0.57,
          0.62,
          0.41,
          0.5,
          0.29,
          0.43,
          0.43,
          0.41,
          0.41,
          0.35,
          0.4,
          0.41,
          0.31,
          0.46,
          0.4,
          0.46,
          0.34,
          0.35,
          0.45,
          0.45,
          0.47,
          0.42,
          0.47,
          0.39,
          0.4,
          0.45,
          0.32,
          0.41,
          0.46,
          0.45,
          0.42,
          0.48,
          0.35,
          0.42,
          0.47,
          0.37,
          0.36,
          0.6,
          0.46,
          0.46,
          0.31,
          0.47,
          0.41,
          0.47,
          0.47,
          0.38,
          0.61,
          0.57,
          0.48,
          0.42,
          0.48,
          0.37,
          0.41,
          0.36,
          0.42,
          0.47,
          0.43,
          0.33,
          0.45,
          0.43,
          0.48,
          0.52,
          0.4,
          0.44,
          0.51,
          0.46,
          0.5,
          0.5,
          0.39,
          0.38,
          0.47,
          0.38,
          0.39,
          0.4,
          0.57,
          0.51,
          0.64,
          0.41,
          0.47,
          0.41,
          0.54,
          0.38,
          0.47,
          0.39,
          0.44,
          0.33,
          0.4,
          0.27,
          0.52,
          0.5,
          0.48,
          0.38,
          0.29,
          0.41,
          0.43,
          0.32
         ],
         "yaxis": "y"
        },
        {
         "hovertemplate": "<b>OLS trendline</b><br>On Target Shots/ Shots = -0.015795 * Shots Per Avg Match_per season + 0.489151<br>R<sup>2</sup>=0.020764<br><br>Shots Per Avg Match_per season=%{x}<br>On Target Shots/ Shots=%{y} <b>(trend)</b><extra></extra>",
         "legendgroup": "",
         "marker": {
          "color": "#636efa",
          "symbol": "circle"
         },
         "mode": "lines",
         "name": "",
         "showlegend": false,
         "type": "scatter",
         "x": [
          0.8,
          0.81,
          0.85,
          0.99,
          1.03,
          1.16,
          1.2,
          1.2,
          1.24,
          1.27,
          1.36,
          1.38,
          1.39,
          1.42,
          1.48,
          1.5,
          1.51,
          1.59,
          1.62,
          1.64,
          1.65,
          1.65,
          1.65,
          1.68,
          1.69,
          1.69,
          1.72,
          1.72,
          1.73,
          1.76,
          1.77,
          1.78,
          1.78,
          1.8,
          1.81,
          1.81,
          1.82,
          1.82,
          1.82,
          1.82,
          1.82,
          1.84,
          1.85,
          1.87,
          1.9,
          1.91,
          1.91,
          1.92,
          1.92,
          1.93,
          1.93,
          1.93,
          1.93,
          1.96,
          1.96,
          1.97,
          1.99,
          2,
          2,
          2,
          2.01,
          2.01,
          2.03,
          2.03,
          2.04,
          2.05,
          2.07,
          2.08,
          2.08,
          2.09,
          2.09,
          2.09,
          2.11,
          2.12,
          2.12,
          2.13,
          2.13,
          2.15,
          2.15,
          2.15,
          2.16,
          2.16,
          2.17,
          2.18,
          2.19,
          2.19,
          2.2,
          2.2,
          2.2,
          2.2,
          2.2,
          2.2,
          2.21,
          2.22,
          2.22,
          2.22,
          2.22,
          2.23,
          2.24,
          2.24,
          2.25,
          2.26,
          2.26,
          2.26,
          2.26,
          2.28,
          2.28,
          2.28,
          2.28,
          2.28,
          2.28,
          2.29,
          2.29,
          2.3,
          2.3,
          2.32,
          2.32,
          2.32,
          2.34,
          2.34,
          2.35,
          2.36,
          2.36,
          2.37,
          2.38,
          2.39,
          2.4,
          2.4,
          2.4,
          2.4,
          2.41,
          2.42,
          2.42,
          2.42,
          2.42,
          2.42,
          2.44,
          2.45,
          2.45,
          2.46,
          2.47,
          2.47,
          2.47,
          2.47,
          2.47,
          2.47,
          2.47,
          2.48,
          2.48,
          2.48,
          2.48,
          2.49,
          2.49,
          2.49,
          2.49,
          2.5,
          2.5,
          2.5,
          2.51,
          2.51,
          2.52,
          2.52,
          2.52,
          2.52,
          2.52,
          2.54,
          2.54,
          2.55,
          2.55,
          2.56,
          2.56,
          2.56,
          2.57,
          2.57,
          2.57,
          2.58,
          2.58,
          2.6,
          2.6,
          2.6,
          2.6,
          2.6,
          2.61,
          2.61,
          2.62,
          2.62,
          2.62,
          2.63,
          2.63,
          2.63,
          2.64,
          2.64,
          2.64,
          2.64,
          2.65,
          2.65,
          2.65,
          2.66,
          2.66,
          2.66,
          2.67,
          2.67,
          2.67,
          2.68,
          2.68,
          2.7,
          2.7,
          2.71,
          2.72,
          2.72,
          2.72,
          2.72,
          2.73,
          2.73,
          2.73,
          2.73,
          2.74,
          2.75,
          2.75,
          2.76,
          2.76,
          2.77,
          2.78,
          2.79,
          2.79,
          2.8,
          2.8,
          2.8,
          2.8,
          2.81,
          2.81,
          2.82,
          2.83,
          2.83,
          2.83,
          2.83,
          2.83,
          2.84,
          2.84,
          2.84,
          2.85,
          2.85,
          2.85,
          2.86,
          2.86,
          2.86,
          2.86,
          2.87,
          2.87,
          2.88,
          2.88,
          2.88,
          2.88,
          2.88,
          2.89,
          2.89,
          2.91,
          2.91,
          2.91,
          2.91,
          2.92,
          2.92,
          2.92,
          2.93,
          2.93,
          2.94,
          2.94,
          2.94,
          2.94,
          2.95,
          2.95,
          2.95,
          2.95,
          2.96,
          2.97,
          2.97,
          2.97,
          2.98,
          2.98,
          2.98,
          2.99,
          3,
          3.01,
          3.01,
          3.01,
          3.02,
          3.02,
          3.02,
          3.03,
          3.04,
          3.04,
          3.04,
          3.04,
          3.05,
          3.05,
          3.05,
          3.05,
          3.05,
          3.06,
          3.06,
          3.08,
          3.08,
          3.09,
          3.1,
          3.11,
          3.11,
          3.11,
          3.11,
          3.12,
          3.12,
          3.12,
          3.12,
          3.14,
          3.14,
          3.15,
          3.15,
          3.16,
          3.16,
          3.16,
          3.17,
          3.17,
          3.18,
          3.19,
          3.19,
          3.2,
          3.21,
          3.21,
          3.22,
          3.22,
          3.22,
          3.22,
          3.22,
          3.23,
          3.24,
          3.24,
          3.24,
          3.25,
          3.26,
          3.26,
          3.26,
          3.27,
          3.28,
          3.29,
          3.3,
          3.3,
          3.31,
          3.31,
          3.32,
          3.32,
          3.33,
          3.34,
          3.34,
          3.35,
          3.36,
          3.36,
          3.36,
          3.38,
          3.38,
          3.38,
          3.39,
          3.4,
          3.41,
          3.41,
          3.42,
          3.43,
          3.45,
          3.45,
          3.45,
          3.45,
          3.46,
          3.48,
          3.5,
          3.51,
          3.51,
          3.51,
          3.51,
          3.52,
          3.53,
          3.56,
          3.56,
          3.56,
          3.58,
          3.59,
          3.59,
          3.62,
          3.62,
          3.64,
          3.65,
          3.65,
          3.66,
          3.68,
          3.69,
          3.69,
          3.71,
          3.72,
          3.72,
          3.73,
          3.74,
          3.75,
          3.75,
          3.76,
          3.78,
          3.78,
          3.78,
          3.8,
          3.8,
          3.81,
          3.84,
          3.87,
          3.91,
          3.91,
          3.92,
          3.92,
          3.97,
          3.97,
          3.99,
          4.04,
          4.05,
          4.07,
          4.08,
          4.14,
          4.18,
          4.19,
          4.2,
          4.22,
          4.23,
          4.25,
          4.26,
          4.35,
          4.37,
          4.5,
          4.52,
          4.54,
          4.6,
          4.79,
          4.84,
          4.9,
          5.01,
          5.07,
          5.08,
          5.39,
          5.59,
          6.27,
          6.28
         ],
         "xaxis": "x",
         "y": [
          0.4765150938121936,
          0.4763571440591235,
          0.4757253450468432,
          0.47351404850386225,
          0.472882249491582,
          0.4708289027016711,
          0.4701971036893908,
          0.4701971036893908,
          0.46956530467711055,
          0.4690914554179003,
          0.46766990764026967,
          0.46735400813412953,
          0.4671960583810595,
          0.46672220912184925,
          0.46577451060342884,
          0.4654586110972887,
          0.46530066134421866,
          0.4640370633196581,
          0.46356321406044787,
          0.46324731455430773,
          0.4630893648012377,
          0.4630893648012377,
          0.4630893648012377,
          0.46261551554202746,
          0.4624575657889574,
          0.4624575657889574,
          0.4619837165297472,
          0.4619837165297472,
          0.46182576677667714,
          0.4613519175174669,
          0.46119396776439686,
          0.46103601801132676,
          0.46103601801132676,
          0.4607201185051866,
          0.4605621687521166,
          0.4605621687521166,
          0.4604042189990465,
          0.4604042189990465,
          0.4604042189990465,
          0.4604042189990465,
          0.4604042189990465,
          0.46008831949290635,
          0.4599303697398363,
          0.45961447023369617,
          0.45914062097448594,
          0.4589826712214159,
          0.4589826712214159,
          0.4588247214683458,
          0.4588247214683458,
          0.45866677171527576,
          0.45866677171527576,
          0.45866677171527576,
          0.45866677171527576,
          0.4581929224560655,
          0.4581929224560655,
          0.4580349727029955,
          0.45771907319685534,
          0.45756112344378524,
          0.45756112344378524,
          0.45756112344378524,
          0.4574031736907152,
          0.4574031736907152,
          0.45708727418457507,
          0.45708727418457507,
          0.45692932443150497,
          0.4567713746784349,
          0.4564554751722948,
          0.4562975254192247,
          0.4562975254192247,
          0.45613957566615465,
          0.45613957566615465,
          0.45613957566615465,
          0.4558236761600145,
          0.4556657264069444,
          0.4556657264069444,
          0.4555077766538744,
          0.4555077766538744,
          0.45519187714773424,
          0.45519187714773424,
          0.45519187714773424,
          0.45503392739466414,
          0.45503392739466414,
          0.4548759776415941,
          0.454718027888524,
          0.45456007813545396,
          0.45456007813545396,
          0.45440212838238386,
          0.45440212838238386,
          0.45440212838238386,
          0.45440212838238386,
          0.45440212838238386,
          0.45440212838238386,
          0.4542441786293138,
          0.4540862288762437,
          0.4540862288762437,
          0.4540862288762437,
          0.4540862288762437,
          0.4539282791231737,
          0.4537703293701036,
          0.4537703293701036,
          0.45361237961703355,
          0.45345442986396345,
          0.45345442986396345,
          0.45345442986396345,
          0.45345442986396345,
          0.4531385303578233,
          0.4531385303578233,
          0.4531385303578233,
          0.4531385303578233,
          0.4531385303578233,
          0.4531385303578233,
          0.45298058060475327,
          0.45298058060475327,
          0.45282263085168317,
          0.45282263085168317,
          0.45250673134554303,
          0.45250673134554303,
          0.45250673134554303,
          0.4521908318394029,
          0.4521908318394029,
          0.45203288208633285,
          0.45187493233326276,
          0.45187493233326276,
          0.4517169825801927,
          0.4515590328271226,
          0.4514010830740526,
          0.4512431333209825,
          0.4512431333209825,
          0.4512431333209825,
          0.4512431333209825,
          0.4510851835679124,
          0.45092723381484234,
          0.45092723381484234,
          0.45092723381484234,
          0.45092723381484234,
          0.45092723381484234,
          0.4506113343087022,
          0.4504533845556321,
          0.4504533845556321,
          0.45029543480256207,
          0.450137485049492,
          0.450137485049492,
          0.450137485049492,
          0.450137485049492,
          0.450137485049492,
          0.450137485049492,
          0.450137485049492,
          0.44997953529642193,
          0.44997953529642193,
          0.44997953529642193,
          0.44997953529642193,
          0.44982158554335183,
          0.44982158554335183,
          0.44982158554335183,
          0.44982158554335183,
          0.4496636357902818,
          0.4496636357902818,
          0.4496636357902818,
          0.44950568603721175,
          0.44950568603721175,
          0.44934773628414165,
          0.44934773628414165,
          0.44934773628414165,
          0.44934773628414165,
          0.44934773628414165,
          0.4490318367780015,
          0.4490318367780015,
          0.4488738870249315,
          0.4488738870249315,
          0.4487159372718614,
          0.4487159372718614,
          0.4487159372718614,
          0.44855798751879133,
          0.44855798751879133,
          0.44855798751879133,
          0.44840003776572124,
          0.44840003776572124,
          0.4480841382595811,
          0.4480841382595811,
          0.4480841382595811,
          0.4480841382595811,
          0.4480841382595811,
          0.447926188506511,
          0.447926188506511,
          0.44776823875344096,
          0.44776823875344096,
          0.44776823875344096,
          0.4476102890003709,
          0.4476102890003709,
          0.4476102890003709,
          0.4474523392473008,
          0.4474523392473008,
          0.4474523392473008,
          0.4474523392473008,
          0.4472943894942307,
          0.4472943894942307,
          0.4472943894942307,
          0.4471364397411607,
          0.4471364397411607,
          0.4471364397411607,
          0.44697848998809064,
          0.44697848998809064,
          0.44697848998809064,
          0.44682054023502055,
          0.44682054023502055,
          0.4465046407288804,
          0.4465046407288804,
          0.44634669097581037,
          0.44618874122274027,
          0.44618874122274027,
          0.44618874122274027,
          0.44618874122274027,
          0.4460307914696702,
          0.4460307914696702,
          0.4460307914696702,
          0.4460307914696702,
          0.44587284171660013,
          0.4457148919635301,
          0.4457148919635301,
          0.44555694221046,
          0.44555694221046,
          0.4453989924573899,
          0.44524104270431986,
          0.4450830929512498,
          0.4450830929512498,
          0.4449251431981797,
          0.4449251431981797,
          0.4449251431981797,
          0.4449251431981797,
          0.4447671934451096,
          0.4447671934451096,
          0.4446092436920396,
          0.4444512939389695,
          0.4444512939389695,
          0.4444512939389695,
          0.4444512939389695,
          0.4444512939389695,
          0.44429334418589944,
          0.44429334418589944,
          0.44429334418589944,
          0.44413539443282934,
          0.44413539443282934,
          0.44413539443282934,
          0.4439774446797593,
          0.4439774446797593,
          0.4439774446797593,
          0.4439774446797593,
          0.4438194949266892,
          0.4438194949266892,
          0.44366154517361917,
          0.44366154517361917,
          0.44366154517361917,
          0.44366154517361917,
          0.44366154517361917,
          0.44350359542054907,
          0.44350359542054907,
          0.44318769591440893,
          0.44318769591440893,
          0.44318769591440893,
          0.44318769591440893,
          0.4430297461613389,
          0.4430297461613389,
          0.4430297461613389,
          0.4428717964082688,
          0.4428717964082688,
          0.44271384665519875,
          0.44271384665519875,
          0.44271384665519875,
          0.44271384665519875,
          0.44255589690212865,
          0.44255589690212865,
          0.44255589690212865,
          0.44255589690212865,
          0.4423979471490586,
          0.4422399973959885,
          0.4422399973959885,
          0.4422399973959885,
          0.4420820476429185,
          0.4420820476429185,
          0.4420820476429185,
          0.4419240978898484,
          0.44176614813677834,
          0.44160819838370824,
          0.44160819838370824,
          0.44160819838370824,
          0.4414502486306382,
          0.4414502486306382,
          0.4414502486306382,
          0.4412922988775681,
          0.44113434912449806,
          0.44113434912449806,
          0.44113434912449806,
          0.44113434912449806,
          0.44097639937142796,
          0.44097639937142796,
          0.44097639937142796,
          0.44097639937142796,
          0.44097639937142796,
          0.4408184496183579,
          0.4408184496183579,
          0.4405025501122178,
          0.4405025501122178,
          0.4403446003591477,
          0.44018665060607765,
          0.44002870085300755,
          0.44002870085300755,
          0.44002870085300755,
          0.44002870085300755,
          0.4398707510999375,
          0.4398707510999375,
          0.4398707510999375,
          0.4398707510999375,
          0.43955485159379737,
          0.43955485159379737,
          0.43939690184072727,
          0.43939690184072727,
          0.43923895208765723,
          0.43923895208765723,
          0.43923895208765723,
          0.43908100233458713,
          0.43908100233458713,
          0.4389230525815171,
          0.438765102828447,
          0.438765102828447,
          0.43860715307537695,
          0.43844920332230686,
          0.43844920332230686,
          0.4382912535692368,
          0.4382912535692368,
          0.4382912535692368,
          0.4382912535692368,
          0.4382912535692368,
          0.4381333038161667,
          0.4379753540630967,
          0.4379753540630967,
          0.4379753540630967,
          0.4378174043100266,
          0.43765945455695654,
          0.43765945455695654,
          0.43765945455695654,
          0.43750150480388644,
          0.4373435550508164,
          0.4371856052977463,
          0.43702765554467626,
          0.43702765554467626,
          0.43686970579160617,
          0.43686970579160617,
          0.4367117560385361,
          0.4367117560385361,
          0.43655380628546603,
          0.436395856532396,
          0.436395856532396,
          0.4362379067793259,
          0.43607995702625585,
          0.43607995702625585,
          0.43607995702625585,
          0.4357640575201157,
          0.4357640575201157,
          0.4357640575201157,
          0.4356061077670456,
          0.4354481580139756,
          0.4352902082609055,
          0.4352902082609055,
          0.43513225850783543,
          0.43497430875476534,
          0.4346584092486252,
          0.4346584092486252,
          0.4346584092486252,
          0.4346584092486252,
          0.43450045949555516,
          0.434184559989415,
          0.4338686604832749,
          0.4337107107302048,
          0.4337107107302048,
          0.4337107107302048,
          0.4337107107302048,
          0.43355276097713474,
          0.43339481122406465,
          0.43292096196485447,
          0.43292096196485447,
          0.43292096196485447,
          0.43260506245871433,
          0.43244711270564423,
          0.43244711270564423,
          0.43197326344643405,
          0.43197326344643405,
          0.4316573639402939,
          0.4314994141872238,
          0.4314994141872238,
          0.4313414644341538,
          0.43102556492801364,
          0.43086761517494354,
          0.43086761517494354,
          0.4305517156688034,
          0.4303937659157333,
          0.4303937659157333,
          0.43023581616266326,
          0.4300778664095932,
          0.4299199166565231,
          0.4299199166565231,
          0.4297619669034531,
          0.42944606739731295,
          0.42944606739731295,
          0.42944606739731295,
          0.4291301678911728,
          0.4291301678911728,
          0.4289722181381027,
          0.42849836887889253,
          0.4280245196196823,
          0.427392720607402,
          0.427392720607402,
          0.4272347708543319,
          0.4272347708543319,
          0.4264450220889816,
          0.4264450220889816,
          0.42612912258284147,
          0.4253393738174911,
          0.42518142406442105,
          0.4248655245582809,
          0.4247075748052108,
          0.42375987628679046,
          0.4231280772745102,
          0.4229701275214401,
          0.42281217776837,
          0.4224962782622299,
          0.4223383285091598,
          0.4220224290030197,
          0.42186447924994963,
          0.420442931472319,
          0.42012703196617884,
          0.4180736851762679,
          0.4177577856701278,
          0.41744188616398764,
          0.4164941876455672,
          0.41349314233723594,
          0.41270339357188557,
          0.41175569505346515,
          0.4100182477696944,
          0.40907054925127395,
          0.4089125994982039,
          0.40401615715303174,
          0.40085716209163036,
          0.39011657888286566,
          0.3899586291297956
         ],
         "yaxis": "y"
        }
       ],
       "layout": {
        "legend": {
         "tracegroupgap": 0
        },
        "template": {
         "data": {
          "bar": [
           {
            "error_x": {
             "color": "#2a3f5f"
            },
            "error_y": {
             "color": "#2a3f5f"
            },
            "marker": {
             "line": {
              "color": "#E5ECF6",
              "width": 0.5
             },
             "pattern": {
              "fillmode": "overlay",
              "size": 10,
              "solidity": 0.2
             }
            },
            "type": "bar"
           }
          ],
          "barpolar": [
           {
            "marker": {
             "line": {
              "color": "#E5ECF6",
              "width": 0.5
             },
             "pattern": {
              "fillmode": "overlay",
              "size": 10,
              "solidity": 0.2
             }
            },
            "type": "barpolar"
           }
          ],
          "carpet": [
           {
            "aaxis": {
             "endlinecolor": "#2a3f5f",
             "gridcolor": "white",
             "linecolor": "white",
             "minorgridcolor": "white",
             "startlinecolor": "#2a3f5f"
            },
            "baxis": {
             "endlinecolor": "#2a3f5f",
             "gridcolor": "white",
             "linecolor": "white",
             "minorgridcolor": "white",
             "startlinecolor": "#2a3f5f"
            },
            "type": "carpet"
           }
          ],
          "choropleth": [
           {
            "colorbar": {
             "outlinewidth": 0,
             "ticks": ""
            },
            "type": "choropleth"
           }
          ],
          "contour": [
           {
            "colorbar": {
             "outlinewidth": 0,
             "ticks": ""
            },
            "colorscale": [
             [
              0,
              "#0d0887"
             ],
             [
              0.1111111111111111,
              "#46039f"
             ],
             [
              0.2222222222222222,
              "#7201a8"
             ],
             [
              0.3333333333333333,
              "#9c179e"
             ],
             [
              0.4444444444444444,
              "#bd3786"
             ],
             [
              0.5555555555555556,
              "#d8576b"
             ],
             [
              0.6666666666666666,
              "#ed7953"
             ],
             [
              0.7777777777777778,
              "#fb9f3a"
             ],
             [
              0.8888888888888888,
              "#fdca26"
             ],
             [
              1,
              "#f0f921"
             ]
            ],
            "type": "contour"
           }
          ],
          "contourcarpet": [
           {
            "colorbar": {
             "outlinewidth": 0,
             "ticks": ""
            },
            "type": "contourcarpet"
           }
          ],
          "heatmap": [
           {
            "colorbar": {
             "outlinewidth": 0,
             "ticks": ""
            },
            "colorscale": [
             [
              0,
              "#0d0887"
             ],
             [
              0.1111111111111111,
              "#46039f"
             ],
             [
              0.2222222222222222,
              "#7201a8"
             ],
             [
              0.3333333333333333,
              "#9c179e"
             ],
             [
              0.4444444444444444,
              "#bd3786"
             ],
             [
              0.5555555555555556,
              "#d8576b"
             ],
             [
              0.6666666666666666,
              "#ed7953"
             ],
             [
              0.7777777777777778,
              "#fb9f3a"
             ],
             [
              0.8888888888888888,
              "#fdca26"
             ],
             [
              1,
              "#f0f921"
             ]
            ],
            "type": "heatmap"
           }
          ],
          "heatmapgl": [
           {
            "colorbar": {
             "outlinewidth": 0,
             "ticks": ""
            },
            "colorscale": [
             [
              0,
              "#0d0887"
             ],
             [
              0.1111111111111111,
              "#46039f"
             ],
             [
              0.2222222222222222,
              "#7201a8"
             ],
             [
              0.3333333333333333,
              "#9c179e"
             ],
             [
              0.4444444444444444,
              "#bd3786"
             ],
             [
              0.5555555555555556,
              "#d8576b"
             ],
             [
              0.6666666666666666,
              "#ed7953"
             ],
             [
              0.7777777777777778,
              "#fb9f3a"
             ],
             [
              0.8888888888888888,
              "#fdca26"
             ],
             [
              1,
              "#f0f921"
             ]
            ],
            "type": "heatmapgl"
           }
          ],
          "histogram": [
           {
            "marker": {
             "pattern": {
              "fillmode": "overlay",
              "size": 10,
              "solidity": 0.2
             }
            },
            "type": "histogram"
           }
          ],
          "histogram2d": [
           {
            "colorbar": {
             "outlinewidth": 0,
             "ticks": ""
            },
            "colorscale": [
             [
              0,
              "#0d0887"
             ],
             [
              0.1111111111111111,
              "#46039f"
             ],
             [
              0.2222222222222222,
              "#7201a8"
             ],
             [
              0.3333333333333333,
              "#9c179e"
             ],
             [
              0.4444444444444444,
              "#bd3786"
             ],
             [
              0.5555555555555556,
              "#d8576b"
             ],
             [
              0.6666666666666666,
              "#ed7953"
             ],
             [
              0.7777777777777778,
              "#fb9f3a"
             ],
             [
              0.8888888888888888,
              "#fdca26"
             ],
             [
              1,
              "#f0f921"
             ]
            ],
            "type": "histogram2d"
           }
          ],
          "histogram2dcontour": [
           {
            "colorbar": {
             "outlinewidth": 0,
             "ticks": ""
            },
            "colorscale": [
             [
              0,
              "#0d0887"
             ],
             [
              0.1111111111111111,
              "#46039f"
             ],
             [
              0.2222222222222222,
              "#7201a8"
             ],
             [
              0.3333333333333333,
              "#9c179e"
             ],
             [
              0.4444444444444444,
              "#bd3786"
             ],
             [
              0.5555555555555556,
              "#d8576b"
             ],
             [
              0.6666666666666666,
              "#ed7953"
             ],
             [
              0.7777777777777778,
              "#fb9f3a"
             ],
             [
              0.8888888888888888,
              "#fdca26"
             ],
             [
              1,
              "#f0f921"
             ]
            ],
            "type": "histogram2dcontour"
           }
          ],
          "mesh3d": [
           {
            "colorbar": {
             "outlinewidth": 0,
             "ticks": ""
            },
            "type": "mesh3d"
           }
          ],
          "parcoords": [
           {
            "line": {
             "colorbar": {
              "outlinewidth": 0,
              "ticks": ""
             }
            },
            "type": "parcoords"
           }
          ],
          "pie": [
           {
            "automargin": true,
            "type": "pie"
           }
          ],
          "scatter": [
           {
            "marker": {
             "colorbar": {
              "outlinewidth": 0,
              "ticks": ""
             }
            },
            "type": "scatter"
           }
          ],
          "scatter3d": [
           {
            "line": {
             "colorbar": {
              "outlinewidth": 0,
              "ticks": ""
             }
            },
            "marker": {
             "colorbar": {
              "outlinewidth": 0,
              "ticks": ""
             }
            },
            "type": "scatter3d"
           }
          ],
          "scattercarpet": [
           {
            "marker": {
             "colorbar": {
              "outlinewidth": 0,
              "ticks": ""
             }
            },
            "type": "scattercarpet"
           }
          ],
          "scattergeo": [
           {
            "marker": {
             "colorbar": {
              "outlinewidth": 0,
              "ticks": ""
             }
            },
            "type": "scattergeo"
           }
          ],
          "scattergl": [
           {
            "marker": {
             "colorbar": {
              "outlinewidth": 0,
              "ticks": ""
             }
            },
            "type": "scattergl"
           }
          ],
          "scattermapbox": [
           {
            "marker": {
             "colorbar": {
              "outlinewidth": 0,
              "ticks": ""
             }
            },
            "type": "scattermapbox"
           }
          ],
          "scatterpolar": [
           {
            "marker": {
             "colorbar": {
              "outlinewidth": 0,
              "ticks": ""
             }
            },
            "type": "scatterpolar"
           }
          ],
          "scatterpolargl": [
           {
            "marker": {
             "colorbar": {
              "outlinewidth": 0,
              "ticks": ""
             }
            },
            "type": "scatterpolargl"
           }
          ],
          "scatterternary": [
           {
            "marker": {
             "colorbar": {
              "outlinewidth": 0,
              "ticks": ""
             }
            },
            "type": "scatterternary"
           }
          ],
          "surface": [
           {
            "colorbar": {
             "outlinewidth": 0,
             "ticks": ""
            },
            "colorscale": [
             [
              0,
              "#0d0887"
             ],
             [
              0.1111111111111111,
              "#46039f"
             ],
             [
              0.2222222222222222,
              "#7201a8"
             ],
             [
              0.3333333333333333,
              "#9c179e"
             ],
             [
              0.4444444444444444,
              "#bd3786"
             ],
             [
              0.5555555555555556,
              "#d8576b"
             ],
             [
              0.6666666666666666,
              "#ed7953"
             ],
             [
              0.7777777777777778,
              "#fb9f3a"
             ],
             [
              0.8888888888888888,
              "#fdca26"
             ],
             [
              1,
              "#f0f921"
             ]
            ],
            "type": "surface"
           }
          ],
          "table": [
           {
            "cells": {
             "fill": {
              "color": "#EBF0F8"
             },
             "line": {
              "color": "white"
             }
            },
            "header": {
             "fill": {
              "color": "#C8D4E3"
             },
             "line": {
              "color": "white"
             }
            },
            "type": "table"
           }
          ]
         },
         "layout": {
          "annotationdefaults": {
           "arrowcolor": "#2a3f5f",
           "arrowhead": 0,
           "arrowwidth": 1
          },
          "autotypenumbers": "strict",
          "coloraxis": {
           "colorbar": {
            "outlinewidth": 0,
            "ticks": ""
           }
          },
          "colorscale": {
           "diverging": [
            [
             0,
             "#8e0152"
            ],
            [
             0.1,
             "#c51b7d"
            ],
            [
             0.2,
             "#de77ae"
            ],
            [
             0.3,
             "#f1b6da"
            ],
            [
             0.4,
             "#fde0ef"
            ],
            [
             0.5,
             "#f7f7f7"
            ],
            [
             0.6,
             "#e6f5d0"
            ],
            [
             0.7,
             "#b8e186"
            ],
            [
             0.8,
             "#7fbc41"
            ],
            [
             0.9,
             "#4d9221"
            ],
            [
             1,
             "#276419"
            ]
           ],
           "sequential": [
            [
             0,
             "#0d0887"
            ],
            [
             0.1111111111111111,
             "#46039f"
            ],
            [
             0.2222222222222222,
             "#7201a8"
            ],
            [
             0.3333333333333333,
             "#9c179e"
            ],
            [
             0.4444444444444444,
             "#bd3786"
            ],
            [
             0.5555555555555556,
             "#d8576b"
            ],
            [
             0.6666666666666666,
             "#ed7953"
            ],
            [
             0.7777777777777778,
             "#fb9f3a"
            ],
            [
             0.8888888888888888,
             "#fdca26"
            ],
            [
             1,
             "#f0f921"
            ]
           ],
           "sequentialminus": [
            [
             0,
             "#0d0887"
            ],
            [
             0.1111111111111111,
             "#46039f"
            ],
            [
             0.2222222222222222,
             "#7201a8"
            ],
            [
             0.3333333333333333,
             "#9c179e"
            ],
            [
             0.4444444444444444,
             "#bd3786"
            ],
            [
             0.5555555555555556,
             "#d8576b"
            ],
            [
             0.6666666666666666,
             "#ed7953"
            ],
            [
             0.7777777777777778,
             "#fb9f3a"
            ],
            [
             0.8888888888888888,
             "#fdca26"
            ],
            [
             1,
             "#f0f921"
            ]
           ]
          },
          "colorway": [
           "#636efa",
           "#EF553B",
           "#00cc96",
           "#ab63fa",
           "#FFA15A",
           "#19d3f3",
           "#FF6692",
           "#B6E880",
           "#FF97FF",
           "#FECB52"
          ],
          "font": {
           "color": "#2a3f5f"
          },
          "geo": {
           "bgcolor": "white",
           "lakecolor": "white",
           "landcolor": "#E5ECF6",
           "showlakes": true,
           "showland": true,
           "subunitcolor": "white"
          },
          "hoverlabel": {
           "align": "left"
          },
          "hovermode": "closest",
          "mapbox": {
           "style": "light"
          },
          "paper_bgcolor": "white",
          "plot_bgcolor": "#E5ECF6",
          "polar": {
           "angularaxis": {
            "gridcolor": "white",
            "linecolor": "white",
            "ticks": ""
           },
           "bgcolor": "#E5ECF6",
           "radialaxis": {
            "gridcolor": "white",
            "linecolor": "white",
            "ticks": ""
           }
          },
          "scene": {
           "xaxis": {
            "backgroundcolor": "#E5ECF6",
            "gridcolor": "white",
            "gridwidth": 2,
            "linecolor": "white",
            "showbackground": true,
            "ticks": "",
            "zerolinecolor": "white"
           },
           "yaxis": {
            "backgroundcolor": "#E5ECF6",
            "gridcolor": "white",
            "gridwidth": 2,
            "linecolor": "white",
            "showbackground": true,
            "ticks": "",
            "zerolinecolor": "white"
           },
           "zaxis": {
            "backgroundcolor": "#E5ECF6",
            "gridcolor": "white",
            "gridwidth": 2,
            "linecolor": "white",
            "showbackground": true,
            "ticks": "",
            "zerolinecolor": "white"
           }
          },
          "shapedefaults": {
           "line": {
            "color": "#2a3f5f"
           }
          },
          "ternary": {
           "aaxis": {
            "gridcolor": "white",
            "linecolor": "white",
            "ticks": ""
           },
           "baxis": {
            "gridcolor": "white",
            "linecolor": "white",
            "ticks": ""
           },
           "bgcolor": "#E5ECF6",
           "caxis": {
            "gridcolor": "white",
            "linecolor": "white",
            "ticks": ""
           }
          },
          "title": {
           "x": 0.05
          },
          "xaxis": {
           "automargin": true,
           "gridcolor": "white",
           "linecolor": "white",
           "ticks": "",
           "title": {
            "standoff": 15
           },
           "zerolinecolor": "white",
           "zerolinewidth": 2
          },
          "yaxis": {
           "automargin": true,
           "gridcolor": "white",
           "linecolor": "white",
           "ticks": "",
           "title": {
            "standoff": 15
           },
           "zerolinecolor": "white",
           "zerolinewidth": 2
          }
         }
        },
        "title": {
         "text": "Relations between Accuracy and Shots"
        },
        "xaxis": {
         "anchor": "y",
         "domain": [
          0,
          1
         ],
         "title": {
          "text": "Shots Per Avg Match_per season"
         }
        },
        "yaxis": {
         "anchor": "x",
         "domain": [
          0,
          1
         ],
         "title": {
          "text": "On Target Shots/ Shots"
         }
        }
       }
      },
      "text/html": [
       "<div>                            <div id=\"d1c7f9aa-a181-45e9-9eff-f0e3ffeede3f\" class=\"plotly-graph-div\" style=\"height:525px; width:100%;\"></div>            <script type=\"text/javascript\">                require([\"plotly\"], function(Plotly) {                    window.PLOTLYENV=window.PLOTLYENV || {};                                    if (document.getElementById(\"d1c7f9aa-a181-45e9-9eff-f0e3ffeede3f\")) {                    Plotly.newPlot(                        \"d1c7f9aa-a181-45e9-9eff-f0e3ffeede3f\",                        [{\"hovertemplate\":\"Shots Per Avg Match_per season=%{x}<br>On Target Shots/ Shots=%{y}<extra></extra>\",\"legendgroup\":\"\",\"marker\":{\"color\":\"#636efa\",\"symbol\":\"circle\"},\"mode\":\"markers\",\"name\":\"\",\"orientation\":\"v\",\"showlegend\":false,\"x\":[2.73,2.01,2.19,3.26,3.14,3.78,2.57,2.65,2.41,1.36,3.05,2.88,3.8,3.62,2.66,2.74,3.15,3.74,2.85,1.03,2.08,3.73,3.22,2.92,2.67,3.72,3.56,1.87,3.34,3.81,2.15,2.83,2.95,1.82,2.72,2.73,3.12,2.8,3.3,4.19,3.78,2.0,2.86,1.99,2.4,2.94,1.69,2.05,1.82,2.93,2.63,2.81,3.08,1.82,2.63,3.36,3.22,4.22,2.4,3.48,2.88,1.65,0.85,3.87,2.95,2.19,2.16,2.85,2.54,1.84,3.05,1.27,1.65,5.07,3.25,1.85,2.91,3.22,2.61,2.65,3.92,2.09,2.83,2.36,3.02,1.77,3.84,3.04,2.92,2.32,2.52,2.84,3.32,6.28,3.24,2.57,2.44,2.16,1.24,2.26,3.56,2.94,2.15,2.62,2.12,2.26,2.52,2.84,3.41,1.81,2.85,2.55,3.26,2.84,3.5,2.5,2.24,2.91,3.58,3.45,3.03,2.07,4.35,3.51,4.08,2.58,2.63,3.35,2.6,3.01,4.54,2.83,1.2,2.3,0.8,1.92,2.38,3.53,0.81,3.41,3.22,1.96,2.49,3.71,3.31,1.51,2.13,1.93,1.72,2.82,2.94,2.58,2.89,2.51,3.46,3.62,2.18,2.62,1.38,3.91,3.65,2.87,2.03,1.78,2.36,3.04,3.02,2.62,2.66,1.91,3.68,2.42,1.93,2.5,4.52,2.28,2.47,2.2,3.36,3.38,1.65,3.59,3.05,3.32,3.45,1.72,2.5,4.04,3.01,2.61,2.4,4.14,2.94,2.26,3.18,1.8,4.25,3.65,3.16,2.83,1.76,2.04,0.99,2.37,2.47,2.64,3.29,2.64,2.68,3.11,2.67,3.11,2.42,2.28,2.12,1.64,1.96,2.22,1.92,2.49,1.81,3.99,2.76,2.2,4.18,2.64,2.52,2.47,1.69,3.52,2.79,2.45,3.42,3.12,2.0,3.26,3.27,2.48,2.99,3.15,2.72,3.05,2.86,2.45,2.28,3.24,2.22,3.56,5.01,2.56,3.38,4.2,4.6,1.97,2.95,1.59,2.47,3.12,2.8,5.39,3.43,2.22,4.9,3.39,2.72,3.05,1.82,3.11,2.21,1.9,1.82,2.75,6.27,4.05,1.62,2.56,3.92,1.48,2.96,4.26,1.39,2.35,3.04,2.78,3.19,2.32,3.8,2.71,2.25,2.42,1.78,2.88,2.97,3.22,3.31,2.2,2.48,2.52,2.77,2.13,3.66,2.39,3.33,2.0,3.01,2.47,2.26,3.72,2.93,1.93,3.75,2.92,3.12,2.23,2.34,2.72,2.47,3.02,2.15,2.2,3.97,3.76,1.91,2.03,3.17,3.23,2.64,3.08,1.68,2.83,2.4,1.93,3.11,5.59,2.17,2.48,2.98,3.51,4.23,3.09,3.45,4.5,3.38,2.49,2.28,4.37,3.3,2.65,1.16,3.16,2.89,3.51,2.75,2.91,2.34,2.81,2.54,3.1,3.64,3.69,2.73,2.67,3.21,2.73,2.79,2.6,3.28,2.86,4.84,3.06,2.32,2.01,2.48,2.08,2.6,3.16,2.56,1.73,2.88,3.69,3.75,3.06,3.2,2.68,3.91,2.28,2.66,2.09,2.57,2.28,3.78,3.14,2.51,2.97,2.76,2.2,2.22,2.11,3.17,2.87,2.09,4.79,2.98,2.52,1.2,3.21,2.97,3.0,3.45,3.97,3.51,2.46,1.42,2.88,4.07,3.19,1.5,2.7,3.4,2.8,3.04,2.55,2.42,2.8,2.47,3.36,3.59,2.6,2.29,2.98,2.3,2.2,2.91,2.95,2.6,3.24,2.49,2.7,2.29,2.24,2.86,2.42,5.08,3.34],\"xaxis\":\"x\",\"y\":[0.54,0.54,0.36,0.53,0.47,0.51,0.45,0.46,0.44,0.43,0.56,0.35,0.36,0.38,0.47,0.38,0.43,0.5,0.39,0.28,0.5,0.41,0.44,0.37,0.43,0.52,0.48,0.42,0.37,0.31,0.25,0.46,0.5,0.4,0.47,0.49,0.53,0.46,0.4,0.63,0.44,0.5,0.29,0.3,0.46,0.51,0.49,0.83,0.57,0.47,0.42,0.63,0.48,0.41,0.46,0.42,0.39,0.43,0.3,0.43,0.44,0.48,0.28,0.42,0.61,0.4,0.45,0.4,0.57,0.4,0.34,0.62,0.3,0.45,0.41,0.49,0.52,0.48,0.57,0.42,0.27,0.53,0.48,0.44,0.36,0.44,0.49,0.36,0.32,0.4,0.5,0.4,0.36,0.41,0.51,0.68,0.39,0.42,0.45,0.35,0.52,0.4,0.6,0.44,0.39,0.47,0.62,0.45,0.48,0.31,0.46,0.39,0.37,0.66,0.46,0.41,0.39,0.41,0.55,0.43,0.51,0.36,0.54,0.35,0.51,0.45,0.53,0.41,0.44,0.59,0.43,0.42,0.4,0.47,0.5,0.66,0.5,0.5,0.8,0.34,0.49,0.43,0.52,0.43,0.44,0.56,0.43,0.48,0.69,0.62,0.36,0.48,0.4,0.43,0.49,0.46,0.33,0.31,0.64,0.41,0.4,0.4,0.6,0.4,0.4,0.39,0.36,0.36,0.37,0.39,0.55,0.53,0.57,0.5,0.35,0.46,0.38,0.36,0.41,0.58,0.45,0.45,0.47,0.44,0.47,0.35,0.57,0.44,0.61,0.48,0.47,0.43,0.5,0.44,0.38,0.47,0.41,0.38,0.33,0.35,0.53,0.41,0.7,0.54,0.23,0.49,0.43,0.45,0.31,0.33,0.49,0.29,0.45,0.41,0.39,0.46,0.47,0.39,0.41,0.66,0.5,0.41,0.34,0.38,0.41,0.49,0.27,0.42,0.51,0.33,0.47,0.47,0.46,0.45,0.6,0.47,0.69,0.48,0.4,0.31,0.46,0.43,0.47,0.54,0.42,0.53,0.46,0.44,0.58,0.55,0.44,0.38,0.35,0.4,0.41,0.53,0.55,0.36,0.39,0.47,0.32,0.35,0.42,0.55,0.43,0.42,0.42,0.42,0.46,0.45,0.37,0.31,0.43,0.46,0.62,0.39,0.43,0.42,0.42,0.33,0.55,0.33,0.37,0.5,0.46,0.64,0.36,0.54,0.39,0.51,0.44,0.58,0.48,0.31,0.35,0.6,0.4,0.64,0.4,0.34,0.38,0.4,0.39,0.46,0.32,0.46,0.4,0.48,0.36,0.46,0.55,0.43,0.44,0.57,0.37,0.5,0.39,0.44,0.46,0.36,0.46,0.47,0.42,0.44,0.51,0.68,0.48,0.41,0.5,0.51,0.41,0.37,0.51,0.23,0.41,0.41,0.51,0.41,0.43,0.47,0.43,0.4,0.44,0.29,0.38,0.34,0.51,0.47,0.57,0.62,0.41,0.5,0.29,0.43,0.43,0.41,0.41,0.35,0.4,0.41,0.31,0.46,0.4,0.46,0.34,0.35,0.45,0.45,0.47,0.42,0.47,0.39,0.4,0.45,0.32,0.41,0.46,0.45,0.42,0.48,0.35,0.42,0.47,0.37,0.36,0.6,0.46,0.46,0.31,0.47,0.41,0.47,0.47,0.38,0.61,0.57,0.48,0.42,0.48,0.37,0.41,0.36,0.42,0.47,0.43,0.33,0.45,0.43,0.48,0.52,0.4,0.44,0.51,0.46,0.5,0.5,0.39,0.38,0.47,0.38,0.39,0.4,0.57,0.51,0.64,0.41,0.47,0.41,0.54,0.38,0.47,0.39,0.44,0.33,0.4,0.27,0.52,0.5,0.48,0.38,0.29,0.41,0.43,0.32],\"yaxis\":\"y\",\"type\":\"scatter\"},{\"hovertemplate\":\"<b>OLS trendline</b><br>On Target Shots/ Shots = -0.015795 * Shots Per Avg Match_per season + 0.489151<br>R<sup>2</sup>=0.020764<br><br>Shots Per Avg Match_per season=%{x}<br>On Target Shots/ Shots=%{y} <b>(trend)</b><extra></extra>\",\"legendgroup\":\"\",\"marker\":{\"color\":\"#636efa\",\"symbol\":\"circle\"},\"mode\":\"lines\",\"name\":\"\",\"showlegend\":false,\"x\":[0.8,0.81,0.85,0.99,1.03,1.16,1.2,1.2,1.24,1.27,1.36,1.38,1.39,1.42,1.48,1.5,1.51,1.59,1.62,1.64,1.65,1.65,1.65,1.68,1.69,1.69,1.72,1.72,1.73,1.76,1.77,1.78,1.78,1.8,1.81,1.81,1.82,1.82,1.82,1.82,1.82,1.84,1.85,1.87,1.9,1.91,1.91,1.92,1.92,1.93,1.93,1.93,1.93,1.96,1.96,1.97,1.99,2.0,2.0,2.0,2.01,2.01,2.03,2.03,2.04,2.05,2.07,2.08,2.08,2.09,2.09,2.09,2.11,2.12,2.12,2.13,2.13,2.15,2.15,2.15,2.16,2.16,2.17,2.18,2.19,2.19,2.2,2.2,2.2,2.2,2.2,2.2,2.21,2.22,2.22,2.22,2.22,2.23,2.24,2.24,2.25,2.26,2.26,2.26,2.26,2.28,2.28,2.28,2.28,2.28,2.28,2.29,2.29,2.3,2.3,2.32,2.32,2.32,2.34,2.34,2.35,2.36,2.36,2.37,2.38,2.39,2.4,2.4,2.4,2.4,2.41,2.42,2.42,2.42,2.42,2.42,2.44,2.45,2.45,2.46,2.47,2.47,2.47,2.47,2.47,2.47,2.47,2.48,2.48,2.48,2.48,2.49,2.49,2.49,2.49,2.5,2.5,2.5,2.51,2.51,2.52,2.52,2.52,2.52,2.52,2.54,2.54,2.55,2.55,2.56,2.56,2.56,2.57,2.57,2.57,2.58,2.58,2.6,2.6,2.6,2.6,2.6,2.61,2.61,2.62,2.62,2.62,2.63,2.63,2.63,2.64,2.64,2.64,2.64,2.65,2.65,2.65,2.66,2.66,2.66,2.67,2.67,2.67,2.68,2.68,2.7,2.7,2.71,2.72,2.72,2.72,2.72,2.73,2.73,2.73,2.73,2.74,2.75,2.75,2.76,2.76,2.77,2.78,2.79,2.79,2.8,2.8,2.8,2.8,2.81,2.81,2.82,2.83,2.83,2.83,2.83,2.83,2.84,2.84,2.84,2.85,2.85,2.85,2.86,2.86,2.86,2.86,2.87,2.87,2.88,2.88,2.88,2.88,2.88,2.89,2.89,2.91,2.91,2.91,2.91,2.92,2.92,2.92,2.93,2.93,2.94,2.94,2.94,2.94,2.95,2.95,2.95,2.95,2.96,2.97,2.97,2.97,2.98,2.98,2.98,2.99,3.0,3.01,3.01,3.01,3.02,3.02,3.02,3.03,3.04,3.04,3.04,3.04,3.05,3.05,3.05,3.05,3.05,3.06,3.06,3.08,3.08,3.09,3.1,3.11,3.11,3.11,3.11,3.12,3.12,3.12,3.12,3.14,3.14,3.15,3.15,3.16,3.16,3.16,3.17,3.17,3.18,3.19,3.19,3.2,3.21,3.21,3.22,3.22,3.22,3.22,3.22,3.23,3.24,3.24,3.24,3.25,3.26,3.26,3.26,3.27,3.28,3.29,3.3,3.3,3.31,3.31,3.32,3.32,3.33,3.34,3.34,3.35,3.36,3.36,3.36,3.38,3.38,3.38,3.39,3.4,3.41,3.41,3.42,3.43,3.45,3.45,3.45,3.45,3.46,3.48,3.5,3.51,3.51,3.51,3.51,3.52,3.53,3.56,3.56,3.56,3.58,3.59,3.59,3.62,3.62,3.64,3.65,3.65,3.66,3.68,3.69,3.69,3.71,3.72,3.72,3.73,3.74,3.75,3.75,3.76,3.78,3.78,3.78,3.8,3.8,3.81,3.84,3.87,3.91,3.91,3.92,3.92,3.97,3.97,3.99,4.04,4.05,4.07,4.08,4.14,4.18,4.19,4.2,4.22,4.23,4.25,4.26,4.35,4.37,4.5,4.52,4.54,4.6,4.79,4.84,4.9,5.01,5.07,5.08,5.39,5.59,6.27,6.28],\"xaxis\":\"x\",\"y\":[0.4765150938121936,0.4763571440591235,0.4757253450468432,0.47351404850386225,0.472882249491582,0.4708289027016711,0.4701971036893908,0.4701971036893908,0.46956530467711055,0.4690914554179003,0.46766990764026967,0.46735400813412953,0.4671960583810595,0.46672220912184925,0.46577451060342884,0.4654586110972887,0.46530066134421866,0.4640370633196581,0.46356321406044787,0.46324731455430773,0.4630893648012377,0.4630893648012377,0.4630893648012377,0.46261551554202746,0.4624575657889574,0.4624575657889574,0.4619837165297472,0.4619837165297472,0.46182576677667714,0.4613519175174669,0.46119396776439686,0.46103601801132676,0.46103601801132676,0.4607201185051866,0.4605621687521166,0.4605621687521166,0.4604042189990465,0.4604042189990465,0.4604042189990465,0.4604042189990465,0.4604042189990465,0.46008831949290635,0.4599303697398363,0.45961447023369617,0.45914062097448594,0.4589826712214159,0.4589826712214159,0.4588247214683458,0.4588247214683458,0.45866677171527576,0.45866677171527576,0.45866677171527576,0.45866677171527576,0.4581929224560655,0.4581929224560655,0.4580349727029955,0.45771907319685534,0.45756112344378524,0.45756112344378524,0.45756112344378524,0.4574031736907152,0.4574031736907152,0.45708727418457507,0.45708727418457507,0.45692932443150497,0.4567713746784349,0.4564554751722948,0.4562975254192247,0.4562975254192247,0.45613957566615465,0.45613957566615465,0.45613957566615465,0.4558236761600145,0.4556657264069444,0.4556657264069444,0.4555077766538744,0.4555077766538744,0.45519187714773424,0.45519187714773424,0.45519187714773424,0.45503392739466414,0.45503392739466414,0.4548759776415941,0.454718027888524,0.45456007813545396,0.45456007813545396,0.45440212838238386,0.45440212838238386,0.45440212838238386,0.45440212838238386,0.45440212838238386,0.45440212838238386,0.4542441786293138,0.4540862288762437,0.4540862288762437,0.4540862288762437,0.4540862288762437,0.4539282791231737,0.4537703293701036,0.4537703293701036,0.45361237961703355,0.45345442986396345,0.45345442986396345,0.45345442986396345,0.45345442986396345,0.4531385303578233,0.4531385303578233,0.4531385303578233,0.4531385303578233,0.4531385303578233,0.4531385303578233,0.45298058060475327,0.45298058060475327,0.45282263085168317,0.45282263085168317,0.45250673134554303,0.45250673134554303,0.45250673134554303,0.4521908318394029,0.4521908318394029,0.45203288208633285,0.45187493233326276,0.45187493233326276,0.4517169825801927,0.4515590328271226,0.4514010830740526,0.4512431333209825,0.4512431333209825,0.4512431333209825,0.4512431333209825,0.4510851835679124,0.45092723381484234,0.45092723381484234,0.45092723381484234,0.45092723381484234,0.45092723381484234,0.4506113343087022,0.4504533845556321,0.4504533845556321,0.45029543480256207,0.450137485049492,0.450137485049492,0.450137485049492,0.450137485049492,0.450137485049492,0.450137485049492,0.450137485049492,0.44997953529642193,0.44997953529642193,0.44997953529642193,0.44997953529642193,0.44982158554335183,0.44982158554335183,0.44982158554335183,0.44982158554335183,0.4496636357902818,0.4496636357902818,0.4496636357902818,0.44950568603721175,0.44950568603721175,0.44934773628414165,0.44934773628414165,0.44934773628414165,0.44934773628414165,0.44934773628414165,0.4490318367780015,0.4490318367780015,0.4488738870249315,0.4488738870249315,0.4487159372718614,0.4487159372718614,0.4487159372718614,0.44855798751879133,0.44855798751879133,0.44855798751879133,0.44840003776572124,0.44840003776572124,0.4480841382595811,0.4480841382595811,0.4480841382595811,0.4480841382595811,0.4480841382595811,0.447926188506511,0.447926188506511,0.44776823875344096,0.44776823875344096,0.44776823875344096,0.4476102890003709,0.4476102890003709,0.4476102890003709,0.4474523392473008,0.4474523392473008,0.4474523392473008,0.4474523392473008,0.4472943894942307,0.4472943894942307,0.4472943894942307,0.4471364397411607,0.4471364397411607,0.4471364397411607,0.44697848998809064,0.44697848998809064,0.44697848998809064,0.44682054023502055,0.44682054023502055,0.4465046407288804,0.4465046407288804,0.44634669097581037,0.44618874122274027,0.44618874122274027,0.44618874122274027,0.44618874122274027,0.4460307914696702,0.4460307914696702,0.4460307914696702,0.4460307914696702,0.44587284171660013,0.4457148919635301,0.4457148919635301,0.44555694221046,0.44555694221046,0.4453989924573899,0.44524104270431986,0.4450830929512498,0.4450830929512498,0.4449251431981797,0.4449251431981797,0.4449251431981797,0.4449251431981797,0.4447671934451096,0.4447671934451096,0.4446092436920396,0.4444512939389695,0.4444512939389695,0.4444512939389695,0.4444512939389695,0.4444512939389695,0.44429334418589944,0.44429334418589944,0.44429334418589944,0.44413539443282934,0.44413539443282934,0.44413539443282934,0.4439774446797593,0.4439774446797593,0.4439774446797593,0.4439774446797593,0.4438194949266892,0.4438194949266892,0.44366154517361917,0.44366154517361917,0.44366154517361917,0.44366154517361917,0.44366154517361917,0.44350359542054907,0.44350359542054907,0.44318769591440893,0.44318769591440893,0.44318769591440893,0.44318769591440893,0.4430297461613389,0.4430297461613389,0.4430297461613389,0.4428717964082688,0.4428717964082688,0.44271384665519875,0.44271384665519875,0.44271384665519875,0.44271384665519875,0.44255589690212865,0.44255589690212865,0.44255589690212865,0.44255589690212865,0.4423979471490586,0.4422399973959885,0.4422399973959885,0.4422399973959885,0.4420820476429185,0.4420820476429185,0.4420820476429185,0.4419240978898484,0.44176614813677834,0.44160819838370824,0.44160819838370824,0.44160819838370824,0.4414502486306382,0.4414502486306382,0.4414502486306382,0.4412922988775681,0.44113434912449806,0.44113434912449806,0.44113434912449806,0.44113434912449806,0.44097639937142796,0.44097639937142796,0.44097639937142796,0.44097639937142796,0.44097639937142796,0.4408184496183579,0.4408184496183579,0.4405025501122178,0.4405025501122178,0.4403446003591477,0.44018665060607765,0.44002870085300755,0.44002870085300755,0.44002870085300755,0.44002870085300755,0.4398707510999375,0.4398707510999375,0.4398707510999375,0.4398707510999375,0.43955485159379737,0.43955485159379737,0.43939690184072727,0.43939690184072727,0.43923895208765723,0.43923895208765723,0.43923895208765723,0.43908100233458713,0.43908100233458713,0.4389230525815171,0.438765102828447,0.438765102828447,0.43860715307537695,0.43844920332230686,0.43844920332230686,0.4382912535692368,0.4382912535692368,0.4382912535692368,0.4382912535692368,0.4382912535692368,0.4381333038161667,0.4379753540630967,0.4379753540630967,0.4379753540630967,0.4378174043100266,0.43765945455695654,0.43765945455695654,0.43765945455695654,0.43750150480388644,0.4373435550508164,0.4371856052977463,0.43702765554467626,0.43702765554467626,0.43686970579160617,0.43686970579160617,0.4367117560385361,0.4367117560385361,0.43655380628546603,0.436395856532396,0.436395856532396,0.4362379067793259,0.43607995702625585,0.43607995702625585,0.43607995702625585,0.4357640575201157,0.4357640575201157,0.4357640575201157,0.4356061077670456,0.4354481580139756,0.4352902082609055,0.4352902082609055,0.43513225850783543,0.43497430875476534,0.4346584092486252,0.4346584092486252,0.4346584092486252,0.4346584092486252,0.43450045949555516,0.434184559989415,0.4338686604832749,0.4337107107302048,0.4337107107302048,0.4337107107302048,0.4337107107302048,0.43355276097713474,0.43339481122406465,0.43292096196485447,0.43292096196485447,0.43292096196485447,0.43260506245871433,0.43244711270564423,0.43244711270564423,0.43197326344643405,0.43197326344643405,0.4316573639402939,0.4314994141872238,0.4314994141872238,0.4313414644341538,0.43102556492801364,0.43086761517494354,0.43086761517494354,0.4305517156688034,0.4303937659157333,0.4303937659157333,0.43023581616266326,0.4300778664095932,0.4299199166565231,0.4299199166565231,0.4297619669034531,0.42944606739731295,0.42944606739731295,0.42944606739731295,0.4291301678911728,0.4291301678911728,0.4289722181381027,0.42849836887889253,0.4280245196196823,0.427392720607402,0.427392720607402,0.4272347708543319,0.4272347708543319,0.4264450220889816,0.4264450220889816,0.42612912258284147,0.4253393738174911,0.42518142406442105,0.4248655245582809,0.4247075748052108,0.42375987628679046,0.4231280772745102,0.4229701275214401,0.42281217776837,0.4224962782622299,0.4223383285091598,0.4220224290030197,0.42186447924994963,0.420442931472319,0.42012703196617884,0.4180736851762679,0.4177577856701278,0.41744188616398764,0.4164941876455672,0.41349314233723594,0.41270339357188557,0.41175569505346515,0.4100182477696944,0.40907054925127395,0.4089125994982039,0.40401615715303174,0.40085716209163036,0.39011657888286566,0.3899586291297956],\"yaxis\":\"y\",\"type\":\"scatter\"}],                        {\"template\":{\"data\":{\"bar\":[{\"error_x\":{\"color\":\"#2a3f5f\"},\"error_y\":{\"color\":\"#2a3f5f\"},\"marker\":{\"line\":{\"color\":\"#E5ECF6\",\"width\":0.5},\"pattern\":{\"fillmode\":\"overlay\",\"size\":10,\"solidity\":0.2}},\"type\":\"bar\"}],\"barpolar\":[{\"marker\":{\"line\":{\"color\":\"#E5ECF6\",\"width\":0.5},\"pattern\":{\"fillmode\":\"overlay\",\"size\":10,\"solidity\":0.2}},\"type\":\"barpolar\"}],\"carpet\":[{\"aaxis\":{\"endlinecolor\":\"#2a3f5f\",\"gridcolor\":\"white\",\"linecolor\":\"white\",\"minorgridcolor\":\"white\",\"startlinecolor\":\"#2a3f5f\"},\"baxis\":{\"endlinecolor\":\"#2a3f5f\",\"gridcolor\":\"white\",\"linecolor\":\"white\",\"minorgridcolor\":\"white\",\"startlinecolor\":\"#2a3f5f\"},\"type\":\"carpet\"}],\"choropleth\":[{\"colorbar\":{\"outlinewidth\":0,\"ticks\":\"\"},\"type\":\"choropleth\"}],\"contour\":[{\"colorbar\":{\"outlinewidth\":0,\"ticks\":\"\"},\"colorscale\":[[0.0,\"#0d0887\"],[0.1111111111111111,\"#46039f\"],[0.2222222222222222,\"#7201a8\"],[0.3333333333333333,\"#9c179e\"],[0.4444444444444444,\"#bd3786\"],[0.5555555555555556,\"#d8576b\"],[0.6666666666666666,\"#ed7953\"],[0.7777777777777778,\"#fb9f3a\"],[0.8888888888888888,\"#fdca26\"],[1.0,\"#f0f921\"]],\"type\":\"contour\"}],\"contourcarpet\":[{\"colorbar\":{\"outlinewidth\":0,\"ticks\":\"\"},\"type\":\"contourcarpet\"}],\"heatmap\":[{\"colorbar\":{\"outlinewidth\":0,\"ticks\":\"\"},\"colorscale\":[[0.0,\"#0d0887\"],[0.1111111111111111,\"#46039f\"],[0.2222222222222222,\"#7201a8\"],[0.3333333333333333,\"#9c179e\"],[0.4444444444444444,\"#bd3786\"],[0.5555555555555556,\"#d8576b\"],[0.6666666666666666,\"#ed7953\"],[0.7777777777777778,\"#fb9f3a\"],[0.8888888888888888,\"#fdca26\"],[1.0,\"#f0f921\"]],\"type\":\"heatmap\"}],\"heatmapgl\":[{\"colorbar\":{\"outlinewidth\":0,\"ticks\":\"\"},\"colorscale\":[[0.0,\"#0d0887\"],[0.1111111111111111,\"#46039f\"],[0.2222222222222222,\"#7201a8\"],[0.3333333333333333,\"#9c179e\"],[0.4444444444444444,\"#bd3786\"],[0.5555555555555556,\"#d8576b\"],[0.6666666666666666,\"#ed7953\"],[0.7777777777777778,\"#fb9f3a\"],[0.8888888888888888,\"#fdca26\"],[1.0,\"#f0f921\"]],\"type\":\"heatmapgl\"}],\"histogram\":[{\"marker\":{\"pattern\":{\"fillmode\":\"overlay\",\"size\":10,\"solidity\":0.2}},\"type\":\"histogram\"}],\"histogram2d\":[{\"colorbar\":{\"outlinewidth\":0,\"ticks\":\"\"},\"colorscale\":[[0.0,\"#0d0887\"],[0.1111111111111111,\"#46039f\"],[0.2222222222222222,\"#7201a8\"],[0.3333333333333333,\"#9c179e\"],[0.4444444444444444,\"#bd3786\"],[0.5555555555555556,\"#d8576b\"],[0.6666666666666666,\"#ed7953\"],[0.7777777777777778,\"#fb9f3a\"],[0.8888888888888888,\"#fdca26\"],[1.0,\"#f0f921\"]],\"type\":\"histogram2d\"}],\"histogram2dcontour\":[{\"colorbar\":{\"outlinewidth\":0,\"ticks\":\"\"},\"colorscale\":[[0.0,\"#0d0887\"],[0.1111111111111111,\"#46039f\"],[0.2222222222222222,\"#7201a8\"],[0.3333333333333333,\"#9c179e\"],[0.4444444444444444,\"#bd3786\"],[0.5555555555555556,\"#d8576b\"],[0.6666666666666666,\"#ed7953\"],[0.7777777777777778,\"#fb9f3a\"],[0.8888888888888888,\"#fdca26\"],[1.0,\"#f0f921\"]],\"type\":\"histogram2dcontour\"}],\"mesh3d\":[{\"colorbar\":{\"outlinewidth\":0,\"ticks\":\"\"},\"type\":\"mesh3d\"}],\"parcoords\":[{\"line\":{\"colorbar\":{\"outlinewidth\":0,\"ticks\":\"\"}},\"type\":\"parcoords\"}],\"pie\":[{\"automargin\":true,\"type\":\"pie\"}],\"scatter\":[{\"marker\":{\"colorbar\":{\"outlinewidth\":0,\"ticks\":\"\"}},\"type\":\"scatter\"}],\"scatter3d\":[{\"line\":{\"colorbar\":{\"outlinewidth\":0,\"ticks\":\"\"}},\"marker\":{\"colorbar\":{\"outlinewidth\":0,\"ticks\":\"\"}},\"type\":\"scatter3d\"}],\"scattercarpet\":[{\"marker\":{\"colorbar\":{\"outlinewidth\":0,\"ticks\":\"\"}},\"type\":\"scattercarpet\"}],\"scattergeo\":[{\"marker\":{\"colorbar\":{\"outlinewidth\":0,\"ticks\":\"\"}},\"type\":\"scattergeo\"}],\"scattergl\":[{\"marker\":{\"colorbar\":{\"outlinewidth\":0,\"ticks\":\"\"}},\"type\":\"scattergl\"}],\"scattermapbox\":[{\"marker\":{\"colorbar\":{\"outlinewidth\":0,\"ticks\":\"\"}},\"type\":\"scattermapbox\"}],\"scatterpolar\":[{\"marker\":{\"colorbar\":{\"outlinewidth\":0,\"ticks\":\"\"}},\"type\":\"scatterpolar\"}],\"scatterpolargl\":[{\"marker\":{\"colorbar\":{\"outlinewidth\":0,\"ticks\":\"\"}},\"type\":\"scatterpolargl\"}],\"scatterternary\":[{\"marker\":{\"colorbar\":{\"outlinewidth\":0,\"ticks\":\"\"}},\"type\":\"scatterternary\"}],\"surface\":[{\"colorbar\":{\"outlinewidth\":0,\"ticks\":\"\"},\"colorscale\":[[0.0,\"#0d0887\"],[0.1111111111111111,\"#46039f\"],[0.2222222222222222,\"#7201a8\"],[0.3333333333333333,\"#9c179e\"],[0.4444444444444444,\"#bd3786\"],[0.5555555555555556,\"#d8576b\"],[0.6666666666666666,\"#ed7953\"],[0.7777777777777778,\"#fb9f3a\"],[0.8888888888888888,\"#fdca26\"],[1.0,\"#f0f921\"]],\"type\":\"surface\"}],\"table\":[{\"cells\":{\"fill\":{\"color\":\"#EBF0F8\"},\"line\":{\"color\":\"white\"}},\"header\":{\"fill\":{\"color\":\"#C8D4E3\"},\"line\":{\"color\":\"white\"}},\"type\":\"table\"}]},\"layout\":{\"annotationdefaults\":{\"arrowcolor\":\"#2a3f5f\",\"arrowhead\":0,\"arrowwidth\":1},\"autotypenumbers\":\"strict\",\"coloraxis\":{\"colorbar\":{\"outlinewidth\":0,\"ticks\":\"\"}},\"colorscale\":{\"diverging\":[[0,\"#8e0152\"],[0.1,\"#c51b7d\"],[0.2,\"#de77ae\"],[0.3,\"#f1b6da\"],[0.4,\"#fde0ef\"],[0.5,\"#f7f7f7\"],[0.6,\"#e6f5d0\"],[0.7,\"#b8e186\"],[0.8,\"#7fbc41\"],[0.9,\"#4d9221\"],[1,\"#276419\"]],\"sequential\":[[0.0,\"#0d0887\"],[0.1111111111111111,\"#46039f\"],[0.2222222222222222,\"#7201a8\"],[0.3333333333333333,\"#9c179e\"],[0.4444444444444444,\"#bd3786\"],[0.5555555555555556,\"#d8576b\"],[0.6666666666666666,\"#ed7953\"],[0.7777777777777778,\"#fb9f3a\"],[0.8888888888888888,\"#fdca26\"],[1.0,\"#f0f921\"]],\"sequentialminus\":[[0.0,\"#0d0887\"],[0.1111111111111111,\"#46039f\"],[0.2222222222222222,\"#7201a8\"],[0.3333333333333333,\"#9c179e\"],[0.4444444444444444,\"#bd3786\"],[0.5555555555555556,\"#d8576b\"],[0.6666666666666666,\"#ed7953\"],[0.7777777777777778,\"#fb9f3a\"],[0.8888888888888888,\"#fdca26\"],[1.0,\"#f0f921\"]]},\"colorway\":[\"#636efa\",\"#EF553B\",\"#00cc96\",\"#ab63fa\",\"#FFA15A\",\"#19d3f3\",\"#FF6692\",\"#B6E880\",\"#FF97FF\",\"#FECB52\"],\"font\":{\"color\":\"#2a3f5f\"},\"geo\":{\"bgcolor\":\"white\",\"lakecolor\":\"white\",\"landcolor\":\"#E5ECF6\",\"showlakes\":true,\"showland\":true,\"subunitcolor\":\"white\"},\"hoverlabel\":{\"align\":\"left\"},\"hovermode\":\"closest\",\"mapbox\":{\"style\":\"light\"},\"paper_bgcolor\":\"white\",\"plot_bgcolor\":\"#E5ECF6\",\"polar\":{\"angularaxis\":{\"gridcolor\":\"white\",\"linecolor\":\"white\",\"ticks\":\"\"},\"bgcolor\":\"#E5ECF6\",\"radialaxis\":{\"gridcolor\":\"white\",\"linecolor\":\"white\",\"ticks\":\"\"}},\"scene\":{\"xaxis\":{\"backgroundcolor\":\"#E5ECF6\",\"gridcolor\":\"white\",\"gridwidth\":2,\"linecolor\":\"white\",\"showbackground\":true,\"ticks\":\"\",\"zerolinecolor\":\"white\"},\"yaxis\":{\"backgroundcolor\":\"#E5ECF6\",\"gridcolor\":\"white\",\"gridwidth\":2,\"linecolor\":\"white\",\"showbackground\":true,\"ticks\":\"\",\"zerolinecolor\":\"white\"},\"zaxis\":{\"backgroundcolor\":\"#E5ECF6\",\"gridcolor\":\"white\",\"gridwidth\":2,\"linecolor\":\"white\",\"showbackground\":true,\"ticks\":\"\",\"zerolinecolor\":\"white\"}},\"shapedefaults\":{\"line\":{\"color\":\"#2a3f5f\"}},\"ternary\":{\"aaxis\":{\"gridcolor\":\"white\",\"linecolor\":\"white\",\"ticks\":\"\"},\"baxis\":{\"gridcolor\":\"white\",\"linecolor\":\"white\",\"ticks\":\"\"},\"bgcolor\":\"#E5ECF6\",\"caxis\":{\"gridcolor\":\"white\",\"linecolor\":\"white\",\"ticks\":\"\"}},\"title\":{\"x\":0.05},\"xaxis\":{\"automargin\":true,\"gridcolor\":\"white\",\"linecolor\":\"white\",\"ticks\":\"\",\"title\":{\"standoff\":15},\"zerolinecolor\":\"white\",\"zerolinewidth\":2},\"yaxis\":{\"automargin\":true,\"gridcolor\":\"white\",\"linecolor\":\"white\",\"ticks\":\"\",\"title\":{\"standoff\":15},\"zerolinecolor\":\"white\",\"zerolinewidth\":2}}},\"xaxis\":{\"anchor\":\"y\",\"domain\":[0.0,1.0],\"title\":{\"text\":\"Shots Per Avg Match_per season\"}},\"yaxis\":{\"anchor\":\"x\",\"domain\":[0.0,1.0],\"title\":{\"text\":\"On Target Shots/ Shots\"}},\"legend\":{\"tracegroupgap\":0},\"title\":{\"text\":\"Relations between Accuracy and Shots\"}},                        {\"responsive\": true}                    ).then(function(){\n",
       "                            \n",
       "var gd = document.getElementById('d1c7f9aa-a181-45e9-9eff-f0e3ffeede3f');\n",
       "var x = new MutationObserver(function (mutations, observer) {{\n",
       "        var display = window.getComputedStyle(gd).display;\n",
       "        if (!display || display === 'none') {{\n",
       "            console.log([gd, 'removed!']);\n",
       "            Plotly.purge(gd);\n",
       "            observer.disconnect();\n",
       "        }}\n",
       "}});\n",
       "\n",
       "// Listen for the removal of the full notebook cells\n",
       "var notebookContainer = gd.closest('#notebook-container');\n",
       "if (notebookContainer) {{\n",
       "    x.observe(notebookContainer, {childList: true});\n",
       "}}\n",
       "\n",
       "// Listen for the clearing of the current output cell\n",
       "var outputEl = gd.closest('.output');\n",
       "if (outputEl) {{\n",
       "    x.observe(outputEl, {childList: true});\n",
       "}}\n",
       "\n",
       "                        })                };                });            </script>        </div>"
      ]
     },
     "metadata": {},
     "output_type": "display_data"
    }
   ],
   "source": [
    "fag = pl.scatter(finale, x = 'Shots Per Avg Match_per season', y = 'On Target Shots/ Shots', trendline = 'ols', title = 'Relations between Accuracy and Shots')\n",
    "\n",
    "\n",
    "fag.show()"
   ]
  },
  {
   "cell_type": "markdown",
   "id": "320f6e7c",
   "metadata": {},
   "source": [
    "###### Этот скаттерплот, показывает зависимость точности ударов от количества нанесенных ударов. Как видно, чем больше ударов наносится, тем меньше точность. Поэтому, видимо, не стоит бить чаще в надежде, что сможешь с большей вероятностью поразить ворота."
   ]
  },
  {
   "cell_type": "code",
   "execution_count": 116,
   "id": "fd104764",
   "metadata": {},
   "outputs": [
    {
     "data": {
      "application/vnd.plotly.v1+json": {
       "config": {
        "plotlyServerURL": "https://plot.ly"
       },
       "data": [
        {
         "hovertemplate": "Shots Per Avg Match_per season=%{x}<br>xG Per Avg Match_per season=%{y}<extra></extra>",
         "legendgroup": "",
         "marker": {
          "color": "#636efa",
          "symbol": "circle"
         },
         "mode": "markers",
         "name": "",
         "orientation": "v",
         "showlegend": false,
         "type": "scatter",
         "x": [
          2.73,
          2.01,
          2.19,
          3.26,
          3.14,
          3.78,
          2.57,
          2.65,
          2.41,
          1.36,
          3.05,
          2.88,
          3.8,
          3.62,
          2.66,
          2.74,
          3.15,
          3.74,
          2.85,
          1.03,
          2.08,
          3.73,
          3.22,
          2.92,
          2.67,
          3.72,
          3.56,
          1.87,
          3.34,
          3.81,
          2.15,
          2.83,
          2.95,
          1.82,
          2.72,
          2.73,
          3.12,
          2.8,
          3.3,
          4.19,
          3.78,
          2,
          2.86,
          1.99,
          2.4,
          2.94,
          1.69,
          2.05,
          1.82,
          2.93,
          2.63,
          2.81,
          3.08,
          1.82,
          2.63,
          3.36,
          3.22,
          4.22,
          2.4,
          3.48,
          2.88,
          1.65,
          0.85,
          3.87,
          2.95,
          2.19,
          2.16,
          2.85,
          2.54,
          1.84,
          3.05,
          1.27,
          1.65,
          5.07,
          3.25,
          1.85,
          2.91,
          3.22,
          2.61,
          2.65,
          3.92,
          2.09,
          2.83,
          2.36,
          3.02,
          1.77,
          3.84,
          3.04,
          2.92,
          2.32,
          2.52,
          2.84,
          3.32,
          6.28,
          3.24,
          2.57,
          2.44,
          2.16,
          1.24,
          2.26,
          3.56,
          2.94,
          2.15,
          2.62,
          2.12,
          2.26,
          2.52,
          2.84,
          3.41,
          1.81,
          2.85,
          2.55,
          3.26,
          2.84,
          3.5,
          2.5,
          2.24,
          2.91,
          3.58,
          3.45,
          3.03,
          2.07,
          4.35,
          3.51,
          4.08,
          2.58,
          2.63,
          3.35,
          2.6,
          3.01,
          4.54,
          2.83,
          1.2,
          2.3,
          0.8,
          1.92,
          2.38,
          3.53,
          0.81,
          3.41,
          3.22,
          1.96,
          2.49,
          3.71,
          3.31,
          1.51,
          2.13,
          1.93,
          1.72,
          2.82,
          2.94,
          2.58,
          2.89,
          2.51,
          3.46,
          3.62,
          2.18,
          2.62,
          1.38,
          3.91,
          3.65,
          2.87,
          2.03,
          1.78,
          2.36,
          3.04,
          3.02,
          2.62,
          2.66,
          1.91,
          3.68,
          2.42,
          1.93,
          2.5,
          4.52,
          2.28,
          2.47,
          2.2,
          3.36,
          3.38,
          1.65,
          3.59,
          3.05,
          3.32,
          3.45,
          1.72,
          2.5,
          4.04,
          3.01,
          2.61,
          2.4,
          4.14,
          2.94,
          2.26,
          3.18,
          1.8,
          4.25,
          3.65,
          3.16,
          2.83,
          1.76,
          2.04,
          0.99,
          2.37,
          2.47,
          2.64,
          3.29,
          2.64,
          2.68,
          3.11,
          2.67,
          3.11,
          2.42,
          2.28,
          2.12,
          1.64,
          1.96,
          2.22,
          1.92,
          2.49,
          1.81,
          3.99,
          2.76,
          2.2,
          4.18,
          2.64,
          2.52,
          2.47,
          1.69,
          3.52,
          2.79,
          2.45,
          3.42,
          3.12,
          2,
          3.26,
          3.27,
          2.48,
          2.99,
          3.15,
          2.72,
          3.05,
          2.86,
          2.45,
          2.28,
          3.24,
          2.22,
          3.56,
          5.01,
          2.56,
          3.38,
          4.2,
          4.6,
          1.97,
          2.95,
          1.59,
          2.47,
          3.12,
          2.8,
          5.39,
          3.43,
          2.22,
          4.9,
          3.39,
          2.72,
          3.05,
          1.82,
          3.11,
          2.21,
          1.9,
          1.82,
          2.75,
          6.27,
          4.05,
          1.62,
          2.56,
          3.92,
          1.48,
          2.96,
          4.26,
          1.39,
          2.35,
          3.04,
          2.78,
          3.19,
          2.32,
          3.8,
          2.71,
          2.25,
          2.42,
          1.78,
          2.88,
          2.97,
          3.22,
          3.31,
          2.2,
          2.48,
          2.52,
          2.77,
          2.13,
          3.66,
          2.39,
          3.33,
          2,
          3.01,
          2.47,
          2.26,
          3.72,
          2.93,
          1.93,
          3.75,
          2.92,
          3.12,
          2.23,
          2.34,
          2.72,
          2.47,
          3.02,
          2.15,
          2.2,
          3.97,
          3.76,
          1.91,
          2.03,
          3.17,
          3.23,
          2.64,
          3.08,
          1.68,
          2.83,
          2.4,
          1.93,
          3.11,
          5.59,
          2.17,
          2.48,
          2.98,
          3.51,
          4.23,
          3.09,
          3.45,
          4.5,
          3.38,
          2.49,
          2.28,
          4.37,
          3.3,
          2.65,
          1.16,
          3.16,
          2.89,
          3.51,
          2.75,
          2.91,
          2.34,
          2.81,
          2.54,
          3.1,
          3.64,
          3.69,
          2.73,
          2.67,
          3.21,
          2.73,
          2.79,
          2.6,
          3.28,
          2.86,
          4.84,
          3.06,
          2.32,
          2.01,
          2.48,
          2.08,
          2.6,
          3.16,
          2.56,
          1.73,
          2.88,
          3.69,
          3.75,
          3.06,
          3.2,
          2.68,
          3.91,
          2.28,
          2.66,
          2.09,
          2.57,
          2.28,
          3.78,
          3.14,
          2.51,
          2.97,
          2.76,
          2.2,
          2.22,
          2.11,
          3.17,
          2.87,
          2.09,
          4.79,
          2.98,
          2.52,
          1.2,
          3.21,
          2.97,
          3,
          3.45,
          3.97,
          3.51,
          2.46,
          1.42,
          2.88,
          4.07,
          3.19,
          1.5,
          2.7,
          3.4,
          2.8,
          3.04,
          2.55,
          2.42,
          2.8,
          2.47,
          3.36,
          3.59,
          2.6,
          2.29,
          2.98,
          2.3,
          2.2,
          2.91,
          2.95,
          2.6,
          3.24,
          2.49,
          2.7,
          2.29,
          2.24,
          2.86,
          2.42,
          5.08,
          3.34
         ],
         "xaxis": "x",
         "y": [
          0.22,
          0.52,
          0.23,
          0.61,
          0.45,
          0.34,
          0.3,
          0.67,
          0.35,
          0.28,
          0.8,
          0.41,
          0.28,
          0.54,
          0.63,
          0.35,
          0.37,
          0.91,
          0.48,
          0.25,
          0.25,
          0.74,
          0.46,
          0.39,
          0.37,
          0.63,
          0.56,
          0.32,
          0.42,
          0.41,
          0.2,
          0.45,
          0.38,
          0.4,
          0.42,
          0.4,
          0.61,
          0.47,
          0.27,
          0.25,
          0.47,
          0.42,
          0.26,
          0.18,
          0.49,
          0.58,
          0.24,
          0.45,
          0.42,
          0.33,
          0.48,
          0.27,
          0.65,
          0.18,
          0.47,
          0.28,
          0.67,
          0.5,
          0.32,
          0.48,
          0.59,
          0.42,
          0.16,
          0.35,
          0.48,
          0.39,
          0.62,
          0.45,
          0.56,
          0.41,
          0.43,
          0.53,
          0.17,
          0.77,
          0.61,
          0.33,
          0.47,
          0.71,
          0.58,
          0.29,
          0.34,
          0.33,
          0.55,
          0.62,
          0.53,
          0.28,
          0.62,
          0.24,
          0.48,
          0.27,
          0.62,
          0.27,
          0.29,
          0.97,
          0.56,
          0.34,
          0.31,
          0.26,
          0.09,
          0.16,
          0.81,
          0.53,
          0.37,
          0.38,
          0.24,
          0.39,
          0.78,
          0.45,
          0.41,
          0.23,
          0.53,
          0.36,
          0.49,
          0.33,
          0.48,
          0.39,
          0.27,
          0.27,
          0.45,
          0.32,
          0.63,
          0.23,
          0.74,
          0.36,
          0.51,
          0.32,
          0.52,
          0.55,
          0.34,
          0.7,
          0.62,
          0.91,
          0.23,
          0.42,
          0.25,
          0.23,
          0.41,
          0.8,
          0.46,
          0.39,
          0.45,
          0.41,
          0.33,
          0.57,
          0.5,
          0.19,
          0.31,
          0.31,
          0.26,
          0.42,
          0.36,
          0.48,
          0.32,
          0.55,
          0.72,
          0.66,
          0.5,
          0.26,
          0.18,
          0.65,
          0.75,
          0.5,
          0.55,
          0.28,
          0.56,
          0.47,
          0.5,
          0.38,
          0.41,
          0.41,
          0.46,
          0.53,
          0.35,
          0.42,
          0.38,
          0.55,
          0.32,
          0.33,
          0.37,
          0.94,
          0.26,
          0.59,
          0.62,
          0.46,
          0.67,
          0.16,
          0.57,
          0.41,
          0.49,
          0.51,
          0.29,
          0.68,
          0.7,
          0.41,
          0.41,
          0.22,
          0.49,
          0.6,
          0.25,
          0.31,
          0.32,
          0.43,
          0.07,
          0.62,
          0.33,
          0.44,
          0.61,
          0.29,
          0.42,
          0.42,
          0.56,
          0.57,
          0.39,
          0.24,
          0.18,
          0.36,
          0.38,
          0.43,
          0.38,
          0.33,
          0.29,
          0.78,
          0.42,
          0.38,
          0.43,
          0.45,
          0.22,
          0.34,
          0.25,
          0.49,
          0.42,
          0.35,
          0.61,
          0.68,
          0.37,
          0.61,
          0.36,
          0.33,
          0.39,
          0.23,
          0.58,
          0.48,
          0.42,
          0.42,
          0.34,
          0.7,
          0.37,
          0.52,
          1.1,
          0.45,
          0.79,
          0.34,
          0.53,
          0.39,
          0.37,
          0.31,
          0.54,
          0.31,
          0.36,
          0.8,
          0.36,
          0.39,
          0.4,
          0.52,
          0.43,
          0.29,
          0.52,
          0.36,
          0.36,
          0.32,
          0.18,
          0.23,
          0.93,
          0.76,
          0.48,
          0.32,
          0.57,
          0.29,
          0.36,
          0.57,
          0.29,
          0.43,
          0.55,
          0.52,
          0.67,
          0.42,
          0.35,
          0.59,
          0.41,
          0.4,
          0.33,
          0.38,
          0.68,
          0.49,
          0.4,
          0.44,
          0.46,
          0.29,
          0.63,
          0.28,
          0.45,
          0.28,
          0.39,
          0.36,
          0.37,
          0.44,
          0.28,
          0.58,
          0.67,
          0.35,
          0.66,
          0.73,
          0.56,
          0.28,
          0.4,
          0.6,
          0.34,
          0.79,
          0.63,
          0.28,
          0.78,
          0.72,
          0.21,
          0.3,
          0.54,
          0.54,
          0.44,
          0.52,
          0.26,
          0.5,
          0.7,
          0.21,
          0.33,
          0.37,
          0.32,
          0.39,
          0.69,
          0.47,
          0.77,
          0.47,
          0.58,
          0.45,
          0.66,
          0.24,
          0.41,
          0.38,
          0.79,
          0.5,
          0.27,
          0.45,
          0.41,
          0.53,
          0.47,
          0.57,
          0.5,
          0.35,
          0.4,
          0.44,
          0.56,
          0.52,
          0.27,
          0.44,
          0.31,
          0.46,
          0.4,
          0.31,
          0.32,
          0.46,
          1.04,
          0.32,
          0.34,
          0.27,
          0.42,
          0.34,
          0.42,
          0.53,
          0.4,
          0.27,
          0.56,
          0.54,
          0.31,
          0.33,
          0.75,
          0.4,
          0.47,
          0.52,
          0.47,
          0.39,
          0.35,
          0.35,
          0.29,
          0.57,
          0.55,
          0.43,
          0.75,
          0.46,
          0.5,
          0.4,
          0.36,
          0.21,
          0.27,
          0.84,
          0.51,
          0.31,
          0.34,
          0.53,
          0.35,
          0.31,
          0.42,
          0.75,
          0.77,
          0.35,
          0.38,
          0.6,
          0.42,
          0.44,
          0.37,
          0.4,
          0.53,
          0.48,
          0.43,
          0.25,
          0.16,
          0.41,
          0.44,
          0.58,
          0.37,
          0.33,
          0.43,
          0.34,
          0.43,
          0.53,
          0.45,
          0.46,
          0.47,
          0.62,
          0.5,
          0.59,
          0.33,
          0.29,
          0.68,
          0.4,
          0.88,
          0.45
         ],
         "yaxis": "y"
        },
        {
         "hovertemplate": "<b>OLS trendline</b><br>xG Per Avg Match_per season = 0.114317 * Shots Per Avg Match_per season + 0.124449<br>R<sup>2</sup>=0.309311<br><br>Shots Per Avg Match_per season=%{x}<br>xG Per Avg Match_per season=%{y} <b>(trend)</b><extra></extra>",
         "legendgroup": "",
         "marker": {
          "color": "#636efa",
          "symbol": "circle"
         },
         "mode": "lines",
         "name": "",
         "showlegend": false,
         "type": "scatter",
         "x": [
          0.8,
          0.81,
          0.85,
          0.99,
          1.03,
          1.16,
          1.2,
          1.2,
          1.24,
          1.27,
          1.36,
          1.38,
          1.39,
          1.42,
          1.48,
          1.5,
          1.51,
          1.59,
          1.62,
          1.64,
          1.65,
          1.65,
          1.65,
          1.68,
          1.69,
          1.69,
          1.72,
          1.72,
          1.73,
          1.76,
          1.77,
          1.78,
          1.78,
          1.8,
          1.81,
          1.81,
          1.82,
          1.82,
          1.82,
          1.82,
          1.82,
          1.84,
          1.85,
          1.87,
          1.9,
          1.91,
          1.91,
          1.92,
          1.92,
          1.93,
          1.93,
          1.93,
          1.93,
          1.96,
          1.96,
          1.97,
          1.99,
          2,
          2,
          2,
          2.01,
          2.01,
          2.03,
          2.03,
          2.04,
          2.05,
          2.07,
          2.08,
          2.08,
          2.09,
          2.09,
          2.09,
          2.11,
          2.12,
          2.12,
          2.13,
          2.13,
          2.15,
          2.15,
          2.15,
          2.16,
          2.16,
          2.17,
          2.18,
          2.19,
          2.19,
          2.2,
          2.2,
          2.2,
          2.2,
          2.2,
          2.2,
          2.21,
          2.22,
          2.22,
          2.22,
          2.22,
          2.23,
          2.24,
          2.24,
          2.25,
          2.26,
          2.26,
          2.26,
          2.26,
          2.28,
          2.28,
          2.28,
          2.28,
          2.28,
          2.28,
          2.29,
          2.29,
          2.3,
          2.3,
          2.32,
          2.32,
          2.32,
          2.34,
          2.34,
          2.35,
          2.36,
          2.36,
          2.37,
          2.38,
          2.39,
          2.4,
          2.4,
          2.4,
          2.4,
          2.41,
          2.42,
          2.42,
          2.42,
          2.42,
          2.42,
          2.44,
          2.45,
          2.45,
          2.46,
          2.47,
          2.47,
          2.47,
          2.47,
          2.47,
          2.47,
          2.47,
          2.48,
          2.48,
          2.48,
          2.48,
          2.49,
          2.49,
          2.49,
          2.49,
          2.5,
          2.5,
          2.5,
          2.51,
          2.51,
          2.52,
          2.52,
          2.52,
          2.52,
          2.52,
          2.54,
          2.54,
          2.55,
          2.55,
          2.56,
          2.56,
          2.56,
          2.57,
          2.57,
          2.57,
          2.58,
          2.58,
          2.6,
          2.6,
          2.6,
          2.6,
          2.6,
          2.61,
          2.61,
          2.62,
          2.62,
          2.62,
          2.63,
          2.63,
          2.63,
          2.64,
          2.64,
          2.64,
          2.64,
          2.65,
          2.65,
          2.65,
          2.66,
          2.66,
          2.66,
          2.67,
          2.67,
          2.67,
          2.68,
          2.68,
          2.7,
          2.7,
          2.71,
          2.72,
          2.72,
          2.72,
          2.72,
          2.73,
          2.73,
          2.73,
          2.73,
          2.74,
          2.75,
          2.75,
          2.76,
          2.76,
          2.77,
          2.78,
          2.79,
          2.79,
          2.8,
          2.8,
          2.8,
          2.8,
          2.81,
          2.81,
          2.82,
          2.83,
          2.83,
          2.83,
          2.83,
          2.83,
          2.84,
          2.84,
          2.84,
          2.85,
          2.85,
          2.85,
          2.86,
          2.86,
          2.86,
          2.86,
          2.87,
          2.87,
          2.88,
          2.88,
          2.88,
          2.88,
          2.88,
          2.89,
          2.89,
          2.91,
          2.91,
          2.91,
          2.91,
          2.92,
          2.92,
          2.92,
          2.93,
          2.93,
          2.94,
          2.94,
          2.94,
          2.94,
          2.95,
          2.95,
          2.95,
          2.95,
          2.96,
          2.97,
          2.97,
          2.97,
          2.98,
          2.98,
          2.98,
          2.99,
          3,
          3.01,
          3.01,
          3.01,
          3.02,
          3.02,
          3.02,
          3.03,
          3.04,
          3.04,
          3.04,
          3.04,
          3.05,
          3.05,
          3.05,
          3.05,
          3.05,
          3.06,
          3.06,
          3.08,
          3.08,
          3.09,
          3.1,
          3.11,
          3.11,
          3.11,
          3.11,
          3.12,
          3.12,
          3.12,
          3.12,
          3.14,
          3.14,
          3.15,
          3.15,
          3.16,
          3.16,
          3.16,
          3.17,
          3.17,
          3.18,
          3.19,
          3.19,
          3.2,
          3.21,
          3.21,
          3.22,
          3.22,
          3.22,
          3.22,
          3.22,
          3.23,
          3.24,
          3.24,
          3.24,
          3.25,
          3.26,
          3.26,
          3.26,
          3.27,
          3.28,
          3.29,
          3.3,
          3.3,
          3.31,
          3.31,
          3.32,
          3.32,
          3.33,
          3.34,
          3.34,
          3.35,
          3.36,
          3.36,
          3.36,
          3.38,
          3.38,
          3.38,
          3.39,
          3.4,
          3.41,
          3.41,
          3.42,
          3.43,
          3.45,
          3.45,
          3.45,
          3.45,
          3.46,
          3.48,
          3.5,
          3.51,
          3.51,
          3.51,
          3.51,
          3.52,
          3.53,
          3.56,
          3.56,
          3.56,
          3.58,
          3.59,
          3.59,
          3.62,
          3.62,
          3.64,
          3.65,
          3.65,
          3.66,
          3.68,
          3.69,
          3.69,
          3.71,
          3.72,
          3.72,
          3.73,
          3.74,
          3.75,
          3.75,
          3.76,
          3.78,
          3.78,
          3.78,
          3.8,
          3.8,
          3.81,
          3.84,
          3.87,
          3.91,
          3.91,
          3.92,
          3.92,
          3.97,
          3.97,
          3.99,
          4.04,
          4.05,
          4.07,
          4.08,
          4.14,
          4.18,
          4.19,
          4.2,
          4.22,
          4.23,
          4.25,
          4.26,
          4.35,
          4.37,
          4.5,
          4.52,
          4.54,
          4.6,
          4.79,
          4.84,
          4.9,
          5.01,
          5.07,
          5.08,
          5.39,
          5.59,
          6.27,
          6.28
         ],
         "xaxis": "x",
         "y": [
          0.21590253355054778,
          0.21704570577355647,
          0.22161839466559136,
          0.2376228057877135,
          0.24219549467974838,
          0.2570567335788618,
          0.26162942247089666,
          0.26162942247089666,
          0.26620211136293154,
          0.2696316280319577,
          0.27992017803903624,
          0.2822065224850536,
          0.28334969470806237,
          0.2867792113770885,
          0.2936382447151409,
          0.2959245891611583,
          0.297067761384167,
          0.30621313916823684,
          0.30964265583726297,
          0.3119290002832804,
          0.31307217250628916,
          0.31307217250628916,
          0.31307217250628916,
          0.3165016891753153,
          0.31764486139832404,
          0.31764486139832404,
          0.3210743780673502,
          0.3210743780673502,
          0.3222175502903589,
          0.3256470669593851,
          0.3267902391823938,
          0.32793341140540255,
          0.32793341140540255,
          0.33021975585142,
          0.3313629280744287,
          0.3313629280744287,
          0.33250610029743743,
          0.33250610029743743,
          0.33250610029743743,
          0.33250610029743743,
          0.33250610029743743,
          0.3347924447434549,
          0.33593561696646357,
          0.33822196141248106,
          0.3416514780815072,
          0.3427946503045159,
          0.3427946503045159,
          0.34393782252752464,
          0.34393782252752464,
          0.34508099475053333,
          0.34508099475053333,
          0.34508099475053333,
          0.34508099475053333,
          0.3485105114195595,
          0.3485105114195595,
          0.34965368364256827,
          0.3519400280885857,
          0.3530832003115944,
          0.3530832003115944,
          0.3530832003115944,
          0.3542263725346031,
          0.3542263725346031,
          0.35651271698062054,
          0.35651271698062054,
          0.3576558892036293,
          0.35879906142663803,
          0.3610854058726555,
          0.3622285780956642,
          0.3622285780956642,
          0.3633717503186729,
          0.3633717503186729,
          0.3633717503186729,
          0.36565809476469036,
          0.3668012669876991,
          0.3668012669876991,
          0.3679444392107078,
          0.3679444392107078,
          0.37023078365672524,
          0.37023078365672524,
          0.37023078365672524,
          0.371373955879734,
          0.371373955879734,
          0.3725171281027427,
          0.3736603003257514,
          0.3748034725487601,
          0.3748034725487601,
          0.37594664477176887,
          0.37594664477176887,
          0.37594664477176887,
          0.37594664477176887,
          0.37594664477176887,
          0.37594664477176887,
          0.37708981699477756,
          0.3782329892177863,
          0.3782329892177863,
          0.3782329892177863,
          0.3782329892177863,
          0.379376161440795,
          0.38051933366380375,
          0.38051933366380375,
          0.38166250588681244,
          0.38280567810982113,
          0.38280567810982113,
          0.38280567810982113,
          0.38280567810982113,
          0.3850920225558386,
          0.3850920225558386,
          0.3850920225558386,
          0.3850920225558386,
          0.3850920225558386,
          0.3850920225558386,
          0.3862351947788473,
          0.3862351947788473,
          0.38737836700185607,
          0.38737836700185607,
          0.3896647114478735,
          0.3896647114478735,
          0.3896647114478735,
          0.39195105589389095,
          0.39195105589389095,
          0.3930942281168997,
          0.3942374003399084,
          0.3942374003399084,
          0.39538057256291714,
          0.39652374478592584,
          0.3976669170089346,
          0.3988100892319433,
          0.3988100892319433,
          0.3988100892319433,
          0.3988100892319433,
          0.399953261454952,
          0.4010964336779607,
          0.4010964336779607,
          0.4010964336779607,
          0.4010964336779607,
          0.4010964336779607,
          0.40338277812397816,
          0.4045259503469869,
          0.4045259503469869,
          0.4056691225699956,
          0.40681229479300435,
          0.40681229479300435,
          0.40681229479300435,
          0.40681229479300435,
          0.40681229479300435,
          0.40681229479300435,
          0.40681229479300435,
          0.40795546701601304,
          0.40795546701601304,
          0.40795546701601304,
          0.40795546701601304,
          0.4090986392390218,
          0.4090986392390218,
          0.4090986392390218,
          0.4090986392390218,
          0.4102418114620305,
          0.4102418114620305,
          0.4102418114620305,
          0.41138498368503923,
          0.41138498368503923,
          0.412528155908048,
          0.412528155908048,
          0.412528155908048,
          0.412528155908048,
          0.412528155908048,
          0.4148145003540654,
          0.4148145003540654,
          0.4159576725770741,
          0.4159576725770741,
          0.41710084480008286,
          0.41710084480008286,
          0.41710084480008286,
          0.41824401702309155,
          0.41824401702309155,
          0.41824401702309155,
          0.4193871892461003,
          0.4193871892461003,
          0.42167353369211774,
          0.42167353369211774,
          0.42167353369211774,
          0.42167353369211774,
          0.42167353369211774,
          0.42281670591512643,
          0.42281670591512643,
          0.4239598781381352,
          0.4239598781381352,
          0.4239598781381352,
          0.4251030503611439,
          0.4251030503611439,
          0.4251030503611439,
          0.4262462225841526,
          0.4262462225841526,
          0.4262462225841526,
          0.4262462225841526,
          0.4273893948071613,
          0.4273893948071613,
          0.4273893948071613,
          0.42853256703017006,
          0.42853256703017006,
          0.42853256703017006,
          0.42967573925317876,
          0.42967573925317876,
          0.42967573925317876,
          0.4308189114761875,
          0.4308189114761875,
          0.43310525592220495,
          0.43310525592220495,
          0.4342484281452137,
          0.43539160036822244,
          0.43539160036822244,
          0.43539160036822244,
          0.43539160036822244,
          0.43653477259123113,
          0.43653477259123113,
          0.43653477259123113,
          0.43653477259123113,
          0.4376779448142399,
          0.4388211170372486,
          0.4388211170372486,
          0.43996428926025727,
          0.43996428926025727,
          0.441107461483266,
          0.4422506337062747,
          0.44339380592928346,
          0.44339380592928346,
          0.44453697815229215,
          0.44453697815229215,
          0.44453697815229215,
          0.44453697815229215,
          0.4456801503753009,
          0.4456801503753009,
          0.4468233225983096,
          0.44796649482131834,
          0.44796649482131834,
          0.44796649482131834,
          0.44796649482131834,
          0.44796649482131834,
          0.44910966704432703,
          0.44910966704432703,
          0.44910966704432703,
          0.4502528392673358,
          0.4502528392673358,
          0.4502528392673358,
          0.4513960114903445,
          0.4513960114903445,
          0.4513960114903445,
          0.4513960114903445,
          0.4525391837133532,
          0.4525391837133532,
          0.4536823559363619,
          0.4536823559363619,
          0.4536823559363619,
          0.4536823559363619,
          0.4536823559363619,
          0.45482552815937066,
          0.45482552815937066,
          0.45711187260538816,
          0.45711187260538816,
          0.45711187260538816,
          0.45711187260538816,
          0.45825504482839685,
          0.45825504482839685,
          0.45825504482839685,
          0.4593982170514056,
          0.4593982170514056,
          0.4605413892744143,
          0.4605413892744143,
          0.4605413892744143,
          0.4605413892744143,
          0.46168456149742304,
          0.46168456149742304,
          0.46168456149742304,
          0.46168456149742304,
          0.46282773372043173,
          0.4639709059434405,
          0.4639709059434405,
          0.4639709059434405,
          0.4651140781664492,
          0.4651140781664492,
          0.4651140781664492,
          0.4662572503894579,
          0.4674004226124666,
          0.4685435948354753,
          0.4685435948354753,
          0.4685435948354753,
          0.46968676705848406,
          0.46968676705848406,
          0.46968676705848406,
          0.47082993928149275,
          0.4719731115045015,
          0.4719731115045015,
          0.4719731115045015,
          0.4719731115045015,
          0.4731162837275102,
          0.4731162837275102,
          0.4731162837275102,
          0.4731162837275102,
          0.4731162837275102,
          0.47425945595051894,
          0.47425945595051894,
          0.4765458003965364,
          0.4765458003965364,
          0.47768897261954507,
          0.4788321448425538,
          0.47997531706556257,
          0.47997531706556257,
          0.47997531706556257,
          0.47997531706556257,
          0.4811184892885713,
          0.4811184892885713,
          0.4811184892885713,
          0.4811184892885713,
          0.48340483373458876,
          0.48340483373458876,
          0.48454800595759745,
          0.48454800595759745,
          0.4856911781806062,
          0.4856911781806062,
          0.4856911781806062,
          0.4868343504036149,
          0.4868343504036149,
          0.48797752262662364,
          0.48912069484963233,
          0.48912069484963233,
          0.4902638670726411,
          0.4914070392956498,
          0.4914070392956498,
          0.4925502115186585,
          0.4925502115186585,
          0.4925502115186585,
          0.4925502115186585,
          0.4925502115186585,
          0.4936933837416672,
          0.49483655596467596,
          0.49483655596467596,
          0.49483655596467596,
          0.49597972818768465,
          0.49712290041069335,
          0.49712290041069335,
          0.49712290041069335,
          0.4982660726337021,
          0.4994092448567108,
          0.5005524170797195,
          0.5016955893027283,
          0.5016955893027283,
          0.502838761525737,
          0.502838761525737,
          0.5039819337487458,
          0.5039819337487458,
          0.5051251059717545,
          0.5062682781947632,
          0.5062682781947632,
          0.5074114504177719,
          0.5085546226407807,
          0.5085546226407807,
          0.5085546226407807,
          0.510840967086798,
          0.510840967086798,
          0.510840967086798,
          0.5119841393098068,
          0.5131273115328155,
          0.5142704837558243,
          0.5142704837558243,
          0.5154136559788329,
          0.5165568282018417,
          0.5188431726478592,
          0.5188431726478592,
          0.5188431726478592,
          0.5188431726478592,
          0.5199863448708678,
          0.5222726893168853,
          0.5245590337629028,
          0.5257022059859114,
          0.5257022059859114,
          0.5257022059859114,
          0.5257022059859114,
          0.5268453782089202,
          0.5279885504319289,
          0.5314180671009551,
          0.5314180671009551,
          0.5314180671009551,
          0.5337044115469726,
          0.5348475837699812,
          0.5348475837699812,
          0.5382771004390074,
          0.5382771004390074,
          0.5405634448850248,
          0.5417066171080336,
          0.5417066171080336,
          0.5428497893310423,
          0.5451361337770597,
          0.5462793060000685,
          0.5462793060000685,
          0.548565650446086,
          0.5497088226690947,
          0.5497088226690947,
          0.5508519948921033,
          0.5519951671151121,
          0.5531383393381208,
          0.5531383393381208,
          0.5542815115611295,
          0.556567856007147,
          0.556567856007147,
          0.556567856007147,
          0.5588542004531644,
          0.5588542004531644,
          0.5599973726761731,
          0.5634268893451992,
          0.5668564060142255,
          0.5714290949062604,
          0.5714290949062604,
          0.5725722671292691,
          0.5725722671292691,
          0.5782881282443127,
          0.5782881282443127,
          0.5805744726903301,
          0.5862903338053738,
          0.5874335060283824,
          0.5897198504743999,
          0.5908630226974086,
          0.5977220560354609,
          0.6022947449274958,
          0.6034379171505047,
          0.6045810893735133,
          0.6068674338195307,
          0.6080106060425395,
          0.6102969504885569,
          0.6114401227115656,
          0.6217286727186441,
          0.6240150171646616,
          0.638876256063775,
          0.6411626005097923,
          0.6434489449558098,
          0.6503079782938622,
          0.6720282505310279,
          0.6777441116460715,
          0.6846031449841239,
          0.6971780394372198,
          0.7040370727752722,
          0.7051802449982809,
          0.7406185839115512,
          0.7634820283717256,
          0.8412177395363187,
          0.8423609117593276
         ],
         "yaxis": "y"
        }
       ],
       "layout": {
        "legend": {
         "tracegroupgap": 0
        },
        "margin": {
         "t": 60
        },
        "template": {
         "data": {
          "bar": [
           {
            "error_x": {
             "color": "#2a3f5f"
            },
            "error_y": {
             "color": "#2a3f5f"
            },
            "marker": {
             "line": {
              "color": "#E5ECF6",
              "width": 0.5
             },
             "pattern": {
              "fillmode": "overlay",
              "size": 10,
              "solidity": 0.2
             }
            },
            "type": "bar"
           }
          ],
          "barpolar": [
           {
            "marker": {
             "line": {
              "color": "#E5ECF6",
              "width": 0.5
             },
             "pattern": {
              "fillmode": "overlay",
              "size": 10,
              "solidity": 0.2
             }
            },
            "type": "barpolar"
           }
          ],
          "carpet": [
           {
            "aaxis": {
             "endlinecolor": "#2a3f5f",
             "gridcolor": "white",
             "linecolor": "white",
             "minorgridcolor": "white",
             "startlinecolor": "#2a3f5f"
            },
            "baxis": {
             "endlinecolor": "#2a3f5f",
             "gridcolor": "white",
             "linecolor": "white",
             "minorgridcolor": "white",
             "startlinecolor": "#2a3f5f"
            },
            "type": "carpet"
           }
          ],
          "choropleth": [
           {
            "colorbar": {
             "outlinewidth": 0,
             "ticks": ""
            },
            "type": "choropleth"
           }
          ],
          "contour": [
           {
            "colorbar": {
             "outlinewidth": 0,
             "ticks": ""
            },
            "colorscale": [
             [
              0,
              "#0d0887"
             ],
             [
              0.1111111111111111,
              "#46039f"
             ],
             [
              0.2222222222222222,
              "#7201a8"
             ],
             [
              0.3333333333333333,
              "#9c179e"
             ],
             [
              0.4444444444444444,
              "#bd3786"
             ],
             [
              0.5555555555555556,
              "#d8576b"
             ],
             [
              0.6666666666666666,
              "#ed7953"
             ],
             [
              0.7777777777777778,
              "#fb9f3a"
             ],
             [
              0.8888888888888888,
              "#fdca26"
             ],
             [
              1,
              "#f0f921"
             ]
            ],
            "type": "contour"
           }
          ],
          "contourcarpet": [
           {
            "colorbar": {
             "outlinewidth": 0,
             "ticks": ""
            },
            "type": "contourcarpet"
           }
          ],
          "heatmap": [
           {
            "colorbar": {
             "outlinewidth": 0,
             "ticks": ""
            },
            "colorscale": [
             [
              0,
              "#0d0887"
             ],
             [
              0.1111111111111111,
              "#46039f"
             ],
             [
              0.2222222222222222,
              "#7201a8"
             ],
             [
              0.3333333333333333,
              "#9c179e"
             ],
             [
              0.4444444444444444,
              "#bd3786"
             ],
             [
              0.5555555555555556,
              "#d8576b"
             ],
             [
              0.6666666666666666,
              "#ed7953"
             ],
             [
              0.7777777777777778,
              "#fb9f3a"
             ],
             [
              0.8888888888888888,
              "#fdca26"
             ],
             [
              1,
              "#f0f921"
             ]
            ],
            "type": "heatmap"
           }
          ],
          "heatmapgl": [
           {
            "colorbar": {
             "outlinewidth": 0,
             "ticks": ""
            },
            "colorscale": [
             [
              0,
              "#0d0887"
             ],
             [
              0.1111111111111111,
              "#46039f"
             ],
             [
              0.2222222222222222,
              "#7201a8"
             ],
             [
              0.3333333333333333,
              "#9c179e"
             ],
             [
              0.4444444444444444,
              "#bd3786"
             ],
             [
              0.5555555555555556,
              "#d8576b"
             ],
             [
              0.6666666666666666,
              "#ed7953"
             ],
             [
              0.7777777777777778,
              "#fb9f3a"
             ],
             [
              0.8888888888888888,
              "#fdca26"
             ],
             [
              1,
              "#f0f921"
             ]
            ],
            "type": "heatmapgl"
           }
          ],
          "histogram": [
           {
            "marker": {
             "pattern": {
              "fillmode": "overlay",
              "size": 10,
              "solidity": 0.2
             }
            },
            "type": "histogram"
           }
          ],
          "histogram2d": [
           {
            "colorbar": {
             "outlinewidth": 0,
             "ticks": ""
            },
            "colorscale": [
             [
              0,
              "#0d0887"
             ],
             [
              0.1111111111111111,
              "#46039f"
             ],
             [
              0.2222222222222222,
              "#7201a8"
             ],
             [
              0.3333333333333333,
              "#9c179e"
             ],
             [
              0.4444444444444444,
              "#bd3786"
             ],
             [
              0.5555555555555556,
              "#d8576b"
             ],
             [
              0.6666666666666666,
              "#ed7953"
             ],
             [
              0.7777777777777778,
              "#fb9f3a"
             ],
             [
              0.8888888888888888,
              "#fdca26"
             ],
             [
              1,
              "#f0f921"
             ]
            ],
            "type": "histogram2d"
           }
          ],
          "histogram2dcontour": [
           {
            "colorbar": {
             "outlinewidth": 0,
             "ticks": ""
            },
            "colorscale": [
             [
              0,
              "#0d0887"
             ],
             [
              0.1111111111111111,
              "#46039f"
             ],
             [
              0.2222222222222222,
              "#7201a8"
             ],
             [
              0.3333333333333333,
              "#9c179e"
             ],
             [
              0.4444444444444444,
              "#bd3786"
             ],
             [
              0.5555555555555556,
              "#d8576b"
             ],
             [
              0.6666666666666666,
              "#ed7953"
             ],
             [
              0.7777777777777778,
              "#fb9f3a"
             ],
             [
              0.8888888888888888,
              "#fdca26"
             ],
             [
              1,
              "#f0f921"
             ]
            ],
            "type": "histogram2dcontour"
           }
          ],
          "mesh3d": [
           {
            "colorbar": {
             "outlinewidth": 0,
             "ticks": ""
            },
            "type": "mesh3d"
           }
          ],
          "parcoords": [
           {
            "line": {
             "colorbar": {
              "outlinewidth": 0,
              "ticks": ""
             }
            },
            "type": "parcoords"
           }
          ],
          "pie": [
           {
            "automargin": true,
            "type": "pie"
           }
          ],
          "scatter": [
           {
            "marker": {
             "colorbar": {
              "outlinewidth": 0,
              "ticks": ""
             }
            },
            "type": "scatter"
           }
          ],
          "scatter3d": [
           {
            "line": {
             "colorbar": {
              "outlinewidth": 0,
              "ticks": ""
             }
            },
            "marker": {
             "colorbar": {
              "outlinewidth": 0,
              "ticks": ""
             }
            },
            "type": "scatter3d"
           }
          ],
          "scattercarpet": [
           {
            "marker": {
             "colorbar": {
              "outlinewidth": 0,
              "ticks": ""
             }
            },
            "type": "scattercarpet"
           }
          ],
          "scattergeo": [
           {
            "marker": {
             "colorbar": {
              "outlinewidth": 0,
              "ticks": ""
             }
            },
            "type": "scattergeo"
           }
          ],
          "scattergl": [
           {
            "marker": {
             "colorbar": {
              "outlinewidth": 0,
              "ticks": ""
             }
            },
            "type": "scattergl"
           }
          ],
          "scattermapbox": [
           {
            "marker": {
             "colorbar": {
              "outlinewidth": 0,
              "ticks": ""
             }
            },
            "type": "scattermapbox"
           }
          ],
          "scatterpolar": [
           {
            "marker": {
             "colorbar": {
              "outlinewidth": 0,
              "ticks": ""
             }
            },
            "type": "scatterpolar"
           }
          ],
          "scatterpolargl": [
           {
            "marker": {
             "colorbar": {
              "outlinewidth": 0,
              "ticks": ""
             }
            },
            "type": "scatterpolargl"
           }
          ],
          "scatterternary": [
           {
            "marker": {
             "colorbar": {
              "outlinewidth": 0,
              "ticks": ""
             }
            },
            "type": "scatterternary"
           }
          ],
          "surface": [
           {
            "colorbar": {
             "outlinewidth": 0,
             "ticks": ""
            },
            "colorscale": [
             [
              0,
              "#0d0887"
             ],
             [
              0.1111111111111111,
              "#46039f"
             ],
             [
              0.2222222222222222,
              "#7201a8"
             ],
             [
              0.3333333333333333,
              "#9c179e"
             ],
             [
              0.4444444444444444,
              "#bd3786"
             ],
             [
              0.5555555555555556,
              "#d8576b"
             ],
             [
              0.6666666666666666,
              "#ed7953"
             ],
             [
              0.7777777777777778,
              "#fb9f3a"
             ],
             [
              0.8888888888888888,
              "#fdca26"
             ],
             [
              1,
              "#f0f921"
             ]
            ],
            "type": "surface"
           }
          ],
          "table": [
           {
            "cells": {
             "fill": {
              "color": "#EBF0F8"
             },
             "line": {
              "color": "white"
             }
            },
            "header": {
             "fill": {
              "color": "#C8D4E3"
             },
             "line": {
              "color": "white"
             }
            },
            "type": "table"
           }
          ]
         },
         "layout": {
          "annotationdefaults": {
           "arrowcolor": "#2a3f5f",
           "arrowhead": 0,
           "arrowwidth": 1
          },
          "autotypenumbers": "strict",
          "coloraxis": {
           "colorbar": {
            "outlinewidth": 0,
            "ticks": ""
           }
          },
          "colorscale": {
           "diverging": [
            [
             0,
             "#8e0152"
            ],
            [
             0.1,
             "#c51b7d"
            ],
            [
             0.2,
             "#de77ae"
            ],
            [
             0.3,
             "#f1b6da"
            ],
            [
             0.4,
             "#fde0ef"
            ],
            [
             0.5,
             "#f7f7f7"
            ],
            [
             0.6,
             "#e6f5d0"
            ],
            [
             0.7,
             "#b8e186"
            ],
            [
             0.8,
             "#7fbc41"
            ],
            [
             0.9,
             "#4d9221"
            ],
            [
             1,
             "#276419"
            ]
           ],
           "sequential": [
            [
             0,
             "#0d0887"
            ],
            [
             0.1111111111111111,
             "#46039f"
            ],
            [
             0.2222222222222222,
             "#7201a8"
            ],
            [
             0.3333333333333333,
             "#9c179e"
            ],
            [
             0.4444444444444444,
             "#bd3786"
            ],
            [
             0.5555555555555556,
             "#d8576b"
            ],
            [
             0.6666666666666666,
             "#ed7953"
            ],
            [
             0.7777777777777778,
             "#fb9f3a"
            ],
            [
             0.8888888888888888,
             "#fdca26"
            ],
            [
             1,
             "#f0f921"
            ]
           ],
           "sequentialminus": [
            [
             0,
             "#0d0887"
            ],
            [
             0.1111111111111111,
             "#46039f"
            ],
            [
             0.2222222222222222,
             "#7201a8"
            ],
            [
             0.3333333333333333,
             "#9c179e"
            ],
            [
             0.4444444444444444,
             "#bd3786"
            ],
            [
             0.5555555555555556,
             "#d8576b"
            ],
            [
             0.6666666666666666,
             "#ed7953"
            ],
            [
             0.7777777777777778,
             "#fb9f3a"
            ],
            [
             0.8888888888888888,
             "#fdca26"
            ],
            [
             1,
             "#f0f921"
            ]
           ]
          },
          "colorway": [
           "#636efa",
           "#EF553B",
           "#00cc96",
           "#ab63fa",
           "#FFA15A",
           "#19d3f3",
           "#FF6692",
           "#B6E880",
           "#FF97FF",
           "#FECB52"
          ],
          "font": {
           "color": "#2a3f5f"
          },
          "geo": {
           "bgcolor": "white",
           "lakecolor": "white",
           "landcolor": "#E5ECF6",
           "showlakes": true,
           "showland": true,
           "subunitcolor": "white"
          },
          "hoverlabel": {
           "align": "left"
          },
          "hovermode": "closest",
          "mapbox": {
           "style": "light"
          },
          "paper_bgcolor": "white",
          "plot_bgcolor": "#E5ECF6",
          "polar": {
           "angularaxis": {
            "gridcolor": "white",
            "linecolor": "white",
            "ticks": ""
           },
           "bgcolor": "#E5ECF6",
           "radialaxis": {
            "gridcolor": "white",
            "linecolor": "white",
            "ticks": ""
           }
          },
          "scene": {
           "xaxis": {
            "backgroundcolor": "#E5ECF6",
            "gridcolor": "white",
            "gridwidth": 2,
            "linecolor": "white",
            "showbackground": true,
            "ticks": "",
            "zerolinecolor": "white"
           },
           "yaxis": {
            "backgroundcolor": "#E5ECF6",
            "gridcolor": "white",
            "gridwidth": 2,
            "linecolor": "white",
            "showbackground": true,
            "ticks": "",
            "zerolinecolor": "white"
           },
           "zaxis": {
            "backgroundcolor": "#E5ECF6",
            "gridcolor": "white",
            "gridwidth": 2,
            "linecolor": "white",
            "showbackground": true,
            "ticks": "",
            "zerolinecolor": "white"
           }
          },
          "shapedefaults": {
           "line": {
            "color": "#2a3f5f"
           }
          },
          "ternary": {
           "aaxis": {
            "gridcolor": "white",
            "linecolor": "white",
            "ticks": ""
           },
           "baxis": {
            "gridcolor": "white",
            "linecolor": "white",
            "ticks": ""
           },
           "bgcolor": "#E5ECF6",
           "caxis": {
            "gridcolor": "white",
            "linecolor": "white",
            "ticks": ""
           }
          },
          "title": {
           "x": 0.05
          },
          "xaxis": {
           "automargin": true,
           "gridcolor": "white",
           "linecolor": "white",
           "ticks": "",
           "title": {
            "standoff": 15
           },
           "zerolinecolor": "white",
           "zerolinewidth": 2
          },
          "yaxis": {
           "automargin": true,
           "gridcolor": "white",
           "linecolor": "white",
           "ticks": "",
           "title": {
            "standoff": 15
           },
           "zerolinecolor": "white",
           "zerolinewidth": 2
          }
         }
        },
        "xaxis": {
         "anchor": "y",
         "domain": [
          0,
          1
         ],
         "title": {
          "text": "Shots Per Avg Match_per season"
         }
        },
        "yaxis": {
         "anchor": "x",
         "domain": [
          0,
          1
         ],
         "title": {
          "text": "xG Per Avg Match_per season"
         }
        }
       }
      },
      "text/html": [
       "<div>                            <div id=\"2dfa78e6-3a30-43a4-9e1d-a6ab924c9311\" class=\"plotly-graph-div\" style=\"height:525px; width:100%;\"></div>            <script type=\"text/javascript\">                require([\"plotly\"], function(Plotly) {                    window.PLOTLYENV=window.PLOTLYENV || {};                                    if (document.getElementById(\"2dfa78e6-3a30-43a4-9e1d-a6ab924c9311\")) {                    Plotly.newPlot(                        \"2dfa78e6-3a30-43a4-9e1d-a6ab924c9311\",                        [{\"hovertemplate\":\"Shots Per Avg Match_per season=%{x}<br>xG Per Avg Match_per season=%{y}<extra></extra>\",\"legendgroup\":\"\",\"marker\":{\"color\":\"#636efa\",\"symbol\":\"circle\"},\"mode\":\"markers\",\"name\":\"\",\"orientation\":\"v\",\"showlegend\":false,\"x\":[2.73,2.01,2.19,3.26,3.14,3.78,2.57,2.65,2.41,1.36,3.05,2.88,3.8,3.62,2.66,2.74,3.15,3.74,2.85,1.03,2.08,3.73,3.22,2.92,2.67,3.72,3.56,1.87,3.34,3.81,2.15,2.83,2.95,1.82,2.72,2.73,3.12,2.8,3.3,4.19,3.78,2.0,2.86,1.99,2.4,2.94,1.69,2.05,1.82,2.93,2.63,2.81,3.08,1.82,2.63,3.36,3.22,4.22,2.4,3.48,2.88,1.65,0.85,3.87,2.95,2.19,2.16,2.85,2.54,1.84,3.05,1.27,1.65,5.07,3.25,1.85,2.91,3.22,2.61,2.65,3.92,2.09,2.83,2.36,3.02,1.77,3.84,3.04,2.92,2.32,2.52,2.84,3.32,6.28,3.24,2.57,2.44,2.16,1.24,2.26,3.56,2.94,2.15,2.62,2.12,2.26,2.52,2.84,3.41,1.81,2.85,2.55,3.26,2.84,3.5,2.5,2.24,2.91,3.58,3.45,3.03,2.07,4.35,3.51,4.08,2.58,2.63,3.35,2.6,3.01,4.54,2.83,1.2,2.3,0.8,1.92,2.38,3.53,0.81,3.41,3.22,1.96,2.49,3.71,3.31,1.51,2.13,1.93,1.72,2.82,2.94,2.58,2.89,2.51,3.46,3.62,2.18,2.62,1.38,3.91,3.65,2.87,2.03,1.78,2.36,3.04,3.02,2.62,2.66,1.91,3.68,2.42,1.93,2.5,4.52,2.28,2.47,2.2,3.36,3.38,1.65,3.59,3.05,3.32,3.45,1.72,2.5,4.04,3.01,2.61,2.4,4.14,2.94,2.26,3.18,1.8,4.25,3.65,3.16,2.83,1.76,2.04,0.99,2.37,2.47,2.64,3.29,2.64,2.68,3.11,2.67,3.11,2.42,2.28,2.12,1.64,1.96,2.22,1.92,2.49,1.81,3.99,2.76,2.2,4.18,2.64,2.52,2.47,1.69,3.52,2.79,2.45,3.42,3.12,2.0,3.26,3.27,2.48,2.99,3.15,2.72,3.05,2.86,2.45,2.28,3.24,2.22,3.56,5.01,2.56,3.38,4.2,4.6,1.97,2.95,1.59,2.47,3.12,2.8,5.39,3.43,2.22,4.9,3.39,2.72,3.05,1.82,3.11,2.21,1.9,1.82,2.75,6.27,4.05,1.62,2.56,3.92,1.48,2.96,4.26,1.39,2.35,3.04,2.78,3.19,2.32,3.8,2.71,2.25,2.42,1.78,2.88,2.97,3.22,3.31,2.2,2.48,2.52,2.77,2.13,3.66,2.39,3.33,2.0,3.01,2.47,2.26,3.72,2.93,1.93,3.75,2.92,3.12,2.23,2.34,2.72,2.47,3.02,2.15,2.2,3.97,3.76,1.91,2.03,3.17,3.23,2.64,3.08,1.68,2.83,2.4,1.93,3.11,5.59,2.17,2.48,2.98,3.51,4.23,3.09,3.45,4.5,3.38,2.49,2.28,4.37,3.3,2.65,1.16,3.16,2.89,3.51,2.75,2.91,2.34,2.81,2.54,3.1,3.64,3.69,2.73,2.67,3.21,2.73,2.79,2.6,3.28,2.86,4.84,3.06,2.32,2.01,2.48,2.08,2.6,3.16,2.56,1.73,2.88,3.69,3.75,3.06,3.2,2.68,3.91,2.28,2.66,2.09,2.57,2.28,3.78,3.14,2.51,2.97,2.76,2.2,2.22,2.11,3.17,2.87,2.09,4.79,2.98,2.52,1.2,3.21,2.97,3.0,3.45,3.97,3.51,2.46,1.42,2.88,4.07,3.19,1.5,2.7,3.4,2.8,3.04,2.55,2.42,2.8,2.47,3.36,3.59,2.6,2.29,2.98,2.3,2.2,2.91,2.95,2.6,3.24,2.49,2.7,2.29,2.24,2.86,2.42,5.08,3.34],\"xaxis\":\"x\",\"y\":[0.22,0.52,0.23,0.61,0.45,0.34,0.3,0.67,0.35,0.28,0.8,0.41,0.28,0.54,0.63,0.35,0.37,0.91,0.48,0.25,0.25,0.74,0.46,0.39,0.37,0.63,0.56,0.32,0.42,0.41,0.2,0.45,0.38,0.4,0.42,0.4,0.61,0.47,0.27,0.25,0.47,0.42,0.26,0.18,0.49,0.58,0.24,0.45,0.42,0.33,0.48,0.27,0.65,0.18,0.47,0.28,0.67,0.5,0.32,0.48,0.59,0.42,0.16,0.35,0.48,0.39,0.62,0.45,0.56,0.41,0.43,0.53,0.17,0.77,0.61,0.33,0.47,0.71,0.58,0.29,0.34,0.33,0.55,0.62,0.53,0.28,0.62,0.24,0.48,0.27,0.62,0.27,0.29,0.97,0.56,0.34,0.31,0.26,0.09,0.16,0.81,0.53,0.37,0.38,0.24,0.39,0.78,0.45,0.41,0.23,0.53,0.36,0.49,0.33,0.48,0.39,0.27,0.27,0.45,0.32,0.63,0.23,0.74,0.36,0.51,0.32,0.52,0.55,0.34,0.7,0.62,0.91,0.23,0.42,0.25,0.23,0.41,0.8,0.46,0.39,0.45,0.41,0.33,0.57,0.5,0.19,0.31,0.31,0.26,0.42,0.36,0.48,0.32,0.55,0.72,0.66,0.5,0.26,0.18,0.65,0.75,0.5,0.55,0.28,0.56,0.47,0.5,0.38,0.41,0.41,0.46,0.53,0.35,0.42,0.38,0.55,0.32,0.33,0.37,0.94,0.26,0.59,0.62,0.46,0.67,0.16,0.57,0.41,0.49,0.51,0.29,0.68,0.7,0.41,0.41,0.22,0.49,0.6,0.25,0.31,0.32,0.43,0.07,0.62,0.33,0.44,0.61,0.29,0.42,0.42,0.56,0.57,0.39,0.24,0.18,0.36,0.38,0.43,0.38,0.33,0.29,0.78,0.42,0.38,0.43,0.45,0.22,0.34,0.25,0.49,0.42,0.35,0.61,0.68,0.37,0.61,0.36,0.33,0.39,0.23,0.58,0.48,0.42,0.42,0.34,0.7,0.37,0.52,1.1,0.45,0.79,0.34,0.53,0.39,0.37,0.31,0.54,0.31,0.36,0.8,0.36,0.39,0.4,0.52,0.43,0.29,0.52,0.36,0.36,0.32,0.18,0.23,0.93,0.76,0.48,0.32,0.57,0.29,0.36,0.57,0.29,0.43,0.55,0.52,0.67,0.42,0.35,0.59,0.41,0.4,0.33,0.38,0.68,0.49,0.4,0.44,0.46,0.29,0.63,0.28,0.45,0.28,0.39,0.36,0.37,0.44,0.28,0.58,0.67,0.35,0.66,0.73,0.56,0.28,0.4,0.6,0.34,0.79,0.63,0.28,0.78,0.72,0.21,0.3,0.54,0.54,0.44,0.52,0.26,0.5,0.7,0.21,0.33,0.37,0.32,0.39,0.69,0.47,0.77,0.47,0.58,0.45,0.66,0.24,0.41,0.38,0.79,0.5,0.27,0.45,0.41,0.53,0.47,0.57,0.5,0.35,0.4,0.44,0.56,0.52,0.27,0.44,0.31,0.46,0.4,0.31,0.32,0.46,1.04,0.32,0.34,0.27,0.42,0.34,0.42,0.53,0.4,0.27,0.56,0.54,0.31,0.33,0.75,0.4,0.47,0.52,0.47,0.39,0.35,0.35,0.29,0.57,0.55,0.43,0.75,0.46,0.5,0.4,0.36,0.21,0.27,0.84,0.51,0.31,0.34,0.53,0.35,0.31,0.42,0.75,0.77,0.35,0.38,0.6,0.42,0.44,0.37,0.4,0.53,0.48,0.43,0.25,0.16,0.41,0.44,0.58,0.37,0.33,0.43,0.34,0.43,0.53,0.45,0.46,0.47,0.62,0.5,0.59,0.33,0.29,0.68,0.4,0.88,0.45],\"yaxis\":\"y\",\"type\":\"scatter\"},{\"hovertemplate\":\"<b>OLS trendline</b><br>xG Per Avg Match_per season = 0.114317 * Shots Per Avg Match_per season + 0.124449<br>R<sup>2</sup>=0.309311<br><br>Shots Per Avg Match_per season=%{x}<br>xG Per Avg Match_per season=%{y} <b>(trend)</b><extra></extra>\",\"legendgroup\":\"\",\"marker\":{\"color\":\"#636efa\",\"symbol\":\"circle\"},\"mode\":\"lines\",\"name\":\"\",\"showlegend\":false,\"x\":[0.8,0.81,0.85,0.99,1.03,1.16,1.2,1.2,1.24,1.27,1.36,1.38,1.39,1.42,1.48,1.5,1.51,1.59,1.62,1.64,1.65,1.65,1.65,1.68,1.69,1.69,1.72,1.72,1.73,1.76,1.77,1.78,1.78,1.8,1.81,1.81,1.82,1.82,1.82,1.82,1.82,1.84,1.85,1.87,1.9,1.91,1.91,1.92,1.92,1.93,1.93,1.93,1.93,1.96,1.96,1.97,1.99,2.0,2.0,2.0,2.01,2.01,2.03,2.03,2.04,2.05,2.07,2.08,2.08,2.09,2.09,2.09,2.11,2.12,2.12,2.13,2.13,2.15,2.15,2.15,2.16,2.16,2.17,2.18,2.19,2.19,2.2,2.2,2.2,2.2,2.2,2.2,2.21,2.22,2.22,2.22,2.22,2.23,2.24,2.24,2.25,2.26,2.26,2.26,2.26,2.28,2.28,2.28,2.28,2.28,2.28,2.29,2.29,2.3,2.3,2.32,2.32,2.32,2.34,2.34,2.35,2.36,2.36,2.37,2.38,2.39,2.4,2.4,2.4,2.4,2.41,2.42,2.42,2.42,2.42,2.42,2.44,2.45,2.45,2.46,2.47,2.47,2.47,2.47,2.47,2.47,2.47,2.48,2.48,2.48,2.48,2.49,2.49,2.49,2.49,2.5,2.5,2.5,2.51,2.51,2.52,2.52,2.52,2.52,2.52,2.54,2.54,2.55,2.55,2.56,2.56,2.56,2.57,2.57,2.57,2.58,2.58,2.6,2.6,2.6,2.6,2.6,2.61,2.61,2.62,2.62,2.62,2.63,2.63,2.63,2.64,2.64,2.64,2.64,2.65,2.65,2.65,2.66,2.66,2.66,2.67,2.67,2.67,2.68,2.68,2.7,2.7,2.71,2.72,2.72,2.72,2.72,2.73,2.73,2.73,2.73,2.74,2.75,2.75,2.76,2.76,2.77,2.78,2.79,2.79,2.8,2.8,2.8,2.8,2.81,2.81,2.82,2.83,2.83,2.83,2.83,2.83,2.84,2.84,2.84,2.85,2.85,2.85,2.86,2.86,2.86,2.86,2.87,2.87,2.88,2.88,2.88,2.88,2.88,2.89,2.89,2.91,2.91,2.91,2.91,2.92,2.92,2.92,2.93,2.93,2.94,2.94,2.94,2.94,2.95,2.95,2.95,2.95,2.96,2.97,2.97,2.97,2.98,2.98,2.98,2.99,3.0,3.01,3.01,3.01,3.02,3.02,3.02,3.03,3.04,3.04,3.04,3.04,3.05,3.05,3.05,3.05,3.05,3.06,3.06,3.08,3.08,3.09,3.1,3.11,3.11,3.11,3.11,3.12,3.12,3.12,3.12,3.14,3.14,3.15,3.15,3.16,3.16,3.16,3.17,3.17,3.18,3.19,3.19,3.2,3.21,3.21,3.22,3.22,3.22,3.22,3.22,3.23,3.24,3.24,3.24,3.25,3.26,3.26,3.26,3.27,3.28,3.29,3.3,3.3,3.31,3.31,3.32,3.32,3.33,3.34,3.34,3.35,3.36,3.36,3.36,3.38,3.38,3.38,3.39,3.4,3.41,3.41,3.42,3.43,3.45,3.45,3.45,3.45,3.46,3.48,3.5,3.51,3.51,3.51,3.51,3.52,3.53,3.56,3.56,3.56,3.58,3.59,3.59,3.62,3.62,3.64,3.65,3.65,3.66,3.68,3.69,3.69,3.71,3.72,3.72,3.73,3.74,3.75,3.75,3.76,3.78,3.78,3.78,3.8,3.8,3.81,3.84,3.87,3.91,3.91,3.92,3.92,3.97,3.97,3.99,4.04,4.05,4.07,4.08,4.14,4.18,4.19,4.2,4.22,4.23,4.25,4.26,4.35,4.37,4.5,4.52,4.54,4.6,4.79,4.84,4.9,5.01,5.07,5.08,5.39,5.59,6.27,6.28],\"xaxis\":\"x\",\"y\":[0.21590253355054778,0.21704570577355647,0.22161839466559136,0.2376228057877135,0.24219549467974838,0.2570567335788618,0.26162942247089666,0.26162942247089666,0.26620211136293154,0.2696316280319577,0.27992017803903624,0.2822065224850536,0.28334969470806237,0.2867792113770885,0.2936382447151409,0.2959245891611583,0.297067761384167,0.30621313916823684,0.30964265583726297,0.3119290002832804,0.31307217250628916,0.31307217250628916,0.31307217250628916,0.3165016891753153,0.31764486139832404,0.31764486139832404,0.3210743780673502,0.3210743780673502,0.3222175502903589,0.3256470669593851,0.3267902391823938,0.32793341140540255,0.32793341140540255,0.33021975585142,0.3313629280744287,0.3313629280744287,0.33250610029743743,0.33250610029743743,0.33250610029743743,0.33250610029743743,0.33250610029743743,0.3347924447434549,0.33593561696646357,0.33822196141248106,0.3416514780815072,0.3427946503045159,0.3427946503045159,0.34393782252752464,0.34393782252752464,0.34508099475053333,0.34508099475053333,0.34508099475053333,0.34508099475053333,0.3485105114195595,0.3485105114195595,0.34965368364256827,0.3519400280885857,0.3530832003115944,0.3530832003115944,0.3530832003115944,0.3542263725346031,0.3542263725346031,0.35651271698062054,0.35651271698062054,0.3576558892036293,0.35879906142663803,0.3610854058726555,0.3622285780956642,0.3622285780956642,0.3633717503186729,0.3633717503186729,0.3633717503186729,0.36565809476469036,0.3668012669876991,0.3668012669876991,0.3679444392107078,0.3679444392107078,0.37023078365672524,0.37023078365672524,0.37023078365672524,0.371373955879734,0.371373955879734,0.3725171281027427,0.3736603003257514,0.3748034725487601,0.3748034725487601,0.37594664477176887,0.37594664477176887,0.37594664477176887,0.37594664477176887,0.37594664477176887,0.37594664477176887,0.37708981699477756,0.3782329892177863,0.3782329892177863,0.3782329892177863,0.3782329892177863,0.379376161440795,0.38051933366380375,0.38051933366380375,0.38166250588681244,0.38280567810982113,0.38280567810982113,0.38280567810982113,0.38280567810982113,0.3850920225558386,0.3850920225558386,0.3850920225558386,0.3850920225558386,0.3850920225558386,0.3850920225558386,0.3862351947788473,0.3862351947788473,0.38737836700185607,0.38737836700185607,0.3896647114478735,0.3896647114478735,0.3896647114478735,0.39195105589389095,0.39195105589389095,0.3930942281168997,0.3942374003399084,0.3942374003399084,0.39538057256291714,0.39652374478592584,0.3976669170089346,0.3988100892319433,0.3988100892319433,0.3988100892319433,0.3988100892319433,0.399953261454952,0.4010964336779607,0.4010964336779607,0.4010964336779607,0.4010964336779607,0.4010964336779607,0.40338277812397816,0.4045259503469869,0.4045259503469869,0.4056691225699956,0.40681229479300435,0.40681229479300435,0.40681229479300435,0.40681229479300435,0.40681229479300435,0.40681229479300435,0.40681229479300435,0.40795546701601304,0.40795546701601304,0.40795546701601304,0.40795546701601304,0.4090986392390218,0.4090986392390218,0.4090986392390218,0.4090986392390218,0.4102418114620305,0.4102418114620305,0.4102418114620305,0.41138498368503923,0.41138498368503923,0.412528155908048,0.412528155908048,0.412528155908048,0.412528155908048,0.412528155908048,0.4148145003540654,0.4148145003540654,0.4159576725770741,0.4159576725770741,0.41710084480008286,0.41710084480008286,0.41710084480008286,0.41824401702309155,0.41824401702309155,0.41824401702309155,0.4193871892461003,0.4193871892461003,0.42167353369211774,0.42167353369211774,0.42167353369211774,0.42167353369211774,0.42167353369211774,0.42281670591512643,0.42281670591512643,0.4239598781381352,0.4239598781381352,0.4239598781381352,0.4251030503611439,0.4251030503611439,0.4251030503611439,0.4262462225841526,0.4262462225841526,0.4262462225841526,0.4262462225841526,0.4273893948071613,0.4273893948071613,0.4273893948071613,0.42853256703017006,0.42853256703017006,0.42853256703017006,0.42967573925317876,0.42967573925317876,0.42967573925317876,0.4308189114761875,0.4308189114761875,0.43310525592220495,0.43310525592220495,0.4342484281452137,0.43539160036822244,0.43539160036822244,0.43539160036822244,0.43539160036822244,0.43653477259123113,0.43653477259123113,0.43653477259123113,0.43653477259123113,0.4376779448142399,0.4388211170372486,0.4388211170372486,0.43996428926025727,0.43996428926025727,0.441107461483266,0.4422506337062747,0.44339380592928346,0.44339380592928346,0.44453697815229215,0.44453697815229215,0.44453697815229215,0.44453697815229215,0.4456801503753009,0.4456801503753009,0.4468233225983096,0.44796649482131834,0.44796649482131834,0.44796649482131834,0.44796649482131834,0.44796649482131834,0.44910966704432703,0.44910966704432703,0.44910966704432703,0.4502528392673358,0.4502528392673358,0.4502528392673358,0.4513960114903445,0.4513960114903445,0.4513960114903445,0.4513960114903445,0.4525391837133532,0.4525391837133532,0.4536823559363619,0.4536823559363619,0.4536823559363619,0.4536823559363619,0.4536823559363619,0.45482552815937066,0.45482552815937066,0.45711187260538816,0.45711187260538816,0.45711187260538816,0.45711187260538816,0.45825504482839685,0.45825504482839685,0.45825504482839685,0.4593982170514056,0.4593982170514056,0.4605413892744143,0.4605413892744143,0.4605413892744143,0.4605413892744143,0.46168456149742304,0.46168456149742304,0.46168456149742304,0.46168456149742304,0.46282773372043173,0.4639709059434405,0.4639709059434405,0.4639709059434405,0.4651140781664492,0.4651140781664492,0.4651140781664492,0.4662572503894579,0.4674004226124666,0.4685435948354753,0.4685435948354753,0.4685435948354753,0.46968676705848406,0.46968676705848406,0.46968676705848406,0.47082993928149275,0.4719731115045015,0.4719731115045015,0.4719731115045015,0.4719731115045015,0.4731162837275102,0.4731162837275102,0.4731162837275102,0.4731162837275102,0.4731162837275102,0.47425945595051894,0.47425945595051894,0.4765458003965364,0.4765458003965364,0.47768897261954507,0.4788321448425538,0.47997531706556257,0.47997531706556257,0.47997531706556257,0.47997531706556257,0.4811184892885713,0.4811184892885713,0.4811184892885713,0.4811184892885713,0.48340483373458876,0.48340483373458876,0.48454800595759745,0.48454800595759745,0.4856911781806062,0.4856911781806062,0.4856911781806062,0.4868343504036149,0.4868343504036149,0.48797752262662364,0.48912069484963233,0.48912069484963233,0.4902638670726411,0.4914070392956498,0.4914070392956498,0.4925502115186585,0.4925502115186585,0.4925502115186585,0.4925502115186585,0.4925502115186585,0.4936933837416672,0.49483655596467596,0.49483655596467596,0.49483655596467596,0.49597972818768465,0.49712290041069335,0.49712290041069335,0.49712290041069335,0.4982660726337021,0.4994092448567108,0.5005524170797195,0.5016955893027283,0.5016955893027283,0.502838761525737,0.502838761525737,0.5039819337487458,0.5039819337487458,0.5051251059717545,0.5062682781947632,0.5062682781947632,0.5074114504177719,0.5085546226407807,0.5085546226407807,0.5085546226407807,0.510840967086798,0.510840967086798,0.510840967086798,0.5119841393098068,0.5131273115328155,0.5142704837558243,0.5142704837558243,0.5154136559788329,0.5165568282018417,0.5188431726478592,0.5188431726478592,0.5188431726478592,0.5188431726478592,0.5199863448708678,0.5222726893168853,0.5245590337629028,0.5257022059859114,0.5257022059859114,0.5257022059859114,0.5257022059859114,0.5268453782089202,0.5279885504319289,0.5314180671009551,0.5314180671009551,0.5314180671009551,0.5337044115469726,0.5348475837699812,0.5348475837699812,0.5382771004390074,0.5382771004390074,0.5405634448850248,0.5417066171080336,0.5417066171080336,0.5428497893310423,0.5451361337770597,0.5462793060000685,0.5462793060000685,0.548565650446086,0.5497088226690947,0.5497088226690947,0.5508519948921033,0.5519951671151121,0.5531383393381208,0.5531383393381208,0.5542815115611295,0.556567856007147,0.556567856007147,0.556567856007147,0.5588542004531644,0.5588542004531644,0.5599973726761731,0.5634268893451992,0.5668564060142255,0.5714290949062604,0.5714290949062604,0.5725722671292691,0.5725722671292691,0.5782881282443127,0.5782881282443127,0.5805744726903301,0.5862903338053738,0.5874335060283824,0.5897198504743999,0.5908630226974086,0.5977220560354609,0.6022947449274958,0.6034379171505047,0.6045810893735133,0.6068674338195307,0.6080106060425395,0.6102969504885569,0.6114401227115656,0.6217286727186441,0.6240150171646616,0.638876256063775,0.6411626005097923,0.6434489449558098,0.6503079782938622,0.6720282505310279,0.6777441116460715,0.6846031449841239,0.6971780394372198,0.7040370727752722,0.7051802449982809,0.7406185839115512,0.7634820283717256,0.8412177395363187,0.8423609117593276],\"yaxis\":\"y\",\"type\":\"scatter\"}],                        {\"template\":{\"data\":{\"bar\":[{\"error_x\":{\"color\":\"#2a3f5f\"},\"error_y\":{\"color\":\"#2a3f5f\"},\"marker\":{\"line\":{\"color\":\"#E5ECF6\",\"width\":0.5},\"pattern\":{\"fillmode\":\"overlay\",\"size\":10,\"solidity\":0.2}},\"type\":\"bar\"}],\"barpolar\":[{\"marker\":{\"line\":{\"color\":\"#E5ECF6\",\"width\":0.5},\"pattern\":{\"fillmode\":\"overlay\",\"size\":10,\"solidity\":0.2}},\"type\":\"barpolar\"}],\"carpet\":[{\"aaxis\":{\"endlinecolor\":\"#2a3f5f\",\"gridcolor\":\"white\",\"linecolor\":\"white\",\"minorgridcolor\":\"white\",\"startlinecolor\":\"#2a3f5f\"},\"baxis\":{\"endlinecolor\":\"#2a3f5f\",\"gridcolor\":\"white\",\"linecolor\":\"white\",\"minorgridcolor\":\"white\",\"startlinecolor\":\"#2a3f5f\"},\"type\":\"carpet\"}],\"choropleth\":[{\"colorbar\":{\"outlinewidth\":0,\"ticks\":\"\"},\"type\":\"choropleth\"}],\"contour\":[{\"colorbar\":{\"outlinewidth\":0,\"ticks\":\"\"},\"colorscale\":[[0.0,\"#0d0887\"],[0.1111111111111111,\"#46039f\"],[0.2222222222222222,\"#7201a8\"],[0.3333333333333333,\"#9c179e\"],[0.4444444444444444,\"#bd3786\"],[0.5555555555555556,\"#d8576b\"],[0.6666666666666666,\"#ed7953\"],[0.7777777777777778,\"#fb9f3a\"],[0.8888888888888888,\"#fdca26\"],[1.0,\"#f0f921\"]],\"type\":\"contour\"}],\"contourcarpet\":[{\"colorbar\":{\"outlinewidth\":0,\"ticks\":\"\"},\"type\":\"contourcarpet\"}],\"heatmap\":[{\"colorbar\":{\"outlinewidth\":0,\"ticks\":\"\"},\"colorscale\":[[0.0,\"#0d0887\"],[0.1111111111111111,\"#46039f\"],[0.2222222222222222,\"#7201a8\"],[0.3333333333333333,\"#9c179e\"],[0.4444444444444444,\"#bd3786\"],[0.5555555555555556,\"#d8576b\"],[0.6666666666666666,\"#ed7953\"],[0.7777777777777778,\"#fb9f3a\"],[0.8888888888888888,\"#fdca26\"],[1.0,\"#f0f921\"]],\"type\":\"heatmap\"}],\"heatmapgl\":[{\"colorbar\":{\"outlinewidth\":0,\"ticks\":\"\"},\"colorscale\":[[0.0,\"#0d0887\"],[0.1111111111111111,\"#46039f\"],[0.2222222222222222,\"#7201a8\"],[0.3333333333333333,\"#9c179e\"],[0.4444444444444444,\"#bd3786\"],[0.5555555555555556,\"#d8576b\"],[0.6666666666666666,\"#ed7953\"],[0.7777777777777778,\"#fb9f3a\"],[0.8888888888888888,\"#fdca26\"],[1.0,\"#f0f921\"]],\"type\":\"heatmapgl\"}],\"histogram\":[{\"marker\":{\"pattern\":{\"fillmode\":\"overlay\",\"size\":10,\"solidity\":0.2}},\"type\":\"histogram\"}],\"histogram2d\":[{\"colorbar\":{\"outlinewidth\":0,\"ticks\":\"\"},\"colorscale\":[[0.0,\"#0d0887\"],[0.1111111111111111,\"#46039f\"],[0.2222222222222222,\"#7201a8\"],[0.3333333333333333,\"#9c179e\"],[0.4444444444444444,\"#bd3786\"],[0.5555555555555556,\"#d8576b\"],[0.6666666666666666,\"#ed7953\"],[0.7777777777777778,\"#fb9f3a\"],[0.8888888888888888,\"#fdca26\"],[1.0,\"#f0f921\"]],\"type\":\"histogram2d\"}],\"histogram2dcontour\":[{\"colorbar\":{\"outlinewidth\":0,\"ticks\":\"\"},\"colorscale\":[[0.0,\"#0d0887\"],[0.1111111111111111,\"#46039f\"],[0.2222222222222222,\"#7201a8\"],[0.3333333333333333,\"#9c179e\"],[0.4444444444444444,\"#bd3786\"],[0.5555555555555556,\"#d8576b\"],[0.6666666666666666,\"#ed7953\"],[0.7777777777777778,\"#fb9f3a\"],[0.8888888888888888,\"#fdca26\"],[1.0,\"#f0f921\"]],\"type\":\"histogram2dcontour\"}],\"mesh3d\":[{\"colorbar\":{\"outlinewidth\":0,\"ticks\":\"\"},\"type\":\"mesh3d\"}],\"parcoords\":[{\"line\":{\"colorbar\":{\"outlinewidth\":0,\"ticks\":\"\"}},\"type\":\"parcoords\"}],\"pie\":[{\"automargin\":true,\"type\":\"pie\"}],\"scatter\":[{\"marker\":{\"colorbar\":{\"outlinewidth\":0,\"ticks\":\"\"}},\"type\":\"scatter\"}],\"scatter3d\":[{\"line\":{\"colorbar\":{\"outlinewidth\":0,\"ticks\":\"\"}},\"marker\":{\"colorbar\":{\"outlinewidth\":0,\"ticks\":\"\"}},\"type\":\"scatter3d\"}],\"scattercarpet\":[{\"marker\":{\"colorbar\":{\"outlinewidth\":0,\"ticks\":\"\"}},\"type\":\"scattercarpet\"}],\"scattergeo\":[{\"marker\":{\"colorbar\":{\"outlinewidth\":0,\"ticks\":\"\"}},\"type\":\"scattergeo\"}],\"scattergl\":[{\"marker\":{\"colorbar\":{\"outlinewidth\":0,\"ticks\":\"\"}},\"type\":\"scattergl\"}],\"scattermapbox\":[{\"marker\":{\"colorbar\":{\"outlinewidth\":0,\"ticks\":\"\"}},\"type\":\"scattermapbox\"}],\"scatterpolar\":[{\"marker\":{\"colorbar\":{\"outlinewidth\":0,\"ticks\":\"\"}},\"type\":\"scatterpolar\"}],\"scatterpolargl\":[{\"marker\":{\"colorbar\":{\"outlinewidth\":0,\"ticks\":\"\"}},\"type\":\"scatterpolargl\"}],\"scatterternary\":[{\"marker\":{\"colorbar\":{\"outlinewidth\":0,\"ticks\":\"\"}},\"type\":\"scatterternary\"}],\"surface\":[{\"colorbar\":{\"outlinewidth\":0,\"ticks\":\"\"},\"colorscale\":[[0.0,\"#0d0887\"],[0.1111111111111111,\"#46039f\"],[0.2222222222222222,\"#7201a8\"],[0.3333333333333333,\"#9c179e\"],[0.4444444444444444,\"#bd3786\"],[0.5555555555555556,\"#d8576b\"],[0.6666666666666666,\"#ed7953\"],[0.7777777777777778,\"#fb9f3a\"],[0.8888888888888888,\"#fdca26\"],[1.0,\"#f0f921\"]],\"type\":\"surface\"}],\"table\":[{\"cells\":{\"fill\":{\"color\":\"#EBF0F8\"},\"line\":{\"color\":\"white\"}},\"header\":{\"fill\":{\"color\":\"#C8D4E3\"},\"line\":{\"color\":\"white\"}},\"type\":\"table\"}]},\"layout\":{\"annotationdefaults\":{\"arrowcolor\":\"#2a3f5f\",\"arrowhead\":0,\"arrowwidth\":1},\"autotypenumbers\":\"strict\",\"coloraxis\":{\"colorbar\":{\"outlinewidth\":0,\"ticks\":\"\"}},\"colorscale\":{\"diverging\":[[0,\"#8e0152\"],[0.1,\"#c51b7d\"],[0.2,\"#de77ae\"],[0.3,\"#f1b6da\"],[0.4,\"#fde0ef\"],[0.5,\"#f7f7f7\"],[0.6,\"#e6f5d0\"],[0.7,\"#b8e186\"],[0.8,\"#7fbc41\"],[0.9,\"#4d9221\"],[1,\"#276419\"]],\"sequential\":[[0.0,\"#0d0887\"],[0.1111111111111111,\"#46039f\"],[0.2222222222222222,\"#7201a8\"],[0.3333333333333333,\"#9c179e\"],[0.4444444444444444,\"#bd3786\"],[0.5555555555555556,\"#d8576b\"],[0.6666666666666666,\"#ed7953\"],[0.7777777777777778,\"#fb9f3a\"],[0.8888888888888888,\"#fdca26\"],[1.0,\"#f0f921\"]],\"sequentialminus\":[[0.0,\"#0d0887\"],[0.1111111111111111,\"#46039f\"],[0.2222222222222222,\"#7201a8\"],[0.3333333333333333,\"#9c179e\"],[0.4444444444444444,\"#bd3786\"],[0.5555555555555556,\"#d8576b\"],[0.6666666666666666,\"#ed7953\"],[0.7777777777777778,\"#fb9f3a\"],[0.8888888888888888,\"#fdca26\"],[1.0,\"#f0f921\"]]},\"colorway\":[\"#636efa\",\"#EF553B\",\"#00cc96\",\"#ab63fa\",\"#FFA15A\",\"#19d3f3\",\"#FF6692\",\"#B6E880\",\"#FF97FF\",\"#FECB52\"],\"font\":{\"color\":\"#2a3f5f\"},\"geo\":{\"bgcolor\":\"white\",\"lakecolor\":\"white\",\"landcolor\":\"#E5ECF6\",\"showlakes\":true,\"showland\":true,\"subunitcolor\":\"white\"},\"hoverlabel\":{\"align\":\"left\"},\"hovermode\":\"closest\",\"mapbox\":{\"style\":\"light\"},\"paper_bgcolor\":\"white\",\"plot_bgcolor\":\"#E5ECF6\",\"polar\":{\"angularaxis\":{\"gridcolor\":\"white\",\"linecolor\":\"white\",\"ticks\":\"\"},\"bgcolor\":\"#E5ECF6\",\"radialaxis\":{\"gridcolor\":\"white\",\"linecolor\":\"white\",\"ticks\":\"\"}},\"scene\":{\"xaxis\":{\"backgroundcolor\":\"#E5ECF6\",\"gridcolor\":\"white\",\"gridwidth\":2,\"linecolor\":\"white\",\"showbackground\":true,\"ticks\":\"\",\"zerolinecolor\":\"white\"},\"yaxis\":{\"backgroundcolor\":\"#E5ECF6\",\"gridcolor\":\"white\",\"gridwidth\":2,\"linecolor\":\"white\",\"showbackground\":true,\"ticks\":\"\",\"zerolinecolor\":\"white\"},\"zaxis\":{\"backgroundcolor\":\"#E5ECF6\",\"gridcolor\":\"white\",\"gridwidth\":2,\"linecolor\":\"white\",\"showbackground\":true,\"ticks\":\"\",\"zerolinecolor\":\"white\"}},\"shapedefaults\":{\"line\":{\"color\":\"#2a3f5f\"}},\"ternary\":{\"aaxis\":{\"gridcolor\":\"white\",\"linecolor\":\"white\",\"ticks\":\"\"},\"baxis\":{\"gridcolor\":\"white\",\"linecolor\":\"white\",\"ticks\":\"\"},\"bgcolor\":\"#E5ECF6\",\"caxis\":{\"gridcolor\":\"white\",\"linecolor\":\"white\",\"ticks\":\"\"}},\"title\":{\"x\":0.05},\"xaxis\":{\"automargin\":true,\"gridcolor\":\"white\",\"linecolor\":\"white\",\"ticks\":\"\",\"title\":{\"standoff\":15},\"zerolinecolor\":\"white\",\"zerolinewidth\":2},\"yaxis\":{\"automargin\":true,\"gridcolor\":\"white\",\"linecolor\":\"white\",\"ticks\":\"\",\"title\":{\"standoff\":15},\"zerolinecolor\":\"white\",\"zerolinewidth\":2}}},\"xaxis\":{\"anchor\":\"y\",\"domain\":[0.0,1.0],\"title\":{\"text\":\"Shots Per Avg Match_per season\"}},\"yaxis\":{\"anchor\":\"x\",\"domain\":[0.0,1.0],\"title\":{\"text\":\"xG Per Avg Match_per season\"}},\"legend\":{\"tracegroupgap\":0},\"margin\":{\"t\":60}},                        {\"responsive\": true}                    ).then(function(){\n",
       "                            \n",
       "var gd = document.getElementById('2dfa78e6-3a30-43a4-9e1d-a6ab924c9311');\n",
       "var x = new MutationObserver(function (mutations, observer) {{\n",
       "        var display = window.getComputedStyle(gd).display;\n",
       "        if (!display || display === 'none') {{\n",
       "            console.log([gd, 'removed!']);\n",
       "            Plotly.purge(gd);\n",
       "            observer.disconnect();\n",
       "        }}\n",
       "}});\n",
       "\n",
       "// Listen for the removal of the full notebook cells\n",
       "var notebookContainer = gd.closest('#notebook-container');\n",
       "if (notebookContainer) {{\n",
       "    x.observe(notebookContainer, {childList: true});\n",
       "}}\n",
       "\n",
       "// Listen for the clearing of the current output cell\n",
       "var outputEl = gd.closest('.output');\n",
       "if (outputEl) {{\n",
       "    x.observe(outputEl, {childList: true});\n",
       "}}\n",
       "\n",
       "                        })                };                });            </script>        </div>"
      ]
     },
     "metadata": {},
     "output_type": "display_data"
    }
   ],
   "source": [
    "figa = pl.scatter(finale, x = 'Shots Per Avg Match_per season', y = 'xG Per Avg Match_per season', trendline = 'ols')\n",
    "\n",
    "figa.show()"
   ]
  },
  {
   "cell_type": "markdown",
   "id": "3b7e6a5c",
   "metadata": {},
   "source": [
    "###### А тут видна вполне логичная зависимость, которая подтверждает логичную зависимость: чем больше ударов, тем больше xG."
   ]
  },
  {
   "cell_type": "markdown",
   "id": "0c762330",
   "metadata": {},
   "source": [
    "## Вывод по зависимостям"
   ]
  },
  {
   "cell_type": "markdown",
   "id": "6121ba3a",
   "metadata": {},
   "source": [
    "###### Можем сделать нексколько выводов. Во-первых, чем опытнее игрок, тем больше голевых моментов он создает. Во-вторых, чем больше игрок будет играть, тем меньше со временем он создавать голевых моментов. В-третьих, чем больше наносится ударов, тем меньше их точность. В-четвертых, чем больше ударов, тем меньше точность."
   ]
  },
  {
   "cell_type": "markdown",
   "id": "c6f46bd9",
   "metadata": {},
   "source": [
    "# Кластеризация"
   ]
  },
  {
   "cell_type": "markdown",
   "id": "6a4b45e5",
   "metadata": {},
   "source": [
    "###### Собственно, теперь можем перейти к кластеризации. Основной целью кластеризации для нас будет разделения на классы по их качеству. Какие характеристки свойственным лучшим, а какие худшим из них и т.д."
   ]
  },
  {
   "cell_type": "markdown",
   "id": "c45e0c37",
   "metadata": {},
   "source": [
    "## Kmeans"
   ]
  },
  {
   "cell_type": "markdown",
   "id": "0954c833",
   "metadata": {},
   "source": [
    "###### Метод работает так. Для начала мы выбираем n количество кластеров. Потом радномно (или нет) ставим  n точек на систему координат. Смотрим на то, какой объект к какому кластеру ближе. Определяем состав каждого кластера. А потом перерасчитываем координаты каждого кластера путем вычисления среднего арифмитеского по каждому признаку каждого объекта. И нексолько раз повторяем этот процесс, до тех пор, пока объекты кластеров не будут сильно различаться."
   ]
  },
  {
   "cell_type": "code",
   "execution_count": 328,
   "id": "19cf16bb",
   "metadata": {},
   "outputs": [],
   "source": [
    "from sklearn.cluster import KMeans, DBSCAN, Birch\n",
    "from sklearn.preprocessing import StandardScaler\n",
    "from sklearn.metrics import silhouette_score, calinski_harabasz_score, davies_bouldin_score\n",
    "scaler = StandardScaler()\n",
    "x = scaler.fit_transform(finale)\n",
    "model = KMeans(n_clusters=2, n_init = 1, max_iter = 10)"
   ]
  },
  {
   "cell_type": "code",
   "execution_count": 329,
   "id": "ad762f8d",
   "metadata": {},
   "outputs": [
    {
     "name": "stderr",
     "output_type": "stream",
     "text": [
      "C:\\Users\\1\\anaconda3\\lib\\site-packages\\sklearn\\cluster\\_kmeans.py:1334: UserWarning:\n",
      "\n",
      "KMeans is known to have a memory leak on Windows with MKL, when there are less chunks than available threads. You can avoid it by setting the environment variable OMP_NUM_THREADS=2.\n",
      "\n"
     ]
    }
   ],
   "source": [
    "model.fit(finale)\n",
    "clusters = model.predict(finale)"
   ]
  },
  {
   "cell_type": "code",
   "execution_count": 237,
   "id": "9e1c4fdc",
   "metadata": {},
   "outputs": [
    {
     "data": {
      "text/html": [
       "<div>\n",
       "<style scoped>\n",
       "    .dataframe tbody tr th:only-of-type {\n",
       "        vertical-align: middle;\n",
       "    }\n",
       "\n",
       "    .dataframe tbody tr th {\n",
       "        vertical-align: top;\n",
       "    }\n",
       "\n",
       "    .dataframe thead th {\n",
       "        text-align: right;\n",
       "    }\n",
       "</style>\n",
       "<table border=\"1\" class=\"dataframe\">\n",
       "  <thead>\n",
       "    <tr style=\"text-align: right;\">\n",
       "      <th></th>\n",
       "      <th>Mins_per season</th>\n",
       "      <th>xG Per Avg Match_per season</th>\n",
       "      <th>Shots Per Avg Match_per season</th>\n",
       "      <th>On Target Per Avg Match_per season</th>\n",
       "      <th>Experience</th>\n",
       "      <th>On Target Shots/ Shots</th>\n",
       "      <th>cluster</th>\n",
       "    </tr>\n",
       "  </thead>\n",
       "  <tbody>\n",
       "    <tr>\n",
       "      <th>0</th>\n",
       "      <td>834.0</td>\n",
       "      <td>0.22</td>\n",
       "      <td>2.73</td>\n",
       "      <td>1.48</td>\n",
       "      <td>1</td>\n",
       "      <td>0.54</td>\n",
       "      <td>1</td>\n",
       "    </tr>\n",
       "    <tr>\n",
       "      <th>1</th>\n",
       "      <td>1325.0</td>\n",
       "      <td>0.52</td>\n",
       "      <td>2.01</td>\n",
       "      <td>1.08</td>\n",
       "      <td>1</td>\n",
       "      <td>0.54</td>\n",
       "      <td>1</td>\n",
       "    </tr>\n",
       "    <tr>\n",
       "      <th>2</th>\n",
       "      <td>2168.0</td>\n",
       "      <td>0.23</td>\n",
       "      <td>2.19</td>\n",
       "      <td>0.79</td>\n",
       "      <td>1</td>\n",
       "      <td>0.36</td>\n",
       "      <td>0</td>\n",
       "    </tr>\n",
       "    <tr>\n",
       "      <th>3</th>\n",
       "      <td>2480.0</td>\n",
       "      <td>0.61</td>\n",
       "      <td>3.26</td>\n",
       "      <td>1.72</td>\n",
       "      <td>1</td>\n",
       "      <td>0.53</td>\n",
       "      <td>0</td>\n",
       "    </tr>\n",
       "    <tr>\n",
       "      <th>4</th>\n",
       "      <td>2432.5</td>\n",
       "      <td>0.45</td>\n",
       "      <td>3.14</td>\n",
       "      <td>1.48</td>\n",
       "      <td>2</td>\n",
       "      <td>0.47</td>\n",
       "      <td>0</td>\n",
       "    </tr>\n",
       "  </tbody>\n",
       "</table>\n",
       "</div>"
      ],
      "text/plain": [
       "   Mins_per season  xG Per Avg Match_per season  \\\n",
       "0            834.0                         0.22   \n",
       "1           1325.0                         0.52   \n",
       "2           2168.0                         0.23   \n",
       "3           2480.0                         0.61   \n",
       "4           2432.5                         0.45   \n",
       "\n",
       "   Shots Per Avg Match_per season  On Target Per Avg Match_per season  \\\n",
       "0                            2.73                                1.48   \n",
       "1                            2.01                                1.08   \n",
       "2                            2.19                                0.79   \n",
       "3                            3.26                                1.72   \n",
       "4                            3.14                                1.48   \n",
       "\n",
       "   Experience  On Target Shots/ Shots  cluster  \n",
       "0           1                    0.54        1  \n",
       "1           1                    0.54        1  \n",
       "2           1                    0.36        0  \n",
       "3           1                    0.53        0  \n",
       "4           2                    0.47        0  "
      ]
     },
     "execution_count": 237,
     "metadata": {},
     "output_type": "execute_result"
    }
   ],
   "source": [
    "fina1 = finale.assign(cluster = clusters)\n",
    "fina1.head()"
   ]
  },
  {
   "cell_type": "code",
   "execution_count": 238,
   "id": "31c33978",
   "metadata": {},
   "outputs": [],
   "source": [
    "fina1['cluster'] = fina1['cluster'].astype('str')"
   ]
  },
  {
   "cell_type": "code",
   "execution_count": 239,
   "id": "8f157cfe",
   "metadata": {},
   "outputs": [
    {
     "data": {
      "application/vnd.plotly.v1+json": {
       "config": {
        "plotlyServerURL": "https://plot.ly"
       },
       "data": [
        {
         "hovertemplate": "cluster=1<br>xG Per Avg Match_per season=%{x}<br>On Target Shots/ Shots=%{y}<br>On Target Per Avg Match_per season=%{z}<extra></extra>",
         "legendgroup": "1",
         "marker": {
          "color": "#636efa",
          "symbol": "circle"
         },
         "mode": "markers",
         "name": "1",
         "scene": "scene",
         "showlegend": true,
         "type": "scatter3d",
         "x": [
          0.22,
          0.52,
          0.67,
          0.8,
          0.63,
          0.35,
          0.91,
          0.25,
          0.25,
          0.74,
          0.37,
          0.56,
          0.2,
          0.45,
          0.38,
          0.42,
          0.27,
          0.42,
          0.58,
          0.45,
          0.42,
          0.33,
          0.65,
          0.47,
          0.28,
          0.67,
          0.5,
          0.32,
          0.48,
          0.16,
          0.48,
          0.62,
          0.53,
          0.17,
          0.47,
          0.33,
          0.24,
          0.48,
          0.27,
          0.29,
          0.26,
          0.09,
          0.81,
          0.37,
          0.24,
          0.78,
          0.53,
          0.45,
          0.32,
          0.74,
          0.36,
          0.52,
          0.7,
          0.91,
          0.23,
          0.25,
          0.41,
          0.8,
          0.46,
          0.45,
          0.19,
          0.36,
          0.5,
          0.18,
          0.75,
          0.55,
          0.28,
          0.56,
          0.38,
          0.94,
          0.62,
          0.46,
          0.67,
          0.41,
          0.49,
          0.68,
          0.7,
          0.41,
          0.22,
          0.6,
          0.31,
          0.07,
          0.33,
          0.44,
          0.61,
          0.29,
          0.42,
          0.57,
          0.24,
          0.43,
          0.68,
          0.33,
          0.58,
          0.42,
          0.34,
          0.7,
          1.1,
          0.45,
          0.79,
          0.34,
          0.54,
          0.36,
          0.52,
          0.52,
          0.36,
          0.32,
          0.18,
          0.93,
          0.48,
          0.32,
          0.57,
          0.33,
          0.38,
          0.45,
          0.36,
          0.67,
          0.66,
          0.79,
          0.72,
          0.44,
          0.52,
          0.26,
          0.5,
          0.7,
          0.37,
          0.69,
          0.77,
          0.66,
          0.41,
          0.45,
          0.53,
          0.47,
          0.5,
          0.35,
          0.44,
          0.32,
          0.27,
          0.4,
          0.54,
          0.33,
          0.52,
          0.35,
          0.57,
          0.55,
          0.43,
          0.75,
          0.36,
          0.31,
          0.42,
          0.75,
          0.44,
          0.37,
          0.25,
          0.16,
          0.41,
          0.37,
          0.53,
          0.62,
          0.68
         ],
         "y": [
          0.54,
          0.54,
          0.46,
          0.56,
          0.47,
          0.38,
          0.5,
          0.28,
          0.5,
          0.41,
          0.43,
          0.48,
          0.25,
          0.46,
          0.5,
          0.47,
          0.4,
          0.5,
          0.51,
          0.83,
          0.57,
          0.47,
          0.48,
          0.46,
          0.42,
          0.39,
          0.43,
          0.3,
          0.43,
          0.28,
          0.61,
          0.45,
          0.62,
          0.3,
          0.52,
          0.53,
          0.36,
          0.32,
          0.4,
          0.36,
          0.42,
          0.45,
          0.52,
          0.6,
          0.39,
          0.62,
          0.46,
          0.55,
          0.43,
          0.54,
          0.35,
          0.53,
          0.59,
          0.42,
          0.4,
          0.5,
          0.5,
          0.5,
          0.8,
          0.49,
          0.56,
          0.36,
          0.33,
          0.64,
          0.4,
          0.6,
          0.4,
          0.4,
          0.35,
          0.58,
          0.47,
          0.44,
          0.47,
          0.44,
          0.61,
          0.43,
          0.5,
          0.38,
          0.47,
          0.38,
          0.35,
          0.7,
          0.23,
          0.49,
          0.43,
          0.45,
          0.33,
          0.29,
          0.41,
          0.39,
          0.45,
          0.48,
          0.46,
          0.47,
          0.42,
          0.53,
          0.58,
          0.55,
          0.44,
          0.38,
          0.55,
          0.32,
          0.55,
          0.42,
          0.46,
          0.45,
          0.37,
          0.43,
          0.62,
          0.39,
          0.33,
          0.44,
          0.58,
          0.38,
          0.46,
          0.36,
          0.55,
          0.44,
          0.47,
          0.48,
          0.41,
          0.5,
          0.51,
          0.41,
          0.23,
          0.51,
          0.43,
          0.44,
          0.38,
          0.62,
          0.5,
          0.29,
          0.43,
          0.41,
          0.46,
          0.45,
          0.39,
          0.46,
          0.48,
          0.42,
          0.6,
          0.31,
          0.47,
          0.47,
          0.38,
          0.61,
          0.48,
          0.47,
          0.48,
          0.52,
          0.5,
          0.39,
          0.4,
          0.57,
          0.51,
          0.47,
          0.39,
          0.27,
          0.29
         ],
         "z": [
          1.48,
          1.08,
          1.21,
          1.7,
          1.25,
          1.05,
          1.87,
          0.29,
          1.04,
          1.54,
          1.16,
          1.7,
          0.54,
          1.31,
          1.47,
          1.27,
          1.32,
          1,
          1.51,
          1.71,
          1.04,
          1.39,
          1.48,
          1.2,
          1.42,
          1.25,
          1.83,
          0.73,
          1.48,
          0.24,
          1.79,
          0.97,
          0.79,
          0.5,
          1.51,
          1.1,
          1.09,
          0.92,
          0.92,
          1.21,
          0.91,
          0.56,
          1.84,
          1.29,
          0.83,
          1.55,
          1.32,
          1.97,
          1.5,
          2.34,
          1.22,
          1.4,
          1.78,
          1.2,
          0.48,
          0.4,
          1.19,
          1.78,
          0.65,
          1.57,
          0.84,
          1.06,
          0.73,
          0.88,
          1.46,
          1.21,
          0.72,
          0.94,
          1.56,
          1.97,
          1.42,
          1.45,
          1.61,
          1.79,
          1.84,
          1.77,
          1.47,
          1.21,
          0.84,
          1.38,
          0.98,
          0.69,
          0.56,
          1.29,
          1.42,
          1.2,
          1.04,
          0.89,
          0.94,
          0.86,
          1.39,
          1.18,
          1.25,
          1.33,
          0.96,
          1.72,
          2.89,
          1.41,
          1.5,
          1.59,
          1.36,
          1.1,
          1.86,
          0.76,
          1.02,
          0.86,
          0.67,
          2.68,
          1,
          1.01,
          1.42,
          0.78,
          1.66,
          1.39,
          0.92,
          1.05,
          2.05,
          1.33,
          1.76,
          1.27,
          1.27,
          0.84,
          1.45,
          0.98,
          1.26,
          1.53,
          1.8,
          1.49,
          0.86,
          1.96,
          1.74,
          0.8,
          1,
          1.14,
          1.22,
          1.46,
          0.78,
          1.19,
          1.76,
          1.3,
          1.37,
          0.8,
          1.48,
          1.17,
          1.12,
          1.68,
          1.51,
          1.18,
          1.65,
          2.05,
          1.6,
          0.58,
          1.03,
          1.38,
          1.42,
          1.69,
          0.85,
          0.86,
          0.82
         ]
        },
        {
         "hovertemplate": "cluster=0<br>xG Per Avg Match_per season=%{x}<br>On Target Shots/ Shots=%{y}<br>On Target Per Avg Match_per season=%{z}<extra></extra>",
         "legendgroup": "0",
         "marker": {
          "color": "#EF553B",
          "symbol": "circle"
         },
         "mode": "markers",
         "name": "0",
         "scene": "scene",
         "showlegend": true,
         "type": "scatter3d",
         "x": [
          0.23,
          0.61,
          0.45,
          0.34,
          0.3,
          0.35,
          0.28,
          0.41,
          0.28,
          0.54,
          0.37,
          0.48,
          0.46,
          0.39,
          0.63,
          0.32,
          0.42,
          0.41,
          0.4,
          0.4,
          0.61,
          0.47,
          0.25,
          0.47,
          0.26,
          0.18,
          0.49,
          0.24,
          0.48,
          0.27,
          0.18,
          0.59,
          0.42,
          0.35,
          0.39,
          0.45,
          0.56,
          0.41,
          0.43,
          0.77,
          0.61,
          0.33,
          0.71,
          0.58,
          0.29,
          0.34,
          0.55,
          0.62,
          0.53,
          0.28,
          0.62,
          0.62,
          0.27,
          0.97,
          0.56,
          0.34,
          0.31,
          0.16,
          0.53,
          0.38,
          0.39,
          0.45,
          0.41,
          0.23,
          0.36,
          0.49,
          0.33,
          0.48,
          0.39,
          0.27,
          0.27,
          0.63,
          0.23,
          0.51,
          0.32,
          0.55,
          0.34,
          0.62,
          0.42,
          0.23,
          0.39,
          0.41,
          0.33,
          0.57,
          0.5,
          0.31,
          0.31,
          0.26,
          0.42,
          0.48,
          0.32,
          0.55,
          0.72,
          0.66,
          0.26,
          0.65,
          0.5,
          0.47,
          0.5,
          0.38,
          0.41,
          0.41,
          0.46,
          0.53,
          0.35,
          0.42,
          0.55,
          0.32,
          0.33,
          0.37,
          0.26,
          0.59,
          0.16,
          0.57,
          0.51,
          0.29,
          0.41,
          0.49,
          0.25,
          0.32,
          0.43,
          0.62,
          0.42,
          0.56,
          0.39,
          0.18,
          0.36,
          0.38,
          0.38,
          0.33,
          0.29,
          0.78,
          0.42,
          0.38,
          0.43,
          0.45,
          0.22,
          0.34,
          0.25,
          0.49,
          0.42,
          0.35,
          0.61,
          0.37,
          0.61,
          0.36,
          0.39,
          0.23,
          0.48,
          0.42,
          0.37,
          0.52,
          0.53,
          0.39,
          0.37,
          0.31,
          0.31,
          0.36,
          0.8,
          0.39,
          0.4,
          0.43,
          0.29,
          0.36,
          0.23,
          0.76,
          0.57,
          0.29,
          0.36,
          0.29,
          0.43,
          0.55,
          0.52,
          0.67,
          0.42,
          0.35,
          0.59,
          0.41,
          0.4,
          0.68,
          0.49,
          0.4,
          0.44,
          0.46,
          0.29,
          0.63,
          0.28,
          0.28,
          0.39,
          0.37,
          0.44,
          0.28,
          0.58,
          0.35,
          0.73,
          0.56,
          0.28,
          0.4,
          0.6,
          0.34,
          0.63,
          0.28,
          0.78,
          0.21,
          0.3,
          0.54,
          0.54,
          0.21,
          0.33,
          0.32,
          0.39,
          0.47,
          0.47,
          0.58,
          0.45,
          0.24,
          0.38,
          0.79,
          0.5,
          0.27,
          0.41,
          0.57,
          0.4,
          0.44,
          0.56,
          0.52,
          0.27,
          0.31,
          0.46,
          0.4,
          0.31,
          0.46,
          1.04,
          0.32,
          0.34,
          0.42,
          0.34,
          0.42,
          0.53,
          0.27,
          0.56,
          0.31,
          0.75,
          0.4,
          0.47,
          0.47,
          0.39,
          0.35,
          0.29,
          0.46,
          0.5,
          0.4,
          0.21,
          0.27,
          0.84,
          0.51,
          0.34,
          0.53,
          0.35,
          0.31,
          0.77,
          0.35,
          0.38,
          0.6,
          0.42,
          0.4,
          0.53,
          0.48,
          0.43,
          0.44,
          0.58,
          0.33,
          0.43,
          0.34,
          0.43,
          0.45,
          0.46,
          0.47,
          0.5,
          0.59,
          0.33,
          0.29,
          0.4,
          0.88,
          0.45
         ],
         "y": [
          0.36,
          0.53,
          0.47,
          0.51,
          0.45,
          0.44,
          0.43,
          0.35,
          0.36,
          0.38,
          0.43,
          0.39,
          0.44,
          0.37,
          0.52,
          0.42,
          0.37,
          0.31,
          0.4,
          0.49,
          0.53,
          0.46,
          0.63,
          0.44,
          0.29,
          0.3,
          0.46,
          0.49,
          0.42,
          0.63,
          0.41,
          0.44,
          0.48,
          0.42,
          0.4,
          0.4,
          0.57,
          0.4,
          0.34,
          0.45,
          0.41,
          0.49,
          0.48,
          0.57,
          0.42,
          0.27,
          0.48,
          0.44,
          0.36,
          0.44,
          0.49,
          0.5,
          0.4,
          0.41,
          0.51,
          0.68,
          0.39,
          0.35,
          0.4,
          0.44,
          0.47,
          0.45,
          0.48,
          0.31,
          0.39,
          0.37,
          0.66,
          0.46,
          0.41,
          0.39,
          0.41,
          0.51,
          0.36,
          0.51,
          0.45,
          0.41,
          0.44,
          0.43,
          0.47,
          0.66,
          0.34,
          0.43,
          0.52,
          0.43,
          0.44,
          0.43,
          0.48,
          0.69,
          0.62,
          0.48,
          0.4,
          0.43,
          0.49,
          0.46,
          0.31,
          0.41,
          0.4,
          0.39,
          0.36,
          0.36,
          0.37,
          0.39,
          0.55,
          0.53,
          0.57,
          0.5,
          0.46,
          0.38,
          0.36,
          0.41,
          0.45,
          0.45,
          0.35,
          0.57,
          0.48,
          0.47,
          0.44,
          0.41,
          0.33,
          0.53,
          0.41,
          0.54,
          0.31,
          0.49,
          0.45,
          0.39,
          0.46,
          0.47,
          0.41,
          0.66,
          0.5,
          0.41,
          0.34,
          0.38,
          0.41,
          0.49,
          0.27,
          0.42,
          0.51,
          0.33,
          0.47,
          0.47,
          0.46,
          0.6,
          0.47,
          0.69,
          0.4,
          0.31,
          0.43,
          0.54,
          0.46,
          0.44,
          0.35,
          0.4,
          0.41,
          0.53,
          0.36,
          0.39,
          0.47,
          0.35,
          0.42,
          0.43,
          0.42,
          0.42,
          0.31,
          0.46,
          0.43,
          0.42,
          0.42,
          0.55,
          0.33,
          0.37,
          0.5,
          0.46,
          0.64,
          0.36,
          0.54,
          0.39,
          0.51,
          0.48,
          0.31,
          0.35,
          0.6,
          0.4,
          0.64,
          0.4,
          0.34,
          0.4,
          0.39,
          0.32,
          0.46,
          0.4,
          0.48,
          0.46,
          0.43,
          0.44,
          0.57,
          0.37,
          0.5,
          0.39,
          0.46,
          0.36,
          0.46,
          0.42,
          0.44,
          0.51,
          0.68,
          0.37,
          0.51,
          0.41,
          0.41,
          0.41,
          0.47,
          0.43,
          0.4,
          0.29,
          0.34,
          0.51,
          0.47,
          0.57,
          0.41,
          0.43,
          0.41,
          0.35,
          0.4,
          0.41,
          0.31,
          0.4,
          0.46,
          0.34,
          0.35,
          0.45,
          0.47,
          0.42,
          0.47,
          0.4,
          0.45,
          0.32,
          0.41,
          0.45,
          0.42,
          0.35,
          0.47,
          0.37,
          0.36,
          0.46,
          0.46,
          0.47,
          0.41,
          0.57,
          0.48,
          0.42,
          0.37,
          0.41,
          0.36,
          0.42,
          0.43,
          0.33,
          0.45,
          0.43,
          0.4,
          0.44,
          0.51,
          0.46,
          0.5,
          0.38,
          0.47,
          0.38,
          0.39,
          0.64,
          0.41,
          0.41,
          0.54,
          0.38,
          0.47,
          0.44,
          0.33,
          0.4,
          0.52,
          0.5,
          0.48,
          0.38,
          0.41,
          0.43,
          0.32
         ],
         "z": [
          0.79,
          1.72,
          1.48,
          1.91,
          1.16,
          1.06,
          0.59,
          1,
          1.35,
          1.38,
          1.34,
          1.1,
          1.42,
          1.09,
          1.92,
          0.78,
          1.22,
          1.18,
          0.72,
          1.33,
          1.64,
          1.3,
          2.62,
          1.68,
          0.84,
          0.59,
          1.11,
          0.83,
          1.11,
          1.77,
          0.75,
          1.28,
          0.8,
          1.64,
          0.87,
          1.13,
          1.46,
          0.74,
          1.04,
          2.28,
          1.33,
          0.91,
          1.53,
          1.5,
          1.11,
          1.07,
          1.36,
          1.05,
          1.09,
          0.77,
          1.9,
          1.27,
          1.13,
          2.59,
          1.66,
          1.76,
          0.96,
          0.78,
          1.17,
          1.16,
          1.06,
          1.28,
          1.62,
          0.56,
          1,
          1.21,
          1.87,
          1.62,
          1.02,
          0.87,
          1.2,
          1.54,
          0.75,
          2.07,
          1.17,
          1.38,
          1.14,
          1.94,
          1.08,
          1.26,
          1.15,
          0.85,
          1.3,
          1.6,
          1.44,
          0.92,
          0.93,
          1.19,
          1.74,
          1.23,
          1.16,
          1.08,
          1.69,
          1.65,
          0.82,
          1.62,
          1.14,
          1.2,
          1.08,
          0.94,
          0.98,
          0.74,
          2.02,
          1.29,
          1.1,
          1.25,
          1.05,
          0.95,
          0.79,
          1.38,
          0.74,
          1.63,
          0.6,
          1.42,
          1.25,
          1.12,
          1,
          1.74,
          1.03,
          0.94,
          0.84,
          1.28,
          0.84,
          1.3,
          1.09,
          0.82,
          0.75,
          0.92,
          0.78,
          1.65,
          0.91,
          1.62,
          0.95,
          0.83,
          1.71,
          1.29,
          0.69,
          1.03,
          0.86,
          1.17,
          1.3,
          1.14,
          1.57,
          1.19,
          1.53,
          2.24,
          1.19,
          0.99,
          1.31,
          1.32,
          1.02,
          1.57,
          1.62,
          0.79,
          1.22,
          0.84,
          1.11,
          1.1,
          2.51,
          0.77,
          2.07,
          1.17,
          1.28,
          1.3,
          0.85,
          1.86,
          1.7,
          0.62,
          1.25,
          0.76,
          0.78,
          1.12,
          1.38,
          1.48,
          1.49,
          1.38,
          1.45,
          0.88,
          1.23,
          1.44,
          1.01,
          1.16,
          1.32,
          0.98,
          1.62,
          1.12,
          0.72,
          0.96,
          1.3,
          0.95,
          1.14,
          0.9,
          1.79,
          0.89,
          1.27,
          1.38,
          1.27,
          0.87,
          1.36,
          0.96,
          0.99,
          0.79,
          1.83,
          0.8,
          0.9,
          1.61,
          2.19,
          0.71,
          1.58,
          0.9,
          1.02,
          1.43,
          1.44,
          1.47,
          1.78,
          0.72,
          1.47,
          1.69,
          1.24,
          0.66,
          1.18,
          1.25,
          1.03,
          1.08,
          1.45,
          1.51,
          0.84,
          1.28,
          1.25,
          0.94,
          0.92,
          1.29,
          2.28,
          1.27,
          1.08,
          0.98,
          0.94,
          0.83,
          1.3,
          0.77,
          1.22,
          1.3,
          1.5,
          0.99,
          1.4,
          1.23,
          0.96,
          1.07,
          1.54,
          1.25,
          1.07,
          0.89,
          1.07,
          0.85,
          1.74,
          1.24,
          0.52,
          1.05,
          1.35,
          1.29,
          1.4,
          1.08,
          0.73,
          1.33,
          2.03,
          1.02,
          1.61,
          1.07,
          1.19,
          1.58,
          1.37,
          1.07,
          1.23,
          1.14,
          1.08,
          1.28,
          0.96,
          1.05,
          1.29,
          1.34,
          1.1,
          0.86,
          1,
          2.17,
          1.08
         ]
        }
       ],
       "layout": {
        "legend": {
         "title": {
          "text": "cluster"
         },
         "tracegroupgap": 0
        },
        "margin": {
         "t": 60
        },
        "scene": {
         "domain": {
          "x": [
           0,
           1
          ],
          "y": [
           0,
           1
          ]
         },
         "xaxis": {
          "title": {
           "text": "xG Per Avg Match_per season"
          }
         },
         "yaxis": {
          "title": {
           "text": "On Target Shots/ Shots"
          }
         },
         "zaxis": {
          "title": {
           "text": "On Target Per Avg Match_per season"
          }
         }
        },
        "template": {
         "data": {
          "bar": [
           {
            "error_x": {
             "color": "#2a3f5f"
            },
            "error_y": {
             "color": "#2a3f5f"
            },
            "marker": {
             "line": {
              "color": "#E5ECF6",
              "width": 0.5
             },
             "pattern": {
              "fillmode": "overlay",
              "size": 10,
              "solidity": 0.2
             }
            },
            "type": "bar"
           }
          ],
          "barpolar": [
           {
            "marker": {
             "line": {
              "color": "#E5ECF6",
              "width": 0.5
             },
             "pattern": {
              "fillmode": "overlay",
              "size": 10,
              "solidity": 0.2
             }
            },
            "type": "barpolar"
           }
          ],
          "carpet": [
           {
            "aaxis": {
             "endlinecolor": "#2a3f5f",
             "gridcolor": "white",
             "linecolor": "white",
             "minorgridcolor": "white",
             "startlinecolor": "#2a3f5f"
            },
            "baxis": {
             "endlinecolor": "#2a3f5f",
             "gridcolor": "white",
             "linecolor": "white",
             "minorgridcolor": "white",
             "startlinecolor": "#2a3f5f"
            },
            "type": "carpet"
           }
          ],
          "choropleth": [
           {
            "colorbar": {
             "outlinewidth": 0,
             "ticks": ""
            },
            "type": "choropleth"
           }
          ],
          "contour": [
           {
            "colorbar": {
             "outlinewidth": 0,
             "ticks": ""
            },
            "colorscale": [
             [
              0,
              "#0d0887"
             ],
             [
              0.1111111111111111,
              "#46039f"
             ],
             [
              0.2222222222222222,
              "#7201a8"
             ],
             [
              0.3333333333333333,
              "#9c179e"
             ],
             [
              0.4444444444444444,
              "#bd3786"
             ],
             [
              0.5555555555555556,
              "#d8576b"
             ],
             [
              0.6666666666666666,
              "#ed7953"
             ],
             [
              0.7777777777777778,
              "#fb9f3a"
             ],
             [
              0.8888888888888888,
              "#fdca26"
             ],
             [
              1,
              "#f0f921"
             ]
            ],
            "type": "contour"
           }
          ],
          "contourcarpet": [
           {
            "colorbar": {
             "outlinewidth": 0,
             "ticks": ""
            },
            "type": "contourcarpet"
           }
          ],
          "heatmap": [
           {
            "colorbar": {
             "outlinewidth": 0,
             "ticks": ""
            },
            "colorscale": [
             [
              0,
              "#0d0887"
             ],
             [
              0.1111111111111111,
              "#46039f"
             ],
             [
              0.2222222222222222,
              "#7201a8"
             ],
             [
              0.3333333333333333,
              "#9c179e"
             ],
             [
              0.4444444444444444,
              "#bd3786"
             ],
             [
              0.5555555555555556,
              "#d8576b"
             ],
             [
              0.6666666666666666,
              "#ed7953"
             ],
             [
              0.7777777777777778,
              "#fb9f3a"
             ],
             [
              0.8888888888888888,
              "#fdca26"
             ],
             [
              1,
              "#f0f921"
             ]
            ],
            "type": "heatmap"
           }
          ],
          "heatmapgl": [
           {
            "colorbar": {
             "outlinewidth": 0,
             "ticks": ""
            },
            "colorscale": [
             [
              0,
              "#0d0887"
             ],
             [
              0.1111111111111111,
              "#46039f"
             ],
             [
              0.2222222222222222,
              "#7201a8"
             ],
             [
              0.3333333333333333,
              "#9c179e"
             ],
             [
              0.4444444444444444,
              "#bd3786"
             ],
             [
              0.5555555555555556,
              "#d8576b"
             ],
             [
              0.6666666666666666,
              "#ed7953"
             ],
             [
              0.7777777777777778,
              "#fb9f3a"
             ],
             [
              0.8888888888888888,
              "#fdca26"
             ],
             [
              1,
              "#f0f921"
             ]
            ],
            "type": "heatmapgl"
           }
          ],
          "histogram": [
           {
            "marker": {
             "pattern": {
              "fillmode": "overlay",
              "size": 10,
              "solidity": 0.2
             }
            },
            "type": "histogram"
           }
          ],
          "histogram2d": [
           {
            "colorbar": {
             "outlinewidth": 0,
             "ticks": ""
            },
            "colorscale": [
             [
              0,
              "#0d0887"
             ],
             [
              0.1111111111111111,
              "#46039f"
             ],
             [
              0.2222222222222222,
              "#7201a8"
             ],
             [
              0.3333333333333333,
              "#9c179e"
             ],
             [
              0.4444444444444444,
              "#bd3786"
             ],
             [
              0.5555555555555556,
              "#d8576b"
             ],
             [
              0.6666666666666666,
              "#ed7953"
             ],
             [
              0.7777777777777778,
              "#fb9f3a"
             ],
             [
              0.8888888888888888,
              "#fdca26"
             ],
             [
              1,
              "#f0f921"
             ]
            ],
            "type": "histogram2d"
           }
          ],
          "histogram2dcontour": [
           {
            "colorbar": {
             "outlinewidth": 0,
             "ticks": ""
            },
            "colorscale": [
             [
              0,
              "#0d0887"
             ],
             [
              0.1111111111111111,
              "#46039f"
             ],
             [
              0.2222222222222222,
              "#7201a8"
             ],
             [
              0.3333333333333333,
              "#9c179e"
             ],
             [
              0.4444444444444444,
              "#bd3786"
             ],
             [
              0.5555555555555556,
              "#d8576b"
             ],
             [
              0.6666666666666666,
              "#ed7953"
             ],
             [
              0.7777777777777778,
              "#fb9f3a"
             ],
             [
              0.8888888888888888,
              "#fdca26"
             ],
             [
              1,
              "#f0f921"
             ]
            ],
            "type": "histogram2dcontour"
           }
          ],
          "mesh3d": [
           {
            "colorbar": {
             "outlinewidth": 0,
             "ticks": ""
            },
            "type": "mesh3d"
           }
          ],
          "parcoords": [
           {
            "line": {
             "colorbar": {
              "outlinewidth": 0,
              "ticks": ""
             }
            },
            "type": "parcoords"
           }
          ],
          "pie": [
           {
            "automargin": true,
            "type": "pie"
           }
          ],
          "scatter": [
           {
            "marker": {
             "colorbar": {
              "outlinewidth": 0,
              "ticks": ""
             }
            },
            "type": "scatter"
           }
          ],
          "scatter3d": [
           {
            "line": {
             "colorbar": {
              "outlinewidth": 0,
              "ticks": ""
             }
            },
            "marker": {
             "colorbar": {
              "outlinewidth": 0,
              "ticks": ""
             }
            },
            "type": "scatter3d"
           }
          ],
          "scattercarpet": [
           {
            "marker": {
             "colorbar": {
              "outlinewidth": 0,
              "ticks": ""
             }
            },
            "type": "scattercarpet"
           }
          ],
          "scattergeo": [
           {
            "marker": {
             "colorbar": {
              "outlinewidth": 0,
              "ticks": ""
             }
            },
            "type": "scattergeo"
           }
          ],
          "scattergl": [
           {
            "marker": {
             "colorbar": {
              "outlinewidth": 0,
              "ticks": ""
             }
            },
            "type": "scattergl"
           }
          ],
          "scattermapbox": [
           {
            "marker": {
             "colorbar": {
              "outlinewidth": 0,
              "ticks": ""
             }
            },
            "type": "scattermapbox"
           }
          ],
          "scatterpolar": [
           {
            "marker": {
             "colorbar": {
              "outlinewidth": 0,
              "ticks": ""
             }
            },
            "type": "scatterpolar"
           }
          ],
          "scatterpolargl": [
           {
            "marker": {
             "colorbar": {
              "outlinewidth": 0,
              "ticks": ""
             }
            },
            "type": "scatterpolargl"
           }
          ],
          "scatterternary": [
           {
            "marker": {
             "colorbar": {
              "outlinewidth": 0,
              "ticks": ""
             }
            },
            "type": "scatterternary"
           }
          ],
          "surface": [
           {
            "colorbar": {
             "outlinewidth": 0,
             "ticks": ""
            },
            "colorscale": [
             [
              0,
              "#0d0887"
             ],
             [
              0.1111111111111111,
              "#46039f"
             ],
             [
              0.2222222222222222,
              "#7201a8"
             ],
             [
              0.3333333333333333,
              "#9c179e"
             ],
             [
              0.4444444444444444,
              "#bd3786"
             ],
             [
              0.5555555555555556,
              "#d8576b"
             ],
             [
              0.6666666666666666,
              "#ed7953"
             ],
             [
              0.7777777777777778,
              "#fb9f3a"
             ],
             [
              0.8888888888888888,
              "#fdca26"
             ],
             [
              1,
              "#f0f921"
             ]
            ],
            "type": "surface"
           }
          ],
          "table": [
           {
            "cells": {
             "fill": {
              "color": "#EBF0F8"
             },
             "line": {
              "color": "white"
             }
            },
            "header": {
             "fill": {
              "color": "#C8D4E3"
             },
             "line": {
              "color": "white"
             }
            },
            "type": "table"
           }
          ]
         },
         "layout": {
          "annotationdefaults": {
           "arrowcolor": "#2a3f5f",
           "arrowhead": 0,
           "arrowwidth": 1
          },
          "autotypenumbers": "strict",
          "coloraxis": {
           "colorbar": {
            "outlinewidth": 0,
            "ticks": ""
           }
          },
          "colorscale": {
           "diverging": [
            [
             0,
             "#8e0152"
            ],
            [
             0.1,
             "#c51b7d"
            ],
            [
             0.2,
             "#de77ae"
            ],
            [
             0.3,
             "#f1b6da"
            ],
            [
             0.4,
             "#fde0ef"
            ],
            [
             0.5,
             "#f7f7f7"
            ],
            [
             0.6,
             "#e6f5d0"
            ],
            [
             0.7,
             "#b8e186"
            ],
            [
             0.8,
             "#7fbc41"
            ],
            [
             0.9,
             "#4d9221"
            ],
            [
             1,
             "#276419"
            ]
           ],
           "sequential": [
            [
             0,
             "#0d0887"
            ],
            [
             0.1111111111111111,
             "#46039f"
            ],
            [
             0.2222222222222222,
             "#7201a8"
            ],
            [
             0.3333333333333333,
             "#9c179e"
            ],
            [
             0.4444444444444444,
             "#bd3786"
            ],
            [
             0.5555555555555556,
             "#d8576b"
            ],
            [
             0.6666666666666666,
             "#ed7953"
            ],
            [
             0.7777777777777778,
             "#fb9f3a"
            ],
            [
             0.8888888888888888,
             "#fdca26"
            ],
            [
             1,
             "#f0f921"
            ]
           ],
           "sequentialminus": [
            [
             0,
             "#0d0887"
            ],
            [
             0.1111111111111111,
             "#46039f"
            ],
            [
             0.2222222222222222,
             "#7201a8"
            ],
            [
             0.3333333333333333,
             "#9c179e"
            ],
            [
             0.4444444444444444,
             "#bd3786"
            ],
            [
             0.5555555555555556,
             "#d8576b"
            ],
            [
             0.6666666666666666,
             "#ed7953"
            ],
            [
             0.7777777777777778,
             "#fb9f3a"
            ],
            [
             0.8888888888888888,
             "#fdca26"
            ],
            [
             1,
             "#f0f921"
            ]
           ]
          },
          "colorway": [
           "#636efa",
           "#EF553B",
           "#00cc96",
           "#ab63fa",
           "#FFA15A",
           "#19d3f3",
           "#FF6692",
           "#B6E880",
           "#FF97FF",
           "#FECB52"
          ],
          "font": {
           "color": "#2a3f5f"
          },
          "geo": {
           "bgcolor": "white",
           "lakecolor": "white",
           "landcolor": "#E5ECF6",
           "showlakes": true,
           "showland": true,
           "subunitcolor": "white"
          },
          "hoverlabel": {
           "align": "left"
          },
          "hovermode": "closest",
          "mapbox": {
           "style": "light"
          },
          "paper_bgcolor": "white",
          "plot_bgcolor": "#E5ECF6",
          "polar": {
           "angularaxis": {
            "gridcolor": "white",
            "linecolor": "white",
            "ticks": ""
           },
           "bgcolor": "#E5ECF6",
           "radialaxis": {
            "gridcolor": "white",
            "linecolor": "white",
            "ticks": ""
           }
          },
          "scene": {
           "xaxis": {
            "backgroundcolor": "#E5ECF6",
            "gridcolor": "white",
            "gridwidth": 2,
            "linecolor": "white",
            "showbackground": true,
            "ticks": "",
            "zerolinecolor": "white"
           },
           "yaxis": {
            "backgroundcolor": "#E5ECF6",
            "gridcolor": "white",
            "gridwidth": 2,
            "linecolor": "white",
            "showbackground": true,
            "ticks": "",
            "zerolinecolor": "white"
           },
           "zaxis": {
            "backgroundcolor": "#E5ECF6",
            "gridcolor": "white",
            "gridwidth": 2,
            "linecolor": "white",
            "showbackground": true,
            "ticks": "",
            "zerolinecolor": "white"
           }
          },
          "shapedefaults": {
           "line": {
            "color": "#2a3f5f"
           }
          },
          "ternary": {
           "aaxis": {
            "gridcolor": "white",
            "linecolor": "white",
            "ticks": ""
           },
           "baxis": {
            "gridcolor": "white",
            "linecolor": "white",
            "ticks": ""
           },
           "bgcolor": "#E5ECF6",
           "caxis": {
            "gridcolor": "white",
            "linecolor": "white",
            "ticks": ""
           }
          },
          "title": {
           "x": 0.05
          },
          "xaxis": {
           "automargin": true,
           "gridcolor": "white",
           "linecolor": "white",
           "ticks": "",
           "title": {
            "standoff": 15
           },
           "zerolinecolor": "white",
           "zerolinewidth": 2
          },
          "yaxis": {
           "automargin": true,
           "gridcolor": "white",
           "linecolor": "white",
           "ticks": "",
           "title": {
            "standoff": 15
           },
           "zerolinecolor": "white",
           "zerolinewidth": 2
          }
         }
        }
       }
      },
      "text/html": [
       "<div>                            <div id=\"b08ad61b-d975-4908-8919-05b10258affc\" class=\"plotly-graph-div\" style=\"height:525px; width:100%;\"></div>            <script type=\"text/javascript\">                require([\"plotly\"], function(Plotly) {                    window.PLOTLYENV=window.PLOTLYENV || {};                                    if (document.getElementById(\"b08ad61b-d975-4908-8919-05b10258affc\")) {                    Plotly.newPlot(                        \"b08ad61b-d975-4908-8919-05b10258affc\",                        [{\"hovertemplate\":\"cluster=1<br>xG Per Avg Match_per season=%{x}<br>On Target Shots/ Shots=%{y}<br>On Target Per Avg Match_per season=%{z}<extra></extra>\",\"legendgroup\":\"1\",\"marker\":{\"color\":\"#636efa\",\"symbol\":\"circle\"},\"mode\":\"markers\",\"name\":\"1\",\"scene\":\"scene\",\"showlegend\":true,\"x\":[0.22,0.52,0.67,0.8,0.63,0.35,0.91,0.25,0.25,0.74,0.37,0.56,0.2,0.45,0.38,0.42,0.27,0.42,0.58,0.45,0.42,0.33,0.65,0.47,0.28,0.67,0.5,0.32,0.48,0.16,0.48,0.62,0.53,0.17,0.47,0.33,0.24,0.48,0.27,0.29,0.26,0.09,0.81,0.37,0.24,0.78,0.53,0.45,0.32,0.74,0.36,0.52,0.7,0.91,0.23,0.25,0.41,0.8,0.46,0.45,0.19,0.36,0.5,0.18,0.75,0.55,0.28,0.56,0.38,0.94,0.62,0.46,0.67,0.41,0.49,0.68,0.7,0.41,0.22,0.6,0.31,0.07,0.33,0.44,0.61,0.29,0.42,0.57,0.24,0.43,0.68,0.33,0.58,0.42,0.34,0.7,1.1,0.45,0.79,0.34,0.54,0.36,0.52,0.52,0.36,0.32,0.18,0.93,0.48,0.32,0.57,0.33,0.38,0.45,0.36,0.67,0.66,0.79,0.72,0.44,0.52,0.26,0.5,0.7,0.37,0.69,0.77,0.66,0.41,0.45,0.53,0.47,0.5,0.35,0.44,0.32,0.27,0.4,0.54,0.33,0.52,0.35,0.57,0.55,0.43,0.75,0.36,0.31,0.42,0.75,0.44,0.37,0.25,0.16,0.41,0.37,0.53,0.62,0.68],\"y\":[0.54,0.54,0.46,0.56,0.47,0.38,0.5,0.28,0.5,0.41,0.43,0.48,0.25,0.46,0.5,0.47,0.4,0.5,0.51,0.83,0.57,0.47,0.48,0.46,0.42,0.39,0.43,0.3,0.43,0.28,0.61,0.45,0.62,0.3,0.52,0.53,0.36,0.32,0.4,0.36,0.42,0.45,0.52,0.6,0.39,0.62,0.46,0.55,0.43,0.54,0.35,0.53,0.59,0.42,0.4,0.5,0.5,0.5,0.8,0.49,0.56,0.36,0.33,0.64,0.4,0.6,0.4,0.4,0.35,0.58,0.47,0.44,0.47,0.44,0.61,0.43,0.5,0.38,0.47,0.38,0.35,0.7,0.23,0.49,0.43,0.45,0.33,0.29,0.41,0.39,0.45,0.48,0.46,0.47,0.42,0.53,0.58,0.55,0.44,0.38,0.55,0.32,0.55,0.42,0.46,0.45,0.37,0.43,0.62,0.39,0.33,0.44,0.58,0.38,0.46,0.36,0.55,0.44,0.47,0.48,0.41,0.5,0.51,0.41,0.23,0.51,0.43,0.44,0.38,0.62,0.5,0.29,0.43,0.41,0.46,0.45,0.39,0.46,0.48,0.42,0.6,0.31,0.47,0.47,0.38,0.61,0.48,0.47,0.48,0.52,0.5,0.39,0.4,0.57,0.51,0.47,0.39,0.27,0.29],\"z\":[1.48,1.08,1.21,1.7,1.25,1.05,1.87,0.29,1.04,1.54,1.16,1.7,0.54,1.31,1.47,1.27,1.32,1.0,1.51,1.71,1.04,1.39,1.48,1.2,1.42,1.25,1.83,0.73,1.48,0.24,1.79,0.97,0.79,0.5,1.51,1.1,1.09,0.92,0.92,1.21,0.91,0.56,1.84,1.29,0.83,1.55,1.32,1.97,1.5,2.34,1.22,1.4,1.78,1.2,0.48,0.4,1.19,1.78,0.65,1.57,0.84,1.06,0.73,0.88,1.46,1.21,0.72,0.94,1.56,1.97,1.42,1.45,1.61,1.79,1.84,1.77,1.47,1.21,0.84,1.38,0.98,0.69,0.56,1.29,1.42,1.2,1.04,0.89,0.94,0.86,1.39,1.18,1.25,1.33,0.96,1.72,2.89,1.41,1.5,1.59,1.36,1.1,1.86,0.76,1.02,0.86,0.67,2.68,1.0,1.01,1.42,0.78,1.66,1.39,0.92,1.05,2.05,1.33,1.76,1.27,1.27,0.84,1.45,0.98,1.26,1.53,1.8,1.49,0.86,1.96,1.74,0.8,1.0,1.14,1.22,1.46,0.78,1.19,1.76,1.3,1.37,0.8,1.48,1.17,1.12,1.68,1.51,1.18,1.65,2.05,1.6,0.58,1.03,1.38,1.42,1.69,0.85,0.86,0.82],\"type\":\"scatter3d\"},{\"hovertemplate\":\"cluster=0<br>xG Per Avg Match_per season=%{x}<br>On Target Shots/ Shots=%{y}<br>On Target Per Avg Match_per season=%{z}<extra></extra>\",\"legendgroup\":\"0\",\"marker\":{\"color\":\"#EF553B\",\"symbol\":\"circle\"},\"mode\":\"markers\",\"name\":\"0\",\"scene\":\"scene\",\"showlegend\":true,\"x\":[0.23,0.61,0.45,0.34,0.3,0.35,0.28,0.41,0.28,0.54,0.37,0.48,0.46,0.39,0.63,0.32,0.42,0.41,0.4,0.4,0.61,0.47,0.25,0.47,0.26,0.18,0.49,0.24,0.48,0.27,0.18,0.59,0.42,0.35,0.39,0.45,0.56,0.41,0.43,0.77,0.61,0.33,0.71,0.58,0.29,0.34,0.55,0.62,0.53,0.28,0.62,0.62,0.27,0.97,0.56,0.34,0.31,0.16,0.53,0.38,0.39,0.45,0.41,0.23,0.36,0.49,0.33,0.48,0.39,0.27,0.27,0.63,0.23,0.51,0.32,0.55,0.34,0.62,0.42,0.23,0.39,0.41,0.33,0.57,0.5,0.31,0.31,0.26,0.42,0.48,0.32,0.55,0.72,0.66,0.26,0.65,0.5,0.47,0.5,0.38,0.41,0.41,0.46,0.53,0.35,0.42,0.55,0.32,0.33,0.37,0.26,0.59,0.16,0.57,0.51,0.29,0.41,0.49,0.25,0.32,0.43,0.62,0.42,0.56,0.39,0.18,0.36,0.38,0.38,0.33,0.29,0.78,0.42,0.38,0.43,0.45,0.22,0.34,0.25,0.49,0.42,0.35,0.61,0.37,0.61,0.36,0.39,0.23,0.48,0.42,0.37,0.52,0.53,0.39,0.37,0.31,0.31,0.36,0.8,0.39,0.4,0.43,0.29,0.36,0.23,0.76,0.57,0.29,0.36,0.29,0.43,0.55,0.52,0.67,0.42,0.35,0.59,0.41,0.4,0.68,0.49,0.4,0.44,0.46,0.29,0.63,0.28,0.28,0.39,0.37,0.44,0.28,0.58,0.35,0.73,0.56,0.28,0.4,0.6,0.34,0.63,0.28,0.78,0.21,0.3,0.54,0.54,0.21,0.33,0.32,0.39,0.47,0.47,0.58,0.45,0.24,0.38,0.79,0.5,0.27,0.41,0.57,0.4,0.44,0.56,0.52,0.27,0.31,0.46,0.4,0.31,0.46,1.04,0.32,0.34,0.42,0.34,0.42,0.53,0.27,0.56,0.31,0.75,0.4,0.47,0.47,0.39,0.35,0.29,0.46,0.5,0.4,0.21,0.27,0.84,0.51,0.34,0.53,0.35,0.31,0.77,0.35,0.38,0.6,0.42,0.4,0.53,0.48,0.43,0.44,0.58,0.33,0.43,0.34,0.43,0.45,0.46,0.47,0.5,0.59,0.33,0.29,0.4,0.88,0.45],\"y\":[0.36,0.53,0.47,0.51,0.45,0.44,0.43,0.35,0.36,0.38,0.43,0.39,0.44,0.37,0.52,0.42,0.37,0.31,0.4,0.49,0.53,0.46,0.63,0.44,0.29,0.3,0.46,0.49,0.42,0.63,0.41,0.44,0.48,0.42,0.4,0.4,0.57,0.4,0.34,0.45,0.41,0.49,0.48,0.57,0.42,0.27,0.48,0.44,0.36,0.44,0.49,0.5,0.4,0.41,0.51,0.68,0.39,0.35,0.4,0.44,0.47,0.45,0.48,0.31,0.39,0.37,0.66,0.46,0.41,0.39,0.41,0.51,0.36,0.51,0.45,0.41,0.44,0.43,0.47,0.66,0.34,0.43,0.52,0.43,0.44,0.43,0.48,0.69,0.62,0.48,0.4,0.43,0.49,0.46,0.31,0.41,0.4,0.39,0.36,0.36,0.37,0.39,0.55,0.53,0.57,0.5,0.46,0.38,0.36,0.41,0.45,0.45,0.35,0.57,0.48,0.47,0.44,0.41,0.33,0.53,0.41,0.54,0.31,0.49,0.45,0.39,0.46,0.47,0.41,0.66,0.5,0.41,0.34,0.38,0.41,0.49,0.27,0.42,0.51,0.33,0.47,0.47,0.46,0.6,0.47,0.69,0.4,0.31,0.43,0.54,0.46,0.44,0.35,0.4,0.41,0.53,0.36,0.39,0.47,0.35,0.42,0.43,0.42,0.42,0.31,0.46,0.43,0.42,0.42,0.55,0.33,0.37,0.5,0.46,0.64,0.36,0.54,0.39,0.51,0.48,0.31,0.35,0.6,0.4,0.64,0.4,0.34,0.4,0.39,0.32,0.46,0.4,0.48,0.46,0.43,0.44,0.57,0.37,0.5,0.39,0.46,0.36,0.46,0.42,0.44,0.51,0.68,0.37,0.51,0.41,0.41,0.41,0.47,0.43,0.4,0.29,0.34,0.51,0.47,0.57,0.41,0.43,0.41,0.35,0.4,0.41,0.31,0.4,0.46,0.34,0.35,0.45,0.47,0.42,0.47,0.4,0.45,0.32,0.41,0.45,0.42,0.35,0.47,0.37,0.36,0.46,0.46,0.47,0.41,0.57,0.48,0.42,0.37,0.41,0.36,0.42,0.43,0.33,0.45,0.43,0.4,0.44,0.51,0.46,0.5,0.38,0.47,0.38,0.39,0.64,0.41,0.41,0.54,0.38,0.47,0.44,0.33,0.4,0.52,0.5,0.48,0.38,0.41,0.43,0.32],\"z\":[0.79,1.72,1.48,1.91,1.16,1.06,0.59,1.0,1.35,1.38,1.34,1.1,1.42,1.09,1.92,0.78,1.22,1.18,0.72,1.33,1.64,1.3,2.62,1.68,0.84,0.59,1.11,0.83,1.11,1.77,0.75,1.28,0.8,1.64,0.87,1.13,1.46,0.74,1.04,2.28,1.33,0.91,1.53,1.5,1.11,1.07,1.36,1.05,1.09,0.77,1.9,1.27,1.13,2.59,1.66,1.76,0.96,0.78,1.17,1.16,1.06,1.28,1.62,0.56,1.0,1.21,1.87,1.62,1.02,0.87,1.2,1.54,0.75,2.07,1.17,1.38,1.14,1.94,1.08,1.26,1.15,0.85,1.3,1.6,1.44,0.92,0.93,1.19,1.74,1.23,1.16,1.08,1.69,1.65,0.82,1.62,1.14,1.2,1.08,0.94,0.98,0.74,2.02,1.29,1.1,1.25,1.05,0.95,0.79,1.38,0.74,1.63,0.6,1.42,1.25,1.12,1.0,1.74,1.03,0.94,0.84,1.28,0.84,1.3,1.09,0.82,0.75,0.92,0.78,1.65,0.91,1.62,0.95,0.83,1.71,1.29,0.69,1.03,0.86,1.17,1.3,1.14,1.57,1.19,1.53,2.24,1.19,0.99,1.31,1.32,1.02,1.57,1.62,0.79,1.22,0.84,1.11,1.1,2.51,0.77,2.07,1.17,1.28,1.3,0.85,1.86,1.7,0.62,1.25,0.76,0.78,1.12,1.38,1.48,1.49,1.38,1.45,0.88,1.23,1.44,1.01,1.16,1.32,0.98,1.62,1.12,0.72,0.96,1.3,0.95,1.14,0.9,1.79,0.89,1.27,1.38,1.27,0.87,1.36,0.96,0.99,0.79,1.83,0.8,0.9,1.61,2.19,0.71,1.58,0.9,1.02,1.43,1.44,1.47,1.78,0.72,1.47,1.69,1.24,0.66,1.18,1.25,1.03,1.08,1.45,1.51,0.84,1.28,1.25,0.94,0.92,1.29,2.28,1.27,1.08,0.98,0.94,0.83,1.3,0.77,1.22,1.3,1.5,0.99,1.4,1.23,0.96,1.07,1.54,1.25,1.07,0.89,1.07,0.85,1.74,1.24,0.52,1.05,1.35,1.29,1.4,1.08,0.73,1.33,2.03,1.02,1.61,1.07,1.19,1.58,1.37,1.07,1.23,1.14,1.08,1.28,0.96,1.05,1.29,1.34,1.1,0.86,1.0,2.17,1.08],\"type\":\"scatter3d\"}],                        {\"template\":{\"data\":{\"bar\":[{\"error_x\":{\"color\":\"#2a3f5f\"},\"error_y\":{\"color\":\"#2a3f5f\"},\"marker\":{\"line\":{\"color\":\"#E5ECF6\",\"width\":0.5},\"pattern\":{\"fillmode\":\"overlay\",\"size\":10,\"solidity\":0.2}},\"type\":\"bar\"}],\"barpolar\":[{\"marker\":{\"line\":{\"color\":\"#E5ECF6\",\"width\":0.5},\"pattern\":{\"fillmode\":\"overlay\",\"size\":10,\"solidity\":0.2}},\"type\":\"barpolar\"}],\"carpet\":[{\"aaxis\":{\"endlinecolor\":\"#2a3f5f\",\"gridcolor\":\"white\",\"linecolor\":\"white\",\"minorgridcolor\":\"white\",\"startlinecolor\":\"#2a3f5f\"},\"baxis\":{\"endlinecolor\":\"#2a3f5f\",\"gridcolor\":\"white\",\"linecolor\":\"white\",\"minorgridcolor\":\"white\",\"startlinecolor\":\"#2a3f5f\"},\"type\":\"carpet\"}],\"choropleth\":[{\"colorbar\":{\"outlinewidth\":0,\"ticks\":\"\"},\"type\":\"choropleth\"}],\"contour\":[{\"colorbar\":{\"outlinewidth\":0,\"ticks\":\"\"},\"colorscale\":[[0.0,\"#0d0887\"],[0.1111111111111111,\"#46039f\"],[0.2222222222222222,\"#7201a8\"],[0.3333333333333333,\"#9c179e\"],[0.4444444444444444,\"#bd3786\"],[0.5555555555555556,\"#d8576b\"],[0.6666666666666666,\"#ed7953\"],[0.7777777777777778,\"#fb9f3a\"],[0.8888888888888888,\"#fdca26\"],[1.0,\"#f0f921\"]],\"type\":\"contour\"}],\"contourcarpet\":[{\"colorbar\":{\"outlinewidth\":0,\"ticks\":\"\"},\"type\":\"contourcarpet\"}],\"heatmap\":[{\"colorbar\":{\"outlinewidth\":0,\"ticks\":\"\"},\"colorscale\":[[0.0,\"#0d0887\"],[0.1111111111111111,\"#46039f\"],[0.2222222222222222,\"#7201a8\"],[0.3333333333333333,\"#9c179e\"],[0.4444444444444444,\"#bd3786\"],[0.5555555555555556,\"#d8576b\"],[0.6666666666666666,\"#ed7953\"],[0.7777777777777778,\"#fb9f3a\"],[0.8888888888888888,\"#fdca26\"],[1.0,\"#f0f921\"]],\"type\":\"heatmap\"}],\"heatmapgl\":[{\"colorbar\":{\"outlinewidth\":0,\"ticks\":\"\"},\"colorscale\":[[0.0,\"#0d0887\"],[0.1111111111111111,\"#46039f\"],[0.2222222222222222,\"#7201a8\"],[0.3333333333333333,\"#9c179e\"],[0.4444444444444444,\"#bd3786\"],[0.5555555555555556,\"#d8576b\"],[0.6666666666666666,\"#ed7953\"],[0.7777777777777778,\"#fb9f3a\"],[0.8888888888888888,\"#fdca26\"],[1.0,\"#f0f921\"]],\"type\":\"heatmapgl\"}],\"histogram\":[{\"marker\":{\"pattern\":{\"fillmode\":\"overlay\",\"size\":10,\"solidity\":0.2}},\"type\":\"histogram\"}],\"histogram2d\":[{\"colorbar\":{\"outlinewidth\":0,\"ticks\":\"\"},\"colorscale\":[[0.0,\"#0d0887\"],[0.1111111111111111,\"#46039f\"],[0.2222222222222222,\"#7201a8\"],[0.3333333333333333,\"#9c179e\"],[0.4444444444444444,\"#bd3786\"],[0.5555555555555556,\"#d8576b\"],[0.6666666666666666,\"#ed7953\"],[0.7777777777777778,\"#fb9f3a\"],[0.8888888888888888,\"#fdca26\"],[1.0,\"#f0f921\"]],\"type\":\"histogram2d\"}],\"histogram2dcontour\":[{\"colorbar\":{\"outlinewidth\":0,\"ticks\":\"\"},\"colorscale\":[[0.0,\"#0d0887\"],[0.1111111111111111,\"#46039f\"],[0.2222222222222222,\"#7201a8\"],[0.3333333333333333,\"#9c179e\"],[0.4444444444444444,\"#bd3786\"],[0.5555555555555556,\"#d8576b\"],[0.6666666666666666,\"#ed7953\"],[0.7777777777777778,\"#fb9f3a\"],[0.8888888888888888,\"#fdca26\"],[1.0,\"#f0f921\"]],\"type\":\"histogram2dcontour\"}],\"mesh3d\":[{\"colorbar\":{\"outlinewidth\":0,\"ticks\":\"\"},\"type\":\"mesh3d\"}],\"parcoords\":[{\"line\":{\"colorbar\":{\"outlinewidth\":0,\"ticks\":\"\"}},\"type\":\"parcoords\"}],\"pie\":[{\"automargin\":true,\"type\":\"pie\"}],\"scatter\":[{\"marker\":{\"colorbar\":{\"outlinewidth\":0,\"ticks\":\"\"}},\"type\":\"scatter\"}],\"scatter3d\":[{\"line\":{\"colorbar\":{\"outlinewidth\":0,\"ticks\":\"\"}},\"marker\":{\"colorbar\":{\"outlinewidth\":0,\"ticks\":\"\"}},\"type\":\"scatter3d\"}],\"scattercarpet\":[{\"marker\":{\"colorbar\":{\"outlinewidth\":0,\"ticks\":\"\"}},\"type\":\"scattercarpet\"}],\"scattergeo\":[{\"marker\":{\"colorbar\":{\"outlinewidth\":0,\"ticks\":\"\"}},\"type\":\"scattergeo\"}],\"scattergl\":[{\"marker\":{\"colorbar\":{\"outlinewidth\":0,\"ticks\":\"\"}},\"type\":\"scattergl\"}],\"scattermapbox\":[{\"marker\":{\"colorbar\":{\"outlinewidth\":0,\"ticks\":\"\"}},\"type\":\"scattermapbox\"}],\"scatterpolar\":[{\"marker\":{\"colorbar\":{\"outlinewidth\":0,\"ticks\":\"\"}},\"type\":\"scatterpolar\"}],\"scatterpolargl\":[{\"marker\":{\"colorbar\":{\"outlinewidth\":0,\"ticks\":\"\"}},\"type\":\"scatterpolargl\"}],\"scatterternary\":[{\"marker\":{\"colorbar\":{\"outlinewidth\":0,\"ticks\":\"\"}},\"type\":\"scatterternary\"}],\"surface\":[{\"colorbar\":{\"outlinewidth\":0,\"ticks\":\"\"},\"colorscale\":[[0.0,\"#0d0887\"],[0.1111111111111111,\"#46039f\"],[0.2222222222222222,\"#7201a8\"],[0.3333333333333333,\"#9c179e\"],[0.4444444444444444,\"#bd3786\"],[0.5555555555555556,\"#d8576b\"],[0.6666666666666666,\"#ed7953\"],[0.7777777777777778,\"#fb9f3a\"],[0.8888888888888888,\"#fdca26\"],[1.0,\"#f0f921\"]],\"type\":\"surface\"}],\"table\":[{\"cells\":{\"fill\":{\"color\":\"#EBF0F8\"},\"line\":{\"color\":\"white\"}},\"header\":{\"fill\":{\"color\":\"#C8D4E3\"},\"line\":{\"color\":\"white\"}},\"type\":\"table\"}]},\"layout\":{\"annotationdefaults\":{\"arrowcolor\":\"#2a3f5f\",\"arrowhead\":0,\"arrowwidth\":1},\"autotypenumbers\":\"strict\",\"coloraxis\":{\"colorbar\":{\"outlinewidth\":0,\"ticks\":\"\"}},\"colorscale\":{\"diverging\":[[0,\"#8e0152\"],[0.1,\"#c51b7d\"],[0.2,\"#de77ae\"],[0.3,\"#f1b6da\"],[0.4,\"#fde0ef\"],[0.5,\"#f7f7f7\"],[0.6,\"#e6f5d0\"],[0.7,\"#b8e186\"],[0.8,\"#7fbc41\"],[0.9,\"#4d9221\"],[1,\"#276419\"]],\"sequential\":[[0.0,\"#0d0887\"],[0.1111111111111111,\"#46039f\"],[0.2222222222222222,\"#7201a8\"],[0.3333333333333333,\"#9c179e\"],[0.4444444444444444,\"#bd3786\"],[0.5555555555555556,\"#d8576b\"],[0.6666666666666666,\"#ed7953\"],[0.7777777777777778,\"#fb9f3a\"],[0.8888888888888888,\"#fdca26\"],[1.0,\"#f0f921\"]],\"sequentialminus\":[[0.0,\"#0d0887\"],[0.1111111111111111,\"#46039f\"],[0.2222222222222222,\"#7201a8\"],[0.3333333333333333,\"#9c179e\"],[0.4444444444444444,\"#bd3786\"],[0.5555555555555556,\"#d8576b\"],[0.6666666666666666,\"#ed7953\"],[0.7777777777777778,\"#fb9f3a\"],[0.8888888888888888,\"#fdca26\"],[1.0,\"#f0f921\"]]},\"colorway\":[\"#636efa\",\"#EF553B\",\"#00cc96\",\"#ab63fa\",\"#FFA15A\",\"#19d3f3\",\"#FF6692\",\"#B6E880\",\"#FF97FF\",\"#FECB52\"],\"font\":{\"color\":\"#2a3f5f\"},\"geo\":{\"bgcolor\":\"white\",\"lakecolor\":\"white\",\"landcolor\":\"#E5ECF6\",\"showlakes\":true,\"showland\":true,\"subunitcolor\":\"white\"},\"hoverlabel\":{\"align\":\"left\"},\"hovermode\":\"closest\",\"mapbox\":{\"style\":\"light\"},\"paper_bgcolor\":\"white\",\"plot_bgcolor\":\"#E5ECF6\",\"polar\":{\"angularaxis\":{\"gridcolor\":\"white\",\"linecolor\":\"white\",\"ticks\":\"\"},\"bgcolor\":\"#E5ECF6\",\"radialaxis\":{\"gridcolor\":\"white\",\"linecolor\":\"white\",\"ticks\":\"\"}},\"scene\":{\"xaxis\":{\"backgroundcolor\":\"#E5ECF6\",\"gridcolor\":\"white\",\"gridwidth\":2,\"linecolor\":\"white\",\"showbackground\":true,\"ticks\":\"\",\"zerolinecolor\":\"white\"},\"yaxis\":{\"backgroundcolor\":\"#E5ECF6\",\"gridcolor\":\"white\",\"gridwidth\":2,\"linecolor\":\"white\",\"showbackground\":true,\"ticks\":\"\",\"zerolinecolor\":\"white\"},\"zaxis\":{\"backgroundcolor\":\"#E5ECF6\",\"gridcolor\":\"white\",\"gridwidth\":2,\"linecolor\":\"white\",\"showbackground\":true,\"ticks\":\"\",\"zerolinecolor\":\"white\"}},\"shapedefaults\":{\"line\":{\"color\":\"#2a3f5f\"}},\"ternary\":{\"aaxis\":{\"gridcolor\":\"white\",\"linecolor\":\"white\",\"ticks\":\"\"},\"baxis\":{\"gridcolor\":\"white\",\"linecolor\":\"white\",\"ticks\":\"\"},\"bgcolor\":\"#E5ECF6\",\"caxis\":{\"gridcolor\":\"white\",\"linecolor\":\"white\",\"ticks\":\"\"}},\"title\":{\"x\":0.05},\"xaxis\":{\"automargin\":true,\"gridcolor\":\"white\",\"linecolor\":\"white\",\"ticks\":\"\",\"title\":{\"standoff\":15},\"zerolinecolor\":\"white\",\"zerolinewidth\":2},\"yaxis\":{\"automargin\":true,\"gridcolor\":\"white\",\"linecolor\":\"white\",\"ticks\":\"\",\"title\":{\"standoff\":15},\"zerolinecolor\":\"white\",\"zerolinewidth\":2}}},\"scene\":{\"domain\":{\"x\":[0.0,1.0],\"y\":[0.0,1.0]},\"xaxis\":{\"title\":{\"text\":\"xG Per Avg Match_per season\"}},\"yaxis\":{\"title\":{\"text\":\"On Target Shots/ Shots\"}},\"zaxis\":{\"title\":{\"text\":\"On Target Per Avg Match_per season\"}}},\"legend\":{\"title\":{\"text\":\"cluster\"},\"tracegroupgap\":0},\"margin\":{\"t\":60}},                        {\"responsive\": true}                    ).then(function(){\n",
       "                            \n",
       "var gd = document.getElementById('b08ad61b-d975-4908-8919-05b10258affc');\n",
       "var x = new MutationObserver(function (mutations, observer) {{\n",
       "        var display = window.getComputedStyle(gd).display;\n",
       "        if (!display || display === 'none') {{\n",
       "            console.log([gd, 'removed!']);\n",
       "            Plotly.purge(gd);\n",
       "            observer.disconnect();\n",
       "        }}\n",
       "}});\n",
       "\n",
       "// Listen for the removal of the full notebook cells\n",
       "var notebookContainer = gd.closest('#notebook-container');\n",
       "if (notebookContainer) {{\n",
       "    x.observe(notebookContainer, {childList: true});\n",
       "}}\n",
       "\n",
       "// Listen for the clearing of the current output cell\n",
       "var outputEl = gd.closest('.output');\n",
       "if (outputEl) {{\n",
       "    x.observe(outputEl, {childList: true});\n",
       "}}\n",
       "\n",
       "                        })                };                });            </script>        </div>"
      ]
     },
     "metadata": {},
     "output_type": "display_data"
    },
    {
     "data": {
      "application/vnd.plotly.v1+json": {
       "config": {
        "plotlyServerURL": "https://plot.ly"
       },
       "data": [
        {
         "hovertemplate": "cluster=1<br>Shots Per Avg Match_per season=%{x}<br>xG Per Avg Match_per season=%{y}<extra></extra>",
         "legendgroup": "1",
         "marker": {
          "color": "#636efa",
          "symbol": "circle"
         },
         "mode": "markers",
         "name": "1",
         "orientation": "v",
         "showlegend": true,
         "type": "scatter",
         "x": [
          2.73,
          2.01,
          2.65,
          3.05,
          2.66,
          2.74,
          3.74,
          1.03,
          2.08,
          3.73,
          2.67,
          3.56,
          2.15,
          2.83,
          2.95,
          2.72,
          3.3,
          2,
          2.94,
          2.05,
          1.82,
          2.93,
          3.08,
          2.63,
          3.36,
          3.22,
          4.22,
          2.4,
          3.48,
          0.85,
          2.95,
          2.16,
          1.27,
          1.65,
          2.91,
          2.09,
          3.04,
          2.92,
          2.32,
          3.32,
          2.16,
          1.24,
          3.56,
          2.15,
          2.12,
          2.52,
          2.85,
          3.58,
          3.45,
          4.35,
          3.51,
          2.63,
          3.01,
          2.83,
          1.2,
          0.8,
          2.38,
          3.53,
          0.81,
          3.22,
          1.51,
          2.94,
          2.18,
          1.38,
          3.65,
          2.03,
          1.78,
          2.36,
          4.52,
          3.38,
          3.05,
          3.32,
          3.45,
          4.04,
          3.01,
          4.14,
          2.94,
          3.18,
          1.8,
          3.65,
          2.83,
          0.99,
          2.47,
          2.64,
          3.29,
          2.64,
          3.11,
          3.11,
          2.28,
          2.22,
          3.12,
          2.48,
          2.72,
          2.86,
          2.28,
          3.24,
          5.01,
          2.56,
          3.38,
          4.2,
          2.47,
          3.43,
          3.39,
          1.82,
          2.21,
          1.9,
          1.82,
          6.27,
          1.62,
          2.56,
          4.26,
          1.78,
          2.88,
          3.66,
          2,
          2.93,
          3.75,
          3.02,
          3.76,
          2.64,
          3.08,
          1.68,
          2.83,
          2.4,
          5.59,
          2.98,
          4.23,
          3.38,
          2.28,
          3.16,
          3.51,
          2.75,
          2.34,
          2.81,
          2.67,
          3.28,
          2.01,
          2.56,
          3.69,
          3.06,
          2.28,
          2.57,
          3.14,
          2.51,
          2.97,
          2.76,
          3.17,
          2.52,
          3.45,
          3.97,
          3.19,
          1.5,
          2.55,
          2.42,
          2.8,
          3.59,
          2.2,
          3.24,
          2.86
         ],
         "xaxis": "x",
         "y": [
          0.22,
          0.52,
          0.67,
          0.8,
          0.63,
          0.35,
          0.91,
          0.25,
          0.25,
          0.74,
          0.37,
          0.56,
          0.2,
          0.45,
          0.38,
          0.42,
          0.27,
          0.42,
          0.58,
          0.45,
          0.42,
          0.33,
          0.65,
          0.47,
          0.28,
          0.67,
          0.5,
          0.32,
          0.48,
          0.16,
          0.48,
          0.62,
          0.53,
          0.17,
          0.47,
          0.33,
          0.24,
          0.48,
          0.27,
          0.29,
          0.26,
          0.09,
          0.81,
          0.37,
          0.24,
          0.78,
          0.53,
          0.45,
          0.32,
          0.74,
          0.36,
          0.52,
          0.7,
          0.91,
          0.23,
          0.25,
          0.41,
          0.8,
          0.46,
          0.45,
          0.19,
          0.36,
          0.5,
          0.18,
          0.75,
          0.55,
          0.28,
          0.56,
          0.38,
          0.94,
          0.62,
          0.46,
          0.67,
          0.41,
          0.49,
          0.68,
          0.7,
          0.41,
          0.22,
          0.6,
          0.31,
          0.07,
          0.33,
          0.44,
          0.61,
          0.29,
          0.42,
          0.57,
          0.24,
          0.43,
          0.68,
          0.33,
          0.58,
          0.42,
          0.34,
          0.7,
          1.1,
          0.45,
          0.79,
          0.34,
          0.54,
          0.36,
          0.52,
          0.52,
          0.36,
          0.32,
          0.18,
          0.93,
          0.48,
          0.32,
          0.57,
          0.33,
          0.38,
          0.45,
          0.36,
          0.67,
          0.66,
          0.79,
          0.72,
          0.44,
          0.52,
          0.26,
          0.5,
          0.7,
          0.37,
          0.69,
          0.77,
          0.66,
          0.41,
          0.45,
          0.53,
          0.47,
          0.5,
          0.35,
          0.44,
          0.32,
          0.27,
          0.4,
          0.54,
          0.33,
          0.52,
          0.35,
          0.57,
          0.55,
          0.43,
          0.75,
          0.36,
          0.31,
          0.42,
          0.75,
          0.44,
          0.37,
          0.25,
          0.16,
          0.41,
          0.37,
          0.53,
          0.62,
          0.68
         ],
         "yaxis": "y"
        },
        {
         "hovertemplate": "cluster=0<br>Shots Per Avg Match_per season=%{x}<br>xG Per Avg Match_per season=%{y}<extra></extra>",
         "legendgroup": "0",
         "marker": {
          "color": "#EF553B",
          "symbol": "circle"
         },
         "mode": "markers",
         "name": "0",
         "orientation": "v",
         "showlegend": true,
         "type": "scatter",
         "x": [
          2.19,
          3.26,
          3.14,
          3.78,
          2.57,
          2.41,
          1.36,
          2.88,
          3.8,
          3.62,
          3.15,
          2.85,
          3.22,
          2.92,
          3.72,
          1.87,
          3.34,
          3.81,
          1.82,
          2.73,
          3.12,
          2.8,
          4.19,
          3.78,
          2.86,
          1.99,
          2.4,
          1.69,
          2.63,
          2.81,
          1.82,
          2.88,
          1.65,
          3.87,
          2.19,
          2.85,
          2.54,
          1.84,
          3.05,
          5.07,
          3.25,
          1.85,
          3.22,
          2.61,
          2.65,
          3.92,
          2.83,
          2.36,
          3.02,
          1.77,
          3.84,
          2.52,
          2.84,
          6.28,
          3.24,
          2.57,
          2.44,
          2.26,
          2.94,
          2.62,
          2.26,
          2.84,
          3.41,
          1.81,
          2.55,
          3.26,
          2.84,
          3.5,
          2.5,
          2.24,
          2.91,
          3.03,
          2.07,
          4.08,
          2.58,
          3.35,
          2.6,
          4.54,
          2.3,
          1.92,
          3.41,
          1.96,
          2.49,
          3.71,
          3.31,
          2.13,
          1.93,
          1.72,
          2.82,
          2.58,
          2.89,
          2.51,
          3.46,
          3.62,
          2.62,
          3.91,
          2.87,
          3.04,
          3.02,
          2.62,
          2.66,
          1.91,
          3.68,
          2.42,
          1.93,
          2.5,
          2.28,
          2.47,
          2.2,
          3.36,
          1.65,
          3.59,
          1.72,
          2.5,
          2.61,
          2.4,
          2.26,
          4.25,
          3.16,
          1.76,
          2.04,
          2.37,
          2.68,
          2.67,
          2.42,
          2.12,
          1.64,
          1.96,
          1.92,
          2.49,
          1.81,
          3.99,
          2.76,
          2.2,
          4.18,
          2.64,
          2.52,
          2.47,
          1.69,
          3.52,
          2.79,
          2.45,
          3.42,
          2,
          3.26,
          3.27,
          2.99,
          3.15,
          3.05,
          2.45,
          2.22,
          3.56,
          4.6,
          1.97,
          2.95,
          1.59,
          3.12,
          2.8,
          5.39,
          2.22,
          4.9,
          2.72,
          3.05,
          3.11,
          2.75,
          4.05,
          3.92,
          1.48,
          2.96,
          1.39,
          2.35,
          3.04,
          2.78,
          3.19,
          2.32,
          3.8,
          2.71,
          2.25,
          2.42,
          2.97,
          3.22,
          3.31,
          2.2,
          2.48,
          2.52,
          2.77,
          2.13,
          2.39,
          3.33,
          3.01,
          2.47,
          2.26,
          3.72,
          1.93,
          2.92,
          3.12,
          2.23,
          2.34,
          2.72,
          2.47,
          2.15,
          2.2,
          3.97,
          1.91,
          2.03,
          3.17,
          3.23,
          1.93,
          3.11,
          2.17,
          2.48,
          3.51,
          3.09,
          3.45,
          4.5,
          2.49,
          4.37,
          3.3,
          2.65,
          1.16,
          2.89,
          2.91,
          2.54,
          3.1,
          3.64,
          3.69,
          2.73,
          3.21,
          2.73,
          2.79,
          2.6,
          2.86,
          4.84,
          3.06,
          2.32,
          2.48,
          2.08,
          2.6,
          3.16,
          1.73,
          2.88,
          3.75,
          3.2,
          2.68,
          3.91,
          2.66,
          2.09,
          2.28,
          3.78,
          2.2,
          2.22,
          2.11,
          2.87,
          2.09,
          4.79,
          2.98,
          1.2,
          3.21,
          2.97,
          3,
          3.51,
          2.46,
          1.42,
          2.88,
          4.07,
          2.7,
          3.4,
          2.8,
          3.04,
          2.47,
          3.36,
          2.6,
          2.29,
          2.98,
          2.3,
          2.91,
          2.95,
          2.6,
          2.49,
          2.7,
          2.29,
          2.24,
          2.42,
          5.08,
          3.34
         ],
         "xaxis": "x",
         "y": [
          0.23,
          0.61,
          0.45,
          0.34,
          0.3,
          0.35,
          0.28,
          0.41,
          0.28,
          0.54,
          0.37,
          0.48,
          0.46,
          0.39,
          0.63,
          0.32,
          0.42,
          0.41,
          0.4,
          0.4,
          0.61,
          0.47,
          0.25,
          0.47,
          0.26,
          0.18,
          0.49,
          0.24,
          0.48,
          0.27,
          0.18,
          0.59,
          0.42,
          0.35,
          0.39,
          0.45,
          0.56,
          0.41,
          0.43,
          0.77,
          0.61,
          0.33,
          0.71,
          0.58,
          0.29,
          0.34,
          0.55,
          0.62,
          0.53,
          0.28,
          0.62,
          0.62,
          0.27,
          0.97,
          0.56,
          0.34,
          0.31,
          0.16,
          0.53,
          0.38,
          0.39,
          0.45,
          0.41,
          0.23,
          0.36,
          0.49,
          0.33,
          0.48,
          0.39,
          0.27,
          0.27,
          0.63,
          0.23,
          0.51,
          0.32,
          0.55,
          0.34,
          0.62,
          0.42,
          0.23,
          0.39,
          0.41,
          0.33,
          0.57,
          0.5,
          0.31,
          0.31,
          0.26,
          0.42,
          0.48,
          0.32,
          0.55,
          0.72,
          0.66,
          0.26,
          0.65,
          0.5,
          0.47,
          0.5,
          0.38,
          0.41,
          0.41,
          0.46,
          0.53,
          0.35,
          0.42,
          0.55,
          0.32,
          0.33,
          0.37,
          0.26,
          0.59,
          0.16,
          0.57,
          0.51,
          0.29,
          0.41,
          0.49,
          0.25,
          0.32,
          0.43,
          0.62,
          0.42,
          0.56,
          0.39,
          0.18,
          0.36,
          0.38,
          0.38,
          0.33,
          0.29,
          0.78,
          0.42,
          0.38,
          0.43,
          0.45,
          0.22,
          0.34,
          0.25,
          0.49,
          0.42,
          0.35,
          0.61,
          0.37,
          0.61,
          0.36,
          0.39,
          0.23,
          0.48,
          0.42,
          0.37,
          0.52,
          0.53,
          0.39,
          0.37,
          0.31,
          0.31,
          0.36,
          0.8,
          0.39,
          0.4,
          0.43,
          0.29,
          0.36,
          0.23,
          0.76,
          0.57,
          0.29,
          0.36,
          0.29,
          0.43,
          0.55,
          0.52,
          0.67,
          0.42,
          0.35,
          0.59,
          0.41,
          0.4,
          0.68,
          0.49,
          0.4,
          0.44,
          0.46,
          0.29,
          0.63,
          0.28,
          0.28,
          0.39,
          0.37,
          0.44,
          0.28,
          0.58,
          0.35,
          0.73,
          0.56,
          0.28,
          0.4,
          0.6,
          0.34,
          0.63,
          0.28,
          0.78,
          0.21,
          0.3,
          0.54,
          0.54,
          0.21,
          0.33,
          0.32,
          0.39,
          0.47,
          0.47,
          0.58,
          0.45,
          0.24,
          0.38,
          0.79,
          0.5,
          0.27,
          0.41,
          0.57,
          0.4,
          0.44,
          0.56,
          0.52,
          0.27,
          0.31,
          0.46,
          0.4,
          0.31,
          0.46,
          1.04,
          0.32,
          0.34,
          0.42,
          0.34,
          0.42,
          0.53,
          0.27,
          0.56,
          0.31,
          0.75,
          0.4,
          0.47,
          0.47,
          0.39,
          0.35,
          0.29,
          0.46,
          0.5,
          0.4,
          0.21,
          0.27,
          0.84,
          0.51,
          0.34,
          0.53,
          0.35,
          0.31,
          0.77,
          0.35,
          0.38,
          0.6,
          0.42,
          0.4,
          0.53,
          0.48,
          0.43,
          0.44,
          0.58,
          0.33,
          0.43,
          0.34,
          0.43,
          0.45,
          0.46,
          0.47,
          0.5,
          0.59,
          0.33,
          0.29,
          0.4,
          0.88,
          0.45
         ],
         "yaxis": "y"
        }
       ],
       "layout": {
        "legend": {
         "title": {
          "text": "cluster"
         },
         "tracegroupgap": 0
        },
        "margin": {
         "t": 60
        },
        "template": {
         "data": {
          "bar": [
           {
            "error_x": {
             "color": "#2a3f5f"
            },
            "error_y": {
             "color": "#2a3f5f"
            },
            "marker": {
             "line": {
              "color": "#E5ECF6",
              "width": 0.5
             },
             "pattern": {
              "fillmode": "overlay",
              "size": 10,
              "solidity": 0.2
             }
            },
            "type": "bar"
           }
          ],
          "barpolar": [
           {
            "marker": {
             "line": {
              "color": "#E5ECF6",
              "width": 0.5
             },
             "pattern": {
              "fillmode": "overlay",
              "size": 10,
              "solidity": 0.2
             }
            },
            "type": "barpolar"
           }
          ],
          "carpet": [
           {
            "aaxis": {
             "endlinecolor": "#2a3f5f",
             "gridcolor": "white",
             "linecolor": "white",
             "minorgridcolor": "white",
             "startlinecolor": "#2a3f5f"
            },
            "baxis": {
             "endlinecolor": "#2a3f5f",
             "gridcolor": "white",
             "linecolor": "white",
             "minorgridcolor": "white",
             "startlinecolor": "#2a3f5f"
            },
            "type": "carpet"
           }
          ],
          "choropleth": [
           {
            "colorbar": {
             "outlinewidth": 0,
             "ticks": ""
            },
            "type": "choropleth"
           }
          ],
          "contour": [
           {
            "colorbar": {
             "outlinewidth": 0,
             "ticks": ""
            },
            "colorscale": [
             [
              0,
              "#0d0887"
             ],
             [
              0.1111111111111111,
              "#46039f"
             ],
             [
              0.2222222222222222,
              "#7201a8"
             ],
             [
              0.3333333333333333,
              "#9c179e"
             ],
             [
              0.4444444444444444,
              "#bd3786"
             ],
             [
              0.5555555555555556,
              "#d8576b"
             ],
             [
              0.6666666666666666,
              "#ed7953"
             ],
             [
              0.7777777777777778,
              "#fb9f3a"
             ],
             [
              0.8888888888888888,
              "#fdca26"
             ],
             [
              1,
              "#f0f921"
             ]
            ],
            "type": "contour"
           }
          ],
          "contourcarpet": [
           {
            "colorbar": {
             "outlinewidth": 0,
             "ticks": ""
            },
            "type": "contourcarpet"
           }
          ],
          "heatmap": [
           {
            "colorbar": {
             "outlinewidth": 0,
             "ticks": ""
            },
            "colorscale": [
             [
              0,
              "#0d0887"
             ],
             [
              0.1111111111111111,
              "#46039f"
             ],
             [
              0.2222222222222222,
              "#7201a8"
             ],
             [
              0.3333333333333333,
              "#9c179e"
             ],
             [
              0.4444444444444444,
              "#bd3786"
             ],
             [
              0.5555555555555556,
              "#d8576b"
             ],
             [
              0.6666666666666666,
              "#ed7953"
             ],
             [
              0.7777777777777778,
              "#fb9f3a"
             ],
             [
              0.8888888888888888,
              "#fdca26"
             ],
             [
              1,
              "#f0f921"
             ]
            ],
            "type": "heatmap"
           }
          ],
          "heatmapgl": [
           {
            "colorbar": {
             "outlinewidth": 0,
             "ticks": ""
            },
            "colorscale": [
             [
              0,
              "#0d0887"
             ],
             [
              0.1111111111111111,
              "#46039f"
             ],
             [
              0.2222222222222222,
              "#7201a8"
             ],
             [
              0.3333333333333333,
              "#9c179e"
             ],
             [
              0.4444444444444444,
              "#bd3786"
             ],
             [
              0.5555555555555556,
              "#d8576b"
             ],
             [
              0.6666666666666666,
              "#ed7953"
             ],
             [
              0.7777777777777778,
              "#fb9f3a"
             ],
             [
              0.8888888888888888,
              "#fdca26"
             ],
             [
              1,
              "#f0f921"
             ]
            ],
            "type": "heatmapgl"
           }
          ],
          "histogram": [
           {
            "marker": {
             "pattern": {
              "fillmode": "overlay",
              "size": 10,
              "solidity": 0.2
             }
            },
            "type": "histogram"
           }
          ],
          "histogram2d": [
           {
            "colorbar": {
             "outlinewidth": 0,
             "ticks": ""
            },
            "colorscale": [
             [
              0,
              "#0d0887"
             ],
             [
              0.1111111111111111,
              "#46039f"
             ],
             [
              0.2222222222222222,
              "#7201a8"
             ],
             [
              0.3333333333333333,
              "#9c179e"
             ],
             [
              0.4444444444444444,
              "#bd3786"
             ],
             [
              0.5555555555555556,
              "#d8576b"
             ],
             [
              0.6666666666666666,
              "#ed7953"
             ],
             [
              0.7777777777777778,
              "#fb9f3a"
             ],
             [
              0.8888888888888888,
              "#fdca26"
             ],
             [
              1,
              "#f0f921"
             ]
            ],
            "type": "histogram2d"
           }
          ],
          "histogram2dcontour": [
           {
            "colorbar": {
             "outlinewidth": 0,
             "ticks": ""
            },
            "colorscale": [
             [
              0,
              "#0d0887"
             ],
             [
              0.1111111111111111,
              "#46039f"
             ],
             [
              0.2222222222222222,
              "#7201a8"
             ],
             [
              0.3333333333333333,
              "#9c179e"
             ],
             [
              0.4444444444444444,
              "#bd3786"
             ],
             [
              0.5555555555555556,
              "#d8576b"
             ],
             [
              0.6666666666666666,
              "#ed7953"
             ],
             [
              0.7777777777777778,
              "#fb9f3a"
             ],
             [
              0.8888888888888888,
              "#fdca26"
             ],
             [
              1,
              "#f0f921"
             ]
            ],
            "type": "histogram2dcontour"
           }
          ],
          "mesh3d": [
           {
            "colorbar": {
             "outlinewidth": 0,
             "ticks": ""
            },
            "type": "mesh3d"
           }
          ],
          "parcoords": [
           {
            "line": {
             "colorbar": {
              "outlinewidth": 0,
              "ticks": ""
             }
            },
            "type": "parcoords"
           }
          ],
          "pie": [
           {
            "automargin": true,
            "type": "pie"
           }
          ],
          "scatter": [
           {
            "marker": {
             "colorbar": {
              "outlinewidth": 0,
              "ticks": ""
             }
            },
            "type": "scatter"
           }
          ],
          "scatter3d": [
           {
            "line": {
             "colorbar": {
              "outlinewidth": 0,
              "ticks": ""
             }
            },
            "marker": {
             "colorbar": {
              "outlinewidth": 0,
              "ticks": ""
             }
            },
            "type": "scatter3d"
           }
          ],
          "scattercarpet": [
           {
            "marker": {
             "colorbar": {
              "outlinewidth": 0,
              "ticks": ""
             }
            },
            "type": "scattercarpet"
           }
          ],
          "scattergeo": [
           {
            "marker": {
             "colorbar": {
              "outlinewidth": 0,
              "ticks": ""
             }
            },
            "type": "scattergeo"
           }
          ],
          "scattergl": [
           {
            "marker": {
             "colorbar": {
              "outlinewidth": 0,
              "ticks": ""
             }
            },
            "type": "scattergl"
           }
          ],
          "scattermapbox": [
           {
            "marker": {
             "colorbar": {
              "outlinewidth": 0,
              "ticks": ""
             }
            },
            "type": "scattermapbox"
           }
          ],
          "scatterpolar": [
           {
            "marker": {
             "colorbar": {
              "outlinewidth": 0,
              "ticks": ""
             }
            },
            "type": "scatterpolar"
           }
          ],
          "scatterpolargl": [
           {
            "marker": {
             "colorbar": {
              "outlinewidth": 0,
              "ticks": ""
             }
            },
            "type": "scatterpolargl"
           }
          ],
          "scatterternary": [
           {
            "marker": {
             "colorbar": {
              "outlinewidth": 0,
              "ticks": ""
             }
            },
            "type": "scatterternary"
           }
          ],
          "surface": [
           {
            "colorbar": {
             "outlinewidth": 0,
             "ticks": ""
            },
            "colorscale": [
             [
              0,
              "#0d0887"
             ],
             [
              0.1111111111111111,
              "#46039f"
             ],
             [
              0.2222222222222222,
              "#7201a8"
             ],
             [
              0.3333333333333333,
              "#9c179e"
             ],
             [
              0.4444444444444444,
              "#bd3786"
             ],
             [
              0.5555555555555556,
              "#d8576b"
             ],
             [
              0.6666666666666666,
              "#ed7953"
             ],
             [
              0.7777777777777778,
              "#fb9f3a"
             ],
             [
              0.8888888888888888,
              "#fdca26"
             ],
             [
              1,
              "#f0f921"
             ]
            ],
            "type": "surface"
           }
          ],
          "table": [
           {
            "cells": {
             "fill": {
              "color": "#EBF0F8"
             },
             "line": {
              "color": "white"
             }
            },
            "header": {
             "fill": {
              "color": "#C8D4E3"
             },
             "line": {
              "color": "white"
             }
            },
            "type": "table"
           }
          ]
         },
         "layout": {
          "annotationdefaults": {
           "arrowcolor": "#2a3f5f",
           "arrowhead": 0,
           "arrowwidth": 1
          },
          "autotypenumbers": "strict",
          "coloraxis": {
           "colorbar": {
            "outlinewidth": 0,
            "ticks": ""
           }
          },
          "colorscale": {
           "diverging": [
            [
             0,
             "#8e0152"
            ],
            [
             0.1,
             "#c51b7d"
            ],
            [
             0.2,
             "#de77ae"
            ],
            [
             0.3,
             "#f1b6da"
            ],
            [
             0.4,
             "#fde0ef"
            ],
            [
             0.5,
             "#f7f7f7"
            ],
            [
             0.6,
             "#e6f5d0"
            ],
            [
             0.7,
             "#b8e186"
            ],
            [
             0.8,
             "#7fbc41"
            ],
            [
             0.9,
             "#4d9221"
            ],
            [
             1,
             "#276419"
            ]
           ],
           "sequential": [
            [
             0,
             "#0d0887"
            ],
            [
             0.1111111111111111,
             "#46039f"
            ],
            [
             0.2222222222222222,
             "#7201a8"
            ],
            [
             0.3333333333333333,
             "#9c179e"
            ],
            [
             0.4444444444444444,
             "#bd3786"
            ],
            [
             0.5555555555555556,
             "#d8576b"
            ],
            [
             0.6666666666666666,
             "#ed7953"
            ],
            [
             0.7777777777777778,
             "#fb9f3a"
            ],
            [
             0.8888888888888888,
             "#fdca26"
            ],
            [
             1,
             "#f0f921"
            ]
           ],
           "sequentialminus": [
            [
             0,
             "#0d0887"
            ],
            [
             0.1111111111111111,
             "#46039f"
            ],
            [
             0.2222222222222222,
             "#7201a8"
            ],
            [
             0.3333333333333333,
             "#9c179e"
            ],
            [
             0.4444444444444444,
             "#bd3786"
            ],
            [
             0.5555555555555556,
             "#d8576b"
            ],
            [
             0.6666666666666666,
             "#ed7953"
            ],
            [
             0.7777777777777778,
             "#fb9f3a"
            ],
            [
             0.8888888888888888,
             "#fdca26"
            ],
            [
             1,
             "#f0f921"
            ]
           ]
          },
          "colorway": [
           "#636efa",
           "#EF553B",
           "#00cc96",
           "#ab63fa",
           "#FFA15A",
           "#19d3f3",
           "#FF6692",
           "#B6E880",
           "#FF97FF",
           "#FECB52"
          ],
          "font": {
           "color": "#2a3f5f"
          },
          "geo": {
           "bgcolor": "white",
           "lakecolor": "white",
           "landcolor": "#E5ECF6",
           "showlakes": true,
           "showland": true,
           "subunitcolor": "white"
          },
          "hoverlabel": {
           "align": "left"
          },
          "hovermode": "closest",
          "mapbox": {
           "style": "light"
          },
          "paper_bgcolor": "white",
          "plot_bgcolor": "#E5ECF6",
          "polar": {
           "angularaxis": {
            "gridcolor": "white",
            "linecolor": "white",
            "ticks": ""
           },
           "bgcolor": "#E5ECF6",
           "radialaxis": {
            "gridcolor": "white",
            "linecolor": "white",
            "ticks": ""
           }
          },
          "scene": {
           "xaxis": {
            "backgroundcolor": "#E5ECF6",
            "gridcolor": "white",
            "gridwidth": 2,
            "linecolor": "white",
            "showbackground": true,
            "ticks": "",
            "zerolinecolor": "white"
           },
           "yaxis": {
            "backgroundcolor": "#E5ECF6",
            "gridcolor": "white",
            "gridwidth": 2,
            "linecolor": "white",
            "showbackground": true,
            "ticks": "",
            "zerolinecolor": "white"
           },
           "zaxis": {
            "backgroundcolor": "#E5ECF6",
            "gridcolor": "white",
            "gridwidth": 2,
            "linecolor": "white",
            "showbackground": true,
            "ticks": "",
            "zerolinecolor": "white"
           }
          },
          "shapedefaults": {
           "line": {
            "color": "#2a3f5f"
           }
          },
          "ternary": {
           "aaxis": {
            "gridcolor": "white",
            "linecolor": "white",
            "ticks": ""
           },
           "baxis": {
            "gridcolor": "white",
            "linecolor": "white",
            "ticks": ""
           },
           "bgcolor": "#E5ECF6",
           "caxis": {
            "gridcolor": "white",
            "linecolor": "white",
            "ticks": ""
           }
          },
          "title": {
           "x": 0.05
          },
          "xaxis": {
           "automargin": true,
           "gridcolor": "white",
           "linecolor": "white",
           "ticks": "",
           "title": {
            "standoff": 15
           },
           "zerolinecolor": "white",
           "zerolinewidth": 2
          },
          "yaxis": {
           "automargin": true,
           "gridcolor": "white",
           "linecolor": "white",
           "ticks": "",
           "title": {
            "standoff": 15
           },
           "zerolinecolor": "white",
           "zerolinewidth": 2
          }
         }
        },
        "xaxis": {
         "anchor": "y",
         "domain": [
          0,
          1
         ],
         "title": {
          "text": "Shots Per Avg Match_per season"
         }
        },
        "yaxis": {
         "anchor": "x",
         "domain": [
          0,
          1
         ],
         "title": {
          "text": "xG Per Avg Match_per season"
         }
        }
       }
      },
      "text/html": [
       "<div>                            <div id=\"32b9cf63-166c-4248-b126-2724a0bd6bda\" class=\"plotly-graph-div\" style=\"height:525px; width:100%;\"></div>            <script type=\"text/javascript\">                require([\"plotly\"], function(Plotly) {                    window.PLOTLYENV=window.PLOTLYENV || {};                                    if (document.getElementById(\"32b9cf63-166c-4248-b126-2724a0bd6bda\")) {                    Plotly.newPlot(                        \"32b9cf63-166c-4248-b126-2724a0bd6bda\",                        [{\"hovertemplate\":\"cluster=1<br>Shots Per Avg Match_per season=%{x}<br>xG Per Avg Match_per season=%{y}<extra></extra>\",\"legendgroup\":\"1\",\"marker\":{\"color\":\"#636efa\",\"symbol\":\"circle\"},\"mode\":\"markers\",\"name\":\"1\",\"orientation\":\"v\",\"showlegend\":true,\"x\":[2.73,2.01,2.65,3.05,2.66,2.74,3.74,1.03,2.08,3.73,2.67,3.56,2.15,2.83,2.95,2.72,3.3,2.0,2.94,2.05,1.82,2.93,3.08,2.63,3.36,3.22,4.22,2.4,3.48,0.85,2.95,2.16,1.27,1.65,2.91,2.09,3.04,2.92,2.32,3.32,2.16,1.24,3.56,2.15,2.12,2.52,2.85,3.58,3.45,4.35,3.51,2.63,3.01,2.83,1.2,0.8,2.38,3.53,0.81,3.22,1.51,2.94,2.18,1.38,3.65,2.03,1.78,2.36,4.52,3.38,3.05,3.32,3.45,4.04,3.01,4.14,2.94,3.18,1.8,3.65,2.83,0.99,2.47,2.64,3.29,2.64,3.11,3.11,2.28,2.22,3.12,2.48,2.72,2.86,2.28,3.24,5.01,2.56,3.38,4.2,2.47,3.43,3.39,1.82,2.21,1.9,1.82,6.27,1.62,2.56,4.26,1.78,2.88,3.66,2.0,2.93,3.75,3.02,3.76,2.64,3.08,1.68,2.83,2.4,5.59,2.98,4.23,3.38,2.28,3.16,3.51,2.75,2.34,2.81,2.67,3.28,2.01,2.56,3.69,3.06,2.28,2.57,3.14,2.51,2.97,2.76,3.17,2.52,3.45,3.97,3.19,1.5,2.55,2.42,2.8,3.59,2.2,3.24,2.86],\"xaxis\":\"x\",\"y\":[0.22,0.52,0.67,0.8,0.63,0.35,0.91,0.25,0.25,0.74,0.37,0.56,0.2,0.45,0.38,0.42,0.27,0.42,0.58,0.45,0.42,0.33,0.65,0.47,0.28,0.67,0.5,0.32,0.48,0.16,0.48,0.62,0.53,0.17,0.47,0.33,0.24,0.48,0.27,0.29,0.26,0.09,0.81,0.37,0.24,0.78,0.53,0.45,0.32,0.74,0.36,0.52,0.7,0.91,0.23,0.25,0.41,0.8,0.46,0.45,0.19,0.36,0.5,0.18,0.75,0.55,0.28,0.56,0.38,0.94,0.62,0.46,0.67,0.41,0.49,0.68,0.7,0.41,0.22,0.6,0.31,0.07,0.33,0.44,0.61,0.29,0.42,0.57,0.24,0.43,0.68,0.33,0.58,0.42,0.34,0.7,1.1,0.45,0.79,0.34,0.54,0.36,0.52,0.52,0.36,0.32,0.18,0.93,0.48,0.32,0.57,0.33,0.38,0.45,0.36,0.67,0.66,0.79,0.72,0.44,0.52,0.26,0.5,0.7,0.37,0.69,0.77,0.66,0.41,0.45,0.53,0.47,0.5,0.35,0.44,0.32,0.27,0.4,0.54,0.33,0.52,0.35,0.57,0.55,0.43,0.75,0.36,0.31,0.42,0.75,0.44,0.37,0.25,0.16,0.41,0.37,0.53,0.62,0.68],\"yaxis\":\"y\",\"type\":\"scatter\"},{\"hovertemplate\":\"cluster=0<br>Shots Per Avg Match_per season=%{x}<br>xG Per Avg Match_per season=%{y}<extra></extra>\",\"legendgroup\":\"0\",\"marker\":{\"color\":\"#EF553B\",\"symbol\":\"circle\"},\"mode\":\"markers\",\"name\":\"0\",\"orientation\":\"v\",\"showlegend\":true,\"x\":[2.19,3.26,3.14,3.78,2.57,2.41,1.36,2.88,3.8,3.62,3.15,2.85,3.22,2.92,3.72,1.87,3.34,3.81,1.82,2.73,3.12,2.8,4.19,3.78,2.86,1.99,2.4,1.69,2.63,2.81,1.82,2.88,1.65,3.87,2.19,2.85,2.54,1.84,3.05,5.07,3.25,1.85,3.22,2.61,2.65,3.92,2.83,2.36,3.02,1.77,3.84,2.52,2.84,6.28,3.24,2.57,2.44,2.26,2.94,2.62,2.26,2.84,3.41,1.81,2.55,3.26,2.84,3.5,2.5,2.24,2.91,3.03,2.07,4.08,2.58,3.35,2.6,4.54,2.3,1.92,3.41,1.96,2.49,3.71,3.31,2.13,1.93,1.72,2.82,2.58,2.89,2.51,3.46,3.62,2.62,3.91,2.87,3.04,3.02,2.62,2.66,1.91,3.68,2.42,1.93,2.5,2.28,2.47,2.2,3.36,1.65,3.59,1.72,2.5,2.61,2.4,2.26,4.25,3.16,1.76,2.04,2.37,2.68,2.67,2.42,2.12,1.64,1.96,1.92,2.49,1.81,3.99,2.76,2.2,4.18,2.64,2.52,2.47,1.69,3.52,2.79,2.45,3.42,2.0,3.26,3.27,2.99,3.15,3.05,2.45,2.22,3.56,4.6,1.97,2.95,1.59,3.12,2.8,5.39,2.22,4.9,2.72,3.05,3.11,2.75,4.05,3.92,1.48,2.96,1.39,2.35,3.04,2.78,3.19,2.32,3.8,2.71,2.25,2.42,2.97,3.22,3.31,2.2,2.48,2.52,2.77,2.13,2.39,3.33,3.01,2.47,2.26,3.72,1.93,2.92,3.12,2.23,2.34,2.72,2.47,2.15,2.2,3.97,1.91,2.03,3.17,3.23,1.93,3.11,2.17,2.48,3.51,3.09,3.45,4.5,2.49,4.37,3.3,2.65,1.16,2.89,2.91,2.54,3.1,3.64,3.69,2.73,3.21,2.73,2.79,2.6,2.86,4.84,3.06,2.32,2.48,2.08,2.6,3.16,1.73,2.88,3.75,3.2,2.68,3.91,2.66,2.09,2.28,3.78,2.2,2.22,2.11,2.87,2.09,4.79,2.98,1.2,3.21,2.97,3.0,3.51,2.46,1.42,2.88,4.07,2.7,3.4,2.8,3.04,2.47,3.36,2.6,2.29,2.98,2.3,2.91,2.95,2.6,2.49,2.7,2.29,2.24,2.42,5.08,3.34],\"xaxis\":\"x\",\"y\":[0.23,0.61,0.45,0.34,0.3,0.35,0.28,0.41,0.28,0.54,0.37,0.48,0.46,0.39,0.63,0.32,0.42,0.41,0.4,0.4,0.61,0.47,0.25,0.47,0.26,0.18,0.49,0.24,0.48,0.27,0.18,0.59,0.42,0.35,0.39,0.45,0.56,0.41,0.43,0.77,0.61,0.33,0.71,0.58,0.29,0.34,0.55,0.62,0.53,0.28,0.62,0.62,0.27,0.97,0.56,0.34,0.31,0.16,0.53,0.38,0.39,0.45,0.41,0.23,0.36,0.49,0.33,0.48,0.39,0.27,0.27,0.63,0.23,0.51,0.32,0.55,0.34,0.62,0.42,0.23,0.39,0.41,0.33,0.57,0.5,0.31,0.31,0.26,0.42,0.48,0.32,0.55,0.72,0.66,0.26,0.65,0.5,0.47,0.5,0.38,0.41,0.41,0.46,0.53,0.35,0.42,0.55,0.32,0.33,0.37,0.26,0.59,0.16,0.57,0.51,0.29,0.41,0.49,0.25,0.32,0.43,0.62,0.42,0.56,0.39,0.18,0.36,0.38,0.38,0.33,0.29,0.78,0.42,0.38,0.43,0.45,0.22,0.34,0.25,0.49,0.42,0.35,0.61,0.37,0.61,0.36,0.39,0.23,0.48,0.42,0.37,0.52,0.53,0.39,0.37,0.31,0.31,0.36,0.8,0.39,0.4,0.43,0.29,0.36,0.23,0.76,0.57,0.29,0.36,0.29,0.43,0.55,0.52,0.67,0.42,0.35,0.59,0.41,0.4,0.68,0.49,0.4,0.44,0.46,0.29,0.63,0.28,0.28,0.39,0.37,0.44,0.28,0.58,0.35,0.73,0.56,0.28,0.4,0.6,0.34,0.63,0.28,0.78,0.21,0.3,0.54,0.54,0.21,0.33,0.32,0.39,0.47,0.47,0.58,0.45,0.24,0.38,0.79,0.5,0.27,0.41,0.57,0.4,0.44,0.56,0.52,0.27,0.31,0.46,0.4,0.31,0.46,1.04,0.32,0.34,0.42,0.34,0.42,0.53,0.27,0.56,0.31,0.75,0.4,0.47,0.47,0.39,0.35,0.29,0.46,0.5,0.4,0.21,0.27,0.84,0.51,0.34,0.53,0.35,0.31,0.77,0.35,0.38,0.6,0.42,0.4,0.53,0.48,0.43,0.44,0.58,0.33,0.43,0.34,0.43,0.45,0.46,0.47,0.5,0.59,0.33,0.29,0.4,0.88,0.45],\"yaxis\":\"y\",\"type\":\"scatter\"}],                        {\"template\":{\"data\":{\"bar\":[{\"error_x\":{\"color\":\"#2a3f5f\"},\"error_y\":{\"color\":\"#2a3f5f\"},\"marker\":{\"line\":{\"color\":\"#E5ECF6\",\"width\":0.5},\"pattern\":{\"fillmode\":\"overlay\",\"size\":10,\"solidity\":0.2}},\"type\":\"bar\"}],\"barpolar\":[{\"marker\":{\"line\":{\"color\":\"#E5ECF6\",\"width\":0.5},\"pattern\":{\"fillmode\":\"overlay\",\"size\":10,\"solidity\":0.2}},\"type\":\"barpolar\"}],\"carpet\":[{\"aaxis\":{\"endlinecolor\":\"#2a3f5f\",\"gridcolor\":\"white\",\"linecolor\":\"white\",\"minorgridcolor\":\"white\",\"startlinecolor\":\"#2a3f5f\"},\"baxis\":{\"endlinecolor\":\"#2a3f5f\",\"gridcolor\":\"white\",\"linecolor\":\"white\",\"minorgridcolor\":\"white\",\"startlinecolor\":\"#2a3f5f\"},\"type\":\"carpet\"}],\"choropleth\":[{\"colorbar\":{\"outlinewidth\":0,\"ticks\":\"\"},\"type\":\"choropleth\"}],\"contour\":[{\"colorbar\":{\"outlinewidth\":0,\"ticks\":\"\"},\"colorscale\":[[0.0,\"#0d0887\"],[0.1111111111111111,\"#46039f\"],[0.2222222222222222,\"#7201a8\"],[0.3333333333333333,\"#9c179e\"],[0.4444444444444444,\"#bd3786\"],[0.5555555555555556,\"#d8576b\"],[0.6666666666666666,\"#ed7953\"],[0.7777777777777778,\"#fb9f3a\"],[0.8888888888888888,\"#fdca26\"],[1.0,\"#f0f921\"]],\"type\":\"contour\"}],\"contourcarpet\":[{\"colorbar\":{\"outlinewidth\":0,\"ticks\":\"\"},\"type\":\"contourcarpet\"}],\"heatmap\":[{\"colorbar\":{\"outlinewidth\":0,\"ticks\":\"\"},\"colorscale\":[[0.0,\"#0d0887\"],[0.1111111111111111,\"#46039f\"],[0.2222222222222222,\"#7201a8\"],[0.3333333333333333,\"#9c179e\"],[0.4444444444444444,\"#bd3786\"],[0.5555555555555556,\"#d8576b\"],[0.6666666666666666,\"#ed7953\"],[0.7777777777777778,\"#fb9f3a\"],[0.8888888888888888,\"#fdca26\"],[1.0,\"#f0f921\"]],\"type\":\"heatmap\"}],\"heatmapgl\":[{\"colorbar\":{\"outlinewidth\":0,\"ticks\":\"\"},\"colorscale\":[[0.0,\"#0d0887\"],[0.1111111111111111,\"#46039f\"],[0.2222222222222222,\"#7201a8\"],[0.3333333333333333,\"#9c179e\"],[0.4444444444444444,\"#bd3786\"],[0.5555555555555556,\"#d8576b\"],[0.6666666666666666,\"#ed7953\"],[0.7777777777777778,\"#fb9f3a\"],[0.8888888888888888,\"#fdca26\"],[1.0,\"#f0f921\"]],\"type\":\"heatmapgl\"}],\"histogram\":[{\"marker\":{\"pattern\":{\"fillmode\":\"overlay\",\"size\":10,\"solidity\":0.2}},\"type\":\"histogram\"}],\"histogram2d\":[{\"colorbar\":{\"outlinewidth\":0,\"ticks\":\"\"},\"colorscale\":[[0.0,\"#0d0887\"],[0.1111111111111111,\"#46039f\"],[0.2222222222222222,\"#7201a8\"],[0.3333333333333333,\"#9c179e\"],[0.4444444444444444,\"#bd3786\"],[0.5555555555555556,\"#d8576b\"],[0.6666666666666666,\"#ed7953\"],[0.7777777777777778,\"#fb9f3a\"],[0.8888888888888888,\"#fdca26\"],[1.0,\"#f0f921\"]],\"type\":\"histogram2d\"}],\"histogram2dcontour\":[{\"colorbar\":{\"outlinewidth\":0,\"ticks\":\"\"},\"colorscale\":[[0.0,\"#0d0887\"],[0.1111111111111111,\"#46039f\"],[0.2222222222222222,\"#7201a8\"],[0.3333333333333333,\"#9c179e\"],[0.4444444444444444,\"#bd3786\"],[0.5555555555555556,\"#d8576b\"],[0.6666666666666666,\"#ed7953\"],[0.7777777777777778,\"#fb9f3a\"],[0.8888888888888888,\"#fdca26\"],[1.0,\"#f0f921\"]],\"type\":\"histogram2dcontour\"}],\"mesh3d\":[{\"colorbar\":{\"outlinewidth\":0,\"ticks\":\"\"},\"type\":\"mesh3d\"}],\"parcoords\":[{\"line\":{\"colorbar\":{\"outlinewidth\":0,\"ticks\":\"\"}},\"type\":\"parcoords\"}],\"pie\":[{\"automargin\":true,\"type\":\"pie\"}],\"scatter\":[{\"marker\":{\"colorbar\":{\"outlinewidth\":0,\"ticks\":\"\"}},\"type\":\"scatter\"}],\"scatter3d\":[{\"line\":{\"colorbar\":{\"outlinewidth\":0,\"ticks\":\"\"}},\"marker\":{\"colorbar\":{\"outlinewidth\":0,\"ticks\":\"\"}},\"type\":\"scatter3d\"}],\"scattercarpet\":[{\"marker\":{\"colorbar\":{\"outlinewidth\":0,\"ticks\":\"\"}},\"type\":\"scattercarpet\"}],\"scattergeo\":[{\"marker\":{\"colorbar\":{\"outlinewidth\":0,\"ticks\":\"\"}},\"type\":\"scattergeo\"}],\"scattergl\":[{\"marker\":{\"colorbar\":{\"outlinewidth\":0,\"ticks\":\"\"}},\"type\":\"scattergl\"}],\"scattermapbox\":[{\"marker\":{\"colorbar\":{\"outlinewidth\":0,\"ticks\":\"\"}},\"type\":\"scattermapbox\"}],\"scatterpolar\":[{\"marker\":{\"colorbar\":{\"outlinewidth\":0,\"ticks\":\"\"}},\"type\":\"scatterpolar\"}],\"scatterpolargl\":[{\"marker\":{\"colorbar\":{\"outlinewidth\":0,\"ticks\":\"\"}},\"type\":\"scatterpolargl\"}],\"scatterternary\":[{\"marker\":{\"colorbar\":{\"outlinewidth\":0,\"ticks\":\"\"}},\"type\":\"scatterternary\"}],\"surface\":[{\"colorbar\":{\"outlinewidth\":0,\"ticks\":\"\"},\"colorscale\":[[0.0,\"#0d0887\"],[0.1111111111111111,\"#46039f\"],[0.2222222222222222,\"#7201a8\"],[0.3333333333333333,\"#9c179e\"],[0.4444444444444444,\"#bd3786\"],[0.5555555555555556,\"#d8576b\"],[0.6666666666666666,\"#ed7953\"],[0.7777777777777778,\"#fb9f3a\"],[0.8888888888888888,\"#fdca26\"],[1.0,\"#f0f921\"]],\"type\":\"surface\"}],\"table\":[{\"cells\":{\"fill\":{\"color\":\"#EBF0F8\"},\"line\":{\"color\":\"white\"}},\"header\":{\"fill\":{\"color\":\"#C8D4E3\"},\"line\":{\"color\":\"white\"}},\"type\":\"table\"}]},\"layout\":{\"annotationdefaults\":{\"arrowcolor\":\"#2a3f5f\",\"arrowhead\":0,\"arrowwidth\":1},\"autotypenumbers\":\"strict\",\"coloraxis\":{\"colorbar\":{\"outlinewidth\":0,\"ticks\":\"\"}},\"colorscale\":{\"diverging\":[[0,\"#8e0152\"],[0.1,\"#c51b7d\"],[0.2,\"#de77ae\"],[0.3,\"#f1b6da\"],[0.4,\"#fde0ef\"],[0.5,\"#f7f7f7\"],[0.6,\"#e6f5d0\"],[0.7,\"#b8e186\"],[0.8,\"#7fbc41\"],[0.9,\"#4d9221\"],[1,\"#276419\"]],\"sequential\":[[0.0,\"#0d0887\"],[0.1111111111111111,\"#46039f\"],[0.2222222222222222,\"#7201a8\"],[0.3333333333333333,\"#9c179e\"],[0.4444444444444444,\"#bd3786\"],[0.5555555555555556,\"#d8576b\"],[0.6666666666666666,\"#ed7953\"],[0.7777777777777778,\"#fb9f3a\"],[0.8888888888888888,\"#fdca26\"],[1.0,\"#f0f921\"]],\"sequentialminus\":[[0.0,\"#0d0887\"],[0.1111111111111111,\"#46039f\"],[0.2222222222222222,\"#7201a8\"],[0.3333333333333333,\"#9c179e\"],[0.4444444444444444,\"#bd3786\"],[0.5555555555555556,\"#d8576b\"],[0.6666666666666666,\"#ed7953\"],[0.7777777777777778,\"#fb9f3a\"],[0.8888888888888888,\"#fdca26\"],[1.0,\"#f0f921\"]]},\"colorway\":[\"#636efa\",\"#EF553B\",\"#00cc96\",\"#ab63fa\",\"#FFA15A\",\"#19d3f3\",\"#FF6692\",\"#B6E880\",\"#FF97FF\",\"#FECB52\"],\"font\":{\"color\":\"#2a3f5f\"},\"geo\":{\"bgcolor\":\"white\",\"lakecolor\":\"white\",\"landcolor\":\"#E5ECF6\",\"showlakes\":true,\"showland\":true,\"subunitcolor\":\"white\"},\"hoverlabel\":{\"align\":\"left\"},\"hovermode\":\"closest\",\"mapbox\":{\"style\":\"light\"},\"paper_bgcolor\":\"white\",\"plot_bgcolor\":\"#E5ECF6\",\"polar\":{\"angularaxis\":{\"gridcolor\":\"white\",\"linecolor\":\"white\",\"ticks\":\"\"},\"bgcolor\":\"#E5ECF6\",\"radialaxis\":{\"gridcolor\":\"white\",\"linecolor\":\"white\",\"ticks\":\"\"}},\"scene\":{\"xaxis\":{\"backgroundcolor\":\"#E5ECF6\",\"gridcolor\":\"white\",\"gridwidth\":2,\"linecolor\":\"white\",\"showbackground\":true,\"ticks\":\"\",\"zerolinecolor\":\"white\"},\"yaxis\":{\"backgroundcolor\":\"#E5ECF6\",\"gridcolor\":\"white\",\"gridwidth\":2,\"linecolor\":\"white\",\"showbackground\":true,\"ticks\":\"\",\"zerolinecolor\":\"white\"},\"zaxis\":{\"backgroundcolor\":\"#E5ECF6\",\"gridcolor\":\"white\",\"gridwidth\":2,\"linecolor\":\"white\",\"showbackground\":true,\"ticks\":\"\",\"zerolinecolor\":\"white\"}},\"shapedefaults\":{\"line\":{\"color\":\"#2a3f5f\"}},\"ternary\":{\"aaxis\":{\"gridcolor\":\"white\",\"linecolor\":\"white\",\"ticks\":\"\"},\"baxis\":{\"gridcolor\":\"white\",\"linecolor\":\"white\",\"ticks\":\"\"},\"bgcolor\":\"#E5ECF6\",\"caxis\":{\"gridcolor\":\"white\",\"linecolor\":\"white\",\"ticks\":\"\"}},\"title\":{\"x\":0.05},\"xaxis\":{\"automargin\":true,\"gridcolor\":\"white\",\"linecolor\":\"white\",\"ticks\":\"\",\"title\":{\"standoff\":15},\"zerolinecolor\":\"white\",\"zerolinewidth\":2},\"yaxis\":{\"automargin\":true,\"gridcolor\":\"white\",\"linecolor\":\"white\",\"ticks\":\"\",\"title\":{\"standoff\":15},\"zerolinecolor\":\"white\",\"zerolinewidth\":2}}},\"xaxis\":{\"anchor\":\"y\",\"domain\":[0.0,1.0],\"title\":{\"text\":\"Shots Per Avg Match_per season\"}},\"yaxis\":{\"anchor\":\"x\",\"domain\":[0.0,1.0],\"title\":{\"text\":\"xG Per Avg Match_per season\"}},\"legend\":{\"title\":{\"text\":\"cluster\"},\"tracegroupgap\":0},\"margin\":{\"t\":60}},                        {\"responsive\": true}                    ).then(function(){\n",
       "                            \n",
       "var gd = document.getElementById('32b9cf63-166c-4248-b126-2724a0bd6bda');\n",
       "var x = new MutationObserver(function (mutations, observer) {{\n",
       "        var display = window.getComputedStyle(gd).display;\n",
       "        if (!display || display === 'none') {{\n",
       "            console.log([gd, 'removed!']);\n",
       "            Plotly.purge(gd);\n",
       "            observer.disconnect();\n",
       "        }}\n",
       "}});\n",
       "\n",
       "// Listen for the removal of the full notebook cells\n",
       "var notebookContainer = gd.closest('#notebook-container');\n",
       "if (notebookContainer) {{\n",
       "    x.observe(notebookContainer, {childList: true});\n",
       "}}\n",
       "\n",
       "// Listen for the clearing of the current output cell\n",
       "var outputEl = gd.closest('.output');\n",
       "if (outputEl) {{\n",
       "    x.observe(outputEl, {childList: true});\n",
       "}}\n",
       "\n",
       "                        })                };                });            </script>        </div>"
      ]
     },
     "metadata": {},
     "output_type": "display_data"
    }
   ],
   "source": [
    "fig = pl.scatter_3d(fina1, x = 'xG Per Avg Match_per season', y = 'On Target Shots/ Shots', z = 'On Target Per Avg Match_per season', color = 'cluster')\n",
    "\n",
    "fig1 = pl.scatter(fina1, y = 'xG Per Avg Match_per season', x = 'Shots Per Avg Match_per season', color = 'cluster')\n",
    "fig.show()\n",
    "                  \n",
    "fig1.show()                  "
   ]
  },
  {
   "cell_type": "code",
   "execution_count": 240,
   "id": "270cc3fd",
   "metadata": {},
   "outputs": [
    {
     "data": {
      "text/plain": [
       "0.16062937816220083"
      ]
     },
     "execution_count": 240,
     "metadata": {},
     "output_type": "execute_result"
    }
   ],
   "source": [
    "silhouette_score(x, model.labels_)"
   ]
  },
  {
   "cell_type": "markdown",
   "id": "9432407a",
   "metadata": {},
   "source": [
    "###### Могу сказать, что K-means не очень хорошо подходит для этих данных. Исходя из оценки качества модели путем silhouette_score, которою я использовал, чтобы определить наилучшее количество кластеров, оптимальное количество кластеров равно 2 (sil_scoe = 0.16). При трех кластерах значение коэффициента уменьшаласб в два раза. Но собственно почему метод плохой для нашей выборки? В футболе все построено на небольших различаях. То есть топовый футболист не всегда сильно лучше среднего, но это небольшая разница создает ограмную разницу для команды. Поэтому все объекты прилегают к друг другу довольно тесно, в связи с чем довольно тяжело провести радикальные различия между кластерами, особенно если их много. Но конкретно по этой задаче получилось так, что в одно кластере располагаются средние игроки, а во втором кластере отличающиеся от среднего, то есть и топовые, и игроки ниже среднего."
   ]
  },
  {
   "cell_type": "markdown",
   "id": "5474b513",
   "metadata": {},
   "source": [
    "## DBSCAN"
   ]
  },
  {
   "cell_type": "markdown",
   "id": "ec443531",
   "metadata": {},
   "source": [
    "###### Берем определенную точку, присваиваем ей кластер. Потом говорим, не дальше какого расстояния от нее могут находится точки, которые будут называтся \"соседями\" и такие точки-соседи будут оказываться в одном кластере. Затем повторяем это для каждого нового объекта кластера. Находим его соседей и т.д, пока соседей не оставится совсем. Если вдруг у точки нет соседей, то она будет являтся выбросом. Когда закончили один кластер, переходим к другим точкам и смотрим соседей для них, пока не определим все кластеры и выбросы."
   ]
  },
  {
   "cell_type": "code",
   "execution_count": 286,
   "id": "1e9865d4",
   "metadata": {},
   "outputs": [],
   "source": [
    "model = DBSCAN(eps=1.9)\n",
    "fina2 = finale.assign(cluster = model.fit_predict(x))"
   ]
  },
  {
   "cell_type": "code",
   "execution_count": 287,
   "id": "4ad59e16",
   "metadata": {},
   "outputs": [],
   "source": [
    "fina2['cluster'] = fina2['cluster'].astype('str')"
   ]
  },
  {
   "cell_type": "code",
   "execution_count": 288,
   "id": "329546e1",
   "metadata": {},
   "outputs": [
    {
     "data": {
      "application/vnd.plotly.v1+json": {
       "config": {
        "plotlyServerURL": "https://plot.ly"
       },
       "data": [
        {
         "hovertemplate": "cluster=0<br>Shots Per Avg Match_per season=%{x}<br>xG Per Avg Match_per season=%{y}<br>On Target Shots/ Shots=%{z}<extra></extra>",
         "legendgroup": "0",
         "marker": {
          "color": "#636efa",
          "symbol": "circle"
         },
         "mode": "markers",
         "name": "0",
         "scene": "scene",
         "showlegend": true,
         "type": "scatter3d",
         "x": [
          2.73,
          2.01,
          2.19,
          3.26,
          3.14,
          3.78,
          2.57,
          2.65,
          2.41,
          1.36,
          3.05,
          2.88,
          3.8,
          3.62,
          2.66,
          2.74,
          3.15,
          3.74,
          2.85,
          1.03,
          2.08,
          3.73,
          3.22,
          2.92,
          2.67,
          3.72,
          3.56,
          1.87,
          3.34,
          3.81,
          2.15,
          2.83,
          2.95,
          1.82,
          2.72,
          2.73,
          3.12,
          2.8,
          3.3,
          4.19,
          3.78,
          2,
          2.86,
          1.99,
          2.4,
          2.94,
          1.69,
          1.82,
          2.93,
          2.63,
          2.81,
          3.08,
          1.82,
          2.63,
          3.36,
          3.22,
          4.22,
          2.4,
          3.48,
          2.88,
          1.65,
          0.85,
          3.87,
          2.95,
          2.19,
          2.16,
          2.85,
          2.54,
          1.84,
          3.05,
          1.27,
          1.65,
          3.25,
          1.85,
          2.91,
          3.22,
          2.61,
          2.65,
          3.92,
          2.09,
          2.83,
          2.36,
          3.02,
          1.77,
          3.84,
          3.04,
          2.92,
          2.32,
          2.52,
          2.84,
          3.32,
          3.24,
          2.57,
          2.44,
          2.16,
          1.24,
          2.26,
          3.56,
          2.94,
          2.15,
          2.62,
          2.12,
          2.26,
          2.52,
          2.84,
          3.41,
          1.81,
          2.85,
          2.55,
          3.26,
          2.84,
          3.5,
          2.5,
          2.24,
          2.91,
          3.58,
          3.45,
          3.03,
          2.07,
          4.35,
          3.51,
          4.08,
          2.58,
          2.63,
          3.35,
          2.6,
          3.01,
          4.54,
          2.83,
          1.2,
          2.3,
          0.8,
          1.92,
          2.38,
          3.53,
          3.41,
          3.22,
          1.96,
          2.49,
          3.71,
          3.31,
          1.51,
          2.13,
          1.93,
          1.72,
          2.82,
          2.94,
          2.58,
          2.89,
          2.51,
          3.46,
          3.62,
          2.18,
          2.62,
          1.38,
          3.91,
          3.65,
          2.87,
          2.03,
          1.78,
          2.36,
          3.04,
          3.02,
          2.62,
          2.66,
          1.91,
          3.68,
          2.42,
          1.93,
          2.5,
          4.52,
          2.28,
          2.47,
          2.2,
          3.36,
          3.38,
          1.65,
          3.59,
          3.05,
          3.32,
          3.45,
          1.72,
          2.5,
          4.04,
          3.01,
          2.61,
          2.4,
          4.14,
          2.94,
          2.26,
          3.18,
          1.8,
          4.25,
          3.65,
          3.16,
          2.83,
          1.76,
          2.04,
          0.99,
          2.37,
          2.47,
          2.64,
          3.29,
          2.64,
          2.68,
          3.11,
          2.67,
          3.11,
          2.42,
          2.28,
          2.12,
          1.64,
          1.96,
          2.22,
          1.92,
          2.49,
          1.81,
          3.99,
          2.76,
          2.2,
          4.18,
          2.64,
          2.52,
          2.47,
          1.69,
          3.52,
          2.79,
          2.45,
          3.42,
          3.12,
          2,
          3.26,
          3.27,
          2.48,
          2.99,
          3.15,
          2.72,
          3.05,
          2.86,
          2.45,
          2.28,
          3.24,
          2.22,
          3.56,
          2.56,
          3.38,
          4.2,
          4.6,
          1.97,
          2.95,
          1.59,
          2.47,
          3.12,
          2.8,
          3.43,
          2.22,
          4.9,
          3.39,
          2.72,
          3.05,
          1.82,
          3.11,
          2.21,
          1.9,
          1.82,
          2.75,
          4.05,
          1.62,
          2.56,
          3.92,
          1.48,
          2.96,
          4.26,
          1.39,
          2.35,
          3.04,
          2.78,
          3.19,
          2.32,
          3.8,
          2.71,
          2.25,
          2.42,
          1.78,
          2.88,
          2.97,
          3.22,
          3.31,
          2.2,
          2.48,
          2.52,
          2.77,
          2.13,
          3.66,
          2.39,
          3.33,
          2,
          3.01,
          2.47,
          2.26,
          3.72,
          2.93,
          1.93,
          3.75,
          2.92,
          3.12,
          2.23,
          2.34,
          2.72,
          2.47,
          3.02,
          2.15,
          2.2,
          3.97,
          3.76,
          1.91,
          2.03,
          3.17,
          3.23,
          2.64,
          3.08,
          1.68,
          2.83,
          2.4,
          1.93,
          3.11,
          2.17,
          2.48,
          2.98,
          3.51,
          4.23,
          3.09,
          3.45,
          4.5,
          3.38,
          2.49,
          2.28,
          4.37,
          3.3,
          2.65,
          1.16,
          3.16,
          2.89,
          3.51,
          2.75,
          2.91,
          2.34,
          2.81,
          2.54,
          3.1,
          3.64,
          3.69,
          2.73,
          2.67,
          3.21,
          2.73,
          2.79,
          2.6,
          3.28,
          2.86,
          3.06,
          2.32,
          2.01,
          2.48,
          2.08,
          2.6,
          3.16,
          2.56,
          1.73,
          2.88,
          3.69,
          3.75,
          3.06,
          3.2,
          2.68,
          3.91,
          2.28,
          2.66,
          2.09,
          2.57,
          2.28,
          3.78,
          3.14,
          2.51,
          2.97,
          2.76,
          2.2,
          2.22,
          2.11,
          3.17,
          2.87,
          2.09,
          4.79,
          2.98,
          2.52,
          1.2,
          3.21,
          2.97,
          3,
          3.45,
          3.97,
          3.51,
          2.46,
          1.42,
          2.88,
          4.07,
          3.19,
          1.5,
          2.7,
          3.4,
          2.8,
          3.04,
          2.55,
          2.42,
          2.8,
          2.47,
          3.36,
          3.59,
          2.6,
          2.29,
          2.98,
          2.3,
          2.2,
          2.91,
          2.95,
          2.6,
          3.24,
          2.49,
          2.7,
          2.29,
          2.24,
          2.86,
          2.42,
          5.08,
          3.34
         ],
         "y": [
          0.22,
          0.52,
          0.23,
          0.61,
          0.45,
          0.34,
          0.3,
          0.67,
          0.35,
          0.28,
          0.8,
          0.41,
          0.28,
          0.54,
          0.63,
          0.35,
          0.37,
          0.91,
          0.48,
          0.25,
          0.25,
          0.74,
          0.46,
          0.39,
          0.37,
          0.63,
          0.56,
          0.32,
          0.42,
          0.41,
          0.2,
          0.45,
          0.38,
          0.4,
          0.42,
          0.4,
          0.61,
          0.47,
          0.27,
          0.25,
          0.47,
          0.42,
          0.26,
          0.18,
          0.49,
          0.58,
          0.24,
          0.42,
          0.33,
          0.48,
          0.27,
          0.65,
          0.18,
          0.47,
          0.28,
          0.67,
          0.5,
          0.32,
          0.48,
          0.59,
          0.42,
          0.16,
          0.35,
          0.48,
          0.39,
          0.62,
          0.45,
          0.56,
          0.41,
          0.43,
          0.53,
          0.17,
          0.61,
          0.33,
          0.47,
          0.71,
          0.58,
          0.29,
          0.34,
          0.33,
          0.55,
          0.62,
          0.53,
          0.28,
          0.62,
          0.24,
          0.48,
          0.27,
          0.62,
          0.27,
          0.29,
          0.56,
          0.34,
          0.31,
          0.26,
          0.09,
          0.16,
          0.81,
          0.53,
          0.37,
          0.38,
          0.24,
          0.39,
          0.78,
          0.45,
          0.41,
          0.23,
          0.53,
          0.36,
          0.49,
          0.33,
          0.48,
          0.39,
          0.27,
          0.27,
          0.45,
          0.32,
          0.63,
          0.23,
          0.74,
          0.36,
          0.51,
          0.32,
          0.52,
          0.55,
          0.34,
          0.7,
          0.62,
          0.91,
          0.23,
          0.42,
          0.25,
          0.23,
          0.41,
          0.8,
          0.39,
          0.45,
          0.41,
          0.33,
          0.57,
          0.5,
          0.19,
          0.31,
          0.31,
          0.26,
          0.42,
          0.36,
          0.48,
          0.32,
          0.55,
          0.72,
          0.66,
          0.5,
          0.26,
          0.18,
          0.65,
          0.75,
          0.5,
          0.55,
          0.28,
          0.56,
          0.47,
          0.5,
          0.38,
          0.41,
          0.41,
          0.46,
          0.53,
          0.35,
          0.42,
          0.38,
          0.55,
          0.32,
          0.33,
          0.37,
          0.94,
          0.26,
          0.59,
          0.62,
          0.46,
          0.67,
          0.16,
          0.57,
          0.41,
          0.49,
          0.51,
          0.29,
          0.68,
          0.7,
          0.41,
          0.41,
          0.22,
          0.49,
          0.6,
          0.25,
          0.31,
          0.32,
          0.43,
          0.07,
          0.62,
          0.33,
          0.44,
          0.61,
          0.29,
          0.42,
          0.42,
          0.56,
          0.57,
          0.39,
          0.24,
          0.18,
          0.36,
          0.38,
          0.43,
          0.38,
          0.33,
          0.29,
          0.78,
          0.42,
          0.38,
          0.43,
          0.45,
          0.22,
          0.34,
          0.25,
          0.49,
          0.42,
          0.35,
          0.61,
          0.68,
          0.37,
          0.61,
          0.36,
          0.33,
          0.39,
          0.23,
          0.58,
          0.48,
          0.42,
          0.42,
          0.34,
          0.7,
          0.37,
          0.52,
          0.45,
          0.79,
          0.34,
          0.53,
          0.39,
          0.37,
          0.31,
          0.54,
          0.31,
          0.36,
          0.36,
          0.39,
          0.4,
          0.52,
          0.43,
          0.29,
          0.52,
          0.36,
          0.36,
          0.32,
          0.18,
          0.23,
          0.76,
          0.48,
          0.32,
          0.57,
          0.29,
          0.36,
          0.57,
          0.29,
          0.43,
          0.55,
          0.52,
          0.67,
          0.42,
          0.35,
          0.59,
          0.41,
          0.4,
          0.33,
          0.38,
          0.68,
          0.49,
          0.4,
          0.44,
          0.46,
          0.29,
          0.63,
          0.28,
          0.45,
          0.28,
          0.39,
          0.36,
          0.37,
          0.44,
          0.28,
          0.58,
          0.67,
          0.35,
          0.66,
          0.73,
          0.56,
          0.28,
          0.4,
          0.6,
          0.34,
          0.79,
          0.63,
          0.28,
          0.78,
          0.72,
          0.21,
          0.3,
          0.54,
          0.54,
          0.44,
          0.52,
          0.26,
          0.5,
          0.7,
          0.21,
          0.33,
          0.32,
          0.39,
          0.69,
          0.47,
          0.77,
          0.47,
          0.58,
          0.45,
          0.66,
          0.24,
          0.41,
          0.38,
          0.79,
          0.5,
          0.27,
          0.45,
          0.41,
          0.53,
          0.47,
          0.57,
          0.5,
          0.35,
          0.4,
          0.44,
          0.56,
          0.52,
          0.27,
          0.44,
          0.31,
          0.46,
          0.4,
          0.31,
          0.32,
          0.46,
          0.32,
          0.34,
          0.27,
          0.42,
          0.34,
          0.42,
          0.53,
          0.4,
          0.27,
          0.56,
          0.54,
          0.31,
          0.33,
          0.75,
          0.4,
          0.47,
          0.52,
          0.47,
          0.39,
          0.35,
          0.35,
          0.29,
          0.57,
          0.55,
          0.43,
          0.75,
          0.46,
          0.5,
          0.4,
          0.36,
          0.21,
          0.27,
          0.84,
          0.51,
          0.31,
          0.34,
          0.53,
          0.35,
          0.31,
          0.42,
          0.75,
          0.77,
          0.35,
          0.38,
          0.6,
          0.42,
          0.44,
          0.37,
          0.4,
          0.53,
          0.48,
          0.43,
          0.25,
          0.16,
          0.41,
          0.44,
          0.58,
          0.37,
          0.33,
          0.43,
          0.34,
          0.43,
          0.53,
          0.45,
          0.46,
          0.47,
          0.62,
          0.5,
          0.59,
          0.33,
          0.29,
          0.68,
          0.4,
          0.88,
          0.45
         ],
         "z": [
          0.54,
          0.54,
          0.36,
          0.53,
          0.47,
          0.51,
          0.45,
          0.46,
          0.44,
          0.43,
          0.56,
          0.35,
          0.36,
          0.38,
          0.47,
          0.38,
          0.43,
          0.5,
          0.39,
          0.28,
          0.5,
          0.41,
          0.44,
          0.37,
          0.43,
          0.52,
          0.48,
          0.42,
          0.37,
          0.31,
          0.25,
          0.46,
          0.5,
          0.4,
          0.47,
          0.49,
          0.53,
          0.46,
          0.4,
          0.63,
          0.44,
          0.5,
          0.29,
          0.3,
          0.46,
          0.51,
          0.49,
          0.57,
          0.47,
          0.42,
          0.63,
          0.48,
          0.41,
          0.46,
          0.42,
          0.39,
          0.43,
          0.3,
          0.43,
          0.44,
          0.48,
          0.28,
          0.42,
          0.61,
          0.4,
          0.45,
          0.4,
          0.57,
          0.4,
          0.34,
          0.62,
          0.3,
          0.41,
          0.49,
          0.52,
          0.48,
          0.57,
          0.42,
          0.27,
          0.53,
          0.48,
          0.44,
          0.36,
          0.44,
          0.49,
          0.36,
          0.32,
          0.4,
          0.5,
          0.4,
          0.36,
          0.51,
          0.68,
          0.39,
          0.42,
          0.45,
          0.35,
          0.52,
          0.4,
          0.6,
          0.44,
          0.39,
          0.47,
          0.62,
          0.45,
          0.48,
          0.31,
          0.46,
          0.39,
          0.37,
          0.66,
          0.46,
          0.41,
          0.39,
          0.41,
          0.55,
          0.43,
          0.51,
          0.36,
          0.54,
          0.35,
          0.51,
          0.45,
          0.53,
          0.41,
          0.44,
          0.59,
          0.43,
          0.42,
          0.4,
          0.47,
          0.5,
          0.66,
          0.5,
          0.5,
          0.34,
          0.49,
          0.43,
          0.52,
          0.43,
          0.44,
          0.56,
          0.43,
          0.48,
          0.69,
          0.62,
          0.36,
          0.48,
          0.4,
          0.43,
          0.49,
          0.46,
          0.33,
          0.31,
          0.64,
          0.41,
          0.4,
          0.4,
          0.6,
          0.4,
          0.4,
          0.39,
          0.36,
          0.36,
          0.37,
          0.39,
          0.55,
          0.53,
          0.57,
          0.5,
          0.35,
          0.46,
          0.38,
          0.36,
          0.41,
          0.58,
          0.45,
          0.45,
          0.47,
          0.44,
          0.47,
          0.35,
          0.57,
          0.44,
          0.61,
          0.48,
          0.47,
          0.43,
          0.5,
          0.44,
          0.38,
          0.47,
          0.41,
          0.38,
          0.33,
          0.35,
          0.53,
          0.41,
          0.7,
          0.54,
          0.23,
          0.49,
          0.43,
          0.45,
          0.31,
          0.33,
          0.49,
          0.29,
          0.45,
          0.41,
          0.39,
          0.46,
          0.47,
          0.39,
          0.41,
          0.66,
          0.5,
          0.41,
          0.34,
          0.38,
          0.41,
          0.49,
          0.27,
          0.42,
          0.51,
          0.33,
          0.47,
          0.47,
          0.46,
          0.45,
          0.6,
          0.47,
          0.69,
          0.48,
          0.4,
          0.31,
          0.46,
          0.43,
          0.47,
          0.54,
          0.42,
          0.53,
          0.46,
          0.44,
          0.55,
          0.44,
          0.38,
          0.35,
          0.4,
          0.41,
          0.53,
          0.55,
          0.36,
          0.39,
          0.32,
          0.35,
          0.42,
          0.55,
          0.43,
          0.42,
          0.42,
          0.42,
          0.46,
          0.45,
          0.37,
          0.31,
          0.46,
          0.62,
          0.39,
          0.43,
          0.42,
          0.42,
          0.33,
          0.55,
          0.33,
          0.37,
          0.5,
          0.46,
          0.64,
          0.36,
          0.54,
          0.39,
          0.51,
          0.44,
          0.58,
          0.48,
          0.31,
          0.35,
          0.6,
          0.4,
          0.64,
          0.4,
          0.34,
          0.38,
          0.4,
          0.39,
          0.46,
          0.32,
          0.46,
          0.4,
          0.48,
          0.36,
          0.46,
          0.55,
          0.43,
          0.44,
          0.57,
          0.37,
          0.5,
          0.39,
          0.44,
          0.46,
          0.36,
          0.46,
          0.47,
          0.42,
          0.44,
          0.51,
          0.68,
          0.48,
          0.41,
          0.5,
          0.51,
          0.41,
          0.37,
          0.51,
          0.41,
          0.41,
          0.51,
          0.41,
          0.43,
          0.47,
          0.43,
          0.4,
          0.44,
          0.29,
          0.38,
          0.34,
          0.51,
          0.47,
          0.57,
          0.62,
          0.41,
          0.5,
          0.29,
          0.43,
          0.43,
          0.41,
          0.41,
          0.35,
          0.4,
          0.41,
          0.31,
          0.46,
          0.4,
          0.46,
          0.34,
          0.35,
          0.45,
          0.45,
          0.42,
          0.47,
          0.39,
          0.4,
          0.45,
          0.32,
          0.41,
          0.46,
          0.45,
          0.42,
          0.48,
          0.35,
          0.42,
          0.47,
          0.37,
          0.36,
          0.6,
          0.46,
          0.46,
          0.31,
          0.47,
          0.41,
          0.47,
          0.47,
          0.38,
          0.61,
          0.57,
          0.48,
          0.42,
          0.48,
          0.37,
          0.41,
          0.36,
          0.42,
          0.47,
          0.43,
          0.33,
          0.45,
          0.43,
          0.48,
          0.52,
          0.4,
          0.44,
          0.51,
          0.46,
          0.5,
          0.5,
          0.39,
          0.38,
          0.47,
          0.38,
          0.39,
          0.4,
          0.57,
          0.51,
          0.64,
          0.41,
          0.47,
          0.41,
          0.54,
          0.38,
          0.47,
          0.39,
          0.44,
          0.33,
          0.4,
          0.27,
          0.52,
          0.5,
          0.48,
          0.38,
          0.29,
          0.41,
          0.43,
          0.32
         ]
        },
        {
         "hovertemplate": "cluster=-1<br>Shots Per Avg Match_per season=%{x}<br>xG Per Avg Match_per season=%{y}<br>On Target Shots/ Shots=%{z}<extra></extra>",
         "legendgroup": "-1",
         "marker": {
          "color": "#EF553B",
          "symbol": "circle"
         },
         "mode": "markers",
         "name": "-1",
         "scene": "scene",
         "showlegend": true,
         "type": "scatter3d",
         "x": [
          2.05,
          5.07,
          6.28,
          0.81,
          5.01,
          5.39,
          6.27,
          5.59,
          4.84
         ],
         "y": [
          0.45,
          0.77,
          0.97,
          0.46,
          1.1,
          0.8,
          0.93,
          0.37,
          1.04
         ],
         "z": [
          0.83,
          0.45,
          0.41,
          0.8,
          0.58,
          0.47,
          0.43,
          0.23,
          0.47
         ]
        }
       ],
       "layout": {
        "legend": {
         "title": {
          "text": "cluster"
         },
         "tracegroupgap": 0
        },
        "margin": {
         "t": 60
        },
        "scene": {
         "domain": {
          "x": [
           0,
           1
          ],
          "y": [
           0,
           1
          ]
         },
         "xaxis": {
          "title": {
           "text": "Shots Per Avg Match_per season"
          }
         },
         "yaxis": {
          "title": {
           "text": "xG Per Avg Match_per season"
          }
         },
         "zaxis": {
          "title": {
           "text": "On Target Shots/ Shots"
          }
         }
        },
        "template": {
         "data": {
          "bar": [
           {
            "error_x": {
             "color": "#2a3f5f"
            },
            "error_y": {
             "color": "#2a3f5f"
            },
            "marker": {
             "line": {
              "color": "#E5ECF6",
              "width": 0.5
             },
             "pattern": {
              "fillmode": "overlay",
              "size": 10,
              "solidity": 0.2
             }
            },
            "type": "bar"
           }
          ],
          "barpolar": [
           {
            "marker": {
             "line": {
              "color": "#E5ECF6",
              "width": 0.5
             },
             "pattern": {
              "fillmode": "overlay",
              "size": 10,
              "solidity": 0.2
             }
            },
            "type": "barpolar"
           }
          ],
          "carpet": [
           {
            "aaxis": {
             "endlinecolor": "#2a3f5f",
             "gridcolor": "white",
             "linecolor": "white",
             "minorgridcolor": "white",
             "startlinecolor": "#2a3f5f"
            },
            "baxis": {
             "endlinecolor": "#2a3f5f",
             "gridcolor": "white",
             "linecolor": "white",
             "minorgridcolor": "white",
             "startlinecolor": "#2a3f5f"
            },
            "type": "carpet"
           }
          ],
          "choropleth": [
           {
            "colorbar": {
             "outlinewidth": 0,
             "ticks": ""
            },
            "type": "choropleth"
           }
          ],
          "contour": [
           {
            "colorbar": {
             "outlinewidth": 0,
             "ticks": ""
            },
            "colorscale": [
             [
              0,
              "#0d0887"
             ],
             [
              0.1111111111111111,
              "#46039f"
             ],
             [
              0.2222222222222222,
              "#7201a8"
             ],
             [
              0.3333333333333333,
              "#9c179e"
             ],
             [
              0.4444444444444444,
              "#bd3786"
             ],
             [
              0.5555555555555556,
              "#d8576b"
             ],
             [
              0.6666666666666666,
              "#ed7953"
             ],
             [
              0.7777777777777778,
              "#fb9f3a"
             ],
             [
              0.8888888888888888,
              "#fdca26"
             ],
             [
              1,
              "#f0f921"
             ]
            ],
            "type": "contour"
           }
          ],
          "contourcarpet": [
           {
            "colorbar": {
             "outlinewidth": 0,
             "ticks": ""
            },
            "type": "contourcarpet"
           }
          ],
          "heatmap": [
           {
            "colorbar": {
             "outlinewidth": 0,
             "ticks": ""
            },
            "colorscale": [
             [
              0,
              "#0d0887"
             ],
             [
              0.1111111111111111,
              "#46039f"
             ],
             [
              0.2222222222222222,
              "#7201a8"
             ],
             [
              0.3333333333333333,
              "#9c179e"
             ],
             [
              0.4444444444444444,
              "#bd3786"
             ],
             [
              0.5555555555555556,
              "#d8576b"
             ],
             [
              0.6666666666666666,
              "#ed7953"
             ],
             [
              0.7777777777777778,
              "#fb9f3a"
             ],
             [
              0.8888888888888888,
              "#fdca26"
             ],
             [
              1,
              "#f0f921"
             ]
            ],
            "type": "heatmap"
           }
          ],
          "heatmapgl": [
           {
            "colorbar": {
             "outlinewidth": 0,
             "ticks": ""
            },
            "colorscale": [
             [
              0,
              "#0d0887"
             ],
             [
              0.1111111111111111,
              "#46039f"
             ],
             [
              0.2222222222222222,
              "#7201a8"
             ],
             [
              0.3333333333333333,
              "#9c179e"
             ],
             [
              0.4444444444444444,
              "#bd3786"
             ],
             [
              0.5555555555555556,
              "#d8576b"
             ],
             [
              0.6666666666666666,
              "#ed7953"
             ],
             [
              0.7777777777777778,
              "#fb9f3a"
             ],
             [
              0.8888888888888888,
              "#fdca26"
             ],
             [
              1,
              "#f0f921"
             ]
            ],
            "type": "heatmapgl"
           }
          ],
          "histogram": [
           {
            "marker": {
             "pattern": {
              "fillmode": "overlay",
              "size": 10,
              "solidity": 0.2
             }
            },
            "type": "histogram"
           }
          ],
          "histogram2d": [
           {
            "colorbar": {
             "outlinewidth": 0,
             "ticks": ""
            },
            "colorscale": [
             [
              0,
              "#0d0887"
             ],
             [
              0.1111111111111111,
              "#46039f"
             ],
             [
              0.2222222222222222,
              "#7201a8"
             ],
             [
              0.3333333333333333,
              "#9c179e"
             ],
             [
              0.4444444444444444,
              "#bd3786"
             ],
             [
              0.5555555555555556,
              "#d8576b"
             ],
             [
              0.6666666666666666,
              "#ed7953"
             ],
             [
              0.7777777777777778,
              "#fb9f3a"
             ],
             [
              0.8888888888888888,
              "#fdca26"
             ],
             [
              1,
              "#f0f921"
             ]
            ],
            "type": "histogram2d"
           }
          ],
          "histogram2dcontour": [
           {
            "colorbar": {
             "outlinewidth": 0,
             "ticks": ""
            },
            "colorscale": [
             [
              0,
              "#0d0887"
             ],
             [
              0.1111111111111111,
              "#46039f"
             ],
             [
              0.2222222222222222,
              "#7201a8"
             ],
             [
              0.3333333333333333,
              "#9c179e"
             ],
             [
              0.4444444444444444,
              "#bd3786"
             ],
             [
              0.5555555555555556,
              "#d8576b"
             ],
             [
              0.6666666666666666,
              "#ed7953"
             ],
             [
              0.7777777777777778,
              "#fb9f3a"
             ],
             [
              0.8888888888888888,
              "#fdca26"
             ],
             [
              1,
              "#f0f921"
             ]
            ],
            "type": "histogram2dcontour"
           }
          ],
          "mesh3d": [
           {
            "colorbar": {
             "outlinewidth": 0,
             "ticks": ""
            },
            "type": "mesh3d"
           }
          ],
          "parcoords": [
           {
            "line": {
             "colorbar": {
              "outlinewidth": 0,
              "ticks": ""
             }
            },
            "type": "parcoords"
           }
          ],
          "pie": [
           {
            "automargin": true,
            "type": "pie"
           }
          ],
          "scatter": [
           {
            "marker": {
             "colorbar": {
              "outlinewidth": 0,
              "ticks": ""
             }
            },
            "type": "scatter"
           }
          ],
          "scatter3d": [
           {
            "line": {
             "colorbar": {
              "outlinewidth": 0,
              "ticks": ""
             }
            },
            "marker": {
             "colorbar": {
              "outlinewidth": 0,
              "ticks": ""
             }
            },
            "type": "scatter3d"
           }
          ],
          "scattercarpet": [
           {
            "marker": {
             "colorbar": {
              "outlinewidth": 0,
              "ticks": ""
             }
            },
            "type": "scattercarpet"
           }
          ],
          "scattergeo": [
           {
            "marker": {
             "colorbar": {
              "outlinewidth": 0,
              "ticks": ""
             }
            },
            "type": "scattergeo"
           }
          ],
          "scattergl": [
           {
            "marker": {
             "colorbar": {
              "outlinewidth": 0,
              "ticks": ""
             }
            },
            "type": "scattergl"
           }
          ],
          "scattermapbox": [
           {
            "marker": {
             "colorbar": {
              "outlinewidth": 0,
              "ticks": ""
             }
            },
            "type": "scattermapbox"
           }
          ],
          "scatterpolar": [
           {
            "marker": {
             "colorbar": {
              "outlinewidth": 0,
              "ticks": ""
             }
            },
            "type": "scatterpolar"
           }
          ],
          "scatterpolargl": [
           {
            "marker": {
             "colorbar": {
              "outlinewidth": 0,
              "ticks": ""
             }
            },
            "type": "scatterpolargl"
           }
          ],
          "scatterternary": [
           {
            "marker": {
             "colorbar": {
              "outlinewidth": 0,
              "ticks": ""
             }
            },
            "type": "scatterternary"
           }
          ],
          "surface": [
           {
            "colorbar": {
             "outlinewidth": 0,
             "ticks": ""
            },
            "colorscale": [
             [
              0,
              "#0d0887"
             ],
             [
              0.1111111111111111,
              "#46039f"
             ],
             [
              0.2222222222222222,
              "#7201a8"
             ],
             [
              0.3333333333333333,
              "#9c179e"
             ],
             [
              0.4444444444444444,
              "#bd3786"
             ],
             [
              0.5555555555555556,
              "#d8576b"
             ],
             [
              0.6666666666666666,
              "#ed7953"
             ],
             [
              0.7777777777777778,
              "#fb9f3a"
             ],
             [
              0.8888888888888888,
              "#fdca26"
             ],
             [
              1,
              "#f0f921"
             ]
            ],
            "type": "surface"
           }
          ],
          "table": [
           {
            "cells": {
             "fill": {
              "color": "#EBF0F8"
             },
             "line": {
              "color": "white"
             }
            },
            "header": {
             "fill": {
              "color": "#C8D4E3"
             },
             "line": {
              "color": "white"
             }
            },
            "type": "table"
           }
          ]
         },
         "layout": {
          "annotationdefaults": {
           "arrowcolor": "#2a3f5f",
           "arrowhead": 0,
           "arrowwidth": 1
          },
          "autotypenumbers": "strict",
          "coloraxis": {
           "colorbar": {
            "outlinewidth": 0,
            "ticks": ""
           }
          },
          "colorscale": {
           "diverging": [
            [
             0,
             "#8e0152"
            ],
            [
             0.1,
             "#c51b7d"
            ],
            [
             0.2,
             "#de77ae"
            ],
            [
             0.3,
             "#f1b6da"
            ],
            [
             0.4,
             "#fde0ef"
            ],
            [
             0.5,
             "#f7f7f7"
            ],
            [
             0.6,
             "#e6f5d0"
            ],
            [
             0.7,
             "#b8e186"
            ],
            [
             0.8,
             "#7fbc41"
            ],
            [
             0.9,
             "#4d9221"
            ],
            [
             1,
             "#276419"
            ]
           ],
           "sequential": [
            [
             0,
             "#0d0887"
            ],
            [
             0.1111111111111111,
             "#46039f"
            ],
            [
             0.2222222222222222,
             "#7201a8"
            ],
            [
             0.3333333333333333,
             "#9c179e"
            ],
            [
             0.4444444444444444,
             "#bd3786"
            ],
            [
             0.5555555555555556,
             "#d8576b"
            ],
            [
             0.6666666666666666,
             "#ed7953"
            ],
            [
             0.7777777777777778,
             "#fb9f3a"
            ],
            [
             0.8888888888888888,
             "#fdca26"
            ],
            [
             1,
             "#f0f921"
            ]
           ],
           "sequentialminus": [
            [
             0,
             "#0d0887"
            ],
            [
             0.1111111111111111,
             "#46039f"
            ],
            [
             0.2222222222222222,
             "#7201a8"
            ],
            [
             0.3333333333333333,
             "#9c179e"
            ],
            [
             0.4444444444444444,
             "#bd3786"
            ],
            [
             0.5555555555555556,
             "#d8576b"
            ],
            [
             0.6666666666666666,
             "#ed7953"
            ],
            [
             0.7777777777777778,
             "#fb9f3a"
            ],
            [
             0.8888888888888888,
             "#fdca26"
            ],
            [
             1,
             "#f0f921"
            ]
           ]
          },
          "colorway": [
           "#636efa",
           "#EF553B",
           "#00cc96",
           "#ab63fa",
           "#FFA15A",
           "#19d3f3",
           "#FF6692",
           "#B6E880",
           "#FF97FF",
           "#FECB52"
          ],
          "font": {
           "color": "#2a3f5f"
          },
          "geo": {
           "bgcolor": "white",
           "lakecolor": "white",
           "landcolor": "#E5ECF6",
           "showlakes": true,
           "showland": true,
           "subunitcolor": "white"
          },
          "hoverlabel": {
           "align": "left"
          },
          "hovermode": "closest",
          "mapbox": {
           "style": "light"
          },
          "paper_bgcolor": "white",
          "plot_bgcolor": "#E5ECF6",
          "polar": {
           "angularaxis": {
            "gridcolor": "white",
            "linecolor": "white",
            "ticks": ""
           },
           "bgcolor": "#E5ECF6",
           "radialaxis": {
            "gridcolor": "white",
            "linecolor": "white",
            "ticks": ""
           }
          },
          "scene": {
           "xaxis": {
            "backgroundcolor": "#E5ECF6",
            "gridcolor": "white",
            "gridwidth": 2,
            "linecolor": "white",
            "showbackground": true,
            "ticks": "",
            "zerolinecolor": "white"
           },
           "yaxis": {
            "backgroundcolor": "#E5ECF6",
            "gridcolor": "white",
            "gridwidth": 2,
            "linecolor": "white",
            "showbackground": true,
            "ticks": "",
            "zerolinecolor": "white"
           },
           "zaxis": {
            "backgroundcolor": "#E5ECF6",
            "gridcolor": "white",
            "gridwidth": 2,
            "linecolor": "white",
            "showbackground": true,
            "ticks": "",
            "zerolinecolor": "white"
           }
          },
          "shapedefaults": {
           "line": {
            "color": "#2a3f5f"
           }
          },
          "ternary": {
           "aaxis": {
            "gridcolor": "white",
            "linecolor": "white",
            "ticks": ""
           },
           "baxis": {
            "gridcolor": "white",
            "linecolor": "white",
            "ticks": ""
           },
           "bgcolor": "#E5ECF6",
           "caxis": {
            "gridcolor": "white",
            "linecolor": "white",
            "ticks": ""
           }
          },
          "title": {
           "x": 0.05
          },
          "xaxis": {
           "automargin": true,
           "gridcolor": "white",
           "linecolor": "white",
           "ticks": "",
           "title": {
            "standoff": 15
           },
           "zerolinecolor": "white",
           "zerolinewidth": 2
          },
          "yaxis": {
           "automargin": true,
           "gridcolor": "white",
           "linecolor": "white",
           "ticks": "",
           "title": {
            "standoff": 15
           },
           "zerolinecolor": "white",
           "zerolinewidth": 2
          }
         }
        }
       }
      },
      "text/html": [
       "<div>                            <div id=\"8ae0c5da-4efe-4bb6-a3b5-7e42d0ddbaa9\" class=\"plotly-graph-div\" style=\"height:525px; width:100%;\"></div>            <script type=\"text/javascript\">                require([\"plotly\"], function(Plotly) {                    window.PLOTLYENV=window.PLOTLYENV || {};                                    if (document.getElementById(\"8ae0c5da-4efe-4bb6-a3b5-7e42d0ddbaa9\")) {                    Plotly.newPlot(                        \"8ae0c5da-4efe-4bb6-a3b5-7e42d0ddbaa9\",                        [{\"hovertemplate\":\"cluster=0<br>Shots Per Avg Match_per season=%{x}<br>xG Per Avg Match_per season=%{y}<br>On Target Shots/ Shots=%{z}<extra></extra>\",\"legendgroup\":\"0\",\"marker\":{\"color\":\"#636efa\",\"symbol\":\"circle\"},\"mode\":\"markers\",\"name\":\"0\",\"scene\":\"scene\",\"showlegend\":true,\"x\":[2.73,2.01,2.19,3.26,3.14,3.78,2.57,2.65,2.41,1.36,3.05,2.88,3.8,3.62,2.66,2.74,3.15,3.74,2.85,1.03,2.08,3.73,3.22,2.92,2.67,3.72,3.56,1.87,3.34,3.81,2.15,2.83,2.95,1.82,2.72,2.73,3.12,2.8,3.3,4.19,3.78,2.0,2.86,1.99,2.4,2.94,1.69,1.82,2.93,2.63,2.81,3.08,1.82,2.63,3.36,3.22,4.22,2.4,3.48,2.88,1.65,0.85,3.87,2.95,2.19,2.16,2.85,2.54,1.84,3.05,1.27,1.65,3.25,1.85,2.91,3.22,2.61,2.65,3.92,2.09,2.83,2.36,3.02,1.77,3.84,3.04,2.92,2.32,2.52,2.84,3.32,3.24,2.57,2.44,2.16,1.24,2.26,3.56,2.94,2.15,2.62,2.12,2.26,2.52,2.84,3.41,1.81,2.85,2.55,3.26,2.84,3.5,2.5,2.24,2.91,3.58,3.45,3.03,2.07,4.35,3.51,4.08,2.58,2.63,3.35,2.6,3.01,4.54,2.83,1.2,2.3,0.8,1.92,2.38,3.53,3.41,3.22,1.96,2.49,3.71,3.31,1.51,2.13,1.93,1.72,2.82,2.94,2.58,2.89,2.51,3.46,3.62,2.18,2.62,1.38,3.91,3.65,2.87,2.03,1.78,2.36,3.04,3.02,2.62,2.66,1.91,3.68,2.42,1.93,2.5,4.52,2.28,2.47,2.2,3.36,3.38,1.65,3.59,3.05,3.32,3.45,1.72,2.5,4.04,3.01,2.61,2.4,4.14,2.94,2.26,3.18,1.8,4.25,3.65,3.16,2.83,1.76,2.04,0.99,2.37,2.47,2.64,3.29,2.64,2.68,3.11,2.67,3.11,2.42,2.28,2.12,1.64,1.96,2.22,1.92,2.49,1.81,3.99,2.76,2.2,4.18,2.64,2.52,2.47,1.69,3.52,2.79,2.45,3.42,3.12,2.0,3.26,3.27,2.48,2.99,3.15,2.72,3.05,2.86,2.45,2.28,3.24,2.22,3.56,2.56,3.38,4.2,4.6,1.97,2.95,1.59,2.47,3.12,2.8,3.43,2.22,4.9,3.39,2.72,3.05,1.82,3.11,2.21,1.9,1.82,2.75,4.05,1.62,2.56,3.92,1.48,2.96,4.26,1.39,2.35,3.04,2.78,3.19,2.32,3.8,2.71,2.25,2.42,1.78,2.88,2.97,3.22,3.31,2.2,2.48,2.52,2.77,2.13,3.66,2.39,3.33,2.0,3.01,2.47,2.26,3.72,2.93,1.93,3.75,2.92,3.12,2.23,2.34,2.72,2.47,3.02,2.15,2.2,3.97,3.76,1.91,2.03,3.17,3.23,2.64,3.08,1.68,2.83,2.4,1.93,3.11,2.17,2.48,2.98,3.51,4.23,3.09,3.45,4.5,3.38,2.49,2.28,4.37,3.3,2.65,1.16,3.16,2.89,3.51,2.75,2.91,2.34,2.81,2.54,3.1,3.64,3.69,2.73,2.67,3.21,2.73,2.79,2.6,3.28,2.86,3.06,2.32,2.01,2.48,2.08,2.6,3.16,2.56,1.73,2.88,3.69,3.75,3.06,3.2,2.68,3.91,2.28,2.66,2.09,2.57,2.28,3.78,3.14,2.51,2.97,2.76,2.2,2.22,2.11,3.17,2.87,2.09,4.79,2.98,2.52,1.2,3.21,2.97,3.0,3.45,3.97,3.51,2.46,1.42,2.88,4.07,3.19,1.5,2.7,3.4,2.8,3.04,2.55,2.42,2.8,2.47,3.36,3.59,2.6,2.29,2.98,2.3,2.2,2.91,2.95,2.6,3.24,2.49,2.7,2.29,2.24,2.86,2.42,5.08,3.34],\"y\":[0.22,0.52,0.23,0.61,0.45,0.34,0.3,0.67,0.35,0.28,0.8,0.41,0.28,0.54,0.63,0.35,0.37,0.91,0.48,0.25,0.25,0.74,0.46,0.39,0.37,0.63,0.56,0.32,0.42,0.41,0.2,0.45,0.38,0.4,0.42,0.4,0.61,0.47,0.27,0.25,0.47,0.42,0.26,0.18,0.49,0.58,0.24,0.42,0.33,0.48,0.27,0.65,0.18,0.47,0.28,0.67,0.5,0.32,0.48,0.59,0.42,0.16,0.35,0.48,0.39,0.62,0.45,0.56,0.41,0.43,0.53,0.17,0.61,0.33,0.47,0.71,0.58,0.29,0.34,0.33,0.55,0.62,0.53,0.28,0.62,0.24,0.48,0.27,0.62,0.27,0.29,0.56,0.34,0.31,0.26,0.09,0.16,0.81,0.53,0.37,0.38,0.24,0.39,0.78,0.45,0.41,0.23,0.53,0.36,0.49,0.33,0.48,0.39,0.27,0.27,0.45,0.32,0.63,0.23,0.74,0.36,0.51,0.32,0.52,0.55,0.34,0.7,0.62,0.91,0.23,0.42,0.25,0.23,0.41,0.8,0.39,0.45,0.41,0.33,0.57,0.5,0.19,0.31,0.31,0.26,0.42,0.36,0.48,0.32,0.55,0.72,0.66,0.5,0.26,0.18,0.65,0.75,0.5,0.55,0.28,0.56,0.47,0.5,0.38,0.41,0.41,0.46,0.53,0.35,0.42,0.38,0.55,0.32,0.33,0.37,0.94,0.26,0.59,0.62,0.46,0.67,0.16,0.57,0.41,0.49,0.51,0.29,0.68,0.7,0.41,0.41,0.22,0.49,0.6,0.25,0.31,0.32,0.43,0.07,0.62,0.33,0.44,0.61,0.29,0.42,0.42,0.56,0.57,0.39,0.24,0.18,0.36,0.38,0.43,0.38,0.33,0.29,0.78,0.42,0.38,0.43,0.45,0.22,0.34,0.25,0.49,0.42,0.35,0.61,0.68,0.37,0.61,0.36,0.33,0.39,0.23,0.58,0.48,0.42,0.42,0.34,0.7,0.37,0.52,0.45,0.79,0.34,0.53,0.39,0.37,0.31,0.54,0.31,0.36,0.36,0.39,0.4,0.52,0.43,0.29,0.52,0.36,0.36,0.32,0.18,0.23,0.76,0.48,0.32,0.57,0.29,0.36,0.57,0.29,0.43,0.55,0.52,0.67,0.42,0.35,0.59,0.41,0.4,0.33,0.38,0.68,0.49,0.4,0.44,0.46,0.29,0.63,0.28,0.45,0.28,0.39,0.36,0.37,0.44,0.28,0.58,0.67,0.35,0.66,0.73,0.56,0.28,0.4,0.6,0.34,0.79,0.63,0.28,0.78,0.72,0.21,0.3,0.54,0.54,0.44,0.52,0.26,0.5,0.7,0.21,0.33,0.32,0.39,0.69,0.47,0.77,0.47,0.58,0.45,0.66,0.24,0.41,0.38,0.79,0.5,0.27,0.45,0.41,0.53,0.47,0.57,0.5,0.35,0.4,0.44,0.56,0.52,0.27,0.44,0.31,0.46,0.4,0.31,0.32,0.46,0.32,0.34,0.27,0.42,0.34,0.42,0.53,0.4,0.27,0.56,0.54,0.31,0.33,0.75,0.4,0.47,0.52,0.47,0.39,0.35,0.35,0.29,0.57,0.55,0.43,0.75,0.46,0.5,0.4,0.36,0.21,0.27,0.84,0.51,0.31,0.34,0.53,0.35,0.31,0.42,0.75,0.77,0.35,0.38,0.6,0.42,0.44,0.37,0.4,0.53,0.48,0.43,0.25,0.16,0.41,0.44,0.58,0.37,0.33,0.43,0.34,0.43,0.53,0.45,0.46,0.47,0.62,0.5,0.59,0.33,0.29,0.68,0.4,0.88,0.45],\"z\":[0.54,0.54,0.36,0.53,0.47,0.51,0.45,0.46,0.44,0.43,0.56,0.35,0.36,0.38,0.47,0.38,0.43,0.5,0.39,0.28,0.5,0.41,0.44,0.37,0.43,0.52,0.48,0.42,0.37,0.31,0.25,0.46,0.5,0.4,0.47,0.49,0.53,0.46,0.4,0.63,0.44,0.5,0.29,0.3,0.46,0.51,0.49,0.57,0.47,0.42,0.63,0.48,0.41,0.46,0.42,0.39,0.43,0.3,0.43,0.44,0.48,0.28,0.42,0.61,0.4,0.45,0.4,0.57,0.4,0.34,0.62,0.3,0.41,0.49,0.52,0.48,0.57,0.42,0.27,0.53,0.48,0.44,0.36,0.44,0.49,0.36,0.32,0.4,0.5,0.4,0.36,0.51,0.68,0.39,0.42,0.45,0.35,0.52,0.4,0.6,0.44,0.39,0.47,0.62,0.45,0.48,0.31,0.46,0.39,0.37,0.66,0.46,0.41,0.39,0.41,0.55,0.43,0.51,0.36,0.54,0.35,0.51,0.45,0.53,0.41,0.44,0.59,0.43,0.42,0.4,0.47,0.5,0.66,0.5,0.5,0.34,0.49,0.43,0.52,0.43,0.44,0.56,0.43,0.48,0.69,0.62,0.36,0.48,0.4,0.43,0.49,0.46,0.33,0.31,0.64,0.41,0.4,0.4,0.6,0.4,0.4,0.39,0.36,0.36,0.37,0.39,0.55,0.53,0.57,0.5,0.35,0.46,0.38,0.36,0.41,0.58,0.45,0.45,0.47,0.44,0.47,0.35,0.57,0.44,0.61,0.48,0.47,0.43,0.5,0.44,0.38,0.47,0.41,0.38,0.33,0.35,0.53,0.41,0.7,0.54,0.23,0.49,0.43,0.45,0.31,0.33,0.49,0.29,0.45,0.41,0.39,0.46,0.47,0.39,0.41,0.66,0.5,0.41,0.34,0.38,0.41,0.49,0.27,0.42,0.51,0.33,0.47,0.47,0.46,0.45,0.6,0.47,0.69,0.48,0.4,0.31,0.46,0.43,0.47,0.54,0.42,0.53,0.46,0.44,0.55,0.44,0.38,0.35,0.4,0.41,0.53,0.55,0.36,0.39,0.32,0.35,0.42,0.55,0.43,0.42,0.42,0.42,0.46,0.45,0.37,0.31,0.46,0.62,0.39,0.43,0.42,0.42,0.33,0.55,0.33,0.37,0.5,0.46,0.64,0.36,0.54,0.39,0.51,0.44,0.58,0.48,0.31,0.35,0.6,0.4,0.64,0.4,0.34,0.38,0.4,0.39,0.46,0.32,0.46,0.4,0.48,0.36,0.46,0.55,0.43,0.44,0.57,0.37,0.5,0.39,0.44,0.46,0.36,0.46,0.47,0.42,0.44,0.51,0.68,0.48,0.41,0.5,0.51,0.41,0.37,0.51,0.41,0.41,0.51,0.41,0.43,0.47,0.43,0.4,0.44,0.29,0.38,0.34,0.51,0.47,0.57,0.62,0.41,0.5,0.29,0.43,0.43,0.41,0.41,0.35,0.4,0.41,0.31,0.46,0.4,0.46,0.34,0.35,0.45,0.45,0.42,0.47,0.39,0.4,0.45,0.32,0.41,0.46,0.45,0.42,0.48,0.35,0.42,0.47,0.37,0.36,0.6,0.46,0.46,0.31,0.47,0.41,0.47,0.47,0.38,0.61,0.57,0.48,0.42,0.48,0.37,0.41,0.36,0.42,0.47,0.43,0.33,0.45,0.43,0.48,0.52,0.4,0.44,0.51,0.46,0.5,0.5,0.39,0.38,0.47,0.38,0.39,0.4,0.57,0.51,0.64,0.41,0.47,0.41,0.54,0.38,0.47,0.39,0.44,0.33,0.4,0.27,0.52,0.5,0.48,0.38,0.29,0.41,0.43,0.32],\"type\":\"scatter3d\"},{\"hovertemplate\":\"cluster=-1<br>Shots Per Avg Match_per season=%{x}<br>xG Per Avg Match_per season=%{y}<br>On Target Shots/ Shots=%{z}<extra></extra>\",\"legendgroup\":\"-1\",\"marker\":{\"color\":\"#EF553B\",\"symbol\":\"circle\"},\"mode\":\"markers\",\"name\":\"-1\",\"scene\":\"scene\",\"showlegend\":true,\"x\":[2.05,5.07,6.28,0.81,5.01,5.39,6.27,5.59,4.84],\"y\":[0.45,0.77,0.97,0.46,1.1,0.8,0.93,0.37,1.04],\"z\":[0.83,0.45,0.41,0.8,0.58,0.47,0.43,0.23,0.47],\"type\":\"scatter3d\"}],                        {\"template\":{\"data\":{\"bar\":[{\"error_x\":{\"color\":\"#2a3f5f\"},\"error_y\":{\"color\":\"#2a3f5f\"},\"marker\":{\"line\":{\"color\":\"#E5ECF6\",\"width\":0.5},\"pattern\":{\"fillmode\":\"overlay\",\"size\":10,\"solidity\":0.2}},\"type\":\"bar\"}],\"barpolar\":[{\"marker\":{\"line\":{\"color\":\"#E5ECF6\",\"width\":0.5},\"pattern\":{\"fillmode\":\"overlay\",\"size\":10,\"solidity\":0.2}},\"type\":\"barpolar\"}],\"carpet\":[{\"aaxis\":{\"endlinecolor\":\"#2a3f5f\",\"gridcolor\":\"white\",\"linecolor\":\"white\",\"minorgridcolor\":\"white\",\"startlinecolor\":\"#2a3f5f\"},\"baxis\":{\"endlinecolor\":\"#2a3f5f\",\"gridcolor\":\"white\",\"linecolor\":\"white\",\"minorgridcolor\":\"white\",\"startlinecolor\":\"#2a3f5f\"},\"type\":\"carpet\"}],\"choropleth\":[{\"colorbar\":{\"outlinewidth\":0,\"ticks\":\"\"},\"type\":\"choropleth\"}],\"contour\":[{\"colorbar\":{\"outlinewidth\":0,\"ticks\":\"\"},\"colorscale\":[[0.0,\"#0d0887\"],[0.1111111111111111,\"#46039f\"],[0.2222222222222222,\"#7201a8\"],[0.3333333333333333,\"#9c179e\"],[0.4444444444444444,\"#bd3786\"],[0.5555555555555556,\"#d8576b\"],[0.6666666666666666,\"#ed7953\"],[0.7777777777777778,\"#fb9f3a\"],[0.8888888888888888,\"#fdca26\"],[1.0,\"#f0f921\"]],\"type\":\"contour\"}],\"contourcarpet\":[{\"colorbar\":{\"outlinewidth\":0,\"ticks\":\"\"},\"type\":\"contourcarpet\"}],\"heatmap\":[{\"colorbar\":{\"outlinewidth\":0,\"ticks\":\"\"},\"colorscale\":[[0.0,\"#0d0887\"],[0.1111111111111111,\"#46039f\"],[0.2222222222222222,\"#7201a8\"],[0.3333333333333333,\"#9c179e\"],[0.4444444444444444,\"#bd3786\"],[0.5555555555555556,\"#d8576b\"],[0.6666666666666666,\"#ed7953\"],[0.7777777777777778,\"#fb9f3a\"],[0.8888888888888888,\"#fdca26\"],[1.0,\"#f0f921\"]],\"type\":\"heatmap\"}],\"heatmapgl\":[{\"colorbar\":{\"outlinewidth\":0,\"ticks\":\"\"},\"colorscale\":[[0.0,\"#0d0887\"],[0.1111111111111111,\"#46039f\"],[0.2222222222222222,\"#7201a8\"],[0.3333333333333333,\"#9c179e\"],[0.4444444444444444,\"#bd3786\"],[0.5555555555555556,\"#d8576b\"],[0.6666666666666666,\"#ed7953\"],[0.7777777777777778,\"#fb9f3a\"],[0.8888888888888888,\"#fdca26\"],[1.0,\"#f0f921\"]],\"type\":\"heatmapgl\"}],\"histogram\":[{\"marker\":{\"pattern\":{\"fillmode\":\"overlay\",\"size\":10,\"solidity\":0.2}},\"type\":\"histogram\"}],\"histogram2d\":[{\"colorbar\":{\"outlinewidth\":0,\"ticks\":\"\"},\"colorscale\":[[0.0,\"#0d0887\"],[0.1111111111111111,\"#46039f\"],[0.2222222222222222,\"#7201a8\"],[0.3333333333333333,\"#9c179e\"],[0.4444444444444444,\"#bd3786\"],[0.5555555555555556,\"#d8576b\"],[0.6666666666666666,\"#ed7953\"],[0.7777777777777778,\"#fb9f3a\"],[0.8888888888888888,\"#fdca26\"],[1.0,\"#f0f921\"]],\"type\":\"histogram2d\"}],\"histogram2dcontour\":[{\"colorbar\":{\"outlinewidth\":0,\"ticks\":\"\"},\"colorscale\":[[0.0,\"#0d0887\"],[0.1111111111111111,\"#46039f\"],[0.2222222222222222,\"#7201a8\"],[0.3333333333333333,\"#9c179e\"],[0.4444444444444444,\"#bd3786\"],[0.5555555555555556,\"#d8576b\"],[0.6666666666666666,\"#ed7953\"],[0.7777777777777778,\"#fb9f3a\"],[0.8888888888888888,\"#fdca26\"],[1.0,\"#f0f921\"]],\"type\":\"histogram2dcontour\"}],\"mesh3d\":[{\"colorbar\":{\"outlinewidth\":0,\"ticks\":\"\"},\"type\":\"mesh3d\"}],\"parcoords\":[{\"line\":{\"colorbar\":{\"outlinewidth\":0,\"ticks\":\"\"}},\"type\":\"parcoords\"}],\"pie\":[{\"automargin\":true,\"type\":\"pie\"}],\"scatter\":[{\"marker\":{\"colorbar\":{\"outlinewidth\":0,\"ticks\":\"\"}},\"type\":\"scatter\"}],\"scatter3d\":[{\"line\":{\"colorbar\":{\"outlinewidth\":0,\"ticks\":\"\"}},\"marker\":{\"colorbar\":{\"outlinewidth\":0,\"ticks\":\"\"}},\"type\":\"scatter3d\"}],\"scattercarpet\":[{\"marker\":{\"colorbar\":{\"outlinewidth\":0,\"ticks\":\"\"}},\"type\":\"scattercarpet\"}],\"scattergeo\":[{\"marker\":{\"colorbar\":{\"outlinewidth\":0,\"ticks\":\"\"}},\"type\":\"scattergeo\"}],\"scattergl\":[{\"marker\":{\"colorbar\":{\"outlinewidth\":0,\"ticks\":\"\"}},\"type\":\"scattergl\"}],\"scattermapbox\":[{\"marker\":{\"colorbar\":{\"outlinewidth\":0,\"ticks\":\"\"}},\"type\":\"scattermapbox\"}],\"scatterpolar\":[{\"marker\":{\"colorbar\":{\"outlinewidth\":0,\"ticks\":\"\"}},\"type\":\"scatterpolar\"}],\"scatterpolargl\":[{\"marker\":{\"colorbar\":{\"outlinewidth\":0,\"ticks\":\"\"}},\"type\":\"scatterpolargl\"}],\"scatterternary\":[{\"marker\":{\"colorbar\":{\"outlinewidth\":0,\"ticks\":\"\"}},\"type\":\"scatterternary\"}],\"surface\":[{\"colorbar\":{\"outlinewidth\":0,\"ticks\":\"\"},\"colorscale\":[[0.0,\"#0d0887\"],[0.1111111111111111,\"#46039f\"],[0.2222222222222222,\"#7201a8\"],[0.3333333333333333,\"#9c179e\"],[0.4444444444444444,\"#bd3786\"],[0.5555555555555556,\"#d8576b\"],[0.6666666666666666,\"#ed7953\"],[0.7777777777777778,\"#fb9f3a\"],[0.8888888888888888,\"#fdca26\"],[1.0,\"#f0f921\"]],\"type\":\"surface\"}],\"table\":[{\"cells\":{\"fill\":{\"color\":\"#EBF0F8\"},\"line\":{\"color\":\"white\"}},\"header\":{\"fill\":{\"color\":\"#C8D4E3\"},\"line\":{\"color\":\"white\"}},\"type\":\"table\"}]},\"layout\":{\"annotationdefaults\":{\"arrowcolor\":\"#2a3f5f\",\"arrowhead\":0,\"arrowwidth\":1},\"autotypenumbers\":\"strict\",\"coloraxis\":{\"colorbar\":{\"outlinewidth\":0,\"ticks\":\"\"}},\"colorscale\":{\"diverging\":[[0,\"#8e0152\"],[0.1,\"#c51b7d\"],[0.2,\"#de77ae\"],[0.3,\"#f1b6da\"],[0.4,\"#fde0ef\"],[0.5,\"#f7f7f7\"],[0.6,\"#e6f5d0\"],[0.7,\"#b8e186\"],[0.8,\"#7fbc41\"],[0.9,\"#4d9221\"],[1,\"#276419\"]],\"sequential\":[[0.0,\"#0d0887\"],[0.1111111111111111,\"#46039f\"],[0.2222222222222222,\"#7201a8\"],[0.3333333333333333,\"#9c179e\"],[0.4444444444444444,\"#bd3786\"],[0.5555555555555556,\"#d8576b\"],[0.6666666666666666,\"#ed7953\"],[0.7777777777777778,\"#fb9f3a\"],[0.8888888888888888,\"#fdca26\"],[1.0,\"#f0f921\"]],\"sequentialminus\":[[0.0,\"#0d0887\"],[0.1111111111111111,\"#46039f\"],[0.2222222222222222,\"#7201a8\"],[0.3333333333333333,\"#9c179e\"],[0.4444444444444444,\"#bd3786\"],[0.5555555555555556,\"#d8576b\"],[0.6666666666666666,\"#ed7953\"],[0.7777777777777778,\"#fb9f3a\"],[0.8888888888888888,\"#fdca26\"],[1.0,\"#f0f921\"]]},\"colorway\":[\"#636efa\",\"#EF553B\",\"#00cc96\",\"#ab63fa\",\"#FFA15A\",\"#19d3f3\",\"#FF6692\",\"#B6E880\",\"#FF97FF\",\"#FECB52\"],\"font\":{\"color\":\"#2a3f5f\"},\"geo\":{\"bgcolor\":\"white\",\"lakecolor\":\"white\",\"landcolor\":\"#E5ECF6\",\"showlakes\":true,\"showland\":true,\"subunitcolor\":\"white\"},\"hoverlabel\":{\"align\":\"left\"},\"hovermode\":\"closest\",\"mapbox\":{\"style\":\"light\"},\"paper_bgcolor\":\"white\",\"plot_bgcolor\":\"#E5ECF6\",\"polar\":{\"angularaxis\":{\"gridcolor\":\"white\",\"linecolor\":\"white\",\"ticks\":\"\"},\"bgcolor\":\"#E5ECF6\",\"radialaxis\":{\"gridcolor\":\"white\",\"linecolor\":\"white\",\"ticks\":\"\"}},\"scene\":{\"xaxis\":{\"backgroundcolor\":\"#E5ECF6\",\"gridcolor\":\"white\",\"gridwidth\":2,\"linecolor\":\"white\",\"showbackground\":true,\"ticks\":\"\",\"zerolinecolor\":\"white\"},\"yaxis\":{\"backgroundcolor\":\"#E5ECF6\",\"gridcolor\":\"white\",\"gridwidth\":2,\"linecolor\":\"white\",\"showbackground\":true,\"ticks\":\"\",\"zerolinecolor\":\"white\"},\"zaxis\":{\"backgroundcolor\":\"#E5ECF6\",\"gridcolor\":\"white\",\"gridwidth\":2,\"linecolor\":\"white\",\"showbackground\":true,\"ticks\":\"\",\"zerolinecolor\":\"white\"}},\"shapedefaults\":{\"line\":{\"color\":\"#2a3f5f\"}},\"ternary\":{\"aaxis\":{\"gridcolor\":\"white\",\"linecolor\":\"white\",\"ticks\":\"\"},\"baxis\":{\"gridcolor\":\"white\",\"linecolor\":\"white\",\"ticks\":\"\"},\"bgcolor\":\"#E5ECF6\",\"caxis\":{\"gridcolor\":\"white\",\"linecolor\":\"white\",\"ticks\":\"\"}},\"title\":{\"x\":0.05},\"xaxis\":{\"automargin\":true,\"gridcolor\":\"white\",\"linecolor\":\"white\",\"ticks\":\"\",\"title\":{\"standoff\":15},\"zerolinecolor\":\"white\",\"zerolinewidth\":2},\"yaxis\":{\"automargin\":true,\"gridcolor\":\"white\",\"linecolor\":\"white\",\"ticks\":\"\",\"title\":{\"standoff\":15},\"zerolinecolor\":\"white\",\"zerolinewidth\":2}}},\"scene\":{\"domain\":{\"x\":[0.0,1.0],\"y\":[0.0,1.0]},\"xaxis\":{\"title\":{\"text\":\"Shots Per Avg Match_per season\"}},\"yaxis\":{\"title\":{\"text\":\"xG Per Avg Match_per season\"}},\"zaxis\":{\"title\":{\"text\":\"On Target Shots/ Shots\"}}},\"legend\":{\"title\":{\"text\":\"cluster\"},\"tracegroupgap\":0},\"margin\":{\"t\":60}},                        {\"responsive\": true}                    ).then(function(){\n",
       "                            \n",
       "var gd = document.getElementById('8ae0c5da-4efe-4bb6-a3b5-7e42d0ddbaa9');\n",
       "var x = new MutationObserver(function (mutations, observer) {{\n",
       "        var display = window.getComputedStyle(gd).display;\n",
       "        if (!display || display === 'none') {{\n",
       "            console.log([gd, 'removed!']);\n",
       "            Plotly.purge(gd);\n",
       "            observer.disconnect();\n",
       "        }}\n",
       "}});\n",
       "\n",
       "// Listen for the removal of the full notebook cells\n",
       "var notebookContainer = gd.closest('#notebook-container');\n",
       "if (notebookContainer) {{\n",
       "    x.observe(notebookContainer, {childList: true});\n",
       "}}\n",
       "\n",
       "// Listen for the clearing of the current output cell\n",
       "var outputEl = gd.closest('.output');\n",
       "if (outputEl) {{\n",
       "    x.observe(outputEl, {childList: true});\n",
       "}}\n",
       "\n",
       "                        })                };                });            </script>        </div>"
      ]
     },
     "metadata": {},
     "output_type": "display_data"
    }
   ],
   "source": [
    "fig = pl.scatter_3d(fina2, x = 'Shots Per Avg Match_per season', y = 'xG Per Avg Match_per season', z = 'On Target Shots/ Shots', color = 'cluster')\n",
    "\n",
    "fig.show()"
   ]
  },
  {
   "cell_type": "code",
   "execution_count": 289,
   "id": "fd227119",
   "metadata": {},
   "outputs": [
    {
     "data": {
      "text/plain": [
       "0.11804300406546642"
      ]
     },
     "execution_count": 289,
     "metadata": {},
     "output_type": "execute_result"
    }
   ],
   "source": [
    "silhouette_score(fina2, model.labels_)"
   ]
  },
  {
   "cell_type": "markdown",
   "id": "1e26bbc1",
   "metadata": {},
   "source": [
    "###### Собственно,  у DBSCAN такая же проблема, что и у Kmeans. Данные расположены слишком плотно, поэтому кластеры плохо отделяемы. Для определения оптимального количества кластеров также использовал silhouette_score, значения которого я каждый раз считал после смены максимально расстояния между соседями. Исходя из этого коэффициента, можем видеть, что это расстояние должно равнятся двум и оптимальное количество кластеров также равно 2. Также, результат схож с прошлым. Опять получили средних игроков(нулевой игрок) и выдаюищихся в обе стороны. Только теперь размер кластера средних сильно разросся. "
   ]
  },
  {
   "cell_type": "markdown",
   "id": "dab46fce",
   "metadata": {},
   "source": [
    "## Birch"
   ]
  },
  {
   "cell_type": "markdown",
   "id": "c11ab504",
   "metadata": {},
   "source": [
    "###### Кратко говоря, Birch помогает работать с очень большими датасетами. Он работает примерно так же, как Kmeans, но перед этим он разбивает датасет на несколько subdatasets, после чего кластеризует объекты в subdatasets, после чего постепенно начинает собирать все subdatasets воедино с учетом кластеризации."
   ]
  },
  {
   "cell_type": "code",
   "execution_count": 364,
   "id": "71023e3e",
   "metadata": {},
   "outputs": [],
   "source": [
    "model = Birch(threshold = 0.001)"
   ]
  },
  {
   "cell_type": "code",
   "execution_count": 365,
   "id": "d685bdb7",
   "metadata": {},
   "outputs": [],
   "source": [
    "model.fit(finale)\n",
    "cluster = model.fit_predict(finale)"
   ]
  },
  {
   "cell_type": "code",
   "execution_count": 366,
   "id": "5a3e213c",
   "metadata": {},
   "outputs": [],
   "source": [
    "fina3 = finale.assign(cluster = cluster)"
   ]
  },
  {
   "cell_type": "code",
   "execution_count": 367,
   "id": "b8e188d2",
   "metadata": {},
   "outputs": [
    {
     "data": {
      "text/plain": [
       "0.5608449780127501"
      ]
     },
     "execution_count": 367,
     "metadata": {},
     "output_type": "execute_result"
    }
   ],
   "source": [
    "silhouette_score(fina3, model.labels_)"
   ]
  },
  {
   "cell_type": "code",
   "execution_count": 368,
   "id": "dd5632d1",
   "metadata": {},
   "outputs": [],
   "source": [
    "fina3['cluster'] = fina3['cluster'].astype('str')"
   ]
  },
  {
   "cell_type": "code",
   "execution_count": 369,
   "id": "ae7f5671",
   "metadata": {},
   "outputs": [
    {
     "data": {
      "application/vnd.plotly.v1+json": {
       "config": {
        "plotlyServerURL": "https://plot.ly"
       },
       "data": [
        {
         "hovertemplate": "cluster=2<br>xG Per Avg Match_per season=%{x}<br>On Target Shots/ Shots=%{y}<br>On Target Per Avg Match_per season=%{z}<extra></extra>",
         "legendgroup": "2",
         "marker": {
          "color": "#636efa",
          "symbol": "circle"
         },
         "mode": "markers",
         "name": "2",
         "scene": "scene",
         "showlegend": true,
         "type": "scatter3d",
         "x": [
          0.22,
          0.67,
          0.8,
          0.35,
          0.91,
          0.25,
          0.25,
          0.2,
          0.38,
          0.27,
          0.42,
          0.45,
          0.42,
          0.65,
          0.28,
          0.16,
          0.48,
          0.53,
          0.17,
          0.29,
          0.26,
          0.09,
          0.81,
          0.37,
          0.78,
          0.45,
          0.74,
          0.23,
          0.25,
          0.8,
          0.46,
          0.19,
          0.5,
          0.18,
          0.75,
          0.56,
          0.94,
          0.46,
          0.67,
          0.49,
          0.68,
          0.7,
          0.41,
          0.31,
          0.07,
          0.33,
          0.57,
          0.43,
          0.68,
          0.34,
          0.7,
          0.79,
          0.34,
          0.54,
          0.36,
          0.52,
          0.18,
          0.93,
          0.57,
          0.38,
          0.67,
          0.79,
          0.52,
          0.26,
          0.7,
          0.37,
          0.69,
          0.77,
          0.45,
          0.5,
          0.35,
          0.27,
          0.52,
          0.35,
          0.31,
          0.44,
          0.37,
          0.16,
          0.53,
          0.62,
          0.68
         ],
         "y": [
          0.54,
          0.46,
          0.56,
          0.38,
          0.5,
          0.28,
          0.5,
          0.25,
          0.5,
          0.4,
          0.5,
          0.83,
          0.57,
          0.48,
          0.42,
          0.28,
          0.61,
          0.62,
          0.3,
          0.36,
          0.42,
          0.45,
          0.52,
          0.6,
          0.62,
          0.55,
          0.54,
          0.4,
          0.5,
          0.5,
          0.8,
          0.56,
          0.33,
          0.64,
          0.4,
          0.4,
          0.58,
          0.44,
          0.47,
          0.61,
          0.43,
          0.5,
          0.38,
          0.35,
          0.7,
          0.23,
          0.29,
          0.39,
          0.45,
          0.42,
          0.53,
          0.44,
          0.38,
          0.55,
          0.32,
          0.55,
          0.37,
          0.43,
          0.33,
          0.58,
          0.36,
          0.44,
          0.41,
          0.5,
          0.41,
          0.23,
          0.51,
          0.43,
          0.62,
          0.43,
          0.41,
          0.39,
          0.6,
          0.31,
          0.47,
          0.5,
          0.39,
          0.57,
          0.39,
          0.27,
          0.29
         ],
         "z": [
          1.48,
          1.21,
          1.7,
          1.05,
          1.87,
          0.29,
          1.04,
          0.54,
          1.47,
          1.32,
          1,
          1.71,
          1.04,
          1.48,
          1.42,
          0.24,
          1.79,
          0.79,
          0.5,
          1.21,
          0.91,
          0.56,
          1.84,
          1.29,
          1.55,
          1.97,
          2.34,
          0.48,
          0.4,
          1.78,
          0.65,
          0.84,
          0.73,
          0.88,
          1.46,
          0.94,
          1.97,
          1.45,
          1.61,
          1.84,
          1.77,
          1.47,
          1.21,
          0.98,
          0.69,
          0.56,
          0.89,
          0.86,
          1.39,
          0.96,
          1.72,
          1.5,
          1.59,
          1.36,
          1.1,
          1.86,
          0.67,
          2.68,
          1.42,
          1.66,
          1.05,
          1.33,
          1.27,
          0.84,
          0.98,
          1.26,
          1.53,
          1.8,
          1.96,
          1,
          1.14,
          0.78,
          1.37,
          0.8,
          1.18,
          1.6,
          0.58,
          1.38,
          0.85,
          0.86,
          0.82
         ]
        },
        {
         "hovertemplate": "cluster=1<br>xG Per Avg Match_per season=%{x}<br>On Target Shots/ Shots=%{y}<br>On Target Per Avg Match_per season=%{z}<extra></extra>",
         "legendgroup": "1",
         "marker": {
          "color": "#EF553B",
          "symbol": "circle"
         },
         "mode": "markers",
         "name": "1",
         "scene": "scene",
         "showlegend": true,
         "type": "scatter3d",
         "x": [
          0.52,
          0.23,
          0.34,
          0.63,
          0.74,
          0.37,
          0.63,
          0.56,
          0.45,
          0.42,
          0.25,
          0.58,
          0.33,
          0.47,
          0.67,
          0.5,
          0.32,
          0.48,
          0.59,
          0.42,
          0.62,
          0.45,
          0.61,
          0.47,
          0.71,
          0.58,
          0.29,
          0.34,
          0.33,
          0.55,
          0.24,
          0.48,
          0.27,
          0.27,
          0.31,
          0.24,
          0.39,
          0.41,
          0.53,
          0.36,
          0.27,
          0.27,
          0.32,
          0.63,
          0.23,
          0.36,
          0.52,
          0.7,
          0.91,
          0.41,
          0.45,
          0.36,
          0.65,
          0.55,
          0.28,
          0.47,
          0.5,
          0.38,
          0.42,
          0.38,
          0.33,
          0.62,
          0.41,
          0.22,
          0.49,
          0.6,
          0.44,
          0.61,
          0.29,
          0.42,
          0.39,
          0.24,
          0.18,
          0.36,
          0.43,
          0.45,
          0.34,
          0.49,
          0.37,
          0.36,
          0.33,
          0.58,
          0.42,
          0.42,
          0.37,
          1.1,
          0.45,
          0.31,
          0.52,
          0.36,
          0.32,
          0.48,
          0.32,
          0.36,
          0.29,
          0.43,
          0.52,
          0.35,
          0.4,
          0.33,
          0.44,
          0.29,
          0.45,
          0.36,
          0.66,
          0.6,
          0.63,
          0.28,
          0.78,
          0.72,
          0.3,
          0.44,
          0.5,
          0.33,
          0.66,
          0.41,
          0.27,
          0.41,
          0.53,
          0.47,
          0.56,
          0.44,
          0.32,
          0.46,
          0.42,
          0.4,
          0.56,
          0.54,
          0.31,
          0.33,
          0.57,
          0.55,
          0.43,
          0.75,
          0.4,
          0.36,
          0.51,
          0.53,
          0.35,
          0.42,
          0.75,
          0.48,
          0.25,
          0.41,
          0.37,
          0.43,
          0.45,
          0.88,
          0.45
         ],
         "y": [
          0.54,
          0.36,
          0.51,
          0.47,
          0.41,
          0.43,
          0.52,
          0.48,
          0.46,
          0.47,
          0.63,
          0.51,
          0.47,
          0.46,
          0.39,
          0.43,
          0.3,
          0.43,
          0.44,
          0.48,
          0.45,
          0.4,
          0.41,
          0.52,
          0.48,
          0.57,
          0.42,
          0.27,
          0.53,
          0.48,
          0.36,
          0.32,
          0.4,
          0.4,
          0.39,
          0.39,
          0.47,
          0.48,
          0.46,
          0.39,
          0.39,
          0.41,
          0.43,
          0.51,
          0.36,
          0.35,
          0.53,
          0.59,
          0.42,
          0.5,
          0.49,
          0.36,
          0.41,
          0.6,
          0.4,
          0.39,
          0.36,
          0.36,
          0.5,
          0.35,
          0.36,
          0.47,
          0.44,
          0.47,
          0.41,
          0.38,
          0.49,
          0.43,
          0.45,
          0.33,
          0.45,
          0.41,
          0.39,
          0.46,
          0.41,
          0.49,
          0.42,
          0.33,
          0.6,
          0.69,
          0.48,
          0.46,
          0.47,
          0.54,
          0.46,
          0.58,
          0.55,
          0.53,
          0.42,
          0.46,
          0.45,
          0.62,
          0.39,
          0.42,
          0.55,
          0.33,
          0.5,
          0.36,
          0.51,
          0.44,
          0.6,
          0.64,
          0.38,
          0.46,
          0.55,
          0.5,
          0.46,
          0.36,
          0.46,
          0.47,
          0.44,
          0.48,
          0.51,
          0.51,
          0.44,
          0.38,
          0.57,
          0.41,
          0.5,
          0.29,
          0.4,
          0.46,
          0.45,
          0.45,
          0.32,
          0.46,
          0.42,
          0.48,
          0.35,
          0.42,
          0.47,
          0.47,
          0.38,
          0.61,
          0.42,
          0.48,
          0.42,
          0.33,
          0.45,
          0.48,
          0.52,
          0.38,
          0.4,
          0.51,
          0.47,
          0.47,
          0.44,
          0.43,
          0.32
         ],
         "z": [
          1.08,
          0.79,
          1.91,
          1.25,
          1.54,
          1.16,
          1.92,
          1.7,
          1.31,
          1.27,
          2.62,
          1.51,
          1.39,
          1.2,
          1.25,
          1.83,
          0.73,
          1.48,
          1.28,
          0.8,
          0.97,
          1.13,
          1.33,
          1.51,
          1.53,
          1.5,
          1.11,
          1.07,
          1.1,
          1.36,
          1.09,
          0.92,
          0.92,
          1.13,
          0.96,
          0.83,
          1.06,
          1.62,
          1.32,
          1,
          0.87,
          1.2,
          1.5,
          1.54,
          0.75,
          1.22,
          1.4,
          1.78,
          1.2,
          1.19,
          1.57,
          1.06,
          1.62,
          1.21,
          0.72,
          1.2,
          1.08,
          0.94,
          1.25,
          1.56,
          0.79,
          1.42,
          1.79,
          0.84,
          1.74,
          1.38,
          1.29,
          1.42,
          1.2,
          1.04,
          1.09,
          0.94,
          0.82,
          0.75,
          1.71,
          1.29,
          1.03,
          1.17,
          1.19,
          2.24,
          1.18,
          1.25,
          1.33,
          1.32,
          1.02,
          2.89,
          1.41,
          0.84,
          0.76,
          1.02,
          0.86,
          1,
          1.01,
          1.25,
          0.76,
          0.78,
          1.38,
          1.38,
          1.23,
          0.78,
          1.32,
          1.62,
          1.39,
          0.92,
          2.05,
          1.36,
          0.99,
          0.79,
          1.83,
          1.76,
          0.9,
          1.27,
          1.45,
          1.58,
          1.49,
          0.86,
          0.66,
          1.18,
          1.74,
          0.8,
          1.45,
          1.22,
          1.46,
          1.29,
          0.83,
          1.19,
          1.22,
          1.76,
          1.3,
          1.3,
          1.48,
          1.17,
          1.12,
          1.68,
          0.89,
          1.51,
          1.24,
          1.05,
          1.35,
          1.65,
          2.05,
          1.07,
          1.03,
          1.42,
          1.69,
          1.08,
          1.28,
          2.17,
          1.08
         ]
        },
        {
         "hovertemplate": "cluster=0<br>xG Per Avg Match_per season=%{x}<br>On Target Shots/ Shots=%{y}<br>On Target Per Avg Match_per season=%{z}<extra></extra>",
         "legendgroup": "0",
         "marker": {
          "color": "#00cc96",
          "symbol": "circle"
         },
         "mode": "markers",
         "name": "0",
         "scene": "scene",
         "showlegend": true,
         "type": "scatter3d",
         "x": [
          0.61,
          0.45,
          0.3,
          0.35,
          0.28,
          0.41,
          0.28,
          0.54,
          0.37,
          0.48,
          0.46,
          0.39,
          0.32,
          0.42,
          0.41,
          0.4,
          0.4,
          0.61,
          0.47,
          0.47,
          0.26,
          0.18,
          0.49,
          0.24,
          0.48,
          0.27,
          0.18,
          0.35,
          0.39,
          0.56,
          0.41,
          0.43,
          0.77,
          0.33,
          0.62,
          0.53,
          0.28,
          0.62,
          0.62,
          0.97,
          0.56,
          0.34,
          0.16,
          0.53,
          0.38,
          0.45,
          0.23,
          0.49,
          0.33,
          0.48,
          0.39,
          0.51,
          0.32,
          0.55,
          0.34,
          0.62,
          0.42,
          0.23,
          0.39,
          0.41,
          0.33,
          0.57,
          0.5,
          0.31,
          0.31,
          0.26,
          0.42,
          0.48,
          0.32,
          0.55,
          0.72,
          0.66,
          0.26,
          0.5,
          0.41,
          0.41,
          0.46,
          0.53,
          0.35,
          0.55,
          0.32,
          0.37,
          0.26,
          0.59,
          0.16,
          0.57,
          0.51,
          0.29,
          0.41,
          0.25,
          0.32,
          0.43,
          0.62,
          0.42,
          0.56,
          0.38,
          0.38,
          0.33,
          0.29,
          0.78,
          0.42,
          0.38,
          0.22,
          0.25,
          0.42,
          0.35,
          0.61,
          0.61,
          0.39,
          0.23,
          0.48,
          0.52,
          0.53,
          0.39,
          0.37,
          0.31,
          0.36,
          0.8,
          0.39,
          0.4,
          0.43,
          0.29,
          0.36,
          0.23,
          0.76,
          0.57,
          0.29,
          0.55,
          0.67,
          0.42,
          0.59,
          0.41,
          0.68,
          0.49,
          0.4,
          0.46,
          0.63,
          0.28,
          0.28,
          0.39,
          0.37,
          0.44,
          0.28,
          0.58,
          0.35,
          0.73,
          0.56,
          0.28,
          0.4,
          0.34,
          0.21,
          0.54,
          0.54,
          0.21,
          0.32,
          0.39,
          0.47,
          0.47,
          0.58,
          0.45,
          0.24,
          0.38,
          0.79,
          0.5,
          0.57,
          0.4,
          0.44,
          0.52,
          0.27,
          0.31,
          0.46,
          0.4,
          0.31,
          1.04,
          0.32,
          0.34,
          0.42,
          0.34,
          0.53,
          0.27,
          0.75,
          0.4,
          0.47,
          0.47,
          0.39,
          0.35,
          0.29,
          0.46,
          0.5,
          0.21,
          0.27,
          0.84,
          0.34,
          0.31,
          0.77,
          0.35,
          0.38,
          0.6,
          0.42,
          0.4,
          0.53,
          0.43,
          0.44,
          0.58,
          0.33,
          0.43,
          0.34,
          0.46,
          0.47,
          0.5,
          0.59,
          0.33,
          0.29,
          0.4
         ],
         "y": [
          0.53,
          0.47,
          0.45,
          0.44,
          0.43,
          0.35,
          0.36,
          0.38,
          0.43,
          0.39,
          0.44,
          0.37,
          0.42,
          0.37,
          0.31,
          0.4,
          0.49,
          0.53,
          0.46,
          0.44,
          0.29,
          0.3,
          0.46,
          0.49,
          0.42,
          0.63,
          0.41,
          0.42,
          0.4,
          0.57,
          0.4,
          0.34,
          0.45,
          0.49,
          0.44,
          0.36,
          0.44,
          0.49,
          0.5,
          0.41,
          0.51,
          0.68,
          0.35,
          0.4,
          0.44,
          0.45,
          0.31,
          0.37,
          0.66,
          0.46,
          0.41,
          0.51,
          0.45,
          0.41,
          0.44,
          0.43,
          0.47,
          0.66,
          0.34,
          0.43,
          0.52,
          0.43,
          0.44,
          0.43,
          0.48,
          0.69,
          0.62,
          0.48,
          0.4,
          0.43,
          0.49,
          0.46,
          0.31,
          0.4,
          0.37,
          0.39,
          0.55,
          0.53,
          0.57,
          0.46,
          0.38,
          0.41,
          0.45,
          0.45,
          0.35,
          0.57,
          0.48,
          0.47,
          0.44,
          0.33,
          0.53,
          0.41,
          0.54,
          0.31,
          0.49,
          0.47,
          0.41,
          0.66,
          0.5,
          0.41,
          0.34,
          0.38,
          0.27,
          0.51,
          0.47,
          0.47,
          0.46,
          0.47,
          0.4,
          0.31,
          0.43,
          0.44,
          0.35,
          0.4,
          0.41,
          0.36,
          0.39,
          0.47,
          0.35,
          0.42,
          0.43,
          0.42,
          0.42,
          0.31,
          0.46,
          0.43,
          0.42,
          0.37,
          0.46,
          0.64,
          0.54,
          0.39,
          0.48,
          0.31,
          0.35,
          0.4,
          0.4,
          0.34,
          0.4,
          0.39,
          0.32,
          0.46,
          0.4,
          0.48,
          0.46,
          0.43,
          0.44,
          0.57,
          0.37,
          0.39,
          0.42,
          0.51,
          0.68,
          0.37,
          0.41,
          0.41,
          0.41,
          0.47,
          0.43,
          0.4,
          0.29,
          0.34,
          0.51,
          0.47,
          0.43,
          0.41,
          0.35,
          0.41,
          0.31,
          0.4,
          0.46,
          0.34,
          0.35,
          0.47,
          0.42,
          0.47,
          0.4,
          0.45,
          0.41,
          0.45,
          0.47,
          0.37,
          0.36,
          0.46,
          0.46,
          0.47,
          0.41,
          0.57,
          0.48,
          0.37,
          0.41,
          0.36,
          0.43,
          0.43,
          0.4,
          0.44,
          0.51,
          0.46,
          0.5,
          0.38,
          0.47,
          0.39,
          0.64,
          0.41,
          0.41,
          0.54,
          0.38,
          0.33,
          0.4,
          0.52,
          0.5,
          0.48,
          0.38,
          0.41
         ],
         "z": [
          1.72,
          1.48,
          1.16,
          1.06,
          0.59,
          1,
          1.35,
          1.38,
          1.34,
          1.1,
          1.42,
          1.09,
          0.78,
          1.22,
          1.18,
          0.72,
          1.33,
          1.64,
          1.3,
          1.68,
          0.84,
          0.59,
          1.11,
          0.83,
          1.11,
          1.77,
          0.75,
          1.64,
          0.87,
          1.46,
          0.74,
          1.04,
          2.28,
          0.91,
          1.05,
          1.09,
          0.77,
          1.9,
          1.27,
          2.59,
          1.66,
          1.76,
          0.78,
          1.17,
          1.16,
          1.28,
          0.56,
          1.21,
          1.87,
          1.62,
          1.02,
          2.07,
          1.17,
          1.38,
          1.14,
          1.94,
          1.08,
          1.26,
          1.15,
          0.85,
          1.3,
          1.6,
          1.44,
          0.92,
          0.93,
          1.19,
          1.74,
          1.23,
          1.16,
          1.08,
          1.69,
          1.65,
          0.82,
          1.14,
          0.98,
          0.74,
          2.02,
          1.29,
          1.1,
          1.05,
          0.95,
          1.38,
          0.74,
          1.63,
          0.6,
          1.42,
          1.25,
          1.12,
          1,
          1.03,
          0.94,
          0.84,
          1.28,
          0.84,
          1.3,
          0.92,
          0.78,
          1.65,
          0.91,
          1.62,
          0.95,
          0.83,
          0.69,
          0.86,
          1.3,
          1.14,
          1.57,
          1.53,
          1.19,
          0.99,
          1.31,
          1.57,
          1.62,
          0.79,
          1.22,
          1.11,
          1.1,
          2.51,
          0.77,
          2.07,
          1.17,
          1.28,
          1.3,
          0.85,
          1.86,
          1.7,
          0.62,
          1.12,
          1.48,
          1.49,
          1.45,
          0.88,
          1.44,
          1.01,
          1.16,
          0.98,
          1.12,
          0.72,
          0.96,
          1.3,
          0.95,
          1.14,
          0.9,
          1.79,
          0.89,
          1.27,
          1.38,
          1.27,
          0.87,
          0.96,
          0.8,
          1.61,
          2.19,
          0.71,
          0.9,
          1.02,
          1.43,
          1.44,
          1.47,
          1.78,
          0.72,
          1.47,
          1.69,
          1.24,
          1.25,
          1.03,
          1.08,
          1.51,
          0.84,
          1.28,
          1.25,
          0.94,
          0.92,
          2.28,
          1.27,
          1.08,
          0.98,
          0.94,
          1.3,
          0.77,
          1.5,
          0.99,
          1.4,
          1.23,
          0.96,
          1.07,
          1.54,
          1.25,
          1.07,
          1.07,
          0.85,
          1.74,
          0.52,
          1.29,
          1.4,
          1.08,
          0.73,
          1.33,
          2.03,
          1.02,
          1.61,
          1.19,
          1.58,
          1.37,
          1.07,
          1.23,
          1.14,
          0.96,
          1.05,
          1.29,
          1.34,
          1.1,
          0.86,
          1
         ]
        }
       ],
       "layout": {
        "legend": {
         "title": {
          "text": "cluster"
         },
         "tracegroupgap": 0
        },
        "margin": {
         "t": 60
        },
        "scene": {
         "domain": {
          "x": [
           0,
           1
          ],
          "y": [
           0,
           1
          ]
         },
         "xaxis": {
          "title": {
           "text": "xG Per Avg Match_per season"
          }
         },
         "yaxis": {
          "title": {
           "text": "On Target Shots/ Shots"
          }
         },
         "zaxis": {
          "title": {
           "text": "On Target Per Avg Match_per season"
          }
         }
        },
        "template": {
         "data": {
          "bar": [
           {
            "error_x": {
             "color": "#2a3f5f"
            },
            "error_y": {
             "color": "#2a3f5f"
            },
            "marker": {
             "line": {
              "color": "#E5ECF6",
              "width": 0.5
             },
             "pattern": {
              "fillmode": "overlay",
              "size": 10,
              "solidity": 0.2
             }
            },
            "type": "bar"
           }
          ],
          "barpolar": [
           {
            "marker": {
             "line": {
              "color": "#E5ECF6",
              "width": 0.5
             },
             "pattern": {
              "fillmode": "overlay",
              "size": 10,
              "solidity": 0.2
             }
            },
            "type": "barpolar"
           }
          ],
          "carpet": [
           {
            "aaxis": {
             "endlinecolor": "#2a3f5f",
             "gridcolor": "white",
             "linecolor": "white",
             "minorgridcolor": "white",
             "startlinecolor": "#2a3f5f"
            },
            "baxis": {
             "endlinecolor": "#2a3f5f",
             "gridcolor": "white",
             "linecolor": "white",
             "minorgridcolor": "white",
             "startlinecolor": "#2a3f5f"
            },
            "type": "carpet"
           }
          ],
          "choropleth": [
           {
            "colorbar": {
             "outlinewidth": 0,
             "ticks": ""
            },
            "type": "choropleth"
           }
          ],
          "contour": [
           {
            "colorbar": {
             "outlinewidth": 0,
             "ticks": ""
            },
            "colorscale": [
             [
              0,
              "#0d0887"
             ],
             [
              0.1111111111111111,
              "#46039f"
             ],
             [
              0.2222222222222222,
              "#7201a8"
             ],
             [
              0.3333333333333333,
              "#9c179e"
             ],
             [
              0.4444444444444444,
              "#bd3786"
             ],
             [
              0.5555555555555556,
              "#d8576b"
             ],
             [
              0.6666666666666666,
              "#ed7953"
             ],
             [
              0.7777777777777778,
              "#fb9f3a"
             ],
             [
              0.8888888888888888,
              "#fdca26"
             ],
             [
              1,
              "#f0f921"
             ]
            ],
            "type": "contour"
           }
          ],
          "contourcarpet": [
           {
            "colorbar": {
             "outlinewidth": 0,
             "ticks": ""
            },
            "type": "contourcarpet"
           }
          ],
          "heatmap": [
           {
            "colorbar": {
             "outlinewidth": 0,
             "ticks": ""
            },
            "colorscale": [
             [
              0,
              "#0d0887"
             ],
             [
              0.1111111111111111,
              "#46039f"
             ],
             [
              0.2222222222222222,
              "#7201a8"
             ],
             [
              0.3333333333333333,
              "#9c179e"
             ],
             [
              0.4444444444444444,
              "#bd3786"
             ],
             [
              0.5555555555555556,
              "#d8576b"
             ],
             [
              0.6666666666666666,
              "#ed7953"
             ],
             [
              0.7777777777777778,
              "#fb9f3a"
             ],
             [
              0.8888888888888888,
              "#fdca26"
             ],
             [
              1,
              "#f0f921"
             ]
            ],
            "type": "heatmap"
           }
          ],
          "heatmapgl": [
           {
            "colorbar": {
             "outlinewidth": 0,
             "ticks": ""
            },
            "colorscale": [
             [
              0,
              "#0d0887"
             ],
             [
              0.1111111111111111,
              "#46039f"
             ],
             [
              0.2222222222222222,
              "#7201a8"
             ],
             [
              0.3333333333333333,
              "#9c179e"
             ],
             [
              0.4444444444444444,
              "#bd3786"
             ],
             [
              0.5555555555555556,
              "#d8576b"
             ],
             [
              0.6666666666666666,
              "#ed7953"
             ],
             [
              0.7777777777777778,
              "#fb9f3a"
             ],
             [
              0.8888888888888888,
              "#fdca26"
             ],
             [
              1,
              "#f0f921"
             ]
            ],
            "type": "heatmapgl"
           }
          ],
          "histogram": [
           {
            "marker": {
             "pattern": {
              "fillmode": "overlay",
              "size": 10,
              "solidity": 0.2
             }
            },
            "type": "histogram"
           }
          ],
          "histogram2d": [
           {
            "colorbar": {
             "outlinewidth": 0,
             "ticks": ""
            },
            "colorscale": [
             [
              0,
              "#0d0887"
             ],
             [
              0.1111111111111111,
              "#46039f"
             ],
             [
              0.2222222222222222,
              "#7201a8"
             ],
             [
              0.3333333333333333,
              "#9c179e"
             ],
             [
              0.4444444444444444,
              "#bd3786"
             ],
             [
              0.5555555555555556,
              "#d8576b"
             ],
             [
              0.6666666666666666,
              "#ed7953"
             ],
             [
              0.7777777777777778,
              "#fb9f3a"
             ],
             [
              0.8888888888888888,
              "#fdca26"
             ],
             [
              1,
              "#f0f921"
             ]
            ],
            "type": "histogram2d"
           }
          ],
          "histogram2dcontour": [
           {
            "colorbar": {
             "outlinewidth": 0,
             "ticks": ""
            },
            "colorscale": [
             [
              0,
              "#0d0887"
             ],
             [
              0.1111111111111111,
              "#46039f"
             ],
             [
              0.2222222222222222,
              "#7201a8"
             ],
             [
              0.3333333333333333,
              "#9c179e"
             ],
             [
              0.4444444444444444,
              "#bd3786"
             ],
             [
              0.5555555555555556,
              "#d8576b"
             ],
             [
              0.6666666666666666,
              "#ed7953"
             ],
             [
              0.7777777777777778,
              "#fb9f3a"
             ],
             [
              0.8888888888888888,
              "#fdca26"
             ],
             [
              1,
              "#f0f921"
             ]
            ],
            "type": "histogram2dcontour"
           }
          ],
          "mesh3d": [
           {
            "colorbar": {
             "outlinewidth": 0,
             "ticks": ""
            },
            "type": "mesh3d"
           }
          ],
          "parcoords": [
           {
            "line": {
             "colorbar": {
              "outlinewidth": 0,
              "ticks": ""
             }
            },
            "type": "parcoords"
           }
          ],
          "pie": [
           {
            "automargin": true,
            "type": "pie"
           }
          ],
          "scatter": [
           {
            "marker": {
             "colorbar": {
              "outlinewidth": 0,
              "ticks": ""
             }
            },
            "type": "scatter"
           }
          ],
          "scatter3d": [
           {
            "line": {
             "colorbar": {
              "outlinewidth": 0,
              "ticks": ""
             }
            },
            "marker": {
             "colorbar": {
              "outlinewidth": 0,
              "ticks": ""
             }
            },
            "type": "scatter3d"
           }
          ],
          "scattercarpet": [
           {
            "marker": {
             "colorbar": {
              "outlinewidth": 0,
              "ticks": ""
             }
            },
            "type": "scattercarpet"
           }
          ],
          "scattergeo": [
           {
            "marker": {
             "colorbar": {
              "outlinewidth": 0,
              "ticks": ""
             }
            },
            "type": "scattergeo"
           }
          ],
          "scattergl": [
           {
            "marker": {
             "colorbar": {
              "outlinewidth": 0,
              "ticks": ""
             }
            },
            "type": "scattergl"
           }
          ],
          "scattermapbox": [
           {
            "marker": {
             "colorbar": {
              "outlinewidth": 0,
              "ticks": ""
             }
            },
            "type": "scattermapbox"
           }
          ],
          "scatterpolar": [
           {
            "marker": {
             "colorbar": {
              "outlinewidth": 0,
              "ticks": ""
             }
            },
            "type": "scatterpolar"
           }
          ],
          "scatterpolargl": [
           {
            "marker": {
             "colorbar": {
              "outlinewidth": 0,
              "ticks": ""
             }
            },
            "type": "scatterpolargl"
           }
          ],
          "scatterternary": [
           {
            "marker": {
             "colorbar": {
              "outlinewidth": 0,
              "ticks": ""
             }
            },
            "type": "scatterternary"
           }
          ],
          "surface": [
           {
            "colorbar": {
             "outlinewidth": 0,
             "ticks": ""
            },
            "colorscale": [
             [
              0,
              "#0d0887"
             ],
             [
              0.1111111111111111,
              "#46039f"
             ],
             [
              0.2222222222222222,
              "#7201a8"
             ],
             [
              0.3333333333333333,
              "#9c179e"
             ],
             [
              0.4444444444444444,
              "#bd3786"
             ],
             [
              0.5555555555555556,
              "#d8576b"
             ],
             [
              0.6666666666666666,
              "#ed7953"
             ],
             [
              0.7777777777777778,
              "#fb9f3a"
             ],
             [
              0.8888888888888888,
              "#fdca26"
             ],
             [
              1,
              "#f0f921"
             ]
            ],
            "type": "surface"
           }
          ],
          "table": [
           {
            "cells": {
             "fill": {
              "color": "#EBF0F8"
             },
             "line": {
              "color": "white"
             }
            },
            "header": {
             "fill": {
              "color": "#C8D4E3"
             },
             "line": {
              "color": "white"
             }
            },
            "type": "table"
           }
          ]
         },
         "layout": {
          "annotationdefaults": {
           "arrowcolor": "#2a3f5f",
           "arrowhead": 0,
           "arrowwidth": 1
          },
          "autotypenumbers": "strict",
          "coloraxis": {
           "colorbar": {
            "outlinewidth": 0,
            "ticks": ""
           }
          },
          "colorscale": {
           "diverging": [
            [
             0,
             "#8e0152"
            ],
            [
             0.1,
             "#c51b7d"
            ],
            [
             0.2,
             "#de77ae"
            ],
            [
             0.3,
             "#f1b6da"
            ],
            [
             0.4,
             "#fde0ef"
            ],
            [
             0.5,
             "#f7f7f7"
            ],
            [
             0.6,
             "#e6f5d0"
            ],
            [
             0.7,
             "#b8e186"
            ],
            [
             0.8,
             "#7fbc41"
            ],
            [
             0.9,
             "#4d9221"
            ],
            [
             1,
             "#276419"
            ]
           ],
           "sequential": [
            [
             0,
             "#0d0887"
            ],
            [
             0.1111111111111111,
             "#46039f"
            ],
            [
             0.2222222222222222,
             "#7201a8"
            ],
            [
             0.3333333333333333,
             "#9c179e"
            ],
            [
             0.4444444444444444,
             "#bd3786"
            ],
            [
             0.5555555555555556,
             "#d8576b"
            ],
            [
             0.6666666666666666,
             "#ed7953"
            ],
            [
             0.7777777777777778,
             "#fb9f3a"
            ],
            [
             0.8888888888888888,
             "#fdca26"
            ],
            [
             1,
             "#f0f921"
            ]
           ],
           "sequentialminus": [
            [
             0,
             "#0d0887"
            ],
            [
             0.1111111111111111,
             "#46039f"
            ],
            [
             0.2222222222222222,
             "#7201a8"
            ],
            [
             0.3333333333333333,
             "#9c179e"
            ],
            [
             0.4444444444444444,
             "#bd3786"
            ],
            [
             0.5555555555555556,
             "#d8576b"
            ],
            [
             0.6666666666666666,
             "#ed7953"
            ],
            [
             0.7777777777777778,
             "#fb9f3a"
            ],
            [
             0.8888888888888888,
             "#fdca26"
            ],
            [
             1,
             "#f0f921"
            ]
           ]
          },
          "colorway": [
           "#636efa",
           "#EF553B",
           "#00cc96",
           "#ab63fa",
           "#FFA15A",
           "#19d3f3",
           "#FF6692",
           "#B6E880",
           "#FF97FF",
           "#FECB52"
          ],
          "font": {
           "color": "#2a3f5f"
          },
          "geo": {
           "bgcolor": "white",
           "lakecolor": "white",
           "landcolor": "#E5ECF6",
           "showlakes": true,
           "showland": true,
           "subunitcolor": "white"
          },
          "hoverlabel": {
           "align": "left"
          },
          "hovermode": "closest",
          "mapbox": {
           "style": "light"
          },
          "paper_bgcolor": "white",
          "plot_bgcolor": "#E5ECF6",
          "polar": {
           "angularaxis": {
            "gridcolor": "white",
            "linecolor": "white",
            "ticks": ""
           },
           "bgcolor": "#E5ECF6",
           "radialaxis": {
            "gridcolor": "white",
            "linecolor": "white",
            "ticks": ""
           }
          },
          "scene": {
           "xaxis": {
            "backgroundcolor": "#E5ECF6",
            "gridcolor": "white",
            "gridwidth": 2,
            "linecolor": "white",
            "showbackground": true,
            "ticks": "",
            "zerolinecolor": "white"
           },
           "yaxis": {
            "backgroundcolor": "#E5ECF6",
            "gridcolor": "white",
            "gridwidth": 2,
            "linecolor": "white",
            "showbackground": true,
            "ticks": "",
            "zerolinecolor": "white"
           },
           "zaxis": {
            "backgroundcolor": "#E5ECF6",
            "gridcolor": "white",
            "gridwidth": 2,
            "linecolor": "white",
            "showbackground": true,
            "ticks": "",
            "zerolinecolor": "white"
           }
          },
          "shapedefaults": {
           "line": {
            "color": "#2a3f5f"
           }
          },
          "ternary": {
           "aaxis": {
            "gridcolor": "white",
            "linecolor": "white",
            "ticks": ""
           },
           "baxis": {
            "gridcolor": "white",
            "linecolor": "white",
            "ticks": ""
           },
           "bgcolor": "#E5ECF6",
           "caxis": {
            "gridcolor": "white",
            "linecolor": "white",
            "ticks": ""
           }
          },
          "title": {
           "x": 0.05
          },
          "xaxis": {
           "automargin": true,
           "gridcolor": "white",
           "linecolor": "white",
           "ticks": "",
           "title": {
            "standoff": 15
           },
           "zerolinecolor": "white",
           "zerolinewidth": 2
          },
          "yaxis": {
           "automargin": true,
           "gridcolor": "white",
           "linecolor": "white",
           "ticks": "",
           "title": {
            "standoff": 15
           },
           "zerolinecolor": "white",
           "zerolinewidth": 2
          }
         }
        }
       }
      },
      "text/html": [
       "<div>                            <div id=\"fd226c51-a1ce-40f9-bca8-c49f54c99e64\" class=\"plotly-graph-div\" style=\"height:525px; width:100%;\"></div>            <script type=\"text/javascript\">                require([\"plotly\"], function(Plotly) {                    window.PLOTLYENV=window.PLOTLYENV || {};                                    if (document.getElementById(\"fd226c51-a1ce-40f9-bca8-c49f54c99e64\")) {                    Plotly.newPlot(                        \"fd226c51-a1ce-40f9-bca8-c49f54c99e64\",                        [{\"hovertemplate\":\"cluster=2<br>xG Per Avg Match_per season=%{x}<br>On Target Shots/ Shots=%{y}<br>On Target Per Avg Match_per season=%{z}<extra></extra>\",\"legendgroup\":\"2\",\"marker\":{\"color\":\"#636efa\",\"symbol\":\"circle\"},\"mode\":\"markers\",\"name\":\"2\",\"scene\":\"scene\",\"showlegend\":true,\"x\":[0.22,0.67,0.8,0.35,0.91,0.25,0.25,0.2,0.38,0.27,0.42,0.45,0.42,0.65,0.28,0.16,0.48,0.53,0.17,0.29,0.26,0.09,0.81,0.37,0.78,0.45,0.74,0.23,0.25,0.8,0.46,0.19,0.5,0.18,0.75,0.56,0.94,0.46,0.67,0.49,0.68,0.7,0.41,0.31,0.07,0.33,0.57,0.43,0.68,0.34,0.7,0.79,0.34,0.54,0.36,0.52,0.18,0.93,0.57,0.38,0.67,0.79,0.52,0.26,0.7,0.37,0.69,0.77,0.45,0.5,0.35,0.27,0.52,0.35,0.31,0.44,0.37,0.16,0.53,0.62,0.68],\"y\":[0.54,0.46,0.56,0.38,0.5,0.28,0.5,0.25,0.5,0.4,0.5,0.83,0.57,0.48,0.42,0.28,0.61,0.62,0.3,0.36,0.42,0.45,0.52,0.6,0.62,0.55,0.54,0.4,0.5,0.5,0.8,0.56,0.33,0.64,0.4,0.4,0.58,0.44,0.47,0.61,0.43,0.5,0.38,0.35,0.7,0.23,0.29,0.39,0.45,0.42,0.53,0.44,0.38,0.55,0.32,0.55,0.37,0.43,0.33,0.58,0.36,0.44,0.41,0.5,0.41,0.23,0.51,0.43,0.62,0.43,0.41,0.39,0.6,0.31,0.47,0.5,0.39,0.57,0.39,0.27,0.29],\"z\":[1.48,1.21,1.7,1.05,1.87,0.29,1.04,0.54,1.47,1.32,1.0,1.71,1.04,1.48,1.42,0.24,1.79,0.79,0.5,1.21,0.91,0.56,1.84,1.29,1.55,1.97,2.34,0.48,0.4,1.78,0.65,0.84,0.73,0.88,1.46,0.94,1.97,1.45,1.61,1.84,1.77,1.47,1.21,0.98,0.69,0.56,0.89,0.86,1.39,0.96,1.72,1.5,1.59,1.36,1.1,1.86,0.67,2.68,1.42,1.66,1.05,1.33,1.27,0.84,0.98,1.26,1.53,1.8,1.96,1.0,1.14,0.78,1.37,0.8,1.18,1.6,0.58,1.38,0.85,0.86,0.82],\"type\":\"scatter3d\"},{\"hovertemplate\":\"cluster=1<br>xG Per Avg Match_per season=%{x}<br>On Target Shots/ Shots=%{y}<br>On Target Per Avg Match_per season=%{z}<extra></extra>\",\"legendgroup\":\"1\",\"marker\":{\"color\":\"#EF553B\",\"symbol\":\"circle\"},\"mode\":\"markers\",\"name\":\"1\",\"scene\":\"scene\",\"showlegend\":true,\"x\":[0.52,0.23,0.34,0.63,0.74,0.37,0.63,0.56,0.45,0.42,0.25,0.58,0.33,0.47,0.67,0.5,0.32,0.48,0.59,0.42,0.62,0.45,0.61,0.47,0.71,0.58,0.29,0.34,0.33,0.55,0.24,0.48,0.27,0.27,0.31,0.24,0.39,0.41,0.53,0.36,0.27,0.27,0.32,0.63,0.23,0.36,0.52,0.7,0.91,0.41,0.45,0.36,0.65,0.55,0.28,0.47,0.5,0.38,0.42,0.38,0.33,0.62,0.41,0.22,0.49,0.6,0.44,0.61,0.29,0.42,0.39,0.24,0.18,0.36,0.43,0.45,0.34,0.49,0.37,0.36,0.33,0.58,0.42,0.42,0.37,1.1,0.45,0.31,0.52,0.36,0.32,0.48,0.32,0.36,0.29,0.43,0.52,0.35,0.4,0.33,0.44,0.29,0.45,0.36,0.66,0.6,0.63,0.28,0.78,0.72,0.3,0.44,0.5,0.33,0.66,0.41,0.27,0.41,0.53,0.47,0.56,0.44,0.32,0.46,0.42,0.4,0.56,0.54,0.31,0.33,0.57,0.55,0.43,0.75,0.4,0.36,0.51,0.53,0.35,0.42,0.75,0.48,0.25,0.41,0.37,0.43,0.45,0.88,0.45],\"y\":[0.54,0.36,0.51,0.47,0.41,0.43,0.52,0.48,0.46,0.47,0.63,0.51,0.47,0.46,0.39,0.43,0.3,0.43,0.44,0.48,0.45,0.4,0.41,0.52,0.48,0.57,0.42,0.27,0.53,0.48,0.36,0.32,0.4,0.4,0.39,0.39,0.47,0.48,0.46,0.39,0.39,0.41,0.43,0.51,0.36,0.35,0.53,0.59,0.42,0.5,0.49,0.36,0.41,0.6,0.4,0.39,0.36,0.36,0.5,0.35,0.36,0.47,0.44,0.47,0.41,0.38,0.49,0.43,0.45,0.33,0.45,0.41,0.39,0.46,0.41,0.49,0.42,0.33,0.6,0.69,0.48,0.46,0.47,0.54,0.46,0.58,0.55,0.53,0.42,0.46,0.45,0.62,0.39,0.42,0.55,0.33,0.5,0.36,0.51,0.44,0.6,0.64,0.38,0.46,0.55,0.5,0.46,0.36,0.46,0.47,0.44,0.48,0.51,0.51,0.44,0.38,0.57,0.41,0.5,0.29,0.4,0.46,0.45,0.45,0.32,0.46,0.42,0.48,0.35,0.42,0.47,0.47,0.38,0.61,0.42,0.48,0.42,0.33,0.45,0.48,0.52,0.38,0.4,0.51,0.47,0.47,0.44,0.43,0.32],\"z\":[1.08,0.79,1.91,1.25,1.54,1.16,1.92,1.7,1.31,1.27,2.62,1.51,1.39,1.2,1.25,1.83,0.73,1.48,1.28,0.8,0.97,1.13,1.33,1.51,1.53,1.5,1.11,1.07,1.1,1.36,1.09,0.92,0.92,1.13,0.96,0.83,1.06,1.62,1.32,1.0,0.87,1.2,1.5,1.54,0.75,1.22,1.4,1.78,1.2,1.19,1.57,1.06,1.62,1.21,0.72,1.2,1.08,0.94,1.25,1.56,0.79,1.42,1.79,0.84,1.74,1.38,1.29,1.42,1.2,1.04,1.09,0.94,0.82,0.75,1.71,1.29,1.03,1.17,1.19,2.24,1.18,1.25,1.33,1.32,1.02,2.89,1.41,0.84,0.76,1.02,0.86,1.0,1.01,1.25,0.76,0.78,1.38,1.38,1.23,0.78,1.32,1.62,1.39,0.92,2.05,1.36,0.99,0.79,1.83,1.76,0.9,1.27,1.45,1.58,1.49,0.86,0.66,1.18,1.74,0.8,1.45,1.22,1.46,1.29,0.83,1.19,1.22,1.76,1.3,1.3,1.48,1.17,1.12,1.68,0.89,1.51,1.24,1.05,1.35,1.65,2.05,1.07,1.03,1.42,1.69,1.08,1.28,2.17,1.08],\"type\":\"scatter3d\"},{\"hovertemplate\":\"cluster=0<br>xG Per Avg Match_per season=%{x}<br>On Target Shots/ Shots=%{y}<br>On Target Per Avg Match_per season=%{z}<extra></extra>\",\"legendgroup\":\"0\",\"marker\":{\"color\":\"#00cc96\",\"symbol\":\"circle\"},\"mode\":\"markers\",\"name\":\"0\",\"scene\":\"scene\",\"showlegend\":true,\"x\":[0.61,0.45,0.3,0.35,0.28,0.41,0.28,0.54,0.37,0.48,0.46,0.39,0.32,0.42,0.41,0.4,0.4,0.61,0.47,0.47,0.26,0.18,0.49,0.24,0.48,0.27,0.18,0.35,0.39,0.56,0.41,0.43,0.77,0.33,0.62,0.53,0.28,0.62,0.62,0.97,0.56,0.34,0.16,0.53,0.38,0.45,0.23,0.49,0.33,0.48,0.39,0.51,0.32,0.55,0.34,0.62,0.42,0.23,0.39,0.41,0.33,0.57,0.5,0.31,0.31,0.26,0.42,0.48,0.32,0.55,0.72,0.66,0.26,0.5,0.41,0.41,0.46,0.53,0.35,0.55,0.32,0.37,0.26,0.59,0.16,0.57,0.51,0.29,0.41,0.25,0.32,0.43,0.62,0.42,0.56,0.38,0.38,0.33,0.29,0.78,0.42,0.38,0.22,0.25,0.42,0.35,0.61,0.61,0.39,0.23,0.48,0.52,0.53,0.39,0.37,0.31,0.36,0.8,0.39,0.4,0.43,0.29,0.36,0.23,0.76,0.57,0.29,0.55,0.67,0.42,0.59,0.41,0.68,0.49,0.4,0.46,0.63,0.28,0.28,0.39,0.37,0.44,0.28,0.58,0.35,0.73,0.56,0.28,0.4,0.34,0.21,0.54,0.54,0.21,0.32,0.39,0.47,0.47,0.58,0.45,0.24,0.38,0.79,0.5,0.57,0.4,0.44,0.52,0.27,0.31,0.46,0.4,0.31,1.04,0.32,0.34,0.42,0.34,0.53,0.27,0.75,0.4,0.47,0.47,0.39,0.35,0.29,0.46,0.5,0.21,0.27,0.84,0.34,0.31,0.77,0.35,0.38,0.6,0.42,0.4,0.53,0.43,0.44,0.58,0.33,0.43,0.34,0.46,0.47,0.5,0.59,0.33,0.29,0.4],\"y\":[0.53,0.47,0.45,0.44,0.43,0.35,0.36,0.38,0.43,0.39,0.44,0.37,0.42,0.37,0.31,0.4,0.49,0.53,0.46,0.44,0.29,0.3,0.46,0.49,0.42,0.63,0.41,0.42,0.4,0.57,0.4,0.34,0.45,0.49,0.44,0.36,0.44,0.49,0.5,0.41,0.51,0.68,0.35,0.4,0.44,0.45,0.31,0.37,0.66,0.46,0.41,0.51,0.45,0.41,0.44,0.43,0.47,0.66,0.34,0.43,0.52,0.43,0.44,0.43,0.48,0.69,0.62,0.48,0.4,0.43,0.49,0.46,0.31,0.4,0.37,0.39,0.55,0.53,0.57,0.46,0.38,0.41,0.45,0.45,0.35,0.57,0.48,0.47,0.44,0.33,0.53,0.41,0.54,0.31,0.49,0.47,0.41,0.66,0.5,0.41,0.34,0.38,0.27,0.51,0.47,0.47,0.46,0.47,0.4,0.31,0.43,0.44,0.35,0.4,0.41,0.36,0.39,0.47,0.35,0.42,0.43,0.42,0.42,0.31,0.46,0.43,0.42,0.37,0.46,0.64,0.54,0.39,0.48,0.31,0.35,0.4,0.4,0.34,0.4,0.39,0.32,0.46,0.4,0.48,0.46,0.43,0.44,0.57,0.37,0.39,0.42,0.51,0.68,0.37,0.41,0.41,0.41,0.47,0.43,0.4,0.29,0.34,0.51,0.47,0.43,0.41,0.35,0.41,0.31,0.4,0.46,0.34,0.35,0.47,0.42,0.47,0.4,0.45,0.41,0.45,0.47,0.37,0.36,0.46,0.46,0.47,0.41,0.57,0.48,0.37,0.41,0.36,0.43,0.43,0.4,0.44,0.51,0.46,0.5,0.38,0.47,0.39,0.64,0.41,0.41,0.54,0.38,0.33,0.4,0.52,0.5,0.48,0.38,0.41],\"z\":[1.72,1.48,1.16,1.06,0.59,1.0,1.35,1.38,1.34,1.1,1.42,1.09,0.78,1.22,1.18,0.72,1.33,1.64,1.3,1.68,0.84,0.59,1.11,0.83,1.11,1.77,0.75,1.64,0.87,1.46,0.74,1.04,2.28,0.91,1.05,1.09,0.77,1.9,1.27,2.59,1.66,1.76,0.78,1.17,1.16,1.28,0.56,1.21,1.87,1.62,1.02,2.07,1.17,1.38,1.14,1.94,1.08,1.26,1.15,0.85,1.3,1.6,1.44,0.92,0.93,1.19,1.74,1.23,1.16,1.08,1.69,1.65,0.82,1.14,0.98,0.74,2.02,1.29,1.1,1.05,0.95,1.38,0.74,1.63,0.6,1.42,1.25,1.12,1.0,1.03,0.94,0.84,1.28,0.84,1.3,0.92,0.78,1.65,0.91,1.62,0.95,0.83,0.69,0.86,1.3,1.14,1.57,1.53,1.19,0.99,1.31,1.57,1.62,0.79,1.22,1.11,1.1,2.51,0.77,2.07,1.17,1.28,1.3,0.85,1.86,1.7,0.62,1.12,1.48,1.49,1.45,0.88,1.44,1.01,1.16,0.98,1.12,0.72,0.96,1.3,0.95,1.14,0.9,1.79,0.89,1.27,1.38,1.27,0.87,0.96,0.8,1.61,2.19,0.71,0.9,1.02,1.43,1.44,1.47,1.78,0.72,1.47,1.69,1.24,1.25,1.03,1.08,1.51,0.84,1.28,1.25,0.94,0.92,2.28,1.27,1.08,0.98,0.94,1.3,0.77,1.5,0.99,1.4,1.23,0.96,1.07,1.54,1.25,1.07,1.07,0.85,1.74,0.52,1.29,1.4,1.08,0.73,1.33,2.03,1.02,1.61,1.19,1.58,1.37,1.07,1.23,1.14,0.96,1.05,1.29,1.34,1.1,0.86,1.0],\"type\":\"scatter3d\"}],                        {\"template\":{\"data\":{\"bar\":[{\"error_x\":{\"color\":\"#2a3f5f\"},\"error_y\":{\"color\":\"#2a3f5f\"},\"marker\":{\"line\":{\"color\":\"#E5ECF6\",\"width\":0.5},\"pattern\":{\"fillmode\":\"overlay\",\"size\":10,\"solidity\":0.2}},\"type\":\"bar\"}],\"barpolar\":[{\"marker\":{\"line\":{\"color\":\"#E5ECF6\",\"width\":0.5},\"pattern\":{\"fillmode\":\"overlay\",\"size\":10,\"solidity\":0.2}},\"type\":\"barpolar\"}],\"carpet\":[{\"aaxis\":{\"endlinecolor\":\"#2a3f5f\",\"gridcolor\":\"white\",\"linecolor\":\"white\",\"minorgridcolor\":\"white\",\"startlinecolor\":\"#2a3f5f\"},\"baxis\":{\"endlinecolor\":\"#2a3f5f\",\"gridcolor\":\"white\",\"linecolor\":\"white\",\"minorgridcolor\":\"white\",\"startlinecolor\":\"#2a3f5f\"},\"type\":\"carpet\"}],\"choropleth\":[{\"colorbar\":{\"outlinewidth\":0,\"ticks\":\"\"},\"type\":\"choropleth\"}],\"contour\":[{\"colorbar\":{\"outlinewidth\":0,\"ticks\":\"\"},\"colorscale\":[[0.0,\"#0d0887\"],[0.1111111111111111,\"#46039f\"],[0.2222222222222222,\"#7201a8\"],[0.3333333333333333,\"#9c179e\"],[0.4444444444444444,\"#bd3786\"],[0.5555555555555556,\"#d8576b\"],[0.6666666666666666,\"#ed7953\"],[0.7777777777777778,\"#fb9f3a\"],[0.8888888888888888,\"#fdca26\"],[1.0,\"#f0f921\"]],\"type\":\"contour\"}],\"contourcarpet\":[{\"colorbar\":{\"outlinewidth\":0,\"ticks\":\"\"},\"type\":\"contourcarpet\"}],\"heatmap\":[{\"colorbar\":{\"outlinewidth\":0,\"ticks\":\"\"},\"colorscale\":[[0.0,\"#0d0887\"],[0.1111111111111111,\"#46039f\"],[0.2222222222222222,\"#7201a8\"],[0.3333333333333333,\"#9c179e\"],[0.4444444444444444,\"#bd3786\"],[0.5555555555555556,\"#d8576b\"],[0.6666666666666666,\"#ed7953\"],[0.7777777777777778,\"#fb9f3a\"],[0.8888888888888888,\"#fdca26\"],[1.0,\"#f0f921\"]],\"type\":\"heatmap\"}],\"heatmapgl\":[{\"colorbar\":{\"outlinewidth\":0,\"ticks\":\"\"},\"colorscale\":[[0.0,\"#0d0887\"],[0.1111111111111111,\"#46039f\"],[0.2222222222222222,\"#7201a8\"],[0.3333333333333333,\"#9c179e\"],[0.4444444444444444,\"#bd3786\"],[0.5555555555555556,\"#d8576b\"],[0.6666666666666666,\"#ed7953\"],[0.7777777777777778,\"#fb9f3a\"],[0.8888888888888888,\"#fdca26\"],[1.0,\"#f0f921\"]],\"type\":\"heatmapgl\"}],\"histogram\":[{\"marker\":{\"pattern\":{\"fillmode\":\"overlay\",\"size\":10,\"solidity\":0.2}},\"type\":\"histogram\"}],\"histogram2d\":[{\"colorbar\":{\"outlinewidth\":0,\"ticks\":\"\"},\"colorscale\":[[0.0,\"#0d0887\"],[0.1111111111111111,\"#46039f\"],[0.2222222222222222,\"#7201a8\"],[0.3333333333333333,\"#9c179e\"],[0.4444444444444444,\"#bd3786\"],[0.5555555555555556,\"#d8576b\"],[0.6666666666666666,\"#ed7953\"],[0.7777777777777778,\"#fb9f3a\"],[0.8888888888888888,\"#fdca26\"],[1.0,\"#f0f921\"]],\"type\":\"histogram2d\"}],\"histogram2dcontour\":[{\"colorbar\":{\"outlinewidth\":0,\"ticks\":\"\"},\"colorscale\":[[0.0,\"#0d0887\"],[0.1111111111111111,\"#46039f\"],[0.2222222222222222,\"#7201a8\"],[0.3333333333333333,\"#9c179e\"],[0.4444444444444444,\"#bd3786\"],[0.5555555555555556,\"#d8576b\"],[0.6666666666666666,\"#ed7953\"],[0.7777777777777778,\"#fb9f3a\"],[0.8888888888888888,\"#fdca26\"],[1.0,\"#f0f921\"]],\"type\":\"histogram2dcontour\"}],\"mesh3d\":[{\"colorbar\":{\"outlinewidth\":0,\"ticks\":\"\"},\"type\":\"mesh3d\"}],\"parcoords\":[{\"line\":{\"colorbar\":{\"outlinewidth\":0,\"ticks\":\"\"}},\"type\":\"parcoords\"}],\"pie\":[{\"automargin\":true,\"type\":\"pie\"}],\"scatter\":[{\"marker\":{\"colorbar\":{\"outlinewidth\":0,\"ticks\":\"\"}},\"type\":\"scatter\"}],\"scatter3d\":[{\"line\":{\"colorbar\":{\"outlinewidth\":0,\"ticks\":\"\"}},\"marker\":{\"colorbar\":{\"outlinewidth\":0,\"ticks\":\"\"}},\"type\":\"scatter3d\"}],\"scattercarpet\":[{\"marker\":{\"colorbar\":{\"outlinewidth\":0,\"ticks\":\"\"}},\"type\":\"scattercarpet\"}],\"scattergeo\":[{\"marker\":{\"colorbar\":{\"outlinewidth\":0,\"ticks\":\"\"}},\"type\":\"scattergeo\"}],\"scattergl\":[{\"marker\":{\"colorbar\":{\"outlinewidth\":0,\"ticks\":\"\"}},\"type\":\"scattergl\"}],\"scattermapbox\":[{\"marker\":{\"colorbar\":{\"outlinewidth\":0,\"ticks\":\"\"}},\"type\":\"scattermapbox\"}],\"scatterpolar\":[{\"marker\":{\"colorbar\":{\"outlinewidth\":0,\"ticks\":\"\"}},\"type\":\"scatterpolar\"}],\"scatterpolargl\":[{\"marker\":{\"colorbar\":{\"outlinewidth\":0,\"ticks\":\"\"}},\"type\":\"scatterpolargl\"}],\"scatterternary\":[{\"marker\":{\"colorbar\":{\"outlinewidth\":0,\"ticks\":\"\"}},\"type\":\"scatterternary\"}],\"surface\":[{\"colorbar\":{\"outlinewidth\":0,\"ticks\":\"\"},\"colorscale\":[[0.0,\"#0d0887\"],[0.1111111111111111,\"#46039f\"],[0.2222222222222222,\"#7201a8\"],[0.3333333333333333,\"#9c179e\"],[0.4444444444444444,\"#bd3786\"],[0.5555555555555556,\"#d8576b\"],[0.6666666666666666,\"#ed7953\"],[0.7777777777777778,\"#fb9f3a\"],[0.8888888888888888,\"#fdca26\"],[1.0,\"#f0f921\"]],\"type\":\"surface\"}],\"table\":[{\"cells\":{\"fill\":{\"color\":\"#EBF0F8\"},\"line\":{\"color\":\"white\"}},\"header\":{\"fill\":{\"color\":\"#C8D4E3\"},\"line\":{\"color\":\"white\"}},\"type\":\"table\"}]},\"layout\":{\"annotationdefaults\":{\"arrowcolor\":\"#2a3f5f\",\"arrowhead\":0,\"arrowwidth\":1},\"autotypenumbers\":\"strict\",\"coloraxis\":{\"colorbar\":{\"outlinewidth\":0,\"ticks\":\"\"}},\"colorscale\":{\"diverging\":[[0,\"#8e0152\"],[0.1,\"#c51b7d\"],[0.2,\"#de77ae\"],[0.3,\"#f1b6da\"],[0.4,\"#fde0ef\"],[0.5,\"#f7f7f7\"],[0.6,\"#e6f5d0\"],[0.7,\"#b8e186\"],[0.8,\"#7fbc41\"],[0.9,\"#4d9221\"],[1,\"#276419\"]],\"sequential\":[[0.0,\"#0d0887\"],[0.1111111111111111,\"#46039f\"],[0.2222222222222222,\"#7201a8\"],[0.3333333333333333,\"#9c179e\"],[0.4444444444444444,\"#bd3786\"],[0.5555555555555556,\"#d8576b\"],[0.6666666666666666,\"#ed7953\"],[0.7777777777777778,\"#fb9f3a\"],[0.8888888888888888,\"#fdca26\"],[1.0,\"#f0f921\"]],\"sequentialminus\":[[0.0,\"#0d0887\"],[0.1111111111111111,\"#46039f\"],[0.2222222222222222,\"#7201a8\"],[0.3333333333333333,\"#9c179e\"],[0.4444444444444444,\"#bd3786\"],[0.5555555555555556,\"#d8576b\"],[0.6666666666666666,\"#ed7953\"],[0.7777777777777778,\"#fb9f3a\"],[0.8888888888888888,\"#fdca26\"],[1.0,\"#f0f921\"]]},\"colorway\":[\"#636efa\",\"#EF553B\",\"#00cc96\",\"#ab63fa\",\"#FFA15A\",\"#19d3f3\",\"#FF6692\",\"#B6E880\",\"#FF97FF\",\"#FECB52\"],\"font\":{\"color\":\"#2a3f5f\"},\"geo\":{\"bgcolor\":\"white\",\"lakecolor\":\"white\",\"landcolor\":\"#E5ECF6\",\"showlakes\":true,\"showland\":true,\"subunitcolor\":\"white\"},\"hoverlabel\":{\"align\":\"left\"},\"hovermode\":\"closest\",\"mapbox\":{\"style\":\"light\"},\"paper_bgcolor\":\"white\",\"plot_bgcolor\":\"#E5ECF6\",\"polar\":{\"angularaxis\":{\"gridcolor\":\"white\",\"linecolor\":\"white\",\"ticks\":\"\"},\"bgcolor\":\"#E5ECF6\",\"radialaxis\":{\"gridcolor\":\"white\",\"linecolor\":\"white\",\"ticks\":\"\"}},\"scene\":{\"xaxis\":{\"backgroundcolor\":\"#E5ECF6\",\"gridcolor\":\"white\",\"gridwidth\":2,\"linecolor\":\"white\",\"showbackground\":true,\"ticks\":\"\",\"zerolinecolor\":\"white\"},\"yaxis\":{\"backgroundcolor\":\"#E5ECF6\",\"gridcolor\":\"white\",\"gridwidth\":2,\"linecolor\":\"white\",\"showbackground\":true,\"ticks\":\"\",\"zerolinecolor\":\"white\"},\"zaxis\":{\"backgroundcolor\":\"#E5ECF6\",\"gridcolor\":\"white\",\"gridwidth\":2,\"linecolor\":\"white\",\"showbackground\":true,\"ticks\":\"\",\"zerolinecolor\":\"white\"}},\"shapedefaults\":{\"line\":{\"color\":\"#2a3f5f\"}},\"ternary\":{\"aaxis\":{\"gridcolor\":\"white\",\"linecolor\":\"white\",\"ticks\":\"\"},\"baxis\":{\"gridcolor\":\"white\",\"linecolor\":\"white\",\"ticks\":\"\"},\"bgcolor\":\"#E5ECF6\",\"caxis\":{\"gridcolor\":\"white\",\"linecolor\":\"white\",\"ticks\":\"\"}},\"title\":{\"x\":0.05},\"xaxis\":{\"automargin\":true,\"gridcolor\":\"white\",\"linecolor\":\"white\",\"ticks\":\"\",\"title\":{\"standoff\":15},\"zerolinecolor\":\"white\",\"zerolinewidth\":2},\"yaxis\":{\"automargin\":true,\"gridcolor\":\"white\",\"linecolor\":\"white\",\"ticks\":\"\",\"title\":{\"standoff\":15},\"zerolinecolor\":\"white\",\"zerolinewidth\":2}}},\"scene\":{\"domain\":{\"x\":[0.0,1.0],\"y\":[0.0,1.0]},\"xaxis\":{\"title\":{\"text\":\"xG Per Avg Match_per season\"}},\"yaxis\":{\"title\":{\"text\":\"On Target Shots/ Shots\"}},\"zaxis\":{\"title\":{\"text\":\"On Target Per Avg Match_per season\"}}},\"legend\":{\"title\":{\"text\":\"cluster\"},\"tracegroupgap\":0},\"margin\":{\"t\":60}},                        {\"responsive\": true}                    ).then(function(){\n",
       "                            \n",
       "var gd = document.getElementById('fd226c51-a1ce-40f9-bca8-c49f54c99e64');\n",
       "var x = new MutationObserver(function (mutations, observer) {{\n",
       "        var display = window.getComputedStyle(gd).display;\n",
       "        if (!display || display === 'none') {{\n",
       "            console.log([gd, 'removed!']);\n",
       "            Plotly.purge(gd);\n",
       "            observer.disconnect();\n",
       "        }}\n",
       "}});\n",
       "\n",
       "// Listen for the removal of the full notebook cells\n",
       "var notebookContainer = gd.closest('#notebook-container');\n",
       "if (notebookContainer) {{\n",
       "    x.observe(notebookContainer, {childList: true});\n",
       "}}\n",
       "\n",
       "// Listen for the clearing of the current output cell\n",
       "var outputEl = gd.closest('.output');\n",
       "if (outputEl) {{\n",
       "    x.observe(outputEl, {childList: true});\n",
       "}}\n",
       "\n",
       "                        })                };                });            </script>        </div>"
      ]
     },
     "metadata": {},
     "output_type": "display_data"
    },
    {
     "data": {
      "application/vnd.plotly.v1+json": {
       "config": {
        "plotlyServerURL": "https://plot.ly"
       },
       "data": [
        {
         "hovertemplate": "cluster=2<br>Shots Per Avg Match_per season=%{x}<br>xG Per Avg Match_per season=%{y}<extra></extra>",
         "legendgroup": "2",
         "marker": {
          "color": "#636efa",
          "symbol": "circle"
         },
         "mode": "markers",
         "name": "2",
         "orientation": "v",
         "showlegend": true,
         "type": "scatter",
         "x": [
          2.73,
          2.65,
          3.05,
          2.74,
          3.74,
          1.03,
          2.08,
          2.15,
          2.95,
          3.3,
          2,
          2.05,
          1.82,
          3.08,
          3.36,
          0.85,
          2.95,
          1.27,
          1.65,
          3.32,
          2.16,
          1.24,
          3.56,
          2.15,
          2.52,
          3.58,
          4.35,
          1.2,
          0.8,
          3.53,
          0.81,
          1.51,
          2.18,
          1.38,
          3.65,
          2.36,
          3.38,
          3.32,
          3.45,
          3.01,
          4.14,
          2.94,
          3.18,
          2.83,
          0.99,
          2.47,
          3.11,
          2.22,
          3.12,
          2.28,
          3.24,
          3.38,
          4.2,
          2.47,
          3.43,
          3.39,
          1.82,
          6.27,
          4.26,
          2.88,
          2.93,
          3.02,
          3.08,
          1.68,
          2.4,
          5.59,
          2.98,
          4.23,
          3.16,
          2.34,
          2.81,
          2.01,
          2.28,
          2.57,
          2.52,
          3.19,
          1.5,
          2.42,
          2.2,
          3.24,
          2.86
         ],
         "xaxis": "x",
         "y": [
          0.22,
          0.67,
          0.8,
          0.35,
          0.91,
          0.25,
          0.25,
          0.2,
          0.38,
          0.27,
          0.42,
          0.45,
          0.42,
          0.65,
          0.28,
          0.16,
          0.48,
          0.53,
          0.17,
          0.29,
          0.26,
          0.09,
          0.81,
          0.37,
          0.78,
          0.45,
          0.74,
          0.23,
          0.25,
          0.8,
          0.46,
          0.19,
          0.5,
          0.18,
          0.75,
          0.56,
          0.94,
          0.46,
          0.67,
          0.49,
          0.68,
          0.7,
          0.41,
          0.31,
          0.07,
          0.33,
          0.57,
          0.43,
          0.68,
          0.34,
          0.7,
          0.79,
          0.34,
          0.54,
          0.36,
          0.52,
          0.18,
          0.93,
          0.57,
          0.38,
          0.67,
          0.79,
          0.52,
          0.26,
          0.7,
          0.37,
          0.69,
          0.77,
          0.45,
          0.5,
          0.35,
          0.27,
          0.52,
          0.35,
          0.31,
          0.44,
          0.37,
          0.16,
          0.53,
          0.62,
          0.68
         ],
         "yaxis": "y"
        },
        {
         "hovertemplate": "cluster=1<br>Shots Per Avg Match_per season=%{x}<br>xG Per Avg Match_per season=%{y}<extra></extra>",
         "legendgroup": "1",
         "marker": {
          "color": "#EF553B",
          "symbol": "circle"
         },
         "mode": "markers",
         "name": "1",
         "orientation": "v",
         "showlegend": true,
         "type": "scatter",
         "x": [
          2.01,
          2.19,
          3.78,
          2.66,
          3.73,
          2.67,
          3.72,
          3.56,
          2.83,
          2.72,
          4.19,
          2.94,
          2.93,
          2.63,
          3.22,
          4.22,
          2.4,
          3.48,
          2.88,
          1.65,
          2.16,
          2.85,
          3.25,
          2.91,
          3.22,
          2.61,
          2.65,
          3.92,
          2.09,
          2.83,
          3.04,
          2.92,
          2.32,
          2.84,
          2.44,
          2.12,
          2.26,
          3.41,
          2.85,
          2.55,
          2.24,
          2.91,
          3.45,
          3.03,
          2.07,
          3.51,
          2.63,
          3.01,
          2.83,
          2.38,
          3.22,
          2.94,
          3.91,
          2.03,
          1.78,
          3.04,
          3.02,
          2.62,
          2.5,
          4.52,
          2.2,
          3.05,
          4.04,
          1.8,
          4.25,
          3.65,
          2.64,
          3.29,
          2.64,
          3.11,
          2.42,
          2.28,
          2.12,
          1.64,
          4.18,
          2.64,
          2.47,
          3.52,
          2,
          3.27,
          2.48,
          2.72,
          2.86,
          2.45,
          2.22,
          5.01,
          2.56,
          1.59,
          1.82,
          2.21,
          1.9,
          1.62,
          2.56,
          2.96,
          1.39,
          2.35,
          2.78,
          3.8,
          2.42,
          1.78,
          2.2,
          2.52,
          3.66,
          2,
          3.75,
          2.72,
          2.15,
          2.2,
          3.97,
          3.76,
          2.03,
          2.64,
          2.83,
          3.11,
          3.38,
          2.28,
          1.16,
          2.89,
          3.51,
          2.75,
          3.64,
          2.67,
          3.28,
          2.86,
          2.6,
          2.56,
          2.88,
          3.69,
          3.75,
          3.06,
          3.14,
          2.51,
          2.97,
          2.76,
          2.11,
          3.17,
          2.98,
          3.21,
          2.97,
          3.45,
          3.97,
          2.8,
          2.55,
          2.8,
          3.59,
          2.3,
          2.91,
          5.08,
          3.34
         ],
         "xaxis": "x",
         "y": [
          0.52,
          0.23,
          0.34,
          0.63,
          0.74,
          0.37,
          0.63,
          0.56,
          0.45,
          0.42,
          0.25,
          0.58,
          0.33,
          0.47,
          0.67,
          0.5,
          0.32,
          0.48,
          0.59,
          0.42,
          0.62,
          0.45,
          0.61,
          0.47,
          0.71,
          0.58,
          0.29,
          0.34,
          0.33,
          0.55,
          0.24,
          0.48,
          0.27,
          0.27,
          0.31,
          0.24,
          0.39,
          0.41,
          0.53,
          0.36,
          0.27,
          0.27,
          0.32,
          0.63,
          0.23,
          0.36,
          0.52,
          0.7,
          0.91,
          0.41,
          0.45,
          0.36,
          0.65,
          0.55,
          0.28,
          0.47,
          0.5,
          0.38,
          0.42,
          0.38,
          0.33,
          0.62,
          0.41,
          0.22,
          0.49,
          0.6,
          0.44,
          0.61,
          0.29,
          0.42,
          0.39,
          0.24,
          0.18,
          0.36,
          0.43,
          0.45,
          0.34,
          0.49,
          0.37,
          0.36,
          0.33,
          0.58,
          0.42,
          0.42,
          0.37,
          1.1,
          0.45,
          0.31,
          0.52,
          0.36,
          0.32,
          0.48,
          0.32,
          0.36,
          0.29,
          0.43,
          0.52,
          0.35,
          0.4,
          0.33,
          0.44,
          0.29,
          0.45,
          0.36,
          0.66,
          0.6,
          0.63,
          0.28,
          0.78,
          0.72,
          0.3,
          0.44,
          0.5,
          0.33,
          0.66,
          0.41,
          0.27,
          0.41,
          0.53,
          0.47,
          0.56,
          0.44,
          0.32,
          0.46,
          0.42,
          0.4,
          0.56,
          0.54,
          0.31,
          0.33,
          0.57,
          0.55,
          0.43,
          0.75,
          0.4,
          0.36,
          0.51,
          0.53,
          0.35,
          0.42,
          0.75,
          0.48,
          0.25,
          0.41,
          0.37,
          0.43,
          0.45,
          0.88,
          0.45
         ],
         "yaxis": "y"
        },
        {
         "hovertemplate": "cluster=0<br>Shots Per Avg Match_per season=%{x}<br>xG Per Avg Match_per season=%{y}<extra></extra>",
         "legendgroup": "0",
         "marker": {
          "color": "#00cc96",
          "symbol": "circle"
         },
         "mode": "markers",
         "name": "0",
         "orientation": "v",
         "showlegend": true,
         "type": "scatter",
         "x": [
          3.26,
          3.14,
          2.57,
          2.41,
          1.36,
          2.88,
          3.8,
          3.62,
          3.15,
          2.85,
          3.22,
          2.92,
          1.87,
          3.34,
          3.81,
          1.82,
          2.73,
          3.12,
          2.8,
          3.78,
          2.86,
          1.99,
          2.4,
          1.69,
          2.63,
          2.81,
          1.82,
          3.87,
          2.19,
          2.54,
          1.84,
          3.05,
          5.07,
          1.85,
          2.36,
          3.02,
          1.77,
          3.84,
          2.52,
          6.28,
          3.24,
          2.57,
          2.26,
          2.94,
          2.62,
          2.84,
          1.81,
          3.26,
          2.84,
          3.5,
          2.5,
          4.08,
          2.58,
          3.35,
          2.6,
          4.54,
          2.3,
          1.92,
          3.41,
          1.96,
          2.49,
          3.71,
          3.31,
          2.13,
          1.93,
          1.72,
          2.82,
          2.58,
          2.89,
          2.51,
          3.46,
          3.62,
          2.62,
          2.87,
          2.66,
          1.91,
          3.68,
          2.42,
          1.93,
          2.28,
          2.47,
          3.36,
          1.65,
          3.59,
          1.72,
          2.5,
          2.61,
          2.4,
          2.26,
          3.16,
          1.76,
          2.04,
          2.37,
          2.68,
          2.67,
          1.96,
          1.92,
          2.49,
          1.81,
          3.99,
          2.76,
          2.2,
          2.52,
          1.69,
          2.79,
          2.45,
          3.42,
          3.26,
          2.99,
          3.15,
          3.05,
          3.56,
          4.6,
          1.97,
          2.95,
          3.12,
          2.8,
          5.39,
          2.22,
          4.9,
          2.72,
          3.05,
          3.11,
          2.75,
          4.05,
          3.92,
          1.48,
          3.04,
          3.19,
          2.32,
          2.71,
          2.25,
          2.97,
          3.22,
          3.31,
          2.48,
          2.77,
          2.13,
          2.39,
          3.33,
          3.01,
          2.47,
          2.26,
          3.72,
          1.93,
          2.92,
          3.12,
          2.23,
          2.34,
          2.47,
          1.91,
          3.17,
          3.23,
          1.93,
          2.17,
          2.48,
          3.51,
          3.09,
          3.45,
          4.5,
          2.49,
          4.37,
          3.3,
          2.65,
          2.91,
          2.54,
          3.1,
          3.69,
          2.73,
          3.21,
          2.73,
          2.79,
          2.6,
          4.84,
          3.06,
          2.32,
          2.48,
          2.08,
          3.16,
          1.73,
          3.2,
          2.68,
          3.91,
          2.66,
          2.09,
          2.28,
          3.78,
          2.2,
          2.22,
          2.87,
          2.09,
          4.79,
          1.2,
          3,
          3.51,
          2.46,
          1.42,
          2.88,
          4.07,
          2.7,
          3.4,
          3.04,
          2.47,
          3.36,
          2.6,
          2.29,
          2.98,
          2.95,
          2.6,
          2.49,
          2.7,
          2.29,
          2.24,
          2.42
         ],
         "xaxis": "x",
         "y": [
          0.61,
          0.45,
          0.3,
          0.35,
          0.28,
          0.41,
          0.28,
          0.54,
          0.37,
          0.48,
          0.46,
          0.39,
          0.32,
          0.42,
          0.41,
          0.4,
          0.4,
          0.61,
          0.47,
          0.47,
          0.26,
          0.18,
          0.49,
          0.24,
          0.48,
          0.27,
          0.18,
          0.35,
          0.39,
          0.56,
          0.41,
          0.43,
          0.77,
          0.33,
          0.62,
          0.53,
          0.28,
          0.62,
          0.62,
          0.97,
          0.56,
          0.34,
          0.16,
          0.53,
          0.38,
          0.45,
          0.23,
          0.49,
          0.33,
          0.48,
          0.39,
          0.51,
          0.32,
          0.55,
          0.34,
          0.62,
          0.42,
          0.23,
          0.39,
          0.41,
          0.33,
          0.57,
          0.5,
          0.31,
          0.31,
          0.26,
          0.42,
          0.48,
          0.32,
          0.55,
          0.72,
          0.66,
          0.26,
          0.5,
          0.41,
          0.41,
          0.46,
          0.53,
          0.35,
          0.55,
          0.32,
          0.37,
          0.26,
          0.59,
          0.16,
          0.57,
          0.51,
          0.29,
          0.41,
          0.25,
          0.32,
          0.43,
          0.62,
          0.42,
          0.56,
          0.38,
          0.38,
          0.33,
          0.29,
          0.78,
          0.42,
          0.38,
          0.22,
          0.25,
          0.42,
          0.35,
          0.61,
          0.61,
          0.39,
          0.23,
          0.48,
          0.52,
          0.53,
          0.39,
          0.37,
          0.31,
          0.36,
          0.8,
          0.39,
          0.4,
          0.43,
          0.29,
          0.36,
          0.23,
          0.76,
          0.57,
          0.29,
          0.55,
          0.67,
          0.42,
          0.59,
          0.41,
          0.68,
          0.49,
          0.4,
          0.46,
          0.63,
          0.28,
          0.28,
          0.39,
          0.37,
          0.44,
          0.28,
          0.58,
          0.35,
          0.73,
          0.56,
          0.28,
          0.4,
          0.34,
          0.21,
          0.54,
          0.54,
          0.21,
          0.32,
          0.39,
          0.47,
          0.47,
          0.58,
          0.45,
          0.24,
          0.38,
          0.79,
          0.5,
          0.57,
          0.4,
          0.44,
          0.52,
          0.27,
          0.31,
          0.46,
          0.4,
          0.31,
          1.04,
          0.32,
          0.34,
          0.42,
          0.34,
          0.53,
          0.27,
          0.75,
          0.4,
          0.47,
          0.47,
          0.39,
          0.35,
          0.29,
          0.46,
          0.5,
          0.21,
          0.27,
          0.84,
          0.34,
          0.31,
          0.77,
          0.35,
          0.38,
          0.6,
          0.42,
          0.4,
          0.53,
          0.43,
          0.44,
          0.58,
          0.33,
          0.43,
          0.34,
          0.46,
          0.47,
          0.5,
          0.59,
          0.33,
          0.29,
          0.4
         ],
         "yaxis": "y"
        }
       ],
       "layout": {
        "legend": {
         "title": {
          "text": "cluster"
         },
         "tracegroupgap": 0
        },
        "margin": {
         "t": 60
        },
        "template": {
         "data": {
          "bar": [
           {
            "error_x": {
             "color": "#2a3f5f"
            },
            "error_y": {
             "color": "#2a3f5f"
            },
            "marker": {
             "line": {
              "color": "#E5ECF6",
              "width": 0.5
             },
             "pattern": {
              "fillmode": "overlay",
              "size": 10,
              "solidity": 0.2
             }
            },
            "type": "bar"
           }
          ],
          "barpolar": [
           {
            "marker": {
             "line": {
              "color": "#E5ECF6",
              "width": 0.5
             },
             "pattern": {
              "fillmode": "overlay",
              "size": 10,
              "solidity": 0.2
             }
            },
            "type": "barpolar"
           }
          ],
          "carpet": [
           {
            "aaxis": {
             "endlinecolor": "#2a3f5f",
             "gridcolor": "white",
             "linecolor": "white",
             "minorgridcolor": "white",
             "startlinecolor": "#2a3f5f"
            },
            "baxis": {
             "endlinecolor": "#2a3f5f",
             "gridcolor": "white",
             "linecolor": "white",
             "minorgridcolor": "white",
             "startlinecolor": "#2a3f5f"
            },
            "type": "carpet"
           }
          ],
          "choropleth": [
           {
            "colorbar": {
             "outlinewidth": 0,
             "ticks": ""
            },
            "type": "choropleth"
           }
          ],
          "contour": [
           {
            "colorbar": {
             "outlinewidth": 0,
             "ticks": ""
            },
            "colorscale": [
             [
              0,
              "#0d0887"
             ],
             [
              0.1111111111111111,
              "#46039f"
             ],
             [
              0.2222222222222222,
              "#7201a8"
             ],
             [
              0.3333333333333333,
              "#9c179e"
             ],
             [
              0.4444444444444444,
              "#bd3786"
             ],
             [
              0.5555555555555556,
              "#d8576b"
             ],
             [
              0.6666666666666666,
              "#ed7953"
             ],
             [
              0.7777777777777778,
              "#fb9f3a"
             ],
             [
              0.8888888888888888,
              "#fdca26"
             ],
             [
              1,
              "#f0f921"
             ]
            ],
            "type": "contour"
           }
          ],
          "contourcarpet": [
           {
            "colorbar": {
             "outlinewidth": 0,
             "ticks": ""
            },
            "type": "contourcarpet"
           }
          ],
          "heatmap": [
           {
            "colorbar": {
             "outlinewidth": 0,
             "ticks": ""
            },
            "colorscale": [
             [
              0,
              "#0d0887"
             ],
             [
              0.1111111111111111,
              "#46039f"
             ],
             [
              0.2222222222222222,
              "#7201a8"
             ],
             [
              0.3333333333333333,
              "#9c179e"
             ],
             [
              0.4444444444444444,
              "#bd3786"
             ],
             [
              0.5555555555555556,
              "#d8576b"
             ],
             [
              0.6666666666666666,
              "#ed7953"
             ],
             [
              0.7777777777777778,
              "#fb9f3a"
             ],
             [
              0.8888888888888888,
              "#fdca26"
             ],
             [
              1,
              "#f0f921"
             ]
            ],
            "type": "heatmap"
           }
          ],
          "heatmapgl": [
           {
            "colorbar": {
             "outlinewidth": 0,
             "ticks": ""
            },
            "colorscale": [
             [
              0,
              "#0d0887"
             ],
             [
              0.1111111111111111,
              "#46039f"
             ],
             [
              0.2222222222222222,
              "#7201a8"
             ],
             [
              0.3333333333333333,
              "#9c179e"
             ],
             [
              0.4444444444444444,
              "#bd3786"
             ],
             [
              0.5555555555555556,
              "#d8576b"
             ],
             [
              0.6666666666666666,
              "#ed7953"
             ],
             [
              0.7777777777777778,
              "#fb9f3a"
             ],
             [
              0.8888888888888888,
              "#fdca26"
             ],
             [
              1,
              "#f0f921"
             ]
            ],
            "type": "heatmapgl"
           }
          ],
          "histogram": [
           {
            "marker": {
             "pattern": {
              "fillmode": "overlay",
              "size": 10,
              "solidity": 0.2
             }
            },
            "type": "histogram"
           }
          ],
          "histogram2d": [
           {
            "colorbar": {
             "outlinewidth": 0,
             "ticks": ""
            },
            "colorscale": [
             [
              0,
              "#0d0887"
             ],
             [
              0.1111111111111111,
              "#46039f"
             ],
             [
              0.2222222222222222,
              "#7201a8"
             ],
             [
              0.3333333333333333,
              "#9c179e"
             ],
             [
              0.4444444444444444,
              "#bd3786"
             ],
             [
              0.5555555555555556,
              "#d8576b"
             ],
             [
              0.6666666666666666,
              "#ed7953"
             ],
             [
              0.7777777777777778,
              "#fb9f3a"
             ],
             [
              0.8888888888888888,
              "#fdca26"
             ],
             [
              1,
              "#f0f921"
             ]
            ],
            "type": "histogram2d"
           }
          ],
          "histogram2dcontour": [
           {
            "colorbar": {
             "outlinewidth": 0,
             "ticks": ""
            },
            "colorscale": [
             [
              0,
              "#0d0887"
             ],
             [
              0.1111111111111111,
              "#46039f"
             ],
             [
              0.2222222222222222,
              "#7201a8"
             ],
             [
              0.3333333333333333,
              "#9c179e"
             ],
             [
              0.4444444444444444,
              "#bd3786"
             ],
             [
              0.5555555555555556,
              "#d8576b"
             ],
             [
              0.6666666666666666,
              "#ed7953"
             ],
             [
              0.7777777777777778,
              "#fb9f3a"
             ],
             [
              0.8888888888888888,
              "#fdca26"
             ],
             [
              1,
              "#f0f921"
             ]
            ],
            "type": "histogram2dcontour"
           }
          ],
          "mesh3d": [
           {
            "colorbar": {
             "outlinewidth": 0,
             "ticks": ""
            },
            "type": "mesh3d"
           }
          ],
          "parcoords": [
           {
            "line": {
             "colorbar": {
              "outlinewidth": 0,
              "ticks": ""
             }
            },
            "type": "parcoords"
           }
          ],
          "pie": [
           {
            "automargin": true,
            "type": "pie"
           }
          ],
          "scatter": [
           {
            "marker": {
             "colorbar": {
              "outlinewidth": 0,
              "ticks": ""
             }
            },
            "type": "scatter"
           }
          ],
          "scatter3d": [
           {
            "line": {
             "colorbar": {
              "outlinewidth": 0,
              "ticks": ""
             }
            },
            "marker": {
             "colorbar": {
              "outlinewidth": 0,
              "ticks": ""
             }
            },
            "type": "scatter3d"
           }
          ],
          "scattercarpet": [
           {
            "marker": {
             "colorbar": {
              "outlinewidth": 0,
              "ticks": ""
             }
            },
            "type": "scattercarpet"
           }
          ],
          "scattergeo": [
           {
            "marker": {
             "colorbar": {
              "outlinewidth": 0,
              "ticks": ""
             }
            },
            "type": "scattergeo"
           }
          ],
          "scattergl": [
           {
            "marker": {
             "colorbar": {
              "outlinewidth": 0,
              "ticks": ""
             }
            },
            "type": "scattergl"
           }
          ],
          "scattermapbox": [
           {
            "marker": {
             "colorbar": {
              "outlinewidth": 0,
              "ticks": ""
             }
            },
            "type": "scattermapbox"
           }
          ],
          "scatterpolar": [
           {
            "marker": {
             "colorbar": {
              "outlinewidth": 0,
              "ticks": ""
             }
            },
            "type": "scatterpolar"
           }
          ],
          "scatterpolargl": [
           {
            "marker": {
             "colorbar": {
              "outlinewidth": 0,
              "ticks": ""
             }
            },
            "type": "scatterpolargl"
           }
          ],
          "scatterternary": [
           {
            "marker": {
             "colorbar": {
              "outlinewidth": 0,
              "ticks": ""
             }
            },
            "type": "scatterternary"
           }
          ],
          "surface": [
           {
            "colorbar": {
             "outlinewidth": 0,
             "ticks": ""
            },
            "colorscale": [
             [
              0,
              "#0d0887"
             ],
             [
              0.1111111111111111,
              "#46039f"
             ],
             [
              0.2222222222222222,
              "#7201a8"
             ],
             [
              0.3333333333333333,
              "#9c179e"
             ],
             [
              0.4444444444444444,
              "#bd3786"
             ],
             [
              0.5555555555555556,
              "#d8576b"
             ],
             [
              0.6666666666666666,
              "#ed7953"
             ],
             [
              0.7777777777777778,
              "#fb9f3a"
             ],
             [
              0.8888888888888888,
              "#fdca26"
             ],
             [
              1,
              "#f0f921"
             ]
            ],
            "type": "surface"
           }
          ],
          "table": [
           {
            "cells": {
             "fill": {
              "color": "#EBF0F8"
             },
             "line": {
              "color": "white"
             }
            },
            "header": {
             "fill": {
              "color": "#C8D4E3"
             },
             "line": {
              "color": "white"
             }
            },
            "type": "table"
           }
          ]
         },
         "layout": {
          "annotationdefaults": {
           "arrowcolor": "#2a3f5f",
           "arrowhead": 0,
           "arrowwidth": 1
          },
          "autotypenumbers": "strict",
          "coloraxis": {
           "colorbar": {
            "outlinewidth": 0,
            "ticks": ""
           }
          },
          "colorscale": {
           "diverging": [
            [
             0,
             "#8e0152"
            ],
            [
             0.1,
             "#c51b7d"
            ],
            [
             0.2,
             "#de77ae"
            ],
            [
             0.3,
             "#f1b6da"
            ],
            [
             0.4,
             "#fde0ef"
            ],
            [
             0.5,
             "#f7f7f7"
            ],
            [
             0.6,
             "#e6f5d0"
            ],
            [
             0.7,
             "#b8e186"
            ],
            [
             0.8,
             "#7fbc41"
            ],
            [
             0.9,
             "#4d9221"
            ],
            [
             1,
             "#276419"
            ]
           ],
           "sequential": [
            [
             0,
             "#0d0887"
            ],
            [
             0.1111111111111111,
             "#46039f"
            ],
            [
             0.2222222222222222,
             "#7201a8"
            ],
            [
             0.3333333333333333,
             "#9c179e"
            ],
            [
             0.4444444444444444,
             "#bd3786"
            ],
            [
             0.5555555555555556,
             "#d8576b"
            ],
            [
             0.6666666666666666,
             "#ed7953"
            ],
            [
             0.7777777777777778,
             "#fb9f3a"
            ],
            [
             0.8888888888888888,
             "#fdca26"
            ],
            [
             1,
             "#f0f921"
            ]
           ],
           "sequentialminus": [
            [
             0,
             "#0d0887"
            ],
            [
             0.1111111111111111,
             "#46039f"
            ],
            [
             0.2222222222222222,
             "#7201a8"
            ],
            [
             0.3333333333333333,
             "#9c179e"
            ],
            [
             0.4444444444444444,
             "#bd3786"
            ],
            [
             0.5555555555555556,
             "#d8576b"
            ],
            [
             0.6666666666666666,
             "#ed7953"
            ],
            [
             0.7777777777777778,
             "#fb9f3a"
            ],
            [
             0.8888888888888888,
             "#fdca26"
            ],
            [
             1,
             "#f0f921"
            ]
           ]
          },
          "colorway": [
           "#636efa",
           "#EF553B",
           "#00cc96",
           "#ab63fa",
           "#FFA15A",
           "#19d3f3",
           "#FF6692",
           "#B6E880",
           "#FF97FF",
           "#FECB52"
          ],
          "font": {
           "color": "#2a3f5f"
          },
          "geo": {
           "bgcolor": "white",
           "lakecolor": "white",
           "landcolor": "#E5ECF6",
           "showlakes": true,
           "showland": true,
           "subunitcolor": "white"
          },
          "hoverlabel": {
           "align": "left"
          },
          "hovermode": "closest",
          "mapbox": {
           "style": "light"
          },
          "paper_bgcolor": "white",
          "plot_bgcolor": "#E5ECF6",
          "polar": {
           "angularaxis": {
            "gridcolor": "white",
            "linecolor": "white",
            "ticks": ""
           },
           "bgcolor": "#E5ECF6",
           "radialaxis": {
            "gridcolor": "white",
            "linecolor": "white",
            "ticks": ""
           }
          },
          "scene": {
           "xaxis": {
            "backgroundcolor": "#E5ECF6",
            "gridcolor": "white",
            "gridwidth": 2,
            "linecolor": "white",
            "showbackground": true,
            "ticks": "",
            "zerolinecolor": "white"
           },
           "yaxis": {
            "backgroundcolor": "#E5ECF6",
            "gridcolor": "white",
            "gridwidth": 2,
            "linecolor": "white",
            "showbackground": true,
            "ticks": "",
            "zerolinecolor": "white"
           },
           "zaxis": {
            "backgroundcolor": "#E5ECF6",
            "gridcolor": "white",
            "gridwidth": 2,
            "linecolor": "white",
            "showbackground": true,
            "ticks": "",
            "zerolinecolor": "white"
           }
          },
          "shapedefaults": {
           "line": {
            "color": "#2a3f5f"
           }
          },
          "ternary": {
           "aaxis": {
            "gridcolor": "white",
            "linecolor": "white",
            "ticks": ""
           },
           "baxis": {
            "gridcolor": "white",
            "linecolor": "white",
            "ticks": ""
           },
           "bgcolor": "#E5ECF6",
           "caxis": {
            "gridcolor": "white",
            "linecolor": "white",
            "ticks": ""
           }
          },
          "title": {
           "x": 0.05
          },
          "xaxis": {
           "automargin": true,
           "gridcolor": "white",
           "linecolor": "white",
           "ticks": "",
           "title": {
            "standoff": 15
           },
           "zerolinecolor": "white",
           "zerolinewidth": 2
          },
          "yaxis": {
           "automargin": true,
           "gridcolor": "white",
           "linecolor": "white",
           "ticks": "",
           "title": {
            "standoff": 15
           },
           "zerolinecolor": "white",
           "zerolinewidth": 2
          }
         }
        },
        "xaxis": {
         "anchor": "y",
         "domain": [
          0,
          1
         ],
         "title": {
          "text": "Shots Per Avg Match_per season"
         }
        },
        "yaxis": {
         "anchor": "x",
         "domain": [
          0,
          1
         ],
         "title": {
          "text": "xG Per Avg Match_per season"
         }
        }
       }
      },
      "text/html": [
       "<div>                            <div id=\"c9a3b9b3-9608-4bb2-b41f-34157a242b19\" class=\"plotly-graph-div\" style=\"height:525px; width:100%;\"></div>            <script type=\"text/javascript\">                require([\"plotly\"], function(Plotly) {                    window.PLOTLYENV=window.PLOTLYENV || {};                                    if (document.getElementById(\"c9a3b9b3-9608-4bb2-b41f-34157a242b19\")) {                    Plotly.newPlot(                        \"c9a3b9b3-9608-4bb2-b41f-34157a242b19\",                        [{\"hovertemplate\":\"cluster=2<br>Shots Per Avg Match_per season=%{x}<br>xG Per Avg Match_per season=%{y}<extra></extra>\",\"legendgroup\":\"2\",\"marker\":{\"color\":\"#636efa\",\"symbol\":\"circle\"},\"mode\":\"markers\",\"name\":\"2\",\"orientation\":\"v\",\"showlegend\":true,\"x\":[2.73,2.65,3.05,2.74,3.74,1.03,2.08,2.15,2.95,3.3,2.0,2.05,1.82,3.08,3.36,0.85,2.95,1.27,1.65,3.32,2.16,1.24,3.56,2.15,2.52,3.58,4.35,1.2,0.8,3.53,0.81,1.51,2.18,1.38,3.65,2.36,3.38,3.32,3.45,3.01,4.14,2.94,3.18,2.83,0.99,2.47,3.11,2.22,3.12,2.28,3.24,3.38,4.2,2.47,3.43,3.39,1.82,6.27,4.26,2.88,2.93,3.02,3.08,1.68,2.4,5.59,2.98,4.23,3.16,2.34,2.81,2.01,2.28,2.57,2.52,3.19,1.5,2.42,2.2,3.24,2.86],\"xaxis\":\"x\",\"y\":[0.22,0.67,0.8,0.35,0.91,0.25,0.25,0.2,0.38,0.27,0.42,0.45,0.42,0.65,0.28,0.16,0.48,0.53,0.17,0.29,0.26,0.09,0.81,0.37,0.78,0.45,0.74,0.23,0.25,0.8,0.46,0.19,0.5,0.18,0.75,0.56,0.94,0.46,0.67,0.49,0.68,0.7,0.41,0.31,0.07,0.33,0.57,0.43,0.68,0.34,0.7,0.79,0.34,0.54,0.36,0.52,0.18,0.93,0.57,0.38,0.67,0.79,0.52,0.26,0.7,0.37,0.69,0.77,0.45,0.5,0.35,0.27,0.52,0.35,0.31,0.44,0.37,0.16,0.53,0.62,0.68],\"yaxis\":\"y\",\"type\":\"scatter\"},{\"hovertemplate\":\"cluster=1<br>Shots Per Avg Match_per season=%{x}<br>xG Per Avg Match_per season=%{y}<extra></extra>\",\"legendgroup\":\"1\",\"marker\":{\"color\":\"#EF553B\",\"symbol\":\"circle\"},\"mode\":\"markers\",\"name\":\"1\",\"orientation\":\"v\",\"showlegend\":true,\"x\":[2.01,2.19,3.78,2.66,3.73,2.67,3.72,3.56,2.83,2.72,4.19,2.94,2.93,2.63,3.22,4.22,2.4,3.48,2.88,1.65,2.16,2.85,3.25,2.91,3.22,2.61,2.65,3.92,2.09,2.83,3.04,2.92,2.32,2.84,2.44,2.12,2.26,3.41,2.85,2.55,2.24,2.91,3.45,3.03,2.07,3.51,2.63,3.01,2.83,2.38,3.22,2.94,3.91,2.03,1.78,3.04,3.02,2.62,2.5,4.52,2.2,3.05,4.04,1.8,4.25,3.65,2.64,3.29,2.64,3.11,2.42,2.28,2.12,1.64,4.18,2.64,2.47,3.52,2.0,3.27,2.48,2.72,2.86,2.45,2.22,5.01,2.56,1.59,1.82,2.21,1.9,1.62,2.56,2.96,1.39,2.35,2.78,3.8,2.42,1.78,2.2,2.52,3.66,2.0,3.75,2.72,2.15,2.2,3.97,3.76,2.03,2.64,2.83,3.11,3.38,2.28,1.16,2.89,3.51,2.75,3.64,2.67,3.28,2.86,2.6,2.56,2.88,3.69,3.75,3.06,3.14,2.51,2.97,2.76,2.11,3.17,2.98,3.21,2.97,3.45,3.97,2.8,2.55,2.8,3.59,2.3,2.91,5.08,3.34],\"xaxis\":\"x\",\"y\":[0.52,0.23,0.34,0.63,0.74,0.37,0.63,0.56,0.45,0.42,0.25,0.58,0.33,0.47,0.67,0.5,0.32,0.48,0.59,0.42,0.62,0.45,0.61,0.47,0.71,0.58,0.29,0.34,0.33,0.55,0.24,0.48,0.27,0.27,0.31,0.24,0.39,0.41,0.53,0.36,0.27,0.27,0.32,0.63,0.23,0.36,0.52,0.7,0.91,0.41,0.45,0.36,0.65,0.55,0.28,0.47,0.5,0.38,0.42,0.38,0.33,0.62,0.41,0.22,0.49,0.6,0.44,0.61,0.29,0.42,0.39,0.24,0.18,0.36,0.43,0.45,0.34,0.49,0.37,0.36,0.33,0.58,0.42,0.42,0.37,1.1,0.45,0.31,0.52,0.36,0.32,0.48,0.32,0.36,0.29,0.43,0.52,0.35,0.4,0.33,0.44,0.29,0.45,0.36,0.66,0.6,0.63,0.28,0.78,0.72,0.3,0.44,0.5,0.33,0.66,0.41,0.27,0.41,0.53,0.47,0.56,0.44,0.32,0.46,0.42,0.4,0.56,0.54,0.31,0.33,0.57,0.55,0.43,0.75,0.4,0.36,0.51,0.53,0.35,0.42,0.75,0.48,0.25,0.41,0.37,0.43,0.45,0.88,0.45],\"yaxis\":\"y\",\"type\":\"scatter\"},{\"hovertemplate\":\"cluster=0<br>Shots Per Avg Match_per season=%{x}<br>xG Per Avg Match_per season=%{y}<extra></extra>\",\"legendgroup\":\"0\",\"marker\":{\"color\":\"#00cc96\",\"symbol\":\"circle\"},\"mode\":\"markers\",\"name\":\"0\",\"orientation\":\"v\",\"showlegend\":true,\"x\":[3.26,3.14,2.57,2.41,1.36,2.88,3.8,3.62,3.15,2.85,3.22,2.92,1.87,3.34,3.81,1.82,2.73,3.12,2.8,3.78,2.86,1.99,2.4,1.69,2.63,2.81,1.82,3.87,2.19,2.54,1.84,3.05,5.07,1.85,2.36,3.02,1.77,3.84,2.52,6.28,3.24,2.57,2.26,2.94,2.62,2.84,1.81,3.26,2.84,3.5,2.5,4.08,2.58,3.35,2.6,4.54,2.3,1.92,3.41,1.96,2.49,3.71,3.31,2.13,1.93,1.72,2.82,2.58,2.89,2.51,3.46,3.62,2.62,2.87,2.66,1.91,3.68,2.42,1.93,2.28,2.47,3.36,1.65,3.59,1.72,2.5,2.61,2.4,2.26,3.16,1.76,2.04,2.37,2.68,2.67,1.96,1.92,2.49,1.81,3.99,2.76,2.2,2.52,1.69,2.79,2.45,3.42,3.26,2.99,3.15,3.05,3.56,4.6,1.97,2.95,3.12,2.8,5.39,2.22,4.9,2.72,3.05,3.11,2.75,4.05,3.92,1.48,3.04,3.19,2.32,2.71,2.25,2.97,3.22,3.31,2.48,2.77,2.13,2.39,3.33,3.01,2.47,2.26,3.72,1.93,2.92,3.12,2.23,2.34,2.47,1.91,3.17,3.23,1.93,2.17,2.48,3.51,3.09,3.45,4.5,2.49,4.37,3.3,2.65,2.91,2.54,3.1,3.69,2.73,3.21,2.73,2.79,2.6,4.84,3.06,2.32,2.48,2.08,3.16,1.73,3.2,2.68,3.91,2.66,2.09,2.28,3.78,2.2,2.22,2.87,2.09,4.79,1.2,3.0,3.51,2.46,1.42,2.88,4.07,2.7,3.4,3.04,2.47,3.36,2.6,2.29,2.98,2.95,2.6,2.49,2.7,2.29,2.24,2.42],\"xaxis\":\"x\",\"y\":[0.61,0.45,0.3,0.35,0.28,0.41,0.28,0.54,0.37,0.48,0.46,0.39,0.32,0.42,0.41,0.4,0.4,0.61,0.47,0.47,0.26,0.18,0.49,0.24,0.48,0.27,0.18,0.35,0.39,0.56,0.41,0.43,0.77,0.33,0.62,0.53,0.28,0.62,0.62,0.97,0.56,0.34,0.16,0.53,0.38,0.45,0.23,0.49,0.33,0.48,0.39,0.51,0.32,0.55,0.34,0.62,0.42,0.23,0.39,0.41,0.33,0.57,0.5,0.31,0.31,0.26,0.42,0.48,0.32,0.55,0.72,0.66,0.26,0.5,0.41,0.41,0.46,0.53,0.35,0.55,0.32,0.37,0.26,0.59,0.16,0.57,0.51,0.29,0.41,0.25,0.32,0.43,0.62,0.42,0.56,0.38,0.38,0.33,0.29,0.78,0.42,0.38,0.22,0.25,0.42,0.35,0.61,0.61,0.39,0.23,0.48,0.52,0.53,0.39,0.37,0.31,0.36,0.8,0.39,0.4,0.43,0.29,0.36,0.23,0.76,0.57,0.29,0.55,0.67,0.42,0.59,0.41,0.68,0.49,0.4,0.46,0.63,0.28,0.28,0.39,0.37,0.44,0.28,0.58,0.35,0.73,0.56,0.28,0.4,0.34,0.21,0.54,0.54,0.21,0.32,0.39,0.47,0.47,0.58,0.45,0.24,0.38,0.79,0.5,0.57,0.4,0.44,0.52,0.27,0.31,0.46,0.4,0.31,1.04,0.32,0.34,0.42,0.34,0.53,0.27,0.75,0.4,0.47,0.47,0.39,0.35,0.29,0.46,0.5,0.21,0.27,0.84,0.34,0.31,0.77,0.35,0.38,0.6,0.42,0.4,0.53,0.43,0.44,0.58,0.33,0.43,0.34,0.46,0.47,0.5,0.59,0.33,0.29,0.4],\"yaxis\":\"y\",\"type\":\"scatter\"}],                        {\"template\":{\"data\":{\"bar\":[{\"error_x\":{\"color\":\"#2a3f5f\"},\"error_y\":{\"color\":\"#2a3f5f\"},\"marker\":{\"line\":{\"color\":\"#E5ECF6\",\"width\":0.5},\"pattern\":{\"fillmode\":\"overlay\",\"size\":10,\"solidity\":0.2}},\"type\":\"bar\"}],\"barpolar\":[{\"marker\":{\"line\":{\"color\":\"#E5ECF6\",\"width\":0.5},\"pattern\":{\"fillmode\":\"overlay\",\"size\":10,\"solidity\":0.2}},\"type\":\"barpolar\"}],\"carpet\":[{\"aaxis\":{\"endlinecolor\":\"#2a3f5f\",\"gridcolor\":\"white\",\"linecolor\":\"white\",\"minorgridcolor\":\"white\",\"startlinecolor\":\"#2a3f5f\"},\"baxis\":{\"endlinecolor\":\"#2a3f5f\",\"gridcolor\":\"white\",\"linecolor\":\"white\",\"minorgridcolor\":\"white\",\"startlinecolor\":\"#2a3f5f\"},\"type\":\"carpet\"}],\"choropleth\":[{\"colorbar\":{\"outlinewidth\":0,\"ticks\":\"\"},\"type\":\"choropleth\"}],\"contour\":[{\"colorbar\":{\"outlinewidth\":0,\"ticks\":\"\"},\"colorscale\":[[0.0,\"#0d0887\"],[0.1111111111111111,\"#46039f\"],[0.2222222222222222,\"#7201a8\"],[0.3333333333333333,\"#9c179e\"],[0.4444444444444444,\"#bd3786\"],[0.5555555555555556,\"#d8576b\"],[0.6666666666666666,\"#ed7953\"],[0.7777777777777778,\"#fb9f3a\"],[0.8888888888888888,\"#fdca26\"],[1.0,\"#f0f921\"]],\"type\":\"contour\"}],\"contourcarpet\":[{\"colorbar\":{\"outlinewidth\":0,\"ticks\":\"\"},\"type\":\"contourcarpet\"}],\"heatmap\":[{\"colorbar\":{\"outlinewidth\":0,\"ticks\":\"\"},\"colorscale\":[[0.0,\"#0d0887\"],[0.1111111111111111,\"#46039f\"],[0.2222222222222222,\"#7201a8\"],[0.3333333333333333,\"#9c179e\"],[0.4444444444444444,\"#bd3786\"],[0.5555555555555556,\"#d8576b\"],[0.6666666666666666,\"#ed7953\"],[0.7777777777777778,\"#fb9f3a\"],[0.8888888888888888,\"#fdca26\"],[1.0,\"#f0f921\"]],\"type\":\"heatmap\"}],\"heatmapgl\":[{\"colorbar\":{\"outlinewidth\":0,\"ticks\":\"\"},\"colorscale\":[[0.0,\"#0d0887\"],[0.1111111111111111,\"#46039f\"],[0.2222222222222222,\"#7201a8\"],[0.3333333333333333,\"#9c179e\"],[0.4444444444444444,\"#bd3786\"],[0.5555555555555556,\"#d8576b\"],[0.6666666666666666,\"#ed7953\"],[0.7777777777777778,\"#fb9f3a\"],[0.8888888888888888,\"#fdca26\"],[1.0,\"#f0f921\"]],\"type\":\"heatmapgl\"}],\"histogram\":[{\"marker\":{\"pattern\":{\"fillmode\":\"overlay\",\"size\":10,\"solidity\":0.2}},\"type\":\"histogram\"}],\"histogram2d\":[{\"colorbar\":{\"outlinewidth\":0,\"ticks\":\"\"},\"colorscale\":[[0.0,\"#0d0887\"],[0.1111111111111111,\"#46039f\"],[0.2222222222222222,\"#7201a8\"],[0.3333333333333333,\"#9c179e\"],[0.4444444444444444,\"#bd3786\"],[0.5555555555555556,\"#d8576b\"],[0.6666666666666666,\"#ed7953\"],[0.7777777777777778,\"#fb9f3a\"],[0.8888888888888888,\"#fdca26\"],[1.0,\"#f0f921\"]],\"type\":\"histogram2d\"}],\"histogram2dcontour\":[{\"colorbar\":{\"outlinewidth\":0,\"ticks\":\"\"},\"colorscale\":[[0.0,\"#0d0887\"],[0.1111111111111111,\"#46039f\"],[0.2222222222222222,\"#7201a8\"],[0.3333333333333333,\"#9c179e\"],[0.4444444444444444,\"#bd3786\"],[0.5555555555555556,\"#d8576b\"],[0.6666666666666666,\"#ed7953\"],[0.7777777777777778,\"#fb9f3a\"],[0.8888888888888888,\"#fdca26\"],[1.0,\"#f0f921\"]],\"type\":\"histogram2dcontour\"}],\"mesh3d\":[{\"colorbar\":{\"outlinewidth\":0,\"ticks\":\"\"},\"type\":\"mesh3d\"}],\"parcoords\":[{\"line\":{\"colorbar\":{\"outlinewidth\":0,\"ticks\":\"\"}},\"type\":\"parcoords\"}],\"pie\":[{\"automargin\":true,\"type\":\"pie\"}],\"scatter\":[{\"marker\":{\"colorbar\":{\"outlinewidth\":0,\"ticks\":\"\"}},\"type\":\"scatter\"}],\"scatter3d\":[{\"line\":{\"colorbar\":{\"outlinewidth\":0,\"ticks\":\"\"}},\"marker\":{\"colorbar\":{\"outlinewidth\":0,\"ticks\":\"\"}},\"type\":\"scatter3d\"}],\"scattercarpet\":[{\"marker\":{\"colorbar\":{\"outlinewidth\":0,\"ticks\":\"\"}},\"type\":\"scattercarpet\"}],\"scattergeo\":[{\"marker\":{\"colorbar\":{\"outlinewidth\":0,\"ticks\":\"\"}},\"type\":\"scattergeo\"}],\"scattergl\":[{\"marker\":{\"colorbar\":{\"outlinewidth\":0,\"ticks\":\"\"}},\"type\":\"scattergl\"}],\"scattermapbox\":[{\"marker\":{\"colorbar\":{\"outlinewidth\":0,\"ticks\":\"\"}},\"type\":\"scattermapbox\"}],\"scatterpolar\":[{\"marker\":{\"colorbar\":{\"outlinewidth\":0,\"ticks\":\"\"}},\"type\":\"scatterpolar\"}],\"scatterpolargl\":[{\"marker\":{\"colorbar\":{\"outlinewidth\":0,\"ticks\":\"\"}},\"type\":\"scatterpolargl\"}],\"scatterternary\":[{\"marker\":{\"colorbar\":{\"outlinewidth\":0,\"ticks\":\"\"}},\"type\":\"scatterternary\"}],\"surface\":[{\"colorbar\":{\"outlinewidth\":0,\"ticks\":\"\"},\"colorscale\":[[0.0,\"#0d0887\"],[0.1111111111111111,\"#46039f\"],[0.2222222222222222,\"#7201a8\"],[0.3333333333333333,\"#9c179e\"],[0.4444444444444444,\"#bd3786\"],[0.5555555555555556,\"#d8576b\"],[0.6666666666666666,\"#ed7953\"],[0.7777777777777778,\"#fb9f3a\"],[0.8888888888888888,\"#fdca26\"],[1.0,\"#f0f921\"]],\"type\":\"surface\"}],\"table\":[{\"cells\":{\"fill\":{\"color\":\"#EBF0F8\"},\"line\":{\"color\":\"white\"}},\"header\":{\"fill\":{\"color\":\"#C8D4E3\"},\"line\":{\"color\":\"white\"}},\"type\":\"table\"}]},\"layout\":{\"annotationdefaults\":{\"arrowcolor\":\"#2a3f5f\",\"arrowhead\":0,\"arrowwidth\":1},\"autotypenumbers\":\"strict\",\"coloraxis\":{\"colorbar\":{\"outlinewidth\":0,\"ticks\":\"\"}},\"colorscale\":{\"diverging\":[[0,\"#8e0152\"],[0.1,\"#c51b7d\"],[0.2,\"#de77ae\"],[0.3,\"#f1b6da\"],[0.4,\"#fde0ef\"],[0.5,\"#f7f7f7\"],[0.6,\"#e6f5d0\"],[0.7,\"#b8e186\"],[0.8,\"#7fbc41\"],[0.9,\"#4d9221\"],[1,\"#276419\"]],\"sequential\":[[0.0,\"#0d0887\"],[0.1111111111111111,\"#46039f\"],[0.2222222222222222,\"#7201a8\"],[0.3333333333333333,\"#9c179e\"],[0.4444444444444444,\"#bd3786\"],[0.5555555555555556,\"#d8576b\"],[0.6666666666666666,\"#ed7953\"],[0.7777777777777778,\"#fb9f3a\"],[0.8888888888888888,\"#fdca26\"],[1.0,\"#f0f921\"]],\"sequentialminus\":[[0.0,\"#0d0887\"],[0.1111111111111111,\"#46039f\"],[0.2222222222222222,\"#7201a8\"],[0.3333333333333333,\"#9c179e\"],[0.4444444444444444,\"#bd3786\"],[0.5555555555555556,\"#d8576b\"],[0.6666666666666666,\"#ed7953\"],[0.7777777777777778,\"#fb9f3a\"],[0.8888888888888888,\"#fdca26\"],[1.0,\"#f0f921\"]]},\"colorway\":[\"#636efa\",\"#EF553B\",\"#00cc96\",\"#ab63fa\",\"#FFA15A\",\"#19d3f3\",\"#FF6692\",\"#B6E880\",\"#FF97FF\",\"#FECB52\"],\"font\":{\"color\":\"#2a3f5f\"},\"geo\":{\"bgcolor\":\"white\",\"lakecolor\":\"white\",\"landcolor\":\"#E5ECF6\",\"showlakes\":true,\"showland\":true,\"subunitcolor\":\"white\"},\"hoverlabel\":{\"align\":\"left\"},\"hovermode\":\"closest\",\"mapbox\":{\"style\":\"light\"},\"paper_bgcolor\":\"white\",\"plot_bgcolor\":\"#E5ECF6\",\"polar\":{\"angularaxis\":{\"gridcolor\":\"white\",\"linecolor\":\"white\",\"ticks\":\"\"},\"bgcolor\":\"#E5ECF6\",\"radialaxis\":{\"gridcolor\":\"white\",\"linecolor\":\"white\",\"ticks\":\"\"}},\"scene\":{\"xaxis\":{\"backgroundcolor\":\"#E5ECF6\",\"gridcolor\":\"white\",\"gridwidth\":2,\"linecolor\":\"white\",\"showbackground\":true,\"ticks\":\"\",\"zerolinecolor\":\"white\"},\"yaxis\":{\"backgroundcolor\":\"#E5ECF6\",\"gridcolor\":\"white\",\"gridwidth\":2,\"linecolor\":\"white\",\"showbackground\":true,\"ticks\":\"\",\"zerolinecolor\":\"white\"},\"zaxis\":{\"backgroundcolor\":\"#E5ECF6\",\"gridcolor\":\"white\",\"gridwidth\":2,\"linecolor\":\"white\",\"showbackground\":true,\"ticks\":\"\",\"zerolinecolor\":\"white\"}},\"shapedefaults\":{\"line\":{\"color\":\"#2a3f5f\"}},\"ternary\":{\"aaxis\":{\"gridcolor\":\"white\",\"linecolor\":\"white\",\"ticks\":\"\"},\"baxis\":{\"gridcolor\":\"white\",\"linecolor\":\"white\",\"ticks\":\"\"},\"bgcolor\":\"#E5ECF6\",\"caxis\":{\"gridcolor\":\"white\",\"linecolor\":\"white\",\"ticks\":\"\"}},\"title\":{\"x\":0.05},\"xaxis\":{\"automargin\":true,\"gridcolor\":\"white\",\"linecolor\":\"white\",\"ticks\":\"\",\"title\":{\"standoff\":15},\"zerolinecolor\":\"white\",\"zerolinewidth\":2},\"yaxis\":{\"automargin\":true,\"gridcolor\":\"white\",\"linecolor\":\"white\",\"ticks\":\"\",\"title\":{\"standoff\":15},\"zerolinecolor\":\"white\",\"zerolinewidth\":2}}},\"xaxis\":{\"anchor\":\"y\",\"domain\":[0.0,1.0],\"title\":{\"text\":\"Shots Per Avg Match_per season\"}},\"yaxis\":{\"anchor\":\"x\",\"domain\":[0.0,1.0],\"title\":{\"text\":\"xG Per Avg Match_per season\"}},\"legend\":{\"title\":{\"text\":\"cluster\"},\"tracegroupgap\":0},\"margin\":{\"t\":60}},                        {\"responsive\": true}                    ).then(function(){\n",
       "                            \n",
       "var gd = document.getElementById('c9a3b9b3-9608-4bb2-b41f-34157a242b19');\n",
       "var x = new MutationObserver(function (mutations, observer) {{\n",
       "        var display = window.getComputedStyle(gd).display;\n",
       "        if (!display || display === 'none') {{\n",
       "            console.log([gd, 'removed!']);\n",
       "            Plotly.purge(gd);\n",
       "            observer.disconnect();\n",
       "        }}\n",
       "}});\n",
       "\n",
       "// Listen for the removal of the full notebook cells\n",
       "var notebookContainer = gd.closest('#notebook-container');\n",
       "if (notebookContainer) {{\n",
       "    x.observe(notebookContainer, {childList: true});\n",
       "}}\n",
       "\n",
       "// Listen for the clearing of the current output cell\n",
       "var outputEl = gd.closest('.output');\n",
       "if (outputEl) {{\n",
       "    x.observe(outputEl, {childList: true});\n",
       "}}\n",
       "\n",
       "                        })                };                });            </script>        </div>"
      ]
     },
     "metadata": {},
     "output_type": "display_data"
    }
   ],
   "source": [
    "fig = pl.scatter_3d(fina3, x = 'xG Per Avg Match_per season', y = 'On Target Shots/ Shots', z = 'On Target Per Avg Match_per season', color = 'cluster')\n",
    "\n",
    "fig1 = pl.scatter(fina3, y = 'xG Per Avg Match_per season', x = 'Shots Per Avg Match_per season', color = 'cluster')\n",
    "fig.show()\n",
    "                  \n",
    "fig1.show()    "
   ]
  },
  {
   "cell_type": "markdown",
   "id": "cace3ba8",
   "metadata": {},
   "source": [
    "###### Исходя из значения silhouette_score можно заключить, что из всех использованных моделей Birch явлалась самой оптимальной. Также нужно заметить, что здесь не приходится гадать с числом кластеров: алгоритм самостоятельно определяет их число. Собственно, у нас получилось три кластера, исходя из которых можно заключить, что во втором кластере чаще всего встречабтся игроки низкого класса, которые мало бьют по воротам и редко создают голевые моменты, хотя в нем также содержатся игроки высокого и среднего классов. Для 0 класстера характерно как достаточно большое наличие игроков выше среднего уровня, которые часто бьют по воротам и создают опасные моменты, так и среднего уровня. В 1 кластере в основном собрались середнячки по опастности для чужих ворот."
   ]
  },
  {
   "cell_type": "markdown",
   "id": "f0555294",
   "metadata": {},
   "source": [
    "## Сравнения"
   ]
  },
  {
   "cell_type": "markdown",
   "id": "86fc5c13",
   "metadata": {},
   "source": [
    "###### Собственно, если мы говорим про нашу выбоку, то результаты Kmeans и DBSCAN очень похожи, так как оба метода работают плохо, когда объекты в выборке распалагаются плотно. По итогу, они подгоняют все под одну гребенку. В DBSCAN все чуть ли не все объекты являются соседями, а в Kmeans кластеры настолько теряются в плотности, что не знают куда деться. Безусловно, из всех применненных наилучшим является Birch, который позволил разбить плотности на своеобразные подплотнтсти, после чего собрать все воедино и получить более менее логичную картину, где между объектами, в нашем случае нападающими, существует какое-никакое, но разграничение."
   ]
  },
  {
   "cell_type": "markdown",
   "id": "c1aaa221",
   "metadata": {},
   "source": [
    "# Результаты и впечатления"
   ]
  },
  {
   "cell_type": "markdown",
   "id": "482e8edc",
   "metadata": {},
   "source": [
    "###### Сказать, что исследование удалось, будет неправдной. Так и не получилось составить модель высокого качества, которая бы разделила объекты на кластеры. Наиболее оптимальной моделью для нашего датасета является Birch, но и он до конца справился. Хотя, безусловно, сказать, что исследование провалилось - нельзя. Мы выяснили многие закономерности, которые перечислены в разделе \"Выводы\". К примеру, мы выяснили, что чем чаще бьет игрок, тем он неточнее. Или что чем дольше игрок играет в высших лигах, тем больше в среднем он создает голевых моментов за игру. Также из неудачной кластеризации становится ясно, что есть и другие признаки, не учтенные в нашем датасете, которые говорят о том, какого уровня нападающий. То есть,  если вдруг у нападающего низкий  xG или если он мало бьет и не точно бьет, то это не обязательно значит, что он нападающий низкого класса. Возможно, он исполняет какие-то другие функции, которые для классического нападающего не характерны. Поэтому на какие-то вопросы исследование ответило, но одновременно и открыло множется новых.\n"
   ]
  },
  {
   "cell_type": "code",
   "execution_count": null,
   "id": "3f9c8fb3",
   "metadata": {},
   "outputs": [],
   "source": []
  }
 ],
 "metadata": {
  "kernelspec": {
   "display_name": "Python 3 (ipykernel)",
   "language": "python",
   "name": "python3"
  },
  "language_info": {
   "codemirror_mode": {
    "name": "ipython",
    "version": 3
   },
   "file_extension": ".py",
   "mimetype": "text/x-python",
   "name": "python",
   "nbconvert_exporter": "python",
   "pygments_lexer": "ipython3",
   "version": "3.9.12"
  }
 },
 "nbformat": 4,
 "nbformat_minor": 5
}

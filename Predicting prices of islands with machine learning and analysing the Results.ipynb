{
 "cells": [
  {
   "cell_type": "code",
   "execution_count": 145,
   "id": "b9bf43a8",
   "metadata": {},
   "outputs": [],
   "source": [
    "import pandas as pd\n",
    "from dash import Input, Output, Dash, html, dcc\n",
    "import plotly.graph_objects as go\n",
    "import plotly.express as pt\n",
    "import numpy as np\n",
    "import seaborn as sns\n",
    "import matplotlib.pyplot as mpt"
   ]
  },
  {
   "cell_type": "code",
   "execution_count": 146,
   "id": "25006047",
   "metadata": {},
   "outputs": [],
   "source": [
    "df = pd.read_csv(r'C:\\Users\\1\\Downloads\\island_scrape.csv', delimiter = ',')"
   ]
  },
  {
   "cell_type": "code",
   "execution_count": 147,
   "id": "bad53447",
   "metadata": {},
   "outputs": [],
   "source": [
    "df.drop(['Unnamed: 0','image'], inplace = True, axis = 1)"
   ]
  },
  {
   "cell_type": "code",
   "execution_count": 148,
   "id": "4f62549a",
   "metadata": {},
   "outputs": [],
   "source": [
    "df['scrape_date'] = pd.to_datetime(df['scrape_date'])"
   ]
  },
  {
   "cell_type": "code",
   "execution_count": 149,
   "id": "e1a1b911",
   "metadata": {},
   "outputs": [
    {
     "data": {
      "text/html": [
       "<div>\n",
       "<style scoped>\n",
       "    .dataframe tbody tr th:only-of-type {\n",
       "        vertical-align: middle;\n",
       "    }\n",
       "\n",
       "    .dataframe tbody tr th {\n",
       "        vertical-align: top;\n",
       "    }\n",
       "\n",
       "    .dataframe thead th {\n",
       "        text-align: right;\n",
       "    }\n",
       "</style>\n",
       "<table border=\"1\" class=\"dataframe\">\n",
       "  <thead>\n",
       "    <tr style=\"text-align: right;\">\n",
       "      <th></th>\n",
       "      <th>name</th>\n",
       "      <th>acreage</th>\n",
       "      <th>price</th>\n",
       "      <th>region</th>\n",
       "      <th>tags</th>\n",
       "      <th>scrape_date</th>\n",
       "      <th>continent</th>\n",
       "    </tr>\n",
       "  </thead>\n",
       "  <tbody>\n",
       "    <tr>\n",
       "      <th>0</th>\n",
       "      <td>Rangyai Island</td>\n",
       "      <td>110</td>\n",
       "      <td>160,000,000.00</td>\n",
       "      <td>Thailand, Asia</td>\n",
       "      <td>Islands with Beaches,Large Acreage,Ocean Islan...</td>\n",
       "      <td>2022-10-16</td>\n",
       "      <td>Asia</td>\n",
       "    </tr>\n",
       "    <tr>\n",
       "      <th>1</th>\n",
       "      <td>Blackbook Listing(2943)</td>\n",
       "      <td>170 - 190</td>\n",
       "      <td>Price Upon Request</td>\n",
       "      <td>Seychelles, Africa</td>\n",
       "      <td>Islands with Beaches,Large Acreage,Ocean Island</td>\n",
       "      <td>2022-10-16</td>\n",
       "      <td>Africa</td>\n",
       "    </tr>\n",
       "    <tr>\n",
       "      <th>2</th>\n",
       "      <td>Blackbook Listing(2867)</td>\n",
       "      <td>100 - 200</td>\n",
       "      <td>Price Upon Request</td>\n",
       "      <td>Spain, Europe</td>\n",
       "      <td>Large Acreage,Ocean Island,Turn Key,Income Pot...</td>\n",
       "      <td>2022-10-16</td>\n",
       "      <td>Europe</td>\n",
       "    </tr>\n",
       "    <tr>\n",
       "      <th>3</th>\n",
       "      <td>Pumpkin Key</td>\n",
       "      <td>26</td>\n",
       "      <td>95,000,000.00</td>\n",
       "      <td>Florida, United States</td>\n",
       "      <td>Large Acreage,Ocean Island,Turn Key,Income Pot...</td>\n",
       "      <td>2022-10-16</td>\n",
       "      <td>United States</td>\n",
       "    </tr>\n",
       "    <tr>\n",
       "      <th>4</th>\n",
       "      <td>Spectabilis Island</td>\n",
       "      <td>460</td>\n",
       "      <td>Sold</td>\n",
       "      <td>The Exumas, Bahamas, Caribbean</td>\n",
       "      <td>Islands with Beaches,Large Acreage,Ocean Islan...</td>\n",
       "      <td>2022-10-16</td>\n",
       "      <td>Caribbean</td>\n",
       "    </tr>\n",
       "  </tbody>\n",
       "</table>\n",
       "</div>"
      ],
      "text/plain": [
       "                      name    acreage                price  \\\n",
       "0           Rangyai Island        110       160,000,000.00   \n",
       "1  Blackbook Listing(2943)  170 - 190   Price Upon Request   \n",
       "2  Blackbook Listing(2867)  100 - 200   Price Upon Request   \n",
       "3              Pumpkin Key         26        95,000,000.00   \n",
       "4       Spectabilis Island        460                 Sold   \n",
       "\n",
       "                           region  \\\n",
       "0                  Thailand, Asia   \n",
       "1              Seychelles, Africa   \n",
       "2                   Spain, Europe   \n",
       "3          Florida, United States   \n",
       "4  The Exumas, Bahamas, Caribbean   \n",
       "\n",
       "                                                tags scrape_date  \\\n",
       "0  Islands with Beaches,Large Acreage,Ocean Islan...  2022-10-16   \n",
       "1    Islands with Beaches,Large Acreage,Ocean Island  2022-10-16   \n",
       "2  Large Acreage,Ocean Island,Turn Key,Income Pot...  2022-10-16   \n",
       "3  Large Acreage,Ocean Island,Turn Key,Income Pot...  2022-10-16   \n",
       "4  Islands with Beaches,Large Acreage,Ocean Islan...  2022-10-16   \n",
       "\n",
       "       continent  \n",
       "0           Asia  \n",
       "1         Africa  \n",
       "2         Europe  \n",
       "3  United States  \n",
       "4      Caribbean  "
      ]
     },
     "execution_count": 149,
     "metadata": {},
     "output_type": "execute_result"
    }
   ],
   "source": [
    "regions = list(df['region'].str.split(', '))\n",
    "cont = [i[-1] for i in regions]\n",
    "df['continent'] = cont\n",
    "df.head()"
   ]
  },
  {
   "cell_type": "code",
   "execution_count": 150,
   "id": "0b9a0dc5",
   "metadata": {},
   "outputs": [],
   "source": [
    "def meana(x):\n",
    "    if x[0].isdigit():\n",
    "        z = [float(i) for i in x]\n",
    "        return sum(z)/len(z)\n",
    "    else:\n",
    "        return pd.NA"
   ]
  },
  {
   "cell_type": "code",
   "execution_count": 151,
   "id": "6ae7af13",
   "metadata": {},
   "outputs": [],
   "source": [
    "acr = list(df['acreage'])\n",
    "acr = list(map(lambda x: str(x).split(' - '),acr))\n",
    "acr = list(map(meana,acr))\n",
    "df['acreage'] = acr"
   ]
  },
  {
   "cell_type": "code",
   "execution_count": 152,
   "id": "a6bdc015",
   "metadata": {},
   "outputs": [],
   "source": [
    "df.dropna(inplace = True)"
   ]
  },
  {
   "cell_type": "code",
   "execution_count": 153,
   "id": "0e683ff7",
   "metadata": {},
   "outputs": [
    {
     "name": "stderr",
     "output_type": "stream",
     "text": [
      "C:\\Users\\1\\AppData\\Local\\Temp\\ipykernel_11528\\573789229.py:2: FutureWarning:\n",
      "\n",
      "The default value of regex will change from True to False in a future version. In addition, single character regular expressions will *not* be treated as literal strings when regex=True.\n",
      "\n"
     ]
    }
   ],
   "source": [
    "df['price'] = df['price'].str.replace(',', '')\n",
    "df['price'] = df['price'].str.replace('.','')"
   ]
  },
  {
   "cell_type": "code",
   "execution_count": 154,
   "id": "4bf1f19e",
   "metadata": {},
   "outputs": [],
   "source": [
    "df_with_prices = df[df['price'].str.isdigit()]"
   ]
  },
  {
   "cell_type": "code",
   "execution_count": 155,
   "id": "6e555508",
   "metadata": {},
   "outputs": [
    {
     "name": "stderr",
     "output_type": "stream",
     "text": [
      "C:\\Users\\1\\AppData\\Local\\Temp\\ipykernel_11528\\1838155031.py:1: SettingWithCopyWarning:\n",
      "\n",
      "\n",
      "A value is trying to be set on a copy of a slice from a DataFrame.\n",
      "Try using .loc[row_indexer,col_indexer] = value instead\n",
      "\n",
      "See the caveats in the documentation: https://pandas.pydata.org/pandas-docs/stable/user_guide/indexing.html#returning-a-view-versus-a-copy\n",
      "\n"
     ]
    }
   ],
   "source": [
    "df_with_prices['price'] = df_with_prices['price'].astype(float)"
   ]
  },
  {
   "cell_type": "code",
   "execution_count": 156,
   "id": "dd6dc045",
   "metadata": {},
   "outputs": [
    {
     "name": "stderr",
     "output_type": "stream",
     "text": [
      "C:\\Users\\1\\AppData\\Local\\Temp\\ipykernel_11528\\118919842.py:1: SettingWithCopyWarning:\n",
      "\n",
      "\n",
      "A value is trying to be set on a copy of a slice from a DataFrame.\n",
      "Try using .loc[row_indexer,col_indexer] = value instead\n",
      "\n",
      "See the caveats in the documentation: https://pandas.pydata.org/pandas-docs/stable/user_guide/indexing.html#returning-a-view-versus-a-copy\n",
      "\n"
     ]
    }
   ],
   "source": [
    "df_with_prices['price'] = df_with_prices['price']/100000000"
   ]
  },
  {
   "cell_type": "code",
   "execution_count": 157,
   "id": "83280b29",
   "metadata": {},
   "outputs": [
    {
     "data": {
      "text/html": [
       "<div>\n",
       "<style scoped>\n",
       "    .dataframe tbody tr th:only-of-type {\n",
       "        vertical-align: middle;\n",
       "    }\n",
       "\n",
       "    .dataframe tbody tr th {\n",
       "        vertical-align: top;\n",
       "    }\n",
       "\n",
       "    .dataframe thead th {\n",
       "        text-align: right;\n",
       "    }\n",
       "</style>\n",
       "<table border=\"1\" class=\"dataframe\">\n",
       "  <thead>\n",
       "    <tr style=\"text-align: right;\">\n",
       "      <th></th>\n",
       "      <th>name</th>\n",
       "      <th>acreage</th>\n",
       "      <th>price</th>\n",
       "      <th>region</th>\n",
       "      <th>tags</th>\n",
       "      <th>scrape_date</th>\n",
       "      <th>continent</th>\n",
       "    </tr>\n",
       "  </thead>\n",
       "  <tbody>\n",
       "    <tr>\n",
       "      <th>0</th>\n",
       "      <td>Rangyai Island</td>\n",
       "      <td>110.0</td>\n",
       "      <td>160.0</td>\n",
       "      <td>Thailand, Asia</td>\n",
       "      <td>Islands with Beaches,Large Acreage,Ocean Islan...</td>\n",
       "      <td>2022-10-16</td>\n",
       "      <td>Asia</td>\n",
       "    </tr>\n",
       "    <tr>\n",
       "      <th>3</th>\n",
       "      <td>Pumpkin Key</td>\n",
       "      <td>26.0</td>\n",
       "      <td>95.0</td>\n",
       "      <td>Florida, United States</td>\n",
       "      <td>Large Acreage,Ocean Island,Turn Key,Income Pot...</td>\n",
       "      <td>2022-10-16</td>\n",
       "      <td>United States</td>\n",
       "    </tr>\n",
       "    <tr>\n",
       "      <th>7</th>\n",
       "      <td>Bird Cay and Cat Cay</td>\n",
       "      <td>267.0</td>\n",
       "      <td>50.0</td>\n",
       "      <td>The Berry Islands, Bahamas, Caribbean</td>\n",
       "      <td>Islands with Beaches,Large Acreage,Ocean Island</td>\n",
       "      <td>2022-10-16</td>\n",
       "      <td>Caribbean</td>\n",
       "    </tr>\n",
       "    <tr>\n",
       "      <th>8</th>\n",
       "      <td>Royal Island</td>\n",
       "      <td>430.0</td>\n",
       "      <td>50.0</td>\n",
       "      <td>Eleuthera, Bahamas, Caribbean</td>\n",
       "      <td>Islands with Beaches,Large Acreage,Ocean Islan...</td>\n",
       "      <td>2022-10-16</td>\n",
       "      <td>Caribbean</td>\n",
       "    </tr>\n",
       "    <tr>\n",
       "      <th>23</th>\n",
       "      <td>Darby Island</td>\n",
       "      <td>554.0</td>\n",
       "      <td>46.0</td>\n",
       "      <td>The Exumas, Bahamas, Caribbean</td>\n",
       "      <td>Islands with Beaches,Airstrip or Fly-in,Large ...</td>\n",
       "      <td>2022-10-16</td>\n",
       "      <td>Caribbean</td>\n",
       "    </tr>\n",
       "  </tbody>\n",
       "</table>\n",
       "</div>"
      ],
      "text/plain": [
       "                    name acreage  price  \\\n",
       "0         Rangyai Island   110.0  160.0   \n",
       "3            Pumpkin Key    26.0   95.0   \n",
       "7   Bird Cay and Cat Cay   267.0   50.0   \n",
       "8           Royal Island   430.0   50.0   \n",
       "23          Darby Island   554.0   46.0   \n",
       "\n",
       "                                   region  \\\n",
       "0                          Thailand, Asia   \n",
       "3                  Florida, United States   \n",
       "7   The Berry Islands, Bahamas, Caribbean   \n",
       "8           Eleuthera, Bahamas, Caribbean   \n",
       "23         The Exumas, Bahamas, Caribbean   \n",
       "\n",
       "                                                 tags scrape_date  \\\n",
       "0   Islands with Beaches,Large Acreage,Ocean Islan...  2022-10-16   \n",
       "3   Large Acreage,Ocean Island,Turn Key,Income Pot...  2022-10-16   \n",
       "7     Islands with Beaches,Large Acreage,Ocean Island  2022-10-16   \n",
       "8   Islands with Beaches,Large Acreage,Ocean Islan...  2022-10-16   \n",
       "23  Islands with Beaches,Airstrip or Fly-in,Large ...  2022-10-16   \n",
       "\n",
       "        continent  \n",
       "0            Asia  \n",
       "3   United States  \n",
       "7       Caribbean  \n",
       "8       Caribbean  \n",
       "23      Caribbean  "
      ]
     },
     "execution_count": 157,
     "metadata": {},
     "output_type": "execute_result"
    }
   ],
   "source": [
    "df_with_prices.head()"
   ]
  },
  {
   "cell_type": "code",
   "execution_count": 158,
   "id": "0a0645a6",
   "metadata": {},
   "outputs": [],
   "source": [
    "def find_unique(x):\n",
    "    z = []\n",
    "    for i in x:\n",
    "        if type(i) == list:        \n",
    "            for j in i:\n",
    "                if j not in z:\n",
    "                    z.append(j)\n",
    "        else:\n",
    "            continue\n",
    "    return(z)\n"
   ]
  },
  {
   "cell_type": "code",
   "execution_count": 159,
   "id": "71cfbbc7",
   "metadata": {},
   "outputs": [
    {
     "name": "stderr",
     "output_type": "stream",
     "text": [
      "C:\\Users\\1\\AppData\\Local\\Temp\\ipykernel_11528\\2937233543.py:4: SettingWithCopyWarning:\n",
      "\n",
      "\n",
      "A value is trying to be set on a copy of a slice from a DataFrame.\n",
      "Try using .loc[row_indexer,col_indexer] = value instead\n",
      "\n",
      "See the caveats in the documentation: https://pandas.pydata.org/pandas-docs/stable/user_guide/indexing.html#returning-a-view-versus-a-copy\n",
      "\n",
      "C:\\Users\\1\\AppData\\Local\\Temp\\ipykernel_11528\\2937233543.py:4: SettingWithCopyWarning:\n",
      "\n",
      "\n",
      "A value is trying to be set on a copy of a slice from a DataFrame.\n",
      "Try using .loc[row_indexer,col_indexer] = value instead\n",
      "\n",
      "See the caveats in the documentation: https://pandas.pydata.org/pandas-docs/stable/user_guide/indexing.html#returning-a-view-versus-a-copy\n",
      "\n",
      "C:\\Users\\1\\AppData\\Local\\Temp\\ipykernel_11528\\2937233543.py:4: SettingWithCopyWarning:\n",
      "\n",
      "\n",
      "A value is trying to be set on a copy of a slice from a DataFrame.\n",
      "Try using .loc[row_indexer,col_indexer] = value instead\n",
      "\n",
      "See the caveats in the documentation: https://pandas.pydata.org/pandas-docs/stable/user_guide/indexing.html#returning-a-view-versus-a-copy\n",
      "\n",
      "C:\\Users\\1\\AppData\\Local\\Temp\\ipykernel_11528\\2937233543.py:4: SettingWithCopyWarning:\n",
      "\n",
      "\n",
      "A value is trying to be set on a copy of a slice from a DataFrame.\n",
      "Try using .loc[row_indexer,col_indexer] = value instead\n",
      "\n",
      "See the caveats in the documentation: https://pandas.pydata.org/pandas-docs/stable/user_guide/indexing.html#returning-a-view-versus-a-copy\n",
      "\n",
      "C:\\Users\\1\\AppData\\Local\\Temp\\ipykernel_11528\\2937233543.py:4: SettingWithCopyWarning:\n",
      "\n",
      "\n",
      "A value is trying to be set on a copy of a slice from a DataFrame.\n",
      "Try using .loc[row_indexer,col_indexer] = value instead\n",
      "\n",
      "See the caveats in the documentation: https://pandas.pydata.org/pandas-docs/stable/user_guide/indexing.html#returning-a-view-versus-a-copy\n",
      "\n",
      "C:\\Users\\1\\AppData\\Local\\Temp\\ipykernel_11528\\2937233543.py:4: SettingWithCopyWarning:\n",
      "\n",
      "\n",
      "A value is trying to be set on a copy of a slice from a DataFrame.\n",
      "Try using .loc[row_indexer,col_indexer] = value instead\n",
      "\n",
      "See the caveats in the documentation: https://pandas.pydata.org/pandas-docs/stable/user_guide/indexing.html#returning-a-view-versus-a-copy\n",
      "\n",
      "C:\\Users\\1\\AppData\\Local\\Temp\\ipykernel_11528\\2937233543.py:4: SettingWithCopyWarning:\n",
      "\n",
      "\n",
      "A value is trying to be set on a copy of a slice from a DataFrame.\n",
      "Try using .loc[row_indexer,col_indexer] = value instead\n",
      "\n",
      "See the caveats in the documentation: https://pandas.pydata.org/pandas-docs/stable/user_guide/indexing.html#returning-a-view-versus-a-copy\n",
      "\n",
      "C:\\Users\\1\\AppData\\Local\\Temp\\ipykernel_11528\\2937233543.py:4: SettingWithCopyWarning:\n",
      "\n",
      "\n",
      "A value is trying to be set on a copy of a slice from a DataFrame.\n",
      "Try using .loc[row_indexer,col_indexer] = value instead\n",
      "\n",
      "See the caveats in the documentation: https://pandas.pydata.org/pandas-docs/stable/user_guide/indexing.html#returning-a-view-versus-a-copy\n",
      "\n",
      "C:\\Users\\1\\AppData\\Local\\Temp\\ipykernel_11528\\2937233543.py:4: SettingWithCopyWarning:\n",
      "\n",
      "\n",
      "A value is trying to be set on a copy of a slice from a DataFrame.\n",
      "Try using .loc[row_indexer,col_indexer] = value instead\n",
      "\n",
      "See the caveats in the documentation: https://pandas.pydata.org/pandas-docs/stable/user_guide/indexing.html#returning-a-view-versus-a-copy\n",
      "\n",
      "C:\\Users\\1\\AppData\\Local\\Temp\\ipykernel_11528\\2937233543.py:4: SettingWithCopyWarning:\n",
      "\n",
      "\n",
      "A value is trying to be set on a copy of a slice from a DataFrame.\n",
      "Try using .loc[row_indexer,col_indexer] = value instead\n",
      "\n",
      "See the caveats in the documentation: https://pandas.pydata.org/pandas-docs/stable/user_guide/indexing.html#returning-a-view-versus-a-copy\n",
      "\n",
      "C:\\Users\\1\\AppData\\Local\\Temp\\ipykernel_11528\\2937233543.py:4: SettingWithCopyWarning:\n",
      "\n",
      "\n",
      "A value is trying to be set on a copy of a slice from a DataFrame.\n",
      "Try using .loc[row_indexer,col_indexer] = value instead\n",
      "\n",
      "See the caveats in the documentation: https://pandas.pydata.org/pandas-docs/stable/user_guide/indexing.html#returning-a-view-versus-a-copy\n",
      "\n",
      "C:\\Users\\1\\AppData\\Local\\Temp\\ipykernel_11528\\2937233543.py:4: SettingWithCopyWarning:\n",
      "\n",
      "\n",
      "A value is trying to be set on a copy of a slice from a DataFrame.\n",
      "Try using .loc[row_indexer,col_indexer] = value instead\n",
      "\n",
      "See the caveats in the documentation: https://pandas.pydata.org/pandas-docs/stable/user_guide/indexing.html#returning-a-view-versus-a-copy\n",
      "\n",
      "C:\\Users\\1\\AppData\\Local\\Temp\\ipykernel_11528\\2937233543.py:4: SettingWithCopyWarning:\n",
      "\n",
      "\n",
      "A value is trying to be set on a copy of a slice from a DataFrame.\n",
      "Try using .loc[row_indexer,col_indexer] = value instead\n",
      "\n",
      "See the caveats in the documentation: https://pandas.pydata.org/pandas-docs/stable/user_guide/indexing.html#returning-a-view-versus-a-copy\n",
      "\n"
     ]
    },
    {
     "data": {
      "text/html": [
       "<div>\n",
       "<style scoped>\n",
       "    .dataframe tbody tr th:only-of-type {\n",
       "        vertical-align: middle;\n",
       "    }\n",
       "\n",
       "    .dataframe tbody tr th {\n",
       "        vertical-align: top;\n",
       "    }\n",
       "\n",
       "    .dataframe thead th {\n",
       "        text-align: right;\n",
       "    }\n",
       "</style>\n",
       "<table border=\"1\" class=\"dataframe\">\n",
       "  <thead>\n",
       "    <tr style=\"text-align: right;\">\n",
       "      <th></th>\n",
       "      <th>name</th>\n",
       "      <th>acreage</th>\n",
       "      <th>price</th>\n",
       "      <th>region</th>\n",
       "      <th>tags</th>\n",
       "      <th>scrape_date</th>\n",
       "      <th>continent</th>\n",
       "    </tr>\n",
       "  </thead>\n",
       "  <tbody>\n",
       "    <tr>\n",
       "      <th>0</th>\n",
       "      <td>Rangyai Island</td>\n",
       "      <td>110.0</td>\n",
       "      <td>16000000000</td>\n",
       "      <td>Thailand, Asia</td>\n",
       "      <td>Islands with Beaches,Large Acreage,Ocean Islan...</td>\n",
       "      <td>2022-10-16</td>\n",
       "      <td>Asia</td>\n",
       "    </tr>\n",
       "    <tr>\n",
       "      <th>1</th>\n",
       "      <td>Blackbook Listing(2943)</td>\n",
       "      <td>180.0</td>\n",
       "      <td>Price Upon Request</td>\n",
       "      <td>Seychelles, Africa</td>\n",
       "      <td>Islands with Beaches,Large Acreage,Ocean Island</td>\n",
       "      <td>2022-10-16</td>\n",
       "      <td>Africa</td>\n",
       "    </tr>\n",
       "    <tr>\n",
       "      <th>2</th>\n",
       "      <td>Blackbook Listing(2867)</td>\n",
       "      <td>150.0</td>\n",
       "      <td>Price Upon Request</td>\n",
       "      <td>Spain, Europe</td>\n",
       "      <td>Large Acreage,Ocean Island,Turn Key,Income Pot...</td>\n",
       "      <td>2022-10-16</td>\n",
       "      <td>Europe</td>\n",
       "    </tr>\n",
       "    <tr>\n",
       "      <th>3</th>\n",
       "      <td>Pumpkin Key</td>\n",
       "      <td>26.0</td>\n",
       "      <td>9500000000</td>\n",
       "      <td>Florida, United States</td>\n",
       "      <td>Large Acreage,Ocean Island,Turn Key,Income Pot...</td>\n",
       "      <td>2022-10-16</td>\n",
       "      <td>United States</td>\n",
       "    </tr>\n",
       "    <tr>\n",
       "      <th>4</th>\n",
       "      <td>Spectabilis Island</td>\n",
       "      <td>460.0</td>\n",
       "      <td>Sold</td>\n",
       "      <td>The Exumas, Bahamas, Caribbean</td>\n",
       "      <td>Islands with Beaches,Large Acreage,Ocean Islan...</td>\n",
       "      <td>2022-10-16</td>\n",
       "      <td>Caribbean</td>\n",
       "    </tr>\n",
       "    <tr>\n",
       "      <th>...</th>\n",
       "      <td>...</td>\n",
       "      <td>...</td>\n",
       "      <td>...</td>\n",
       "      <td>...</td>\n",
       "      <td>...</td>\n",
       "      <td>...</td>\n",
       "      <td>...</td>\n",
       "    </tr>\n",
       "    <tr>\n",
       "      <th>666</th>\n",
       "      <td>Sweet Island</td>\n",
       "      <td>3.0</td>\n",
       "      <td>Sold</td>\n",
       "      <td>British Columbia, Canada</td>\n",
       "      <td>Lake Island,Income Potential</td>\n",
       "      <td>2022-10-16</td>\n",
       "      <td>Canada</td>\n",
       "    </tr>\n",
       "    <tr>\n",
       "      <th>667</th>\n",
       "      <td>Big Tancook Island</td>\n",
       "      <td>12.0</td>\n",
       "      <td>9000000</td>\n",
       "      <td>Nova Scotia, Canada</td>\n",
       "      <td>Ocean Island,Seasonal</td>\n",
       "      <td>2022-10-16</td>\n",
       "      <td>Canada</td>\n",
       "    </tr>\n",
       "    <tr>\n",
       "      <th>668</th>\n",
       "      <td>Gautier Island</td>\n",
       "      <td>3.0</td>\n",
       "      <td>Sold</td>\n",
       "      <td>Mississippi, United States</td>\n",
       "      <td>Ocean Island</td>\n",
       "      <td>2022-10-16</td>\n",
       "      <td>United States</td>\n",
       "    </tr>\n",
       "    <tr>\n",
       "      <th>670</th>\n",
       "      <td>Blackbook Listing(2879)</td>\n",
       "      <td>65.0</td>\n",
       "      <td>Investment Opportunity</td>\n",
       "      <td>Florida, United States</td>\n",
       "      <td>Islands with Beaches,Large Acreage,Ocean Islan...</td>\n",
       "      <td>2022-10-16</td>\n",
       "      <td>United States</td>\n",
       "    </tr>\n",
       "    <tr>\n",
       "      <th>671</th>\n",
       "      <td>Trstenik Island</td>\n",
       "      <td>4.0</td>\n",
       "      <td>Price Upon Request</td>\n",
       "      <td>Croatia, Europe</td>\n",
       "      <td>Ocean Island,Income Potential</td>\n",
       "      <td>2022-10-16</td>\n",
       "      <td>Europe</td>\n",
       "    </tr>\n",
       "  </tbody>\n",
       "</table>\n",
       "<p>632 rows × 7 columns</p>\n",
       "</div>"
      ],
      "text/plain": [
       "                        name acreage                    price  \\\n",
       "0             Rangyai Island   110.0              16000000000   \n",
       "1    Blackbook Listing(2943)   180.0       Price Upon Request   \n",
       "2    Blackbook Listing(2867)   150.0       Price Upon Request   \n",
       "3                Pumpkin Key    26.0               9500000000   \n",
       "4         Spectabilis Island   460.0                     Sold   \n",
       "..                       ...     ...                      ...   \n",
       "666             Sweet Island     3.0                     Sold   \n",
       "667       Big Tancook Island    12.0                  9000000   \n",
       "668           Gautier Island     3.0                     Sold   \n",
       "670  Blackbook Listing(2879)    65.0   Investment Opportunity   \n",
       "671          Trstenik Island     4.0       Price Upon Request   \n",
       "\n",
       "                             region  \\\n",
       "0                    Thailand, Asia   \n",
       "1                Seychelles, Africa   \n",
       "2                     Spain, Europe   \n",
       "3            Florida, United States   \n",
       "4    The Exumas, Bahamas, Caribbean   \n",
       "..                              ...   \n",
       "666        British Columbia, Canada   \n",
       "667             Nova Scotia, Canada   \n",
       "668      Mississippi, United States   \n",
       "670          Florida, United States   \n",
       "671                 Croatia, Europe   \n",
       "\n",
       "                                                  tags scrape_date  \\\n",
       "0    Islands with Beaches,Large Acreage,Ocean Islan...  2022-10-16   \n",
       "1      Islands with Beaches,Large Acreage,Ocean Island  2022-10-16   \n",
       "2    Large Acreage,Ocean Island,Turn Key,Income Pot...  2022-10-16   \n",
       "3    Large Acreage,Ocean Island,Turn Key,Income Pot...  2022-10-16   \n",
       "4    Islands with Beaches,Large Acreage,Ocean Islan...  2022-10-16   \n",
       "..                                                 ...         ...   \n",
       "666                       Lake Island,Income Potential  2022-10-16   \n",
       "667                              Ocean Island,Seasonal  2022-10-16   \n",
       "668                                       Ocean Island  2022-10-16   \n",
       "670  Islands with Beaches,Large Acreage,Ocean Islan...  2022-10-16   \n",
       "671                      Ocean Island,Income Potential  2022-10-16   \n",
       "\n",
       "         continent  \n",
       "0             Asia  \n",
       "1           Africa  \n",
       "2           Europe  \n",
       "3    United States  \n",
       "4        Caribbean  \n",
       "..             ...  \n",
       "666         Canada  \n",
       "667         Canada  \n",
       "668  United States  \n",
       "670  United States  \n",
       "671         Europe  \n",
       "\n",
       "[632 rows x 7 columns]"
      ]
     },
     "execution_count": 159,
     "metadata": {},
     "output_type": "execute_result"
    }
   ],
   "source": [
    "facilities = list(df_with_prices['tags'].str.split(','))\n",
    "unique_facilities = find_unique(facilities)\n",
    "for i in unique_facilities:\n",
    "    df_with_prices[i] = np.nan\n",
    "df"
   ]
  },
  {
   "cell_type": "code",
   "execution_count": 160,
   "id": "3ef918ec",
   "metadata": {},
   "outputs": [
    {
     "data": {
      "text/html": [
       "<div>\n",
       "<style scoped>\n",
       "    .dataframe tbody tr th:only-of-type {\n",
       "        vertical-align: middle;\n",
       "    }\n",
       "\n",
       "    .dataframe tbody tr th {\n",
       "        vertical-align: top;\n",
       "    }\n",
       "\n",
       "    .dataframe thead th {\n",
       "        text-align: right;\n",
       "    }\n",
       "</style>\n",
       "<table border=\"1\" class=\"dataframe\">\n",
       "  <thead>\n",
       "    <tr style=\"text-align: right;\">\n",
       "      <th></th>\n",
       "      <th>index</th>\n",
       "      <th>name</th>\n",
       "      <th>acreage</th>\n",
       "      <th>price</th>\n",
       "      <th>region</th>\n",
       "      <th>tags</th>\n",
       "      <th>scrape_date</th>\n",
       "      <th>continent</th>\n",
       "      <th>Islands with Beaches</th>\n",
       "      <th>Large Acreage</th>\n",
       "      <th>...</th>\n",
       "      <th>Income Potential</th>\n",
       "      <th>Turn Key</th>\n",
       "      <th>Airstrip or Fly-in</th>\n",
       "      <th>Historic</th>\n",
       "      <th>Mainland Power</th>\n",
       "      <th>Income Producing</th>\n",
       "      <th>River Island</th>\n",
       "      <th>Mainland Lot</th>\n",
       "      <th>Lake Island</th>\n",
       "      <th>Seasonal</th>\n",
       "    </tr>\n",
       "  </thead>\n",
       "  <tbody>\n",
       "    <tr>\n",
       "      <th>0</th>\n",
       "      <td>0</td>\n",
       "      <td>Rangyai Island</td>\n",
       "      <td>110.0</td>\n",
       "      <td>160.0</td>\n",
       "      <td>Thailand, Asia</td>\n",
       "      <td>Islands with Beaches,Large Acreage,Ocean Islan...</td>\n",
       "      <td>2022-10-16</td>\n",
       "      <td>Asia</td>\n",
       "      <td>NaN</td>\n",
       "      <td>NaN</td>\n",
       "      <td>...</td>\n",
       "      <td>NaN</td>\n",
       "      <td>NaN</td>\n",
       "      <td>NaN</td>\n",
       "      <td>NaN</td>\n",
       "      <td>NaN</td>\n",
       "      <td>NaN</td>\n",
       "      <td>NaN</td>\n",
       "      <td>NaN</td>\n",
       "      <td>NaN</td>\n",
       "      <td>NaN</td>\n",
       "    </tr>\n",
       "    <tr>\n",
       "      <th>1</th>\n",
       "      <td>3</td>\n",
       "      <td>Pumpkin Key</td>\n",
       "      <td>26.0</td>\n",
       "      <td>95.0</td>\n",
       "      <td>Florida, United States</td>\n",
       "      <td>Large Acreage,Ocean Island,Turn Key,Income Pot...</td>\n",
       "      <td>2022-10-16</td>\n",
       "      <td>United States</td>\n",
       "      <td>NaN</td>\n",
       "      <td>NaN</td>\n",
       "      <td>...</td>\n",
       "      <td>NaN</td>\n",
       "      <td>NaN</td>\n",
       "      <td>NaN</td>\n",
       "      <td>NaN</td>\n",
       "      <td>NaN</td>\n",
       "      <td>NaN</td>\n",
       "      <td>NaN</td>\n",
       "      <td>NaN</td>\n",
       "      <td>NaN</td>\n",
       "      <td>NaN</td>\n",
       "    </tr>\n",
       "    <tr>\n",
       "      <th>2</th>\n",
       "      <td>7</td>\n",
       "      <td>Bird Cay and Cat Cay</td>\n",
       "      <td>267.0</td>\n",
       "      <td>50.0</td>\n",
       "      <td>The Berry Islands, Bahamas, Caribbean</td>\n",
       "      <td>Islands with Beaches,Large Acreage,Ocean Island</td>\n",
       "      <td>2022-10-16</td>\n",
       "      <td>Caribbean</td>\n",
       "      <td>NaN</td>\n",
       "      <td>NaN</td>\n",
       "      <td>...</td>\n",
       "      <td>NaN</td>\n",
       "      <td>NaN</td>\n",
       "      <td>NaN</td>\n",
       "      <td>NaN</td>\n",
       "      <td>NaN</td>\n",
       "      <td>NaN</td>\n",
       "      <td>NaN</td>\n",
       "      <td>NaN</td>\n",
       "      <td>NaN</td>\n",
       "      <td>NaN</td>\n",
       "    </tr>\n",
       "    <tr>\n",
       "      <th>3</th>\n",
       "      <td>8</td>\n",
       "      <td>Royal Island</td>\n",
       "      <td>430.0</td>\n",
       "      <td>50.0</td>\n",
       "      <td>Eleuthera, Bahamas, Caribbean</td>\n",
       "      <td>Islands with Beaches,Large Acreage,Ocean Islan...</td>\n",
       "      <td>2022-10-16</td>\n",
       "      <td>Caribbean</td>\n",
       "      <td>NaN</td>\n",
       "      <td>NaN</td>\n",
       "      <td>...</td>\n",
       "      <td>NaN</td>\n",
       "      <td>NaN</td>\n",
       "      <td>NaN</td>\n",
       "      <td>NaN</td>\n",
       "      <td>NaN</td>\n",
       "      <td>NaN</td>\n",
       "      <td>NaN</td>\n",
       "      <td>NaN</td>\n",
       "      <td>NaN</td>\n",
       "      <td>NaN</td>\n",
       "    </tr>\n",
       "    <tr>\n",
       "      <th>4</th>\n",
       "      <td>23</td>\n",
       "      <td>Darby Island</td>\n",
       "      <td>554.0</td>\n",
       "      <td>46.0</td>\n",
       "      <td>The Exumas, Bahamas, Caribbean</td>\n",
       "      <td>Islands with Beaches,Airstrip or Fly-in,Large ...</td>\n",
       "      <td>2022-10-16</td>\n",
       "      <td>Caribbean</td>\n",
       "      <td>NaN</td>\n",
       "      <td>NaN</td>\n",
       "      <td>...</td>\n",
       "      <td>NaN</td>\n",
       "      <td>NaN</td>\n",
       "      <td>NaN</td>\n",
       "      <td>NaN</td>\n",
       "      <td>NaN</td>\n",
       "      <td>NaN</td>\n",
       "      <td>NaN</td>\n",
       "      <td>NaN</td>\n",
       "      <td>NaN</td>\n",
       "      <td>NaN</td>\n",
       "    </tr>\n",
       "  </tbody>\n",
       "</table>\n",
       "<p>5 rows × 21 columns</p>\n",
       "</div>"
      ],
      "text/plain": [
       "   index                  name acreage  price  \\\n",
       "0      0        Rangyai Island   110.0  160.0   \n",
       "1      3           Pumpkin Key    26.0   95.0   \n",
       "2      7  Bird Cay and Cat Cay   267.0   50.0   \n",
       "3      8          Royal Island   430.0   50.0   \n",
       "4     23          Darby Island   554.0   46.0   \n",
       "\n",
       "                                  region  \\\n",
       "0                         Thailand, Asia   \n",
       "1                 Florida, United States   \n",
       "2  The Berry Islands, Bahamas, Caribbean   \n",
       "3          Eleuthera, Bahamas, Caribbean   \n",
       "4         The Exumas, Bahamas, Caribbean   \n",
       "\n",
       "                                                tags scrape_date  \\\n",
       "0  Islands with Beaches,Large Acreage,Ocean Islan...  2022-10-16   \n",
       "1  Large Acreage,Ocean Island,Turn Key,Income Pot...  2022-10-16   \n",
       "2    Islands with Beaches,Large Acreage,Ocean Island  2022-10-16   \n",
       "3  Islands with Beaches,Large Acreage,Ocean Islan...  2022-10-16   \n",
       "4  Islands with Beaches,Airstrip or Fly-in,Large ...  2022-10-16   \n",
       "\n",
       "       continent  Islands with Beaches  Large Acreage  ...  Income Potential  \\\n",
       "0           Asia                   NaN            NaN  ...               NaN   \n",
       "1  United States                   NaN            NaN  ...               NaN   \n",
       "2      Caribbean                   NaN            NaN  ...               NaN   \n",
       "3      Caribbean                   NaN            NaN  ...               NaN   \n",
       "4      Caribbean                   NaN            NaN  ...               NaN   \n",
       "\n",
       "   Turn Key  Airstrip or Fly-in  Historic  Mainland Power  Income Producing  \\\n",
       "0       NaN                 NaN       NaN             NaN               NaN   \n",
       "1       NaN                 NaN       NaN             NaN               NaN   \n",
       "2       NaN                 NaN       NaN             NaN               NaN   \n",
       "3       NaN                 NaN       NaN             NaN               NaN   \n",
       "4       NaN                 NaN       NaN             NaN               NaN   \n",
       "\n",
       "   River Island  Mainland Lot  Lake Island  Seasonal  \n",
       "0           NaN           NaN          NaN       NaN  \n",
       "1           NaN           NaN          NaN       NaN  \n",
       "2           NaN           NaN          NaN       NaN  \n",
       "3           NaN           NaN          NaN       NaN  \n",
       "4           NaN           NaN          NaN       NaN  \n",
       "\n",
       "[5 rows x 21 columns]"
      ]
     },
     "execution_count": 160,
     "metadata": {},
     "output_type": "execute_result"
    }
   ],
   "source": [
    "df_with_pricess = df_with_prices.reset_index()\n",
    "df_with_pricess.head()"
   ]
  },
  {
   "cell_type": "code",
   "execution_count": 161,
   "id": "ab212bb4",
   "metadata": {},
   "outputs": [],
   "source": [
    "df_with_pricess.drop('index', axis = 1, inplace = True)"
   ]
  },
  {
   "cell_type": "code",
   "execution_count": 162,
   "id": "a05cc1ad",
   "metadata": {},
   "outputs": [
    {
     "data": {
      "text/html": [
       "<div>\n",
       "<style scoped>\n",
       "    .dataframe tbody tr th:only-of-type {\n",
       "        vertical-align: middle;\n",
       "    }\n",
       "\n",
       "    .dataframe tbody tr th {\n",
       "        vertical-align: top;\n",
       "    }\n",
       "\n",
       "    .dataframe thead th {\n",
       "        text-align: right;\n",
       "    }\n",
       "</style>\n",
       "<table border=\"1\" class=\"dataframe\">\n",
       "  <thead>\n",
       "    <tr style=\"text-align: right;\">\n",
       "      <th></th>\n",
       "      <th>name</th>\n",
       "      <th>acreage</th>\n",
       "      <th>price</th>\n",
       "      <th>region</th>\n",
       "      <th>tags</th>\n",
       "      <th>scrape_date</th>\n",
       "      <th>continent</th>\n",
       "      <th>Islands with Beaches</th>\n",
       "      <th>Large Acreage</th>\n",
       "      <th>Ocean Island</th>\n",
       "      <th>Income Potential</th>\n",
       "      <th>Turn Key</th>\n",
       "      <th>Airstrip or Fly-in</th>\n",
       "      <th>Historic</th>\n",
       "      <th>Mainland Power</th>\n",
       "      <th>Income Producing</th>\n",
       "      <th>River Island</th>\n",
       "      <th>Mainland Lot</th>\n",
       "      <th>Lake Island</th>\n",
       "      <th>Seasonal</th>\n",
       "    </tr>\n",
       "  </thead>\n",
       "  <tbody>\n",
       "    <tr>\n",
       "      <th>0</th>\n",
       "      <td>Rangyai Island</td>\n",
       "      <td>110.0</td>\n",
       "      <td>160.0</td>\n",
       "      <td>Thailand, Asia</td>\n",
       "      <td>Islands with Beaches,Large Acreage,Ocean Islan...</td>\n",
       "      <td>2022-10-16</td>\n",
       "      <td>Asia</td>\n",
       "      <td>NaN</td>\n",
       "      <td>NaN</td>\n",
       "      <td>NaN</td>\n",
       "      <td>NaN</td>\n",
       "      <td>NaN</td>\n",
       "      <td>NaN</td>\n",
       "      <td>NaN</td>\n",
       "      <td>NaN</td>\n",
       "      <td>NaN</td>\n",
       "      <td>NaN</td>\n",
       "      <td>NaN</td>\n",
       "      <td>NaN</td>\n",
       "      <td>NaN</td>\n",
       "    </tr>\n",
       "    <tr>\n",
       "      <th>1</th>\n",
       "      <td>Pumpkin Key</td>\n",
       "      <td>26.0</td>\n",
       "      <td>95.0</td>\n",
       "      <td>Florida, United States</td>\n",
       "      <td>Large Acreage,Ocean Island,Turn Key,Income Pot...</td>\n",
       "      <td>2022-10-16</td>\n",
       "      <td>United States</td>\n",
       "      <td>NaN</td>\n",
       "      <td>NaN</td>\n",
       "      <td>NaN</td>\n",
       "      <td>NaN</td>\n",
       "      <td>NaN</td>\n",
       "      <td>NaN</td>\n",
       "      <td>NaN</td>\n",
       "      <td>NaN</td>\n",
       "      <td>NaN</td>\n",
       "      <td>NaN</td>\n",
       "      <td>NaN</td>\n",
       "      <td>NaN</td>\n",
       "      <td>NaN</td>\n",
       "    </tr>\n",
       "    <tr>\n",
       "      <th>2</th>\n",
       "      <td>Bird Cay and Cat Cay</td>\n",
       "      <td>267.0</td>\n",
       "      <td>50.0</td>\n",
       "      <td>The Berry Islands, Bahamas, Caribbean</td>\n",
       "      <td>Islands with Beaches,Large Acreage,Ocean Island</td>\n",
       "      <td>2022-10-16</td>\n",
       "      <td>Caribbean</td>\n",
       "      <td>NaN</td>\n",
       "      <td>NaN</td>\n",
       "      <td>NaN</td>\n",
       "      <td>NaN</td>\n",
       "      <td>NaN</td>\n",
       "      <td>NaN</td>\n",
       "      <td>NaN</td>\n",
       "      <td>NaN</td>\n",
       "      <td>NaN</td>\n",
       "      <td>NaN</td>\n",
       "      <td>NaN</td>\n",
       "      <td>NaN</td>\n",
       "      <td>NaN</td>\n",
       "    </tr>\n",
       "    <tr>\n",
       "      <th>3</th>\n",
       "      <td>Royal Island</td>\n",
       "      <td>430.0</td>\n",
       "      <td>50.0</td>\n",
       "      <td>Eleuthera, Bahamas, Caribbean</td>\n",
       "      <td>Islands with Beaches,Large Acreage,Ocean Islan...</td>\n",
       "      <td>2022-10-16</td>\n",
       "      <td>Caribbean</td>\n",
       "      <td>NaN</td>\n",
       "      <td>NaN</td>\n",
       "      <td>NaN</td>\n",
       "      <td>NaN</td>\n",
       "      <td>NaN</td>\n",
       "      <td>NaN</td>\n",
       "      <td>NaN</td>\n",
       "      <td>NaN</td>\n",
       "      <td>NaN</td>\n",
       "      <td>NaN</td>\n",
       "      <td>NaN</td>\n",
       "      <td>NaN</td>\n",
       "      <td>NaN</td>\n",
       "    </tr>\n",
       "    <tr>\n",
       "      <th>4</th>\n",
       "      <td>Darby Island</td>\n",
       "      <td>554.0</td>\n",
       "      <td>46.0</td>\n",
       "      <td>The Exumas, Bahamas, Caribbean</td>\n",
       "      <td>Islands with Beaches,Airstrip or Fly-in,Large ...</td>\n",
       "      <td>2022-10-16</td>\n",
       "      <td>Caribbean</td>\n",
       "      <td>NaN</td>\n",
       "      <td>NaN</td>\n",
       "      <td>NaN</td>\n",
       "      <td>NaN</td>\n",
       "      <td>NaN</td>\n",
       "      <td>NaN</td>\n",
       "      <td>NaN</td>\n",
       "      <td>NaN</td>\n",
       "      <td>NaN</td>\n",
       "      <td>NaN</td>\n",
       "      <td>NaN</td>\n",
       "      <td>NaN</td>\n",
       "      <td>NaN</td>\n",
       "    </tr>\n",
       "  </tbody>\n",
       "</table>\n",
       "</div>"
      ],
      "text/plain": [
       "                   name acreage  price                                 region  \\\n",
       "0        Rangyai Island   110.0  160.0                         Thailand, Asia   \n",
       "1           Pumpkin Key    26.0   95.0                 Florida, United States   \n",
       "2  Bird Cay and Cat Cay   267.0   50.0  The Berry Islands, Bahamas, Caribbean   \n",
       "3          Royal Island   430.0   50.0          Eleuthera, Bahamas, Caribbean   \n",
       "4          Darby Island   554.0   46.0         The Exumas, Bahamas, Caribbean   \n",
       "\n",
       "                                                tags scrape_date  \\\n",
       "0  Islands with Beaches,Large Acreage,Ocean Islan...  2022-10-16   \n",
       "1  Large Acreage,Ocean Island,Turn Key,Income Pot...  2022-10-16   \n",
       "2    Islands with Beaches,Large Acreage,Ocean Island  2022-10-16   \n",
       "3  Islands with Beaches,Large Acreage,Ocean Islan...  2022-10-16   \n",
       "4  Islands with Beaches,Airstrip or Fly-in,Large ...  2022-10-16   \n",
       "\n",
       "       continent  Islands with Beaches  Large Acreage  Ocean Island  \\\n",
       "0           Asia                   NaN            NaN           NaN   \n",
       "1  United States                   NaN            NaN           NaN   \n",
       "2      Caribbean                   NaN            NaN           NaN   \n",
       "3      Caribbean                   NaN            NaN           NaN   \n",
       "4      Caribbean                   NaN            NaN           NaN   \n",
       "\n",
       "   Income Potential  Turn Key  Airstrip or Fly-in  Historic  Mainland Power  \\\n",
       "0               NaN       NaN                 NaN       NaN             NaN   \n",
       "1               NaN       NaN                 NaN       NaN             NaN   \n",
       "2               NaN       NaN                 NaN       NaN             NaN   \n",
       "3               NaN       NaN                 NaN       NaN             NaN   \n",
       "4               NaN       NaN                 NaN       NaN             NaN   \n",
       "\n",
       "   Income Producing  River Island  Mainland Lot  Lake Island  Seasonal  \n",
       "0               NaN           NaN           NaN          NaN       NaN  \n",
       "1               NaN           NaN           NaN          NaN       NaN  \n",
       "2               NaN           NaN           NaN          NaN       NaN  \n",
       "3               NaN           NaN           NaN          NaN       NaN  \n",
       "4               NaN           NaN           NaN          NaN       NaN  "
      ]
     },
     "execution_count": 162,
     "metadata": {},
     "output_type": "execute_result"
    }
   ],
   "source": [
    "df_with_pricess.head()"
   ]
  },
  {
   "cell_type": "code",
   "execution_count": 163,
   "id": "40c98550",
   "metadata": {},
   "outputs": [],
   "source": [
    "flag = 0\n",
    "for i in facilities:\n",
    "    if type(i) == list:\n",
    "        for j in i:\n",
    "            df_with_pricess.loc[flag, j] = True\n",
    "        flag += 1\n",
    "    else:\n",
    "        continue"
   ]
  },
  {
   "cell_type": "code",
   "execution_count": 164,
   "id": "11b4f4d8",
   "metadata": {},
   "outputs": [],
   "source": [
    "df_with_pricess[unique_facilities] = df_with_pricess[unique_facilities].fillna(False,axis = 1)"
   ]
  },
  {
   "cell_type": "code",
   "execution_count": 165,
   "id": "4d7d5fa8",
   "metadata": {},
   "outputs": [
    {
     "data": {
      "text/html": [
       "<div>\n",
       "<style scoped>\n",
       "    .dataframe tbody tr th:only-of-type {\n",
       "        vertical-align: middle;\n",
       "    }\n",
       "\n",
       "    .dataframe tbody tr th {\n",
       "        vertical-align: top;\n",
       "    }\n",
       "\n",
       "    .dataframe thead th {\n",
       "        text-align: right;\n",
       "    }\n",
       "</style>\n",
       "<table border=\"1\" class=\"dataframe\">\n",
       "  <thead>\n",
       "    <tr style=\"text-align: right;\">\n",
       "      <th></th>\n",
       "      <th>name</th>\n",
       "      <th>acreage</th>\n",
       "      <th>price</th>\n",
       "      <th>region</th>\n",
       "      <th>tags</th>\n",
       "      <th>scrape_date</th>\n",
       "      <th>continent</th>\n",
       "      <th>Islands with Beaches</th>\n",
       "      <th>Large Acreage</th>\n",
       "      <th>Ocean Island</th>\n",
       "      <th>Income Potential</th>\n",
       "      <th>Turn Key</th>\n",
       "      <th>Airstrip or Fly-in</th>\n",
       "      <th>Historic</th>\n",
       "      <th>Mainland Power</th>\n",
       "      <th>Income Producing</th>\n",
       "      <th>River Island</th>\n",
       "      <th>Mainland Lot</th>\n",
       "      <th>Lake Island</th>\n",
       "      <th>Seasonal</th>\n",
       "    </tr>\n",
       "  </thead>\n",
       "  <tbody>\n",
       "    <tr>\n",
       "      <th>0</th>\n",
       "      <td>Rangyai Island</td>\n",
       "      <td>110.0</td>\n",
       "      <td>160.0</td>\n",
       "      <td>Thailand, Asia</td>\n",
       "      <td>Islands with Beaches,Large Acreage,Ocean Islan...</td>\n",
       "      <td>2022-10-16</td>\n",
       "      <td>Asia</td>\n",
       "      <td>True</td>\n",
       "      <td>True</td>\n",
       "      <td>True</td>\n",
       "      <td>True</td>\n",
       "      <td>False</td>\n",
       "      <td>False</td>\n",
       "      <td>False</td>\n",
       "      <td>False</td>\n",
       "      <td>False</td>\n",
       "      <td>False</td>\n",
       "      <td>False</td>\n",
       "      <td>False</td>\n",
       "      <td>False</td>\n",
       "    </tr>\n",
       "    <tr>\n",
       "      <th>1</th>\n",
       "      <td>Pumpkin Key</td>\n",
       "      <td>26.0</td>\n",
       "      <td>95.0</td>\n",
       "      <td>Florida, United States</td>\n",
       "      <td>Large Acreage,Ocean Island,Turn Key,Income Pot...</td>\n",
       "      <td>2022-10-16</td>\n",
       "      <td>United States</td>\n",
       "      <td>False</td>\n",
       "      <td>True</td>\n",
       "      <td>True</td>\n",
       "      <td>True</td>\n",
       "      <td>True</td>\n",
       "      <td>False</td>\n",
       "      <td>False</td>\n",
       "      <td>False</td>\n",
       "      <td>False</td>\n",
       "      <td>False</td>\n",
       "      <td>False</td>\n",
       "      <td>False</td>\n",
       "      <td>False</td>\n",
       "    </tr>\n",
       "    <tr>\n",
       "      <th>2</th>\n",
       "      <td>Bird Cay and Cat Cay</td>\n",
       "      <td>267.0</td>\n",
       "      <td>50.0</td>\n",
       "      <td>The Berry Islands, Bahamas, Caribbean</td>\n",
       "      <td>Islands with Beaches,Large Acreage,Ocean Island</td>\n",
       "      <td>2022-10-16</td>\n",
       "      <td>Caribbean</td>\n",
       "      <td>True</td>\n",
       "      <td>True</td>\n",
       "      <td>True</td>\n",
       "      <td>False</td>\n",
       "      <td>False</td>\n",
       "      <td>False</td>\n",
       "      <td>False</td>\n",
       "      <td>False</td>\n",
       "      <td>False</td>\n",
       "      <td>False</td>\n",
       "      <td>False</td>\n",
       "      <td>False</td>\n",
       "      <td>False</td>\n",
       "    </tr>\n",
       "    <tr>\n",
       "      <th>3</th>\n",
       "      <td>Royal Island</td>\n",
       "      <td>430.0</td>\n",
       "      <td>50.0</td>\n",
       "      <td>Eleuthera, Bahamas, Caribbean</td>\n",
       "      <td>Islands with Beaches,Large Acreage,Ocean Islan...</td>\n",
       "      <td>2022-10-16</td>\n",
       "      <td>Caribbean</td>\n",
       "      <td>True</td>\n",
       "      <td>True</td>\n",
       "      <td>True</td>\n",
       "      <td>True</td>\n",
       "      <td>True</td>\n",
       "      <td>False</td>\n",
       "      <td>False</td>\n",
       "      <td>False</td>\n",
       "      <td>False</td>\n",
       "      <td>False</td>\n",
       "      <td>False</td>\n",
       "      <td>False</td>\n",
       "      <td>False</td>\n",
       "    </tr>\n",
       "    <tr>\n",
       "      <th>4</th>\n",
       "      <td>Darby Island</td>\n",
       "      <td>554.0</td>\n",
       "      <td>46.0</td>\n",
       "      <td>The Exumas, Bahamas, Caribbean</td>\n",
       "      <td>Islands with Beaches,Airstrip or Fly-in,Large ...</td>\n",
       "      <td>2022-10-16</td>\n",
       "      <td>Caribbean</td>\n",
       "      <td>True</td>\n",
       "      <td>True</td>\n",
       "      <td>True</td>\n",
       "      <td>True</td>\n",
       "      <td>True</td>\n",
       "      <td>True</td>\n",
       "      <td>True</td>\n",
       "      <td>False</td>\n",
       "      <td>False</td>\n",
       "      <td>False</td>\n",
       "      <td>False</td>\n",
       "      <td>False</td>\n",
       "      <td>False</td>\n",
       "    </tr>\n",
       "  </tbody>\n",
       "</table>\n",
       "</div>"
      ],
      "text/plain": [
       "                   name acreage  price                                 region  \\\n",
       "0        Rangyai Island   110.0  160.0                         Thailand, Asia   \n",
       "1           Pumpkin Key    26.0   95.0                 Florida, United States   \n",
       "2  Bird Cay and Cat Cay   267.0   50.0  The Berry Islands, Bahamas, Caribbean   \n",
       "3          Royal Island   430.0   50.0          Eleuthera, Bahamas, Caribbean   \n",
       "4          Darby Island   554.0   46.0         The Exumas, Bahamas, Caribbean   \n",
       "\n",
       "                                                tags scrape_date  \\\n",
       "0  Islands with Beaches,Large Acreage,Ocean Islan...  2022-10-16   \n",
       "1  Large Acreage,Ocean Island,Turn Key,Income Pot...  2022-10-16   \n",
       "2    Islands with Beaches,Large Acreage,Ocean Island  2022-10-16   \n",
       "3  Islands with Beaches,Large Acreage,Ocean Islan...  2022-10-16   \n",
       "4  Islands with Beaches,Airstrip or Fly-in,Large ...  2022-10-16   \n",
       "\n",
       "       continent  Islands with Beaches  Large Acreage  Ocean Island  \\\n",
       "0           Asia                  True           True          True   \n",
       "1  United States                 False           True          True   \n",
       "2      Caribbean                  True           True          True   \n",
       "3      Caribbean                  True           True          True   \n",
       "4      Caribbean                  True           True          True   \n",
       "\n",
       "   Income Potential  Turn Key  Airstrip or Fly-in  Historic  Mainland Power  \\\n",
       "0              True     False               False     False           False   \n",
       "1              True      True               False     False           False   \n",
       "2             False     False               False     False           False   \n",
       "3              True      True               False     False           False   \n",
       "4              True      True                True      True           False   \n",
       "\n",
       "   Income Producing  River Island  Mainland Lot  Lake Island  Seasonal  \n",
       "0             False         False         False        False     False  \n",
       "1             False         False         False        False     False  \n",
       "2             False         False         False        False     False  \n",
       "3             False         False         False        False     False  \n",
       "4             False         False         False        False     False  "
      ]
     },
     "execution_count": 165,
     "metadata": {},
     "output_type": "execute_result"
    }
   ],
   "source": [
    "df_with_pricess.head()"
   ]
  },
  {
   "cell_type": "code",
   "execution_count": 166,
   "id": "1662befe",
   "metadata": {},
   "outputs": [],
   "source": [
    "from sklearn.metrics import r2_score"
   ]
  },
  {
   "cell_type": "code",
   "execution_count": 167,
   "id": "5627f3f5",
   "metadata": {},
   "outputs": [],
   "source": [
    "from sklearn.tree import DecisionTreeRegressor\n",
    "from dmba import plotDecisionTree\n",
    "import pydotplus\n",
    "from sklearn.model_selection import train_test_split"
   ]
  },
  {
   "cell_type": "code",
   "execution_count": 168,
   "id": "a5087285",
   "metadata": {},
   "outputs": [],
   "source": [
    "X2 = df_with_pricess.drop(['name','price', 'tags', 'region','scrape_date', 'continent'], axis = 1)\n",
    "y2 = df_with_pricess['price']"
   ]
  },
  {
   "cell_type": "code",
   "execution_count": 169,
   "id": "b76a49f9",
   "metadata": {},
   "outputs": [],
   "source": [
    "x_train2,x_test2,y_train2,y_test2 = train_test_split(X2,y2,test_size = 0.2, random_state = 0)"
   ]
  },
  {
   "cell_type": "code",
   "execution_count": 170,
   "id": "ff198a8f",
   "metadata": {},
   "outputs": [
    {
     "data": {
      "text/html": [
       "<style>#sk-container-id-1 {color: black;background-color: white;}#sk-container-id-1 pre{padding: 0;}#sk-container-id-1 div.sk-toggleable {background-color: white;}#sk-container-id-1 label.sk-toggleable__label {cursor: pointer;display: block;width: 100%;margin-bottom: 0;padding: 0.3em;box-sizing: border-box;text-align: center;}#sk-container-id-1 label.sk-toggleable__label-arrow:before {content: \"▸\";float: left;margin-right: 0.25em;color: #696969;}#sk-container-id-1 label.sk-toggleable__label-arrow:hover:before {color: black;}#sk-container-id-1 div.sk-estimator:hover label.sk-toggleable__label-arrow:before {color: black;}#sk-container-id-1 div.sk-toggleable__content {max-height: 0;max-width: 0;overflow: hidden;text-align: left;background-color: #f0f8ff;}#sk-container-id-1 div.sk-toggleable__content pre {margin: 0.2em;color: black;border-radius: 0.25em;background-color: #f0f8ff;}#sk-container-id-1 input.sk-toggleable__control:checked~div.sk-toggleable__content {max-height: 200px;max-width: 100%;overflow: auto;}#sk-container-id-1 input.sk-toggleable__control:checked~label.sk-toggleable__label-arrow:before {content: \"▾\";}#sk-container-id-1 div.sk-estimator input.sk-toggleable__control:checked~label.sk-toggleable__label {background-color: #d4ebff;}#sk-container-id-1 div.sk-label input.sk-toggleable__control:checked~label.sk-toggleable__label {background-color: #d4ebff;}#sk-container-id-1 input.sk-hidden--visually {border: 0;clip: rect(1px 1px 1px 1px);clip: rect(1px, 1px, 1px, 1px);height: 1px;margin: -1px;overflow: hidden;padding: 0;position: absolute;width: 1px;}#sk-container-id-1 div.sk-estimator {font-family: monospace;background-color: #f0f8ff;border: 1px dotted black;border-radius: 0.25em;box-sizing: border-box;margin-bottom: 0.5em;}#sk-container-id-1 div.sk-estimator:hover {background-color: #d4ebff;}#sk-container-id-1 div.sk-parallel-item::after {content: \"\";width: 100%;border-bottom: 1px solid gray;flex-grow: 1;}#sk-container-id-1 div.sk-label:hover label.sk-toggleable__label {background-color: #d4ebff;}#sk-container-id-1 div.sk-serial::before {content: \"\";position: absolute;border-left: 1px solid gray;box-sizing: border-box;top: 0;bottom: 0;left: 50%;z-index: 0;}#sk-container-id-1 div.sk-serial {display: flex;flex-direction: column;align-items: center;background-color: white;padding-right: 0.2em;padding-left: 0.2em;position: relative;}#sk-container-id-1 div.sk-item {position: relative;z-index: 1;}#sk-container-id-1 div.sk-parallel {display: flex;align-items: stretch;justify-content: center;background-color: white;position: relative;}#sk-container-id-1 div.sk-item::before, #sk-container-id-1 div.sk-parallel-item::before {content: \"\";position: absolute;border-left: 1px solid gray;box-sizing: border-box;top: 0;bottom: 0;left: 50%;z-index: -1;}#sk-container-id-1 div.sk-parallel-item {display: flex;flex-direction: column;z-index: 1;position: relative;background-color: white;}#sk-container-id-1 div.sk-parallel-item:first-child::after {align-self: flex-end;width: 50%;}#sk-container-id-1 div.sk-parallel-item:last-child::after {align-self: flex-start;width: 50%;}#sk-container-id-1 div.sk-parallel-item:only-child::after {width: 0;}#sk-container-id-1 div.sk-dashed-wrapped {border: 1px dashed gray;margin: 0 0.4em 0.5em 0.4em;box-sizing: border-box;padding-bottom: 0.4em;background-color: white;}#sk-container-id-1 div.sk-label label {font-family: monospace;font-weight: bold;display: inline-block;line-height: 1.2em;}#sk-container-id-1 div.sk-label-container {text-align: center;}#sk-container-id-1 div.sk-container {/* jupyter's `normalize.less` sets `[hidden] { display: none; }` but bootstrap.min.css set `[hidden] { display: none !important; }` so we also need the `!important` here to be able to override the default hidden behavior on the sphinx rendered scikit-learn.org. See: https://github.com/scikit-learn/scikit-learn/issues/21755 */display: inline-block !important;position: relative;}#sk-container-id-1 div.sk-text-repr-fallback {display: none;}</style><div id=\"sk-container-id-1\" class=\"sk-top-container\"><div class=\"sk-text-repr-fallback\"><pre>DecisionTreeRegressor()</pre><b>In a Jupyter environment, please rerun this cell to show the HTML representation or trust the notebook. <br />On GitHub, the HTML representation is unable to render, please try loading this page with nbviewer.org.</b></div><div class=\"sk-container\" hidden><div class=\"sk-item\"><div class=\"sk-estimator sk-toggleable\"><input class=\"sk-toggleable__control sk-hidden--visually\" id=\"sk-estimator-id-1\" type=\"checkbox\" checked><label for=\"sk-estimator-id-1\" class=\"sk-toggleable__label sk-toggleable__label-arrow\">DecisionTreeRegressor</label><div class=\"sk-toggleable__content\"><pre>DecisionTreeRegressor()</pre></div></div></div></div></div>"
      ],
      "text/plain": [
       "DecisionTreeRegressor()"
      ]
     },
     "execution_count": 170,
     "metadata": {},
     "output_type": "execute_result"
    }
   ],
   "source": [
    "model2 = DecisionTreeRegressor()\n",
    "\n",
    "model2.fit(x_train2,y_train2)"
   ]
  },
  {
   "cell_type": "code",
   "execution_count": 172,
   "id": "7442cc0f",
   "metadata": {},
   "outputs": [],
   "source": [
    "y_predict_tree = model2.predict(x_train2)"
   ]
  },
  {
   "cell_type": "code",
   "execution_count": 174,
   "id": "4d6e990b",
   "metadata": {},
   "outputs": [
    {
     "data": {
      "text/plain": [
       "0.9983914749859888"
      ]
     },
     "execution_count": 174,
     "metadata": {},
     "output_type": "execute_result"
    }
   ],
   "source": [
    "r2_score(y_train2,y_predict_tree)"
   ]
  },
  {
   "cell_type": "code",
   "execution_count": 175,
   "id": "ce6880db",
   "metadata": {},
   "outputs": [
    {
     "data": {
      "text/plain": [
       "name                    0\n",
       "acreage                 0\n",
       "price                   0\n",
       "region                  0\n",
       "tags                    0\n",
       "scrape_date             0\n",
       "continent               0\n",
       "Islands with Beaches    0\n",
       "Large Acreage           0\n",
       "Ocean Island            0\n",
       "Income Potential        0\n",
       "Turn Key                0\n",
       "Airstrip or Fly-in      0\n",
       "Historic                0\n",
       "Mainland Power          0\n",
       "Income Producing        0\n",
       "River Island            0\n",
       "Mainland Lot            0\n",
       "Lake Island             0\n",
       "Seasonal                0\n",
       "dtype: int64"
      ]
     },
     "execution_count": 175,
     "metadata": {},
     "output_type": "execute_result"
    }
   ],
   "source": [
    "df_with_pricess.isnull().sum()"
   ]
  },
  {
   "cell_type": "markdown",
   "id": "ef5e0440",
   "metadata": {},
   "source": [
    "## Moving to predicting NaN price values from our initial Dataset"
   ]
  },
  {
   "cell_type": "code",
   "execution_count": 176,
   "id": "1dd82091",
   "metadata": {},
   "outputs": [],
   "source": [
    "pred_df = df[(df['price'].str.isdigit() != True) | (df['price'].isnull())]"
   ]
  },
  {
   "cell_type": "code",
   "execution_count": 177,
   "id": "c1b485b1",
   "metadata": {},
   "outputs": [
    {
     "name": "stderr",
     "output_type": "stream",
     "text": [
      "C:\\Users\\1\\AppData\\Local\\Temp\\ipykernel_11528\\553622573.py:2: SettingWithCopyWarning:\n",
      "\n",
      "\n",
      "A value is trying to be set on a copy of a slice from a DataFrame.\n",
      "Try using .loc[row_indexer,col_indexer] = value instead\n",
      "\n",
      "See the caveats in the documentation: https://pandas.pydata.org/pandas-docs/stable/user_guide/indexing.html#returning-a-view-versus-a-copy\n",
      "\n",
      "C:\\Users\\1\\AppData\\Local\\Temp\\ipykernel_11528\\553622573.py:2: SettingWithCopyWarning:\n",
      "\n",
      "\n",
      "A value is trying to be set on a copy of a slice from a DataFrame.\n",
      "Try using .loc[row_indexer,col_indexer] = value instead\n",
      "\n",
      "See the caveats in the documentation: https://pandas.pydata.org/pandas-docs/stable/user_guide/indexing.html#returning-a-view-versus-a-copy\n",
      "\n",
      "C:\\Users\\1\\AppData\\Local\\Temp\\ipykernel_11528\\553622573.py:2: SettingWithCopyWarning:\n",
      "\n",
      "\n",
      "A value is trying to be set on a copy of a slice from a DataFrame.\n",
      "Try using .loc[row_indexer,col_indexer] = value instead\n",
      "\n",
      "See the caveats in the documentation: https://pandas.pydata.org/pandas-docs/stable/user_guide/indexing.html#returning-a-view-versus-a-copy\n",
      "\n",
      "C:\\Users\\1\\AppData\\Local\\Temp\\ipykernel_11528\\553622573.py:2: SettingWithCopyWarning:\n",
      "\n",
      "\n",
      "A value is trying to be set on a copy of a slice from a DataFrame.\n",
      "Try using .loc[row_indexer,col_indexer] = value instead\n",
      "\n",
      "See the caveats in the documentation: https://pandas.pydata.org/pandas-docs/stable/user_guide/indexing.html#returning-a-view-versus-a-copy\n",
      "\n",
      "C:\\Users\\1\\AppData\\Local\\Temp\\ipykernel_11528\\553622573.py:2: SettingWithCopyWarning:\n",
      "\n",
      "\n",
      "A value is trying to be set on a copy of a slice from a DataFrame.\n",
      "Try using .loc[row_indexer,col_indexer] = value instead\n",
      "\n",
      "See the caveats in the documentation: https://pandas.pydata.org/pandas-docs/stable/user_guide/indexing.html#returning-a-view-versus-a-copy\n",
      "\n",
      "C:\\Users\\1\\AppData\\Local\\Temp\\ipykernel_11528\\553622573.py:2: SettingWithCopyWarning:\n",
      "\n",
      "\n",
      "A value is trying to be set on a copy of a slice from a DataFrame.\n",
      "Try using .loc[row_indexer,col_indexer] = value instead\n",
      "\n",
      "See the caveats in the documentation: https://pandas.pydata.org/pandas-docs/stable/user_guide/indexing.html#returning-a-view-versus-a-copy\n",
      "\n",
      "C:\\Users\\1\\AppData\\Local\\Temp\\ipykernel_11528\\553622573.py:2: SettingWithCopyWarning:\n",
      "\n",
      "\n",
      "A value is trying to be set on a copy of a slice from a DataFrame.\n",
      "Try using .loc[row_indexer,col_indexer] = value instead\n",
      "\n",
      "See the caveats in the documentation: https://pandas.pydata.org/pandas-docs/stable/user_guide/indexing.html#returning-a-view-versus-a-copy\n",
      "\n",
      "C:\\Users\\1\\AppData\\Local\\Temp\\ipykernel_11528\\553622573.py:2: SettingWithCopyWarning:\n",
      "\n",
      "\n",
      "A value is trying to be set on a copy of a slice from a DataFrame.\n",
      "Try using .loc[row_indexer,col_indexer] = value instead\n",
      "\n",
      "See the caveats in the documentation: https://pandas.pydata.org/pandas-docs/stable/user_guide/indexing.html#returning-a-view-versus-a-copy\n",
      "\n",
      "C:\\Users\\1\\AppData\\Local\\Temp\\ipykernel_11528\\553622573.py:2: SettingWithCopyWarning:\n",
      "\n",
      "\n",
      "A value is trying to be set on a copy of a slice from a DataFrame.\n",
      "Try using .loc[row_indexer,col_indexer] = value instead\n",
      "\n",
      "See the caveats in the documentation: https://pandas.pydata.org/pandas-docs/stable/user_guide/indexing.html#returning-a-view-versus-a-copy\n",
      "\n",
      "C:\\Users\\1\\AppData\\Local\\Temp\\ipykernel_11528\\553622573.py:2: SettingWithCopyWarning:\n",
      "\n",
      "\n",
      "A value is trying to be set on a copy of a slice from a DataFrame.\n",
      "Try using .loc[row_indexer,col_indexer] = value instead\n",
      "\n",
      "See the caveats in the documentation: https://pandas.pydata.org/pandas-docs/stable/user_guide/indexing.html#returning-a-view-versus-a-copy\n",
      "\n",
      "C:\\Users\\1\\AppData\\Local\\Temp\\ipykernel_11528\\553622573.py:2: SettingWithCopyWarning:\n",
      "\n",
      "\n",
      "A value is trying to be set on a copy of a slice from a DataFrame.\n",
      "Try using .loc[row_indexer,col_indexer] = value instead\n",
      "\n",
      "See the caveats in the documentation: https://pandas.pydata.org/pandas-docs/stable/user_guide/indexing.html#returning-a-view-versus-a-copy\n",
      "\n",
      "C:\\Users\\1\\AppData\\Local\\Temp\\ipykernel_11528\\553622573.py:2: SettingWithCopyWarning:\n",
      "\n",
      "\n",
      "A value is trying to be set on a copy of a slice from a DataFrame.\n",
      "Try using .loc[row_indexer,col_indexer] = value instead\n",
      "\n",
      "See the caveats in the documentation: https://pandas.pydata.org/pandas-docs/stable/user_guide/indexing.html#returning-a-view-versus-a-copy\n",
      "\n",
      "C:\\Users\\1\\AppData\\Local\\Temp\\ipykernel_11528\\553622573.py:2: SettingWithCopyWarning:\n",
      "\n",
      "\n",
      "A value is trying to be set on a copy of a slice from a DataFrame.\n",
      "Try using .loc[row_indexer,col_indexer] = value instead\n",
      "\n",
      "See the caveats in the documentation: https://pandas.pydata.org/pandas-docs/stable/user_guide/indexing.html#returning-a-view-versus-a-copy\n",
      "\n"
     ]
    }
   ],
   "source": [
    "for i in unique_facilities:\n",
    "    pred_df[i] = np.nan"
   ]
  },
  {
   "cell_type": "code",
   "execution_count": 178,
   "id": "0b8d209d",
   "metadata": {},
   "outputs": [],
   "source": [
    "facilities_of_pred = list(pred_df['tags'].str.split(','))"
   ]
  },
  {
   "cell_type": "code",
   "execution_count": 179,
   "id": "e90301a5",
   "metadata": {},
   "outputs": [
    {
     "name": "stderr",
     "output_type": "stream",
     "text": [
      "C:\\Users\\1\\AppData\\Local\\Temp\\ipykernel_11528\\227400092.py:2: SettingWithCopyWarning:\n",
      "\n",
      "\n",
      "A value is trying to be set on a copy of a slice from a DataFrame\n",
      "\n",
      "See the caveats in the documentation: https://pandas.pydata.org/pandas-docs/stable/user_guide/indexing.html#returning-a-view-versus-a-copy\n",
      "\n"
     ]
    },
    {
     "data": {
      "text/html": [
       "<div>\n",
       "<style scoped>\n",
       "    .dataframe tbody tr th:only-of-type {\n",
       "        vertical-align: middle;\n",
       "    }\n",
       "\n",
       "    .dataframe tbody tr th {\n",
       "        vertical-align: top;\n",
       "    }\n",
       "\n",
       "    .dataframe thead th {\n",
       "        text-align: right;\n",
       "    }\n",
       "</style>\n",
       "<table border=\"1\" class=\"dataframe\">\n",
       "  <thead>\n",
       "    <tr style=\"text-align: right;\">\n",
       "      <th></th>\n",
       "      <th>name</th>\n",
       "      <th>acreage</th>\n",
       "      <th>price</th>\n",
       "      <th>region</th>\n",
       "      <th>tags</th>\n",
       "      <th>scrape_date</th>\n",
       "      <th>continent</th>\n",
       "      <th>Islands with Beaches</th>\n",
       "      <th>Large Acreage</th>\n",
       "      <th>Ocean Island</th>\n",
       "      <th>Income Potential</th>\n",
       "      <th>Turn Key</th>\n",
       "      <th>Airstrip or Fly-in</th>\n",
       "      <th>Historic</th>\n",
       "      <th>Mainland Power</th>\n",
       "      <th>Income Producing</th>\n",
       "      <th>River Island</th>\n",
       "      <th>Mainland Lot</th>\n",
       "      <th>Lake Island</th>\n",
       "      <th>Seasonal</th>\n",
       "    </tr>\n",
       "  </thead>\n",
       "  <tbody>\n",
       "    <tr>\n",
       "      <th>0</th>\n",
       "      <td>Blackbook Listing(2943)</td>\n",
       "      <td>180.0</td>\n",
       "      <td>Price Upon Request</td>\n",
       "      <td>Seychelles, Africa</td>\n",
       "      <td>Islands with Beaches,Large Acreage,Ocean Island</td>\n",
       "      <td>2022-10-16</td>\n",
       "      <td>Africa</td>\n",
       "      <td>NaN</td>\n",
       "      <td>NaN</td>\n",
       "      <td>NaN</td>\n",
       "      <td>NaN</td>\n",
       "      <td>NaN</td>\n",
       "      <td>NaN</td>\n",
       "      <td>NaN</td>\n",
       "      <td>NaN</td>\n",
       "      <td>NaN</td>\n",
       "      <td>NaN</td>\n",
       "      <td>NaN</td>\n",
       "      <td>NaN</td>\n",
       "      <td>NaN</td>\n",
       "    </tr>\n",
       "    <tr>\n",
       "      <th>1</th>\n",
       "      <td>Blackbook Listing(2867)</td>\n",
       "      <td>150.0</td>\n",
       "      <td>Price Upon Request</td>\n",
       "      <td>Spain, Europe</td>\n",
       "      <td>Large Acreage,Ocean Island,Turn Key,Income Pot...</td>\n",
       "      <td>2022-10-16</td>\n",
       "      <td>Europe</td>\n",
       "      <td>NaN</td>\n",
       "      <td>NaN</td>\n",
       "      <td>NaN</td>\n",
       "      <td>NaN</td>\n",
       "      <td>NaN</td>\n",
       "      <td>NaN</td>\n",
       "      <td>NaN</td>\n",
       "      <td>NaN</td>\n",
       "      <td>NaN</td>\n",
       "      <td>NaN</td>\n",
       "      <td>NaN</td>\n",
       "      <td>NaN</td>\n",
       "      <td>NaN</td>\n",
       "    </tr>\n",
       "    <tr>\n",
       "      <th>2</th>\n",
       "      <td>Spectabilis Island</td>\n",
       "      <td>460.0</td>\n",
       "      <td>Sold</td>\n",
       "      <td>The Exumas, Bahamas, Caribbean</td>\n",
       "      <td>Islands with Beaches,Large Acreage,Ocean Islan...</td>\n",
       "      <td>2022-10-16</td>\n",
       "      <td>Caribbean</td>\n",
       "      <td>NaN</td>\n",
       "      <td>NaN</td>\n",
       "      <td>NaN</td>\n",
       "      <td>NaN</td>\n",
       "      <td>NaN</td>\n",
       "      <td>NaN</td>\n",
       "      <td>NaN</td>\n",
       "      <td>NaN</td>\n",
       "      <td>NaN</td>\n",
       "      <td>NaN</td>\n",
       "      <td>NaN</td>\n",
       "      <td>NaN</td>\n",
       "      <td>NaN</td>\n",
       "    </tr>\n",
       "    <tr>\n",
       "      <th>3</th>\n",
       "      <td>Ifuru Resort with Airport and Funadhoo Island</td>\n",
       "      <td>169.0</td>\n",
       "      <td>Price Upon Request</td>\n",
       "      <td>Maldives, Asia</td>\n",
       "      <td>Islands with Beaches,Airstrip or Fly-in,Large ...</td>\n",
       "      <td>2022-10-16</td>\n",
       "      <td>Asia</td>\n",
       "      <td>NaN</td>\n",
       "      <td>NaN</td>\n",
       "      <td>NaN</td>\n",
       "      <td>NaN</td>\n",
       "      <td>NaN</td>\n",
       "      <td>NaN</td>\n",
       "      <td>NaN</td>\n",
       "      <td>NaN</td>\n",
       "      <td>NaN</td>\n",
       "      <td>NaN</td>\n",
       "      <td>NaN</td>\n",
       "      <td>NaN</td>\n",
       "      <td>NaN</td>\n",
       "    </tr>\n",
       "    <tr>\n",
       "      <th>4</th>\n",
       "      <td>Cave Cay</td>\n",
       "      <td>220.0</td>\n",
       "      <td>Under Contract</td>\n",
       "      <td>The Exumas, Bahamas, Caribbean</td>\n",
       "      <td>Islands with Beaches,Large Acreage,Ocean Islan...</td>\n",
       "      <td>2022-10-16</td>\n",
       "      <td>Caribbean</td>\n",
       "      <td>NaN</td>\n",
       "      <td>NaN</td>\n",
       "      <td>NaN</td>\n",
       "      <td>NaN</td>\n",
       "      <td>NaN</td>\n",
       "      <td>NaN</td>\n",
       "      <td>NaN</td>\n",
       "      <td>NaN</td>\n",
       "      <td>NaN</td>\n",
       "      <td>NaN</td>\n",
       "      <td>NaN</td>\n",
       "      <td>NaN</td>\n",
       "      <td>NaN</td>\n",
       "    </tr>\n",
       "  </tbody>\n",
       "</table>\n",
       "</div>"
      ],
      "text/plain": [
       "                                            name acreage                price  \\\n",
       "0                        Blackbook Listing(2943)   180.0   Price Upon Request   \n",
       "1                        Blackbook Listing(2867)   150.0   Price Upon Request   \n",
       "2                             Spectabilis Island   460.0                 Sold   \n",
       "3  Ifuru Resort with Airport and Funadhoo Island   169.0   Price Upon Request   \n",
       "4                                       Cave Cay   220.0       Under Contract   \n",
       "\n",
       "                           region  \\\n",
       "0              Seychelles, Africa   \n",
       "1                   Spain, Europe   \n",
       "2  The Exumas, Bahamas, Caribbean   \n",
       "3                  Maldives, Asia   \n",
       "4  The Exumas, Bahamas, Caribbean   \n",
       "\n",
       "                                                tags scrape_date  continent  \\\n",
       "0    Islands with Beaches,Large Acreage,Ocean Island  2022-10-16     Africa   \n",
       "1  Large Acreage,Ocean Island,Turn Key,Income Pot...  2022-10-16     Europe   \n",
       "2  Islands with Beaches,Large Acreage,Ocean Islan...  2022-10-16  Caribbean   \n",
       "3  Islands with Beaches,Airstrip or Fly-in,Large ...  2022-10-16       Asia   \n",
       "4  Islands with Beaches,Large Acreage,Ocean Islan...  2022-10-16  Caribbean   \n",
       "\n",
       "   Islands with Beaches  Large Acreage  Ocean Island  Income Potential  \\\n",
       "0                   NaN            NaN           NaN               NaN   \n",
       "1                   NaN            NaN           NaN               NaN   \n",
       "2                   NaN            NaN           NaN               NaN   \n",
       "3                   NaN            NaN           NaN               NaN   \n",
       "4                   NaN            NaN           NaN               NaN   \n",
       "\n",
       "   Turn Key  Airstrip or Fly-in  Historic  Mainland Power  Income Producing  \\\n",
       "0       NaN                 NaN       NaN             NaN               NaN   \n",
       "1       NaN                 NaN       NaN             NaN               NaN   \n",
       "2       NaN                 NaN       NaN             NaN               NaN   \n",
       "3       NaN                 NaN       NaN             NaN               NaN   \n",
       "4       NaN                 NaN       NaN             NaN               NaN   \n",
       "\n",
       "   River Island  Mainland Lot  Lake Island  Seasonal  \n",
       "0           NaN           NaN          NaN       NaN  \n",
       "1           NaN           NaN          NaN       NaN  \n",
       "2           NaN           NaN          NaN       NaN  \n",
       "3           NaN           NaN          NaN       NaN  \n",
       "4           NaN           NaN          NaN       NaN  "
      ]
     },
     "execution_count": 179,
     "metadata": {},
     "output_type": "execute_result"
    }
   ],
   "source": [
    "pred_df.reset_index(inplace = True)\n",
    "pred_df.drop('index', axis = 1, inplace= True)\n",
    "pred_df.head()"
   ]
  },
  {
   "cell_type": "code",
   "execution_count": 180,
   "id": "e3b1e99f",
   "metadata": {},
   "outputs": [
    {
     "name": "stderr",
     "output_type": "stream",
     "text": [
      "C:\\Users\\1\\AppData\\Local\\Temp\\ipykernel_11528\\2825276775.py:5: SettingWithCopyWarning:\n",
      "\n",
      "\n",
      "A value is trying to be set on a copy of a slice from a DataFrame.\n",
      "Try using .loc[row_indexer,col_indexer] = value instead\n",
      "\n",
      "See the caveats in the documentation: https://pandas.pydata.org/pandas-docs/stable/user_guide/indexing.html#returning-a-view-versus-a-copy\n",
      "\n"
     ]
    }
   ],
   "source": [
    "flag = 0\n",
    "for i in facilities:\n",
    "    if type(i) == list:\n",
    "        for j in i:\n",
    "            pred_df.loc[flag, j] = True\n",
    "        flag += 1\n",
    "    else:\n",
    "        continue\n",
    "    \n",
    "        \n",
    "    "
   ]
  },
  {
   "cell_type": "code",
   "execution_count": 181,
   "id": "16f43907",
   "metadata": {},
   "outputs": [
    {
     "data": {
      "text/plain": [
       "name                      0\n",
       "acreage                   0\n",
       "price                     0\n",
       "region                    0\n",
       "tags                      0\n",
       "scrape_date               0\n",
       "continent                 0\n",
       "Islands with Beaches    202\n",
       "Large Acreage           234\n",
       "Ocean Island            152\n",
       "Income Potential        228\n",
       "Turn Key                250\n",
       "Airstrip or Fly-in      347\n",
       "Historic                343\n",
       "Mainland Power          338\n",
       "Income Producing        347\n",
       "River Island            338\n",
       "Mainland Lot            343\n",
       "Lake Island             300\n",
       "Seasonal                337\n",
       "dtype: int64"
      ]
     },
     "execution_count": 181,
     "metadata": {},
     "output_type": "execute_result"
    }
   ],
   "source": [
    "pred_df.isnull().sum()"
   ]
  },
  {
   "cell_type": "code",
   "execution_count": 182,
   "id": "45c68e6d",
   "metadata": {},
   "outputs": [
    {
     "name": "stderr",
     "output_type": "stream",
     "text": [
      "C:\\Users\\1\\AppData\\Local\\Temp\\ipykernel_11528\\3799376646.py:1: SettingWithCopyWarning:\n",
      "\n",
      "\n",
      "A value is trying to be set on a copy of a slice from a DataFrame.\n",
      "Try using .loc[row_indexer,col_indexer] = value instead\n",
      "\n",
      "See the caveats in the documentation: https://pandas.pydata.org/pandas-docs/stable/user_guide/indexing.html#returning-a-view-versus-a-copy\n",
      "\n"
     ]
    }
   ],
   "source": [
    "pred_df[unique_facilities] = pred_df[unique_facilities].fillna(False, axis = 1)"
   ]
  },
  {
   "cell_type": "code",
   "execution_count": 183,
   "id": "69f454a3",
   "metadata": {},
   "outputs": [
    {
     "data": {
      "text/plain": [
       "name                    0\n",
       "acreage                 0\n",
       "price                   0\n",
       "region                  0\n",
       "tags                    0\n",
       "scrape_date             0\n",
       "continent               0\n",
       "Islands with Beaches    0\n",
       "Large Acreage           0\n",
       "Ocean Island            0\n",
       "Income Potential        0\n",
       "Turn Key                0\n",
       "Airstrip or Fly-in      0\n",
       "Historic                0\n",
       "Mainland Power          0\n",
       "Income Producing        0\n",
       "River Island            0\n",
       "Mainland Lot            0\n",
       "Lake Island             0\n",
       "Seasonal                0\n",
       "dtype: int64"
      ]
     },
     "execution_count": 183,
     "metadata": {},
     "output_type": "execute_result"
    }
   ],
   "source": [
    "pred_df.isnull().sum()"
   ]
  },
  {
   "cell_type": "code",
   "execution_count": 184,
   "id": "addff64a",
   "metadata": {},
   "outputs": [],
   "source": [
    "final_x_arg = pred_df[['acreage']+unique_facilities]"
   ]
  },
  {
   "cell_type": "code",
   "execution_count": 185,
   "id": "26307852",
   "metadata": {},
   "outputs": [],
   "source": [
    "final_y_predict_price = model2.predict(final_x_arg)"
   ]
  },
  {
   "cell_type": "code",
   "execution_count": 186,
   "id": "4b0dae2a",
   "metadata": {},
   "outputs": [
    {
     "name": "stderr",
     "output_type": "stream",
     "text": [
      "C:\\Users\\1\\AppData\\Local\\Temp\\ipykernel_11528\\1503673993.py:1: SettingWithCopyWarning:\n",
      "\n",
      "\n",
      "A value is trying to be set on a copy of a slice from a DataFrame.\n",
      "Try using .loc[row_indexer,col_indexer] = value instead\n",
      "\n",
      "See the caveats in the documentation: https://pandas.pydata.org/pandas-docs/stable/user_guide/indexing.html#returning-a-view-versus-a-copy\n",
      "\n"
     ]
    }
   ],
   "source": [
    "pred_df['price'] = final_y_predict_price"
   ]
  },
  {
   "cell_type": "code",
   "execution_count": 187,
   "id": "7f711a27",
   "metadata": {},
   "outputs": [
    {
     "data": {
      "text/html": [
       "<div>\n",
       "<style scoped>\n",
       "    .dataframe tbody tr th:only-of-type {\n",
       "        vertical-align: middle;\n",
       "    }\n",
       "\n",
       "    .dataframe tbody tr th {\n",
       "        vertical-align: top;\n",
       "    }\n",
       "\n",
       "    .dataframe thead th {\n",
       "        text-align: right;\n",
       "    }\n",
       "</style>\n",
       "<table border=\"1\" class=\"dataframe\">\n",
       "  <thead>\n",
       "    <tr style=\"text-align: right;\">\n",
       "      <th></th>\n",
       "      <th>name</th>\n",
       "      <th>acreage</th>\n",
       "      <th>price</th>\n",
       "      <th>region</th>\n",
       "      <th>tags</th>\n",
       "      <th>scrape_date</th>\n",
       "      <th>continent</th>\n",
       "      <th>Islands with Beaches</th>\n",
       "      <th>Large Acreage</th>\n",
       "      <th>Ocean Island</th>\n",
       "      <th>Income Potential</th>\n",
       "      <th>Turn Key</th>\n",
       "      <th>Airstrip or Fly-in</th>\n",
       "      <th>Historic</th>\n",
       "      <th>Mainland Power</th>\n",
       "      <th>Income Producing</th>\n",
       "      <th>River Island</th>\n",
       "      <th>Mainland Lot</th>\n",
       "      <th>Lake Island</th>\n",
       "      <th>Seasonal</th>\n",
       "    </tr>\n",
       "  </thead>\n",
       "  <tbody>\n",
       "    <tr>\n",
       "      <th>0</th>\n",
       "      <td>Blackbook Listing(2943)</td>\n",
       "      <td>180.0</td>\n",
       "      <td>1.2</td>\n",
       "      <td>Seychelles, Africa</td>\n",
       "      <td>Islands with Beaches,Large Acreage,Ocean Island</td>\n",
       "      <td>2022-10-16</td>\n",
       "      <td>Africa</td>\n",
       "      <td>True</td>\n",
       "      <td>True</td>\n",
       "      <td>True</td>\n",
       "      <td>True</td>\n",
       "      <td>False</td>\n",
       "      <td>False</td>\n",
       "      <td>False</td>\n",
       "      <td>False</td>\n",
       "      <td>False</td>\n",
       "      <td>False</td>\n",
       "      <td>False</td>\n",
       "      <td>False</td>\n",
       "      <td>False</td>\n",
       "    </tr>\n",
       "    <tr>\n",
       "      <th>1</th>\n",
       "      <td>Blackbook Listing(2867)</td>\n",
       "      <td>150.0</td>\n",
       "      <td>35.0</td>\n",
       "      <td>Spain, Europe</td>\n",
       "      <td>Large Acreage,Ocean Island,Turn Key,Income Pot...</td>\n",
       "      <td>2022-10-16</td>\n",
       "      <td>Europe</td>\n",
       "      <td>False</td>\n",
       "      <td>True</td>\n",
       "      <td>True</td>\n",
       "      <td>True</td>\n",
       "      <td>True</td>\n",
       "      <td>False</td>\n",
       "      <td>False</td>\n",
       "      <td>False</td>\n",
       "      <td>False</td>\n",
       "      <td>False</td>\n",
       "      <td>False</td>\n",
       "      <td>False</td>\n",
       "      <td>False</td>\n",
       "    </tr>\n",
       "    <tr>\n",
       "      <th>2</th>\n",
       "      <td>Spectabilis Island</td>\n",
       "      <td>460.0</td>\n",
       "      <td>10.9</td>\n",
       "      <td>The Exumas, Bahamas, Caribbean</td>\n",
       "      <td>Islands with Beaches,Large Acreage,Ocean Islan...</td>\n",
       "      <td>2022-10-16</td>\n",
       "      <td>Caribbean</td>\n",
       "      <td>True</td>\n",
       "      <td>True</td>\n",
       "      <td>True</td>\n",
       "      <td>False</td>\n",
       "      <td>False</td>\n",
       "      <td>False</td>\n",
       "      <td>False</td>\n",
       "      <td>False</td>\n",
       "      <td>False</td>\n",
       "      <td>False</td>\n",
       "      <td>False</td>\n",
       "      <td>False</td>\n",
       "      <td>False</td>\n",
       "    </tr>\n",
       "    <tr>\n",
       "      <th>3</th>\n",
       "      <td>Ifuru Resort with Airport and Funadhoo Island</td>\n",
       "      <td>169.0</td>\n",
       "      <td>35.0</td>\n",
       "      <td>Maldives, Asia</td>\n",
       "      <td>Islands with Beaches,Airstrip or Fly-in,Large ...</td>\n",
       "      <td>2022-10-16</td>\n",
       "      <td>Asia</td>\n",
       "      <td>True</td>\n",
       "      <td>True</td>\n",
       "      <td>True</td>\n",
       "      <td>True</td>\n",
       "      <td>True</td>\n",
       "      <td>False</td>\n",
       "      <td>False</td>\n",
       "      <td>False</td>\n",
       "      <td>False</td>\n",
       "      <td>False</td>\n",
       "      <td>False</td>\n",
       "      <td>False</td>\n",
       "      <td>False</td>\n",
       "    </tr>\n",
       "    <tr>\n",
       "      <th>4</th>\n",
       "      <td>Cave Cay</td>\n",
       "      <td>220.0</td>\n",
       "      <td>7.5</td>\n",
       "      <td>The Exumas, Bahamas, Caribbean</td>\n",
       "      <td>Islands with Beaches,Large Acreage,Ocean Islan...</td>\n",
       "      <td>2022-10-16</td>\n",
       "      <td>Caribbean</td>\n",
       "      <td>True</td>\n",
       "      <td>True</td>\n",
       "      <td>True</td>\n",
       "      <td>True</td>\n",
       "      <td>True</td>\n",
       "      <td>True</td>\n",
       "      <td>True</td>\n",
       "      <td>False</td>\n",
       "      <td>False</td>\n",
       "      <td>False</td>\n",
       "      <td>False</td>\n",
       "      <td>False</td>\n",
       "      <td>False</td>\n",
       "    </tr>\n",
       "  </tbody>\n",
       "</table>\n",
       "</div>"
      ],
      "text/plain": [
       "                                            name acreage  price  \\\n",
       "0                        Blackbook Listing(2943)   180.0    1.2   \n",
       "1                        Blackbook Listing(2867)   150.0   35.0   \n",
       "2                             Spectabilis Island   460.0   10.9   \n",
       "3  Ifuru Resort with Airport and Funadhoo Island   169.0   35.0   \n",
       "4                                       Cave Cay   220.0    7.5   \n",
       "\n",
       "                           region  \\\n",
       "0              Seychelles, Africa   \n",
       "1                   Spain, Europe   \n",
       "2  The Exumas, Bahamas, Caribbean   \n",
       "3                  Maldives, Asia   \n",
       "4  The Exumas, Bahamas, Caribbean   \n",
       "\n",
       "                                                tags scrape_date  continent  \\\n",
       "0    Islands with Beaches,Large Acreage,Ocean Island  2022-10-16     Africa   \n",
       "1  Large Acreage,Ocean Island,Turn Key,Income Pot...  2022-10-16     Europe   \n",
       "2  Islands with Beaches,Large Acreage,Ocean Islan...  2022-10-16  Caribbean   \n",
       "3  Islands with Beaches,Airstrip or Fly-in,Large ...  2022-10-16       Asia   \n",
       "4  Islands with Beaches,Large Acreage,Ocean Islan...  2022-10-16  Caribbean   \n",
       "\n",
       "   Islands with Beaches  Large Acreage  Ocean Island  Income Potential  \\\n",
       "0                  True           True          True              True   \n",
       "1                 False           True          True              True   \n",
       "2                  True           True          True             False   \n",
       "3                  True           True          True              True   \n",
       "4                  True           True          True              True   \n",
       "\n",
       "   Turn Key  Airstrip or Fly-in  Historic  Mainland Power  Income Producing  \\\n",
       "0     False               False     False           False             False   \n",
       "1      True               False     False           False             False   \n",
       "2     False               False     False           False             False   \n",
       "3      True               False     False           False             False   \n",
       "4      True                True      True           False             False   \n",
       "\n",
       "   River Island  Mainland Lot  Lake Island  Seasonal  \n",
       "0         False         False        False     False  \n",
       "1         False         False        False     False  \n",
       "2         False         False        False     False  \n",
       "3         False         False        False     False  \n",
       "4         False         False        False     False  "
      ]
     },
     "execution_count": 187,
     "metadata": {},
     "output_type": "execute_result"
    }
   ],
   "source": [
    "pred_df.head()"
   ]
  },
  {
   "cell_type": "code",
   "execution_count": 188,
   "id": "60eea4ff",
   "metadata": {},
   "outputs": [
    {
     "name": "stderr",
     "output_type": "stream",
     "text": [
      "C:\\Users\\1\\AppData\\Local\\Temp\\ipykernel_11528\\2539420318.py:1: FutureWarning:\n",
      "\n",
      "The frame.append method is deprecated and will be removed from pandas in a future version. Use pandas.concat instead.\n",
      "\n"
     ]
    }
   ],
   "source": [
    "final_df = df_with_pricess.append(pred_df)"
   ]
  },
  {
   "cell_type": "code",
   "execution_count": 189,
   "id": "ef9386ce",
   "metadata": {},
   "outputs": [
    {
     "name": "stdout",
     "output_type": "stream",
     "text": [
      "DataFrame is written to Excel File successfully.\n"
     ]
    }
   ],
   "source": [
    "# writing to Excel\n",
    "datatoexcel = pd.ExcelWriter('Islands2.xlsx')\n",
    "  \n",
    "# write DataFrame to excel\n",
    "final_df.to_excel(datatoexcel)\n",
    "  \n",
    "# save the excel\n",
    "datatoexcel.save()\n",
    "print('DataFrame is written to Excel File successfully.')"
   ]
  },
  {
   "cell_type": "code",
   "execution_count": 216,
   "id": "424c886f",
   "metadata": {},
   "outputs": [
    {
     "data": {
      "application/vnd.plotly.v1+json": {
       "config": {
        "plotlyServerURL": "https://plot.ly"
       },
       "data": [
        {
         "alignmentgroup": "True",
         "bingroup": "x",
         "hovertemplate": "price (mln $)=%{x}<br>count=%{y}<extra></extra>",
         "legendgroup": "",
         "marker": {
          "color": "#636efa",
          "pattern": {
           "shape": ""
          }
         },
         "name": "",
         "nbinsx": 50,
         "offsetgroup": "",
         "orientation": "v",
         "showlegend": false,
         "type": "histogram",
         "x": [
          50,
          50,
          46,
          39,
          35,
          29,
          24,
          23.5,
          22.9,
          22.5,
          22.5,
          21,
          20,
          19,
          18.5,
          18,
          18,
          17.5,
          17,
          15,
          16,
          15.9,
          15,
          15,
          15,
          15,
          14.995,
          12.5,
          12.5,
          12,
          12,
          12,
          11.5,
          10,
          11,
          10.9,
          10,
          9.995,
          9.9,
          9.5,
          8.6,
          7.95,
          7.9,
          7.895,
          7.895,
          7.5,
          7.5,
          7.5,
          7.5,
          7.2,
          7.05,
          6.9995,
          6.85,
          6.8,
          6.75,
          6.7,
          6.2,
          6,
          6,
          6,
          7.7,
          5.6,
          5.25,
          5.25,
          5.2,
          4.5,
          5,
          5,
          4.95,
          4.95,
          4.75,
          4.68,
          4.6,
          6,
          4.5,
          4.5,
          4,
          4.4,
          4.25,
          4.25,
          4.25,
          4.25,
          4.2,
          4,
          4,
          4,
          4,
          4,
          4,
          3.988,
          3.9,
          3.9,
          3.75,
          3.68,
          3.5,
          3.5,
          3,
          3,
          2.9,
          3.2,
          3.2,
          3.2,
          3.2,
          4,
          3,
          3,
          3,
          3,
          2.98,
          2.95,
          2.95,
          3.895,
          2.9,
          2.9,
          2.9,
          2.85,
          2.7,
          2.645,
          3.45,
          2.6,
          2.575,
          2.3,
          2.5,
          2.5,
          2.5,
          2.5,
          2.5,
          2.5,
          2.5,
          2.5,
          2.5,
          2.5,
          2.4,
          3.05,
          2.3,
          2.3,
          2.995,
          2.24,
          2.2,
          2.65,
          2.65,
          2,
          2,
          2,
          2,
          2,
          1.999999,
          1.995,
          1.99,
          1.95,
          1.95,
          1.9,
          1.9,
          1.9,
          1.7,
          1.865,
          6,
          2.4,
          1.8,
          1.8,
          1.8,
          1.8,
          1.8,
          2.35,
          1.75,
          1.695,
          1.69,
          1.5,
          1.6,
          1.6,
          1.6,
          2,
          1.5,
          1.5,
          1.5,
          1.5,
          1.5,
          1.5,
          1.49,
          1.95,
          1.45,
          1.4,
          1.4,
          1.85,
          1.35,
          1.35,
          1.35,
          1.3,
          1.3,
          1.3,
          1.695,
          1.25,
          1.2,
          1.2,
          1.2,
          1.15,
          1.15,
          1.495,
          1.1,
          1.1,
          1.1,
          1.4,
          50,
          1,
          1,
          1,
          1,
          0.999,
          0.995,
          0.99,
          0.975,
          0.975,
          0.85,
          0.825,
          1.208,
          1.2,
          0.9,
          0.9,
          0.9,
          0.895,
          0.895,
          0.875,
          0.87,
          0.771,
          0.85,
          0.8,
          0.8,
          0.8,
          0.8,
          0.799,
          0.775,
          0.75,
          0.94,
          0.695,
          0.669,
          0.65,
          0.65,
          0.65,
          0.64,
          0.595,
          0.595,
          0.595,
          0.75,
          0.75,
          0.725,
          0.505,
          0.5,
          0.499,
          0.499,
          0.499,
          0.499,
          0.495,
          0.495,
          0.475,
          0.45,
          0.419,
          0.41,
          0.399,
          0.395,
          0.372,
          0.36,
          0.3,
          0.295,
          0.215,
          0.215,
          0.1699,
          0.22,
          0.155,
          0.15,
          0.11,
          0.1449,
          0.09,
          0.083,
          0.09,
          1.2,
          35,
          10.9,
          35,
          7.5,
          6,
          2.4,
          7.5,
          0.399,
          1.99,
          6,
          6,
          0.15,
          15,
          9.9,
          20,
          15,
          0.15,
          0.9,
          2.5,
          3.0749999999999997,
          15,
          12.5,
          35,
          7.5,
          15,
          7.9,
          4.25,
          7.5,
          0.875,
          1.6,
          17.5,
          1.695,
          0.505,
          1.9,
          0.695,
          6.7,
          0.7475,
          10,
          6,
          1.5,
          17.5,
          6,
          6.75,
          7.5,
          1.6,
          7.5,
          4.25,
          6.9995,
          7.5,
          1.99,
          7.5,
          0.995,
          1.6,
          4.4,
          4,
          1.5,
          6,
          6,
          0.7475,
          3.5,
          3,
          1.5,
          0.36025,
          14.995,
          17,
          1.5,
          4.5,
          6,
          35,
          7.5,
          9.995,
          1.5,
          1.5,
          20,
          6.2,
          7.5,
          0.36025,
          3,
          2.875,
          6,
          3.408333333333333,
          6.9995,
          1.99,
          7.5,
          1.95,
          1.6,
          7.5,
          4,
          35,
          3,
          22.5,
          3.2,
          1.8,
          3.5,
          2.5,
          6,
          3,
          3,
          12,
          1.9,
          7.5,
          4,
          3.2,
          1.85,
          0.9,
          2.5,
          0.875,
          4,
          3,
          2.3,
          15,
          1.85,
          1.85,
          35,
          6,
          0.475,
          35,
          6.7,
          0.775,
          1.2,
          1.9,
          7.7,
          50,
          6,
          2.5,
          0.9,
          6,
          2.2475,
          3.45,
          2,
          3,
          7.05,
          2.4,
          2.995,
          15.9,
          2.3,
          50,
          0.995,
          10,
          1.1,
          0.595,
          12.5,
          0.9,
          4.4,
          0.36025,
          1.85,
          6.294,
          35,
          0.295,
          6.9995,
          2.85,
          1.1,
          1.01325,
          1.6,
          0.399,
          35,
          2.9,
          0.45,
          2.2475,
          1.85,
          6.75,
          7.5,
          0.775,
          0.475,
          2.875,
          0.8,
          7.7,
          2.2475,
          0.9,
          2,
          6.9995,
          1.2,
          3.2,
          1.8,
          0.995,
          0.847,
          0.36025,
          7.5,
          2.65,
          6.7,
          6,
          2.85,
          1.85,
          0.22,
          0.65,
          1.4962499999999999,
          0.9,
          35,
          0.399,
          2.995,
          2,
          1.25,
          0.7475,
          1.85,
          7.5,
          1.695,
          0.295,
          0.8,
          1.1,
          50,
          0.65,
          0.09,
          1.49,
          1.8,
          0.975,
          1,
          2.5,
          1.7,
          2.45,
          4,
          3.776666666666667,
          1.35,
          2,
          2.2475,
          2,
          0.775,
          7.5,
          2.5,
          3,
          0.85,
          1.01325,
          14.995,
          35,
          1.6,
          1.8,
          1.95,
          0.8,
          21,
          50,
          1.85,
          4,
          1.95,
          3,
          2.5,
          0.65,
          0.295,
          2.875,
          1.4962499999999999,
          4,
          0.847,
          0.775,
          2,
          2.9,
          2.3,
          1.01325,
          12.5,
          4,
          15,
          0.499,
          15,
          0.36025,
          0.15,
          7.5,
          2.2475,
          3.895,
          2.875,
          7.05,
          1.01325,
          1.5,
          0.399,
          0.295,
          2,
          0.505,
          1.8,
          2,
          0.295,
          2.3,
          1.6,
          0.75,
          0.295,
          1.01325,
          2,
          0.09,
          2.875,
          1.6,
          2,
          1.6,
          0.847,
          1.01325,
          0.295,
          0.847,
          0.295,
          1.01325,
          0.295,
          1.35,
          1.01325,
          1.01325,
          2.875,
          1.01325,
          1.35,
          1.01325,
          2,
          1.35,
          6.85,
          1.01325,
          0.847,
          1.01325,
          2,
          0.295,
          1.6,
          0.09,
          1.35,
          1.35,
          0.09,
          0.09,
          0.847,
          0.847,
          1.01325,
          0.847,
          0.295,
          1.35,
          0.847,
          0.09,
          0.09,
          0.09,
          1.6,
          1.01325,
          1.6,
          0.09,
          2.875,
          4,
          0.09,
          0.295,
          2.2475,
          0.09,
          1.01325,
          0.09,
          0.847,
          1.6,
          2,
          0.847,
          0.09,
          0.09,
          0.09,
          0.847,
          0.847,
          1.35,
          0.09,
          1.6,
          0.09,
          0.09,
          2,
          0.09,
          0.75,
          1.6,
          0.295,
          0.295,
          1.6,
          1.01325
         ],
         "xaxis": "x",
         "yaxis": "y"
        }
       ],
       "layout": {
        "barmode": "relative",
        "legend": {
         "tracegroupgap": 0
        },
        "template": {
         "data": {
          "bar": [
           {
            "error_x": {
             "color": "#2a3f5f"
            },
            "error_y": {
             "color": "#2a3f5f"
            },
            "marker": {
             "line": {
              "color": "#E5ECF6",
              "width": 0.5
             },
             "pattern": {
              "fillmode": "overlay",
              "size": 10,
              "solidity": 0.2
             }
            },
            "type": "bar"
           }
          ],
          "barpolar": [
           {
            "marker": {
             "line": {
              "color": "#E5ECF6",
              "width": 0.5
             },
             "pattern": {
              "fillmode": "overlay",
              "size": 10,
              "solidity": 0.2
             }
            },
            "type": "barpolar"
           }
          ],
          "carpet": [
           {
            "aaxis": {
             "endlinecolor": "#2a3f5f",
             "gridcolor": "white",
             "linecolor": "white",
             "minorgridcolor": "white",
             "startlinecolor": "#2a3f5f"
            },
            "baxis": {
             "endlinecolor": "#2a3f5f",
             "gridcolor": "white",
             "linecolor": "white",
             "minorgridcolor": "white",
             "startlinecolor": "#2a3f5f"
            },
            "type": "carpet"
           }
          ],
          "choropleth": [
           {
            "colorbar": {
             "outlinewidth": 0,
             "ticks": ""
            },
            "type": "choropleth"
           }
          ],
          "contour": [
           {
            "colorbar": {
             "outlinewidth": 0,
             "ticks": ""
            },
            "colorscale": [
             [
              0,
              "#0d0887"
             ],
             [
              0.1111111111111111,
              "#46039f"
             ],
             [
              0.2222222222222222,
              "#7201a8"
             ],
             [
              0.3333333333333333,
              "#9c179e"
             ],
             [
              0.4444444444444444,
              "#bd3786"
             ],
             [
              0.5555555555555556,
              "#d8576b"
             ],
             [
              0.6666666666666666,
              "#ed7953"
             ],
             [
              0.7777777777777778,
              "#fb9f3a"
             ],
             [
              0.8888888888888888,
              "#fdca26"
             ],
             [
              1,
              "#f0f921"
             ]
            ],
            "type": "contour"
           }
          ],
          "contourcarpet": [
           {
            "colorbar": {
             "outlinewidth": 0,
             "ticks": ""
            },
            "type": "contourcarpet"
           }
          ],
          "heatmap": [
           {
            "colorbar": {
             "outlinewidth": 0,
             "ticks": ""
            },
            "colorscale": [
             [
              0,
              "#0d0887"
             ],
             [
              0.1111111111111111,
              "#46039f"
             ],
             [
              0.2222222222222222,
              "#7201a8"
             ],
             [
              0.3333333333333333,
              "#9c179e"
             ],
             [
              0.4444444444444444,
              "#bd3786"
             ],
             [
              0.5555555555555556,
              "#d8576b"
             ],
             [
              0.6666666666666666,
              "#ed7953"
             ],
             [
              0.7777777777777778,
              "#fb9f3a"
             ],
             [
              0.8888888888888888,
              "#fdca26"
             ],
             [
              1,
              "#f0f921"
             ]
            ],
            "type": "heatmap"
           }
          ],
          "heatmapgl": [
           {
            "colorbar": {
             "outlinewidth": 0,
             "ticks": ""
            },
            "colorscale": [
             [
              0,
              "#0d0887"
             ],
             [
              0.1111111111111111,
              "#46039f"
             ],
             [
              0.2222222222222222,
              "#7201a8"
             ],
             [
              0.3333333333333333,
              "#9c179e"
             ],
             [
              0.4444444444444444,
              "#bd3786"
             ],
             [
              0.5555555555555556,
              "#d8576b"
             ],
             [
              0.6666666666666666,
              "#ed7953"
             ],
             [
              0.7777777777777778,
              "#fb9f3a"
             ],
             [
              0.8888888888888888,
              "#fdca26"
             ],
             [
              1,
              "#f0f921"
             ]
            ],
            "type": "heatmapgl"
           }
          ],
          "histogram": [
           {
            "marker": {
             "pattern": {
              "fillmode": "overlay",
              "size": 10,
              "solidity": 0.2
             }
            },
            "type": "histogram"
           }
          ],
          "histogram2d": [
           {
            "colorbar": {
             "outlinewidth": 0,
             "ticks": ""
            },
            "colorscale": [
             [
              0,
              "#0d0887"
             ],
             [
              0.1111111111111111,
              "#46039f"
             ],
             [
              0.2222222222222222,
              "#7201a8"
             ],
             [
              0.3333333333333333,
              "#9c179e"
             ],
             [
              0.4444444444444444,
              "#bd3786"
             ],
             [
              0.5555555555555556,
              "#d8576b"
             ],
             [
              0.6666666666666666,
              "#ed7953"
             ],
             [
              0.7777777777777778,
              "#fb9f3a"
             ],
             [
              0.8888888888888888,
              "#fdca26"
             ],
             [
              1,
              "#f0f921"
             ]
            ],
            "type": "histogram2d"
           }
          ],
          "histogram2dcontour": [
           {
            "colorbar": {
             "outlinewidth": 0,
             "ticks": ""
            },
            "colorscale": [
             [
              0,
              "#0d0887"
             ],
             [
              0.1111111111111111,
              "#46039f"
             ],
             [
              0.2222222222222222,
              "#7201a8"
             ],
             [
              0.3333333333333333,
              "#9c179e"
             ],
             [
              0.4444444444444444,
              "#bd3786"
             ],
             [
              0.5555555555555556,
              "#d8576b"
             ],
             [
              0.6666666666666666,
              "#ed7953"
             ],
             [
              0.7777777777777778,
              "#fb9f3a"
             ],
             [
              0.8888888888888888,
              "#fdca26"
             ],
             [
              1,
              "#f0f921"
             ]
            ],
            "type": "histogram2dcontour"
           }
          ],
          "mesh3d": [
           {
            "colorbar": {
             "outlinewidth": 0,
             "ticks": ""
            },
            "type": "mesh3d"
           }
          ],
          "parcoords": [
           {
            "line": {
             "colorbar": {
              "outlinewidth": 0,
              "ticks": ""
             }
            },
            "type": "parcoords"
           }
          ],
          "pie": [
           {
            "automargin": true,
            "type": "pie"
           }
          ],
          "scatter": [
           {
            "marker": {
             "colorbar": {
              "outlinewidth": 0,
              "ticks": ""
             }
            },
            "type": "scatter"
           }
          ],
          "scatter3d": [
           {
            "line": {
             "colorbar": {
              "outlinewidth": 0,
              "ticks": ""
             }
            },
            "marker": {
             "colorbar": {
              "outlinewidth": 0,
              "ticks": ""
             }
            },
            "type": "scatter3d"
           }
          ],
          "scattercarpet": [
           {
            "marker": {
             "colorbar": {
              "outlinewidth": 0,
              "ticks": ""
             }
            },
            "type": "scattercarpet"
           }
          ],
          "scattergeo": [
           {
            "marker": {
             "colorbar": {
              "outlinewidth": 0,
              "ticks": ""
             }
            },
            "type": "scattergeo"
           }
          ],
          "scattergl": [
           {
            "marker": {
             "colorbar": {
              "outlinewidth": 0,
              "ticks": ""
             }
            },
            "type": "scattergl"
           }
          ],
          "scattermapbox": [
           {
            "marker": {
             "colorbar": {
              "outlinewidth": 0,
              "ticks": ""
             }
            },
            "type": "scattermapbox"
           }
          ],
          "scatterpolar": [
           {
            "marker": {
             "colorbar": {
              "outlinewidth": 0,
              "ticks": ""
             }
            },
            "type": "scatterpolar"
           }
          ],
          "scatterpolargl": [
           {
            "marker": {
             "colorbar": {
              "outlinewidth": 0,
              "ticks": ""
             }
            },
            "type": "scatterpolargl"
           }
          ],
          "scatterternary": [
           {
            "marker": {
             "colorbar": {
              "outlinewidth": 0,
              "ticks": ""
             }
            },
            "type": "scatterternary"
           }
          ],
          "surface": [
           {
            "colorbar": {
             "outlinewidth": 0,
             "ticks": ""
            },
            "colorscale": [
             [
              0,
              "#0d0887"
             ],
             [
              0.1111111111111111,
              "#46039f"
             ],
             [
              0.2222222222222222,
              "#7201a8"
             ],
             [
              0.3333333333333333,
              "#9c179e"
             ],
             [
              0.4444444444444444,
              "#bd3786"
             ],
             [
              0.5555555555555556,
              "#d8576b"
             ],
             [
              0.6666666666666666,
              "#ed7953"
             ],
             [
              0.7777777777777778,
              "#fb9f3a"
             ],
             [
              0.8888888888888888,
              "#fdca26"
             ],
             [
              1,
              "#f0f921"
             ]
            ],
            "type": "surface"
           }
          ],
          "table": [
           {
            "cells": {
             "fill": {
              "color": "#EBF0F8"
             },
             "line": {
              "color": "white"
             }
            },
            "header": {
             "fill": {
              "color": "#C8D4E3"
             },
             "line": {
              "color": "white"
             }
            },
            "type": "table"
           }
          ]
         },
         "layout": {
          "annotationdefaults": {
           "arrowcolor": "#2a3f5f",
           "arrowhead": 0,
           "arrowwidth": 1
          },
          "autotypenumbers": "strict",
          "coloraxis": {
           "colorbar": {
            "outlinewidth": 0,
            "ticks": ""
           }
          },
          "colorscale": {
           "diverging": [
            [
             0,
             "#8e0152"
            ],
            [
             0.1,
             "#c51b7d"
            ],
            [
             0.2,
             "#de77ae"
            ],
            [
             0.3,
             "#f1b6da"
            ],
            [
             0.4,
             "#fde0ef"
            ],
            [
             0.5,
             "#f7f7f7"
            ],
            [
             0.6,
             "#e6f5d0"
            ],
            [
             0.7,
             "#b8e186"
            ],
            [
             0.8,
             "#7fbc41"
            ],
            [
             0.9,
             "#4d9221"
            ],
            [
             1,
             "#276419"
            ]
           ],
           "sequential": [
            [
             0,
             "#0d0887"
            ],
            [
             0.1111111111111111,
             "#46039f"
            ],
            [
             0.2222222222222222,
             "#7201a8"
            ],
            [
             0.3333333333333333,
             "#9c179e"
            ],
            [
             0.4444444444444444,
             "#bd3786"
            ],
            [
             0.5555555555555556,
             "#d8576b"
            ],
            [
             0.6666666666666666,
             "#ed7953"
            ],
            [
             0.7777777777777778,
             "#fb9f3a"
            ],
            [
             0.8888888888888888,
             "#fdca26"
            ],
            [
             1,
             "#f0f921"
            ]
           ],
           "sequentialminus": [
            [
             0,
             "#0d0887"
            ],
            [
             0.1111111111111111,
             "#46039f"
            ],
            [
             0.2222222222222222,
             "#7201a8"
            ],
            [
             0.3333333333333333,
             "#9c179e"
            ],
            [
             0.4444444444444444,
             "#bd3786"
            ],
            [
             0.5555555555555556,
             "#d8576b"
            ],
            [
             0.6666666666666666,
             "#ed7953"
            ],
            [
             0.7777777777777778,
             "#fb9f3a"
            ],
            [
             0.8888888888888888,
             "#fdca26"
            ],
            [
             1,
             "#f0f921"
            ]
           ]
          },
          "colorway": [
           "#636efa",
           "#EF553B",
           "#00cc96",
           "#ab63fa",
           "#FFA15A",
           "#19d3f3",
           "#FF6692",
           "#B6E880",
           "#FF97FF",
           "#FECB52"
          ],
          "font": {
           "color": "#2a3f5f"
          },
          "geo": {
           "bgcolor": "white",
           "lakecolor": "white",
           "landcolor": "#E5ECF6",
           "showlakes": true,
           "showland": true,
           "subunitcolor": "white"
          },
          "hoverlabel": {
           "align": "left"
          },
          "hovermode": "closest",
          "mapbox": {
           "style": "light"
          },
          "paper_bgcolor": "white",
          "plot_bgcolor": "#E5ECF6",
          "polar": {
           "angularaxis": {
            "gridcolor": "white",
            "linecolor": "white",
            "ticks": ""
           },
           "bgcolor": "#E5ECF6",
           "radialaxis": {
            "gridcolor": "white",
            "linecolor": "white",
            "ticks": ""
           }
          },
          "scene": {
           "xaxis": {
            "backgroundcolor": "#E5ECF6",
            "gridcolor": "white",
            "gridwidth": 2,
            "linecolor": "white",
            "showbackground": true,
            "ticks": "",
            "zerolinecolor": "white"
           },
           "yaxis": {
            "backgroundcolor": "#E5ECF6",
            "gridcolor": "white",
            "gridwidth": 2,
            "linecolor": "white",
            "showbackground": true,
            "ticks": "",
            "zerolinecolor": "white"
           },
           "zaxis": {
            "backgroundcolor": "#E5ECF6",
            "gridcolor": "white",
            "gridwidth": 2,
            "linecolor": "white",
            "showbackground": true,
            "ticks": "",
            "zerolinecolor": "white"
           }
          },
          "shapedefaults": {
           "line": {
            "color": "#2a3f5f"
           }
          },
          "ternary": {
           "aaxis": {
            "gridcolor": "white",
            "linecolor": "white",
            "ticks": ""
           },
           "baxis": {
            "gridcolor": "white",
            "linecolor": "white",
            "ticks": ""
           },
           "bgcolor": "#E5ECF6",
           "caxis": {
            "gridcolor": "white",
            "linecolor": "white",
            "ticks": ""
           }
          },
          "title": {
           "x": 0.05
          },
          "xaxis": {
           "automargin": true,
           "gridcolor": "white",
           "linecolor": "white",
           "ticks": "",
           "title": {
            "standoff": 15
           },
           "zerolinecolor": "white",
           "zerolinewidth": 2
          },
          "yaxis": {
           "automargin": true,
           "gridcolor": "white",
           "linecolor": "white",
           "ticks": "",
           "title": {
            "standoff": 15
           },
           "zerolinecolor": "white",
           "zerolinewidth": 2
          }
         }
        },
        "title": {
         "text": "The distribution of islands prices"
        },
        "xaxis": {
         "anchor": "y",
         "domain": [
          0,
          1
         ],
         "title": {
          "text": "price (mln $)"
         }
        },
        "yaxis": {
         "anchor": "x",
         "domain": [
          0,
          1
         ],
         "title": {
          "text": "count"
         }
        }
       }
      },
      "text/html": [
       "<div>                            <div id=\"bd7dc3fc-3112-42f0-ad73-2e34d0295515\" class=\"plotly-graph-div\" style=\"height:525px; width:100%;\"></div>            <script type=\"text/javascript\">                require([\"plotly\"], function(Plotly) {                    window.PLOTLYENV=window.PLOTLYENV || {};                                    if (document.getElementById(\"bd7dc3fc-3112-42f0-ad73-2e34d0295515\")) {                    Plotly.newPlot(                        \"bd7dc3fc-3112-42f0-ad73-2e34d0295515\",                        [{\"alignmentgroup\":\"True\",\"bingroup\":\"x\",\"hovertemplate\":\"price (mln $)=%{x}<br>count=%{y}<extra></extra>\",\"legendgroup\":\"\",\"marker\":{\"color\":\"#636efa\",\"pattern\":{\"shape\":\"\"}},\"name\":\"\",\"nbinsx\":50,\"offsetgroup\":\"\",\"orientation\":\"v\",\"showlegend\":false,\"x\":[50.0,50.0,46.0,39.0,35.0,29.0,24.0,23.5,22.9,22.5,22.5,21.0,20.0,19.0,18.5,18.0,18.0,17.5,17.0,15.0,16.0,15.9,15.0,15.0,15.0,15.0,14.995,12.5,12.5,12.0,12.0,12.0,11.5,10.0,11.0,10.9,10.0,9.995,9.9,9.5,8.6,7.95,7.9,7.895,7.895,7.5,7.5,7.5,7.5,7.2,7.05,6.9995,6.85,6.8,6.75,6.7,6.2,6.0,6.0,6.0,7.7,5.6,5.25,5.25,5.2,4.5,5.0,5.0,4.95,4.95,4.75,4.68,4.6,6.0,4.5,4.5,4.0,4.4,4.25,4.25,4.25,4.25,4.2,4.0,4.0,4.0,4.0,4.0,4.0,3.988,3.9,3.9,3.75,3.68,3.5,3.5,3.0,3.0,2.9,3.2,3.2,3.2,3.2,4.0,3.0,3.0,3.0,3.0,2.98,2.95,2.95,3.895,2.9,2.9,2.9,2.85,2.7,2.645,3.45,2.6,2.575,2.3,2.5,2.5,2.5,2.5,2.5,2.5,2.5,2.5,2.5,2.5,2.4,3.05,2.3,2.3,2.995,2.24,2.2,2.65,2.65,2.0,2.0,2.0,2.0,2.0,1.999999,1.995,1.99,1.95,1.95,1.9,1.9,1.9,1.7,1.865,6.0,2.4,1.8,1.8,1.8,1.8,1.8,2.35,1.75,1.695,1.69,1.5,1.6,1.6,1.6,2.0,1.5,1.5,1.5,1.5,1.5,1.5,1.49,1.95,1.45,1.4,1.4,1.85,1.35,1.35,1.35,1.3,1.3,1.3,1.695,1.25,1.2,1.2,1.2,1.15,1.15,1.495,1.1,1.1,1.1,1.4,50.0,1.0,1.0,1.0,1.0,0.999,0.995,0.99,0.975,0.975,0.85,0.825,1.208,1.2,0.9,0.9,0.9,0.895,0.895,0.875,0.87,0.771,0.85,0.8,0.8,0.8,0.8,0.799,0.775,0.75,0.94,0.695,0.669,0.65,0.65,0.65,0.64,0.595,0.595,0.595,0.75,0.75,0.725,0.505,0.5,0.499,0.499,0.499,0.499,0.495,0.495,0.475,0.45,0.419,0.41,0.399,0.395,0.372,0.36,0.3,0.295,0.215,0.215,0.1699,0.22,0.155,0.15,0.11,0.1449,0.09,0.083,0.09,1.2,35.0,10.9,35.0,7.5,6.0,2.4,7.5,0.399,1.99,6.0,6.0,0.15,15.0,9.9,20.0,15.0,0.15,0.9,2.5,3.0749999999999997,15.0,12.5,35.0,7.5,15.0,7.9,4.25,7.5,0.875,1.6,17.5,1.695,0.505,1.9,0.695,6.7,0.7475,10.0,6.0,1.5,17.5,6.0,6.75,7.5,1.6,7.5,4.25,6.9995,7.5,1.99,7.5,0.995,1.6,4.4,4.0,1.5,6.0,6.0,0.7475,3.5,3.0,1.5,0.36025,14.995,17.0,1.5,4.5,6.0,35.0,7.5,9.995,1.5,1.5,20.0,6.2,7.5,0.36025,3.0,2.875,6.0,3.408333333333333,6.9995,1.99,7.5,1.95,1.6,7.5,4.0,35.0,3.0,22.5,3.2,1.8,3.5,2.5,6.0,3.0,3.0,12.0,1.9,7.5,4.0,3.2,1.85,0.9,2.5,0.875,4.0,3.0,2.3,15.0,1.85,1.85,35.0,6.0,0.475,35.0,6.7,0.775,1.2,1.9,7.7,50.0,6.0,2.5,0.9,6.0,2.2475,3.45,2.0,3.0,7.05,2.4,2.995,15.9,2.3,50.0,0.995,10.0,1.1,0.595,12.5,0.9,4.4,0.36025,1.85,6.294,35.0,0.295,6.9995,2.85,1.1,1.01325,1.6,0.399,35.0,2.9,0.45,2.2475,1.85,6.75,7.5,0.775,0.475,2.875,0.8,7.7,2.2475,0.9,2.0,6.9995,1.2,3.2,1.8,0.995,0.847,0.36025,7.5,2.65,6.7,6.0,2.85,1.85,0.22,0.65,1.4962499999999999,0.9,35.0,0.399,2.995,2.0,1.25,0.7475,1.85,7.5,1.695,0.295,0.8,1.1,50.0,0.65,0.09,1.49,1.8,0.975,1.0,2.5,1.7,2.45,4.0,3.776666666666667,1.35,2.0,2.2475,2.0,0.775,7.5,2.5,3.0,0.85,1.01325,14.995,35.0,1.6,1.8,1.95,0.8,21.0,50.0,1.85,4.0,1.95,3.0,2.5,0.65,0.295,2.875,1.4962499999999999,4.0,0.847,0.775,2.0,2.9,2.3,1.01325,12.5,4.0,15.0,0.499,15.0,0.36025,0.15,7.5,2.2475,3.895,2.875,7.05,1.01325,1.5,0.399,0.295,2.0,0.505,1.8,2.0,0.295,2.3,1.6,0.75,0.295,1.01325,2.0,0.09,2.875,1.6,2.0,1.6,0.847,1.01325,0.295,0.847,0.295,1.01325,0.295,1.35,1.01325,1.01325,2.875,1.01325,1.35,1.01325,2.0,1.35,6.85,1.01325,0.847,1.01325,2.0,0.295,1.6,0.09,1.35,1.35,0.09,0.09,0.847,0.847,1.01325,0.847,0.295,1.35,0.847,0.09,0.09,0.09,1.6,1.01325,1.6,0.09,2.875,4.0,0.09,0.295,2.2475,0.09,1.01325,0.09,0.847,1.6,2.0,0.847,0.09,0.09,0.09,0.847,0.847,1.35,0.09,1.6,0.09,0.09,2.0,0.09,0.75,1.6,0.295,0.295,1.6,1.01325],\"xaxis\":\"x\",\"yaxis\":\"y\",\"type\":\"histogram\"}],                        {\"template\":{\"data\":{\"bar\":[{\"error_x\":{\"color\":\"#2a3f5f\"},\"error_y\":{\"color\":\"#2a3f5f\"},\"marker\":{\"line\":{\"color\":\"#E5ECF6\",\"width\":0.5},\"pattern\":{\"fillmode\":\"overlay\",\"size\":10,\"solidity\":0.2}},\"type\":\"bar\"}],\"barpolar\":[{\"marker\":{\"line\":{\"color\":\"#E5ECF6\",\"width\":0.5},\"pattern\":{\"fillmode\":\"overlay\",\"size\":10,\"solidity\":0.2}},\"type\":\"barpolar\"}],\"carpet\":[{\"aaxis\":{\"endlinecolor\":\"#2a3f5f\",\"gridcolor\":\"white\",\"linecolor\":\"white\",\"minorgridcolor\":\"white\",\"startlinecolor\":\"#2a3f5f\"},\"baxis\":{\"endlinecolor\":\"#2a3f5f\",\"gridcolor\":\"white\",\"linecolor\":\"white\",\"minorgridcolor\":\"white\",\"startlinecolor\":\"#2a3f5f\"},\"type\":\"carpet\"}],\"choropleth\":[{\"colorbar\":{\"outlinewidth\":0,\"ticks\":\"\"},\"type\":\"choropleth\"}],\"contour\":[{\"colorbar\":{\"outlinewidth\":0,\"ticks\":\"\"},\"colorscale\":[[0.0,\"#0d0887\"],[0.1111111111111111,\"#46039f\"],[0.2222222222222222,\"#7201a8\"],[0.3333333333333333,\"#9c179e\"],[0.4444444444444444,\"#bd3786\"],[0.5555555555555556,\"#d8576b\"],[0.6666666666666666,\"#ed7953\"],[0.7777777777777778,\"#fb9f3a\"],[0.8888888888888888,\"#fdca26\"],[1.0,\"#f0f921\"]],\"type\":\"contour\"}],\"contourcarpet\":[{\"colorbar\":{\"outlinewidth\":0,\"ticks\":\"\"},\"type\":\"contourcarpet\"}],\"heatmap\":[{\"colorbar\":{\"outlinewidth\":0,\"ticks\":\"\"},\"colorscale\":[[0.0,\"#0d0887\"],[0.1111111111111111,\"#46039f\"],[0.2222222222222222,\"#7201a8\"],[0.3333333333333333,\"#9c179e\"],[0.4444444444444444,\"#bd3786\"],[0.5555555555555556,\"#d8576b\"],[0.6666666666666666,\"#ed7953\"],[0.7777777777777778,\"#fb9f3a\"],[0.8888888888888888,\"#fdca26\"],[1.0,\"#f0f921\"]],\"type\":\"heatmap\"}],\"heatmapgl\":[{\"colorbar\":{\"outlinewidth\":0,\"ticks\":\"\"},\"colorscale\":[[0.0,\"#0d0887\"],[0.1111111111111111,\"#46039f\"],[0.2222222222222222,\"#7201a8\"],[0.3333333333333333,\"#9c179e\"],[0.4444444444444444,\"#bd3786\"],[0.5555555555555556,\"#d8576b\"],[0.6666666666666666,\"#ed7953\"],[0.7777777777777778,\"#fb9f3a\"],[0.8888888888888888,\"#fdca26\"],[1.0,\"#f0f921\"]],\"type\":\"heatmapgl\"}],\"histogram\":[{\"marker\":{\"pattern\":{\"fillmode\":\"overlay\",\"size\":10,\"solidity\":0.2}},\"type\":\"histogram\"}],\"histogram2d\":[{\"colorbar\":{\"outlinewidth\":0,\"ticks\":\"\"},\"colorscale\":[[0.0,\"#0d0887\"],[0.1111111111111111,\"#46039f\"],[0.2222222222222222,\"#7201a8\"],[0.3333333333333333,\"#9c179e\"],[0.4444444444444444,\"#bd3786\"],[0.5555555555555556,\"#d8576b\"],[0.6666666666666666,\"#ed7953\"],[0.7777777777777778,\"#fb9f3a\"],[0.8888888888888888,\"#fdca26\"],[1.0,\"#f0f921\"]],\"type\":\"histogram2d\"}],\"histogram2dcontour\":[{\"colorbar\":{\"outlinewidth\":0,\"ticks\":\"\"},\"colorscale\":[[0.0,\"#0d0887\"],[0.1111111111111111,\"#46039f\"],[0.2222222222222222,\"#7201a8\"],[0.3333333333333333,\"#9c179e\"],[0.4444444444444444,\"#bd3786\"],[0.5555555555555556,\"#d8576b\"],[0.6666666666666666,\"#ed7953\"],[0.7777777777777778,\"#fb9f3a\"],[0.8888888888888888,\"#fdca26\"],[1.0,\"#f0f921\"]],\"type\":\"histogram2dcontour\"}],\"mesh3d\":[{\"colorbar\":{\"outlinewidth\":0,\"ticks\":\"\"},\"type\":\"mesh3d\"}],\"parcoords\":[{\"line\":{\"colorbar\":{\"outlinewidth\":0,\"ticks\":\"\"}},\"type\":\"parcoords\"}],\"pie\":[{\"automargin\":true,\"type\":\"pie\"}],\"scatter\":[{\"marker\":{\"colorbar\":{\"outlinewidth\":0,\"ticks\":\"\"}},\"type\":\"scatter\"}],\"scatter3d\":[{\"line\":{\"colorbar\":{\"outlinewidth\":0,\"ticks\":\"\"}},\"marker\":{\"colorbar\":{\"outlinewidth\":0,\"ticks\":\"\"}},\"type\":\"scatter3d\"}],\"scattercarpet\":[{\"marker\":{\"colorbar\":{\"outlinewidth\":0,\"ticks\":\"\"}},\"type\":\"scattercarpet\"}],\"scattergeo\":[{\"marker\":{\"colorbar\":{\"outlinewidth\":0,\"ticks\":\"\"}},\"type\":\"scattergeo\"}],\"scattergl\":[{\"marker\":{\"colorbar\":{\"outlinewidth\":0,\"ticks\":\"\"}},\"type\":\"scattergl\"}],\"scattermapbox\":[{\"marker\":{\"colorbar\":{\"outlinewidth\":0,\"ticks\":\"\"}},\"type\":\"scattermapbox\"}],\"scatterpolar\":[{\"marker\":{\"colorbar\":{\"outlinewidth\":0,\"ticks\":\"\"}},\"type\":\"scatterpolar\"}],\"scatterpolargl\":[{\"marker\":{\"colorbar\":{\"outlinewidth\":0,\"ticks\":\"\"}},\"type\":\"scatterpolargl\"}],\"scatterternary\":[{\"marker\":{\"colorbar\":{\"outlinewidth\":0,\"ticks\":\"\"}},\"type\":\"scatterternary\"}],\"surface\":[{\"colorbar\":{\"outlinewidth\":0,\"ticks\":\"\"},\"colorscale\":[[0.0,\"#0d0887\"],[0.1111111111111111,\"#46039f\"],[0.2222222222222222,\"#7201a8\"],[0.3333333333333333,\"#9c179e\"],[0.4444444444444444,\"#bd3786\"],[0.5555555555555556,\"#d8576b\"],[0.6666666666666666,\"#ed7953\"],[0.7777777777777778,\"#fb9f3a\"],[0.8888888888888888,\"#fdca26\"],[1.0,\"#f0f921\"]],\"type\":\"surface\"}],\"table\":[{\"cells\":{\"fill\":{\"color\":\"#EBF0F8\"},\"line\":{\"color\":\"white\"}},\"header\":{\"fill\":{\"color\":\"#C8D4E3\"},\"line\":{\"color\":\"white\"}},\"type\":\"table\"}]},\"layout\":{\"annotationdefaults\":{\"arrowcolor\":\"#2a3f5f\",\"arrowhead\":0,\"arrowwidth\":1},\"autotypenumbers\":\"strict\",\"coloraxis\":{\"colorbar\":{\"outlinewidth\":0,\"ticks\":\"\"}},\"colorscale\":{\"diverging\":[[0,\"#8e0152\"],[0.1,\"#c51b7d\"],[0.2,\"#de77ae\"],[0.3,\"#f1b6da\"],[0.4,\"#fde0ef\"],[0.5,\"#f7f7f7\"],[0.6,\"#e6f5d0\"],[0.7,\"#b8e186\"],[0.8,\"#7fbc41\"],[0.9,\"#4d9221\"],[1,\"#276419\"]],\"sequential\":[[0.0,\"#0d0887\"],[0.1111111111111111,\"#46039f\"],[0.2222222222222222,\"#7201a8\"],[0.3333333333333333,\"#9c179e\"],[0.4444444444444444,\"#bd3786\"],[0.5555555555555556,\"#d8576b\"],[0.6666666666666666,\"#ed7953\"],[0.7777777777777778,\"#fb9f3a\"],[0.8888888888888888,\"#fdca26\"],[1.0,\"#f0f921\"]],\"sequentialminus\":[[0.0,\"#0d0887\"],[0.1111111111111111,\"#46039f\"],[0.2222222222222222,\"#7201a8\"],[0.3333333333333333,\"#9c179e\"],[0.4444444444444444,\"#bd3786\"],[0.5555555555555556,\"#d8576b\"],[0.6666666666666666,\"#ed7953\"],[0.7777777777777778,\"#fb9f3a\"],[0.8888888888888888,\"#fdca26\"],[1.0,\"#f0f921\"]]},\"colorway\":[\"#636efa\",\"#EF553B\",\"#00cc96\",\"#ab63fa\",\"#FFA15A\",\"#19d3f3\",\"#FF6692\",\"#B6E880\",\"#FF97FF\",\"#FECB52\"],\"font\":{\"color\":\"#2a3f5f\"},\"geo\":{\"bgcolor\":\"white\",\"lakecolor\":\"white\",\"landcolor\":\"#E5ECF6\",\"showlakes\":true,\"showland\":true,\"subunitcolor\":\"white\"},\"hoverlabel\":{\"align\":\"left\"},\"hovermode\":\"closest\",\"mapbox\":{\"style\":\"light\"},\"paper_bgcolor\":\"white\",\"plot_bgcolor\":\"#E5ECF6\",\"polar\":{\"angularaxis\":{\"gridcolor\":\"white\",\"linecolor\":\"white\",\"ticks\":\"\"},\"bgcolor\":\"#E5ECF6\",\"radialaxis\":{\"gridcolor\":\"white\",\"linecolor\":\"white\",\"ticks\":\"\"}},\"scene\":{\"xaxis\":{\"backgroundcolor\":\"#E5ECF6\",\"gridcolor\":\"white\",\"gridwidth\":2,\"linecolor\":\"white\",\"showbackground\":true,\"ticks\":\"\",\"zerolinecolor\":\"white\"},\"yaxis\":{\"backgroundcolor\":\"#E5ECF6\",\"gridcolor\":\"white\",\"gridwidth\":2,\"linecolor\":\"white\",\"showbackground\":true,\"ticks\":\"\",\"zerolinecolor\":\"white\"},\"zaxis\":{\"backgroundcolor\":\"#E5ECF6\",\"gridcolor\":\"white\",\"gridwidth\":2,\"linecolor\":\"white\",\"showbackground\":true,\"ticks\":\"\",\"zerolinecolor\":\"white\"}},\"shapedefaults\":{\"line\":{\"color\":\"#2a3f5f\"}},\"ternary\":{\"aaxis\":{\"gridcolor\":\"white\",\"linecolor\":\"white\",\"ticks\":\"\"},\"baxis\":{\"gridcolor\":\"white\",\"linecolor\":\"white\",\"ticks\":\"\"},\"bgcolor\":\"#E5ECF6\",\"caxis\":{\"gridcolor\":\"white\",\"linecolor\":\"white\",\"ticks\":\"\"}},\"title\":{\"x\":0.05},\"xaxis\":{\"automargin\":true,\"gridcolor\":\"white\",\"linecolor\":\"white\",\"ticks\":\"\",\"title\":{\"standoff\":15},\"zerolinecolor\":\"white\",\"zerolinewidth\":2},\"yaxis\":{\"automargin\":true,\"gridcolor\":\"white\",\"linecolor\":\"white\",\"ticks\":\"\",\"title\":{\"standoff\":15},\"zerolinecolor\":\"white\",\"zerolinewidth\":2}}},\"xaxis\":{\"anchor\":\"y\",\"domain\":[0.0,1.0],\"title\":{\"text\":\"price (mln $)\"}},\"yaxis\":{\"anchor\":\"x\",\"domain\":[0.0,1.0],\"title\":{\"text\":\"count\"}},\"legend\":{\"tracegroupgap\":0},\"title\":{\"text\":\"The distribution of islands prices\"},\"barmode\":\"relative\"},                        {\"responsive\": true}                    ).then(function(){\n",
       "                            \n",
       "var gd = document.getElementById('bd7dc3fc-3112-42f0-ad73-2e34d0295515');\n",
       "var x = new MutationObserver(function (mutations, observer) {{\n",
       "        var display = window.getComputedStyle(gd).display;\n",
       "        if (!display || display === 'none') {{\n",
       "            console.log([gd, 'removed!']);\n",
       "            Plotly.purge(gd);\n",
       "            observer.disconnect();\n",
       "        }}\n",
       "}});\n",
       "\n",
       "// Listen for the removal of the full notebook cells\n",
       "var notebookContainer = gd.closest('#notebook-container');\n",
       "if (notebookContainer) {{\n",
       "    x.observe(notebookContainer, {childList: true});\n",
       "}}\n",
       "\n",
       "// Listen for the clearing of the current output cell\n",
       "var outputEl = gd.closest('.output');\n",
       "if (outputEl) {{\n",
       "    x.observe(outputEl, {childList: true});\n",
       "}}\n",
       "\n",
       "                        })                };                });            </script>        </div>"
      ]
     },
     "metadata": {},
     "output_type": "display_data"
    }
   ],
   "source": [
    "fig2 = pt.histogram(final_df[final_df['price']<= 60], x = 'price', nbins = 50, labels = {'price': 'price (mln $)'}, title = 'The distribution of islands prices')\n",
    "fig2.show()"
   ]
  },
  {
   "cell_type": "code",
   "execution_count": 228,
   "id": "d225b15f",
   "metadata": {},
   "outputs": [],
   "source": [
    "app = Dash()"
   ]
  },
  {
   "cell_type": "code",
   "execution_count": 229,
   "id": "d32e8a34",
   "metadata": {},
   "outputs": [],
   "source": [
    "app.layout = html.Div(children = [\n",
    "    html.Div([dcc.Graph(id = 'first'),\n",
    "                         dcc.Dropdown(id = 'tag', options = unique_facilities, value = 'Large Acreage')]),\n",
    "    html.Div([dcc.Graph(id = 'second', figure = fig2)])\n",
    "\n",
    "                                    ])"
   ]
  },
  {
   "cell_type": "code",
   "execution_count": 230,
   "id": "fc974f5a",
   "metadata": {},
   "outputs": [],
   "source": [
    "@app.callback(\n",
    "Output('first', 'figure'),\n",
    "Input('tag', 'value'))\n",
    "def what_to_show(tag):\n",
    "    fig1 = pt.histogram(final_df, x = 'continent',labels = {'continent': 'Continent'}, title = \"The distribution among continents\", color = tag)\n",
    "    return fig1"
   ]
  },
  {
   "cell_type": "code",
   "execution_count": null,
   "id": "34ead819",
   "metadata": {},
   "outputs": [
    {
     "name": "stdout",
     "output_type": "stream",
     "text": [
      "Dash is running on http://127.0.0.1:1000/\n",
      "\n",
      "Dash is running on http://127.0.0.1:1000/\n",
      "\n",
      "Dash is running on http://127.0.0.1:1000/\n",
      "\n",
      "Dash is running on http://127.0.0.1:1000/\n",
      "\n",
      "Dash is running on http://127.0.0.1:1000/\n",
      "\n",
      "Dash is running on http://127.0.0.1:1000/\n",
      "\n",
      "Dash is running on http://127.0.0.1:1000/\n",
      "\n",
      "Dash is running on http://127.0.0.1:1000/\n",
      "\n",
      "Dash is running on http://127.0.0.1:1000/\n",
      "\n",
      "Dash is running on http://127.0.0.1:1000/\n",
      "\n",
      "Dash is running on http://127.0.0.1:1000/\n",
      "\n",
      "Dash is running on http://127.0.0.1:1000/\n",
      "\n",
      "Dash is running on http://127.0.0.1:1000/\n",
      "\n",
      "Dash is running on http://127.0.0.1:1000/\n",
      "\n",
      "Dash is running on http://127.0.0.1:1000/\n",
      "\n",
      "Dash is running on http://127.0.0.1:1000/\n",
      "\n",
      "Dash is running on http://127.0.0.1:1000/\n",
      "\n",
      " * Serving Flask app \"__main__\" (lazy loading)\n",
      " * Environment: production\n",
      "\u001b[31m   WARNING: This is a development server. Do not use it in a production deployment.\u001b[0m\n",
      "\u001b[2m   Use a production WSGI server instead.\u001b[0m\n",
      " * Debug mode: off\n"
     ]
    },
    {
     "name": "stderr",
     "output_type": "stream",
     "text": [
      " * Running on http://127.0.0.1:1000/ (Press CTRL+C to quit)\n",
      "127.0.0.1 - - [22/Dec/2022 02:03:22] \"GET / HTTP/1.1\" 200 -\n",
      "127.0.0.1 - - [22/Dec/2022 02:03:22] \"GET /_dash-dependencies HTTP/1.1\" 200 -\n",
      "127.0.0.1 - - [22/Dec/2022 02:03:22] \"GET /_dash-layout HTTP/1.1\" 200 -\n",
      "127.0.0.1 - - [22/Dec/2022 02:03:22] \"GET /_dash-component-suites/dash/dcc/async-graph.js HTTP/1.1\" 304 -\n",
      "127.0.0.1 - - [22/Dec/2022 02:03:22] \"GET /_dash-component-suites/dash/dcc/async-dropdown.js HTTP/1.1\" 304 -\n",
      "127.0.0.1 - - [22/Dec/2022 02:03:22] \"GET /_dash-component-suites/dash/dcc/async-plotlyjs.js HTTP/1.1\" 304 -\n",
      "127.0.0.1 - - [22/Dec/2022 02:03:22] \"POST /_dash-update-component HTTP/1.1\" 200 -\n"
     ]
    }
   ],
   "source": [
    "if __name__ == '__main__':\n",
    "    app.run_server(debug = False, port = 1000)"
   ]
  },
  {
   "cell_type": "code",
   "execution_count": null,
   "id": "9e314957",
   "metadata": {},
   "outputs": [],
   "source": []
  },
  {
   "cell_type": "code",
   "execution_count": null,
   "id": "c4bf8b36",
   "metadata": {},
   "outputs": [],
   "source": []
  }
 ],
 "metadata": {
  "hide_input": false,
  "kernelspec": {
   "display_name": "Python 3 (ipykernel)",
   "language": "python",
   "name": "python3"
  },
  "language_info": {
   "codemirror_mode": {
    "name": "ipython",
    "version": 3
   },
   "file_extension": ".py",
   "mimetype": "text/x-python",
   "name": "python",
   "nbconvert_exporter": "python",
   "pygments_lexer": "ipython3",
   "version": "3.9.12"
  }
 },
 "nbformat": 4,
 "nbformat_minor": 5
}
